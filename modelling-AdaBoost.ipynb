{
 "cells": [
  {
   "cell_type": "code",
   "execution_count": 1,
   "id": "d78d8612",
   "metadata": {},
   "outputs": [],
   "source": [
    "import numpy as np\n",
    "import pandas as pd\n",
    "# library for splitting training-testing\n",
    "from sklearn.model_selection import train_test_split\n",
    "# library for classification\n",
    "from sklearn.metrics import accuracy_score\n",
    "\n",
    "from sklearn.ensemble import AdaBoostClassifier\n",
    "from sklearn.svm import SVC\n",
    "from sklearn.decomposition import PCA\n",
    "\n",
    "from sklearn.model_selection import GridSearchCV, PredefinedSplit\n",
    "from sklearn.preprocessing import StandardScaler\n",
    "from sklearn import pipeline\n",
    "\n",
    "from hyperopt import tpe,hp,Trials\n",
    "from hyperopt.fmin import fmin"
   ]
  },
  {
   "cell_type": "code",
   "execution_count": 2,
   "id": "2094530d",
   "metadata": {},
   "outputs": [],
   "source": [
    "x_train = pd.read_feather(\"Data/x_train__IterativeImputer_genFeats.ftr\")\n",
    "x_test = pd.read_feather(\"Data/x_test__IterativeImputer_genFeats.ftr\")\n",
    "\n",
    "y_train = pd.read_csv(\"Data/train_y.csv\")\n",
    "y_test = pd.read_csv(\"Data/Sample_Output.csv\", names = ['ID', 'Target'], header=None)"
   ]
  },
  {
   "cell_type": "code",
   "execution_count": 3,
   "id": "bfe67874",
   "metadata": {},
   "outputs": [],
   "source": [
    "x_train_1, x_val, y_train_1, y_val = train_test_split(x_train, y_train, test_size=0.15, random_state=59, stratify=y_train)"
   ]
  },
  {
   "cell_type": "code",
   "execution_count": 43,
   "id": "a0a56ae8",
   "metadata": {},
   "outputs": [
    {
     "name": "stdout",
     "output_type": "stream",
     "text": [
      "\r",
      "  0%|                                                                   | 0/10 [00:00<?, ?trial/s, best loss=?]"
     ]
    },
    {
     "name": "stderr",
     "output_type": "stream",
     "text": [
      "[Parallel(n_jobs=-1)]: Using backend ThreadingBackend with 8 concurrent workers.\n",
      "\n",
      "[Parallel(n_jobs=-1)]: Done  34 tasks      | elapsed:   35.4s\n",
      "\n",
      "[Parallel(n_jobs=-1)]: Done 150 out of 150 | elapsed:  2.4min finished\n",
      "\n",
      "[Parallel(n_jobs=8)]: Using backend ThreadingBackend with 8 concurrent workers.\n",
      "\n",
      "[Parallel(n_jobs=8)]: Done  34 tasks      | elapsed:    1.3s\n",
      "\n",
      "[Parallel(n_jobs=8)]: Done 150 out of 150 | elapsed:    4.2s finished\n",
      "\n",
      "[Parallel(n_jobs=8)]: Using backend ThreadingBackend with 8 concurrent workers.\n",
      "\n",
      "[Parallel(n_jobs=8)]: Done  34 tasks      | elapsed:    0.4s\n",
      "\n"
     ]
    },
    {
     "name": "stdout",
     "output_type": "stream",
     "text": [
      "0.8130313067197161                                                                                             \n",
      "0.8070078591455176                                                                                             \n",
      "{'max_depth': 10.78344775493478, 'min_samples_leaf': 2.0331725841312958, 'min_samples_split': 7.040339990441019, 'n_estimators': 150.34436925759098}\n",
      " 10%|███▉                                   | 1/10 [03:21<30:16, 201.80s/trial, best loss: -0.8070078591455176]"
     ]
    },
    {
     "name": "stderr",
     "output_type": "stream",
     "text": [
      "[Parallel(n_jobs=8)]: Done 150 out of 150 | elapsed:    1.1s finished\n",
      "\n",
      "[Parallel(n_jobs=-1)]: Using backend ThreadingBackend with 8 concurrent workers.\n",
      "\n",
      "[Parallel(n_jobs=-1)]: Done  34 tasks      | elapsed:   51.2s\n",
      "\n",
      "[Parallel(n_jobs=-1)]: Done 184 tasks      | elapsed:  3.9min\n",
      "\n",
      "[Parallel(n_jobs=-1)]: Done 261 out of 261 | elapsed:  5.7min finished\n",
      "\n",
      "[Parallel(n_jobs=8)]: Using backend ThreadingBackend with 8 concurrent workers.\n",
      "\n",
      "[Parallel(n_jobs=8)]: Done  34 tasks      | elapsed:    1.2s\n",
      "\n",
      "[Parallel(n_jobs=8)]: Done 184 tasks      | elapsed:    6.2s\n",
      "\n",
      "[Parallel(n_jobs=8)]: Done 261 out of 261 | elapsed:    8.9s finished\n",
      "\n",
      "[Parallel(n_jobs=8)]: Using backend ThreadingBackend with 8 concurrent workers.\n",
      "\n",
      "[Parallel(n_jobs=8)]: Done  34 tasks      | elapsed:    0.3s\n",
      "\n",
      "[Parallel(n_jobs=8)]: Done 184 tasks      | elapsed:    1.4s\n",
      "\n"
     ]
    },
    {
     "name": "stdout",
     "output_type": "stream",
     "text": [
      "0.8496369938165896                                                                                             \n",
      "0.8107558435143891                                                                                             \n",
      "{'max_depth': 15.20472120594146, 'min_samples_leaf': 10.979817187857808, 'min_samples_split': 5.458018298617794, 'n_estimators': 261.1145953157902}\n",
      " 20%|███████▊                               | 2/10 [09:56<42:04, 315.56s/trial, best loss: -0.8107558435143891]"
     ]
    },
    {
     "name": "stderr",
     "output_type": "stream",
     "text": [
      "[Parallel(n_jobs=8)]: Done 261 out of 261 | elapsed:    2.0s finished\n",
      "\n",
      "[Parallel(n_jobs=-1)]: Using backend ThreadingBackend with 8 concurrent workers.\n",
      "\n",
      "[Parallel(n_jobs=-1)]: Done  34 tasks      | elapsed:   18.2s\n",
      "\n",
      "[Parallel(n_jobs=-1)]: Done 184 tasks      | elapsed:  1.5min\n",
      "\n",
      "[Parallel(n_jobs=-1)]: Done 377 out of 377 | elapsed:  3.0min finished\n",
      "\n",
      "[Parallel(n_jobs=8)]: Using backend ThreadingBackend with 8 concurrent workers.\n",
      "\n",
      "[Parallel(n_jobs=8)]: Done  34 tasks      | elapsed:    0.4s\n",
      "\n",
      "[Parallel(n_jobs=8)]: Done 184 tasks      | elapsed:    2.0s\n",
      "\n",
      "[Parallel(n_jobs=8)]: Done 377 out of 377 | elapsed:    3.9s finished\n",
      "\n",
      "[Parallel(n_jobs=8)]: Using backend ThreadingBackend with 8 concurrent workers.\n",
      "\n",
      "[Parallel(n_jobs=8)]: Done  34 tasks      | elapsed:    0.1s\n",
      "\n",
      "[Parallel(n_jobs=8)]: Done 184 tasks      | elapsed:    0.5s\n",
      "\n"
     ]
    },
    {
     "name": "stdout",
     "output_type": "stream",
     "text": [
      "0.7922302320573427                                                                                             \n",
      "0.7913476763949621                                                                                             \n",
      "{'max_depth': 5.975916648724171, 'min_samples_leaf': 7.638311366130577, 'min_samples_split': 5.433080801693494, 'n_estimators': 377.1795640267861}\n",
      " 30%|███████████▋                           | 3/10 [13:32<31:28, 269.80s/trial, best loss: -0.8107558435143891]"
     ]
    },
    {
     "name": "stderr",
     "output_type": "stream",
     "text": [
      "[Parallel(n_jobs=8)]: Done 377 out of 377 | elapsed:    1.0s finished\n",
      "\n",
      "[Parallel(n_jobs=-1)]: Using backend ThreadingBackend with 8 concurrent workers.\n",
      "\n",
      "[Parallel(n_jobs=-1)]: Done  34 tasks      | elapsed:   59.7s\n",
      "\n",
      "[Parallel(n_jobs=-1)]: Done 184 tasks      | elapsed:  4.9min\n",
      "\n",
      "[Parallel(n_jobs=-1)]: Done 367 out of 367 | elapsed: 10.8min finished\n",
      "\n",
      "[Parallel(n_jobs=8)]: Using backend ThreadingBackend with 8 concurrent workers.\n",
      "\n",
      "[Parallel(n_jobs=8)]: Done  34 tasks      | elapsed:    1.4s\n",
      "\n",
      "[Parallel(n_jobs=8)]: Done 184 tasks      | elapsed:    6.8s\n",
      "\n",
      "[Parallel(n_jobs=8)]: Done 367 out of 367 | elapsed:   13.6s finished\n",
      "\n",
      "[Parallel(n_jobs=8)]: Using backend ThreadingBackend with 8 concurrent workers.\n",
      "\n",
      "[Parallel(n_jobs=8)]: Done  34 tasks      | elapsed:    0.3s\n",
      "\n",
      "[Parallel(n_jobs=8)]: Done 184 tasks      | elapsed:    1.4s\n",
      "\n"
     ]
    },
    {
     "name": "stdout",
     "output_type": "stream",
     "text": [
      "0.9022857084260503                                                                                             \n",
      "0.8114240887894592                                                                                             \n",
      "{'max_depth': 19.025401069439916, 'min_samples_leaf': 8.310934222910316, 'min_samples_split': 2.7651519940803375, 'n_estimators': 367.55977564367356}\n",
      " 40%|███████████████▌                       | 4/10 [25:13<43:59, 439.91s/trial, best loss: -0.8114240887894592]"
     ]
    },
    {
     "name": "stderr",
     "output_type": "stream",
     "text": [
      "[Parallel(n_jobs=8)]: Done 367 out of 367 | elapsed:    2.8s finished\n",
      "\n",
      "[Parallel(n_jobs=-1)]: Using backend ThreadingBackend with 8 concurrent workers.\n",
      "\n",
      "[Parallel(n_jobs=-1)]: Done  34 tasks      | elapsed:   38.8s\n",
      "\n",
      "[Parallel(n_jobs=-1)]: Done 184 tasks      | elapsed:  3.4min\n",
      "\n",
      "[Parallel(n_jobs=-1)]: Done 226 out of 226 | elapsed:  4.1min finished\n",
      "\n",
      "[Parallel(n_jobs=8)]: Using backend ThreadingBackend with 8 concurrent workers.\n",
      "\n",
      "[Parallel(n_jobs=8)]: Done  34 tasks      | elapsed:    0.8s\n",
      "\n",
      "[Parallel(n_jobs=8)]: Done 184 tasks      | elapsed:    4.0s\n",
      "\n",
      "[Parallel(n_jobs=8)]: Done 226 out of 226 | elapsed:    4.8s finished\n",
      "\n",
      "[Parallel(n_jobs=8)]: Using backend ThreadingBackend with 8 concurrent workers.\n",
      "\n",
      "[Parallel(n_jobs=8)]: Done  34 tasks      | elapsed:    0.2s\n",
      "\n"
     ]
    },
    {
     "name": "stdout",
     "output_type": "stream",
     "text": [
      "0.8177996082814631                                                                                             \n",
      "0.8083879309092494                                                                                             \n",
      "{'max_depth': 11.40364531556254, 'min_samples_leaf': 7.122110595752961, 'min_samples_split': 12.999964841749934, 'n_estimators': 226.44982689120218}\n",
      " 40%|███████████████▌                       | 4/10 [29:53<43:59, 439.91s/trial, best loss: -0.8114240887894592]"
     ]
    },
    {
     "name": "stderr",
     "output_type": "stream",
     "text": [
      "[Parallel(n_jobs=8)]: Done 184 tasks      | elapsed:    0.8s\n",
      "\n",
      "[Parallel(n_jobs=8)]: Done 226 out of 226 | elapsed:    1.0s finished\n",
      "\n"
     ]
    },
    {
     "name": "stdout",
     "output_type": "stream",
     "text": [
      "\r",
      " 50%|███████████████████▌                   | 5/10 [29:53<31:52, 382.52s/trial, best loss: -0.8114240887894592]"
     ]
    },
    {
     "name": "stderr",
     "output_type": "stream",
     "text": [
      "[Parallel(n_jobs=-1)]: Using backend ThreadingBackend with 8 concurrent workers.\n",
      "\n",
      "[Parallel(n_jobs=-1)]: Done  34 tasks      | elapsed:   42.1s\n",
      "\n",
      "[Parallel(n_jobs=-1)]: Done 184 tasks      | elapsed:  3.5min\n",
      "\n",
      "[Parallel(n_jobs=-1)]: Done 361 out of 361 | elapsed:  9.1min finished\n",
      "\n",
      "[Parallel(n_jobs=8)]: Using backend ThreadingBackend with 8 concurrent workers.\n",
      "\n",
      "[Parallel(n_jobs=8)]: Done  34 tasks      | elapsed:    0.9s\n",
      "\n",
      "[Parallel(n_jobs=8)]: Done 184 tasks      | elapsed:    4.8s\n",
      "\n",
      "[Parallel(n_jobs=8)]: Done 361 out of 361 | elapsed:    9.4s finished\n",
      "\n",
      "[Parallel(n_jobs=8)]: Using backend ThreadingBackend with 8 concurrent workers.\n",
      "\n",
      "[Parallel(n_jobs=8)]: Done  34 tasks      | elapsed:    0.3s\n",
      "\n",
      "[Parallel(n_jobs=8)]: Done 184 tasks      | elapsed:    1.1s\n",
      "\n"
     ]
    },
    {
     "name": "stdout",
     "output_type": "stream",
     "text": [
      "0.8241163260492828                                                                                             \n",
      "0.8089109054723477                                                                                             \n",
      "{'max_depth': 12.748869647827348, 'min_samples_leaf': 7.676124172212585, 'min_samples_split': 4.89078728476111, 'n_estimators': 361.41330105764354}\n",
      " 60%|███████████████████████▍               | 6/10 [39:51<30:22, 455.62s/trial, best loss: -0.8114240887894592]"
     ]
    },
    {
     "name": "stderr",
     "output_type": "stream",
     "text": [
      "[Parallel(n_jobs=8)]: Done 361 out of 361 | elapsed:    2.2s finished\n",
      "\n",
      "[Parallel(n_jobs=-1)]: Using backend ThreadingBackend with 8 concurrent workers.\n",
      "\n",
      "[Parallel(n_jobs=-1)]: Done  34 tasks      | elapsed:   48.4s\n",
      "\n",
      "[Parallel(n_jobs=-1)]: Done 184 tasks      | elapsed:  4.0min\n",
      "\n",
      "[Parallel(n_jobs=-1)]: Done 278 out of 278 | elapsed:  6.0min finished\n",
      "\n",
      "[Parallel(n_jobs=8)]: Using backend ThreadingBackend with 8 concurrent workers.\n",
      "\n",
      "[Parallel(n_jobs=8)]: Done  34 tasks      | elapsed:    2.2s\n",
      "\n",
      "[Parallel(n_jobs=8)]: Done 184 tasks      | elapsed:   10.4s\n",
      "\n",
      "[Parallel(n_jobs=8)]: Done 278 out of 278 | elapsed:   14.8s finished\n",
      "\n",
      "[Parallel(n_jobs=8)]: Using backend ThreadingBackend with 8 concurrent workers.\n",
      "\n",
      "[Parallel(n_jobs=8)]: Done  34 tasks      | elapsed:    0.7s\n",
      "\n",
      "[Parallel(n_jobs=8)]: Done 184 tasks      | elapsed:    2.2s\n",
      "\n"
     ]
    },
    {
     "name": "stdout",
     "output_type": "stream",
     "text": [
      "0.805181554363765                                                                                              \n",
      "0.8035794703429842                                                                                             \n",
      "{'max_depth': 8.033177804010379, 'min_samples_leaf': 6.406001950882415, 'min_samples_split': 9.601204532179857, 'n_estimators': 278.5473151643545}\n",
      " 70%|███████████████████████████▎           | 7/10 [47:54<23:13, 464.58s/trial, best loss: -0.8114240887894592]"
     ]
    },
    {
     "name": "stderr",
     "output_type": "stream",
     "text": [
      "[Parallel(n_jobs=8)]: Done 278 out of 278 | elapsed:    3.0s finished\n",
      "\n",
      "[Parallel(n_jobs=-1)]: Using backend ThreadingBackend with 8 concurrent workers.\n",
      "\n",
      "[Parallel(n_jobs=-1)]: Done  34 tasks      | elapsed:   53.0s\n",
      "\n",
      "[Parallel(n_jobs=-1)]: Done 184 tasks      | elapsed:  4.2min\n",
      "\n",
      "[Parallel(n_jobs=-1)]: Done 250 out of 250 | elapsed:  5.7min finished\n",
      "\n",
      "[Parallel(n_jobs=8)]: Using backend ThreadingBackend with 8 concurrent workers.\n",
      "\n",
      "[Parallel(n_jobs=8)]: Done  34 tasks      | elapsed:    1.2s\n",
      "\n",
      "[Parallel(n_jobs=8)]: Done 184 tasks      | elapsed:    5.5s\n",
      "\n",
      "[Parallel(n_jobs=8)]: Done 250 out of 250 | elapsed:    7.3s finished\n",
      "\n",
      "[Parallel(n_jobs=8)]: Using backend ThreadingBackend with 8 concurrent workers.\n",
      "\n",
      "[Parallel(n_jobs=8)]: Done  34 tasks      | elapsed:    0.4s\n",
      "\n",
      "[Parallel(n_jobs=8)]: Done 184 tasks      | elapsed:    1.4s\n",
      "\n"
     ]
    },
    {
     "name": "stdout",
     "output_type": "stream",
     "text": [
      "0.8189737384509685                                                                                             \n",
      "0.8085913099060098                                                                                             \n",
      "{'max_depth': 11.230484750796508, 'min_samples_leaf': 2.0968233537048198, 'min_samples_split': 8.573225686975643, 'n_estimators': 250.47479244532585}\n",
      " 80%|███████████████████████████████▏       | 8/10 [55:09<15:10, 455.22s/trial, best loss: -0.8114240887894592]"
     ]
    },
    {
     "name": "stderr",
     "output_type": "stream",
     "text": [
      "[Parallel(n_jobs=8)]: Done 250 out of 250 | elapsed:    1.8s finished\n",
      "\n",
      "[Parallel(n_jobs=-1)]: Using backend ThreadingBackend with 8 concurrent workers.\n",
      "\n",
      "[Parallel(n_jobs=-1)]: Done  34 tasks      | elapsed:  1.1min\n",
      "\n",
      "[Parallel(n_jobs=-1)]: Done 184 tasks      | elapsed:  6.6min\n",
      "\n",
      "[Parallel(n_jobs=-1)]: Done 207 out of 207 | elapsed:  7.4min finished\n",
      "\n",
      "[Parallel(n_jobs=8)]: Using backend ThreadingBackend with 8 concurrent workers.\n",
      "\n",
      "[Parallel(n_jobs=8)]: Done  34 tasks      | elapsed:    1.7s\n",
      "\n",
      "[Parallel(n_jobs=8)]: Done 184 tasks      | elapsed:    6.9s\n",
      "\n",
      "[Parallel(n_jobs=8)]: Done 207 out of 207 | elapsed:    7.5s finished\n",
      "\n",
      "[Parallel(n_jobs=8)]: Using backend ThreadingBackend with 8 concurrent workers.\n",
      "\n",
      "[Parallel(n_jobs=8)]: Done  34 tasks      | elapsed:    0.3s\n",
      "\n"
     ]
    },
    {
     "name": "stdout",
     "output_type": "stream",
     "text": [
      "0.8184071821901373                                                                                             \n",
      "0.8083152955532635                                                                                             \n",
      "{'max_depth': 11.671683727025696, 'min_samples_leaf': 2.2638609033162256, 'min_samples_split': 13.350940751018147, 'n_estimators': 207.8221526304324}\n",
      " 90%|█████████████████████████████████▎   | 9/10 [1:04:20<08:05, 485.21s/trial, best loss: -0.8114240887894592]"
     ]
    },
    {
     "name": "stderr",
     "output_type": "stream",
     "text": [
      "[Parallel(n_jobs=8)]: Done 184 tasks      | elapsed:    1.3s\n",
      "\n",
      "[Parallel(n_jobs=8)]: Done 207 out of 207 | elapsed:    1.4s finished\n",
      "\n",
      "[Parallel(n_jobs=-1)]: Using backend ThreadingBackend with 8 concurrent workers.\n",
      "\n",
      "[Parallel(n_jobs=-1)]: Done  34 tasks      | elapsed:  1.4min\n",
      "\n",
      "[Parallel(n_jobs=-1)]: Done 184 tasks      | elapsed:  9.6min\n",
      "\n",
      "[Parallel(n_jobs=-1)]: Done 273 out of 273 | elapsed: 13.2min finished\n",
      "\n",
      "[Parallel(n_jobs=8)]: Using backend ThreadingBackend with 8 concurrent workers.\n",
      "\n",
      "[Parallel(n_jobs=8)]: Done  34 tasks      | elapsed:    2.3s\n",
      "\n",
      "[Parallel(n_jobs=8)]: Done 184 tasks      | elapsed:   11.0s\n",
      "\n",
      "[Parallel(n_jobs=8)]: Done 273 out of 273 | elapsed:   16.0s finished\n",
      "\n",
      "[Parallel(n_jobs=8)]: Using backend ThreadingBackend with 8 concurrent workers.\n",
      "\n",
      "[Parallel(n_jobs=8)]: Done  34 tasks      | elapsed:    0.5s\n",
      "\n",
      "[Parallel(n_jobs=8)]: Done 184 tasks      | elapsed:    2.1s\n",
      "\n"
     ]
    },
    {
     "name": "stdout",
     "output_type": "stream",
     "text": [
      "0.932256790984321                                                                                              \n",
      "0.8114821970742478                                                                                             \n",
      "{'max_depth': 17.281336098276817, 'min_samples_leaf': 1.0385224821584806, 'min_samples_split': 4.981200088864633, 'n_estimators': 273.42406624122805}\n",
      "100%|████████████████████████████████████| 10/10 [1:18:54<00:00, 473.50s/trial, best loss: -0.8114821970742478]\n"
     ]
    },
    {
     "name": "stderr",
     "output_type": "stream",
     "text": [
      "[Parallel(n_jobs=8)]: Done 273 out of 273 | elapsed:    3.0s finished\n",
      "\n"
     ]
    }
   ],
   "source": [
    "def objective(params):\n",
    "    est=int(params['n_estimators'])\n",
    "    md=int(params['max_depth'])\n",
    "    msl=int(params['min_samples_leaf'])\n",
    "    mss=int(params['min_samples_split'])\n",
    "    model=RandomForestClassifier(n_estimators=est,max_depth=md,min_samples_leaf=msl,min_samples_split=mss, n_jobs=-1, verbose=1)\n",
    "    model.fit(x_train_1, y_train_1.values.reshape(-1))\n",
    "    preds_tr = model.predict(x_train_1,)\n",
    "    preds_val = model.predict(x_val)\n",
    "    val_score = accuracy_score(y_val, preds_val)\n",
    "    tr_score = accuracy_score(y_train_1, preds_tr)\n",
    "    print(tr_score, val_score, params)\n",
    "    return -1.0*val_score\n",
    "\n",
    "def optimize(trial):\n",
    "    params={'n_estimators':hp.randint('n_estimators',100,300),\n",
    "           'max_depth':hp.randint('max_depth',7,16),\n",
    "           'min_samples_leaf':hp.randint('min_samples_leaf',2,15),\n",
    "           'min_samples_split':hp.randint('min_samples_split',2,15)}\n",
    "    best=fmin(fn=objective,space=params,algo=tpe.suggest,trials=trial,max_evals=10,rstate=np.random.default_rng(59))\n",
    "    return best\n",
    "\n",
    "trial=Trials()\n",
    "best=optimize(trial)"
   ]
  },
  {
   "cell_type": "code",
   "execution_count": 18,
   "id": "fc1c68f5",
   "metadata": {},
   "outputs": [],
   "source": [
    "# bestParams = {'max_depth': 15, 'min_samples_leaf': 11, 'min_samples_split': 6, 'n_estimators': 261}\n",
    "bestModel = AdaBoostClassifier(\n",
    "                               random_state=59,\n",
    "                              n_estimators=125,\n",
    "                            learning_rate=1.2)"
   ]
  },
  {
   "cell_type": "code",
   "execution_count": 19,
   "id": "7e9f9be3",
   "metadata": {
    "scrolled": true
   },
   "outputs": [
    {
     "name": "stdout",
     "output_type": "stream",
     "text": [
      "CPU times: user 45min 37s, sys: 49.2 s, total: 46min 26s\n",
      "Wall time: 46min 18s\n"
     ]
    },
    {
     "data": {
      "text/plain": [
       "AdaBoostClassifier(learning_rate=1.2, n_estimators=125, random_state=59)"
      ]
     },
     "execution_count": 19,
     "metadata": {},
     "output_type": "execute_result"
    }
   ],
   "source": [
    "%%time\n",
    "\n",
    "bestModel.fit(x_train_1, y_train_1.values.reshape(-1))"
   ]
  },
  {
   "cell_type": "code",
   "execution_count": 20,
   "id": "839f8e9e",
   "metadata": {},
   "outputs": [],
   "source": [
    "preds_tr = bestModel.predict(x_train_1,)\n",
    "preds_val = bestModel.predict(x_val)"
   ]
  },
  {
   "cell_type": "code",
   "execution_count": 21,
   "id": "4b82c0d2",
   "metadata": {},
   "outputs": [
    {
     "data": {
      "text/plain": [
       "0.8118315405203088"
      ]
     },
     "execution_count": 21,
     "metadata": {},
     "output_type": "execute_result"
    }
   ],
   "source": [
    "accuracy_score(y_train_1, preds_tr)"
   ]
  },
  {
   "cell_type": "code",
   "execution_count": 22,
   "id": "e1c1b777",
   "metadata": {
    "scrolled": false
   },
   "outputs": [
    {
     "data": {
      "text/plain": [
       "0.8126734169124162"
      ]
     },
     "execution_count": 22,
     "metadata": {},
     "output_type": "execute_result"
    }
   ],
   "source": [
    "accuracy_score(y_val, preds_val)"
   ]
  },
  {
   "cell_type": "code",
   "execution_count": 16,
   "id": "b7ae3231",
   "metadata": {},
   "outputs": [],
   "source": [
    "probs_tr = bestModel.predict_proba(x_train_1)\n",
    "probs_val = bestModel.predict_proba(x_val)"
   ]
  },
  {
   "cell_type": "code",
   "execution_count": 17,
   "id": "9ae5d6b5",
   "metadata": {},
   "outputs": [],
   "source": [
    "np.save(\"Preds/ADA_val\", probs_val)\n",
    "np.save(\"Preds/ADA_tr\", probs_tr)\n",
    "\n",
    "probs_test = bestModel.predict_proba(x_test)\n",
    "np.save(\"Preds/ADA_test\", probs_test)"
   ]
  },
  {
   "cell_type": "code",
   "execution_count": null,
   "id": "f296e1ef",
   "metadata": {},
   "outputs": [],
   "source": []
  }
 ],
 "metadata": {
  "kernelspec": {
   "display_name": "Python 3 (ipykernel)",
   "language": "python",
   "name": "python3"
  },
  "language_info": {
   "codemirror_mode": {
    "name": "ipython",
    "version": 3
   },
   "file_extension": ".py",
   "mimetype": "text/x-python",
   "name": "python",
   "nbconvert_exporter": "python",
   "pygments_lexer": "ipython3",
   "version": "3.9.12"
  }
 },
 "nbformat": 4,
 "nbformat_minor": 5
}
