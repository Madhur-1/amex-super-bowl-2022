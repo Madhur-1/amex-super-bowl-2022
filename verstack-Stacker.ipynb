{
 "cells": [
  {
   "cell_type": "code",
   "execution_count": 1,
   "id": "fdeb2c2c",
   "metadata": {},
   "outputs": [
    {
     "name": "stderr",
     "output_type": "stream",
     "text": [
      "/home/jindalmadhur26/anaconda3/lib/python3.9/site-packages/xgboost/compat.py:36: FutureWarning: pandas.Int64Index is deprecated and will be removed from pandas in a future version. Use pandas.Index with the appropriate dtype instead.\n",
      "  from pandas import MultiIndex, Int64Index\n",
      "2022-10-15 09:53:40.257108: W tensorflow/stream_executor/platform/default/dso_loader.cc:64] Could not load dynamic library 'libcudart.so.11.0'; dlerror: libcudart.so.11.0: cannot open shared object file: No such file or directory\n",
      "2022-10-15 09:53:40.257159: I tensorflow/stream_executor/cuda/cudart_stub.cc:29] Ignore above cudart dlerror if you do not have a GPU set up on your machine.\n"
     ]
    }
   ],
   "source": [
    "import numpy as np\n",
    "import pandas as pd\n",
    "from verstack import Stacker"
   ]
  },
  {
   "cell_type": "code",
   "execution_count": 2,
   "id": "2200b344",
   "metadata": {},
   "outputs": [],
   "source": [
    "# x_train = pd.read_csv(\"Data/train_allx.csv\")\n",
    "# x_test = pd.read_csv(\"Data/val_allx.csv\")\n",
    "# x_train.drop('ID', axis=1 , inplace=True)\n",
    "# x_test.drop('ID', axis=1 , inplace=True)\n",
    "\n",
    "# x_train = pd.read_csv(\"Data/train_x_null<50_notImputed.csv\")\n",
    "# x_test = pd.read_csv(\"Data/test_x_null<50_notImputed.csv\")\n",
    "\n",
    "# x_train = pd.read_csv(\"Data/train__mean_mode_Imputed.csv\")\n",
    "# x_test = pd.read_csv(\"Data/test__mean_mode_Imputed.csv\")\n",
    "\n",
    "# x_train = pd.read_csv(\"Data/train__Mean_MissingIndicator_Imputed.csv\")\n",
    "# x_test = pd.read_csv(\"Data/test__Mean_MissingIndicator_Imputed.csv\")\n",
    "\n",
    "x_train = pd.read_feather(\"Data/x_train__IterativeImputer_genFeats.ftr\")\n",
    "x_test = pd.read_feather(\"Data/x_test__IterativeImputer_genFeats.ftr\")\n",
    "\n",
    "# x_train = pd.read_feather(\"Data/x_train__groupbyInputed.ftr\")\n",
    "# x_test = pd.read_feather(\"Data/x_test__groupbyInputed.ftr\")\n",
    "\n",
    "y_train = pd.read_csv(\"Data/train_y.csv\")\n",
    "y_test = pd.read_csv(\"Data/Sample_Output.csv\", names = ['ID', 'Target'], header=None)"
   ]
  },
  {
   "cell_type": "code",
   "execution_count": 3,
   "id": "c0a4f3c3",
   "metadata": {},
   "outputs": [],
   "source": [
    "stacker = Stacker(objective='multiclass', auto=True)"
   ]
  },
  {
   "cell_type": "code",
   "execution_count": 4,
   "id": "5fb62b47",
   "metadata": {},
   "outputs": [
    {
     "data": {
      "text/html": [
       "<div>\n",
       "<style scoped>\n",
       "    .dataframe tbody tr th:only-of-type {\n",
       "        vertical-align: middle;\n",
       "    }\n",
       "\n",
       "    .dataframe tbody tr th {\n",
       "        vertical-align: top;\n",
       "    }\n",
       "\n",
       "    .dataframe thead th {\n",
       "        text-align: right;\n",
       "    }\n",
       "</style>\n",
       "<table border=\"1\" class=\"dataframe\">\n",
       "  <thead>\n",
       "    <tr style=\"text-align: right;\">\n",
       "      <th></th>\n",
       "      <th>Default_Flag</th>\n",
       "    </tr>\n",
       "  </thead>\n",
       "  <tbody>\n",
       "    <tr>\n",
       "      <th>0</th>\n",
       "      <td>0</td>\n",
       "    </tr>\n",
       "    <tr>\n",
       "      <th>1</th>\n",
       "      <td>0</td>\n",
       "    </tr>\n",
       "    <tr>\n",
       "      <th>2</th>\n",
       "      <td>0</td>\n",
       "    </tr>\n",
       "    <tr>\n",
       "      <th>3</th>\n",
       "      <td>0</td>\n",
       "    </tr>\n",
       "    <tr>\n",
       "      <th>4</th>\n",
       "      <td>0</td>\n",
       "    </tr>\n",
       "    <tr>\n",
       "      <th>...</th>\n",
       "      <td>...</td>\n",
       "    </tr>\n",
       "    <tr>\n",
       "      <th>458908</th>\n",
       "      <td>0</td>\n",
       "    </tr>\n",
       "    <tr>\n",
       "      <th>458909</th>\n",
       "      <td>0</td>\n",
       "    </tr>\n",
       "    <tr>\n",
       "      <th>458910</th>\n",
       "      <td>0</td>\n",
       "    </tr>\n",
       "    <tr>\n",
       "      <th>458911</th>\n",
       "      <td>0</td>\n",
       "    </tr>\n",
       "    <tr>\n",
       "      <th>458912</th>\n",
       "      <td>0</td>\n",
       "    </tr>\n",
       "  </tbody>\n",
       "</table>\n",
       "<p>458913 rows × 1 columns</p>\n",
       "</div>"
      ],
      "text/plain": [
       "        Default_Flag\n",
       "0                  0\n",
       "1                  0\n",
       "2                  0\n",
       "3                  0\n",
       "4                  0\n",
       "...              ...\n",
       "458908             0\n",
       "458909             0\n",
       "458910             0\n",
       "458911             0\n",
       "458912             0\n",
       "\n",
       "[458913 rows x 1 columns]"
      ]
     },
     "execution_count": 4,
     "metadata": {},
     "output_type": "execute_result"
    }
   ],
   "source": [
    "y_train"
   ]
  },
  {
   "cell_type": "code",
   "execution_count": null,
   "id": "ef8e2aaa",
   "metadata": {},
   "outputs": [
    {
     "name": "stdout",
     "output_type": "stream",
     "text": [
      "\n",
      " * Initiating Stacker.fit_transform\n",
      "\n",
      "   - Training/predicting with layer_1 models\n",
      "     . Optimising model hyperparameters\n",
      "     .. fold 2 trained/predicted\n",
      "     .. fold 4 trained/predicted\n",
      "     . Optimising model hyperparameters\n",
      "[11:41:20] WARNING: ../src/learner.cc:1115: Starting in XGBoost 1.3.0, the default evaluation metric used with the objective 'multi:softprob' was changed from 'merror' to 'mlogloss'. Explicitly set eval_metric if you'd like to restore the old behavior.\n",
      "[12:01:19] WARNING: ../src/learner.cc:1115: Starting in XGBoost 1.3.0, the default evaluation metric used with the objective 'multi:softprob' was changed from 'merror' to 'mlogloss'. Explicitly set eval_metric if you'd like to restore the old behavior.\n",
      "     .. Model not in optimisation list XGBClassifier(base_score=None, booster=None, colsample_bylevel=None,\n",
      "              colsample_bynode=None, colsample_bytree=None,\n",
      "              enable_categorical=False, gamma=None, gpu_id=None,\n",
      "              importance_type=None, interaction_constraints=None,\n",
      "              learning_rate=None, max_delta_step=None, max_depth=10,\n",
      "              min_child_weight=None, missing=nan, monotone_constraints=None,\n",
      "              n_estimators=100, n_jobs=-1, num_parallel_tree=None,\n",
      "              predictor=None, random_state=None, reg_alpha=None,\n",
      "              reg_lambda=None, scale_pos_weight=None, subsample=None,\n",
      "              tree_method=None, validate_parameters=None, verbosity=None)\n",
      "[12:21:25] WARNING: ../src/learner.cc:1115: Starting in XGBoost 1.3.0, the default evaluation metric used with the objective 'multi:softprob' was changed from 'merror' to 'mlogloss'. Explicitly set eval_metric if you'd like to restore the old behavior.\n",
      "[13:00:53] WARNING: ../src/learner.cc:1115: Starting in XGBoost 1.3.0, the default evaluation metric used with the objective 'multi:softprob' was changed from 'merror' to 'mlogloss'. Explicitly set eval_metric if you'd like to restore the old behavior.\n",
      "     .. fold 2 trained/predicted\n",
      "[13:39:04] WARNING: ../src/learner.cc:1115: Starting in XGBoost 1.3.0, the default evaluation metric used with the objective 'multi:softprob' was changed from 'merror' to 'mlogloss'. Explicitly set eval_metric if you'd like to restore the old behavior.\n"
     ]
    }
   ],
   "source": [
    "X_with_stacked_feats = stacker.fit_transform(x_train, y_train['Default_Flag'])"
   ]
  },
  {
   "cell_type": "code",
   "execution_count": null,
   "id": "e2c269ae",
   "metadata": {},
   "outputs": [],
   "source": []
  }
 ],
 "metadata": {
  "kernelspec": {
   "display_name": "Python 3 (ipykernel)",
   "language": "python",
   "name": "python3"
  },
  "language_info": {
   "codemirror_mode": {
    "name": "ipython",
    "version": 3
   },
   "file_extension": ".py",
   "mimetype": "text/x-python",
   "name": "python",
   "nbconvert_exporter": "python",
   "pygments_lexer": "ipython3",
   "version": "3.9.12"
  }
 },
 "nbformat": 4,
 "nbformat_minor": 5
}
