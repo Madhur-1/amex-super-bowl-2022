{
 "cells": [
  {
   "cell_type": "code",
   "execution_count": 1,
   "id": "12ee7738",
   "metadata": {},
   "outputs": [],
   "source": [
    "import numpy as np\n",
    "import pandas as pd\n",
    "# library for splitting training-testing\n",
    "from sklearn.model_selection import train_test_split\n",
    "# library for classification\n",
    "from sklearn.metrics import accuracy_score\n",
    "\n",
    "import os\n",
    "os.environ['KMP_DUPLICATE_LIB_OK']='True'\n",
    "from sklearn.linear_model import LogisticRegression\n",
    "\n",
    "\n",
    "from sklearn.model_selection import GridSearchCV, PredefinedSplit\n",
    "from sklearn.preprocessing import StandardScaler\n",
    "from sklearn import pipeline"
   ]
  },
  {
   "cell_type": "code",
   "execution_count": 17,
   "id": "a3715e40",
   "metadata": {},
   "outputs": [],
   "source": [
    "x_train = pd.read_feather(\"Data/x_train__IterativeImputer_genFeats.ftr\")\n",
    "x_test = pd.read_feather(\"Data/x_test__IterativeImputer_genFeats.ftr\")\n",
    "\n",
    "x_tr = pd.read_csv(\"Preds/preds_tr.csv\")\n",
    "x_val_1 = pd.read_csv(\"Preds/preds_val.csv\")\n",
    "x_test_1 = pd.read_csv(\"Preds/preds_test.csv\")\n",
    "\n",
    "y_train = pd.read_csv(\"Data/train_y.csv\")\n",
    "y_test = pd.read_csv(\"Data/Sample_Output.csv\", names = ['ID', 'Target'], header=None)"
   ]
  },
  {
   "cell_type": "code",
   "execution_count": null,
   "id": "b48026d3",
   "metadata": {},
   "outputs": [],
   "source": []
  },
  {
   "cell_type": "markdown",
   "id": "6baaa4bb",
   "metadata": {},
   "source": [
    "# Test Train Split"
   ]
  },
  {
   "cell_type": "code",
   "execution_count": 18,
   "id": "359f141a",
   "metadata": {},
   "outputs": [],
   "source": [
    "# scaler = StandardScaler().fit(x_train)\n",
    "# x_train = scaler.transform(x_train)"
   ]
  },
  {
   "cell_type": "code",
   "execution_count": 19,
   "id": "bfe67874",
   "metadata": {},
   "outputs": [],
   "source": [
    "x_train_1, x_val, y_train_1, y_val = train_test_split(x_train, y_train, test_size=0.15, random_state=59, stratify=y_train)"
   ]
  },
  {
   "cell_type": "code",
   "execution_count": 30,
   "id": "d15d6c54",
   "metadata": {},
   "outputs": [],
   "source": [
    "x_train_1 = pd.concat([x_train_1.reset_index(drop=True), x_tr], axis=1)\n",
    "x_val = pd.concat([x_val.reset_index(drop=True), x_val_1], axis=1)\n",
    "x_test = pd.concat([x_test.reset_index(drop=True), x_test_1], axis=1)"
   ]
  },
  {
   "cell_type": "code",
   "execution_count": 7,
   "id": "64135168",
   "metadata": {},
   "outputs": [],
   "source": [
    "split_ind = [-1]*(len(x_train))\n",
    "for ind in list(x_val.index.values):\n",
    "    split_ind[ind] = 0"
   ]
  },
  {
   "cell_type": "code",
   "execution_count": 8,
   "id": "e70fe741",
   "metadata": {},
   "outputs": [],
   "source": [
    "ps = PredefinedSplit(split_ind)"
   ]
  },
  {
   "cell_type": "code",
   "execution_count": 31,
   "id": "25e76d61",
   "metadata": {},
   "outputs": [],
   "source": [
    "model = LogisticRegression(multi_class='multinomial',\n",
    "                          random_state=59, n_jobs=-1,verbose=True,\n",
    "                          warm_start=True,C=1, max_iter=1000, penalty='none')"
   ]
  },
  {
   "cell_type": "code",
   "execution_count": 32,
   "id": "9679f7ac",
   "metadata": {},
   "outputs": [],
   "source": [
    "scl = StandardScaler()\n",
    "\n",
    "pipe = pipeline.Pipeline(steps=[('scl', scl), ('model', model)], verbose=True)"
   ]
  },
  {
   "cell_type": "code",
   "execution_count": 33,
   "id": "3d894297",
   "metadata": {},
   "outputs": [
    {
     "name": "stdout",
     "output_type": "stream",
     "text": [
      "[Pipeline] ............... (step 1 of 2) Processing scl, total=  45.4s\n"
     ]
    },
    {
     "name": "stderr",
     "output_type": "stream",
     "text": [
      "[Parallel(n_jobs=-1)]: Using backend LokyBackend with 8 concurrent workers.\n"
     ]
    },
    {
     "name": "stdout",
     "output_type": "stream",
     "text": [
      "RUNNING THE L-BFGS-B CODE\n",
      "\n",
      "           * * *\n",
      "\n",
      "Machine precision = 2.220D-16\n",
      " N =         1644     M =           10\n",
      "\n",
      "At X0         0 variables are exactly at the bounds\n",
      "\n",
      "At iterate    0    f=  5.40760D+05    |proj g|=  1.91553D+05\n"
     ]
    },
    {
     "name": "stderr",
     "output_type": "stream",
     "text": [
      " This problem is unconstrained.\n"
     ]
    },
    {
     "name": "stdout",
     "output_type": "stream",
     "text": [
      "\n",
      "At iterate   50    f=  1.81393D+05    |proj g|=  2.80697D+02\n",
      "\n",
      "At iterate  100    f=  1.81147D+05    |proj g|=  1.19271D+02\n",
      "\n",
      "At iterate  150    f=  1.81081D+05    |proj g|=  4.85410D+01\n",
      "\n",
      "At iterate  200    f=  1.81059D+05    |proj g|=  3.80194D+01\n",
      "\n",
      "At iterate  250    f=  1.81045D+05    |proj g|=  2.98509D+01\n",
      "\n",
      "At iterate  300    f=  1.81034D+05    |proj g|=  3.76866D+01\n",
      "\n",
      "At iterate  350    f=  1.81020D+05    |proj g|=  8.09330D+01\n",
      "\n",
      "At iterate  400    f=  1.81012D+05    |proj g|=  2.77495D+01\n",
      "\n",
      "At iterate  450    f=  1.81008D+05    |proj g|=  2.94495D+01\n",
      "\n",
      "At iterate  500    f=  1.81004D+05    |proj g|=  3.88952D+01\n",
      "\n",
      "At iterate  550    f=  1.81001D+05    |proj g|=  2.05569D+01\n",
      "\n",
      "At iterate  600    f=  1.80999D+05    |proj g|=  1.84383D+01\n",
      "\n",
      "At iterate  650    f=  1.80997D+05    |proj g|=  3.24309D+01\n",
      "\n",
      "At iterate  700    f=  1.80994D+05    |proj g|=  1.81932D+01\n",
      "\n",
      "At iterate  750    f=  1.80992D+05    |proj g|=  1.76467D+01\n",
      "\n",
      "At iterate  800    f=  1.80991D+05    |proj g|=  1.34959D+01\n",
      "\n",
      "At iterate  850    f=  1.80989D+05    |proj g|=  8.90576D+00\n",
      "\n",
      "At iterate  900    f=  1.80988D+05    |proj g|=  1.23520D+01\n",
      "\n",
      "At iterate  950    f=  1.80987D+05    |proj g|=  7.16025D+00\n",
      "\n",
      "At iterate 1000    f=  1.80986D+05    |proj g|=  9.99363D+00\n",
      "\n",
      "           * * *\n",
      "\n",
      "Tit   = total number of iterations\n",
      "Tnf   = total number of function evaluations\n",
      "Tnint = total number of segments explored during Cauchy searches\n",
      "Skip  = number of BFGS updates skipped\n",
      "Nact  = number of active bounds at final generalized Cauchy point\n",
      "Projg = norm of the final projected gradient\n",
      "F     = final function value\n",
      "\n",
      "           * * *\n",
      "\n",
      "   N    Tit     Tnf  Tnint  Skip  Nact     Projg        F\n",
      " 1644   1000   1037      1     0     0   9.994D+00   1.810D+05\n",
      "  F =   180986.21191516277     \n",
      "\n",
      "STOP: TOTAL NO. of ITERATIONS REACHED LIMIT                 \n",
      "[Pipeline] ............. (step 2 of 2) Processing model, total=33.2min\n",
      "CPU times: user 27.3 s, sys: 21.1 s, total: 48.4 s\n",
      "Wall time: 33min 55s\n"
     ]
    },
    {
     "name": "stderr",
     "output_type": "stream",
     "text": [
      "/home/jindalmadhur26/anaconda3/lib/python3.9/site-packages/sklearn/linear_model/_logistic.py:814: ConvergenceWarning: lbfgs failed to converge (status=1):\n",
      "STOP: TOTAL NO. of ITERATIONS REACHED LIMIT.\n",
      "\n",
      "Increase the number of iterations (max_iter) or scale the data as shown in:\n",
      "    https://scikit-learn.org/stable/modules/preprocessing.html\n",
      "Please also refer to the documentation for alternative solver options:\n",
      "    https://scikit-learn.org/stable/modules/linear_model.html#logistic-regression\n",
      "  n_iter_i = _check_optimize_result(\n",
      "[Parallel(n_jobs=-1)]: Done   1 out of   1 | elapsed: 33.1min finished\n"
     ]
    },
    {
     "data": {
      "text/plain": [
       "Pipeline(steps=[('scl', StandardScaler()),\n",
       "                ('model',\n",
       "                 LogisticRegression(C=1, max_iter=1000,\n",
       "                                    multi_class='multinomial', n_jobs=-1,\n",
       "                                    penalty='none', random_state=59,\n",
       "                                    verbose=True, warm_start=True))],\n",
       "         verbose=True)"
      ]
     },
     "execution_count": 33,
     "metadata": {},
     "output_type": "execute_result"
    }
   ],
   "source": [
    "%%time\n",
    "\n",
    "pipe.fit(x_train_1, y_train_1.values.reshape(-1))"
   ]
  },
  {
   "cell_type": "code",
   "execution_count": 34,
   "id": "839f8e9e",
   "metadata": {},
   "outputs": [],
   "source": [
    "preds_tr = pipe.predict(x_train_1,)\n",
    "preds_val = pipe.predict(x_val)"
   ]
  },
  {
   "cell_type": "code",
   "execution_count": 35,
   "id": "4b82c0d2",
   "metadata": {},
   "outputs": [
    {
     "data": {
      "text/plain": [
       "0.8135465909207437"
      ]
     },
     "execution_count": 35,
     "metadata": {},
     "output_type": "execute_result"
    }
   ],
   "source": [
    "accuracy_score(y_train_1, preds_tr)"
   ]
  },
  {
   "cell_type": "code",
   "execution_count": 36,
   "id": "e1c1b777",
   "metadata": {
    "scrolled": true
   },
   "outputs": [
    {
     "data": {
      "text/plain": [
       "0.814881531734387"
      ]
     },
     "execution_count": 36,
     "metadata": {},
     "output_type": "execute_result"
    }
   ],
   "source": [
    "accuracy_score(y_val, preds_val)"
   ]
  },
  {
   "cell_type": "code",
   "execution_count": 37,
   "id": "b7ae3231",
   "metadata": {},
   "outputs": [],
   "source": [
    "probs_tr = pipe.predict_proba(x_train_1)\n",
    "probs_val = pipe.predict_proba(x_val)"
   ]
  },
  {
   "cell_type": "code",
   "execution_count": 38,
   "id": "8e210c0e",
   "metadata": {},
   "outputs": [],
   "source": [
    "np.save(\"Preds/LR_val_stack\", probs_val)\n",
    "np.save(\"Preds/LR_tr_stack\", probs_tr)\n",
    "\n",
    "probs_test = pipe.predict_proba(x_test)\n",
    "np.save(\"Preds/LR_test_stack\", probs_test)"
   ]
  },
  {
   "cell_type": "code",
   "execution_count": null,
   "id": "15812847",
   "metadata": {},
   "outputs": [],
   "source": []
  }
 ],
 "metadata": {
  "kernelspec": {
   "display_name": "Python 3 (ipykernel)",
   "language": "python",
   "name": "python3"
  },
  "language_info": {
   "codemirror_mode": {
    "name": "ipython",
    "version": 3
   },
   "file_extension": ".py",
   "mimetype": "text/x-python",
   "name": "python",
   "nbconvert_exporter": "python",
   "pygments_lexer": "ipython3",
   "version": "3.9.12"
  }
 },
 "nbformat": 4,
 "nbformat_minor": 5
}
