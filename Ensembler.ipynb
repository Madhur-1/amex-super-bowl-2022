{
 "cells": [
  {
   "cell_type": "code",
   "execution_count": 1,
   "id": "03b51f22",
   "metadata": {},
   "outputs": [],
   "source": [
    "import numpy as np\n",
    "import pandas as pd\n",
    "from sklearn.metrics import accuracy_score\n",
    "from scipy.optimize import fmin\n",
    "from functools import partial"
   ]
  },
  {
   "cell_type": "code",
   "execution_count": 2,
   "id": "6c560bc4",
   "metadata": {},
   "outputs": [],
   "source": [
    "y_val = np.load(\"Preds/True_val.npy\")\n",
    "y_test = pd.read_csv(\"Data/Sample_Output.csv\", names = ['ID', 'Target'], header=None)"
   ]
  },
  {
   "cell_type": "code",
   "execution_count": 225,
   "id": "5bd20809",
   "metadata": {},
   "outputs": [],
   "source": [
    "lgbm_val = np.load(\"Preds/LGB_val.npy\")\n",
    "rf_val = np.load(\"Preds/RF_val.npy\")\n",
    "lr_val = np.load(\"Preds/LR_val.npy\")\n",
    "nn_val = np.load(\"Preds/NN_val.npy\")\n",
    "xgb_val = np.load(\"Preds/XGB_val.npy\")\n",
    "ada_val = np.load(\"Preds/ADA_val.npy\")"
   ]
  },
  {
   "cell_type": "code",
   "execution_count": 257,
   "id": "8d375481",
   "metadata": {},
   "outputs": [],
   "source": [
    "val_probs = np.array([lgbm_val, nn_val, xgb_val, ada_val, lr_val, rf_val])"
   ]
  },
  {
   "cell_type": "code",
   "execution_count": 35,
   "id": "b4a28f13",
   "metadata": {},
   "outputs": [],
   "source": [
    "val_ensb = np.sum(val_probs*np.array([1.8,  1.57, 0.95, 1])[:,None, None], axis=0)"
   ]
  },
  {
   "cell_type": "code",
   "execution_count": 36,
   "id": "09ab9295",
   "metadata": {},
   "outputs": [
    {
     "data": {
      "text/plain": [
       "0.8190653282391737"
      ]
     },
     "execution_count": 36,
     "metadata": {},
     "output_type": "execute_result"
    }
   ],
   "source": [
    "accuracy_score(y_val, np.argmax(val_ensb, axis=1))"
   ]
  },
  {
   "cell_type": "code",
   "execution_count": 258,
   "id": "accd2af3",
   "metadata": {},
   "outputs": [],
   "source": [
    "class OptimizeAcc:\n",
    "    def __init__(self):\n",
    "        self.coef_ = 0\n",
    "        \n",
    "    def _acc(self, coef, val_probs, y_val):\n",
    "        val_ensb = np.sum(val_probs*coef[:,None, None], axis=0)\n",
    "        acc = accuracy_score(y_val, np.argmax(val_ensb, axis=1))\n",
    "        return -1.0*(acc)\n",
    "    \n",
    "    def fit(self, val_probs, y_val):\n",
    "        partial_loss = partial(self._acc, val_probs=val_probs, y_val=y_val)\n",
    "        init_coef = np.random.random(val_probs.shape[0])\n",
    "        self.coef_ = fmin(partial_loss, init_coef, disp=True)"
   ]
  },
  {
   "cell_type": "code",
   "execution_count": 265,
   "id": "57741385",
   "metadata": {
    "scrolled": true
   },
   "outputs": [
    {
     "name": "stdout",
     "output_type": "stream",
     "text": [
      "Optimization terminated successfully.\n",
      "         Current function value: -0.819196\n",
      "         Iterations: 81\n",
      "         Function evaluations: 170\n"
     ]
    }
   ],
   "source": [
    "opt = OptimizeAcc()\n",
    "opt.fit(val_probs, y_val)"
   ]
  },
  {
   "cell_type": "code",
   "execution_count": 230,
   "id": "ddeba7ab",
   "metadata": {},
   "outputs": [
    {
     "data": {
      "text/plain": [
       "array([0.6918508 , 0.40497931, 0.1363975 , 0.79349025])"
      ]
     },
     "execution_count": 230,
     "metadata": {},
     "output_type": "execute_result"
    }
   ],
   "source": [
    "opt.coef_"
   ]
  },
  {
   "cell_type": "code",
   "execution_count": 232,
   "id": "b205523e",
   "metadata": {},
   "outputs": [],
   "source": [
    "lgbm_test = np.load(\"Preds/LGB_test.npy\")\n",
    "rf_test = np.load(\"Preds/RF_test.npy\")\n",
    "lr_test = np.load(\"Preds/LR_test.npy\")\n",
    "nn_test = np.load(\"Preds/NN_test.npy\")\n",
    "xgb_test = np.load(\"Preds/XGB_test.npy\")\n",
    "ada_test = np.load(\"Preds/ADA_test.npy\")\n",
    "\n",
    "test_probs = np.array([lgbm_test,nn_test, xgb_test, ada_test])\n",
    "test_ensb = np.sum(test_probs*opt.coef_[:,None, None], axis=0)"
   ]
  },
  {
   "cell_type": "code",
   "execution_count": 233,
   "id": "5fa394a6",
   "metadata": {},
   "outputs": [],
   "source": [
    "y_test['Target'] = np.argmax(test_ensb, axis=1)\n",
    "\n",
    "y_test\n",
    "\n",
    "y_test.to_csv(\"Submissions/DSC_Nexus_UMPW9415_IITM_ensemble_top3_ADA.csv\", index=0, header=None)"
   ]
  },
  {
   "cell_type": "markdown",
   "id": "fd7a1484",
   "metadata": {},
   "source": [
    "# Rank Averaging"
   ]
  },
  {
   "cell_type": "code",
   "execution_count": 266,
   "id": "51c2cbfd",
   "metadata": {},
   "outputs": [],
   "source": [
    "val_rank_probs = val_probs.copy()\n",
    "for ind, arr in enumerate(val_rank_probs):\n",
    "    val_rank_probs[ind] = pd.DataFrame(arr).rank(axis=1).values"
   ]
  },
  {
   "cell_type": "code",
   "execution_count": 272,
   "id": "9d900b90",
   "metadata": {},
   "outputs": [
    {
     "name": "stdout",
     "output_type": "stream",
     "text": [
      "Optimization terminated successfully.\n",
      "         Current function value: -0.817700\n",
      "         Iterations: 27\n",
      "         Function evaluations: 101\n"
     ]
    }
   ],
   "source": [
    "opt_rank = OptimizeAcc()\n",
    "opt_rank.fit(val_rank_probs, y_val)"
   ]
  },
  {
   "cell_type": "code",
   "execution_count": 224,
   "id": "f2211766",
   "metadata": {},
   "outputs": [
    {
     "data": {
      "text/plain": [
       "array([0.62964064, 0.07667129, 0.29822923, 0.4007404 ])"
      ]
     },
     "execution_count": 224,
     "metadata": {},
     "output_type": "execute_result"
    }
   ],
   "source": [
    "opt_rank.coef_"
   ]
  },
  {
   "cell_type": "markdown",
   "id": "e9fe0348",
   "metadata": {},
   "source": [
    "array([0.16271343, 0.25211302, 0.91008271, 0.90158767])"
   ]
  },
  {
   "cell_type": "code",
   "execution_count": 216,
   "id": "d327ff1f",
   "metadata": {},
   "outputs": [],
   "source": [
    "lgbm_test = np.load(\"Preds/LGB_test.npy\")\n",
    "rf_test = np.load(\"Preds/RF_test.npy\")\n",
    "lr_test = np.load(\"Preds/LR_test.npy\")\n",
    "nn_test = np.load(\"Preds/NN_test.npy\")\n",
    "xgb_test = np.load(\"Preds/XGB_test.npy\")\n",
    "\n",
    "test_rank_probs = np.array([lgbm_test, lr_test, nn_test, xgb_test])\n",
    "for ind, arr in enumerate(test_rank_probs):\n",
    "    test_rank_probs[ind] = pd.DataFrame(arr).rank(axis=1).values\n",
    "test_rank_ensb = np.sum(test_rank_probs*opt_rank.coef_[:,None, None], axis=0)"
   ]
  },
  {
   "cell_type": "code",
   "execution_count": 217,
   "id": "82c2bba0",
   "metadata": {},
   "outputs": [],
   "source": [
    "y_test['Target'] = np.argmax(test_rank_ensb, axis=1)\n",
    "\n",
    "y_test\n",
    "\n",
    "y_test.to_csv(\"Submissions/DSC_Nexus_UMPW9415_IITM_ensemble_top4_rank.csv\", index=0, header=None)"
   ]
  },
  {
   "cell_type": "code",
   "execution_count": null,
   "id": "33b45f66",
   "metadata": {},
   "outputs": [],
   "source": []
  },
  {
   "cell_type": "markdown",
   "id": "d2053528",
   "metadata": {},
   "source": [
    "# Stacking using LR"
   ]
  },
  {
   "cell_type": "code",
   "execution_count": 55,
   "id": "e17d36e2",
   "metadata": {},
   "outputs": [],
   "source": [
    "lgbm_tr = np.load(\"Preds/LGB_tr.npy\")\n",
    "rf_tr = np.load(\"Preds/RF_tr.npy\")\n",
    "lr_tr = np.load(\"Preds/LR_tr.npy\")\n",
    "nn_tr = np.load(\"Preds/NN_tr.npy\")\n",
    "xgb_tr = np.load(\"Preds/XGB_tr.npy\")"
   ]
  },
  {
   "cell_type": "code",
   "execution_count": 66,
   "id": "349dd80c",
   "metadata": {},
   "outputs": [],
   "source": [
    "tr_probs = np.array([lgbm_tr, lr_tr, nn_tr, xgb_tr])"
   ]
  },
  {
   "cell_type": "code",
   "execution_count": 108,
   "id": "40d7943a",
   "metadata": {},
   "outputs": [],
   "source": [
    "train = pd.DataFrame(tr_probs.reshape(lgbm_tr.shape[0], -1, order='F'))#.to_csv(\"Preds/preds_tr.csv\", index=0)"
   ]
  },
  {
   "cell_type": "code",
   "execution_count": 109,
   "id": "9760e983",
   "metadata": {
    "scrolled": true
   },
   "outputs": [],
   "source": [
    "val = pd.DataFrame(val_probs.reshape(len(y_val), -1, order='F'))#.to_csv(\"Preds/preds_val.csv\", index=0)"
   ]
  },
  {
   "cell_type": "code",
   "execution_count": 110,
   "id": "98797a18",
   "metadata": {},
   "outputs": [],
   "source": [
    "test = pd.DataFrame(test_probs.reshape(len(y_test), -1, order='F'))#.to_csv(\"Preds/preds_test.csv\", index=0)"
   ]
  },
  {
   "cell_type": "code",
   "execution_count": 111,
   "id": "d2e8086b",
   "metadata": {},
   "outputs": [],
   "source": [
    "for dat in [train, test, val]:\n",
    "    for i in range(0, 13, 4):\n",
    "        dat[f\"{i}_mean\"] = dat[[i, i+1, i+2,i+3]].mean(axis=1)\n",
    "        dat[f\"{i}_std\"] = dat[[i, i+1, i+2,i+3]].std(axis=1)\n",
    "        for pairnum, pair in enumerate([(i, i+1), (i, i+2), (i, i+3), (i+1, i+2),(i+1, i+3), (i+2,i+3)]):\n",
    "            dat[f\"{pair[0]}_{pair[1]}_diff\"] = dat[pair[0]] - dat[pair[1]]\n",
    "        "
   ]
  },
  {
   "cell_type": "code",
   "execution_count": 112,
   "id": "f4cf5378",
   "metadata": {},
   "outputs": [
    {
     "data": {
      "text/html": [
       "<div>\n",
       "<style scoped>\n",
       "    .dataframe tbody tr th:only-of-type {\n",
       "        vertical-align: middle;\n",
       "    }\n",
       "\n",
       "    .dataframe tbody tr th {\n",
       "        vertical-align: top;\n",
       "    }\n",
       "\n",
       "    .dataframe thead th {\n",
       "        text-align: right;\n",
       "    }\n",
       "</style>\n",
       "<table border=\"1\" class=\"dataframe\">\n",
       "  <thead>\n",
       "    <tr style=\"text-align: right;\">\n",
       "      <th></th>\n",
       "      <th>8_std</th>\n",
       "      <th>8_9_diff</th>\n",
       "      <th>8_10_diff</th>\n",
       "      <th>8_11_diff</th>\n",
       "      <th>9_10_diff</th>\n",
       "      <th>9_11_diff</th>\n",
       "      <th>10_11_diff</th>\n",
       "      <th>12_mean</th>\n",
       "      <th>12_std</th>\n",
       "      <th>12_13_diff</th>\n",
       "      <th>12_14_diff</th>\n",
       "      <th>12_15_diff</th>\n",
       "      <th>13_14_diff</th>\n",
       "      <th>13_15_diff</th>\n",
       "      <th>14_15_diff</th>\n",
       "    </tr>\n",
       "  </thead>\n",
       "  <tbody>\n",
       "    <tr>\n",
       "      <th>0</th>\n",
       "      <td>0.018960</td>\n",
       "      <td>-0.032084</td>\n",
       "      <td>-0.033314</td>\n",
       "      <td>0.000256</td>\n",
       "      <td>-0.001230</td>\n",
       "      <td>0.032340</td>\n",
       "      <td>0.033570</td>\n",
       "      <td>0.028741</td>\n",
       "      <td>0.040524</td>\n",
       "      <td>-0.085212</td>\n",
       "      <td>-0.020635</td>\n",
       "      <td>0.000757</td>\n",
       "      <td>0.064577</td>\n",
       "      <td>0.085969</td>\n",
       "      <td>0.021392</td>\n",
       "    </tr>\n",
       "    <tr>\n",
       "      <th>1</th>\n",
       "      <td>0.029556</td>\n",
       "      <td>-0.062749</td>\n",
       "      <td>-0.021840</td>\n",
       "      <td>-0.000117</td>\n",
       "      <td>0.040909</td>\n",
       "      <td>0.062632</td>\n",
       "      <td>0.021723</td>\n",
       "      <td>0.022300</td>\n",
       "      <td>0.032690</td>\n",
       "      <td>-0.068737</td>\n",
       "      <td>-0.011838</td>\n",
       "      <td>-0.000905</td>\n",
       "      <td>0.056899</td>\n",
       "      <td>0.067832</td>\n",
       "      <td>0.010934</td>\n",
       "    </tr>\n",
       "    <tr>\n",
       "      <th>2</th>\n",
       "      <td>0.041410</td>\n",
       "      <td>-0.087118</td>\n",
       "      <td>-0.029074</td>\n",
       "      <td>0.001432</td>\n",
       "      <td>0.058045</td>\n",
       "      <td>0.088550</td>\n",
       "      <td>0.030505</td>\n",
       "      <td>0.039521</td>\n",
       "      <td>0.055776</td>\n",
       "      <td>-0.116807</td>\n",
       "      <td>-0.030087</td>\n",
       "      <td>0.002370</td>\n",
       "      <td>0.086719</td>\n",
       "      <td>0.119176</td>\n",
       "      <td>0.032457</td>\n",
       "    </tr>\n",
       "    <tr>\n",
       "      <th>3</th>\n",
       "      <td>0.027564</td>\n",
       "      <td>-0.042397</td>\n",
       "      <td>-0.052136</td>\n",
       "      <td>-0.000045</td>\n",
       "      <td>-0.009739</td>\n",
       "      <td>0.042352</td>\n",
       "      <td>0.052090</td>\n",
       "      <td>0.039694</td>\n",
       "      <td>0.049773</td>\n",
       "      <td>-0.104744</td>\n",
       "      <td>-0.049140</td>\n",
       "      <td>-0.000443</td>\n",
       "      <td>0.055604</td>\n",
       "      <td>0.104301</td>\n",
       "      <td>0.048697</td>\n",
       "    </tr>\n",
       "    <tr>\n",
       "      <th>4</th>\n",
       "      <td>0.206431</td>\n",
       "      <td>0.414689</td>\n",
       "      <td>0.414541</td>\n",
       "      <td>0.409265</td>\n",
       "      <td>-0.000147</td>\n",
       "      <td>-0.005424</td>\n",
       "      <td>-0.005276</td>\n",
       "      <td>0.063421</td>\n",
       "      <td>0.116291</td>\n",
       "      <td>0.237035</td>\n",
       "      <td>0.236604</td>\n",
       "      <td>0.223012</td>\n",
       "      <td>-0.000431</td>\n",
       "      <td>-0.014023</td>\n",
       "      <td>-0.013592</td>\n",
       "    </tr>\n",
       "    <tr>\n",
       "      <th>...</th>\n",
       "      <td>...</td>\n",
       "      <td>...</td>\n",
       "      <td>...</td>\n",
       "      <td>...</td>\n",
       "      <td>...</td>\n",
       "      <td>...</td>\n",
       "      <td>...</td>\n",
       "      <td>...</td>\n",
       "      <td>...</td>\n",
       "      <td>...</td>\n",
       "      <td>...</td>\n",
       "      <td>...</td>\n",
       "      <td>...</td>\n",
       "      <td>...</td>\n",
       "      <td>...</td>\n",
       "    </tr>\n",
       "    <tr>\n",
       "      <th>390071</th>\n",
       "      <td>0.005097</td>\n",
       "      <td>-0.010785</td>\n",
       "      <td>-0.002171</td>\n",
       "      <td>-0.000177</td>\n",
       "      <td>0.008614</td>\n",
       "      <td>0.010608</td>\n",
       "      <td>0.001993</td>\n",
       "      <td>0.003625</td>\n",
       "      <td>0.004027</td>\n",
       "      <td>-0.008648</td>\n",
       "      <td>-0.003655</td>\n",
       "      <td>-0.000277</td>\n",
       "      <td>0.004993</td>\n",
       "      <td>0.008371</td>\n",
       "      <td>0.003378</td>\n",
       "    </tr>\n",
       "    <tr>\n",
       "      <th>390072</th>\n",
       "      <td>0.148033</td>\n",
       "      <td>0.054819</td>\n",
       "      <td>0.030758</td>\n",
       "      <td>-0.264120</td>\n",
       "      <td>-0.024061</td>\n",
       "      <td>-0.318939</td>\n",
       "      <td>-0.294878</td>\n",
       "      <td>0.092758</td>\n",
       "      <td>0.142773</td>\n",
       "      <td>0.029160</td>\n",
       "      <td>0.009287</td>\n",
       "      <td>-0.271691</td>\n",
       "      <td>-0.019873</td>\n",
       "      <td>-0.300851</td>\n",
       "      <td>-0.280978</td>\n",
       "    </tr>\n",
       "    <tr>\n",
       "      <th>390073</th>\n",
       "      <td>0.160033</td>\n",
       "      <td>0.140616</td>\n",
       "      <td>0.132232</td>\n",
       "      <td>-0.202056</td>\n",
       "      <td>-0.008384</td>\n",
       "      <td>-0.342671</td>\n",
       "      <td>-0.334288</td>\n",
       "      <td>0.084790</td>\n",
       "      <td>0.123944</td>\n",
       "      <td>0.040105</td>\n",
       "      <td>0.043480</td>\n",
       "      <td>-0.216860</td>\n",
       "      <td>0.003375</td>\n",
       "      <td>-0.256965</td>\n",
       "      <td>-0.260340</td>\n",
       "    </tr>\n",
       "    <tr>\n",
       "      <th>390074</th>\n",
       "      <td>0.167668</td>\n",
       "      <td>0.165533</td>\n",
       "      <td>0.136803</td>\n",
       "      <td>-0.201854</td>\n",
       "      <td>-0.028731</td>\n",
       "      <td>-0.367388</td>\n",
       "      <td>-0.338657</td>\n",
       "      <td>0.108573</td>\n",
       "      <td>0.142617</td>\n",
       "      <td>0.072834</td>\n",
       "      <td>0.038446</td>\n",
       "      <td>-0.241865</td>\n",
       "      <td>-0.034388</td>\n",
       "      <td>-0.314700</td>\n",
       "      <td>-0.280312</td>\n",
       "    </tr>\n",
       "    <tr>\n",
       "      <th>390075</th>\n",
       "      <td>0.161825</td>\n",
       "      <td>0.070329</td>\n",
       "      <td>0.047465</td>\n",
       "      <td>-0.279039</td>\n",
       "      <td>-0.022864</td>\n",
       "      <td>-0.349368</td>\n",
       "      <td>-0.326504</td>\n",
       "      <td>0.092792</td>\n",
       "      <td>0.140526</td>\n",
       "      <td>0.028819</td>\n",
       "      <td>0.011652</td>\n",
       "      <td>-0.266562</td>\n",
       "      <td>-0.017167</td>\n",
       "      <td>-0.295381</td>\n",
       "      <td>-0.278215</td>\n",
       "    </tr>\n",
       "  </tbody>\n",
       "</table>\n",
       "<p>390076 rows × 15 columns</p>\n",
       "</div>"
      ],
      "text/plain": [
       "           8_std  8_9_diff  8_10_diff  8_11_diff  9_10_diff  9_11_diff  \\\n",
       "0       0.018960 -0.032084  -0.033314   0.000256  -0.001230   0.032340   \n",
       "1       0.029556 -0.062749  -0.021840  -0.000117   0.040909   0.062632   \n",
       "2       0.041410 -0.087118  -0.029074   0.001432   0.058045   0.088550   \n",
       "3       0.027564 -0.042397  -0.052136  -0.000045  -0.009739   0.042352   \n",
       "4       0.206431  0.414689   0.414541   0.409265  -0.000147  -0.005424   \n",
       "...          ...       ...        ...        ...        ...        ...   \n",
       "390071  0.005097 -0.010785  -0.002171  -0.000177   0.008614   0.010608   \n",
       "390072  0.148033  0.054819   0.030758  -0.264120  -0.024061  -0.318939   \n",
       "390073  0.160033  0.140616   0.132232  -0.202056  -0.008384  -0.342671   \n",
       "390074  0.167668  0.165533   0.136803  -0.201854  -0.028731  -0.367388   \n",
       "390075  0.161825  0.070329   0.047465  -0.279039  -0.022864  -0.349368   \n",
       "\n",
       "        10_11_diff   12_mean    12_std  12_13_diff  12_14_diff  12_15_diff  \\\n",
       "0         0.033570  0.028741  0.040524   -0.085212   -0.020635    0.000757   \n",
       "1         0.021723  0.022300  0.032690   -0.068737   -0.011838   -0.000905   \n",
       "2         0.030505  0.039521  0.055776   -0.116807   -0.030087    0.002370   \n",
       "3         0.052090  0.039694  0.049773   -0.104744   -0.049140   -0.000443   \n",
       "4        -0.005276  0.063421  0.116291    0.237035    0.236604    0.223012   \n",
       "...            ...       ...       ...         ...         ...         ...   \n",
       "390071    0.001993  0.003625  0.004027   -0.008648   -0.003655   -0.000277   \n",
       "390072   -0.294878  0.092758  0.142773    0.029160    0.009287   -0.271691   \n",
       "390073   -0.334288  0.084790  0.123944    0.040105    0.043480   -0.216860   \n",
       "390074   -0.338657  0.108573  0.142617    0.072834    0.038446   -0.241865   \n",
       "390075   -0.326504  0.092792  0.140526    0.028819    0.011652   -0.266562   \n",
       "\n",
       "        13_14_diff  13_15_diff  14_15_diff  \n",
       "0         0.064577    0.085969    0.021392  \n",
       "1         0.056899    0.067832    0.010934  \n",
       "2         0.086719    0.119176    0.032457  \n",
       "3         0.055604    0.104301    0.048697  \n",
       "4        -0.000431   -0.014023   -0.013592  \n",
       "...            ...         ...         ...  \n",
       "390071    0.004993    0.008371    0.003378  \n",
       "390072   -0.019873   -0.300851   -0.280978  \n",
       "390073    0.003375   -0.256965   -0.260340  \n",
       "390074   -0.034388   -0.314700   -0.280312  \n",
       "390075   -0.017167   -0.295381   -0.278215  \n",
       "\n",
       "[390076 rows x 15 columns]"
      ]
     },
     "execution_count": 112,
     "metadata": {},
     "output_type": "execute_result"
    }
   ],
   "source": [
    "train.iloc[:,-15:]"
   ]
  },
  {
   "cell_type": "code",
   "execution_count": 113,
   "id": "b051ee02",
   "metadata": {},
   "outputs": [],
   "source": [
    "for name,dat in {'train':train, 'test':test, 'val':val}.items():\n",
    "    dat.to_csv(f\"Preds/preds_{name}.csv\", index=0)"
   ]
  },
  {
   "cell_type": "code",
   "execution_count": null,
   "id": "dcb90ff6",
   "metadata": {},
   "outputs": [],
   "source": []
  }
 ],
 "metadata": {
  "kernelspec": {
   "display_name": "Python 3 (ipykernel)",
   "language": "python",
   "name": "python3"
  },
  "language_info": {
   "codemirror_mode": {
    "name": "ipython",
    "version": 3
   },
   "file_extension": ".py",
   "mimetype": "text/x-python",
   "name": "python",
   "nbconvert_exporter": "python",
   "pygments_lexer": "ipython3",
   "version": "3.9.12"
  }
 },
 "nbformat": 4,
 "nbformat_minor": 5
}
