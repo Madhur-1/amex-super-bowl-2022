{
 "cells": [
  {
   "cell_type": "code",
   "execution_count": 1,
   "id": "031ee3bf",
   "metadata": {},
   "outputs": [],
   "source": [
    "import numpy as np\n",
    "import pandas as pd\n",
    "# library for splitting training-testing\n",
    "from sklearn.model_selection import train_test_split\n",
    "# library for classification\n",
    "from sklearn.metrics import accuracy_score\n",
    "\n",
    "import os\n",
    "os.environ['KMP_DUPLICATE_LIB_OK']='True'\n",
    "\n",
    "import lightgbm as lgb"
   ]
  },
  {
   "cell_type": "code",
   "execution_count": 2,
   "id": "46e886ae",
   "metadata": {},
   "outputs": [],
   "source": [
    "# x_train = pd.read_csv(\"Data/train_allx.csv\")\n",
    "# x_test = pd.read_csv(\"Data/val_allx.csv\")\n",
    "# x_train.drop('ID', axis=1 , inplace=True)\n",
    "# x_test.drop('ID', axis=1 , inplace=True)\n",
    "\n",
    "# x_train = pd.read_csv(\"Data/train_x_null<50_notImputed.csv\")\n",
    "# x_test = pd.read_csv(\"Data/test_x_null<50_notImputed.csv\")\n",
    "\n",
    "# x_train = pd.read_csv(\"Data/train__mean_mode_Imputed.csv\")\n",
    "# x_test = pd.read_csv(\"Data/test__mean_mode_Imputed.csv\")\n",
    "\n",
    "# x_train = pd.read_csv(\"Data/train__Varstack_Imputed.csv\")\n",
    "# x_test = pd.read_csv(\"Data/test__Verstack_Imputed.csv\")\n",
    "\n",
    "# x_train = pd.read_csv(\"Data/train__Mean_MissingIndicator_Imputed.csv\")\n",
    "# x_test = pd.read_csv(\"Data/test__Mean_MissingIndicator_Imputed.csv\")\n",
    "\n",
    "# x_train = pd.read_feather(\"Data/x_train__IterativeImputer_10itrs.ftr\")\n",
    "# x_test = pd.read_feather(\"Data/x_test__IterativeImputer_10itrs.ftr\")\n",
    "\n",
    "# x_train = pd.read_feather(\"Data/x_train__groupbyInputed.ftr\")\n",
    "# x_test = pd.read_feather(\"Data/x_test__groupbyInputed.ftr\")\n",
    "\n",
    "# x_train = pd.read_feather(\"Data/x_train__LGBMImputed.ftr\")\n",
    "# x_test = pd.read_feather(\"Data/x_test__LGBMImputed.ftr\")\n",
    "\n",
    "x_train = pd.read_feather(\"Data/x_train__IterativeImputer_genFeats.ftr\")\n",
    "x_test = pd.read_feather(\"Data/x_test__IterativeImputer_genFeats.ftr\")\n",
    "\n",
    "y_train = pd.read_csv(\"Data/train_y.csv\")\n",
    "y_test = pd.read_csv(\"Data/Sample_Output.csv\", names = ['ID', 'Target'], header=None)"
   ]
  },
  {
   "cell_type": "code",
   "execution_count": 3,
   "id": "5cbb3533",
   "metadata": {},
   "outputs": [
    {
     "data": {
      "text/html": [
       "<div>\n",
       "<style scoped>\n",
       "    .dataframe tbody tr th:only-of-type {\n",
       "        vertical-align: middle;\n",
       "    }\n",
       "\n",
       "    .dataframe tbody tr th {\n",
       "        vertical-align: top;\n",
       "    }\n",
       "\n",
       "    .dataframe thead th {\n",
       "        text-align: right;\n",
       "    }\n",
       "</style>\n",
       "<table border=\"1\" class=\"dataframe\">\n",
       "  <thead>\n",
       "    <tr style=\"text-align: right;\">\n",
       "      <th></th>\n",
       "      <th>B_37</th>\n",
       "      <th>S_24</th>\n",
       "      <th>S_4</th>\n",
       "      <th>S_14</th>\n",
       "      <th>B_25</th>\n",
       "      <th>D_38</th>\n",
       "      <th>B_30</th>\n",
       "      <th>D_138</th>\n",
       "      <th>P_2</th>\n",
       "      <th>S_7</th>\n",
       "      <th>...</th>\n",
       "      <th>D_43_missing</th>\n",
       "      <th>D_4_missing</th>\n",
       "      <th>D_85_missing</th>\n",
       "      <th>D_78_missing</th>\n",
       "      <th>D_42_missing</th>\n",
       "      <th>D_52_missing</th>\n",
       "      <th>D_29_missing</th>\n",
       "      <th>R_1_missing</th>\n",
       "      <th>R_28_missing</th>\n",
       "      <th>S_5_missing</th>\n",
       "    </tr>\n",
       "  </thead>\n",
       "  <tbody>\n",
       "    <tr>\n",
       "      <th>0</th>\n",
       "      <td>0.006462</td>\n",
       "      <td>0.008118</td>\n",
       "      <td>0.853027</td>\n",
       "      <td>0.556641</td>\n",
       "      <td>1.003906</td>\n",
       "      <td>0.193557</td>\n",
       "      <td>0.021301</td>\n",
       "      <td>0.511230</td>\n",
       "      <td>1.004883</td>\n",
       "      <td>0.081543</td>\n",
       "      <td>...</td>\n",
       "      <td>True</td>\n",
       "      <td>False</td>\n",
       "      <td>False</td>\n",
       "      <td>False</td>\n",
       "      <td>False</td>\n",
       "      <td>False</td>\n",
       "      <td>False</td>\n",
       "      <td>False</td>\n",
       "      <td>False</td>\n",
       "      <td>False</td>\n",
       "    </tr>\n",
       "    <tr>\n",
       "      <th>1</th>\n",
       "      <td>0.007748</td>\n",
       "      <td>0.006310</td>\n",
       "      <td>0.758301</td>\n",
       "      <td>0.686035</td>\n",
       "      <td>0.001836</td>\n",
       "      <td>0.189822</td>\n",
       "      <td>0.088501</td>\n",
       "      <td>0.557129</td>\n",
       "      <td>0.687988</td>\n",
       "      <td>0.353027</td>\n",
       "      <td>...</td>\n",
       "      <td>True</td>\n",
       "      <td>False</td>\n",
       "      <td>False</td>\n",
       "      <td>False</td>\n",
       "      <td>False</td>\n",
       "      <td>False</td>\n",
       "      <td>False</td>\n",
       "      <td>False</td>\n",
       "      <td>False</td>\n",
       "      <td>False</td>\n",
       "    </tr>\n",
       "    <tr>\n",
       "      <th>2</th>\n",
       "      <td>0.005405</td>\n",
       "      <td>0.005219</td>\n",
       "      <td>0.766602</td>\n",
       "      <td>0.284668</td>\n",
       "      <td>1.002930</td>\n",
       "      <td>0.182655</td>\n",
       "      <td>0.005821</td>\n",
       "      <td>0.854980</td>\n",
       "      <td>0.927734</td>\n",
       "      <td>0.059479</td>\n",
       "      <td>...</td>\n",
       "      <td>True</td>\n",
       "      <td>False</td>\n",
       "      <td>False</td>\n",
       "      <td>False</td>\n",
       "      <td>False</td>\n",
       "      <td>False</td>\n",
       "      <td>False</td>\n",
       "      <td>False</td>\n",
       "      <td>False</td>\n",
       "      <td>False</td>\n",
       "    </tr>\n",
       "    <tr>\n",
       "      <th>3</th>\n",
       "      <td>0.004135</td>\n",
       "      <td>0.000032</td>\n",
       "      <td>0.363281</td>\n",
       "      <td>0.004623</td>\n",
       "      <td>0.533691</td>\n",
       "      <td>0.170661</td>\n",
       "      <td>0.002443</td>\n",
       "      <td>0.526367</td>\n",
       "      <td>0.700684</td>\n",
       "      <td>0.334473</td>\n",
       "      <td>...</td>\n",
       "      <td>True</td>\n",
       "      <td>False</td>\n",
       "      <td>False</td>\n",
       "      <td>False</td>\n",
       "      <td>False</td>\n",
       "      <td>False</td>\n",
       "      <td>False</td>\n",
       "      <td>False</td>\n",
       "      <td>False</td>\n",
       "      <td>False</td>\n",
       "    </tr>\n",
       "    <tr>\n",
       "      <th>4</th>\n",
       "      <td>0.002968</td>\n",
       "      <td>0.002892</td>\n",
       "      <td>0.757324</td>\n",
       "      <td>0.427734</td>\n",
       "      <td>1.001953</td>\n",
       "      <td>0.213928</td>\n",
       "      <td>0.008247</td>\n",
       "      <td>0.820312</td>\n",
       "      <td>1.001953</td>\n",
       "      <td>0.144287</td>\n",
       "      <td>...</td>\n",
       "      <td>True</td>\n",
       "      <td>False</td>\n",
       "      <td>False</td>\n",
       "      <td>False</td>\n",
       "      <td>False</td>\n",
       "      <td>False</td>\n",
       "      <td>False</td>\n",
       "      <td>False</td>\n",
       "      <td>False</td>\n",
       "      <td>False</td>\n",
       "    </tr>\n",
       "    <tr>\n",
       "      <th>...</th>\n",
       "      <td>...</td>\n",
       "      <td>...</td>\n",
       "      <td>...</td>\n",
       "      <td>...</td>\n",
       "      <td>...</td>\n",
       "      <td>...</td>\n",
       "      <td>...</td>\n",
       "      <td>...</td>\n",
       "      <td>...</td>\n",
       "      <td>...</td>\n",
       "      <td>...</td>\n",
       "      <td>...</td>\n",
       "      <td>...</td>\n",
       "      <td>...</td>\n",
       "      <td>...</td>\n",
       "      <td>...</td>\n",
       "      <td>...</td>\n",
       "      <td>...</td>\n",
       "      <td>...</td>\n",
       "      <td>...</td>\n",
       "      <td>...</td>\n",
       "    </tr>\n",
       "    <tr>\n",
       "      <th>458908</th>\n",
       "      <td>0.003967</td>\n",
       "      <td>0.005070</td>\n",
       "      <td>0.167480</td>\n",
       "      <td>0.421143</td>\n",
       "      <td>0.697266</td>\n",
       "      <td>0.186495</td>\n",
       "      <td>0.059113</td>\n",
       "      <td>0.526855</td>\n",
       "      <td>0.852051</td>\n",
       "      <td>0.724121</td>\n",
       "      <td>...</td>\n",
       "      <td>True</td>\n",
       "      <td>False</td>\n",
       "      <td>False</td>\n",
       "      <td>False</td>\n",
       "      <td>False</td>\n",
       "      <td>False</td>\n",
       "      <td>False</td>\n",
       "      <td>False</td>\n",
       "      <td>False</td>\n",
       "      <td>False</td>\n",
       "    </tr>\n",
       "    <tr>\n",
       "      <th>458909</th>\n",
       "      <td>0.006248</td>\n",
       "      <td>0.007683</td>\n",
       "      <td>0.003338</td>\n",
       "      <td>0.006954</td>\n",
       "      <td>1.004883</td>\n",
       "      <td>0.180386</td>\n",
       "      <td>0.001700</td>\n",
       "      <td>0.575195</td>\n",
       "      <td>0.885254</td>\n",
       "      <td>0.286364</td>\n",
       "      <td>...</td>\n",
       "      <td>True</td>\n",
       "      <td>False</td>\n",
       "      <td>False</td>\n",
       "      <td>False</td>\n",
       "      <td>False</td>\n",
       "      <td>False</td>\n",
       "      <td>False</td>\n",
       "      <td>False</td>\n",
       "      <td>False</td>\n",
       "      <td>False</td>\n",
       "    </tr>\n",
       "    <tr>\n",
       "      <th>458910</th>\n",
       "      <td>0.004993</td>\n",
       "      <td>0.003204</td>\n",
       "      <td>0.167114</td>\n",
       "      <td>0.289307</td>\n",
       "      <td>0.650879</td>\n",
       "      <td>0.178694</td>\n",
       "      <td>0.007294</td>\n",
       "      <td>0.406738</td>\n",
       "      <td>0.632324</td>\n",
       "      <td>0.346924</td>\n",
       "      <td>...</td>\n",
       "      <td>True</td>\n",
       "      <td>False</td>\n",
       "      <td>False</td>\n",
       "      <td>False</td>\n",
       "      <td>False</td>\n",
       "      <td>False</td>\n",
       "      <td>False</td>\n",
       "      <td>False</td>\n",
       "      <td>False</td>\n",
       "      <td>False</td>\n",
       "    </tr>\n",
       "    <tr>\n",
       "      <th>458911</th>\n",
       "      <td>0.002348</td>\n",
       "      <td>0.005432</td>\n",
       "      <td>0.330078</td>\n",
       "      <td>0.003138</td>\n",
       "      <td>0.689941</td>\n",
       "      <td>0.184077</td>\n",
       "      <td>0.001930</td>\n",
       "      <td>0.417969</td>\n",
       "      <td>0.846191</td>\n",
       "      <td>0.172607</td>\n",
       "      <td>...</td>\n",
       "      <td>True</td>\n",
       "      <td>False</td>\n",
       "      <td>False</td>\n",
       "      <td>False</td>\n",
       "      <td>False</td>\n",
       "      <td>False</td>\n",
       "      <td>False</td>\n",
       "      <td>False</td>\n",
       "      <td>False</td>\n",
       "      <td>False</td>\n",
       "    </tr>\n",
       "    <tr>\n",
       "      <th>458912</th>\n",
       "      <td>0.009079</td>\n",
       "      <td>0.009773</td>\n",
       "      <td>0.000458</td>\n",
       "      <td>0.004875</td>\n",
       "      <td>1.001953</td>\n",
       "      <td>0.172941</td>\n",
       "      <td>0.007450</td>\n",
       "      <td>0.602051</td>\n",
       "      <td>0.715332</td>\n",
       "      <td>0.281413</td>\n",
       "      <td>...</td>\n",
       "      <td>True</td>\n",
       "      <td>False</td>\n",
       "      <td>False</td>\n",
       "      <td>False</td>\n",
       "      <td>False</td>\n",
       "      <td>False</td>\n",
       "      <td>False</td>\n",
       "      <td>False</td>\n",
       "      <td>False</td>\n",
       "      <td>False</td>\n",
       "    </tr>\n",
       "  </tbody>\n",
       "</table>\n",
       "<p>458913 rows × 394 columns</p>\n",
       "</div>"
      ],
      "text/plain": [
       "            B_37      S_24       S_4      S_14      B_25      D_38      B_30  \\\n",
       "0       0.006462  0.008118  0.853027  0.556641  1.003906  0.193557  0.021301   \n",
       "1       0.007748  0.006310  0.758301  0.686035  0.001836  0.189822  0.088501   \n",
       "2       0.005405  0.005219  0.766602  0.284668  1.002930  0.182655  0.005821   \n",
       "3       0.004135  0.000032  0.363281  0.004623  0.533691  0.170661  0.002443   \n",
       "4       0.002968  0.002892  0.757324  0.427734  1.001953  0.213928  0.008247   \n",
       "...          ...       ...       ...       ...       ...       ...       ...   \n",
       "458908  0.003967  0.005070  0.167480  0.421143  0.697266  0.186495  0.059113   \n",
       "458909  0.006248  0.007683  0.003338  0.006954  1.004883  0.180386  0.001700   \n",
       "458910  0.004993  0.003204  0.167114  0.289307  0.650879  0.178694  0.007294   \n",
       "458911  0.002348  0.005432  0.330078  0.003138  0.689941  0.184077  0.001930   \n",
       "458912  0.009079  0.009773  0.000458  0.004875  1.001953  0.172941  0.007450   \n",
       "\n",
       "           D_138       P_2       S_7  ...  D_43_missing  D_4_missing  \\\n",
       "0       0.511230  1.004883  0.081543  ...          True        False   \n",
       "1       0.557129  0.687988  0.353027  ...          True        False   \n",
       "2       0.854980  0.927734  0.059479  ...          True        False   \n",
       "3       0.526367  0.700684  0.334473  ...          True        False   \n",
       "4       0.820312  1.001953  0.144287  ...          True        False   \n",
       "...          ...       ...       ...  ...           ...          ...   \n",
       "458908  0.526855  0.852051  0.724121  ...          True        False   \n",
       "458909  0.575195  0.885254  0.286364  ...          True        False   \n",
       "458910  0.406738  0.632324  0.346924  ...          True        False   \n",
       "458911  0.417969  0.846191  0.172607  ...          True        False   \n",
       "458912  0.602051  0.715332  0.281413  ...          True        False   \n",
       "\n",
       "        D_85_missing  D_78_missing  D_42_missing  D_52_missing  D_29_missing  \\\n",
       "0              False         False         False         False         False   \n",
       "1              False         False         False         False         False   \n",
       "2              False         False         False         False         False   \n",
       "3              False         False         False         False         False   \n",
       "4              False         False         False         False         False   \n",
       "...              ...           ...           ...           ...           ...   \n",
       "458908         False         False         False         False         False   \n",
       "458909         False         False         False         False         False   \n",
       "458910         False         False         False         False         False   \n",
       "458911         False         False         False         False         False   \n",
       "458912         False         False         False         False         False   \n",
       "\n",
       "        R_1_missing  R_28_missing  S_5_missing  \n",
       "0             False         False        False  \n",
       "1             False         False        False  \n",
       "2             False         False        False  \n",
       "3             False         False        False  \n",
       "4             False         False        False  \n",
       "...             ...           ...          ...  \n",
       "458908        False         False        False  \n",
       "458909        False         False        False  \n",
       "458910        False         False        False  \n",
       "458911        False         False        False  \n",
       "458912        False         False        False  \n",
       "\n",
       "[458913 rows x 394 columns]"
      ]
     },
     "execution_count": 3,
     "metadata": {},
     "output_type": "execute_result"
    }
   ],
   "source": [
    "x_train"
   ]
  },
  {
   "cell_type": "markdown",
   "id": "f238c2fb",
   "metadata": {},
   "source": [
    "# Categorical to OneHot"
   ]
  },
  {
   "cell_type": "code",
   "execution_count": 4,
   "id": "ebee1e2d",
   "metadata": {},
   "outputs": [],
   "source": [
    "# x_train = pd.get_dummies(x_train, columns=[\"D_36\", \"D_44\"], prefix=[\"D_36\", \"D_44\"], \n",
    "#                drop_first=True, dummy_na=True)\n",
    "\n",
    "# x_test = pd.get_dummies(x_test, columns=[\"D_36\", \"D_44\"], prefix=[\"D_36\", \"D_44\"], \n",
    "#                drop_first=True, dummy_na=True)"
   ]
  },
  {
   "cell_type": "markdown",
   "id": "6baaa4bb",
   "metadata": {},
   "source": [
    "# Test Train Split"
   ]
  },
  {
   "cell_type": "code",
   "execution_count": 5,
   "id": "bfe67874",
   "metadata": {},
   "outputs": [],
   "source": [
    "x_train, x_val, y_train, y_val = train_test_split(x_train, y_train, test_size=0.15, random_state=59, stratify=y_train)"
   ]
  },
  {
   "cell_type": "code",
   "execution_count": 6,
   "id": "ac8b4a7b",
   "metadata": {},
   "outputs": [
    {
     "data": {
      "text/html": [
       "<div>\n",
       "<style scoped>\n",
       "    .dataframe tbody tr th:only-of-type {\n",
       "        vertical-align: middle;\n",
       "    }\n",
       "\n",
       "    .dataframe tbody tr th {\n",
       "        vertical-align: top;\n",
       "    }\n",
       "\n",
       "    .dataframe thead th {\n",
       "        text-align: right;\n",
       "    }\n",
       "</style>\n",
       "<table border=\"1\" class=\"dataframe\">\n",
       "  <thead>\n",
       "    <tr style=\"text-align: right;\">\n",
       "      <th></th>\n",
       "      <th>B_37</th>\n",
       "      <th>S_24</th>\n",
       "      <th>S_4</th>\n",
       "      <th>S_14</th>\n",
       "      <th>B_25</th>\n",
       "      <th>D_38</th>\n",
       "      <th>B_30</th>\n",
       "      <th>D_138</th>\n",
       "      <th>P_2</th>\n",
       "      <th>S_7</th>\n",
       "      <th>...</th>\n",
       "      <th>D_43_missing</th>\n",
       "      <th>D_4_missing</th>\n",
       "      <th>D_85_missing</th>\n",
       "      <th>D_78_missing</th>\n",
       "      <th>D_42_missing</th>\n",
       "      <th>D_52_missing</th>\n",
       "      <th>D_29_missing</th>\n",
       "      <th>R_1_missing</th>\n",
       "      <th>R_28_missing</th>\n",
       "      <th>S_5_missing</th>\n",
       "    </tr>\n",
       "  </thead>\n",
       "  <tbody>\n",
       "    <tr>\n",
       "      <th>204902</th>\n",
       "      <td>0.000537</td>\n",
       "      <td>0.002211</td>\n",
       "      <td>0.753418</td>\n",
       "      <td>0.426758</td>\n",
       "      <td>1.004883</td>\n",
       "      <td>0.178881</td>\n",
       "      <td>0.031372</td>\n",
       "      <td>0.580566</td>\n",
       "      <td>0.897461</td>\n",
       "      <td>0.166138</td>\n",
       "      <td>...</td>\n",
       "      <td>True</td>\n",
       "      <td>False</td>\n",
       "      <td>False</td>\n",
       "      <td>False</td>\n",
       "      <td>False</td>\n",
       "      <td>False</td>\n",
       "      <td>False</td>\n",
       "      <td>False</td>\n",
       "      <td>False</td>\n",
       "      <td>False</td>\n",
       "    </tr>\n",
       "    <tr>\n",
       "      <th>379883</th>\n",
       "      <td>1.009766</td>\n",
       "      <td>0.004143</td>\n",
       "      <td>0.009712</td>\n",
       "      <td>0.007290</td>\n",
       "      <td>0.054077</td>\n",
       "      <td>0.198311</td>\n",
       "      <td>0.540527</td>\n",
       "      <td>0.291504</td>\n",
       "      <td>0.332520</td>\n",
       "      <td>0.302964</td>\n",
       "      <td>...</td>\n",
       "      <td>True</td>\n",
       "      <td>False</td>\n",
       "      <td>False</td>\n",
       "      <td>False</td>\n",
       "      <td>False</td>\n",
       "      <td>False</td>\n",
       "      <td>False</td>\n",
       "      <td>False</td>\n",
       "      <td>False</td>\n",
       "      <td>False</td>\n",
       "    </tr>\n",
       "    <tr>\n",
       "      <th>129737</th>\n",
       "      <td>0.000283</td>\n",
       "      <td>0.004601</td>\n",
       "      <td>0.173340</td>\n",
       "      <td>0.286865</td>\n",
       "      <td>0.419678</td>\n",
       "      <td>0.182790</td>\n",
       "      <td>0.087952</td>\n",
       "      <td>0.358643</td>\n",
       "      <td>0.464355</td>\n",
       "      <td>0.405273</td>\n",
       "      <td>...</td>\n",
       "      <td>True</td>\n",
       "      <td>False</td>\n",
       "      <td>False</td>\n",
       "      <td>False</td>\n",
       "      <td>False</td>\n",
       "      <td>False</td>\n",
       "      <td>False</td>\n",
       "      <td>False</td>\n",
       "      <td>False</td>\n",
       "      <td>False</td>\n",
       "    </tr>\n",
       "    <tr>\n",
       "      <th>73910</th>\n",
       "      <td>0.009575</td>\n",
       "      <td>0.001327</td>\n",
       "      <td>0.103271</td>\n",
       "      <td>0.005520</td>\n",
       "      <td>0.243042</td>\n",
       "      <td>0.191612</td>\n",
       "      <td>0.572754</td>\n",
       "      <td>0.454834</td>\n",
       "      <td>0.205078</td>\n",
       "      <td>0.187012</td>\n",
       "      <td>...</td>\n",
       "      <td>True</td>\n",
       "      <td>False</td>\n",
       "      <td>False</td>\n",
       "      <td>False</td>\n",
       "      <td>False</td>\n",
       "      <td>False</td>\n",
       "      <td>False</td>\n",
       "      <td>False</td>\n",
       "      <td>False</td>\n",
       "      <td>False</td>\n",
       "    </tr>\n",
       "    <tr>\n",
       "      <th>216625</th>\n",
       "      <td>0.006859</td>\n",
       "      <td>0.005913</td>\n",
       "      <td>0.757324</td>\n",
       "      <td>0.844727</td>\n",
       "      <td>1.008789</td>\n",
       "      <td>0.187704</td>\n",
       "      <td>0.009346</td>\n",
       "      <td>0.685547</td>\n",
       "      <td>0.896973</td>\n",
       "      <td>0.137207</td>\n",
       "      <td>...</td>\n",
       "      <td>True</td>\n",
       "      <td>False</td>\n",
       "      <td>False</td>\n",
       "      <td>False</td>\n",
       "      <td>False</td>\n",
       "      <td>False</td>\n",
       "      <td>False</td>\n",
       "      <td>False</td>\n",
       "      <td>False</td>\n",
       "      <td>False</td>\n",
       "    </tr>\n",
       "    <tr>\n",
       "      <th>...</th>\n",
       "      <td>...</td>\n",
       "      <td>...</td>\n",
       "      <td>...</td>\n",
       "      <td>...</td>\n",
       "      <td>...</td>\n",
       "      <td>...</td>\n",
       "      <td>...</td>\n",
       "      <td>...</td>\n",
       "      <td>...</td>\n",
       "      <td>...</td>\n",
       "      <td>...</td>\n",
       "      <td>...</td>\n",
       "      <td>...</td>\n",
       "      <td>...</td>\n",
       "      <td>...</td>\n",
       "      <td>...</td>\n",
       "      <td>...</td>\n",
       "      <td>...</td>\n",
       "      <td>...</td>\n",
       "      <td>...</td>\n",
       "      <td>...</td>\n",
       "    </tr>\n",
       "    <tr>\n",
       "      <th>294509</th>\n",
       "      <td>0.000364</td>\n",
       "      <td>0.009514</td>\n",
       "      <td>0.009933</td>\n",
       "      <td>0.000112</td>\n",
       "      <td>0.240112</td>\n",
       "      <td>0.184884</td>\n",
       "      <td>0.572754</td>\n",
       "      <td>0.093506</td>\n",
       "      <td>0.379639</td>\n",
       "      <td>0.253174</td>\n",
       "      <td>...</td>\n",
       "      <td>True</td>\n",
       "      <td>False</td>\n",
       "      <td>False</td>\n",
       "      <td>False</td>\n",
       "      <td>False</td>\n",
       "      <td>False</td>\n",
       "      <td>False</td>\n",
       "      <td>False</td>\n",
       "      <td>False</td>\n",
       "      <td>False</td>\n",
       "    </tr>\n",
       "    <tr>\n",
       "      <th>234469</th>\n",
       "      <td>0.006172</td>\n",
       "      <td>0.008919</td>\n",
       "      <td>0.760742</td>\n",
       "      <td>0.850098</td>\n",
       "      <td>1.005859</td>\n",
       "      <td>0.175321</td>\n",
       "      <td>0.060883</td>\n",
       "      <td>0.270264</td>\n",
       "      <td>0.950684</td>\n",
       "      <td>0.106018</td>\n",
       "      <td>...</td>\n",
       "      <td>True</td>\n",
       "      <td>False</td>\n",
       "      <td>False</td>\n",
       "      <td>False</td>\n",
       "      <td>False</td>\n",
       "      <td>False</td>\n",
       "      <td>False</td>\n",
       "      <td>False</td>\n",
       "      <td>False</td>\n",
       "      <td>False</td>\n",
       "    </tr>\n",
       "    <tr>\n",
       "      <th>283661</th>\n",
       "      <td>0.009285</td>\n",
       "      <td>0.000160</td>\n",
       "      <td>0.477539</td>\n",
       "      <td>0.689941</td>\n",
       "      <td>0.148315</td>\n",
       "      <td>0.194191</td>\n",
       "      <td>0.632324</td>\n",
       "      <td>0.391357</td>\n",
       "      <td>0.258545</td>\n",
       "      <td>0.145630</td>\n",
       "      <td>...</td>\n",
       "      <td>True</td>\n",
       "      <td>False</td>\n",
       "      <td>False</td>\n",
       "      <td>False</td>\n",
       "      <td>False</td>\n",
       "      <td>False</td>\n",
       "      <td>False</td>\n",
       "      <td>False</td>\n",
       "      <td>False</td>\n",
       "      <td>False</td>\n",
       "    </tr>\n",
       "    <tr>\n",
       "      <th>418453</th>\n",
       "      <td>0.006802</td>\n",
       "      <td>0.004635</td>\n",
       "      <td>0.854980</td>\n",
       "      <td>0.533203</td>\n",
       "      <td>1.004883</td>\n",
       "      <td>0.180153</td>\n",
       "      <td>0.036621</td>\n",
       "      <td>0.595703</td>\n",
       "      <td>1.004883</td>\n",
       "      <td>0.015427</td>\n",
       "      <td>...</td>\n",
       "      <td>True</td>\n",
       "      <td>False</td>\n",
       "      <td>False</td>\n",
       "      <td>False</td>\n",
       "      <td>False</td>\n",
       "      <td>False</td>\n",
       "      <td>False</td>\n",
       "      <td>False</td>\n",
       "      <td>False</td>\n",
       "      <td>False</td>\n",
       "    </tr>\n",
       "    <tr>\n",
       "      <th>298858</th>\n",
       "      <td>1.005859</td>\n",
       "      <td>0.003828</td>\n",
       "      <td>0.174683</td>\n",
       "      <td>0.285889</td>\n",
       "      <td>0.103088</td>\n",
       "      <td>0.183011</td>\n",
       "      <td>0.439453</td>\n",
       "      <td>0.273193</td>\n",
       "      <td>0.446289</td>\n",
       "      <td>0.201538</td>\n",
       "      <td>...</td>\n",
       "      <td>True</td>\n",
       "      <td>False</td>\n",
       "      <td>False</td>\n",
       "      <td>False</td>\n",
       "      <td>False</td>\n",
       "      <td>False</td>\n",
       "      <td>False</td>\n",
       "      <td>False</td>\n",
       "      <td>False</td>\n",
       "      <td>False</td>\n",
       "    </tr>\n",
       "  </tbody>\n",
       "</table>\n",
       "<p>390076 rows × 394 columns</p>\n",
       "</div>"
      ],
      "text/plain": [
       "            B_37      S_24       S_4      S_14      B_25      D_38      B_30  \\\n",
       "204902  0.000537  0.002211  0.753418  0.426758  1.004883  0.178881  0.031372   \n",
       "379883  1.009766  0.004143  0.009712  0.007290  0.054077  0.198311  0.540527   \n",
       "129737  0.000283  0.004601  0.173340  0.286865  0.419678  0.182790  0.087952   \n",
       "73910   0.009575  0.001327  0.103271  0.005520  0.243042  0.191612  0.572754   \n",
       "216625  0.006859  0.005913  0.757324  0.844727  1.008789  0.187704  0.009346   \n",
       "...          ...       ...       ...       ...       ...       ...       ...   \n",
       "294509  0.000364  0.009514  0.009933  0.000112  0.240112  0.184884  0.572754   \n",
       "234469  0.006172  0.008919  0.760742  0.850098  1.005859  0.175321  0.060883   \n",
       "283661  0.009285  0.000160  0.477539  0.689941  0.148315  0.194191  0.632324   \n",
       "418453  0.006802  0.004635  0.854980  0.533203  1.004883  0.180153  0.036621   \n",
       "298858  1.005859  0.003828  0.174683  0.285889  0.103088  0.183011  0.439453   \n",
       "\n",
       "           D_138       P_2       S_7  ...  D_43_missing  D_4_missing  \\\n",
       "204902  0.580566  0.897461  0.166138  ...          True        False   \n",
       "379883  0.291504  0.332520  0.302964  ...          True        False   \n",
       "129737  0.358643  0.464355  0.405273  ...          True        False   \n",
       "73910   0.454834  0.205078  0.187012  ...          True        False   \n",
       "216625  0.685547  0.896973  0.137207  ...          True        False   \n",
       "...          ...       ...       ...  ...           ...          ...   \n",
       "294509  0.093506  0.379639  0.253174  ...          True        False   \n",
       "234469  0.270264  0.950684  0.106018  ...          True        False   \n",
       "283661  0.391357  0.258545  0.145630  ...          True        False   \n",
       "418453  0.595703  1.004883  0.015427  ...          True        False   \n",
       "298858  0.273193  0.446289  0.201538  ...          True        False   \n",
       "\n",
       "        D_85_missing  D_78_missing  D_42_missing  D_52_missing  D_29_missing  \\\n",
       "204902         False         False         False         False         False   \n",
       "379883         False         False         False         False         False   \n",
       "129737         False         False         False         False         False   \n",
       "73910          False         False         False         False         False   \n",
       "216625         False         False         False         False         False   \n",
       "...              ...           ...           ...           ...           ...   \n",
       "294509         False         False         False         False         False   \n",
       "234469         False         False         False         False         False   \n",
       "283661         False         False         False         False         False   \n",
       "418453         False         False         False         False         False   \n",
       "298858         False         False         False         False         False   \n",
       "\n",
       "        R_1_missing  R_28_missing  S_5_missing  \n",
       "204902        False         False        False  \n",
       "379883        False         False        False  \n",
       "129737        False         False        False  \n",
       "73910         False         False        False  \n",
       "216625        False         False        False  \n",
       "...             ...           ...          ...  \n",
       "294509        False         False        False  \n",
       "234469        False         False        False  \n",
       "283661        False         False        False  \n",
       "418453        False         False        False  \n",
       "298858        False         False        False  \n",
       "\n",
       "[390076 rows x 394 columns]"
      ]
     },
     "execution_count": 6,
     "metadata": {},
     "output_type": "execute_result"
    }
   ],
   "source": [
    "x_train"
   ]
  },
  {
   "cell_type": "code",
   "execution_count": 7,
   "id": "04a16719",
   "metadata": {},
   "outputs": [
    {
     "data": {
      "text/html": [
       "<div>\n",
       "<style scoped>\n",
       "    .dataframe tbody tr th:only-of-type {\n",
       "        vertical-align: middle;\n",
       "    }\n",
       "\n",
       "    .dataframe tbody tr th {\n",
       "        vertical-align: top;\n",
       "    }\n",
       "\n",
       "    .dataframe thead th {\n",
       "        text-align: right;\n",
       "    }\n",
       "</style>\n",
       "<table border=\"1\" class=\"dataframe\">\n",
       "  <thead>\n",
       "    <tr style=\"text-align: right;\">\n",
       "      <th></th>\n",
       "      <th>B_37</th>\n",
       "      <th>S_24</th>\n",
       "      <th>S_4</th>\n",
       "      <th>S_14</th>\n",
       "      <th>B_25</th>\n",
       "      <th>D_38</th>\n",
       "      <th>B_30</th>\n",
       "      <th>D_138</th>\n",
       "      <th>P_2</th>\n",
       "      <th>S_7</th>\n",
       "      <th>...</th>\n",
       "      <th>D_43_missing</th>\n",
       "      <th>D_4_missing</th>\n",
       "      <th>D_85_missing</th>\n",
       "      <th>D_78_missing</th>\n",
       "      <th>D_42_missing</th>\n",
       "      <th>D_52_missing</th>\n",
       "      <th>D_29_missing</th>\n",
       "      <th>R_1_missing</th>\n",
       "      <th>R_28_missing</th>\n",
       "      <th>S_5_missing</th>\n",
       "    </tr>\n",
       "  </thead>\n",
       "  <tbody>\n",
       "    <tr>\n",
       "      <th>352262</th>\n",
       "      <td>0.006382</td>\n",
       "      <td>0.005024</td>\n",
       "      <td>0.008347</td>\n",
       "      <td>0.003109</td>\n",
       "      <td>1.002930</td>\n",
       "      <td>0.183563</td>\n",
       "      <td>0.000047</td>\n",
       "      <td>0.470215</td>\n",
       "      <td>0.858398</td>\n",
       "      <td>0.287264</td>\n",
       "      <td>...</td>\n",
       "      <td>True</td>\n",
       "      <td>False</td>\n",
       "      <td>False</td>\n",
       "      <td>False</td>\n",
       "      <td>False</td>\n",
       "      <td>False</td>\n",
       "      <td>False</td>\n",
       "      <td>False</td>\n",
       "      <td>False</td>\n",
       "      <td>False</td>\n",
       "    </tr>\n",
       "    <tr>\n",
       "      <th>81404</th>\n",
       "      <td>0.005367</td>\n",
       "      <td>0.007484</td>\n",
       "      <td>0.319336</td>\n",
       "      <td>0.285645</td>\n",
       "      <td>0.481201</td>\n",
       "      <td>0.183854</td>\n",
       "      <td>0.013557</td>\n",
       "      <td>0.488037</td>\n",
       "      <td>0.765137</td>\n",
       "      <td>0.175659</td>\n",
       "      <td>...</td>\n",
       "      <td>True</td>\n",
       "      <td>False</td>\n",
       "      <td>False</td>\n",
       "      <td>False</td>\n",
       "      <td>False</td>\n",
       "      <td>False</td>\n",
       "      <td>False</td>\n",
       "      <td>False</td>\n",
       "      <td>False</td>\n",
       "      <td>False</td>\n",
       "    </tr>\n",
       "    <tr>\n",
       "      <th>355900</th>\n",
       "      <td>0.000736</td>\n",
       "      <td>0.003660</td>\n",
       "      <td>0.008263</td>\n",
       "      <td>0.002398</td>\n",
       "      <td>0.051575</td>\n",
       "      <td>0.189862</td>\n",
       "      <td>0.468506</td>\n",
       "      <td>0.272461</td>\n",
       "      <td>0.312988</td>\n",
       "      <td>0.616699</td>\n",
       "      <td>...</td>\n",
       "      <td>True</td>\n",
       "      <td>False</td>\n",
       "      <td>False</td>\n",
       "      <td>False</td>\n",
       "      <td>False</td>\n",
       "      <td>False</td>\n",
       "      <td>False</td>\n",
       "      <td>False</td>\n",
       "      <td>False</td>\n",
       "      <td>False</td>\n",
       "    </tr>\n",
       "    <tr>\n",
       "      <th>64818</th>\n",
       "      <td>0.001374</td>\n",
       "      <td>0.008667</td>\n",
       "      <td>0.472656</td>\n",
       "      <td>0.000304</td>\n",
       "      <td>0.526367</td>\n",
       "      <td>0.205407</td>\n",
       "      <td>0.007141</td>\n",
       "      <td>0.159180</td>\n",
       "      <td>0.562500</td>\n",
       "      <td>0.138916</td>\n",
       "      <td>...</td>\n",
       "      <td>True</td>\n",
       "      <td>False</td>\n",
       "      <td>False</td>\n",
       "      <td>False</td>\n",
       "      <td>False</td>\n",
       "      <td>False</td>\n",
       "      <td>False</td>\n",
       "      <td>False</td>\n",
       "      <td>False</td>\n",
       "      <td>False</td>\n",
       "    </tr>\n",
       "    <tr>\n",
       "      <th>101079</th>\n",
       "      <td>0.003305</td>\n",
       "      <td>0.005138</td>\n",
       "      <td>0.758301</td>\n",
       "      <td>0.424805</td>\n",
       "      <td>1.007812</td>\n",
       "      <td>0.183301</td>\n",
       "      <td>0.092468</td>\n",
       "      <td>0.410156</td>\n",
       "      <td>0.785645</td>\n",
       "      <td>0.059998</td>\n",
       "      <td>...</td>\n",
       "      <td>True</td>\n",
       "      <td>False</td>\n",
       "      <td>False</td>\n",
       "      <td>False</td>\n",
       "      <td>False</td>\n",
       "      <td>False</td>\n",
       "      <td>False</td>\n",
       "      <td>False</td>\n",
       "      <td>False</td>\n",
       "      <td>False</td>\n",
       "    </tr>\n",
       "    <tr>\n",
       "      <th>...</th>\n",
       "      <td>...</td>\n",
       "      <td>...</td>\n",
       "      <td>...</td>\n",
       "      <td>...</td>\n",
       "      <td>...</td>\n",
       "      <td>...</td>\n",
       "      <td>...</td>\n",
       "      <td>...</td>\n",
       "      <td>...</td>\n",
       "      <td>...</td>\n",
       "      <td>...</td>\n",
       "      <td>...</td>\n",
       "      <td>...</td>\n",
       "      <td>...</td>\n",
       "      <td>...</td>\n",
       "      <td>...</td>\n",
       "      <td>...</td>\n",
       "      <td>...</td>\n",
       "      <td>...</td>\n",
       "      <td>...</td>\n",
       "      <td>...</td>\n",
       "    </tr>\n",
       "    <tr>\n",
       "      <th>164679</th>\n",
       "      <td>0.001330</td>\n",
       "      <td>0.005997</td>\n",
       "      <td>0.324463</td>\n",
       "      <td>0.846680</td>\n",
       "      <td>1.004883</td>\n",
       "      <td>0.187393</td>\n",
       "      <td>0.078918</td>\n",
       "      <td>0.505371</td>\n",
       "      <td>0.879883</td>\n",
       "      <td>0.142822</td>\n",
       "      <td>...</td>\n",
       "      <td>True</td>\n",
       "      <td>False</td>\n",
       "      <td>False</td>\n",
       "      <td>False</td>\n",
       "      <td>False</td>\n",
       "      <td>False</td>\n",
       "      <td>False</td>\n",
       "      <td>False</td>\n",
       "      <td>False</td>\n",
       "      <td>False</td>\n",
       "    </tr>\n",
       "    <tr>\n",
       "      <th>411078</th>\n",
       "      <td>0.004597</td>\n",
       "      <td>0.007481</td>\n",
       "      <td>0.666992</td>\n",
       "      <td>0.557617</td>\n",
       "      <td>0.145508</td>\n",
       "      <td>0.171607</td>\n",
       "      <td>0.006599</td>\n",
       "      <td>0.439453</td>\n",
       "      <td>0.955566</td>\n",
       "      <td>0.138672</td>\n",
       "      <td>...</td>\n",
       "      <td>True</td>\n",
       "      <td>False</td>\n",
       "      <td>False</td>\n",
       "      <td>False</td>\n",
       "      <td>False</td>\n",
       "      <td>False</td>\n",
       "      <td>False</td>\n",
       "      <td>False</td>\n",
       "      <td>False</td>\n",
       "      <td>False</td>\n",
       "    </tr>\n",
       "    <tr>\n",
       "      <th>278203</th>\n",
       "      <td>0.005417</td>\n",
       "      <td>0.004021</td>\n",
       "      <td>0.603027</td>\n",
       "      <td>0.288330</td>\n",
       "      <td>0.691895</td>\n",
       "      <td>0.187242</td>\n",
       "      <td>0.000612</td>\n",
       "      <td>0.142212</td>\n",
       "      <td>0.830566</td>\n",
       "      <td>0.103577</td>\n",
       "      <td>...</td>\n",
       "      <td>True</td>\n",
       "      <td>False</td>\n",
       "      <td>False</td>\n",
       "      <td>False</td>\n",
       "      <td>False</td>\n",
       "      <td>False</td>\n",
       "      <td>False</td>\n",
       "      <td>False</td>\n",
       "      <td>False</td>\n",
       "      <td>False</td>\n",
       "    </tr>\n",
       "    <tr>\n",
       "      <th>16462</th>\n",
       "      <td>0.005165</td>\n",
       "      <td>0.000354</td>\n",
       "      <td>0.406982</td>\n",
       "      <td>0.282471</td>\n",
       "      <td>0.324463</td>\n",
       "      <td>0.195193</td>\n",
       "      <td>0.461914</td>\n",
       "      <td>0.143188</td>\n",
       "      <td>0.308594</td>\n",
       "      <td>0.156738</td>\n",
       "      <td>...</td>\n",
       "      <td>True</td>\n",
       "      <td>False</td>\n",
       "      <td>False</td>\n",
       "      <td>False</td>\n",
       "      <td>False</td>\n",
       "      <td>False</td>\n",
       "      <td>False</td>\n",
       "      <td>False</td>\n",
       "      <td>False</td>\n",
       "      <td>False</td>\n",
       "    </tr>\n",
       "    <tr>\n",
       "      <th>271188</th>\n",
       "      <td>0.007957</td>\n",
       "      <td>0.003727</td>\n",
       "      <td>0.001541</td>\n",
       "      <td>0.003885</td>\n",
       "      <td>0.589844</td>\n",
       "      <td>0.184806</td>\n",
       "      <td>0.006088</td>\n",
       "      <td>0.273438</td>\n",
       "      <td>0.659180</td>\n",
       "      <td>0.290085</td>\n",
       "      <td>...</td>\n",
       "      <td>True</td>\n",
       "      <td>False</td>\n",
       "      <td>False</td>\n",
       "      <td>False</td>\n",
       "      <td>False</td>\n",
       "      <td>False</td>\n",
       "      <td>False</td>\n",
       "      <td>False</td>\n",
       "      <td>False</td>\n",
       "      <td>False</td>\n",
       "    </tr>\n",
       "  </tbody>\n",
       "</table>\n",
       "<p>68837 rows × 394 columns</p>\n",
       "</div>"
      ],
      "text/plain": [
       "            B_37      S_24       S_4      S_14      B_25      D_38      B_30  \\\n",
       "352262  0.006382  0.005024  0.008347  0.003109  1.002930  0.183563  0.000047   \n",
       "81404   0.005367  0.007484  0.319336  0.285645  0.481201  0.183854  0.013557   \n",
       "355900  0.000736  0.003660  0.008263  0.002398  0.051575  0.189862  0.468506   \n",
       "64818   0.001374  0.008667  0.472656  0.000304  0.526367  0.205407  0.007141   \n",
       "101079  0.003305  0.005138  0.758301  0.424805  1.007812  0.183301  0.092468   \n",
       "...          ...       ...       ...       ...       ...       ...       ...   \n",
       "164679  0.001330  0.005997  0.324463  0.846680  1.004883  0.187393  0.078918   \n",
       "411078  0.004597  0.007481  0.666992  0.557617  0.145508  0.171607  0.006599   \n",
       "278203  0.005417  0.004021  0.603027  0.288330  0.691895  0.187242  0.000612   \n",
       "16462   0.005165  0.000354  0.406982  0.282471  0.324463  0.195193  0.461914   \n",
       "271188  0.007957  0.003727  0.001541  0.003885  0.589844  0.184806  0.006088   \n",
       "\n",
       "           D_138       P_2       S_7  ...  D_43_missing  D_4_missing  \\\n",
       "352262  0.470215  0.858398  0.287264  ...          True        False   \n",
       "81404   0.488037  0.765137  0.175659  ...          True        False   \n",
       "355900  0.272461  0.312988  0.616699  ...          True        False   \n",
       "64818   0.159180  0.562500  0.138916  ...          True        False   \n",
       "101079  0.410156  0.785645  0.059998  ...          True        False   \n",
       "...          ...       ...       ...  ...           ...          ...   \n",
       "164679  0.505371  0.879883  0.142822  ...          True        False   \n",
       "411078  0.439453  0.955566  0.138672  ...          True        False   \n",
       "278203  0.142212  0.830566  0.103577  ...          True        False   \n",
       "16462   0.143188  0.308594  0.156738  ...          True        False   \n",
       "271188  0.273438  0.659180  0.290085  ...          True        False   \n",
       "\n",
       "        D_85_missing  D_78_missing  D_42_missing  D_52_missing  D_29_missing  \\\n",
       "352262         False         False         False         False         False   \n",
       "81404          False         False         False         False         False   \n",
       "355900         False         False         False         False         False   \n",
       "64818          False         False         False         False         False   \n",
       "101079         False         False         False         False         False   \n",
       "...              ...           ...           ...           ...           ...   \n",
       "164679         False         False         False         False         False   \n",
       "411078         False         False         False         False         False   \n",
       "278203         False         False         False         False         False   \n",
       "16462          False         False         False         False         False   \n",
       "271188         False         False         False         False         False   \n",
       "\n",
       "        R_1_missing  R_28_missing  S_5_missing  \n",
       "352262        False         False        False  \n",
       "81404         False         False        False  \n",
       "355900        False         False        False  \n",
       "64818         False         False        False  \n",
       "101079        False         False        False  \n",
       "...             ...           ...          ...  \n",
       "164679        False         False        False  \n",
       "411078        False         False        False  \n",
       "278203        False         False        False  \n",
       "16462         False         False        False  \n",
       "271188        False         False        False  \n",
       "\n",
       "[68837 rows x 394 columns]"
      ]
     },
     "execution_count": 7,
     "metadata": {},
     "output_type": "execute_result"
    }
   ],
   "source": [
    "x_val"
   ]
  },
  {
   "cell_type": "markdown",
   "id": "787af36a",
   "metadata": {},
   "source": [
    "# LightGBM"
   ]
  },
  {
   "cell_type": "code",
   "execution_count": 8,
   "id": "096388d0",
   "metadata": {},
   "outputs": [],
   "source": [
    "categorical_feats = x_train.select_dtypes('object').columns.tolist()\n",
    "for c in categorical_feats:\n",
    "    x_train[c] = x_train[c].astype('category')\n",
    "    x_val[c] = x_val[c].astype('category')\n",
    "    x_test[c] = x_test[c].astype('category')"
   ]
  },
  {
   "cell_type": "code",
   "execution_count": 9,
   "id": "64d1946d",
   "metadata": {},
   "outputs": [
    {
     "name": "stdout",
     "output_type": "stream",
     "text": [
      "Training lightgbm\n"
     ]
    }
   ],
   "source": [
    "print ('Training lightgbm')\n",
    "\n",
    "# money\n",
    "params = {\n",
    "          \"objective\" : \"multiclass\",\n",
    "          \"num_class\" : 4,\n",
    "          \"num_leaves\" : 100,\n",
    "          \"max_depth\": 8,\n",
    "          \"learning_rate\" : 0.02,\n",
    "          \"bagging_fraction\" : 0.9,  # subsample\n",
    "          \"feature_fraction\" : 0.9,  # colsample_bytree\n",
    "          \"bagging_freq\" : 5,        # subsample_freq\n",
    "          \"bagging_seed\" : 2018,\n",
    "          \"verbosity\" : -1,\n",
    "          \"metric\" : ['auc_mu', 'multi_logloss'],\n",
    "#             \"metric\" : [acc_for_lgbm],\n",
    "          \"min_data_in_leaf\" : 5000,\n",
    "#           'categorical_feature' : x_train.select_dtypes('object').columns.tolist(),\n",
    "#             'boosting' : 'dart',\n",
    "            'num_threads' : 8,\n",
    "#             'xgboost_dart_mode' : True,\n",
    "            'is_unbalance' : True,\n",
    "#             'class_weight' : 'balanced',\n",
    "            'n_estimators' : 400,\n",
    "\n",
    "}"
   ]
  },
  {
   "cell_type": "code",
   "execution_count": 10,
   "id": "59d01e30",
   "metadata": {},
   "outputs": [],
   "source": [
    "params = {'task': 'train',\n",
    " 'learning_rate': 0.05,\n",
    " 'num_leaves': 66,\n",
    " 'colsample_bytree': 0.9162213204002109,\n",
    " 'subsample': 0.5909124836035503,\n",
    " 'bagging_freq': 1,\n",
    " 'max_depth': -1,\n",
    " 'verbosity': -1,\n",
    " 'reg_alpha': 5.472429642032198e-06,\n",
    " 'reg_lambda': 0.00052821153945323,\n",
    " 'min_split_gain': 0.0,\n",
    " 'zero_as_missing': False,\n",
    " 'max_bin': 255,\n",
    " 'min_data_in_bin': 3,\n",
    " 'random_state': 42,\n",
    " 'num_classes': 4,\n",
    " 'objective': 'multiclass',\n",
    " 'metric': 'multi_logloss',\n",
    " 'num_threads': 8,\n",
    " 'min_sum_hessian_in_leaf': 0.00541524411940254,\n",
    " 'n_estimators': 292,\n",
    " \"metric\" : ['auc_mu'],}"
   ]
  },
  {
   "cell_type": "code",
   "execution_count": 11,
   "id": "8be8a2fe",
   "metadata": {
    "scrolled": true
   },
   "outputs": [
    {
     "name": "stderr",
     "output_type": "stream",
     "text": [
      "/home/jindalmadhur26/anaconda3/lib/python3.9/site-packages/sklearn/preprocessing/_label.py:98: DataConversionWarning: A column-vector y was passed when a 1d array was expected. Please change the shape of y to (n_samples, ), for example using ravel().\n",
      "  y = column_or_1d(y, warn=True)\n",
      "/home/jindalmadhur26/anaconda3/lib/python3.9/site-packages/sklearn/preprocessing/_label.py:133: DataConversionWarning: A column-vector y was passed when a 1d array was expected. Please change the shape of y to (n_samples, ), for example using ravel().\n",
      "  y = column_or_1d(y, warn=True)\n",
      "/home/jindalmadhur26/anaconda3/lib/python3.9/site-packages/lightgbm/sklearn.py:726: UserWarning: 'early_stopping_rounds' argument is deprecated and will be removed in a future release of LightGBM. Pass 'early_stopping()' callback via 'callbacks' argument instead.\n",
      "  _log_warning(\"'early_stopping_rounds' argument is deprecated and will be removed in a future release of LightGBM. \"\n",
      "/home/jindalmadhur26/anaconda3/lib/python3.9/site-packages/lightgbm/sklearn.py:736: UserWarning: 'verbose' argument is deprecated and will be removed in a future release of LightGBM. Pass 'log_evaluation()' callback via 'callbacks' argument instead.\n",
      "  _log_warning(\"'verbose' argument is deprecated and will be removed in a future release of LightGBM. \"\n"
     ]
    },
    {
     "name": "stdout",
     "output_type": "stream",
     "text": [
      "[LightGBM] [Warning] num_threads is set=8, n_jobs=-1 will be ignored. Current value: num_threads=8\n",
      "[LightGBM] [Warning] min_sum_hessian_in_leaf is set=0.00541524411940254, min_child_weight=0.001 will be ignored. Current value: min_sum_hessian_in_leaf=0.00541524411940254\n",
      "[LightGBM] [Warning] bagging_freq is set=1, subsample_freq=0 will be ignored. Current value: bagging_freq=1\n",
      "[1]\ttraining's auc_mu: 0.83958\ttraining's multi_logloss: 0.805038\tvalid_1's auc_mu: 0.833092\tvalid_1's multi_logloss: 0.805341\n",
      "[2]\ttraining's auc_mu: 0.847773\ttraining's multi_logloss: 0.767656\tvalid_1's auc_mu: 0.840619\tvalid_1's multi_logloss: 0.768243\n",
      "[3]\ttraining's auc_mu: 0.851901\ttraining's multi_logloss: 0.736317\tvalid_1's auc_mu: 0.84385\tvalid_1's multi_logloss: 0.737165\n",
      "[4]\ttraining's auc_mu: 0.854555\ttraining's multi_logloss: 0.709546\tvalid_1's auc_mu: 0.845482\tvalid_1's multi_logloss: 0.710846\n",
      "[5]\ttraining's auc_mu: 0.856632\ttraining's multi_logloss: 0.686182\tvalid_1's auc_mu: 0.846883\tvalid_1's multi_logloss: 0.687786\n",
      "[6]\ttraining's auc_mu: 0.858214\ttraining's multi_logloss: 0.665872\tvalid_1's auc_mu: 0.848506\tvalid_1's multi_logloss: 0.667671\n",
      "[7]\ttraining's auc_mu: 0.859651\ttraining's multi_logloss: 0.64787\tvalid_1's auc_mu: 0.849687\tvalid_1's multi_logloss: 0.649922\n",
      "[8]\ttraining's auc_mu: 0.860998\ttraining's multi_logloss: 0.631903\tvalid_1's auc_mu: 0.850509\tvalid_1's multi_logloss: 0.634278\n",
      "[9]\ttraining's auc_mu: 0.862118\ttraining's multi_logloss: 0.617411\tvalid_1's auc_mu: 0.851076\tvalid_1's multi_logloss: 0.620103\n",
      "[10]\ttraining's auc_mu: 0.86336\ttraining's multi_logloss: 0.604429\tvalid_1's auc_mu: 0.851804\tvalid_1's multi_logloss: 0.6074\n",
      "[11]\ttraining's auc_mu: 0.864399\ttraining's multi_logloss: 0.592561\tvalid_1's auc_mu: 0.852585\tvalid_1's multi_logloss: 0.595778\n",
      "[12]\ttraining's auc_mu: 0.865376\ttraining's multi_logloss: 0.58184\tvalid_1's auc_mu: 0.853376\tvalid_1's multi_logloss: 0.585304\n",
      "[13]\ttraining's auc_mu: 0.866365\ttraining's multi_logloss: 0.571971\tvalid_1's auc_mu: 0.854065\tvalid_1's multi_logloss: 0.575703\n",
      "[14]\ttraining's auc_mu: 0.867205\ttraining's multi_logloss: 0.562961\tvalid_1's auc_mu: 0.854897\tvalid_1's multi_logloss: 0.566916\n",
      "[15]\ttraining's auc_mu: 0.868123\ttraining's multi_logloss: 0.554744\tvalid_1's auc_mu: 0.855413\tvalid_1's multi_logloss: 0.559034\n",
      "[16]\ttraining's auc_mu: 0.86895\ttraining's multi_logloss: 0.547213\tvalid_1's auc_mu: 0.855728\tvalid_1's multi_logloss: 0.551824\n",
      "[17]\ttraining's auc_mu: 0.869711\ttraining's multi_logloss: 0.540302\tvalid_1's auc_mu: 0.856115\tvalid_1's multi_logloss: 0.545174\n",
      "[18]\ttraining's auc_mu: 0.870501\ttraining's multi_logloss: 0.533876\tvalid_1's auc_mu: 0.856534\tvalid_1's multi_logloss: 0.539038\n",
      "[19]\ttraining's auc_mu: 0.871183\ttraining's multi_logloss: 0.527971\tvalid_1's auc_mu: 0.856869\tvalid_1's multi_logloss: 0.533418\n",
      "[20]\ttraining's auc_mu: 0.871921\ttraining's multi_logloss: 0.522486\tvalid_1's auc_mu: 0.857417\tvalid_1's multi_logloss: 0.528189\n",
      "[21]\ttraining's auc_mu: 0.872572\ttraining's multi_logloss: 0.517435\tvalid_1's auc_mu: 0.857798\tvalid_1's multi_logloss: 0.523409\n",
      "[22]\ttraining's auc_mu: 0.873219\ttraining's multi_logloss: 0.512735\tvalid_1's auc_mu: 0.858107\tvalid_1's multi_logloss: 0.519\n",
      "[23]\ttraining's auc_mu: 0.873789\ttraining's multi_logloss: 0.508357\tvalid_1's auc_mu: 0.8584\tvalid_1's multi_logloss: 0.51491\n",
      "[24]\ttraining's auc_mu: 0.874452\ttraining's multi_logloss: 0.504284\tvalid_1's auc_mu: 0.858682\tvalid_1's multi_logloss: 0.511138\n",
      "[25]\ttraining's auc_mu: 0.87508\ttraining's multi_logloss: 0.500458\tvalid_1's auc_mu: 0.858954\tvalid_1's multi_logloss: 0.507641\n",
      "[26]\ttraining's auc_mu: 0.875695\ttraining's multi_logloss: 0.496893\tvalid_1's auc_mu: 0.859203\tvalid_1's multi_logloss: 0.504408\n",
      "[27]\ttraining's auc_mu: 0.876356\ttraining's multi_logloss: 0.493561\tvalid_1's auc_mu: 0.859471\tvalid_1's multi_logloss: 0.501405\n",
      "[28]\ttraining's auc_mu: 0.876963\ttraining's multi_logloss: 0.490449\tvalid_1's auc_mu: 0.859716\tvalid_1's multi_logloss: 0.498616\n",
      "[29]\ttraining's auc_mu: 0.877535\ttraining's multi_logloss: 0.487505\tvalid_1's auc_mu: 0.860003\tvalid_1's multi_logloss: 0.496009\n",
      "[30]\ttraining's auc_mu: 0.878104\ttraining's multi_logloss: 0.484772\tvalid_1's auc_mu: 0.860364\tvalid_1's multi_logloss: 0.493568\n",
      "[31]\ttraining's auc_mu: 0.878634\ttraining's multi_logloss: 0.48217\tvalid_1's auc_mu: 0.860594\tvalid_1's multi_logloss: 0.491274\n",
      "[32]\ttraining's auc_mu: 0.879214\ttraining's multi_logloss: 0.479738\tvalid_1's auc_mu: 0.860757\tvalid_1's multi_logloss: 0.489203\n",
      "[33]\ttraining's auc_mu: 0.879803\ttraining's multi_logloss: 0.477439\tvalid_1's auc_mu: 0.861022\tvalid_1's multi_logloss: 0.487244\n",
      "[34]\ttraining's auc_mu: 0.880404\ttraining's multi_logloss: 0.475249\tvalid_1's auc_mu: 0.861281\tvalid_1's multi_logloss: 0.485418\n",
      "[35]\ttraining's auc_mu: 0.880908\ttraining's multi_logloss: 0.473156\tvalid_1's auc_mu: 0.861459\tvalid_1's multi_logloss: 0.48367\n",
      "[36]\ttraining's auc_mu: 0.881483\ttraining's multi_logloss: 0.471213\tvalid_1's auc_mu: 0.861581\tvalid_1's multi_logloss: 0.4821\n",
      "[37]\ttraining's auc_mu: 0.882025\ttraining's multi_logloss: 0.469382\tvalid_1's auc_mu: 0.861766\tvalid_1's multi_logloss: 0.480637\n",
      "[38]\ttraining's auc_mu: 0.88262\ttraining's multi_logloss: 0.467621\tvalid_1's auc_mu: 0.861946\tvalid_1's multi_logloss: 0.479215\n",
      "[39]\ttraining's auc_mu: 0.883223\ttraining's multi_logloss: 0.46593\tvalid_1's auc_mu: 0.862301\tvalid_1's multi_logloss: 0.477847\n",
      "[40]\ttraining's auc_mu: 0.883749\ttraining's multi_logloss: 0.464309\tvalid_1's auc_mu: 0.862489\tvalid_1's multi_logloss: 0.4766\n",
      "[41]\ttraining's auc_mu: 0.884245\ttraining's multi_logloss: 0.462756\tvalid_1's auc_mu: 0.862658\tvalid_1's multi_logloss: 0.475391\n",
      "[42]\ttraining's auc_mu: 0.884789\ttraining's multi_logloss: 0.461293\tvalid_1's auc_mu: 0.862842\tvalid_1's multi_logloss: 0.474307\n",
      "[43]\ttraining's auc_mu: 0.885273\ttraining's multi_logloss: 0.459848\tvalid_1's auc_mu: 0.863029\tvalid_1's multi_logloss: 0.473206\n",
      "[44]\ttraining's auc_mu: 0.885762\ttraining's multi_logloss: 0.458542\tvalid_1's auc_mu: 0.863209\tvalid_1's multi_logloss: 0.47227\n",
      "[45]\ttraining's auc_mu: 0.886207\ttraining's multi_logloss: 0.457264\tvalid_1's auc_mu: 0.863383\tvalid_1's multi_logloss: 0.471329\n",
      "[46]\ttraining's auc_mu: 0.88672\ttraining's multi_logloss: 0.455992\tvalid_1's auc_mu: 0.863543\tvalid_1's multi_logloss: 0.470428\n",
      "[47]\ttraining's auc_mu: 0.887207\ttraining's multi_logloss: 0.454751\tvalid_1's auc_mu: 0.863694\tvalid_1's multi_logloss: 0.469555\n",
      "[48]\ttraining's auc_mu: 0.887658\ttraining's multi_logloss: 0.453658\tvalid_1's auc_mu: 0.863795\tvalid_1's multi_logloss: 0.468802\n",
      "[49]\ttraining's auc_mu: 0.888129\ttraining's multi_logloss: 0.452527\tvalid_1's auc_mu: 0.86388\tvalid_1's multi_logloss: 0.468046\n",
      "[50]\ttraining's auc_mu: 0.888612\ttraining's multi_logloss: 0.451457\tvalid_1's auc_mu: 0.86404\tvalid_1's multi_logloss: 0.467307\n",
      "[51]\ttraining's auc_mu: 0.889063\ttraining's multi_logloss: 0.450426\tvalid_1's auc_mu: 0.864161\tvalid_1's multi_logloss: 0.466643\n",
      "[52]\ttraining's auc_mu: 0.88955\ttraining's multi_logloss: 0.449389\tvalid_1's auc_mu: 0.864224\tvalid_1's multi_logloss: 0.466052\n",
      "[53]\ttraining's auc_mu: 0.890047\ttraining's multi_logloss: 0.448418\tvalid_1's auc_mu: 0.864379\tvalid_1's multi_logloss: 0.465468\n",
      "[54]\ttraining's auc_mu: 0.89055\ttraining's multi_logloss: 0.447501\tvalid_1's auc_mu: 0.86443\tvalid_1's multi_logloss: 0.464971\n",
      "[55]\ttraining's auc_mu: 0.89095\ttraining's multi_logloss: 0.446563\tvalid_1's auc_mu: 0.864598\tvalid_1's multi_logloss: 0.46437\n",
      "[56]\ttraining's auc_mu: 0.891413\ttraining's multi_logloss: 0.445664\tvalid_1's auc_mu: 0.864606\tvalid_1's multi_logloss: 0.46391\n",
      "[57]\ttraining's auc_mu: 0.891858\ttraining's multi_logloss: 0.444808\tvalid_1's auc_mu: 0.864705\tvalid_1's multi_logloss: 0.463444\n",
      "[58]\ttraining's auc_mu: 0.892282\ttraining's multi_logloss: 0.443973\tvalid_1's auc_mu: 0.864793\tvalid_1's multi_logloss: 0.463002\n",
      "[59]\ttraining's auc_mu: 0.892767\ttraining's multi_logloss: 0.443166\tvalid_1's auc_mu: 0.864912\tvalid_1's multi_logloss: 0.462557\n",
      "[60]\ttraining's auc_mu: 0.893212\ttraining's multi_logloss: 0.442345\tvalid_1's auc_mu: 0.864978\tvalid_1's multi_logloss: 0.462173\n",
      "[61]\ttraining's auc_mu: 0.893633\ttraining's multi_logloss: 0.441555\tvalid_1's auc_mu: 0.865051\tvalid_1's multi_logloss: 0.461792\n"
     ]
    },
    {
     "name": "stdout",
     "output_type": "stream",
     "text": [
      "[62]\ttraining's auc_mu: 0.894034\ttraining's multi_logloss: 0.440769\tvalid_1's auc_mu: 0.86517\tvalid_1's multi_logloss: 0.461415\n",
      "[63]\ttraining's auc_mu: 0.894509\ttraining's multi_logloss: 0.440023\tvalid_1's auc_mu: 0.865259\tvalid_1's multi_logloss: 0.461003\n",
      "[64]\ttraining's auc_mu: 0.894914\ttraining's multi_logloss: 0.439269\tvalid_1's auc_mu: 0.86537\tvalid_1's multi_logloss: 0.460675\n",
      "[65]\ttraining's auc_mu: 0.895358\ttraining's multi_logloss: 0.438559\tvalid_1's auc_mu: 0.865441\tvalid_1's multi_logloss: 0.46034\n",
      "[66]\ttraining's auc_mu: 0.89575\ttraining's multi_logloss: 0.437867\tvalid_1's auc_mu: 0.865536\tvalid_1's multi_logloss: 0.460017\n",
      "[67]\ttraining's auc_mu: 0.896189\ttraining's multi_logloss: 0.437152\tvalid_1's auc_mu: 0.865658\tvalid_1's multi_logloss: 0.459713\n",
      "[68]\ttraining's auc_mu: 0.896595\ttraining's multi_logloss: 0.436455\tvalid_1's auc_mu: 0.865754\tvalid_1's multi_logloss: 0.459433\n",
      "[69]\ttraining's auc_mu: 0.897035\ttraining's multi_logloss: 0.435773\tvalid_1's auc_mu: 0.865868\tvalid_1's multi_logloss: 0.45914\n",
      "[70]\ttraining's auc_mu: 0.897429\ttraining's multi_logloss: 0.435115\tvalid_1's auc_mu: 0.865956\tvalid_1's multi_logloss: 0.458865\n",
      "[71]\ttraining's auc_mu: 0.89786\ttraining's multi_logloss: 0.434461\tvalid_1's auc_mu: 0.866023\tvalid_1's multi_logloss: 0.458616\n",
      "[72]\ttraining's auc_mu: 0.898328\ttraining's multi_logloss: 0.433821\tvalid_1's auc_mu: 0.866087\tvalid_1's multi_logloss: 0.458407\n",
      "[73]\ttraining's auc_mu: 0.898702\ttraining's multi_logloss: 0.433167\tvalid_1's auc_mu: 0.866099\tvalid_1's multi_logloss: 0.458208\n",
      "[74]\ttraining's auc_mu: 0.899074\ttraining's multi_logloss: 0.432539\tvalid_1's auc_mu: 0.866087\tvalid_1's multi_logloss: 0.458003\n",
      "[75]\ttraining's auc_mu: 0.899466\ttraining's multi_logloss: 0.431946\tvalid_1's auc_mu: 0.866174\tvalid_1's multi_logloss: 0.457791\n",
      "[76]\ttraining's auc_mu: 0.89985\ttraining's multi_logloss: 0.43136\tvalid_1's auc_mu: 0.866241\tvalid_1's multi_logloss: 0.457595\n",
      "[77]\ttraining's auc_mu: 0.900287\ttraining's multi_logloss: 0.430733\tvalid_1's auc_mu: 0.866348\tvalid_1's multi_logloss: 0.457395\n",
      "[78]\ttraining's auc_mu: 0.900649\ttraining's multi_logloss: 0.430103\tvalid_1's auc_mu: 0.866376\tvalid_1's multi_logloss: 0.457227\n",
      "[79]\ttraining's auc_mu: 0.901109\ttraining's multi_logloss: 0.429508\tvalid_1's auc_mu: 0.866448\tvalid_1's multi_logloss: 0.457023\n",
      "[80]\ttraining's auc_mu: 0.901535\ttraining's multi_logloss: 0.428919\tvalid_1's auc_mu: 0.866526\tvalid_1's multi_logloss: 0.456798\n",
      "[81]\ttraining's auc_mu: 0.901883\ttraining's multi_logloss: 0.428379\tvalid_1's auc_mu: 0.866586\tvalid_1's multi_logloss: 0.456644\n",
      "[82]\ttraining's auc_mu: 0.902237\ttraining's multi_logloss: 0.427769\tvalid_1's auc_mu: 0.866626\tvalid_1's multi_logloss: 0.456498\n",
      "[83]\ttraining's auc_mu: 0.902654\ttraining's multi_logloss: 0.427195\tvalid_1's auc_mu: 0.866662\tvalid_1's multi_logloss: 0.456332\n",
      "[84]\ttraining's auc_mu: 0.903062\ttraining's multi_logloss: 0.426649\tvalid_1's auc_mu: 0.86672\tvalid_1's multi_logloss: 0.456157\n",
      "[85]\ttraining's auc_mu: 0.903462\ttraining's multi_logloss: 0.426102\tvalid_1's auc_mu: 0.86676\tvalid_1's multi_logloss: 0.456001\n",
      "[86]\ttraining's auc_mu: 0.903798\ttraining's multi_logloss: 0.425533\tvalid_1's auc_mu: 0.866761\tvalid_1's multi_logloss: 0.455845\n",
      "[87]\ttraining's auc_mu: 0.904196\ttraining's multi_logloss: 0.424983\tvalid_1's auc_mu: 0.866758\tvalid_1's multi_logloss: 0.455703\n",
      "[88]\ttraining's auc_mu: 0.904576\ttraining's multi_logloss: 0.424468\tvalid_1's auc_mu: 0.866809\tvalid_1's multi_logloss: 0.455569\n",
      "[89]\ttraining's auc_mu: 0.904933\ttraining's multi_logloss: 0.423934\tvalid_1's auc_mu: 0.866797\tvalid_1's multi_logloss: 0.455462\n",
      "[90]\ttraining's auc_mu: 0.905297\ttraining's multi_logloss: 0.42338\tvalid_1's auc_mu: 0.866867\tvalid_1's multi_logloss: 0.455331\n",
      "[91]\ttraining's auc_mu: 0.905703\ttraining's multi_logloss: 0.422835\tvalid_1's auc_mu: 0.866925\tvalid_1's multi_logloss: 0.455211\n",
      "[92]\ttraining's auc_mu: 0.905995\ttraining's multi_logloss: 0.422307\tvalid_1's auc_mu: 0.866923\tvalid_1's multi_logloss: 0.455104\n",
      "[93]\ttraining's auc_mu: 0.906368\ttraining's multi_logloss: 0.421747\tvalid_1's auc_mu: 0.866945\tvalid_1's multi_logloss: 0.455004\n",
      "[94]\ttraining's auc_mu: 0.906764\ttraining's multi_logloss: 0.421245\tvalid_1's auc_mu: 0.866976\tvalid_1's multi_logloss: 0.454904\n",
      "[95]\ttraining's auc_mu: 0.907111\ttraining's multi_logloss: 0.420755\tvalid_1's auc_mu: 0.867055\tvalid_1's multi_logloss: 0.454784\n",
      "[96]\ttraining's auc_mu: 0.907548\ttraining's multi_logloss: 0.42024\tvalid_1's auc_mu: 0.867099\tvalid_1's multi_logloss: 0.454651\n",
      "[97]\ttraining's auc_mu: 0.907896\ttraining's multi_logloss: 0.419723\tvalid_1's auc_mu: 0.867151\tvalid_1's multi_logloss: 0.454504\n",
      "[98]\ttraining's auc_mu: 0.908334\ttraining's multi_logloss: 0.419201\tvalid_1's auc_mu: 0.86719\tvalid_1's multi_logloss: 0.454398\n",
      "[99]\ttraining's auc_mu: 0.908715\ttraining's multi_logloss: 0.418701\tvalid_1's auc_mu: 0.867204\tvalid_1's multi_logloss: 0.454268\n",
      "[100]\ttraining's auc_mu: 0.909047\ttraining's multi_logloss: 0.41823\tvalid_1's auc_mu: 0.867228\tvalid_1's multi_logloss: 0.454147\n",
      "[101]\ttraining's auc_mu: 0.909372\ttraining's multi_logloss: 0.417767\tvalid_1's auc_mu: 0.867276\tvalid_1's multi_logloss: 0.454045\n",
      "[102]\ttraining's auc_mu: 0.909738\ttraining's multi_logloss: 0.417296\tvalid_1's auc_mu: 0.867247\tvalid_1's multi_logloss: 0.45395\n",
      "[103]\ttraining's auc_mu: 0.910063\ttraining's multi_logloss: 0.4168\tvalid_1's auc_mu: 0.867287\tvalid_1's multi_logloss: 0.453829\n",
      "[104]\ttraining's auc_mu: 0.910381\ttraining's multi_logloss: 0.41631\tvalid_1's auc_mu: 0.867329\tvalid_1's multi_logloss: 0.453733\n",
      "[105]\ttraining's auc_mu: 0.910746\ttraining's multi_logloss: 0.415869\tvalid_1's auc_mu: 0.867325\tvalid_1's multi_logloss: 0.453761\n",
      "[106]\ttraining's auc_mu: 0.911144\ttraining's multi_logloss: 0.415383\tvalid_1's auc_mu: 0.867317\tvalid_1's multi_logloss: 0.453663\n",
      "[107]\ttraining's auc_mu: 0.911489\ttraining's multi_logloss: 0.414912\tvalid_1's auc_mu: 0.86732\tvalid_1's multi_logloss: 0.453563\n",
      "[108]\ttraining's auc_mu: 0.911782\ttraining's multi_logloss: 0.414426\tvalid_1's auc_mu: 0.867351\tvalid_1's multi_logloss: 0.453457\n",
      "[109]\ttraining's auc_mu: 0.912107\ttraining's multi_logloss: 0.413978\tvalid_1's auc_mu: 0.867352\tvalid_1's multi_logloss: 0.453406\n",
      "[110]\ttraining's auc_mu: 0.912471\ttraining's multi_logloss: 0.413524\tvalid_1's auc_mu: 0.867361\tvalid_1's multi_logloss: 0.453306\n",
      "[111]\ttraining's auc_mu: 0.912838\ttraining's multi_logloss: 0.413067\tvalid_1's auc_mu: 0.867386\tvalid_1's multi_logloss: 0.453234\n",
      "[112]\ttraining's auc_mu: 0.913198\ttraining's multi_logloss: 0.412646\tvalid_1's auc_mu: 0.867376\tvalid_1's multi_logloss: 0.453189\n",
      "[113]\ttraining's auc_mu: 0.913597\ttraining's multi_logloss: 0.412186\tvalid_1's auc_mu: 0.867355\tvalid_1's multi_logloss: 0.453166\n",
      "[114]\ttraining's auc_mu: 0.91392\ttraining's multi_logloss: 0.41174\tvalid_1's auc_mu: 0.867414\tvalid_1's multi_logloss: 0.453073\n",
      "[115]\ttraining's auc_mu: 0.914167\ttraining's multi_logloss: 0.411247\tvalid_1's auc_mu: 0.867439\tvalid_1's multi_logloss: 0.452996\n",
      "[116]\ttraining's auc_mu: 0.914547\ttraining's multi_logloss: 0.410763\tvalid_1's auc_mu: 0.867452\tvalid_1's multi_logloss: 0.452938\n",
      "[117]\ttraining's auc_mu: 0.914891\ttraining's multi_logloss: 0.410326\tvalid_1's auc_mu: 0.867478\tvalid_1's multi_logloss: 0.452838\n",
      "[118]\ttraining's auc_mu: 0.915239\ttraining's multi_logloss: 0.409865\tvalid_1's auc_mu: 0.86752\tvalid_1's multi_logloss: 0.452733\n",
      "[119]\ttraining's auc_mu: 0.91563\ttraining's multi_logloss: 0.409456\tvalid_1's auc_mu: 0.867514\tvalid_1's multi_logloss: 0.45268\n",
      "[120]\ttraining's auc_mu: 0.915921\ttraining's multi_logloss: 0.408988\tvalid_1's auc_mu: 0.867537\tvalid_1's multi_logloss: 0.452608\n",
      "[121]\ttraining's auc_mu: 0.916283\ttraining's multi_logloss: 0.408543\tvalid_1's auc_mu: 0.86757\tvalid_1's multi_logloss: 0.452534\n",
      "[122]\ttraining's auc_mu: 0.916554\ttraining's multi_logloss: 0.408107\tvalid_1's auc_mu: 0.867619\tvalid_1's multi_logloss: 0.452442\n",
      "[123]\ttraining's auc_mu: 0.916902\ttraining's multi_logloss: 0.407681\tvalid_1's auc_mu: 0.867624\tvalid_1's multi_logloss: 0.452387\n",
      "[124]\ttraining's auc_mu: 0.917245\ttraining's multi_logloss: 0.407263\tvalid_1's auc_mu: 0.867595\tvalid_1's multi_logloss: 0.452323\n",
      "[125]\ttraining's auc_mu: 0.917579\ttraining's multi_logloss: 0.406858\tvalid_1's auc_mu: 0.867607\tvalid_1's multi_logloss: 0.45228\n"
     ]
    },
    {
     "name": "stdout",
     "output_type": "stream",
     "text": [
      "[126]\ttraining's auc_mu: 0.917883\ttraining's multi_logloss: 0.406435\tvalid_1's auc_mu: 0.867598\tvalid_1's multi_logloss: 0.452255\n",
      "[127]\ttraining's auc_mu: 0.918216\ttraining's multi_logloss: 0.406005\tvalid_1's auc_mu: 0.867565\tvalid_1's multi_logloss: 0.452262\n",
      "[128]\ttraining's auc_mu: 0.918542\ttraining's multi_logloss: 0.405589\tvalid_1's auc_mu: 0.86759\tvalid_1's multi_logloss: 0.452172\n",
      "[129]\ttraining's auc_mu: 0.918893\ttraining's multi_logloss: 0.405175\tvalid_1's auc_mu: 0.867591\tvalid_1's multi_logloss: 0.452144\n",
      "[130]\ttraining's auc_mu: 0.919212\ttraining's multi_logloss: 0.404767\tvalid_1's auc_mu: 0.867639\tvalid_1's multi_logloss: 0.45207\n",
      "[131]\ttraining's auc_mu: 0.91956\ttraining's multi_logloss: 0.404362\tvalid_1's auc_mu: 0.867654\tvalid_1's multi_logloss: 0.452034\n",
      "[132]\ttraining's auc_mu: 0.919828\ttraining's multi_logloss: 0.40395\tvalid_1's auc_mu: 0.867703\tvalid_1's multi_logloss: 0.451938\n",
      "[133]\ttraining's auc_mu: 0.920119\ttraining's multi_logloss: 0.403533\tvalid_1's auc_mu: 0.867712\tvalid_1's multi_logloss: 0.451882\n",
      "[134]\ttraining's auc_mu: 0.920423\ttraining's multi_logloss: 0.403158\tvalid_1's auc_mu: 0.86774\tvalid_1's multi_logloss: 0.451829\n",
      "[135]\ttraining's auc_mu: 0.920707\ttraining's multi_logloss: 0.402774\tvalid_1's auc_mu: 0.867765\tvalid_1's multi_logloss: 0.451782\n",
      "[136]\ttraining's auc_mu: 0.920916\ttraining's multi_logloss: 0.402322\tvalid_1's auc_mu: 0.867828\tvalid_1's multi_logloss: 0.451719\n",
      "[137]\ttraining's auc_mu: 0.921162\ttraining's multi_logloss: 0.401897\tvalid_1's auc_mu: 0.867763\tvalid_1's multi_logloss: 0.45171\n",
      "[138]\ttraining's auc_mu: 0.92156\ttraining's multi_logloss: 0.401483\tvalid_1's auc_mu: 0.867714\tvalid_1's multi_logloss: 0.451693\n",
      "[139]\ttraining's auc_mu: 0.921855\ttraining's multi_logloss: 0.401103\tvalid_1's auc_mu: 0.867772\tvalid_1's multi_logloss: 0.4516\n",
      "[140]\ttraining's auc_mu: 0.922093\ttraining's multi_logloss: 0.400683\tvalid_1's auc_mu: 0.867786\tvalid_1's multi_logloss: 0.451552\n",
      "[141]\ttraining's auc_mu: 0.922409\ttraining's multi_logloss: 0.400298\tvalid_1's auc_mu: 0.867803\tvalid_1's multi_logloss: 0.451498\n",
      "[142]\ttraining's auc_mu: 0.922731\ttraining's multi_logloss: 0.399925\tvalid_1's auc_mu: 0.867828\tvalid_1's multi_logloss: 0.451454\n",
      "[143]\ttraining's auc_mu: 0.922994\ttraining's multi_logloss: 0.399533\tvalid_1's auc_mu: 0.867859\tvalid_1's multi_logloss: 0.45137\n",
      "[144]\ttraining's auc_mu: 0.923295\ttraining's multi_logloss: 0.399169\tvalid_1's auc_mu: 0.867821\tvalid_1's multi_logloss: 0.451378\n",
      "[145]\ttraining's auc_mu: 0.92355\ttraining's multi_logloss: 0.398792\tvalid_1's auc_mu: 0.867859\tvalid_1's multi_logloss: 0.451328\n",
      "[146]\ttraining's auc_mu: 0.923886\ttraining's multi_logloss: 0.398403\tvalid_1's auc_mu: 0.867867\tvalid_1's multi_logloss: 0.451308\n",
      "[147]\ttraining's auc_mu: 0.924235\ttraining's multi_logloss: 0.398019\tvalid_1's auc_mu: 0.867887\tvalid_1's multi_logloss: 0.451269\n",
      "[148]\ttraining's auc_mu: 0.924598\ttraining's multi_logloss: 0.397646\tvalid_1's auc_mu: 0.867856\tvalid_1's multi_logloss: 0.451268\n",
      "[149]\ttraining's auc_mu: 0.924836\ttraining's multi_logloss: 0.39724\tvalid_1's auc_mu: 0.867859\tvalid_1's multi_logloss: 0.451241\n",
      "[150]\ttraining's auc_mu: 0.925121\ttraining's multi_logloss: 0.396789\tvalid_1's auc_mu: 0.867833\tvalid_1's multi_logloss: 0.451226\n",
      "[151]\ttraining's auc_mu: 0.925407\ttraining's multi_logloss: 0.396408\tvalid_1's auc_mu: 0.867843\tvalid_1's multi_logloss: 0.45121\n",
      "[152]\ttraining's auc_mu: 0.925721\ttraining's multi_logloss: 0.396047\tvalid_1's auc_mu: 0.867827\tvalid_1's multi_logloss: 0.451176\n",
      "[153]\ttraining's auc_mu: 0.92605\ttraining's multi_logloss: 0.395663\tvalid_1's auc_mu: 0.867791\tvalid_1's multi_logloss: 0.451156\n",
      "[154]\ttraining's auc_mu: 0.926328\ttraining's multi_logloss: 0.395272\tvalid_1's auc_mu: 0.867819\tvalid_1's multi_logloss: 0.451106\n",
      "[155]\ttraining's auc_mu: 0.9266\ttraining's multi_logloss: 0.394885\tvalid_1's auc_mu: 0.867822\tvalid_1's multi_logloss: 0.451078\n",
      "[156]\ttraining's auc_mu: 0.926937\ttraining's multi_logloss: 0.394518\tvalid_1's auc_mu: 0.867823\tvalid_1's multi_logloss: 0.451049\n",
      "[157]\ttraining's auc_mu: 0.927224\ttraining's multi_logloss: 0.394143\tvalid_1's auc_mu: 0.86782\tvalid_1's multi_logloss: 0.450991\n",
      "CPU times: user 37min 20s, sys: 2min 22s, total: 39min 43s\n",
      "Wall time: 11min 19s\n"
     ]
    }
   ],
   "source": [
    "%%time\n",
    "\n",
    "lgbc = lgb.LGBMClassifier(**params)\n",
    "lgbmodel = lgbc.fit(x_train,y_train, eval_set=[(x_train, y_train), (x_val, y_val)], early_stopping_rounds=10, verbose=1)"
   ]
  },
  {
   "cell_type": "code",
   "execution_count": 12,
   "id": "839f8e9e",
   "metadata": {},
   "outputs": [],
   "source": [
    "preds_tr = lgbmodel.predict(x_train,)\n",
    "preds_val = lgbmodel.predict(x_val)"
   ]
  },
  {
   "cell_type": "code",
   "execution_count": 13,
   "id": "4b82c0d2",
   "metadata": {},
   "outputs": [
    {
     "data": {
      "text/plain": [
       "0.8376803494703596"
      ]
     },
     "execution_count": 13,
     "metadata": {},
     "output_type": "execute_result"
    }
   ],
   "source": [
    "accuracy_score(y_train, preds_tr)"
   ]
  },
  {
   "cell_type": "code",
   "execution_count": 14,
   "id": "e1c1b777",
   "metadata": {
    "scrolled": true
   },
   "outputs": [
    {
     "data": {
      "text/plain": [
       "0.8173075526243154"
      ]
     },
     "execution_count": 14,
     "metadata": {},
     "output_type": "execute_result"
    }
   ],
   "source": [
    "accuracy_score(y_val, preds_val)"
   ]
  },
  {
   "cell_type": "code",
   "execution_count": 23,
   "id": "9f43ff73",
   "metadata": {},
   "outputs": [],
   "source": [
    "np.save(\"Preds/True_val\", y_val)"
   ]
  },
  {
   "cell_type": "code",
   "execution_count": 15,
   "id": "b7ae3231",
   "metadata": {},
   "outputs": [],
   "source": [
    "probs_tr = lgbmodel.predict_proba(x_train)\n",
    "probs_val = lgbmodel.predict_proba(x_val)"
   ]
  },
  {
   "cell_type": "code",
   "execution_count": 22,
   "id": "a3b423e7",
   "metadata": {},
   "outputs": [],
   "source": [
    "np.save(\"Preds/LGBM_val\", probs_val)\n",
    "np.save(\"Preds/LGBM_tr\", probs_tr)\n",
    "\n",
    "probs_test = lgbmodel.predict_proba(x_test)\n",
    "np.save(\"Preds/LGBM_test\", probs_test)"
   ]
  },
  {
   "cell_type": "code",
   "execution_count": 27,
   "id": "0e2835da",
   "metadata": {},
   "outputs": [
    {
     "data": {
      "text/plain": [
       "Default_Flag\n",
       "0               289072\n",
       "2                39460\n",
       "3                32218\n",
       "1                29326\n",
       "dtype: int64"
      ]
     },
     "execution_count": 27,
     "metadata": {},
     "output_type": "execute_result"
    }
   ],
   "source": [
    "y_train.value_counts()"
   ]
  },
  {
   "cell_type": "code",
   "execution_count": 33,
   "id": "33f5ac1f",
   "metadata": {},
   "outputs": [
    {
     "name": "stderr",
     "output_type": "stream",
     "text": [
      "\r",
      "  0%|                                                                                   | 0/51 [00:00<?, ?it/s]"
     ]
    },
    {
     "name": "stdout",
     "output_type": "stream",
     "text": [
      "0.8186071432233718 (49, 90, 90, 90)\n",
      "0.8186404700622443 (49, 92, 90, 90)\n"
     ]
    },
    {
     "name": "stderr",
     "output_type": "stream",
     "text": [
      "\r",
      "  2%|█▍                                                                         | 1/51 [00:03<02:57,  3.56s/it]"
     ]
    },
    {
     "name": "stdout",
     "output_type": "stream",
     "text": [
      "0.8189891200689097 (50, 90, 90, 90)\n",
      "0.8190301377167526 (50, 92, 90, 90)\n"
     ]
    },
    {
     "name": "stderr",
     "output_type": "stream",
     "text": [
      "\r",
      "  4%|██▉                                                                        | 2/51 [00:07<02:53,  3.55s/it]"
     ]
    },
    {
     "name": "stdout",
     "output_type": "stream",
     "text": [
      "0.8193018796337124 (51, 90, 90, 90)\n",
      "0.8193121340456732 (51, 92, 90, 90)\n"
     ]
    },
    {
     "name": "stderr",
     "output_type": "stream",
     "text": [
      "\r",
      "  6%|████▍                                                                      | 3/51 [00:10<02:50,  3.54s/it]"
     ]
    },
    {
     "name": "stdout",
     "output_type": "stream",
     "text": [
      "0.8197889642018479 (52, 90, 90, 90)\n"
     ]
    },
    {
     "name": "stderr",
     "output_type": "stream",
     "text": [
      "\r",
      "  8%|█████▉                                                                     | 4/51 [00:14<02:46,  3.55s/it]"
     ]
    },
    {
     "name": "stdout",
     "output_type": "stream",
     "text": [
      "0.8201094145756211 (53, 90, 90, 90)\n",
      "0.8201427414144936 (53, 92, 90, 90)\n"
     ]
    },
    {
     "name": "stderr",
     "output_type": "stream",
     "text": [
      "\r",
      " 10%|███████▎                                                                   | 5/51 [00:17<02:42,  3.53s/it]"
     ]
    },
    {
     "name": "stdout",
     "output_type": "stream",
     "text": [
      "0.8203375752417478 (54, 90, 90, 90)\n",
      "0.8204196105374337 (54, 90, 90, 92)\n",
      "0.8204375557583651 (54, 90, 90, 94)\n",
      "0.8204529373763062 (54, 92, 90, 92)\n",
      "0.8204631917882669 (54, 92, 90, 94)\n"
     ]
    },
    {
     "name": "stderr",
     "output_type": "stream",
     "text": [
      "\r",
      " 12%|████████▊                                                                  | 6/51 [00:21<02:38,  3.53s/it]"
     ]
    },
    {
     "name": "stdout",
     "output_type": "stream",
     "text": [
      "0.8205964991437567 (55, 90, 90, 90)\n",
      "0.8207503153231678 (55, 90, 90, 94)\n",
      "0.8207759513530697 (55, 92, 90, 94)\n"
     ]
    },
    {
     "name": "stderr",
     "output_type": "stream",
     "text": [
      "\r",
      " 14%|██████████▎                                                                | 7/51 [00:24<02:37,  3.57s/it]"
     ]
    },
    {
     "name": "stdout",
     "output_type": "stream",
     "text": [
      "0.82078107855905 (56, 90, 90, 92)\n",
      "0.8208374778248342 (56, 90, 90, 94)\n",
      "0.8209810395922846 (56, 90, 90, 96)\n",
      "0.8210194936371373 (56, 92, 90, 96)\n"
     ]
    },
    {
     "name": "stderr",
     "output_type": "stream",
     "text": [
      "\r",
      " 16%|███████████▊                                                               | 8/51 [00:29<02:42,  3.78s/it]"
     ]
    },
    {
     "name": "stdout",
     "output_type": "stream",
     "text": [
      "0.8212015094494406 (57, 90, 90, 94)\n",
      "0.8212271454793425 (57, 90, 90, 96)\n",
      "0.8212502179062542 (57, 92, 90, 96)\n"
     ]
    },
    {
     "name": "stderr",
     "output_type": "stream",
     "text": [
      "\r",
      " 18%|█████████████▏                                                             | 9/51 [00:32<02:35,  3.71s/it]"
     ]
    },
    {
     "name": "stdout",
     "output_type": "stream",
     "text": [
      "0.8212553451122345 (58, 90, 90, 92)\n",
      "0.8214450517335083 (58, 90, 90, 94)\n",
      "0.8215245234262041 (58, 90, 90, 96)\n",
      "0.8215475958531158 (58, 92, 90, 96)\n"
     ]
    },
    {
     "name": "stderr",
     "output_type": "stream",
     "text": [
      "\r",
      " 20%|██████████████▌                                                           | 10/51 [00:36<02:31,  3.70s/it]"
     ]
    },
    {
     "name": "stdout",
     "output_type": "stream",
     "text": [
      "0.8215809226919882 (59, 90, 90, 94)\n",
      "0.8217142300474779 (59, 90, 90, 96)\n",
      "0.8217398660773798 (59, 92, 90, 96)\n"
     ]
    },
    {
     "name": "stderr",
     "output_type": "stream",
     "text": [
      "\r",
      " 22%|███████████████▉                                                          | 11/51 [00:39<02:26,  3.65s/it]"
     ]
    },
    {
     "name": "stdout",
     "output_type": "stream",
     "text": [
      "0.8218372829910069 (60, 90, 90, 94)\n",
      "0.8219244454926732 (60, 90, 90, 96)\n",
      "0.8219526451255653 (60, 92, 90, 96)\n"
     ]
    },
    {
     "name": "stderr",
     "output_type": "stream",
     "text": [
      "\r",
      " 24%|█████████████████▍                                                        | 12/51 [00:43<02:20,  3.61s/it]"
     ]
    },
    {
     "name": "stdout",
     "output_type": "stream",
     "text": [
      "0.8219834083614476 (61, 90, 90, 94)\n",
      "0.822085952481055 (61, 90, 90, 96)\n",
      "0.8221269701288979 (61, 92, 90, 96)\n"
     ]
    },
    {
     "name": "stderr",
     "output_type": "stream",
     "text": [
      "\r",
      " 25%|██████████████████▊                                                       | 13/51 [00:46<02:16,  3.58s/it]"
     ]
    },
    {
     "name": "stdout",
     "output_type": "stream",
     "text": [
      "0.8222141326305643 (62, 90, 90, 96)\n",
      "0.8222551502784072 (62, 92, 90, 96)\n"
     ]
    },
    {
     "name": "stderr",
     "output_type": "stream",
     "text": [
      "\r",
      " 27%|████████████████████▎                                                     | 14/51 [00:50<02:12,  3.57s/it]"
     ]
    },
    {
     "name": "stdout",
     "output_type": "stream",
     "text": [
      "0.8222730954993386 (63, 90, 90, 94)\n",
      "0.8223269311621325 (63, 90, 90, 96)\n",
      "0.8223500035890442 (63, 92, 90, 96)\n"
     ]
    },
    {
     "name": "stderr",
     "output_type": "stream",
     "text": [
      "\r",
      " 29%|█████████████████████▊                                                    | 15/51 [00:53<02:08,  3.56s/it]"
     ]
    },
    {
     "name": "stdout",
     "output_type": "stream",
     "text": [
      "0.8225063833714455 (64, 90, 90, 94)\n",
      "0.8226166183000236 (64, 90, 90, 96)\n",
      "0.8226601995508568 (64, 92, 90, 96)\n"
     ]
    },
    {
     "name": "stderr",
     "output_type": "stream",
     "text": [
      "\r",
      " 31%|███████████████████████▏                                                  | 16/51 [00:57<02:03,  3.54s/it]"
     ]
    },
    {
     "name": "stdout",
     "output_type": "stream",
     "text": [
      "0.8227473620525231 (65, 90, 90, 96)\n",
      "0.8227806888913956 (65, 92, 90, 96)\n"
     ]
    },
    {
     "name": "stderr",
     "output_type": "stream",
     "text": [
      "\r",
      " 33%|████████████████████████▋                                                 | 17/51 [01:01<02:00,  3.53s/it]"
     ]
    },
    {
     "name": "stdout",
     "output_type": "stream",
     "text": [
      "0.8229601411007086 (66, 90, 90, 96)\n",
      "0.8230011587485515 (66, 92, 90, 96)\n"
     ]
    },
    {
     "name": "stderr",
     "output_type": "stream",
     "text": [
      "\r",
      " 35%|██████████████████████████                                                | 18/51 [01:04<01:56,  3.52s/it]"
     ]
    },
    {
     "name": "stdout",
     "output_type": "stream",
     "text": [
      "0.823034485587424 (67, 90, 90, 96)\n",
      "0.8230421763963945 (67, 90, 90, 98)\n",
      "0.8230831940442376 (67, 92, 90, 96)\n",
      "0.8230960120591885 (67, 92, 90, 98)\n"
     ]
    },
    {
     "name": "stderr",
     "output_type": "stream",
     "text": [
      "\r",
      " 37%|███████████████████████████▌                                              | 19/51 [01:07<01:52,  3.51s/it]"
     ]
    },
    {
     "name": "stdout",
     "output_type": "stream",
     "text": [
      "0.8232165013997272 (68, 90, 90, 96)\n",
      "0.8232703370625212 (68, 92, 90, 96)\n"
     ]
    },
    {
     "name": "stderr",
     "output_type": "stream",
     "text": [
      "\r",
      " 39%|█████████████████████████████                                             | 20/51 [01:11<01:48,  3.51s/it]"
     ]
    },
    {
     "name": "stdout",
     "output_type": "stream",
     "text": [
      "0.8232754642685015 (69, 90, 90, 96)\n",
      "0.8233164819163445 (69, 92, 90, 96)\n"
     ]
    },
    {
     "name": "stderr",
     "output_type": "stream",
     "text": [
      "\r",
      " 41%|██████████████████████████████▍                                           | 21/51 [01:14<01:45,  3.50s/it]"
     ]
    },
    {
     "name": "stdout",
     "output_type": "stream",
     "text": [
      "0.8233421179462463 (70, 90, 90, 98)\n",
      "0.8233831355940894 (70, 92, 90, 98)\n"
     ]
    },
    {
     "name": "stderr",
     "output_type": "stream",
     "text": [
      "\r",
      " 43%|███████████████████████████████▉                                          | 22/51 [01:18<01:41,  3.50s/it]"
     ]
    },
    {
     "name": "stdout",
     "output_type": "stream",
     "text": [
      "0.823419026035952 (71, 90, 90, 98)\n",
      "0.8234574800808048 (71, 92, 90, 98)\n"
     ]
    },
    {
     "name": "stderr",
     "output_type": "stream",
     "text": [
      "\r",
      " 45%|█████████████████████████████████▎                                        | 23/51 [01:21<01:37,  3.49s/it]"
     ]
    },
    {
     "name": "stdout",
     "output_type": "stream",
     "text": [
      "0.8235061885376183 (72, 92, 90, 98)\n"
     ]
    },
    {
     "name": "stderr",
     "output_type": "stream",
     "text": [
      " 49%|████████████████████████████████████▎                                     | 25/51 [01:28<01:30,  3.48s/it]"
     ]
    },
    {
     "name": "stdout",
     "output_type": "stream",
     "text": [
      "0.8235241337585496 (74, 90, 90, 98)\n",
      "0.8235446425824711 (74, 92, 90, 98)\n"
     ]
    },
    {
     "name": "stderr",
     "output_type": "stream",
     "text": [
      "\r",
      " 51%|█████████████████████████████████████▋                                    | 26/51 [01:32<01:26,  3.46s/it]"
     ]
    },
    {
     "name": "stdout",
     "output_type": "stream",
     "text": [
      "0.8235472061854613 (75, 90, 90, 98)\n",
      "0.8235754058183533 (75, 92, 90, 98)\n"
     ]
    },
    {
     "name": "stderr",
     "output_type": "stream",
     "text": [
      "\r",
      " 53%|███████████████████████████████████████▏                                  | 27/51 [01:35<01:23,  3.46s/it]"
     ]
    },
    {
     "name": "stdout",
     "output_type": "stream",
     "text": [
      "0.8236036054512454 (76, 92, 90, 98)\n"
     ]
    },
    {
     "name": "stderr",
     "output_type": "stream",
     "text": [
      "\r",
      " 55%|████████████████████████████████████████▋                                 | 28/51 [01:39<01:19,  3.46s/it]"
     ]
    },
    {
     "name": "stdout",
     "output_type": "stream",
     "text": [
      "0.8236266778781571 (77, 92, 90, 98)\n"
     ]
    },
    {
     "name": "stderr",
     "output_type": "stream",
     "text": [
      "\r",
      " 57%|██████████████████████████████████████████                                | 29/51 [01:42<01:16,  3.46s/it]"
     ]
    },
    {
     "name": "stdout",
     "output_type": "stream",
     "text": [
      "0.8236420594960981 (78, 90, 90, 98)\n",
      "0.8236728227319804 (78, 92, 90, 98)\n"
     ]
    },
    {
     "name": "stderr",
     "output_type": "stream",
     "text": [
      "\r",
      " 59%|███████████████████████████████████████████▌                              | 30/51 [01:46<01:12,  3.46s/it]"
     ]
    },
    {
     "name": "stdout",
     "output_type": "stream",
     "text": [
      "0.8236984587618823 (79, 92, 90, 98)\n"
     ]
    },
    {
     "name": "stderr",
     "output_type": "stream",
     "text": [
      " 63%|██████████████████████████████████████████████▍                           | 32/51 [01:53<01:05,  3.45s/it]"
     ]
    },
    {
     "name": "stdout",
     "output_type": "stream",
     "text": [
      "0.8237240947917842 (81, 90, 90, 98)\n",
      "0.8237676760426174 (81, 92, 90, 98)\n"
     ]
    },
    {
     "name": "stderr",
     "output_type": "stream",
     "text": [
      "\r",
      " 65%|███████████████████████████████████████████████▉                          | 33/51 [01:56<01:02,  3.45s/it]"
     ]
    },
    {
     "name": "stdout",
     "output_type": "stream",
     "text": [
      "0.8237753668515879 (82, 90, 90, 98)\n",
      "0.8238138208964407 (82, 92, 90, 98)\n"
     ]
    },
    {
     "name": "stderr",
     "output_type": "stream",
     "text": [
      "\r",
      " 67%|█████████████████████████████████████████████████▎                        | 34/51 [01:59<00:58,  3.45s/it]"
     ]
    },
    {
     "name": "stdout",
     "output_type": "stream",
     "text": [
      "0.823831766117372 (83, 92, 90, 98)\n"
     ]
    },
    {
     "name": "stderr",
     "output_type": "stream",
     "text": [
      "\r",
      " 69%|██████████████████████████████████████████████████▊                       | 35/51 [02:03<00:55,  3.44s/it]"
     ]
    },
    {
     "name": "stdout",
     "output_type": "stream",
     "text": [
      "0.8238548385442837 (84, 92, 90, 98)\n"
     ]
    },
    {
     "name": "stderr",
     "output_type": "stream",
     "text": [
      "100%|██████████████████████████████████████████████████████████████████████████| 51/51 [02:58<00:00,  3.50s/it]\n"
     ]
    }
   ],
   "source": [
    "import tqdm\n",
    "best_score = 0\n",
    "for t1 in tqdm.tqdm(range(49, 100)):\n",
    "    for t2 in (range(90, 100, 2)):\n",
    "        for t3 in range(90, 100, 2):\n",
    "            for t4 in range(90, 100, 2):\n",
    "                \n",
    "                av_preds=\\\n",
    "                np.argmax(probs_tr*np.array([t1/100, t2/100, t3/100, t4/100]), axis=1)\n",
    "                sc = accuracy_score(y_train, av_preds)\n",
    "                if sc > best_score:\n",
    "                    best_score=sc\n",
    "                    print(sc, (t1,t2,t3,t4))"
   ]
  },
  {
   "cell_type": "code",
   "execution_count": 34,
   "id": "bd13396c",
   "metadata": {},
   "outputs": [],
   "source": [
    "av_preds=\\\n",
    "np.argmax(probs_val*np.array([84/100, 92/100, 90/100, 98/100]), axis=1)\n",
    "sc = accuracy_score(y_val, av_preds)"
   ]
  },
  {
   "cell_type": "code",
   "execution_count": 35,
   "id": "ae581b9c",
   "metadata": {},
   "outputs": [
    {
     "data": {
      "text/plain": [
       "0.8170460653427662"
      ]
     },
     "execution_count": 35,
     "metadata": {},
     "output_type": "execute_result"
    }
   ],
   "source": [
    "sc"
   ]
  },
  {
   "cell_type": "code",
   "execution_count": 22,
   "id": "c7ec1edc",
   "metadata": {
    "scrolled": true
   },
   "outputs": [],
   "source": [
    "# %%time\n",
    "\n",
    "# lgtrain, lgval = lgb.Dataset(x_train, y_train, categorical_feature = categorical_feats), lgb.Dataset(x_val, y_val, categorical_feature = categorical_feats)\n",
    "\n",
    "# lgbmodel = lgb.train(params, lgtrain, 200, valid_sets=[lgtrain, lgval], early_stopping_rounds=40, verbose_eval=1)"
   ]
  },
  {
   "cell_type": "code",
   "execution_count": 23,
   "id": "2c234f4d",
   "metadata": {},
   "outputs": [
    {
     "data": {
      "text/plain": [
       "195"
      ]
     },
     "execution_count": 23,
     "metadata": {},
     "output_type": "execute_result"
    }
   ],
   "source": [
    "len(lgbmodel.feature_importances_)"
   ]
  },
  {
   "cell_type": "code",
   "execution_count": 24,
   "id": "c4b5991b",
   "metadata": {},
   "outputs": [
    {
     "data": {
      "text/plain": [
       "<AxesSubplot:title={'center':'Feature importance'}, xlabel='Feature importance', ylabel='Features'>"
      ]
     },
     "execution_count": 24,
     "metadata": {},
     "output_type": "execute_result"
    },
    {
     "data": {
      "image/png": "[encoded data removed]",
      "text/plain": [
       "<Figure size 432x288 with 1 Axes>"
      ]
     },
     "metadata": {
      "needs_background": "light"
     },
     "output_type": "display_data"
    }
   ],
   "source": [
    "lgb.plot_importance(lgbmodel)"
   ]
  },
  {
   "cell_type": "markdown",
   "id": "ff69366d",
   "metadata": {},
   "source": [
    "# LGBM Pred"
   ]
  },
  {
   "cell_type": "code",
   "execution_count": 15,
   "id": "65d56b08",
   "metadata": {},
   "outputs": [],
   "source": [
    "preds_test = lgbmodel.predict(x_test)\n",
    "\n",
    "y_test['Target'] = preds_test\n",
    "\n",
    "y_test\n",
    "\n",
    "y_test.to_csv(\"Submissions/DSC_Nexus_UMPW9415_IITM_LGBMImputed_genFeats.csv\", index=0, header=None)"
   ]
  },
  {
   "cell_type": "code",
   "execution_count": 36,
   "id": "9bb7d6bd",
   "metadata": {},
   "outputs": [],
   "source": [
    "preds_test = lgbmodel.predict_proba(x_test)\n",
    "\n",
    "y_test['Target'] = np.argmax(preds_test*np.array([84/100, 92/100, 90/100, 98/100]), axis=1)\n",
    "\n",
    "y_test\n",
    "\n",
    "y_test.to_csv(\"Submissions/DSC_Nexus_UMPW9415_IITM_LGBMImputed_genFeats_thHack.csv\", index=0, header=None)"
   ]
  },
  {
   "cell_type": "markdown",
   "id": "8496b48f",
   "metadata": {},
   "source": [
    "# Classification"
   ]
  },
  {
   "cell_type": "code",
   "execution_count": null,
   "id": "c30a1376",
   "metadata": {},
   "outputs": [],
   "source": [
    "categorical_feats = x_train.select_dtypes('object').columns.tolist()\n",
    "for c in categorical_feats:\n",
    "    x_train[c] = x_train[c].astype('category')\n",
    "    x_val[c] = x_val[c].astype('category')\n",
    "    x_test[c] = x_test[c].astype('category')"
   ]
  },
  {
   "cell_type": "code",
   "execution_count": null,
   "id": "ae17616a",
   "metadata": {},
   "outputs": [],
   "source": [
    "datasets = [x_train, x_val, y_train, y_val]\n",
    "\n",
    "for ind, set in enumerate(datasets):\n",
    "    datasets[ind] = set.copy()"
   ]
  },
  {
   "cell_type": "code",
   "execution_count": null,
   "id": "3807be07",
   "metadata": {},
   "outputs": [],
   "source": []
  },
  {
   "cell_type": "code",
   "execution_count": null,
   "id": "d5005bf0",
   "metadata": {},
   "outputs": [],
   "source": [
    "# xgtrain = XGB.DMatrix(data = x_train.values, label = y_train.values, enable_categorical=True)       # create dense matrix of training values\n",
    "# xgval  = XGB.DMatrix(data = x_val.values,  label = y_val.values, enable_categorical=True)        # create dense matrix of val values"
   ]
  },
  {
   "cell_type": "code",
   "execution_count": null,
   "id": "5ad17eeb",
   "metadata": {},
   "outputs": [],
   "source": [
    "#generate xgboost classifier\n",
    "xgb = XGB.XGBClassifier(learning_rate =0.1,\n",
    "                    n_estimators=1000,\n",
    "                    max_depth=5,\n",
    "                    min_child_weight=2,\n",
    "                    gamma=0,\n",
    "                    subsample=0.5,\n",
    "                    colsample_bytree=0.6,\n",
    "                    verbosity=-1,\n",
    "                   enable_categorical=True,\n",
    "                   tree_method='hist',\n",
    "                   early_stopping_rounds=40,\n",
    "                   eval_metric=['mlogloss', 'auc'])\n",
    "model = xgb.fit(x_train, y_train, eval_set=[(x_train, y_train), (x_val, y_val)], verbose=1)\n",
    "preds_tr = xgb.predict(x_train)\n",
    "preds_val = xgb.predict(x_val)"
   ]
  },
  {
   "cell_type": "code",
   "execution_count": null,
   "id": "cf45058f",
   "metadata": {},
   "outputs": [],
   "source": [
    "preds_tr"
   ]
  },
  {
   "cell_type": "code",
   "execution_count": null,
   "id": "b7258be7",
   "metadata": {},
   "outputs": [],
   "source": [
    "accuracy_score(y_train, preds_tr)"
   ]
  },
  {
   "cell_type": "code",
   "execution_count": null,
   "id": "77b8db0f",
   "metadata": {},
   "outputs": [],
   "source": [
    "accuracy_score(y_val, preds_val)"
   ]
  },
  {
   "cell_type": "markdown",
   "id": "716176a3",
   "metadata": {},
   "source": [
    "# Making a submission"
   ]
  },
  {
   "cell_type": "code",
   "execution_count": null,
   "id": "885c0273",
   "metadata": {},
   "outputs": [],
   "source": [
    "x_test.drop(['D_44', 'D_36'], axis=1, inplace=True)"
   ]
  },
  {
   "cell_type": "code",
   "execution_count": null,
   "id": "2fc96278",
   "metadata": {},
   "outputs": [],
   "source": [
    "preds_test = xgb.predict(x_test)"
   ]
  },
  {
   "cell_type": "code",
   "execution_count": null,
   "id": "eaefae21",
   "metadata": {},
   "outputs": [],
   "source": [
    "y_test['Target'] = preds_test"
   ]
  },
  {
   "cell_type": "code",
   "execution_count": null,
   "id": "5ab5c5fb",
   "metadata": {},
   "outputs": [],
   "source": [
    "y_test"
   ]
  },
  {
   "cell_type": "code",
   "execution_count": null,
   "id": "e6e1fb67",
   "metadata": {},
   "outputs": [],
   "source": [
    "y_test.to_csv(\"Submissions/DSC_Nexus_UMPW9415_IITM.csv\", index=0, header=None)"
   ]
  },
  {
   "cell_type": "code",
   "execution_count": null,
   "id": "f960cef0",
   "metadata": {},
   "outputs": [],
   "source": []
  }
 ],
 "metadata": {
  "kernelspec": {
   "display_name": "Python 3 (ipykernel)",
   "language": "python",
   "name": "python3"
  },
  "language_info": {
   "codemirror_mode": {
    "name": "ipython",
    "version": 3
   },
   "file_extension": ".py",
   "mimetype": "text/x-python",
   "name": "python",
   "nbconvert_exporter": "python",
   "pygments_lexer": "ipython3",
   "version": "3.9.12"
  }
 },
 "nbformat": 4,
 "nbformat_minor": 5
}
