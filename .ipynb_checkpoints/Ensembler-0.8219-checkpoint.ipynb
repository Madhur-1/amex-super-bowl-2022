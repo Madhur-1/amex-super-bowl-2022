{
 "cells": [
  {
   "cell_type": "code",
   "execution_count": 1,
   "id": "03b51f22",
   "metadata": {},
   "outputs": [],
   "source": [
    "import numpy as np\n",
    "import pandas as pd\n",
    "from sklearn.metrics import accuracy_score\n",
    "from scipy.optimize import fmin\n",
    "from functools import partial"
   ]
  },
  {
   "cell_type": "code",
   "execution_count": 2,
   "id": "6c560bc4",
   "metadata": {},
   "outputs": [],
   "source": [
    "y_val = np.load(\"Preds/True_val.npy\")\n",
    "y_test = pd.read_csv(\"Data/Sample_Output.csv\", names = ['ID', 'Target'], header=None)"
   ]
  },
  {
   "cell_type": "code",
   "execution_count": 3,
   "id": "5bd20809",
   "metadata": {},
   "outputs": [],
   "source": [
    "lgbm_val = np.load(\"Preds/LGBM_val.npy\")\n",
    "rf_val = np.load(\"Preds/RF_val.npy\")\n",
    "lr_val = np.load(\"Preds/LR_val.npy\")"
   ]
  },
  {
   "cell_type": "code",
   "execution_count": 4,
   "id": "8d375481",
   "metadata": {},
   "outputs": [],
   "source": [
    "val_probs = np.array([lgbm_val, rf_val, lr_val])"
   ]
  },
  {
   "cell_type": "code",
   "execution_count": 5,
   "id": "b4a28f13",
   "metadata": {},
   "outputs": [],
   "source": [
    "val_ensb = np.sum(val_probs*np.array([1.8, 1, 1.57])[:,None, None], axis=0)"
   ]
  },
  {
   "cell_type": "code",
   "execution_count": 6,
   "id": "09ab9295",
   "metadata": {},
   "outputs": [
    {
     "data": {
      "text/plain": [
       "0.8177143106178364"
      ]
     },
     "execution_count": 6,
     "metadata": {},
     "output_type": "execute_result"
    }
   ],
   "source": [
    "accuracy_score(y_val, np.argmax(val_ensb, axis=1))"
   ]
  },
  {
   "cell_type": "code",
   "execution_count": 13,
   "id": "accd2af3",
   "metadata": {},
   "outputs": [],
   "source": [
    "class OptimizeAcc:\n",
    "    def __init__(self):\n",
    "        self.coef_ = 0\n",
    "        \n",
    "    def _acc(self, coef, val_probs, y_val):\n",
    "        val_ensb = np.sum(val_probs*coef[:,None, None], axis=0)\n",
    "        acc = accuracy_score(y_val, np.argmax(val_ensb, axis=1))\n",
    "        return -1.0*(acc)\n",
    "    \n",
    "    def fit(self, val_probs, y_val):\n",
    "        partial_loss = partial(self._acc, val_probs=val_probs, y_val=y_val)\n",
    "        init_coef = np.random.dirichlet(np.ones(val_probs.shape[0]))\n",
    "        self.coef_ = fmin(partial_loss, init_coef, disp=True)"
   ]
  },
  {
   "cell_type": "code",
   "execution_count": 14,
   "id": "4396b38f",
   "metadata": {
    "scrolled": true
   },
   "outputs": [
    {
     "name": "stdout",
     "output_type": "stream",
     "text": [
      "Optimization terminated successfully.\n",
      "         Current function value: -0.817743\n",
      "         Iterations: 38\n",
      "         Function evaluations: 89\n"
     ]
    }
   ],
   "source": [
    "opt = OptimizeAcc()\n",
    "opt.fit(val_probs, y_val)"
   ]
  },
  {
   "cell_type": "code",
   "execution_count": 15,
   "id": "f751e2ab",
   "metadata": {},
   "outputs": [
    {
     "data": {
      "text/plain": [
       "array([0.184407  , 0.08852943, 0.15845769])"
      ]
     },
     "execution_count": 15,
     "metadata": {},
     "output_type": "execute_result"
    }
   ],
   "source": [
    "opt.coef_"
   ]
  },
  {
   "cell_type": "code",
   "execution_count": 17,
   "id": "b205523e",
   "metadata": {},
   "outputs": [],
   "source": [
    "lgbm_test = np.load(\"Preds/LGBM_test.npy\")\n",
    "rf_test = np.load(\"Preds/RF_test.npy\")\n",
    "lr_test = np.load(\"Preds/LR_test.npy\")\n",
    "\n",
    "test_probs = np.array([lgbm_test, rf_test, lr_test])\n",
    "test_ensb = np.sum(test_probs*opt.coef_[:,None, None], axis=0)"
   ]
  },
  {
   "cell_type": "code",
   "execution_count": 18,
   "id": "5fa394a6",
   "metadata": {},
   "outputs": [],
   "source": [
    "y_test['Target'] = np.argmax(test_ensb, axis=1)\n",
    "\n",
    "y_test\n",
    "\n",
    "y_test.to_csv(\"Submissions/DSC_Nexus_UMPW9415_IITM_ensemble.csv\", index=0, header=None)"
   ]
  },
  {
   "cell_type": "code",
   "execution_count": null,
   "id": "6c7f3a2d",
   "metadata": {},
   "outputs": [],
   "source": []
  }
 ],
 "metadata": {
  "kernelspec": {
   "display_name": "Python 3 (ipykernel)",
   "language": "python",
   "name": "python3"
  },
  "language_info": {
   "codemirror_mode": {
    "name": "ipython",
    "version": 3
   },
   "file_extension": ".py",
   "mimetype": "text/x-python",
   "name": "python",
   "nbconvert_exporter": "python",
   "pygments_lexer": "ipython3",
   "version": "3.9.12"
  }
 },
 "nbformat": 4,
 "nbformat_minor": 5
}
