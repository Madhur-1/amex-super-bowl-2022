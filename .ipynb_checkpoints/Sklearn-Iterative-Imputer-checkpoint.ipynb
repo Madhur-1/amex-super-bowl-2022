{
 "cells": [
  {
   "cell_type": "code",
   "execution_count": 1,
   "id": "137ccf9e",
   "metadata": {},
   "outputs": [],
   "source": [
    "from sklearn.impute import KNNImputer\n",
    "import pandas as pd"
   ]
  },
  {
   "cell_type": "code",
   "execution_count": 2,
   "id": "fa663c37",
   "metadata": {},
   "outputs": [],
   "source": [
    "x_train = pd.read_csv(\"Data/train_allx.csv\")\n",
    "x_test = pd.read_csv(\"Data/val_allx.csv\")\n",
    "\n",
    "y_train = pd.read_csv(\"Data/train_y.csv\")\n",
    "y_test = pd.read_csv(\"Data/Sample_Output.csv\", names = ['ID', 'Target'], header=None)"
   ]
  },
  {
   "cell_type": "code",
   "execution_count": 3,
   "id": "9405fdb0",
   "metadata": {},
   "outputs": [],
   "source": [
    "x_train = pd.get_dummies(x_train, columns=[\"D_36\", \"D_44\"], prefix=[\"D_36\", \"D_44\"], \n",
    "               drop_first=True, dummy_na=True)\n",
    "\n",
    "x_test = pd.get_dummies(x_test, columns=[\"D_36\", \"D_44\"], prefix=[\"D_36\", \"D_44\"], \n",
    "               drop_first=True, dummy_na=True)"
   ]
  },
  {
   "cell_type": "code",
   "execution_count": null,
   "id": "ca9dafaa",
   "metadata": {},
   "outputs": [],
   "source": [
    "train = pd.concat([x_train, y_train], axis=1)\n",
    "train.drop('ID', axis=1 , inplace=True)"
   ]
  },
  {
   "cell_type": "code",
   "execution_count": null,
   "id": "8ec829ba",
   "metadata": {
    "scrolled": false
   },
   "outputs": [],
   "source": [
    "train"
   ]
  },
  {
   "cell_type": "code",
   "execution_count": 4,
   "id": "4a0196b5",
   "metadata": {},
   "outputs": [],
   "source": [
    "knn_imputer = KNNImputer(weights=\"uniform\")"
   ]
  },
  {
   "cell_type": "code",
   "execution_count": 8,
   "id": "e048fd92",
   "metadata": {},
   "outputs": [
    {
     "name": "stdout",
     "output_type": "stream",
     "text": [
      "CPU times: user 1.13 s, sys: 19.2 ms, total: 1.14 s\n",
      "Wall time: 477 ms\n"
     ]
    }
   ],
   "source": [
    "%%time\n",
    "\n",
    "imputed_train = knn_imputer.fit_transform(x_train[:1000],)"
   ]
  },
  {
   "cell_type": "markdown",
   "id": "3d7b83c6",
   "metadata": {},
   "source": [
    "10000 : 1.50 mins\n",
    "1000 : 1.14s"
   ]
  },
  {
   "cell_type": "code",
   "execution_count": 9,
   "id": "46839f7b",
   "metadata": {},
   "outputs": [
    {
     "data": {
      "text/plain": [
       "array([[3.33744673e+09, 6.46209717e-03, 8.11767578e-03, ...,\n",
       "        0.00000000e+00, 0.00000000e+00, 0.00000000e+00],\n",
       "       [7.88878412e+09, 7.74765015e-03, 6.30950928e-03, ...,\n",
       "        0.00000000e+00, 0.00000000e+00, 0.00000000e+00],\n",
       "       [9.87137890e+09, 5.40542603e-03, 5.21850586e-03, ...,\n",
       "        0.00000000e+00, 0.00000000e+00, 0.00000000e+00],\n",
       "       ...,\n",
       "       [4.22825294e+09, 5.34057617e-03, 3.89289856e-03, ...,\n",
       "        0.00000000e+00, 0.00000000e+00, 0.00000000e+00],\n",
       "       [5.06046204e+09, 4.10842896e-03, 5.06973267e-03, ...,\n",
       "        0.00000000e+00, 0.00000000e+00, 0.00000000e+00],\n",
       "       [7.78455368e+09, 9.25445557e-03, 3.05747986e-03, ...,\n",
       "        0.00000000e+00, 0.00000000e+00, 0.00000000e+00]])"
      ]
     },
     "execution_count": 9,
     "metadata": {},
     "output_type": "execute_result"
    }
   ],
   "source": [
    "imputed_train"
   ]
  },
  {
   "cell_type": "code",
   "execution_count": null,
   "id": "6b4fbee5",
   "metadata": {},
   "outputs": [],
   "source": []
  }
 ],
 "metadata": {
  "kernelspec": {
   "display_name": "Python 3 (ipykernel)",
   "language": "python",
   "name": "python3"
  },
  "language_info": {
   "codemirror_mode": {
    "name": "ipython",
    "version": 3
   },
   "file_extension": ".py",
   "mimetype": "text/x-python",
   "name": "python",
   "nbconvert_exporter": "python",
   "pygments_lexer": "ipython3",
   "version": "3.9.12"
  }
 },
 "nbformat": 4,
 "nbformat_minor": 5
}
