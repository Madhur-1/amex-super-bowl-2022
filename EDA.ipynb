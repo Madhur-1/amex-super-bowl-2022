{
 "cells": [
  {
   "cell_type": "code",
   "execution_count": 1,
   "id": "b157603b",
   "metadata": {},
   "outputs": [],
   "source": [
    "import numpy as np\n",
    "import pandas as pd\n",
    "import matplotlib.pyplot as plt"
   ]
  },
  {
   "cell_type": "code",
   "execution_count": 2,
   "id": "f7801d4a",
   "metadata": {},
   "outputs": [],
   "source": [
    "import os\n",
    "os.environ['KMP_DUPLICATE_LIB_OK']='True'"
   ]
  },
  {
   "cell_type": "code",
   "execution_count": 3,
   "id": "eba36bc8",
   "metadata": {},
   "outputs": [],
   "source": [
    "x_train = pd.read_csv(\"Data/train_allx.csv\")\n",
    "y_train = pd.read_csv(\"Data/train_y.csv\")\n",
    "x_test = pd.read_csv(\"Data/val_allx.csv\")\n",
    "y_test = pd.read_csv(\"Data/Sample_Output.csv\", names = ['ID', 'Target'], header=None)"
   ]
  },
  {
   "cell_type": "code",
   "execution_count": null,
   "id": "4e7a45da",
   "metadata": {},
   "outputs": [],
   "source": [
    "x_train"
   ]
  },
  {
   "cell_type": "code",
   "execution_count": null,
   "id": "2e571c80",
   "metadata": {},
   "outputs": [],
   "source": [
    "y_train"
   ]
  },
  {
   "cell_type": "code",
   "execution_count": null,
   "id": "824ea190",
   "metadata": {},
   "outputs": [],
   "source": [
    "x_test"
   ]
  },
  {
   "cell_type": "code",
   "execution_count": null,
   "id": "ac3d53b2",
   "metadata": {},
   "outputs": [],
   "source": [
    "y_test"
   ]
  },
  {
   "cell_type": "code",
   "execution_count": null,
   "id": "325ba8d7",
   "metadata": {},
   "outputs": [],
   "source": [
    "# Dropping ID column\n",
    "\n",
    "x_train.drop('ID', axis=1, inplace=True)\n",
    "x_test.drop('ID', axis=1, inplace=True)"
   ]
  },
  {
   "cell_type": "code",
   "execution_count": null,
   "id": "bed2c806",
   "metadata": {},
   "outputs": [],
   "source": [
    "data = x_train.copy()\n",
    "data['Target'] = y_train"
   ]
  },
  {
   "cell_type": "markdown",
   "id": "ddd9c64d",
   "metadata": {},
   "source": [
    "## Checking the Target Column"
   ]
  },
  {
   "cell_type": "code",
   "execution_count": null,
   "id": "533629c6",
   "metadata": {},
   "outputs": [],
   "source": [
    "data['Target'].value_counts()"
   ]
  },
  {
   "cell_type": "markdown",
   "id": "adf02c59",
   "metadata": {},
   "source": [
    "# EDA"
   ]
  },
  {
   "cell_type": "code",
   "execution_count": null,
   "id": "3c0aa683",
   "metadata": {},
   "outputs": [],
   "source": [
    "# figure out the data type\n",
    "data.info()"
   ]
  },
  {
   "cell_type": "code",
   "execution_count": null,
   "id": "c7638105",
   "metadata": {},
   "outputs": [],
   "source": [
    "data.dtypes"
   ]
  },
  {
   "cell_type": "code",
   "execution_count": null,
   "id": "f054ce2a",
   "metadata": {},
   "outputs": [],
   "source": [
    "data.dtypes[data.dtypes != 'float64']"
   ]
  },
  {
   "cell_type": "markdown",
   "id": "2b44b02c",
   "metadata": {},
   "source": [
    "### Int Datatypes"
   ]
  },
  {
   "cell_type": "code",
   "execution_count": 71,
   "id": "ad9e71c3",
   "metadata": {},
   "outputs": [
    {
     "data": {
      "text/plain": [
       "0         1\n",
       "1         1\n",
       "2         1\n",
       "3         1\n",
       "4         1\n",
       "         ..\n",
       "458908    1\n",
       "458909    1\n",
       "458910    1\n",
       "458911    1\n",
       "458912    1\n",
       "Name: B_41, Length: 458913, dtype: int64"
      ]
     },
     "execution_count": 71,
     "metadata": {},
     "output_type": "execute_result"
    }
   ],
   "source": [
    "data['B_41']"
   ]
  },
  {
   "cell_type": "code",
   "execution_count": 72,
   "id": "b261353d",
   "metadata": {},
   "outputs": [
    {
     "data": {
      "text/plain": [
       "1    456295\n",
       "0      2618\n",
       "Name: B_41, dtype: int64"
      ]
     },
     "execution_count": 72,
     "metadata": {},
     "output_type": "execute_result"
    }
   ],
   "source": [
    "data['B_41'].value_counts()"
   ]
  },
  {
   "cell_type": "code",
   "execution_count": 73,
   "id": "02f114d1",
   "metadata": {},
   "outputs": [
    {
     "data": {
      "text/plain": [
       "0         1\n",
       "1         1\n",
       "2         1\n",
       "3         1\n",
       "4         1\n",
       "         ..\n",
       "458908    1\n",
       "458909    1\n",
       "458910    1\n",
       "458911    1\n",
       "458912    0\n",
       "Name: D_130, Length: 458913, dtype: int64"
      ]
     },
     "execution_count": 73,
     "metadata": {},
     "output_type": "execute_result"
    }
   ],
   "source": [
    "data['D_130']"
   ]
  },
  {
   "cell_type": "code",
   "execution_count": 74,
   "id": "a29566b1",
   "metadata": {},
   "outputs": [
    {
     "data": {
      "text/plain": [
       "1    355057\n",
       "0    103856\n",
       "Name: D_130, dtype: int64"
      ]
     },
     "execution_count": 74,
     "metadata": {},
     "output_type": "execute_result"
    }
   ],
   "source": [
    "data['D_130'].value_counts()"
   ]
  },
  {
   "cell_type": "markdown",
   "id": "60eae733",
   "metadata": {},
   "source": [
    "### Checking the Object dtyes"
   ]
  },
  {
   "cell_type": "code",
   "execution_count": 75,
   "id": "3f5a3607",
   "metadata": {},
   "outputs": [
    {
     "data": {
      "text/plain": [
       "0         CO\n",
       "1         CL\n",
       "2         CO\n",
       "3         CR\n",
       "4         XM\n",
       "          ..\n",
       "458908    CO\n",
       "458909    CO\n",
       "458910    CR\n",
       "458911    CO\n",
       "458912    CO\n",
       "Name: D_36, Length: 458913, dtype: object"
      ]
     },
     "execution_count": 75,
     "metadata": {},
     "output_type": "execute_result"
    }
   ],
   "source": [
    "data['D_36']"
   ]
  },
  {
   "cell_type": "code",
   "execution_count": 76,
   "id": "3abf6e09",
   "metadata": {},
   "outputs": [
    {
     "data": {
      "text/plain": [
       "CO    344890\n",
       "CR     73178\n",
       "CL     35271\n",
       "XZ      3263\n",
       "XM      1503\n",
       "XL       808\n",
       "Name: D_36, dtype: int64"
      ]
     },
     "execution_count": 76,
     "metadata": {},
     "output_type": "execute_result"
    }
   ],
   "source": [
    "data['D_36'].value_counts()"
   ]
  },
  {
   "cell_type": "code",
   "execution_count": 77,
   "id": "b4b3ddd7",
   "metadata": {},
   "outputs": [
    {
     "data": {
      "text/plain": [
       "0         O\n",
       "1         O\n",
       "2         O\n",
       "3         O\n",
       "4         O\n",
       "         ..\n",
       "458908    O\n",
       "458909    U\n",
       "458910    O\n",
       "458911    O\n",
       "458912    U\n",
       "Name: D_44, Length: 458913, dtype: object"
      ]
     },
     "execution_count": 77,
     "metadata": {},
     "output_type": "execute_result"
    }
   ],
   "source": [
    "data['D_44']"
   ]
  },
  {
   "cell_type": "code",
   "execution_count": 78,
   "id": "6d424c34",
   "metadata": {},
   "outputs": [
    {
     "data": {
      "text/plain": [
       "O    244622\n",
       "U    132722\n",
       "R     71532\n",
       "Name: D_44, dtype: int64"
      ]
     },
     "execution_count": 78,
     "metadata": {},
     "output_type": "execute_result"
    }
   ],
   "source": [
    "data['D_44'].value_counts()"
   ]
  },
  {
   "cell_type": "markdown",
   "id": "b7418858",
   "metadata": {},
   "source": [
    "## Null Values"
   ]
  },
  {
   "cell_type": "code",
   "execution_count": 79,
   "id": "66f28805",
   "metadata": {},
   "outputs": [
    {
     "data": {
      "text/plain": [
       "D_38    458086\n",
       "P_2       2969\n",
       "S_7      84970\n",
       "S_25     84970\n",
       "D_99     30377\n",
       "         ...  \n",
       "R_7     407770\n",
       "D_96    455235\n",
       "D_39    455235\n",
       "D_43    456286\n",
       "D_4      12807\n",
       "Length: 109, dtype: int64"
      ]
     },
     "execution_count": 79,
     "metadata": {},
     "output_type": "execute_result"
    }
   ],
   "source": [
    "data.isnull().sum()[data.isnull().sum() > 0]"
   ]
  },
  {
   "cell_type": "code",
   "execution_count": 80,
   "id": "b07f3bbc",
   "metadata": {},
   "outputs": [
    {
     "data": {
      "text/plain": [
       "D_38    99.819792\n",
       "P_2      0.646964\n",
       "S_7     18.515492\n",
       "S_25    18.515492\n",
       "D_99     6.619337\n",
       "          ...    \n",
       "R_7     88.855622\n",
       "D_96    99.198541\n",
       "D_39    99.198541\n",
       "D_43    99.427560\n",
       "D_4      2.790725\n",
       "Length: 109, dtype: float64"
      ]
     },
     "execution_count": 80,
     "metadata": {},
     "output_type": "execute_result"
    }
   ],
   "source": [
    "# Percentage of Null Values\n",
    "percentNull = data.isnull().sum()[data.isnull().sum() > 0] / len(data) *100\n",
    "percentNull"
   ]
  },
  {
   "cell_type": "code",
   "execution_count": 24,
   "id": "9686f1fc",
   "metadata": {},
   "outputs": [
    {
     "data": {
      "text/plain": [
       "Index(['D_38', 'B_29', 'B_26', 'D_68', 'D_110', 'D_17', 'D_106', 'D_48',\n",
       "       'D_92', 'R_8', 'D_73', 'D_105', 'D_10', 'D_141', 'D_11', 'D_142',\n",
       "       'D_31', 'D_95', 'B_7', 'B_22', 'D_80', 'D_97', 'D_12', 'D_132', 'D_114',\n",
       "       'R_7', 'D_96', 'D_39', 'D_43'],\n",
       "      dtype='object')"
      ]
     },
     "execution_count": 24,
     "metadata": {},
     "output_type": "execute_result"
    }
   ],
   "source": [
    "(percentNull[percentNull > 50]).index"
   ]
  },
  {
   "cell_type": "code",
   "execution_count": 25,
   "id": "01817349",
   "metadata": {},
   "outputs": [],
   "source": [
    "# x_train.drop((percentNull[percentNull > 50]).index, axis=1, inplace = True)\n",
    "# x_test.drop((percentNull[percentNull > 50]).index, axis=1, inplace = True)"
   ]
  },
  {
   "cell_type": "code",
   "execution_count": 26,
   "id": "e4d71afd",
   "metadata": {},
   "outputs": [],
   "source": [
    "# x_train.to_csv('Data/train_x_null<50_notImputed.csv', index=0)\n",
    "# x_test.to_csv('Data/test_x_null<50_notImputed.csv', index=0)"
   ]
  },
  {
   "cell_type": "markdown",
   "id": "fba4b5e3",
   "metadata": {},
   "source": [
    "# Correlation"
   ]
  },
  {
   "cell_type": "code",
   "execution_count": 28,
   "id": "6347d244",
   "metadata": {
    "scrolled": false
   },
   "outputs": [],
   "source": [
    "corr_mat = data.corr()"
   ]
  },
  {
   "cell_type": "code",
   "execution_count": 29,
   "id": "b3a6c68b",
   "metadata": {},
   "outputs": [
    {
     "data": {
      "text/html": [
       "<div>\n",
       "<style scoped>\n",
       "    .dataframe tbody tr th:only-of-type {\n",
       "        vertical-align: middle;\n",
       "    }\n",
       "\n",
       "    .dataframe tbody tr th {\n",
       "        vertical-align: top;\n",
       "    }\n",
       "\n",
       "    .dataframe thead th {\n",
       "        text-align: right;\n",
       "    }\n",
       "</style>\n",
       "<table border=\"1\" class=\"dataframe\">\n",
       "  <thead>\n",
       "    <tr style=\"text-align: right;\">\n",
       "      <th></th>\n",
       "      <th>B_37</th>\n",
       "      <th>S_24</th>\n",
       "      <th>S_4</th>\n",
       "      <th>S_14</th>\n",
       "      <th>B_25</th>\n",
       "      <th>D_38</th>\n",
       "      <th>B_30</th>\n",
       "      <th>D_138</th>\n",
       "      <th>P_2</th>\n",
       "      <th>S_7</th>\n",
       "      <th>...</th>\n",
       "      <th>D_4</th>\n",
       "      <th>D_85</th>\n",
       "      <th>D_78</th>\n",
       "      <th>D_42</th>\n",
       "      <th>D_52</th>\n",
       "      <th>D_29</th>\n",
       "      <th>R_1</th>\n",
       "      <th>R_28</th>\n",
       "      <th>S_5</th>\n",
       "      <th>Target</th>\n",
       "    </tr>\n",
       "  </thead>\n",
       "  <tbody>\n",
       "    <tr>\n",
       "      <th>B_37</th>\n",
       "      <td>1.000000</td>\n",
       "      <td>0.000208</td>\n",
       "      <td>-0.133955</td>\n",
       "      <td>-0.123188</td>\n",
       "      <td>-0.190071</td>\n",
       "      <td>0.137502</td>\n",
       "      <td>0.150475</td>\n",
       "      <td>-0.043622</td>\n",
       "      <td>-0.151145</td>\n",
       "      <td>0.019732</td>\n",
       "      <td>...</td>\n",
       "      <td>-0.039010</td>\n",
       "      <td>-0.027850</td>\n",
       "      <td>-0.020930</td>\n",
       "      <td>-0.003609</td>\n",
       "      <td>-0.046704</td>\n",
       "      <td>-0.054844</td>\n",
       "      <td>-0.004010</td>\n",
       "      <td>0.059296</td>\n",
       "      <td>-0.014595</td>\n",
       "      <td>0.114813</td>\n",
       "    </tr>\n",
       "    <tr>\n",
       "      <th>S_24</th>\n",
       "      <td>0.000208</td>\n",
       "      <td>1.000000</td>\n",
       "      <td>0.002101</td>\n",
       "      <td>0.005028</td>\n",
       "      <td>-0.004990</td>\n",
       "      <td>-0.020312</td>\n",
       "      <td>0.004294</td>\n",
       "      <td>-0.001027</td>\n",
       "      <td>-0.003504</td>\n",
       "      <td>0.017230</td>\n",
       "      <td>...</td>\n",
       "      <td>-0.000884</td>\n",
       "      <td>-0.002340</td>\n",
       "      <td>-0.000875</td>\n",
       "      <td>-0.000766</td>\n",
       "      <td>-0.003170</td>\n",
       "      <td>-0.000868</td>\n",
       "      <td>0.001671</td>\n",
       "      <td>-0.000809</td>\n",
       "      <td>0.068774</td>\n",
       "      <td>0.008440</td>\n",
       "    </tr>\n",
       "    <tr>\n",
       "      <th>S_4</th>\n",
       "      <td>-0.133955</td>\n",
       "      <td>0.002101</td>\n",
       "      <td>1.000000</td>\n",
       "      <td>0.702917</td>\n",
       "      <td>0.130203</td>\n",
       "      <td>-0.314342</td>\n",
       "      <td>-0.082488</td>\n",
       "      <td>0.145127</td>\n",
       "      <td>0.216406</td>\n",
       "      <td>-0.394377</td>\n",
       "      <td>...</td>\n",
       "      <td>0.232922</td>\n",
       "      <td>0.182402</td>\n",
       "      <td>0.096829</td>\n",
       "      <td>0.004904</td>\n",
       "      <td>0.335297</td>\n",
       "      <td>0.302343</td>\n",
       "      <td>-0.003485</td>\n",
       "      <td>-0.075418</td>\n",
       "      <td>-0.022189</td>\n",
       "      <td>-0.162704</td>\n",
       "    </tr>\n",
       "    <tr>\n",
       "      <th>S_14</th>\n",
       "      <td>-0.123188</td>\n",
       "      <td>0.005028</td>\n",
       "      <td>0.702917</td>\n",
       "      <td>1.000000</td>\n",
       "      <td>0.105579</td>\n",
       "      <td>-0.304685</td>\n",
       "      <td>-0.067683</td>\n",
       "      <td>0.087860</td>\n",
       "      <td>0.160890</td>\n",
       "      <td>-0.202898</td>\n",
       "      <td>...</td>\n",
       "      <td>0.268209</td>\n",
       "      <td>0.282127</td>\n",
       "      <td>0.099089</td>\n",
       "      <td>-0.004041</td>\n",
       "      <td>0.404842</td>\n",
       "      <td>0.292491</td>\n",
       "      <td>-0.000378</td>\n",
       "      <td>-0.070131</td>\n",
       "      <td>-0.009027</td>\n",
       "      <td>-0.135801</td>\n",
       "    </tr>\n",
       "    <tr>\n",
       "      <th>B_25</th>\n",
       "      <td>-0.190071</td>\n",
       "      <td>-0.004990</td>\n",
       "      <td>0.130203</td>\n",
       "      <td>0.105579</td>\n",
       "      <td>1.000000</td>\n",
       "      <td>-0.022786</td>\n",
       "      <td>-0.599462</td>\n",
       "      <td>0.191255</td>\n",
       "      <td>0.632005</td>\n",
       "      <td>-0.262576</td>\n",
       "      <td>...</td>\n",
       "      <td>0.148146</td>\n",
       "      <td>0.048440</td>\n",
       "      <td>0.107211</td>\n",
       "      <td>0.023235</td>\n",
       "      <td>0.261876</td>\n",
       "      <td>0.276612</td>\n",
       "      <td>-0.019764</td>\n",
       "      <td>-0.147428</td>\n",
       "      <td>-0.099145</td>\n",
       "      <td>-0.485315</td>\n",
       "    </tr>\n",
       "    <tr>\n",
       "      <th>...</th>\n",
       "      <td>...</td>\n",
       "      <td>...</td>\n",
       "      <td>...</td>\n",
       "      <td>...</td>\n",
       "      <td>...</td>\n",
       "      <td>...</td>\n",
       "      <td>...</td>\n",
       "      <td>...</td>\n",
       "      <td>...</td>\n",
       "      <td>...</td>\n",
       "      <td>...</td>\n",
       "      <td>...</td>\n",
       "      <td>...</td>\n",
       "      <td>...</td>\n",
       "      <td>...</td>\n",
       "      <td>...</td>\n",
       "      <td>...</td>\n",
       "      <td>...</td>\n",
       "      <td>...</td>\n",
       "      <td>...</td>\n",
       "      <td>...</td>\n",
       "    </tr>\n",
       "    <tr>\n",
       "      <th>D_29</th>\n",
       "      <td>-0.054844</td>\n",
       "      <td>-0.000868</td>\n",
       "      <td>0.302343</td>\n",
       "      <td>0.292491</td>\n",
       "      <td>0.276612</td>\n",
       "      <td>-0.068022</td>\n",
       "      <td>-0.177687</td>\n",
       "      <td>0.167224</td>\n",
       "      <td>0.264038</td>\n",
       "      <td>-0.193297</td>\n",
       "      <td>...</td>\n",
       "      <td>0.199824</td>\n",
       "      <td>0.142784</td>\n",
       "      <td>0.177895</td>\n",
       "      <td>0.019009</td>\n",
       "      <td>0.309433</td>\n",
       "      <td>1.000000</td>\n",
       "      <td>-0.008816</td>\n",
       "      <td>-0.048454</td>\n",
       "      <td>-0.034075</td>\n",
       "      <td>-0.175234</td>\n",
       "    </tr>\n",
       "    <tr>\n",
       "      <th>R_1</th>\n",
       "      <td>-0.004010</td>\n",
       "      <td>0.001671</td>\n",
       "      <td>-0.003485</td>\n",
       "      <td>-0.000378</td>\n",
       "      <td>-0.019764</td>\n",
       "      <td>0.005201</td>\n",
       "      <td>0.017612</td>\n",
       "      <td>-0.018366</td>\n",
       "      <td>-0.011534</td>\n",
       "      <td>0.072507</td>\n",
       "      <td>...</td>\n",
       "      <td>-0.006352</td>\n",
       "      <td>-0.003566</td>\n",
       "      <td>-0.003481</td>\n",
       "      <td>-0.002333</td>\n",
       "      <td>-0.007351</td>\n",
       "      <td>-0.008816</td>\n",
       "      <td>1.000000</td>\n",
       "      <td>-0.002823</td>\n",
       "      <td>0.015356</td>\n",
       "      <td>0.023157</td>\n",
       "    </tr>\n",
       "    <tr>\n",
       "      <th>R_28</th>\n",
       "      <td>0.059296</td>\n",
       "      <td>-0.000809</td>\n",
       "      <td>-0.075418</td>\n",
       "      <td>-0.070131</td>\n",
       "      <td>-0.147428</td>\n",
       "      <td>0.148926</td>\n",
       "      <td>0.157958</td>\n",
       "      <td>-0.066133</td>\n",
       "      <td>-0.321730</td>\n",
       "      <td>0.087160</td>\n",
       "      <td>...</td>\n",
       "      <td>-0.035266</td>\n",
       "      <td>-0.022388</td>\n",
       "      <td>-0.017449</td>\n",
       "      <td>-0.007824</td>\n",
       "      <td>-0.040594</td>\n",
       "      <td>-0.048454</td>\n",
       "      <td>-0.002823</td>\n",
       "      <td>1.000000</td>\n",
       "      <td>0.020283</td>\n",
       "      <td>0.149427</td>\n",
       "    </tr>\n",
       "    <tr>\n",
       "      <th>S_5</th>\n",
       "      <td>-0.014595</td>\n",
       "      <td>0.068774</td>\n",
       "      <td>-0.022189</td>\n",
       "      <td>-0.009027</td>\n",
       "      <td>-0.099145</td>\n",
       "      <td>0.180793</td>\n",
       "      <td>0.123810</td>\n",
       "      <td>-0.057867</td>\n",
       "      <td>-0.109586</td>\n",
       "      <td>0.211830</td>\n",
       "      <td>...</td>\n",
       "      <td>-0.023809</td>\n",
       "      <td>-0.010544</td>\n",
       "      <td>-0.013469</td>\n",
       "      <td>-0.007072</td>\n",
       "      <td>-0.026582</td>\n",
       "      <td>-0.034075</td>\n",
       "      <td>0.015356</td>\n",
       "      <td>0.020283</td>\n",
       "      <td>1.000000</td>\n",
       "      <td>0.118771</td>\n",
       "    </tr>\n",
       "    <tr>\n",
       "      <th>Target</th>\n",
       "      <td>0.114813</td>\n",
       "      <td>0.008440</td>\n",
       "      <td>-0.162704</td>\n",
       "      <td>-0.135801</td>\n",
       "      <td>-0.485315</td>\n",
       "      <td>0.059505</td>\n",
       "      <td>0.478168</td>\n",
       "      <td>-0.264793</td>\n",
       "      <td>-0.562642</td>\n",
       "      <td>0.296676</td>\n",
       "      <td>...</td>\n",
       "      <td>-0.120557</td>\n",
       "      <td>-0.064124</td>\n",
       "      <td>-0.066179</td>\n",
       "      <td>-0.031691</td>\n",
       "      <td>-0.142963</td>\n",
       "      <td>-0.175234</td>\n",
       "      <td>0.023157</td>\n",
       "      <td>0.149427</td>\n",
       "      <td>0.118771</td>\n",
       "      <td>1.000000</td>\n",
       "    </tr>\n",
       "  </tbody>\n",
       "</table>\n",
       "<p>187 rows × 187 columns</p>\n",
       "</div>"
      ],
      "text/plain": [
       "            B_37      S_24       S_4      S_14      B_25      D_38      B_30  \\\n",
       "B_37    1.000000  0.000208 -0.133955 -0.123188 -0.190071  0.137502  0.150475   \n",
       "S_24    0.000208  1.000000  0.002101  0.005028 -0.004990 -0.020312  0.004294   \n",
       "S_4    -0.133955  0.002101  1.000000  0.702917  0.130203 -0.314342 -0.082488   \n",
       "S_14   -0.123188  0.005028  0.702917  1.000000  0.105579 -0.304685 -0.067683   \n",
       "B_25   -0.190071 -0.004990  0.130203  0.105579  1.000000 -0.022786 -0.599462   \n",
       "...          ...       ...       ...       ...       ...       ...       ...   \n",
       "D_29   -0.054844 -0.000868  0.302343  0.292491  0.276612 -0.068022 -0.177687   \n",
       "R_1    -0.004010  0.001671 -0.003485 -0.000378 -0.019764  0.005201  0.017612   \n",
       "R_28    0.059296 -0.000809 -0.075418 -0.070131 -0.147428  0.148926  0.157958   \n",
       "S_5    -0.014595  0.068774 -0.022189 -0.009027 -0.099145  0.180793  0.123810   \n",
       "Target  0.114813  0.008440 -0.162704 -0.135801 -0.485315  0.059505  0.478168   \n",
       "\n",
       "           D_138       P_2       S_7  ...       D_4      D_85      D_78  \\\n",
       "B_37   -0.043622 -0.151145  0.019732  ... -0.039010 -0.027850 -0.020930   \n",
       "S_24   -0.001027 -0.003504  0.017230  ... -0.000884 -0.002340 -0.000875   \n",
       "S_4     0.145127  0.216406 -0.394377  ...  0.232922  0.182402  0.096829   \n",
       "S_14    0.087860  0.160890 -0.202898  ...  0.268209  0.282127  0.099089   \n",
       "B_25    0.191255  0.632005 -0.262576  ...  0.148146  0.048440  0.107211   \n",
       "...          ...       ...       ...  ...       ...       ...       ...   \n",
       "D_29    0.167224  0.264038 -0.193297  ...  0.199824  0.142784  0.177895   \n",
       "R_1    -0.018366 -0.011534  0.072507  ... -0.006352 -0.003566 -0.003481   \n",
       "R_28   -0.066133 -0.321730  0.087160  ... -0.035266 -0.022388 -0.017449   \n",
       "S_5    -0.057867 -0.109586  0.211830  ... -0.023809 -0.010544 -0.013469   \n",
       "Target -0.264793 -0.562642  0.296676  ... -0.120557 -0.064124 -0.066179   \n",
       "\n",
       "            D_42      D_52      D_29       R_1      R_28       S_5    Target  \n",
       "B_37   -0.003609 -0.046704 -0.054844 -0.004010  0.059296 -0.014595  0.114813  \n",
       "S_24   -0.000766 -0.003170 -0.000868  0.001671 -0.000809  0.068774  0.008440  \n",
       "S_4     0.004904  0.335297  0.302343 -0.003485 -0.075418 -0.022189 -0.162704  \n",
       "S_14   -0.004041  0.404842  0.292491 -0.000378 -0.070131 -0.009027 -0.135801  \n",
       "B_25    0.023235  0.261876  0.276612 -0.019764 -0.147428 -0.099145 -0.485315  \n",
       "...          ...       ...       ...       ...       ...       ...       ...  \n",
       "D_29    0.019009  0.309433  1.000000 -0.008816 -0.048454 -0.034075 -0.175234  \n",
       "R_1    -0.002333 -0.007351 -0.008816  1.000000 -0.002823  0.015356  0.023157  \n",
       "R_28   -0.007824 -0.040594 -0.048454 -0.002823  1.000000  0.020283  0.149427  \n",
       "S_5    -0.007072 -0.026582 -0.034075  0.015356  0.020283  1.000000  0.118771  \n",
       "Target -0.031691 -0.142963 -0.175234  0.023157  0.149427  0.118771  1.000000  \n",
       "\n",
       "[187 rows x 187 columns]"
      ]
     },
     "execution_count": 29,
     "metadata": {},
     "output_type": "execute_result"
    }
   ],
   "source": [
    "corr_mat"
   ]
  },
  {
   "cell_type": "code",
   "execution_count": 33,
   "id": "267330bb",
   "metadata": {},
   "outputs": [],
   "source": [
    "# corr_mat.reset_index(inplace=True)\n",
    "# corr_mat.to_feather('Helpers/corr_mat.ftr')"
   ]
  },
  {
   "cell_type": "code",
   "execution_count": 54,
   "id": "339bc193",
   "metadata": {},
   "outputs": [
    {
     "data": {
      "text/html": [
       "<div>\n",
       "<style scoped>\n",
       "    .dataframe tbody tr th:only-of-type {\n",
       "        vertical-align: middle;\n",
       "    }\n",
       "\n",
       "    .dataframe tbody tr th {\n",
       "        vertical-align: top;\n",
       "    }\n",
       "\n",
       "    .dataframe thead th {\n",
       "        text-align: right;\n",
       "    }\n",
       "</style>\n",
       "<table border=\"1\" class=\"dataframe\">\n",
       "  <thead>\n",
       "    <tr style=\"text-align: right;\">\n",
       "      <th></th>\n",
       "      <th>index</th>\n",
       "      <th>Target</th>\n",
       "    </tr>\n",
       "  </thead>\n",
       "  <tbody>\n",
       "    <tr>\n",
       "      <th>186</th>\n",
       "      <td>Target</td>\n",
       "      <td>1.000000</td>\n",
       "    </tr>\n",
       "    <tr>\n",
       "      <th>8</th>\n",
       "      <td>P_2</td>\n",
       "      <td>0.562642</td>\n",
       "    </tr>\n",
       "    <tr>\n",
       "      <th>101</th>\n",
       "      <td>D_40</td>\n",
       "      <td>0.524474</td>\n",
       "    </tr>\n",
       "    <tr>\n",
       "      <th>31</th>\n",
       "      <td>B_9</td>\n",
       "      <td>0.489996</td>\n",
       "    </tr>\n",
       "    <tr>\n",
       "      <th>4</th>\n",
       "      <td>B_25</td>\n",
       "      <td>0.485315</td>\n",
       "    </tr>\n",
       "    <tr>\n",
       "      <th>6</th>\n",
       "      <td>B_30</td>\n",
       "      <td>0.478168</td>\n",
       "    </tr>\n",
       "    <tr>\n",
       "      <th>12</th>\n",
       "      <td>D_99</td>\n",
       "      <td>0.466598</td>\n",
       "    </tr>\n",
       "    <tr>\n",
       "      <th>110</th>\n",
       "      <td>D_22</td>\n",
       "      <td>0.465842</td>\n",
       "    </tr>\n",
       "    <tr>\n",
       "      <th>30</th>\n",
       "      <td>B_5</td>\n",
       "      <td>0.458598</td>\n",
       "    </tr>\n",
       "    <tr>\n",
       "      <th>114</th>\n",
       "      <td>D_56</td>\n",
       "      <td>0.453967</td>\n",
       "    </tr>\n",
       "  </tbody>\n",
       "</table>\n",
       "</div>"
      ],
      "text/plain": [
       "      index    Target\n",
       "186  Target  1.000000\n",
       "8       P_2  0.562642\n",
       "101    D_40  0.524474\n",
       "31      B_9  0.489996\n",
       "4      B_25  0.485315\n",
       "6      B_30  0.478168\n",
       "12     D_99  0.466598\n",
       "110    D_22  0.465842\n",
       "30      B_5  0.458598\n",
       "114    D_56  0.453967"
      ]
     },
     "execution_count": 54,
     "metadata": {},
     "output_type": "execute_result"
    }
   ],
   "source": [
    "corr_mat['Target'] = corr_mat['Target'].abs()\n",
    "corr_mat[['index', 'Target']].sort_values(by='Target', ascending=False).head(10)"
   ]
  },
  {
   "cell_type": "markdown",
   "id": "2b117388",
   "metadata": {},
   "source": [
    "# Imputing the null values"
   ]
  },
  {
   "cell_type": "code",
   "execution_count": 81,
   "id": "e2bb440b",
   "metadata": {},
   "outputs": [],
   "source": [
    "for col in x_train.columns:\n",
    "    if x_train[col].dtype != 'object':\n",
    "        mean = x_train[col].mean(skipna=True)\n",
    "        x_train[col]=x_train[col].fillna(mean)\n",
    "        x_test[col]=x_test[col].fillna(mean)"
   ]
  },
  {
   "cell_type": "code",
   "execution_count": 82,
   "id": "74f5a276",
   "metadata": {},
   "outputs": [],
   "source": [
    "for col in x_train.columns:\n",
    "    if x_train[col].dtype == 'object':\n",
    "        mode = x_train[col].mode(dropna=True)[0]\n",
    "        x_train[col]=x_train[col].fillna(mode)\n",
    "        x_test[col]=x_test[col].fillna(mode)"
   ]
  },
  {
   "cell_type": "code",
   "execution_count": 83,
   "id": "82cdd91d",
   "metadata": {},
   "outputs": [
    {
     "data": {
      "text/plain": [
       "Series([], dtype: int64)"
      ]
     },
     "execution_count": 83,
     "metadata": {},
     "output_type": "execute_result"
    }
   ],
   "source": [
    "x_train.isnull().sum()[x_train.isnull().sum() > 0]"
   ]
  },
  {
   "cell_type": "code",
   "execution_count": null,
   "id": "b4e51b6a",
   "metadata": {},
   "outputs": [],
   "source": [
    "# x_train.drop(['D_44', 'D_36'], axis=1, inplace=True)"
   ]
  },
  {
   "cell_type": "markdown",
   "id": "47040c32",
   "metadata": {},
   "source": [
    "# Saving the Data Files"
   ]
  },
  {
   "cell_type": "code",
   "execution_count": 84,
   "id": "9d853363",
   "metadata": {},
   "outputs": [],
   "source": [
    "x_train.to_csv('Data/train__mean_mode_Imputed.csv', index=0)\n",
    "x_test.to_csv('Data/test__mean_mode_Imputed.csv', index=0)"
   ]
  },
  {
   "cell_type": "code",
   "execution_count": null,
   "id": "8e21a274",
   "metadata": {},
   "outputs": [],
   "source": []
  }
 ],
 "metadata": {
  "kernelspec": {
   "display_name": "Python 3 (ipykernel)",
   "language": "python",
   "name": "python3"
  },
  "language_info": {
   "codemirror_mode": {
    "name": "ipython",
    "version": 3
   },
   "file_extension": ".py",
   "mimetype": "text/x-python",
   "name": "python",
   "nbconvert_exporter": "python",
   "pygments_lexer": "ipython3",
   "version": "3.9.12"
  }
 },
 "nbformat": 4,
 "nbformat_minor": 5
}
