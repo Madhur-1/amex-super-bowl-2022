{
 "cells": [
  {
   "cell_type": "code",
   "execution_count": 1,
   "id": "f30619ae",
   "metadata": {},
   "outputs": [],
   "source": [
    "import numpy as np\n",
    "import pandas as pd\n",
    "# library for splitting training-testing\n",
    "from sklearn.model_selection import train_test_split\n",
    "# library for classification\n",
    "from sklearn.metrics import accuracy_score\n",
    "from sklearn.decomposition import PCA\n",
    "\n",
    "from sklearn.neural_network import MLPClassifier\n",
    "\n",
    "from sklearn.model_selection import GridSearchCV, PredefinedSplit\n",
    "from sklearn.preprocessing import StandardScaler\n",
    "from sklearn import pipeline\n",
    "\n",
    "from hyperopt import tpe,hp,Trials\n",
    "from hyperopt.fmin import fmin"
   ]
  },
  {
   "cell_type": "code",
   "execution_count": 2,
   "id": "a3715e40",
   "metadata": {},
   "outputs": [],
   "source": [
    "x_train = pd.read_feather(\"Data/x_train__IterativeImputer_genFeats.ftr\")\n",
    "x_test = pd.read_feather(\"Data/x_test__IterativeImputer_genFeats.ftr\")\n",
    "\n",
    "y_train = pd.read_csv(\"Data/train_y.csv\")\n",
    "y_test = pd.read_csv(\"Data/Sample_Output.csv\", names = ['ID', 'Target'], header=None)"
   ]
  },
  {
   "cell_type": "markdown",
   "id": "6baaa4bb",
   "metadata": {},
   "source": [
    "# Test Train Split"
   ]
  },
  {
   "cell_type": "code",
   "execution_count": 12,
   "id": "bfe67874",
   "metadata": {},
   "outputs": [],
   "source": [
    "x_train_1, x_val, y_train_1, y_val = train_test_split(x_train, y_train, test_size=0.15, random_state=59, stratify=y_train)"
   ]
  },
  {
   "cell_type": "code",
   "execution_count": 13,
   "id": "ac8b4a7b",
   "metadata": {},
   "outputs": [
    {
     "data": {
      "text/html": [
       "<div>\n",
       "<style scoped>\n",
       "    .dataframe tbody tr th:only-of-type {\n",
       "        vertical-align: middle;\n",
       "    }\n",
       "\n",
       "    .dataframe tbody tr th {\n",
       "        vertical-align: top;\n",
       "    }\n",
       "\n",
       "    .dataframe thead th {\n",
       "        text-align: right;\n",
       "    }\n",
       "</style>\n",
       "<table border=\"1\" class=\"dataframe\">\n",
       "  <thead>\n",
       "    <tr style=\"text-align: right;\">\n",
       "      <th></th>\n",
       "      <th>B_37</th>\n",
       "      <th>S_24</th>\n",
       "      <th>S_4</th>\n",
       "      <th>S_14</th>\n",
       "      <th>B_25</th>\n",
       "      <th>D_38</th>\n",
       "      <th>B_30</th>\n",
       "      <th>D_138</th>\n",
       "      <th>P_2</th>\n",
       "      <th>S_7</th>\n",
       "      <th>...</th>\n",
       "      <th>D_43_missing</th>\n",
       "      <th>D_4_missing</th>\n",
       "      <th>D_85_missing</th>\n",
       "      <th>D_78_missing</th>\n",
       "      <th>D_42_missing</th>\n",
       "      <th>D_52_missing</th>\n",
       "      <th>D_29_missing</th>\n",
       "      <th>R_1_missing</th>\n",
       "      <th>R_28_missing</th>\n",
       "      <th>S_5_missing</th>\n",
       "    </tr>\n",
       "  </thead>\n",
       "  <tbody>\n",
       "    <tr>\n",
       "      <th>204902</th>\n",
       "      <td>0.000537</td>\n",
       "      <td>0.002211</td>\n",
       "      <td>0.753418</td>\n",
       "      <td>0.426758</td>\n",
       "      <td>1.004883</td>\n",
       "      <td>0.178881</td>\n",
       "      <td>0.031372</td>\n",
       "      <td>0.580566</td>\n",
       "      <td>0.897461</td>\n",
       "      <td>0.166138</td>\n",
       "      <td>...</td>\n",
       "      <td>True</td>\n",
       "      <td>False</td>\n",
       "      <td>False</td>\n",
       "      <td>False</td>\n",
       "      <td>False</td>\n",
       "      <td>False</td>\n",
       "      <td>False</td>\n",
       "      <td>False</td>\n",
       "      <td>False</td>\n",
       "      <td>False</td>\n",
       "    </tr>\n",
       "    <tr>\n",
       "      <th>379883</th>\n",
       "      <td>1.009766</td>\n",
       "      <td>0.004143</td>\n",
       "      <td>0.009712</td>\n",
       "      <td>0.007290</td>\n",
       "      <td>0.054077</td>\n",
       "      <td>0.198311</td>\n",
       "      <td>0.540527</td>\n",
       "      <td>0.291504</td>\n",
       "      <td>0.332520</td>\n",
       "      <td>0.302964</td>\n",
       "      <td>...</td>\n",
       "      <td>True</td>\n",
       "      <td>False</td>\n",
       "      <td>False</td>\n",
       "      <td>False</td>\n",
       "      <td>False</td>\n",
       "      <td>False</td>\n",
       "      <td>False</td>\n",
       "      <td>False</td>\n",
       "      <td>False</td>\n",
       "      <td>False</td>\n",
       "    </tr>\n",
       "    <tr>\n",
       "      <th>129737</th>\n",
       "      <td>0.000283</td>\n",
       "      <td>0.004601</td>\n",
       "      <td>0.173340</td>\n",
       "      <td>0.286865</td>\n",
       "      <td>0.419678</td>\n",
       "      <td>0.182790</td>\n",
       "      <td>0.087952</td>\n",
       "      <td>0.358643</td>\n",
       "      <td>0.464355</td>\n",
       "      <td>0.405273</td>\n",
       "      <td>...</td>\n",
       "      <td>True</td>\n",
       "      <td>False</td>\n",
       "      <td>False</td>\n",
       "      <td>False</td>\n",
       "      <td>False</td>\n",
       "      <td>False</td>\n",
       "      <td>False</td>\n",
       "      <td>False</td>\n",
       "      <td>False</td>\n",
       "      <td>False</td>\n",
       "    </tr>\n",
       "    <tr>\n",
       "      <th>73910</th>\n",
       "      <td>0.009575</td>\n",
       "      <td>0.001327</td>\n",
       "      <td>0.103271</td>\n",
       "      <td>0.005520</td>\n",
       "      <td>0.243042</td>\n",
       "      <td>0.191612</td>\n",
       "      <td>0.572754</td>\n",
       "      <td>0.454834</td>\n",
       "      <td>0.205078</td>\n",
       "      <td>0.187012</td>\n",
       "      <td>...</td>\n",
       "      <td>True</td>\n",
       "      <td>False</td>\n",
       "      <td>False</td>\n",
       "      <td>False</td>\n",
       "      <td>False</td>\n",
       "      <td>False</td>\n",
       "      <td>False</td>\n",
       "      <td>False</td>\n",
       "      <td>False</td>\n",
       "      <td>False</td>\n",
       "    </tr>\n",
       "    <tr>\n",
       "      <th>216625</th>\n",
       "      <td>0.006859</td>\n",
       "      <td>0.005913</td>\n",
       "      <td>0.757324</td>\n",
       "      <td>0.844727</td>\n",
       "      <td>1.008789</td>\n",
       "      <td>0.187704</td>\n",
       "      <td>0.009346</td>\n",
       "      <td>0.685547</td>\n",
       "      <td>0.896973</td>\n",
       "      <td>0.137207</td>\n",
       "      <td>...</td>\n",
       "      <td>True</td>\n",
       "      <td>False</td>\n",
       "      <td>False</td>\n",
       "      <td>False</td>\n",
       "      <td>False</td>\n",
       "      <td>False</td>\n",
       "      <td>False</td>\n",
       "      <td>False</td>\n",
       "      <td>False</td>\n",
       "      <td>False</td>\n",
       "    </tr>\n",
       "    <tr>\n",
       "      <th>...</th>\n",
       "      <td>...</td>\n",
       "      <td>...</td>\n",
       "      <td>...</td>\n",
       "      <td>...</td>\n",
       "      <td>...</td>\n",
       "      <td>...</td>\n",
       "      <td>...</td>\n",
       "      <td>...</td>\n",
       "      <td>...</td>\n",
       "      <td>...</td>\n",
       "      <td>...</td>\n",
       "      <td>...</td>\n",
       "      <td>...</td>\n",
       "      <td>...</td>\n",
       "      <td>...</td>\n",
       "      <td>...</td>\n",
       "      <td>...</td>\n",
       "      <td>...</td>\n",
       "      <td>...</td>\n",
       "      <td>...</td>\n",
       "      <td>...</td>\n",
       "    </tr>\n",
       "    <tr>\n",
       "      <th>294509</th>\n",
       "      <td>0.000364</td>\n",
       "      <td>0.009514</td>\n",
       "      <td>0.009933</td>\n",
       "      <td>0.000112</td>\n",
       "      <td>0.240112</td>\n",
       "      <td>0.184884</td>\n",
       "      <td>0.572754</td>\n",
       "      <td>0.093506</td>\n",
       "      <td>0.379639</td>\n",
       "      <td>0.253174</td>\n",
       "      <td>...</td>\n",
       "      <td>True</td>\n",
       "      <td>False</td>\n",
       "      <td>False</td>\n",
       "      <td>False</td>\n",
       "      <td>False</td>\n",
       "      <td>False</td>\n",
       "      <td>False</td>\n",
       "      <td>False</td>\n",
       "      <td>False</td>\n",
       "      <td>False</td>\n",
       "    </tr>\n",
       "    <tr>\n",
       "      <th>234469</th>\n",
       "      <td>0.006172</td>\n",
       "      <td>0.008919</td>\n",
       "      <td>0.760742</td>\n",
       "      <td>0.850098</td>\n",
       "      <td>1.005859</td>\n",
       "      <td>0.175321</td>\n",
       "      <td>0.060883</td>\n",
       "      <td>0.270264</td>\n",
       "      <td>0.950684</td>\n",
       "      <td>0.106018</td>\n",
       "      <td>...</td>\n",
       "      <td>True</td>\n",
       "      <td>False</td>\n",
       "      <td>False</td>\n",
       "      <td>False</td>\n",
       "      <td>False</td>\n",
       "      <td>False</td>\n",
       "      <td>False</td>\n",
       "      <td>False</td>\n",
       "      <td>False</td>\n",
       "      <td>False</td>\n",
       "    </tr>\n",
       "    <tr>\n",
       "      <th>283661</th>\n",
       "      <td>0.009285</td>\n",
       "      <td>0.000160</td>\n",
       "      <td>0.477539</td>\n",
       "      <td>0.689941</td>\n",
       "      <td>0.148315</td>\n",
       "      <td>0.194191</td>\n",
       "      <td>0.632324</td>\n",
       "      <td>0.391357</td>\n",
       "      <td>0.258545</td>\n",
       "      <td>0.145630</td>\n",
       "      <td>...</td>\n",
       "      <td>True</td>\n",
       "      <td>False</td>\n",
       "      <td>False</td>\n",
       "      <td>False</td>\n",
       "      <td>False</td>\n",
       "      <td>False</td>\n",
       "      <td>False</td>\n",
       "      <td>False</td>\n",
       "      <td>False</td>\n",
       "      <td>False</td>\n",
       "    </tr>\n",
       "    <tr>\n",
       "      <th>418453</th>\n",
       "      <td>0.006802</td>\n",
       "      <td>0.004635</td>\n",
       "      <td>0.854980</td>\n",
       "      <td>0.533203</td>\n",
       "      <td>1.004883</td>\n",
       "      <td>0.180153</td>\n",
       "      <td>0.036621</td>\n",
       "      <td>0.595703</td>\n",
       "      <td>1.004883</td>\n",
       "      <td>0.015427</td>\n",
       "      <td>...</td>\n",
       "      <td>True</td>\n",
       "      <td>False</td>\n",
       "      <td>False</td>\n",
       "      <td>False</td>\n",
       "      <td>False</td>\n",
       "      <td>False</td>\n",
       "      <td>False</td>\n",
       "      <td>False</td>\n",
       "      <td>False</td>\n",
       "      <td>False</td>\n",
       "    </tr>\n",
       "    <tr>\n",
       "      <th>298858</th>\n",
       "      <td>1.005859</td>\n",
       "      <td>0.003828</td>\n",
       "      <td>0.174683</td>\n",
       "      <td>0.285889</td>\n",
       "      <td>0.103088</td>\n",
       "      <td>0.183011</td>\n",
       "      <td>0.439453</td>\n",
       "      <td>0.273193</td>\n",
       "      <td>0.446289</td>\n",
       "      <td>0.201538</td>\n",
       "      <td>...</td>\n",
       "      <td>True</td>\n",
       "      <td>False</td>\n",
       "      <td>False</td>\n",
       "      <td>False</td>\n",
       "      <td>False</td>\n",
       "      <td>False</td>\n",
       "      <td>False</td>\n",
       "      <td>False</td>\n",
       "      <td>False</td>\n",
       "      <td>False</td>\n",
       "    </tr>\n",
       "  </tbody>\n",
       "</table>\n",
       "<p>390076 rows × 394 columns</p>\n",
       "</div>"
      ],
      "text/plain": [
       "            B_37      S_24       S_4      S_14      B_25      D_38      B_30  \\\n",
       "204902  0.000537  0.002211  0.753418  0.426758  1.004883  0.178881  0.031372   \n",
       "379883  1.009766  0.004143  0.009712  0.007290  0.054077  0.198311  0.540527   \n",
       "129737  0.000283  0.004601  0.173340  0.286865  0.419678  0.182790  0.087952   \n",
       "73910   0.009575  0.001327  0.103271  0.005520  0.243042  0.191612  0.572754   \n",
       "216625  0.006859  0.005913  0.757324  0.844727  1.008789  0.187704  0.009346   \n",
       "...          ...       ...       ...       ...       ...       ...       ...   \n",
       "294509  0.000364  0.009514  0.009933  0.000112  0.240112  0.184884  0.572754   \n",
       "234469  0.006172  0.008919  0.760742  0.850098  1.005859  0.175321  0.060883   \n",
       "283661  0.009285  0.000160  0.477539  0.689941  0.148315  0.194191  0.632324   \n",
       "418453  0.006802  0.004635  0.854980  0.533203  1.004883  0.180153  0.036621   \n",
       "298858  1.005859  0.003828  0.174683  0.285889  0.103088  0.183011  0.439453   \n",
       "\n",
       "           D_138       P_2       S_7  ...  D_43_missing  D_4_missing  \\\n",
       "204902  0.580566  0.897461  0.166138  ...          True        False   \n",
       "379883  0.291504  0.332520  0.302964  ...          True        False   \n",
       "129737  0.358643  0.464355  0.405273  ...          True        False   \n",
       "73910   0.454834  0.205078  0.187012  ...          True        False   \n",
       "216625  0.685547  0.896973  0.137207  ...          True        False   \n",
       "...          ...       ...       ...  ...           ...          ...   \n",
       "294509  0.093506  0.379639  0.253174  ...          True        False   \n",
       "234469  0.270264  0.950684  0.106018  ...          True        False   \n",
       "283661  0.391357  0.258545  0.145630  ...          True        False   \n",
       "418453  0.595703  1.004883  0.015427  ...          True        False   \n",
       "298858  0.273193  0.446289  0.201538  ...          True        False   \n",
       "\n",
       "        D_85_missing  D_78_missing  D_42_missing  D_52_missing  D_29_missing  \\\n",
       "204902         False         False         False         False         False   \n",
       "379883         False         False         False         False         False   \n",
       "129737         False         False         False         False         False   \n",
       "73910          False         False         False         False         False   \n",
       "216625         False         False         False         False         False   \n",
       "...              ...           ...           ...           ...           ...   \n",
       "294509         False         False         False         False         False   \n",
       "234469         False         False         False         False         False   \n",
       "283661         False         False         False         False         False   \n",
       "418453         False         False         False         False         False   \n",
       "298858         False         False         False         False         False   \n",
       "\n",
       "        R_1_missing  R_28_missing  S_5_missing  \n",
       "204902        False         False        False  \n",
       "379883        False         False        False  \n",
       "129737        False         False        False  \n",
       "73910         False         False        False  \n",
       "216625        False         False        False  \n",
       "...             ...           ...          ...  \n",
       "294509        False         False        False  \n",
       "234469        False         False        False  \n",
       "283661        False         False        False  \n",
       "418453        False         False        False  \n",
       "298858        False         False        False  \n",
       "\n",
       "[390076 rows x 394 columns]"
      ]
     },
     "execution_count": 13,
     "metadata": {},
     "output_type": "execute_result"
    }
   ],
   "source": [
    "x_train_1"
   ]
  },
  {
   "cell_type": "code",
   "execution_count": 14,
   "id": "04a16719",
   "metadata": {},
   "outputs": [
    {
     "data": {
      "text/html": [
       "<div>\n",
       "<style scoped>\n",
       "    .dataframe tbody tr th:only-of-type {\n",
       "        vertical-align: middle;\n",
       "    }\n",
       "\n",
       "    .dataframe tbody tr th {\n",
       "        vertical-align: top;\n",
       "    }\n",
       "\n",
       "    .dataframe thead th {\n",
       "        text-align: right;\n",
       "    }\n",
       "</style>\n",
       "<table border=\"1\" class=\"dataframe\">\n",
       "  <thead>\n",
       "    <tr style=\"text-align: right;\">\n",
       "      <th></th>\n",
       "      <th>B_37</th>\n",
       "      <th>S_24</th>\n",
       "      <th>S_4</th>\n",
       "      <th>S_14</th>\n",
       "      <th>B_25</th>\n",
       "      <th>D_38</th>\n",
       "      <th>B_30</th>\n",
       "      <th>D_138</th>\n",
       "      <th>P_2</th>\n",
       "      <th>S_7</th>\n",
       "      <th>...</th>\n",
       "      <th>D_43_missing</th>\n",
       "      <th>D_4_missing</th>\n",
       "      <th>D_85_missing</th>\n",
       "      <th>D_78_missing</th>\n",
       "      <th>D_42_missing</th>\n",
       "      <th>D_52_missing</th>\n",
       "      <th>D_29_missing</th>\n",
       "      <th>R_1_missing</th>\n",
       "      <th>R_28_missing</th>\n",
       "      <th>S_5_missing</th>\n",
       "    </tr>\n",
       "  </thead>\n",
       "  <tbody>\n",
       "    <tr>\n",
       "      <th>352262</th>\n",
       "      <td>0.006382</td>\n",
       "      <td>0.005024</td>\n",
       "      <td>0.008347</td>\n",
       "      <td>0.003109</td>\n",
       "      <td>1.002930</td>\n",
       "      <td>0.183563</td>\n",
       "      <td>0.000047</td>\n",
       "      <td>0.470215</td>\n",
       "      <td>0.858398</td>\n",
       "      <td>0.287264</td>\n",
       "      <td>...</td>\n",
       "      <td>True</td>\n",
       "      <td>False</td>\n",
       "      <td>False</td>\n",
       "      <td>False</td>\n",
       "      <td>False</td>\n",
       "      <td>False</td>\n",
       "      <td>False</td>\n",
       "      <td>False</td>\n",
       "      <td>False</td>\n",
       "      <td>False</td>\n",
       "    </tr>\n",
       "    <tr>\n",
       "      <th>81404</th>\n",
       "      <td>0.005367</td>\n",
       "      <td>0.007484</td>\n",
       "      <td>0.319336</td>\n",
       "      <td>0.285645</td>\n",
       "      <td>0.481201</td>\n",
       "      <td>0.183854</td>\n",
       "      <td>0.013557</td>\n",
       "      <td>0.488037</td>\n",
       "      <td>0.765137</td>\n",
       "      <td>0.175659</td>\n",
       "      <td>...</td>\n",
       "      <td>True</td>\n",
       "      <td>False</td>\n",
       "      <td>False</td>\n",
       "      <td>False</td>\n",
       "      <td>False</td>\n",
       "      <td>False</td>\n",
       "      <td>False</td>\n",
       "      <td>False</td>\n",
       "      <td>False</td>\n",
       "      <td>False</td>\n",
       "    </tr>\n",
       "    <tr>\n",
       "      <th>355900</th>\n",
       "      <td>0.000736</td>\n",
       "      <td>0.003660</td>\n",
       "      <td>0.008263</td>\n",
       "      <td>0.002398</td>\n",
       "      <td>0.051575</td>\n",
       "      <td>0.189862</td>\n",
       "      <td>0.468506</td>\n",
       "      <td>0.272461</td>\n",
       "      <td>0.312988</td>\n",
       "      <td>0.616699</td>\n",
       "      <td>...</td>\n",
       "      <td>True</td>\n",
       "      <td>False</td>\n",
       "      <td>False</td>\n",
       "      <td>False</td>\n",
       "      <td>False</td>\n",
       "      <td>False</td>\n",
       "      <td>False</td>\n",
       "      <td>False</td>\n",
       "      <td>False</td>\n",
       "      <td>False</td>\n",
       "    </tr>\n",
       "    <tr>\n",
       "      <th>64818</th>\n",
       "      <td>0.001374</td>\n",
       "      <td>0.008667</td>\n",
       "      <td>0.472656</td>\n",
       "      <td>0.000304</td>\n",
       "      <td>0.526367</td>\n",
       "      <td>0.205407</td>\n",
       "      <td>0.007141</td>\n",
       "      <td>0.159180</td>\n",
       "      <td>0.562500</td>\n",
       "      <td>0.138916</td>\n",
       "      <td>...</td>\n",
       "      <td>True</td>\n",
       "      <td>False</td>\n",
       "      <td>False</td>\n",
       "      <td>False</td>\n",
       "      <td>False</td>\n",
       "      <td>False</td>\n",
       "      <td>False</td>\n",
       "      <td>False</td>\n",
       "      <td>False</td>\n",
       "      <td>False</td>\n",
       "    </tr>\n",
       "    <tr>\n",
       "      <th>101079</th>\n",
       "      <td>0.003305</td>\n",
       "      <td>0.005138</td>\n",
       "      <td>0.758301</td>\n",
       "      <td>0.424805</td>\n",
       "      <td>1.007812</td>\n",
       "      <td>0.183301</td>\n",
       "      <td>0.092468</td>\n",
       "      <td>0.410156</td>\n",
       "      <td>0.785645</td>\n",
       "      <td>0.059998</td>\n",
       "      <td>...</td>\n",
       "      <td>True</td>\n",
       "      <td>False</td>\n",
       "      <td>False</td>\n",
       "      <td>False</td>\n",
       "      <td>False</td>\n",
       "      <td>False</td>\n",
       "      <td>False</td>\n",
       "      <td>False</td>\n",
       "      <td>False</td>\n",
       "      <td>False</td>\n",
       "    </tr>\n",
       "    <tr>\n",
       "      <th>...</th>\n",
       "      <td>...</td>\n",
       "      <td>...</td>\n",
       "      <td>...</td>\n",
       "      <td>...</td>\n",
       "      <td>...</td>\n",
       "      <td>...</td>\n",
       "      <td>...</td>\n",
       "      <td>...</td>\n",
       "      <td>...</td>\n",
       "      <td>...</td>\n",
       "      <td>...</td>\n",
       "      <td>...</td>\n",
       "      <td>...</td>\n",
       "      <td>...</td>\n",
       "      <td>...</td>\n",
       "      <td>...</td>\n",
       "      <td>...</td>\n",
       "      <td>...</td>\n",
       "      <td>...</td>\n",
       "      <td>...</td>\n",
       "      <td>...</td>\n",
       "    </tr>\n",
       "    <tr>\n",
       "      <th>164679</th>\n",
       "      <td>0.001330</td>\n",
       "      <td>0.005997</td>\n",
       "      <td>0.324463</td>\n",
       "      <td>0.846680</td>\n",
       "      <td>1.004883</td>\n",
       "      <td>0.187393</td>\n",
       "      <td>0.078918</td>\n",
       "      <td>0.505371</td>\n",
       "      <td>0.879883</td>\n",
       "      <td>0.142822</td>\n",
       "      <td>...</td>\n",
       "      <td>True</td>\n",
       "      <td>False</td>\n",
       "      <td>False</td>\n",
       "      <td>False</td>\n",
       "      <td>False</td>\n",
       "      <td>False</td>\n",
       "      <td>False</td>\n",
       "      <td>False</td>\n",
       "      <td>False</td>\n",
       "      <td>False</td>\n",
       "    </tr>\n",
       "    <tr>\n",
       "      <th>411078</th>\n",
       "      <td>0.004597</td>\n",
       "      <td>0.007481</td>\n",
       "      <td>0.666992</td>\n",
       "      <td>0.557617</td>\n",
       "      <td>0.145508</td>\n",
       "      <td>0.171607</td>\n",
       "      <td>0.006599</td>\n",
       "      <td>0.439453</td>\n",
       "      <td>0.955566</td>\n",
       "      <td>0.138672</td>\n",
       "      <td>...</td>\n",
       "      <td>True</td>\n",
       "      <td>False</td>\n",
       "      <td>False</td>\n",
       "      <td>False</td>\n",
       "      <td>False</td>\n",
       "      <td>False</td>\n",
       "      <td>False</td>\n",
       "      <td>False</td>\n",
       "      <td>False</td>\n",
       "      <td>False</td>\n",
       "    </tr>\n",
       "    <tr>\n",
       "      <th>278203</th>\n",
       "      <td>0.005417</td>\n",
       "      <td>0.004021</td>\n",
       "      <td>0.603027</td>\n",
       "      <td>0.288330</td>\n",
       "      <td>0.691895</td>\n",
       "      <td>0.187242</td>\n",
       "      <td>0.000612</td>\n",
       "      <td>0.142212</td>\n",
       "      <td>0.830566</td>\n",
       "      <td>0.103577</td>\n",
       "      <td>...</td>\n",
       "      <td>True</td>\n",
       "      <td>False</td>\n",
       "      <td>False</td>\n",
       "      <td>False</td>\n",
       "      <td>False</td>\n",
       "      <td>False</td>\n",
       "      <td>False</td>\n",
       "      <td>False</td>\n",
       "      <td>False</td>\n",
       "      <td>False</td>\n",
       "    </tr>\n",
       "    <tr>\n",
       "      <th>16462</th>\n",
       "      <td>0.005165</td>\n",
       "      <td>0.000354</td>\n",
       "      <td>0.406982</td>\n",
       "      <td>0.282471</td>\n",
       "      <td>0.324463</td>\n",
       "      <td>0.195193</td>\n",
       "      <td>0.461914</td>\n",
       "      <td>0.143188</td>\n",
       "      <td>0.308594</td>\n",
       "      <td>0.156738</td>\n",
       "      <td>...</td>\n",
       "      <td>True</td>\n",
       "      <td>False</td>\n",
       "      <td>False</td>\n",
       "      <td>False</td>\n",
       "      <td>False</td>\n",
       "      <td>False</td>\n",
       "      <td>False</td>\n",
       "      <td>False</td>\n",
       "      <td>False</td>\n",
       "      <td>False</td>\n",
       "    </tr>\n",
       "    <tr>\n",
       "      <th>271188</th>\n",
       "      <td>0.007957</td>\n",
       "      <td>0.003727</td>\n",
       "      <td>0.001541</td>\n",
       "      <td>0.003885</td>\n",
       "      <td>0.589844</td>\n",
       "      <td>0.184806</td>\n",
       "      <td>0.006088</td>\n",
       "      <td>0.273438</td>\n",
       "      <td>0.659180</td>\n",
       "      <td>0.290085</td>\n",
       "      <td>...</td>\n",
       "      <td>True</td>\n",
       "      <td>False</td>\n",
       "      <td>False</td>\n",
       "      <td>False</td>\n",
       "      <td>False</td>\n",
       "      <td>False</td>\n",
       "      <td>False</td>\n",
       "      <td>False</td>\n",
       "      <td>False</td>\n",
       "      <td>False</td>\n",
       "    </tr>\n",
       "  </tbody>\n",
       "</table>\n",
       "<p>68837 rows × 394 columns</p>\n",
       "</div>"
      ],
      "text/plain": [
       "            B_37      S_24       S_4      S_14      B_25      D_38      B_30  \\\n",
       "352262  0.006382  0.005024  0.008347  0.003109  1.002930  0.183563  0.000047   \n",
       "81404   0.005367  0.007484  0.319336  0.285645  0.481201  0.183854  0.013557   \n",
       "355900  0.000736  0.003660  0.008263  0.002398  0.051575  0.189862  0.468506   \n",
       "64818   0.001374  0.008667  0.472656  0.000304  0.526367  0.205407  0.007141   \n",
       "101079  0.003305  0.005138  0.758301  0.424805  1.007812  0.183301  0.092468   \n",
       "...          ...       ...       ...       ...       ...       ...       ...   \n",
       "164679  0.001330  0.005997  0.324463  0.846680  1.004883  0.187393  0.078918   \n",
       "411078  0.004597  0.007481  0.666992  0.557617  0.145508  0.171607  0.006599   \n",
       "278203  0.005417  0.004021  0.603027  0.288330  0.691895  0.187242  0.000612   \n",
       "16462   0.005165  0.000354  0.406982  0.282471  0.324463  0.195193  0.461914   \n",
       "271188  0.007957  0.003727  0.001541  0.003885  0.589844  0.184806  0.006088   \n",
       "\n",
       "           D_138       P_2       S_7  ...  D_43_missing  D_4_missing  \\\n",
       "352262  0.470215  0.858398  0.287264  ...          True        False   \n",
       "81404   0.488037  0.765137  0.175659  ...          True        False   \n",
       "355900  0.272461  0.312988  0.616699  ...          True        False   \n",
       "64818   0.159180  0.562500  0.138916  ...          True        False   \n",
       "101079  0.410156  0.785645  0.059998  ...          True        False   \n",
       "...          ...       ...       ...  ...           ...          ...   \n",
       "164679  0.505371  0.879883  0.142822  ...          True        False   \n",
       "411078  0.439453  0.955566  0.138672  ...          True        False   \n",
       "278203  0.142212  0.830566  0.103577  ...          True        False   \n",
       "16462   0.143188  0.308594  0.156738  ...          True        False   \n",
       "271188  0.273438  0.659180  0.290085  ...          True        False   \n",
       "\n",
       "        D_85_missing  D_78_missing  D_42_missing  D_52_missing  D_29_missing  \\\n",
       "352262         False         False         False         False         False   \n",
       "81404          False         False         False         False         False   \n",
       "355900         False         False         False         False         False   \n",
       "64818          False         False         False         False         False   \n",
       "101079         False         False         False         False         False   \n",
       "...              ...           ...           ...           ...           ...   \n",
       "164679         False         False         False         False         False   \n",
       "411078         False         False         False         False         False   \n",
       "278203         False         False         False         False         False   \n",
       "16462          False         False         False         False         False   \n",
       "271188         False         False         False         False         False   \n",
       "\n",
       "        R_1_missing  R_28_missing  S_5_missing  \n",
       "352262        False         False        False  \n",
       "81404         False         False        False  \n",
       "355900        False         False        False  \n",
       "64818         False         False        False  \n",
       "101079        False         False        False  \n",
       "...             ...           ...          ...  \n",
       "164679        False         False        False  \n",
       "411078        False         False        False  \n",
       "278203        False         False        False  \n",
       "16462         False         False        False  \n",
       "271188        False         False        False  \n",
       "\n",
       "[68837 rows x 394 columns]"
      ]
     },
     "execution_count": 14,
     "metadata": {},
     "output_type": "execute_result"
    }
   ],
   "source": [
    "x_val"
   ]
  },
  {
   "cell_type": "code",
   "execution_count": 4,
   "id": "9a5af518",
   "metadata": {},
   "outputs": [],
   "source": [
    "bestParams = {'activation': 'logistic', 'alpha': 0.00033817727171933074, 'hidden_layer_sizes': (57, 38)}  "
   ]
  },
  {
   "cell_type": "code",
   "execution_count": 7,
   "id": "2e835275",
   "metadata": {},
   "outputs": [],
   "source": [
    "model = MLPClassifier(random_state=59,\n",
    "                     verbose=True,\n",
    "                      max_iter=100,\n",
    "                      learning_rate_init=0.001,\n",
    "                      learning_rate='adaptive',\n",
    "                      **bestParams,\n",
    "                      early_stopping=True,\n",
    "                 )"
   ]
  },
  {
   "cell_type": "code",
   "execution_count": 8,
   "id": "77f16e34",
   "metadata": {},
   "outputs": [],
   "source": [
    "scl = StandardScaler()\n",
    "pca = PCA(n_components=100)\n",
    "\n",
    "pipe = pipeline.Pipeline(steps=[ ('model', model)], verbose=True)"
   ]
  },
  {
   "cell_type": "code",
   "execution_count": 9,
   "id": "0ed95bd2",
   "metadata": {},
   "outputs": [
    {
     "name": "stdout",
     "output_type": "stream",
     "text": [
      "Iteration 1, loss = 0.51826733\n",
      "Validation score: 0.808442\n"
     ]
    },
    {
     "name": "stderr",
     "output_type": "stream",
     "text": [
      "/home/jindalmadhur26/anaconda3/lib/python3.9/site-packages/sklearn/base.py:445: UserWarning: X does not have valid feature names, but MLPClassifier was fitted with feature names\n",
      "  warnings.warn(\n"
     ]
    },
    {
     "name": "stdout",
     "output_type": "stream",
     "text": [
      "Iteration 2, loss = 0.46624968\n",
      "Validation score: 0.812865\n"
     ]
    },
    {
     "name": "stderr",
     "output_type": "stream",
     "text": [
      "/home/jindalmadhur26/anaconda3/lib/python3.9/site-packages/sklearn/base.py:445: UserWarning: X does not have valid feature names, but MLPClassifier was fitted with feature names\n",
      "  warnings.warn(\n"
     ]
    },
    {
     "name": "stdout",
     "output_type": "stream",
     "text": [
      "Iteration 3, loss = 0.46275769\n",
      "Validation score: 0.813148\n"
     ]
    },
    {
     "name": "stderr",
     "output_type": "stream",
     "text": [
      "/home/jindalmadhur26/anaconda3/lib/python3.9/site-packages/sklearn/base.py:445: UserWarning: X does not have valid feature names, but MLPClassifier was fitted with feature names\n",
      "  warnings.warn(\n"
     ]
    },
    {
     "name": "stdout",
     "output_type": "stream",
     "text": [
      "Iteration 4, loss = 0.46062258\n",
      "Validation score: 0.813889\n"
     ]
    },
    {
     "name": "stderr",
     "output_type": "stream",
     "text": [
      "/home/jindalmadhur26/anaconda3/lib/python3.9/site-packages/sklearn/base.py:445: UserWarning: X does not have valid feature names, but MLPClassifier was fitted with feature names\n",
      "  warnings.warn(\n"
     ]
    },
    {
     "name": "stdout",
     "output_type": "stream",
     "text": [
      "Iteration 5, loss = 0.45889726\n",
      "Validation score: 0.813889\n"
     ]
    },
    {
     "name": "stderr",
     "output_type": "stream",
     "text": [
      "/home/jindalmadhur26/anaconda3/lib/python3.9/site-packages/sklearn/base.py:445: UserWarning: X does not have valid feature names, but MLPClassifier was fitted with feature names\n",
      "  warnings.warn(\n"
     ]
    },
    {
     "name": "stdout",
     "output_type": "stream",
     "text": [
      "Iteration 6, loss = 0.45780641\n",
      "Validation score: 0.812821\n"
     ]
    },
    {
     "name": "stderr",
     "output_type": "stream",
     "text": [
      "/home/jindalmadhur26/anaconda3/lib/python3.9/site-packages/sklearn/base.py:445: UserWarning: X does not have valid feature names, but MLPClassifier was fitted with feature names\n",
      "  warnings.warn(\n"
     ]
    },
    {
     "name": "stdout",
     "output_type": "stream",
     "text": [
      "Iteration 7, loss = 0.45688926\n",
      "Validation score: 0.813497\n"
     ]
    },
    {
     "name": "stderr",
     "output_type": "stream",
     "text": [
      "/home/jindalmadhur26/anaconda3/lib/python3.9/site-packages/sklearn/base.py:445: UserWarning: X does not have valid feature names, but MLPClassifier was fitted with feature names\n",
      "  warnings.warn(\n"
     ]
    },
    {
     "name": "stdout",
     "output_type": "stream",
     "text": [
      "Iteration 8, loss = 0.45621922\n",
      "Validation score: 0.813824\n"
     ]
    },
    {
     "name": "stderr",
     "output_type": "stream",
     "text": [
      "/home/jindalmadhur26/anaconda3/lib/python3.9/site-packages/sklearn/base.py:445: UserWarning: X does not have valid feature names, but MLPClassifier was fitted with feature names\n",
      "  warnings.warn(\n"
     ]
    },
    {
     "name": "stdout",
     "output_type": "stream",
     "text": [
      "Iteration 9, loss = 0.45532435\n",
      "Validation score: 0.814695\n"
     ]
    },
    {
     "name": "stderr",
     "output_type": "stream",
     "text": [
      "/home/jindalmadhur26/anaconda3/lib/python3.9/site-packages/sklearn/base.py:445: UserWarning: X does not have valid feature names, but MLPClassifier was fitted with feature names\n",
      "  warnings.warn(\n"
     ]
    },
    {
     "name": "stdout",
     "output_type": "stream",
     "text": [
      "Iteration 10, loss = 0.45463002\n",
      "Validation score: 0.814325\n"
     ]
    },
    {
     "name": "stderr",
     "output_type": "stream",
     "text": [
      "/home/jindalmadhur26/anaconda3/lib/python3.9/site-packages/sklearn/base.py:445: UserWarning: X does not have valid feature names, but MLPClassifier was fitted with feature names\n",
      "  warnings.warn(\n"
     ]
    },
    {
     "name": "stdout",
     "output_type": "stream",
     "text": [
      "Iteration 11, loss = 0.45432658\n",
      "Validation score: 0.814913\n"
     ]
    },
    {
     "name": "stderr",
     "output_type": "stream",
     "text": [
      "/home/jindalmadhur26/anaconda3/lib/python3.9/site-packages/sklearn/base.py:445: UserWarning: X does not have valid feature names, but MLPClassifier was fitted with feature names\n",
      "  warnings.warn(\n"
     ]
    },
    {
     "name": "stdout",
     "output_type": "stream",
     "text": [
      "Iteration 12, loss = 0.45377520\n",
      "Validation score: 0.814325\n"
     ]
    },
    {
     "name": "stderr",
     "output_type": "stream",
     "text": [
      "/home/jindalmadhur26/anaconda3/lib/python3.9/site-packages/sklearn/base.py:445: UserWarning: X does not have valid feature names, but MLPClassifier was fitted with feature names\n",
      "  warnings.warn(\n"
     ]
    },
    {
     "name": "stdout",
     "output_type": "stream",
     "text": [
      "Iteration 13, loss = 0.45315326\n",
      "Validation score: 0.814129\n"
     ]
    },
    {
     "name": "stderr",
     "output_type": "stream",
     "text": [
      "/home/jindalmadhur26/anaconda3/lib/python3.9/site-packages/sklearn/base.py:445: UserWarning: X does not have valid feature names, but MLPClassifier was fitted with feature names\n",
      "  warnings.warn(\n"
     ]
    },
    {
     "name": "stdout",
     "output_type": "stream",
     "text": [
      "Iteration 14, loss = 0.45257346\n",
      "Validation score: 0.814456\n"
     ]
    },
    {
     "name": "stderr",
     "output_type": "stream",
     "text": [
      "/home/jindalmadhur26/anaconda3/lib/python3.9/site-packages/sklearn/base.py:445: UserWarning: X does not have valid feature names, but MLPClassifier was fitted with feature names\n",
      "  warnings.warn(\n"
     ]
    },
    {
     "name": "stdout",
     "output_type": "stream",
     "text": [
      "Iteration 15, loss = 0.45226188\n"
     ]
    },
    {
     "name": "stderr",
     "output_type": "stream",
     "text": [
      "/home/jindalmadhur26/anaconda3/lib/python3.9/site-packages/sklearn/base.py:445: UserWarning: X does not have valid feature names, but MLPClassifier was fitted with feature names\n",
      "  warnings.warn(\n"
     ]
    },
    {
     "name": "stdout",
     "output_type": "stream",
     "text": [
      "Validation score: 0.815262\n",
      "Iteration 16, loss = 0.45197953\n"
     ]
    },
    {
     "name": "stderr",
     "output_type": "stream",
     "text": [
      "/home/jindalmadhur26/anaconda3/lib/python3.9/site-packages/sklearn/base.py:445: UserWarning: X does not have valid feature names, but MLPClassifier was fitted with feature names\n",
      "  warnings.warn(\n"
     ]
    },
    {
     "name": "stdout",
     "output_type": "stream",
     "text": [
      "Validation score: 0.814434\n",
      "Iteration 17, loss = 0.45167668\n",
      "Validation score: 0.814172\n"
     ]
    },
    {
     "name": "stderr",
     "output_type": "stream",
     "text": [
      "/home/jindalmadhur26/anaconda3/lib/python3.9/site-packages/sklearn/base.py:445: UserWarning: X does not have valid feature names, but MLPClassifier was fitted with feature names\n",
      "  warnings.warn(\n"
     ]
    },
    {
     "name": "stdout",
     "output_type": "stream",
     "text": [
      "Iteration 18, loss = 0.45122946\n"
     ]
    },
    {
     "name": "stderr",
     "output_type": "stream",
     "text": [
      "/home/jindalmadhur26/anaconda3/lib/python3.9/site-packages/sklearn/base.py:445: UserWarning: X does not have valid feature names, but MLPClassifier was fitted with feature names\n",
      "  warnings.warn(\n"
     ]
    },
    {
     "name": "stdout",
     "output_type": "stream",
     "text": [
      "Validation score: 0.815044\n",
      "Iteration 19, loss = 0.45091411\n"
     ]
    },
    {
     "name": "stderr",
     "output_type": "stream",
     "text": [
      "/home/jindalmadhur26/anaconda3/lib/python3.9/site-packages/sklearn/base.py:445: UserWarning: X does not have valid feature names, but MLPClassifier was fitted with feature names\n",
      "  warnings.warn(\n"
     ]
    },
    {
     "name": "stdout",
     "output_type": "stream",
     "text": [
      "Validation score: 0.815066\n",
      "Iteration 20, loss = 0.45054878\n"
     ]
    },
    {
     "name": "stderr",
     "output_type": "stream",
     "text": [
      "/home/jindalmadhur26/anaconda3/lib/python3.9/site-packages/sklearn/base.py:445: UserWarning: X does not have valid feature names, but MLPClassifier was fitted with feature names\n",
      "  warnings.warn(\n"
     ]
    },
    {
     "name": "stdout",
     "output_type": "stream",
     "text": [
      "Validation score: 0.815349\n",
      "Iteration 21, loss = 0.45038692\n"
     ]
    },
    {
     "name": "stderr",
     "output_type": "stream",
     "text": [
      "/home/jindalmadhur26/anaconda3/lib/python3.9/site-packages/sklearn/base.py:445: UserWarning: X does not have valid feature names, but MLPClassifier was fitted with feature names\n",
      "  warnings.warn(\n"
     ]
    },
    {
     "name": "stdout",
     "output_type": "stream",
     "text": [
      "Validation score: 0.815654\n",
      "Iteration 22, loss = 0.45006630\n"
     ]
    },
    {
     "name": "stderr",
     "output_type": "stream",
     "text": [
      "/home/jindalmadhur26/anaconda3/lib/python3.9/site-packages/sklearn/base.py:445: UserWarning: X does not have valid feature names, but MLPClassifier was fitted with feature names\n",
      "  warnings.warn(\n"
     ]
    },
    {
     "name": "stdout",
     "output_type": "stream",
     "text": [
      "Validation score: 0.815044\n",
      "Iteration 23, loss = 0.44965859\n"
     ]
    },
    {
     "name": "stderr",
     "output_type": "stream",
     "text": [
      "/home/jindalmadhur26/anaconda3/lib/python3.9/site-packages/sklearn/base.py:445: UserWarning: X does not have valid feature names, but MLPClassifier was fitted with feature names\n",
      "  warnings.warn(\n"
     ]
    },
    {
     "name": "stdout",
     "output_type": "stream",
     "text": [
      "Validation score: 0.815393\n",
      "Iteration 24, loss = 0.44951674\n"
     ]
    },
    {
     "name": "stderr",
     "output_type": "stream",
     "text": [
      "/home/jindalmadhur26/anaconda3/lib/python3.9/site-packages/sklearn/base.py:445: UserWarning: X does not have valid feature names, but MLPClassifier was fitted with feature names\n",
      "  warnings.warn(\n"
     ]
    },
    {
     "name": "stdout",
     "output_type": "stream",
     "text": [
      "Validation score: 0.813410\n",
      "Iteration 25, loss = 0.44933209\n"
     ]
    },
    {
     "name": "stderr",
     "output_type": "stream",
     "text": [
      "/home/jindalmadhur26/anaconda3/lib/python3.9/site-packages/sklearn/base.py:445: UserWarning: X does not have valid feature names, but MLPClassifier was fitted with feature names\n",
      "  warnings.warn(\n"
     ]
    },
    {
     "name": "stdout",
     "output_type": "stream",
     "text": [
      "Validation score: 0.815197\n",
      "Iteration 26, loss = 0.44929423\n"
     ]
    },
    {
     "name": "stderr",
     "output_type": "stream",
     "text": [
      "/home/jindalmadhur26/anaconda3/lib/python3.9/site-packages/sklearn/base.py:445: UserWarning: X does not have valid feature names, but MLPClassifier was fitted with feature names\n",
      "  warnings.warn(\n"
     ]
    },
    {
     "name": "stdout",
     "output_type": "stream",
     "text": [
      "Validation score: 0.815131\n",
      "Iteration 27, loss = 0.44874797\n"
     ]
    },
    {
     "name": "stderr",
     "output_type": "stream",
     "text": [
      "/home/jindalmadhur26/anaconda3/lib/python3.9/site-packages/sklearn/base.py:445: UserWarning: X does not have valid feature names, but MLPClassifier was fitted with feature names\n",
      "  warnings.warn(\n"
     ]
    },
    {
     "name": "stdout",
     "output_type": "stream",
     "text": [
      "Validation score: 0.814783\n",
      "Iteration 28, loss = 0.44866242\n"
     ]
    },
    {
     "name": "stderr",
     "output_type": "stream",
     "text": [
      "/home/jindalmadhur26/anaconda3/lib/python3.9/site-packages/sklearn/base.py:445: UserWarning: X does not have valid feature names, but MLPClassifier was fitted with feature names\n",
      "  warnings.warn(\n"
     ]
    },
    {
     "name": "stdout",
     "output_type": "stream",
     "text": [
      "Validation score: 0.815371\n",
      "Iteration 29, loss = 0.44841904\n"
     ]
    },
    {
     "name": "stderr",
     "output_type": "stream",
     "text": [
      "/home/jindalmadhur26/anaconda3/lib/python3.9/site-packages/sklearn/base.py:445: UserWarning: X does not have valid feature names, but MLPClassifier was fitted with feature names\n",
      "  warnings.warn(\n"
     ]
    },
    {
     "name": "stdout",
     "output_type": "stream",
     "text": [
      "Validation score: 0.815611\n",
      "Iteration 30, loss = 0.44824602\n"
     ]
    },
    {
     "name": "stderr",
     "output_type": "stream",
     "text": [
      "/home/jindalmadhur26/anaconda3/lib/python3.9/site-packages/sklearn/base.py:445: UserWarning: X does not have valid feature names, but MLPClassifier was fitted with feature names\n",
      "  warnings.warn(\n"
     ]
    },
    {
     "name": "stdout",
     "output_type": "stream",
     "text": [
      "Validation score: 0.815349\n",
      "Iteration 31, loss = 0.44815841\n"
     ]
    },
    {
     "name": "stderr",
     "output_type": "stream",
     "text": [
      "/home/jindalmadhur26/anaconda3/lib/python3.9/site-packages/sklearn/base.py:445: UserWarning: X does not have valid feature names, but MLPClassifier was fitted with feature names\n",
      "  warnings.warn(\n"
     ]
    },
    {
     "name": "stdout",
     "output_type": "stream",
     "text": [
      "Validation score: 0.815371\n",
      "Iteration 32, loss = 0.44783116\n"
     ]
    },
    {
     "name": "stderr",
     "output_type": "stream",
     "text": [
      "/home/jindalmadhur26/anaconda3/lib/python3.9/site-packages/sklearn/base.py:445: UserWarning: X does not have valid feature names, but MLPClassifier was fitted with feature names\n",
      "  warnings.warn(\n"
     ]
    },
    {
     "name": "stdout",
     "output_type": "stream",
     "text": [
      "Validation score: 0.813758\n",
      "Validation score did not improve more than tol=0.000100 for 10 consecutive epochs. Stopping.\n",
      "[Pipeline] ............. (step 1 of 1) Processing model, total=10.4min\n",
      "CPU times: user 18min 34s, sys: 1min 34s, total: 20min 8s\n",
      "Wall time: 10min 23s\n"
     ]
    },
    {
     "data": {
      "text/plain": [
       "Pipeline(steps=[('model',\n",
       "                 MLPClassifier(activation='logistic',\n",
       "                               alpha=0.00033817727171933074,\n",
       "                               early_stopping=True, hidden_layer_sizes=(57, 38),\n",
       "                               learning_rate='adaptive', max_iter=100,\n",
       "                               random_state=59, verbose=True))],\n",
       "         verbose=True)"
      ]
     },
     "execution_count": 9,
     "metadata": {},
     "output_type": "execute_result"
    }
   ],
   "source": [
    "%%time\n",
    "\n",
    "pipe.fit(x_train, y_train.values.reshape(-1))"
   ]
  },
  {
   "cell_type": "markdown",
   "id": "0ab99e81",
   "metadata": {},
   "source": [
    "Best: 0.4513, (60, 40)"
   ]
  },
  {
   "cell_type": "code",
   "execution_count": 15,
   "id": "839f8e9e",
   "metadata": {},
   "outputs": [],
   "source": [
    "preds_tr = pipe.predict(x_train_1,)\n",
    "preds_val = pipe.predict(x_val)"
   ]
  },
  {
   "cell_type": "code",
   "execution_count": 16,
   "id": "4b82c0d2",
   "metadata": {},
   "outputs": [
    {
     "data": {
      "text/plain": [
       "0.8177252637947476"
      ]
     },
     "execution_count": 16,
     "metadata": {},
     "output_type": "execute_result"
    }
   ],
   "source": [
    "accuracy_score(y_train_1, preds_tr)"
   ]
  },
  {
   "cell_type": "code",
   "execution_count": 17,
   "id": "e1c1b777",
   "metadata": {
    "scrolled": true
   },
   "outputs": [
    {
     "data": {
      "text/plain": [
       "0.8188910033848076"
      ]
     },
     "execution_count": 17,
     "metadata": {},
     "output_type": "execute_result"
    }
   ],
   "source": [
    "accuracy_score(y_val, preds_val)"
   ]
  },
  {
   "cell_type": "code",
   "execution_count": 31,
   "id": "b7ae3231",
   "metadata": {},
   "outputs": [],
   "source": [
    "probs_tr = pipe.predict_proba(x_train_1)\n",
    "probs_val = pipe.predict_proba(x_val)"
   ]
  },
  {
   "cell_type": "code",
   "execution_count": 18,
   "id": "9ae5d6b5",
   "metadata": {},
   "outputs": [],
   "source": [
    "# np.save(\"Preds/NN_val\", probs_val)\n",
    "# np.save(\"Preds/NN_tr\", probs_tr)\n",
    "\n",
    "probs_test = pipe.predict_proba(x_test)\n",
    "np.save(\"Preds/NN_test\", probs_test)"
   ]
  },
  {
   "cell_type": "code",
   "execution_count": null,
   "id": "7732eff7",
   "metadata": {},
   "outputs": [
    {
     "name": "stdout",
     "output_type": "stream",
     "text": [
      "Iteration 1, loss = 0.49508657                                                                                 \n",
      "  0%|                                                                  | 0/100 [02:10<?, ?trial/s, best loss=?]"
     ]
    },
    {
     "name": "stderr",
     "output_type": "stream",
     "text": [
      "/home/jindalmadhur26/anaconda3/lib/python3.9/site-packages/sklearn/base.py:445: UserWarning: X does not have valid feature names, but MLPClassifier was fitted with feature names\n",
      "  warnings.warn(\n",
      "\n"
     ]
    },
    {
     "name": "stdout",
     "output_type": "stream",
     "text": [
      "Validation score: 0.805937                                                                                     \n",
      "Iteration 2, loss = 0.47053183                                                                                 \n",
      "  0%|                                                                  | 0/100 [02:54<?, ?trial/s, best loss=?]"
     ]
    },
    {
     "name": "stderr",
     "output_type": "stream",
     "text": [
      "/home/jindalmadhur26/anaconda3/lib/python3.9/site-packages/sklearn/base.py:445: UserWarning: X does not have valid feature names, but MLPClassifier was fitted with feature names\n",
      "  warnings.warn(\n",
      "\n"
     ]
    },
    {
     "name": "stdout",
     "output_type": "stream",
     "text": [
      "Validation score: 0.811885                                                                                     \n",
      "Iteration 3, loss = 0.46645239                                                                                 \n",
      "  0%|                                                                  | 0/100 [03:39<?, ?trial/s, best loss=?]"
     ]
    },
    {
     "name": "stderr",
     "output_type": "stream",
     "text": [
      "/home/jindalmadhur26/anaconda3/lib/python3.9/site-packages/sklearn/base.py:445: UserWarning: X does not have valid feature names, but MLPClassifier was fitted with feature names\n",
      "  warnings.warn(\n",
      "\n"
     ]
    },
    {
     "name": "stdout",
     "output_type": "stream",
     "text": [
      "Validation score: 0.811885                                                                                     \n",
      "Iteration 4, loss = 0.46429649                                                                                 \n",
      "  0%|                                                                  | 0/100 [04:25<?, ?trial/s, best loss=?]"
     ]
    },
    {
     "name": "stderr",
     "output_type": "stream",
     "text": [
      "/home/jindalmadhur26/anaconda3/lib/python3.9/site-packages/sklearn/base.py:445: UserWarning: X does not have valid feature names, but MLPClassifier was fitted with feature names\n",
      "  warnings.warn(\n",
      "\n"
     ]
    },
    {
     "name": "stdout",
     "output_type": "stream",
     "text": [
      "Validation score: 0.811782                                                                                     \n",
      "Iteration 5, loss = 0.46164311                                                                                 \n",
      "  0%|                                                                  | 0/100 [05:06<?, ?trial/s, best loss=?]"
     ]
    },
    {
     "name": "stderr",
     "output_type": "stream",
     "text": [
      "/home/jindalmadhur26/anaconda3/lib/python3.9/site-packages/sklearn/base.py:445: UserWarning: X does not have valid feature names, but MLPClassifier was fitted with feature names\n",
      "  warnings.warn(\n",
      "\n"
     ]
    },
    {
     "name": "stdout",
     "output_type": "stream",
     "text": [
      "Validation score: 0.811731                                                                                     \n",
      "Iteration 6, loss = 0.46073561                                                                                 \n",
      "  0%|                                                                  | 0/100 [05:49<?, ?trial/s, best loss=?]"
     ]
    },
    {
     "name": "stderr",
     "output_type": "stream",
     "text": [
      "/home/jindalmadhur26/anaconda3/lib/python3.9/site-packages/sklearn/base.py:445: UserWarning: X does not have valid feature names, but MLPClassifier was fitted with feature names\n",
      "  warnings.warn(\n",
      "\n"
     ]
    },
    {
     "name": "stdout",
     "output_type": "stream",
     "text": [
      "Validation score: 0.812141                                                                                     \n",
      "Iteration 7, loss = 0.45893536                                                                                 \n",
      "  0%|                                                                  | 0/100 [06:31<?, ?trial/s, best loss=?]"
     ]
    },
    {
     "name": "stderr",
     "output_type": "stream",
     "text": [
      "/home/jindalmadhur26/anaconda3/lib/python3.9/site-packages/sklearn/base.py:445: UserWarning: X does not have valid feature names, but MLPClassifier was fitted with feature names\n",
      "  warnings.warn(\n",
      "\n"
     ]
    },
    {
     "name": "stdout",
     "output_type": "stream",
     "text": [
      "Validation score: 0.813423                                                                                     \n",
      "Iteration 8, loss = 0.45831049                                                                                 \n",
      "  0%|                                                                  | 0/100 [07:10<?, ?trial/s, best loss=?]"
     ]
    },
    {
     "name": "stderr",
     "output_type": "stream",
     "text": [
      "/home/jindalmadhur26/anaconda3/lib/python3.9/site-packages/sklearn/base.py:445: UserWarning: X does not have valid feature names, but MLPClassifier was fitted with feature names\n",
      "  warnings.warn(\n",
      "\n"
     ]
    },
    {
     "name": "stdout",
     "output_type": "stream",
     "text": [
      "Validation score: 0.812500                                                                                     \n",
      "Iteration 9, loss = 0.45749439                                                                                 \n",
      "  0%|                                                                  | 0/100 [08:06<?, ?trial/s, best loss=?]"
     ]
    },
    {
     "name": "stderr",
     "output_type": "stream",
     "text": [
      "/home/jindalmadhur26/anaconda3/lib/python3.9/site-packages/sklearn/base.py:445: UserWarning: X does not have valid feature names, but MLPClassifier was fitted with feature names\n",
      "  warnings.warn(\n",
      "\n"
     ]
    },
    {
     "name": "stdout",
     "output_type": "stream",
     "text": [
      "Validation score: 0.811423                                                                                     \n",
      "Iteration 10, loss = 0.45630582                                                                                \n",
      "  0%|                                                                  | 0/100 [08:43<?, ?trial/s, best loss=?]"
     ]
    },
    {
     "name": "stderr",
     "output_type": "stream",
     "text": [
      "/home/jindalmadhur26/anaconda3/lib/python3.9/site-packages/sklearn/base.py:445: UserWarning: X does not have valid feature names, but MLPClassifier was fitted with feature names\n",
      "  warnings.warn(\n",
      "\n"
     ]
    },
    {
     "name": "stdout",
     "output_type": "stream",
     "text": [
      "Validation score: 0.812885                                                                                     \n",
      "Iteration 11, loss = 0.45573988                                                                                \n",
      "  0%|                                                                  | 0/100 [09:14<?, ?trial/s, best loss=?]"
     ]
    },
    {
     "name": "stderr",
     "output_type": "stream",
     "text": [
      "/home/jindalmadhur26/anaconda3/lib/python3.9/site-packages/sklearn/base.py:445: UserWarning: X does not have valid feature names, but MLPClassifier was fitted with feature names\n",
      "  warnings.warn(\n",
      "\n"
     ]
    },
    {
     "name": "stdout",
     "output_type": "stream",
     "text": [
      "Validation score: 0.813141                                                                                     \n",
      "Iteration 12, loss = 0.45480479                                                                                \n",
      "  0%|                                                                  | 0/100 [09:40<?, ?trial/s, best loss=?]"
     ]
    },
    {
     "name": "stderr",
     "output_type": "stream",
     "text": [
      "/home/jindalmadhur26/anaconda3/lib/python3.9/site-packages/sklearn/base.py:445: UserWarning: X does not have valid feature names, but MLPClassifier was fitted with feature names\n",
      "  warnings.warn(\n",
      "\n"
     ]
    },
    {
     "name": "stdout",
     "output_type": "stream",
     "text": [
      "Validation score: 0.812756                                                                                     \n",
      "Iteration 13, loss = 0.45411580                                                                                \n",
      "  0%|                                                                  | 0/100 [10:09<?, ?trial/s, best loss=?]"
     ]
    },
    {
     "name": "stderr",
     "output_type": "stream",
     "text": [
      "/home/jindalmadhur26/anaconda3/lib/python3.9/site-packages/sklearn/base.py:445: UserWarning: X does not have valid feature names, but MLPClassifier was fitted with feature names\n",
      "  warnings.warn(\n",
      "\n"
     ]
    },
    {
     "name": "stdout",
     "output_type": "stream",
     "text": [
      "Validation score: 0.811987                                                                                     \n",
      "Iteration 14, loss = 0.45358964                                                                                \n",
      "  0%|                                                                  | 0/100 [10:52<?, ?trial/s, best loss=?]"
     ]
    },
    {
     "name": "stderr",
     "output_type": "stream",
     "text": [
      "/home/jindalmadhur26/anaconda3/lib/python3.9/site-packages/sklearn/base.py:445: UserWarning: X does not have valid feature names, but MLPClassifier was fitted with feature names\n",
      "  warnings.warn(\n",
      "\n"
     ]
    },
    {
     "name": "stdout",
     "output_type": "stream",
     "text": [
      "Validation score: 0.812859                                                                                     \n",
      "Iteration 15, loss = 0.45319023                                                                                \n",
      "  0%|                                                                  | 0/100 [11:19<?, ?trial/s, best loss=?]"
     ]
    },
    {
     "name": "stderr",
     "output_type": "stream",
     "text": [
      "/home/jindalmadhur26/anaconda3/lib/python3.9/site-packages/sklearn/base.py:445: UserWarning: X does not have valid feature names, but MLPClassifier was fitted with feature names\n",
      "  warnings.warn(\n",
      "\n"
     ]
    },
    {
     "name": "stdout",
     "output_type": "stream",
     "text": [
      "Validation score: 0.813756                                                                                     \n",
      "Iteration 16, loss = 0.45296387                                                                                \n",
      "  0%|                                                                  | 0/100 [11:48<?, ?trial/s, best loss=?]"
     ]
    },
    {
     "name": "stderr",
     "output_type": "stream",
     "text": [
      "/home/jindalmadhur26/anaconda3/lib/python3.9/site-packages/sklearn/base.py:445: UserWarning: X does not have valid feature names, but MLPClassifier was fitted with feature names\n",
      "  warnings.warn(\n",
      "\n"
     ]
    },
    {
     "name": "stdout",
     "output_type": "stream",
     "text": [
      "Validation score: 0.812013                                                                                     \n",
      "Iteration 17, loss = 0.45246807                                                                                \n",
      "  0%|                                                                  | 0/100 [12:33<?, ?trial/s, best loss=?]"
     ]
    },
    {
     "name": "stderr",
     "output_type": "stream",
     "text": [
      "/home/jindalmadhur26/anaconda3/lib/python3.9/site-packages/sklearn/base.py:445: UserWarning: X does not have valid feature names, but MLPClassifier was fitted with feature names\n",
      "  warnings.warn(\n",
      "\n"
     ]
    },
    {
     "name": "stdout",
     "output_type": "stream",
     "text": [
      "Validation score: 0.811577                                                                                     \n",
      "Iteration 18, loss = 0.45182926                                                                                \n",
      "  0%|                                                                  | 0/100 [13:39<?, ?trial/s, best loss=?]"
     ]
    },
    {
     "name": "stderr",
     "output_type": "stream",
     "text": [
      "/home/jindalmadhur26/anaconda3/lib/python3.9/site-packages/sklearn/base.py:445: UserWarning: X does not have valid feature names, but MLPClassifier was fitted with feature names\n",
      "  warnings.warn(\n",
      "\n"
     ]
    },
    {
     "name": "stdout",
     "output_type": "stream",
     "text": [
      "Validation score: 0.810757                                                                                     \n",
      "Iteration 19, loss = 0.45166881                                                                                \n",
      "  0%|                                                                  | 0/100 [14:38<?, ?trial/s, best loss=?]"
     ]
    },
    {
     "name": "stderr",
     "output_type": "stream",
     "text": [
      "/home/jindalmadhur26/anaconda3/lib/python3.9/site-packages/sklearn/base.py:445: UserWarning: X does not have valid feature names, but MLPClassifier was fitted with feature names\n",
      "  warnings.warn(\n",
      "\n"
     ]
    },
    {
     "name": "stdout",
     "output_type": "stream",
     "text": [
      "Validation score: 0.812474                                                                                     \n",
      "Iteration 20, loss = 0.45085264                                                                                \n",
      "  0%|                                                                  | 0/100 [15:31<?, ?trial/s, best loss=?]"
     ]
    },
    {
     "name": "stderr",
     "output_type": "stream",
     "text": [
      "/home/jindalmadhur26/anaconda3/lib/python3.9/site-packages/sklearn/base.py:445: UserWarning: X does not have valid feature names, but MLPClassifier was fitted with feature names\n",
      "  warnings.warn(\n",
      "\n"
     ]
    },
    {
     "name": "stdout",
     "output_type": "stream",
     "text": [
      "Validation score: 0.812577                                                                                     \n",
      "Iteration 21, loss = 0.45042147                                                                                \n",
      "  0%|                                                                  | 0/100 [16:17<?, ?trial/s, best loss=?]"
     ]
    },
    {
     "name": "stderr",
     "output_type": "stream",
     "text": [
      "/home/jindalmadhur26/anaconda3/lib/python3.9/site-packages/sklearn/base.py:445: UserWarning: X does not have valid feature names, but MLPClassifier was fitted with feature names\n",
      "  warnings.warn(\n",
      "\n"
     ]
    },
    {
     "name": "stdout",
     "output_type": "stream",
     "text": [
      "Validation score: 0.811475                                                                                     \n",
      "Iteration 22, loss = 0.45029752                                                                                \n",
      "  0%|                                                                  | 0/100 [17:09<?, ?trial/s, best loss=?]"
     ]
    },
    {
     "name": "stderr",
     "output_type": "stream",
     "text": [
      "/home/jindalmadhur26/anaconda3/lib/python3.9/site-packages/sklearn/base.py:445: UserWarning: X does not have valid feature names, but MLPClassifier was fitted with feature names\n",
      "  warnings.warn(\n",
      "\n"
     ]
    },
    {
     "name": "stdout",
     "output_type": "stream",
     "text": [
      "Validation score: 0.811551                                                                                     \n",
      "Iteration 23, loss = 0.44990403                                                                                \n",
      "  0%|                                                                  | 0/100 [17:50<?, ?trial/s, best loss=?]"
     ]
    },
    {
     "name": "stderr",
     "output_type": "stream",
     "text": [
      "/home/jindalmadhur26/anaconda3/lib/python3.9/site-packages/sklearn/base.py:445: UserWarning: X does not have valid feature names, but MLPClassifier was fitted with feature names\n",
      "  warnings.warn(\n",
      "\n"
     ]
    },
    {
     "name": "stdout",
     "output_type": "stream",
     "text": [
      "Validation score: 0.812500                                                                                     \n",
      "Iteration 24, loss = 0.44927430                                                                                \n",
      "  0%|                                                                  | 0/100 [18:32<?, ?trial/s, best loss=?]"
     ]
    },
    {
     "name": "stderr",
     "output_type": "stream",
     "text": [
      "/home/jindalmadhur26/anaconda3/lib/python3.9/site-packages/sklearn/base.py:445: UserWarning: X does not have valid feature names, but MLPClassifier was fitted with feature names\n",
      "  warnings.warn(\n",
      "\n"
     ]
    },
    {
     "name": "stdout",
     "output_type": "stream",
     "text": [
      "Validation score: 0.812474                                                                                     \n",
      "Iteration 25, loss = 0.44901044                                                                                \n",
      "  0%|                                                                  | 0/100 [19:16<?, ?trial/s, best loss=?]"
     ]
    },
    {
     "name": "stderr",
     "output_type": "stream",
     "text": [
      "/home/jindalmadhur26/anaconda3/lib/python3.9/site-packages/sklearn/base.py:445: UserWarning: X does not have valid feature names, but MLPClassifier was fitted with feature names\n",
      "  warnings.warn(\n",
      "\n"
     ]
    },
    {
     "name": "stdout",
     "output_type": "stream",
     "text": [
      "Validation score: 0.813346                                                                                     \n",
      "Iteration 26, loss = 0.44853521                                                                                \n",
      "  0%|                                                                  | 0/100 [20:12<?, ?trial/s, best loss=?]"
     ]
    },
    {
     "name": "stderr",
     "output_type": "stream",
     "text": [
      "/home/jindalmadhur26/anaconda3/lib/python3.9/site-packages/sklearn/base.py:445: UserWarning: X does not have valid feature names, but MLPClassifier was fitted with feature names\n",
      "  warnings.warn(\n",
      "\n"
     ]
    },
    {
     "name": "stdout",
     "output_type": "stream",
     "text": [
      "Validation score: 0.812526                                                                                     \n",
      "Validation score did not improve more than tol=0.000100 for 10 consecutive epochs. Stopping.                   \n",
      "0.8165383156102913                                                                                             \n",
      "0.8170460653427662                                                                                             \n",
      "{'activation': 'relu', 'alpha': 0.00018403612012581278, 'hidden_layer_sizes': 44}                              \n",
      "Iteration 1, loss = 0.52321533                                                                                 \n",
      "  1%|▎                                 | 1/100 [23:38<35:50:49, 1303.53s/trial, best loss: -0.8170460653427662]"
     ]
    },
    {
     "name": "stderr",
     "output_type": "stream",
     "text": [
      "/home/jindalmadhur26/anaconda3/lib/python3.9/site-packages/sklearn/base.py:445: UserWarning: X does not have valid feature names, but MLPClassifier was fitted with feature names\n",
      "  warnings.warn(\n",
      "\n"
     ]
    },
    {
     "name": "stdout",
     "output_type": "stream",
     "text": [
      "Validation score: 0.812397                                                                                     \n",
      "Iteration 2, loss = 0.46818072                                                                                 \n",
      "  1%|▎                                 | 1/100 [24:05<35:50:49, 1303.53s/trial, best loss: -0.8170460653427662]"
     ]
    },
    {
     "name": "stderr",
     "output_type": "stream",
     "text": [
      "/home/jindalmadhur26/anaconda3/lib/python3.9/site-packages/sklearn/base.py:445: UserWarning: X does not have valid feature names, but MLPClassifier was fitted with feature names\n",
      "  warnings.warn(\n",
      "\n"
     ]
    },
    {
     "name": "stdout",
     "output_type": "stream",
     "text": [
      "Validation score: 0.813654                                                                                     \n",
      "Iteration 3, loss = 0.46404450                                                                                 \n",
      "  1%|▎                                 | 1/100 [24:36<35:50:49, 1303.53s/trial, best loss: -0.8170460653427662]"
     ]
    },
    {
     "name": "stderr",
     "output_type": "stream",
     "text": [
      "/home/jindalmadhur26/anaconda3/lib/python3.9/site-packages/sklearn/base.py:445: UserWarning: X does not have valid feature names, but MLPClassifier was fitted with feature names\n",
      "  warnings.warn(\n",
      "\n"
     ]
    },
    {
     "name": "stdout",
     "output_type": "stream",
     "text": [
      "Validation score: 0.813346                                                                                     \n",
      "Iteration 4, loss = 0.46179742                                                                                 \n",
      "Validation score: 0.816038                                                                                     \n",
      "  1%|▎                                 | 1/100 [24:46<35:50:49, 1303.53s/trial, best loss: -0.8170460653427662]"
     ]
    },
    {
     "name": "stderr",
     "output_type": "stream",
     "text": [
      "/home/jindalmadhur26/anaconda3/lib/python3.9/site-packages/sklearn/base.py:445: UserWarning: X does not have valid feature names, but MLPClassifier was fitted with feature names\n",
      "  warnings.warn(\n",
      "\n"
     ]
    },
    {
     "name": "stdout",
     "output_type": "stream",
     "text": [
      "Iteration 5, loss = 0.46014341                                                                                 \n",
      "  1%|▎                                 | 1/100 [24:58<35:50:49, 1303.53s/trial, best loss: -0.8170460653427662]"
     ]
    },
    {
     "name": "stderr",
     "output_type": "stream",
     "text": [
      "/home/jindalmadhur26/anaconda3/lib/python3.9/site-packages/sklearn/base.py:445: UserWarning: X does not have valid feature names, but MLPClassifier was fitted with feature names\n",
      "  warnings.warn(\n",
      "\n"
     ]
    },
    {
     "name": "stdout",
     "output_type": "stream",
     "text": [
      "Validation score: 0.815551                                                                                     \n",
      "Iteration 6, loss = 0.45860592                                                                                 \n",
      "Validation score: 0.814730                                                                                     \n",
      "  1%|▎                                 | 1/100 [25:08<35:50:49, 1303.53s/trial, best loss: -0.8170460653427662]"
     ]
    },
    {
     "name": "stderr",
     "output_type": "stream",
     "text": [
      "/home/jindalmadhur26/anaconda3/lib/python3.9/site-packages/sklearn/base.py:445: UserWarning: X does not have valid feature names, but MLPClassifier was fitted with feature names\n",
      "  warnings.warn(\n",
      "\n"
     ]
    },
    {
     "name": "stdout",
     "output_type": "stream",
     "text": [
      "Iteration 7, loss = 0.45785948                                                                                 \n",
      "Validation score: 0.815243                                                                                     \n",
      "  1%|▎                                 | 1/100 [25:18<35:50:49, 1303.53s/trial, best loss: -0.8170460653427662]"
     ]
    },
    {
     "name": "stderr",
     "output_type": "stream",
     "text": [
      "/home/jindalmadhur26/anaconda3/lib/python3.9/site-packages/sklearn/base.py:445: UserWarning: X does not have valid feature names, but MLPClassifier was fitted with feature names\n",
      "  warnings.warn(\n",
      "\n"
     ]
    },
    {
     "name": "stdout",
     "output_type": "stream",
     "text": [
      "Iteration 8, loss = 0.45697757                                                                                 \n",
      "  1%|▎                                 | 1/100 [25:37<35:50:49, 1303.53s/trial, best loss: -0.8170460653427662]"
     ]
    },
    {
     "name": "stderr",
     "output_type": "stream",
     "text": [
      "/home/jindalmadhur26/anaconda3/lib/python3.9/site-packages/sklearn/base.py:445: UserWarning: X does not have valid feature names, but MLPClassifier was fitted with feature names\n",
      "  warnings.warn(\n",
      "\n"
     ]
    },
    {
     "name": "stdout",
     "output_type": "stream",
     "text": [
      "Validation score: 0.813961                                                                                     \n",
      "Iteration 9, loss = 0.45586269                                                                                 \n",
      "  1%|▎                                 | 1/100 [25:51<35:50:49, 1303.53s/trial, best loss: -0.8170460653427662]"
     ]
    },
    {
     "name": "stderr",
     "output_type": "stream",
     "text": [
      "/home/jindalmadhur26/anaconda3/lib/python3.9/site-packages/sklearn/base.py:445: UserWarning: X does not have valid feature names, but MLPClassifier was fitted with feature names\n",
      "  warnings.warn(\n",
      "\n"
     ]
    },
    {
     "name": "stdout",
     "output_type": "stream",
     "text": [
      "Validation score: 0.816756                                                                                     \n",
      "Iteration 10, loss = 0.45548123                                                                                \n",
      "  1%|▎                                 | 1/100 [26:01<35:50:49, 1303.53s/trial, best loss: -0.8170460653427662]"
     ]
    },
    {
     "name": "stderr",
     "output_type": "stream",
     "text": [
      "/home/jindalmadhur26/anaconda3/lib/python3.9/site-packages/sklearn/base.py:445: UserWarning: X does not have valid feature names, but MLPClassifier was fitted with feature names\n",
      "  warnings.warn(\n",
      "\n"
     ]
    },
    {
     "name": "stdout",
     "output_type": "stream",
     "text": [
      "Validation score: 0.814653                                                                                     \n",
      "Iteration 11, loss = 0.45481321                                                                                \n",
      "  1%|▎                                 | 1/100 [26:18<35:50:49, 1303.53s/trial, best loss: -0.8170460653427662]"
     ]
    },
    {
     "name": "stderr",
     "output_type": "stream",
     "text": [
      "/home/jindalmadhur26/anaconda3/lib/python3.9/site-packages/sklearn/base.py:445: UserWarning: X does not have valid feature names, but MLPClassifier was fitted with feature names\n",
      "  warnings.warn(\n",
      "\n"
     ]
    },
    {
     "name": "stdout",
     "output_type": "stream",
     "text": [
      "Validation score: 0.814576                                                                                     \n",
      "Iteration 12, loss = 0.45431581                                                                                \n",
      "  1%|▎                                 | 1/100 [26:43<35:50:49, 1303.53s/trial, best loss: -0.8170460653427662]"
     ]
    },
    {
     "name": "stderr",
     "output_type": "stream",
     "text": [
      "/home/jindalmadhur26/anaconda3/lib/python3.9/site-packages/sklearn/base.py:445: UserWarning: X does not have valid feature names, but MLPClassifier was fitted with feature names\n",
      "  warnings.warn(\n",
      "\n"
     ]
    },
    {
     "name": "stdout",
     "output_type": "stream",
     "text": [
      "Validation score: 0.816474                                                                                     \n",
      "Iteration 13, loss = 0.45368615                                                                                \n",
      "  1%|▎                                 | 1/100 [27:24<35:50:49, 1303.53s/trial, best loss: -0.8170460653427662]"
     ]
    },
    {
     "name": "stderr",
     "output_type": "stream",
     "text": [
      "/home/jindalmadhur26/anaconda3/lib/python3.9/site-packages/sklearn/base.py:445: UserWarning: X does not have valid feature names, but MLPClassifier was fitted with feature names\n",
      "  warnings.warn(\n",
      "\n"
     ]
    },
    {
     "name": "stdout",
     "output_type": "stream",
     "text": [
      "Validation score: 0.816832                                                                                     \n",
      "Iteration 14, loss = 0.45305550                                                                                \n",
      "  1%|▎                                 | 1/100 [28:06<35:50:49, 1303.53s/trial, best loss: -0.8170460653427662]"
     ]
    },
    {
     "name": "stderr",
     "output_type": "stream",
     "text": [
      "/home/jindalmadhur26/anaconda3/lib/python3.9/site-packages/sklearn/base.py:445: UserWarning: X does not have valid feature names, but MLPClassifier was fitted with feature names\n",
      "  warnings.warn(\n",
      "\n"
     ]
    },
    {
     "name": "stdout",
     "output_type": "stream",
     "text": [
      "Validation score: 0.816781                                                                                     \n",
      "Iteration 15, loss = 0.45256233                                                                                \n",
      "  1%|▎                                 | 1/100 [28:50<35:50:49, 1303.53s/trial, best loss: -0.8170460653427662]"
     ]
    },
    {
     "name": "stderr",
     "output_type": "stream",
     "text": [
      "/home/jindalmadhur26/anaconda3/lib/python3.9/site-packages/sklearn/base.py:445: UserWarning: X does not have valid feature names, but MLPClassifier was fitted with feature names\n",
      "  warnings.warn(\n",
      "\n"
     ]
    },
    {
     "name": "stdout",
     "output_type": "stream",
     "text": [
      "Validation score: 0.814935                                                                                     \n",
      "Iteration 16, loss = 0.45200214                                                                                \n",
      "  1%|▎                                 | 1/100 [29:30<35:50:49, 1303.53s/trial, best loss: -0.8170460653427662]"
     ]
    },
    {
     "name": "stderr",
     "output_type": "stream",
     "text": [
      "/home/jindalmadhur26/anaconda3/lib/python3.9/site-packages/sklearn/base.py:445: UserWarning: X does not have valid feature names, but MLPClassifier was fitted with feature names\n",
      "  warnings.warn(\n",
      "\n"
     ]
    },
    {
     "name": "stdout",
     "output_type": "stream",
     "text": [
      "Validation score: 0.815089                                                                                     \n",
      "Iteration 17, loss = 0.45147034                                                                                \n",
      "  1%|▎                                 | 1/100 [30:06<35:50:49, 1303.53s/trial, best loss: -0.8170460653427662]"
     ]
    },
    {
     "name": "stderr",
     "output_type": "stream",
     "text": [
      "/home/jindalmadhur26/anaconda3/lib/python3.9/site-packages/sklearn/base.py:445: UserWarning: X does not have valid feature names, but MLPClassifier was fitted with feature names\n",
      "  warnings.warn(\n",
      "\n"
     ]
    },
    {
     "name": "stdout",
     "output_type": "stream",
     "text": [
      "Validation score: 0.816884                                                                                     \n",
      "Iteration 18, loss = 0.45103285                                                                                \n",
      "  1%|▎                                 | 1/100 [30:43<35:50:49, 1303.53s/trial, best loss: -0.8170460653427662]"
     ]
    },
    {
     "name": "stderr",
     "output_type": "stream",
     "text": [
      "/home/jindalmadhur26/anaconda3/lib/python3.9/site-packages/sklearn/base.py:445: UserWarning: X does not have valid feature names, but MLPClassifier was fitted with feature names\n",
      "  warnings.warn(\n",
      "\n"
     ]
    },
    {
     "name": "stdout",
     "output_type": "stream",
     "text": [
      "Validation score: 0.815422                                                                                     \n",
      "Iteration 19, loss = 0.45048903                                                                                \n",
      "  1%|▎                                 | 1/100 [31:20<35:50:49, 1303.53s/trial, best loss: -0.8170460653427662]"
     ]
    },
    {
     "name": "stderr",
     "output_type": "stream",
     "text": [
      "/home/jindalmadhur26/anaconda3/lib/python3.9/site-packages/sklearn/base.py:445: UserWarning: X does not have valid feature names, but MLPClassifier was fitted with feature names\n",
      "  warnings.warn(\n",
      "\n"
     ]
    },
    {
     "name": "stdout",
     "output_type": "stream",
     "text": [
      "Validation score: 0.816345                                                                                     \n",
      "Iteration 20, loss = 0.45034263                                                                                \n",
      "  1%|▎                                 | 1/100 [31:54<35:50:49, 1303.53s/trial, best loss: -0.8170460653427662]"
     ]
    },
    {
     "name": "stderr",
     "output_type": "stream",
     "text": [
      "/home/jindalmadhur26/anaconda3/lib/python3.9/site-packages/sklearn/base.py:445: UserWarning: X does not have valid feature names, but MLPClassifier was fitted with feature names\n",
      "  warnings.warn(\n",
      "\n"
     ]
    },
    {
     "name": "stdout",
     "output_type": "stream",
     "text": [
      "Validation score: 0.816602                                                                                     \n",
      "Validation score did not improve more than tol=0.000100 for 10 consecutive epochs. Stopping.                   \n",
      "0.8170997446651421                                                                                             \n",
      "0.8166393073492453                                                                                             \n",
      "{'activation': 'logistic', 'alpha': 8.43364824830167e-06, 'hidden_layer_sizes': 28}                            \n",
      "Iteration 1, loss = 0.49359039                                                                                 \n",
      "  2%|▋                                  | 2/100 [35:47<25:52:13, 950.34s/trial, best loss: -0.8170460653427662]"
     ]
    },
    {
     "name": "stderr",
     "output_type": "stream",
     "text": [
      "/home/jindalmadhur26/anaconda3/lib/python3.9/site-packages/sklearn/base.py:445: UserWarning: X does not have valid feature names, but MLPClassifier was fitted with feature names\n",
      "  warnings.warn(\n",
      "\n"
     ]
    },
    {
     "name": "stdout",
     "output_type": "stream",
     "text": [
      "Validation score: 0.810603                                                                                     \n",
      "Iteration 2, loss = 0.46729052                                                                                 \n",
      "  2%|▋                                  | 2/100 [36:34<25:52:13, 950.34s/trial, best loss: -0.8170460653427662]"
     ]
    },
    {
     "name": "stderr",
     "output_type": "stream",
     "text": [
      "/home/jindalmadhur26/anaconda3/lib/python3.9/site-packages/sklearn/base.py:445: UserWarning: X does not have valid feature names, but MLPClassifier was fitted with feature names\n",
      "  warnings.warn(\n",
      "\n"
     ]
    },
    {
     "name": "stdout",
     "output_type": "stream",
     "text": [
      "Validation score: 0.808039                                                                                     \n",
      "Iteration 3, loss = 0.46402266                                                                                 \n",
      "  2%|▋                                  | 2/100 [37:20<25:52:13, 950.34s/trial, best loss: -0.8170460653427662]"
     ]
    },
    {
     "name": "stderr",
     "output_type": "stream",
     "text": [
      "/home/jindalmadhur26/anaconda3/lib/python3.9/site-packages/sklearn/base.py:445: UserWarning: X does not have valid feature names, but MLPClassifier was fitted with feature names\n",
      "  warnings.warn(\n",
      "\n"
     ]
    },
    {
     "name": "stdout",
     "output_type": "stream",
     "text": [
      "Validation score: 0.810347                                                                                     \n",
      "Iteration 4, loss = 0.46177673                                                                                 \n",
      "  2%|▋                                  | 2/100 [38:07<25:52:13, 950.34s/trial, best loss: -0.8170460653427662]"
     ]
    },
    {
     "name": "stderr",
     "output_type": "stream",
     "text": [
      "/home/jindalmadhur26/anaconda3/lib/python3.9/site-packages/sklearn/base.py:445: UserWarning: X does not have valid feature names, but MLPClassifier was fitted with feature names\n",
      "  warnings.warn(\n",
      "\n"
     ]
    },
    {
     "name": "stdout",
     "output_type": "stream",
     "text": [
      "Validation score: 0.808578                                                                                     \n",
      "Iteration 5, loss = 0.46063635                                                                                 \n",
      "  2%|▋                                  | 2/100 [38:54<25:52:13, 950.34s/trial, best loss: -0.8170460653427662]"
     ]
    },
    {
     "name": "stderr",
     "output_type": "stream",
     "text": [
      "/home/jindalmadhur26/anaconda3/lib/python3.9/site-packages/sklearn/base.py:445: UserWarning: X does not have valid feature names, but MLPClassifier was fitted with feature names\n",
      "  warnings.warn(\n",
      "\n"
     ]
    },
    {
     "name": "stdout",
     "output_type": "stream",
     "text": [
      "Validation score: 0.813525                                                                                     \n",
      "Iteration 6, loss = 0.45904069                                                                                 \n",
      "  2%|▋                                  | 2/100 [39:40<25:52:13, 950.34s/trial, best loss: -0.8170460653427662]"
     ]
    },
    {
     "name": "stderr",
     "output_type": "stream",
     "text": [
      "/home/jindalmadhur26/anaconda3/lib/python3.9/site-packages/sklearn/base.py:445: UserWarning: X does not have valid feature names, but MLPClassifier was fitted with feature names\n",
      "  warnings.warn(\n",
      "\n"
     ]
    },
    {
     "name": "stdout",
     "output_type": "stream",
     "text": [
      "Validation score: 0.810013                                                                                     \n",
      "Iteration 7, loss = 0.45805604                                                                                 \n",
      "  2%|▋                                  | 2/100 [40:03<25:52:13, 950.34s/trial, best loss: -0.8170460653427662]"
     ]
    },
    {
     "name": "stderr",
     "output_type": "stream",
     "text": [
      "/home/jindalmadhur26/anaconda3/lib/python3.9/site-packages/sklearn/base.py:445: UserWarning: X does not have valid feature names, but MLPClassifier was fitted with feature names\n",
      "  warnings.warn(\n",
      "\n"
     ]
    },
    {
     "name": "stdout",
     "output_type": "stream",
     "text": [
      "Validation score: 0.812295                                                                                     \n",
      "Iteration 8, loss = 0.45731274                                                                                 \n",
      "  2%|▋                                  | 2/100 [40:23<25:52:13, 950.34s/trial, best loss: -0.8170460653427662]"
     ]
    },
    {
     "name": "stderr",
     "output_type": "stream",
     "text": [
      "/home/jindalmadhur26/anaconda3/lib/python3.9/site-packages/sklearn/base.py:445: UserWarning: X does not have valid feature names, but MLPClassifier was fitted with feature names\n",
      "  warnings.warn(\n",
      "\n"
     ]
    },
    {
     "name": "stdout",
     "output_type": "stream",
     "text": [
      "Validation score: 0.811449                                                                                     \n",
      "Iteration 9, loss = 0.45647951                                                                                 \n",
      "  2%|▋                                  | 2/100 [40:58<25:52:13, 950.34s/trial, best loss: -0.8170460653427662]"
     ]
    },
    {
     "name": "stderr",
     "output_type": "stream",
     "text": [
      "/home/jindalmadhur26/anaconda3/lib/python3.9/site-packages/sklearn/base.py:445: UserWarning: X does not have valid feature names, but MLPClassifier was fitted with feature names\n",
      "  warnings.warn(\n",
      "\n"
     ]
    },
    {
     "name": "stdout",
     "output_type": "stream",
     "text": [
      "Validation score: 0.813449                                                                                     \n",
      "Iteration 10, loss = 0.45619950                                                                                \n",
      "  2%|▋                                  | 2/100 [41:24<25:52:13, 950.34s/trial, best loss: -0.8170460653427662]"
     ]
    },
    {
     "name": "stderr",
     "output_type": "stream",
     "text": [
      "/home/jindalmadhur26/anaconda3/lib/python3.9/site-packages/sklearn/base.py:445: UserWarning: X does not have valid feature names, but MLPClassifier was fitted with feature names\n",
      "  warnings.warn(\n",
      "\n"
     ]
    },
    {
     "name": "stdout",
     "output_type": "stream",
     "text": [
      "Validation score: 0.812295                                                                                     \n",
      "Iteration 11, loss = 0.45493213                                                                                \n",
      "  2%|▋                                  | 2/100 [41:53<25:52:13, 950.34s/trial, best loss: -0.8170460653427662]"
     ]
    },
    {
     "name": "stderr",
     "output_type": "stream",
     "text": [
      "/home/jindalmadhur26/anaconda3/lib/python3.9/site-packages/sklearn/base.py:445: UserWarning: X does not have valid feature names, but MLPClassifier was fitted with feature names\n",
      "  warnings.warn(\n",
      "\n"
     ]
    },
    {
     "name": "stdout",
     "output_type": "stream",
     "text": [
      "Validation score: 0.811628                                                                                     \n",
      "Iteration 12, loss = 0.45476778                                                                                \n",
      "  2%|▋                                  | 2/100 [42:15<25:52:13, 950.34s/trial, best loss: -0.8170460653427662]"
     ]
    },
    {
     "name": "stderr",
     "output_type": "stream",
     "text": [
      "/home/jindalmadhur26/anaconda3/lib/python3.9/site-packages/sklearn/base.py:445: UserWarning: X does not have valid feature names, but MLPClassifier was fitted with feature names\n",
      "  warnings.warn(\n",
      "\n"
     ]
    },
    {
     "name": "stdout",
     "output_type": "stream",
     "text": [
      "Validation score: 0.812372                                                                                     \n",
      "Iteration 13, loss = 0.45353209                                                                                \n",
      "  2%|▋                                  | 2/100 [42:40<25:52:13, 950.34s/trial, best loss: -0.8170460653427662]"
     ]
    },
    {
     "name": "stderr",
     "output_type": "stream",
     "text": [
      "/home/jindalmadhur26/anaconda3/lib/python3.9/site-packages/sklearn/base.py:445: UserWarning: X does not have valid feature names, but MLPClassifier was fitted with feature names\n",
      "  warnings.warn(\n",
      "\n"
     ]
    },
    {
     "name": "stdout",
     "output_type": "stream",
     "text": [
      "Validation score: 0.813397                                                                                     \n",
      "Iteration 14, loss = 0.45339621                                                                                \n",
      "  2%|▋                                  | 2/100 [43:15<25:52:13, 950.34s/trial, best loss: -0.8170460653427662]"
     ]
    },
    {
     "name": "stderr",
     "output_type": "stream",
     "text": [
      "/home/jindalmadhur26/anaconda3/lib/python3.9/site-packages/sklearn/base.py:445: UserWarning: X does not have valid feature names, but MLPClassifier was fitted with feature names\n",
      "  warnings.warn(\n",
      "\n"
     ]
    },
    {
     "name": "stdout",
     "output_type": "stream",
     "text": [
      "Validation score: 0.809578                                                                                     \n",
      "Iteration 15, loss = 0.45275977                                                                                \n",
      "  2%|▋                                  | 2/100 [43:57<25:52:13, 950.34s/trial, best loss: -0.8170460653427662]"
     ]
    },
    {
     "name": "stderr",
     "output_type": "stream",
     "text": [
      "/home/jindalmadhur26/anaconda3/lib/python3.9/site-packages/sklearn/base.py:445: UserWarning: X does not have valid feature names, but MLPClassifier was fitted with feature names\n",
      "  warnings.warn(\n",
      "\n"
     ]
    },
    {
     "name": "stdout",
     "output_type": "stream",
     "text": [
      "Validation score: 0.812808                                                                                     \n",
      "Iteration 16, loss = 0.45211985                                                                                \n",
      "  2%|▋                                  | 2/100 [44:38<25:52:13, 950.34s/trial, best loss: -0.8170460653427662]"
     ]
    },
    {
     "name": "stderr",
     "output_type": "stream",
     "text": [
      "/home/jindalmadhur26/anaconda3/lib/python3.9/site-packages/sklearn/base.py:445: UserWarning: X does not have valid feature names, but MLPClassifier was fitted with feature names\n",
      "  warnings.warn(\n",
      "\n"
     ]
    },
    {
     "name": "stdout",
     "output_type": "stream",
     "text": [
      "Validation score: 0.812910                                                                                     \n",
      "Validation score did not improve more than tol=0.000100 for 10 consecutive epochs. Stopping.                   \n",
      "0.8155462012530892                                                                                             \n",
      "0.8148088963784011                                                                                             \n",
      "{'activation': 'tanh', 'alpha': 8.03367992083497e-06, 'hidden_layer_sizes': 32}                                \n",
      "Iteration 1, loss = 0.49215583                                                                                 \n",
      "  3%|█                                  | 3/100 [48:19<23:21:52, 867.14s/trial, best loss: -0.8170460653427662]"
     ]
    },
    {
     "name": "stderr",
     "output_type": "stream",
     "text": [
      "/home/jindalmadhur26/anaconda3/lib/python3.9/site-packages/sklearn/base.py:445: UserWarning: X does not have valid feature names, but MLPClassifier was fitted with feature names\n",
      "  warnings.warn(\n",
      "\n"
     ]
    },
    {
     "name": "stdout",
     "output_type": "stream",
     "text": [
      "Validation score: 0.809757                                                                                     \n",
      "Iteration 2, loss = 0.46738917                                                                                 \n",
      "  3%|█                                  | 3/100 [49:10<23:21:52, 867.14s/trial, best loss: -0.8170460653427662]"
     ]
    },
    {
     "name": "stderr",
     "output_type": "stream",
     "text": [
      "/home/jindalmadhur26/anaconda3/lib/python3.9/site-packages/sklearn/base.py:445: UserWarning: X does not have valid feature names, but MLPClassifier was fitted with feature names\n",
      "  warnings.warn(\n",
      "\n"
     ]
    },
    {
     "name": "stdout",
     "output_type": "stream",
     "text": [
      "Validation score: 0.809885                                                                                     \n",
      "Iteration 3, loss = 0.46429591                                                                                 \n",
      "  3%|█                                  | 3/100 [49:50<23:21:52, 867.14s/trial, best loss: -0.8170460653427662]"
     ]
    },
    {
     "name": "stderr",
     "output_type": "stream",
     "text": [
      "/home/jindalmadhur26/anaconda3/lib/python3.9/site-packages/sklearn/base.py:445: UserWarning: X does not have valid feature names, but MLPClassifier was fitted with feature names\n",
      "  warnings.warn(\n",
      "\n"
     ]
    },
    {
     "name": "stdout",
     "output_type": "stream",
     "text": [
      "Validation score: 0.812423                                                                                     \n",
      "Iteration 4, loss = 0.46177626                                                                                 \n",
      "  3%|█                                  | 3/100 [50:35<23:21:52, 867.14s/trial, best loss: -0.8170460653427662]"
     ]
    },
    {
     "name": "stderr",
     "output_type": "stream",
     "text": [
      "/home/jindalmadhur26/anaconda3/lib/python3.9/site-packages/sklearn/base.py:445: UserWarning: X does not have valid feature names, but MLPClassifier was fitted with feature names\n",
      "  warnings.warn(\n",
      "\n"
     ]
    },
    {
     "name": "stdout",
     "output_type": "stream",
     "text": [
      "Validation score: 0.813679                                                                                     \n",
      "Iteration 5, loss = 0.46040329                                                                                 \n",
      "  3%|█                                  | 3/100 [51:15<23:21:52, 867.14s/trial, best loss: -0.8170460653427662]"
     ]
    },
    {
     "name": "stderr",
     "output_type": "stream",
     "text": [
      "/home/jindalmadhur26/anaconda3/lib/python3.9/site-packages/sklearn/base.py:445: UserWarning: X does not have valid feature names, but MLPClassifier was fitted with feature names\n",
      "  warnings.warn(\n",
      "\n"
     ]
    },
    {
     "name": "stdout",
     "output_type": "stream",
     "text": [
      "Validation score: 0.813987                                                                                     \n",
      "Iteration 6, loss = 0.45905782                                                                                 \n",
      "  3%|█                                  | 3/100 [51:59<23:21:52, 867.14s/trial, best loss: -0.8170460653427662]"
     ]
    },
    {
     "name": "stderr",
     "output_type": "stream",
     "text": [
      "/home/jindalmadhur26/anaconda3/lib/python3.9/site-packages/sklearn/base.py:445: UserWarning: X does not have valid feature names, but MLPClassifier was fitted with feature names\n",
      "  warnings.warn(\n",
      "\n"
     ]
    },
    {
     "name": "stdout",
     "output_type": "stream",
     "text": [
      "Validation score: 0.813295                                                                                     \n",
      "Iteration 7, loss = 0.45805268                                                                                 \n",
      "  3%|█                                  | 3/100 [52:43<23:21:52, 867.14s/trial, best loss: -0.8170460653427662]"
     ]
    },
    {
     "name": "stderr",
     "output_type": "stream",
     "text": [
      "/home/jindalmadhur26/anaconda3/lib/python3.9/site-packages/sklearn/base.py:445: UserWarning: X does not have valid feature names, but MLPClassifier was fitted with feature names\n",
      "  warnings.warn(\n",
      "\n"
     ]
    },
    {
     "name": "stdout",
     "output_type": "stream",
     "text": [
      "Validation score: 0.814423                                                                                     \n",
      "Iteration 8, loss = 0.45715739                                                                                 \n",
      "  3%|█                                  | 3/100 [53:22<23:21:52, 867.14s/trial, best loss: -0.8170460653427662]"
     ]
    },
    {
     "name": "stderr",
     "output_type": "stream",
     "text": [
      "/home/jindalmadhur26/anaconda3/lib/python3.9/site-packages/sklearn/base.py:445: UserWarning: X does not have valid feature names, but MLPClassifier was fitted with feature names\n",
      "  warnings.warn(\n",
      "\n"
     ]
    },
    {
     "name": "stdout",
     "output_type": "stream",
     "text": [
      "Validation score: 0.812551                                                                                     \n",
      "Iteration 9, loss = 0.45646369                                                                                 \n",
      "  3%|█                                  | 3/100 [54:06<23:21:52, 867.14s/trial, best loss: -0.8170460653427662]"
     ]
    },
    {
     "name": "stderr",
     "output_type": "stream",
     "text": [
      "/home/jindalmadhur26/anaconda3/lib/python3.9/site-packages/sklearn/base.py:445: UserWarning: X does not have valid feature names, but MLPClassifier was fitted with feature names\n",
      "  warnings.warn(\n",
      "\n"
     ]
    },
    {
     "name": "stdout",
     "output_type": "stream",
     "text": [
      "Validation score: 0.813961                                                                                     \n",
      "Iteration 10, loss = 0.45542235                                                                                \n",
      "  3%|█                                  | 3/100 [55:03<23:21:52, 867.14s/trial, best loss: -0.8170460653427662]"
     ]
    },
    {
     "name": "stderr",
     "output_type": "stream",
     "text": [
      "/home/jindalmadhur26/anaconda3/lib/python3.9/site-packages/sklearn/base.py:445: UserWarning: X does not have valid feature names, but MLPClassifier was fitted with feature names\n",
      "  warnings.warn(\n",
      "\n"
     ]
    },
    {
     "name": "stdout",
     "output_type": "stream",
     "text": [
      "Validation score: 0.813295                                                                                     \n",
      "Iteration 11, loss = 0.45497152                                                                                \n",
      "  3%|█                                  | 3/100 [55:44<23:21:52, 867.14s/trial, best loss: -0.8170460653427662]"
     ]
    },
    {
     "name": "stderr",
     "output_type": "stream",
     "text": [
      "/home/jindalmadhur26/anaconda3/lib/python3.9/site-packages/sklearn/base.py:445: UserWarning: X does not have valid feature names, but MLPClassifier was fitted with feature names\n",
      "  warnings.warn(\n",
      "\n"
     ]
    },
    {
     "name": "stdout",
     "output_type": "stream",
     "text": [
      "Validation score: 0.813936                                                                                     \n",
      "Iteration 12, loss = 0.45440050                                                                                \n",
      "  3%|█                                  | 3/100 [56:07<23:21:52, 867.14s/trial, best loss: -0.8170460653427662]"
     ]
    },
    {
     "name": "stderr",
     "output_type": "stream",
     "text": [
      "/home/jindalmadhur26/anaconda3/lib/python3.9/site-packages/sklearn/base.py:445: UserWarning: X does not have valid feature names, but MLPClassifier was fitted with feature names\n",
      "  warnings.warn(\n",
      "\n"
     ]
    },
    {
     "name": "stdout",
     "output_type": "stream",
     "text": [
      "Validation score: 0.813859                                                                                     \n",
      "Iteration 13, loss = 0.45391636                                                                                \n",
      "  3%|█                                  | 3/100 [56:26<23:21:52, 867.14s/trial, best loss: -0.8170460653427662]"
     ]
    },
    {
     "name": "stderr",
     "output_type": "stream",
     "text": [
      "/home/jindalmadhur26/anaconda3/lib/python3.9/site-packages/sklearn/base.py:445: UserWarning: X does not have valid feature names, but MLPClassifier was fitted with feature names\n",
      "  warnings.warn(\n",
      "\n"
     ]
    },
    {
     "name": "stdout",
     "output_type": "stream",
     "text": [
      "Validation score: 0.813602                                                                                     \n",
      "Iteration 14, loss = 0.45332401                                                                                \n",
      "  3%|█                                  | 3/100 [56:55<23:21:52, 867.14s/trial, best loss: -0.8170460653427662]"
     ]
    },
    {
     "name": "stderr",
     "output_type": "stream",
     "text": [
      "/home/jindalmadhur26/anaconda3/lib/python3.9/site-packages/sklearn/base.py:445: UserWarning: X does not have valid feature names, but MLPClassifier was fitted with feature names\n",
      "  warnings.warn(\n",
      "\n"
     ]
    },
    {
     "name": "stdout",
     "output_type": "stream",
     "text": [
      "Validation score: 0.813782                                                                                     \n",
      "Iteration 15, loss = 0.45277313                                                                                \n",
      "  3%|█                                  | 3/100 [57:16<23:21:52, 867.14s/trial, best loss: -0.8170460653427662]"
     ]
    },
    {
     "name": "stderr",
     "output_type": "stream",
     "text": [
      "/home/jindalmadhur26/anaconda3/lib/python3.9/site-packages/sklearn/base.py:445: UserWarning: X does not have valid feature names, but MLPClassifier was fitted with feature names\n",
      "  warnings.warn(\n",
      "\n"
     ]
    },
    {
     "name": "stdout",
     "output_type": "stream",
     "text": [
      "Validation score: 0.813936                                                                                     \n",
      "Iteration 16, loss = 0.45240006                                                                                \n",
      "  3%|█                                  | 3/100 [57:35<23:21:52, 867.14s/trial, best loss: -0.8170460653427662]"
     ]
    },
    {
     "name": "stderr",
     "output_type": "stream",
     "text": [
      "/home/jindalmadhur26/anaconda3/lib/python3.9/site-packages/sklearn/base.py:445: UserWarning: X does not have valid feature names, but MLPClassifier was fitted with feature names\n",
      "  warnings.warn(\n",
      "\n"
     ]
    },
    {
     "name": "stdout",
     "output_type": "stream",
     "text": [
      "Validation score: 0.812910                                                                                     \n",
      "Iteration 17, loss = 0.45212497                                                                                \n",
      "  3%|█                                  | 3/100 [58:17<23:21:52, 867.14s/trial, best loss: -0.8170460653427662]"
     ]
    },
    {
     "name": "stderr",
     "output_type": "stream",
     "text": [
      "/home/jindalmadhur26/anaconda3/lib/python3.9/site-packages/sklearn/base.py:445: UserWarning: X does not have valid feature names, but MLPClassifier was fitted with feature names\n",
      "  warnings.warn(\n",
      "\n"
     ]
    },
    {
     "name": "stdout",
     "output_type": "stream",
     "text": [
      "Validation score: 0.812321                                                                                     \n",
      "Iteration 18, loss = 0.45176622                                                                                \n",
      "  3%|█                                  | 3/100 [59:03<23:21:52, 867.14s/trial, best loss: -0.8170460653427662]"
     ]
    },
    {
     "name": "stderr",
     "output_type": "stream",
     "text": [
      "/home/jindalmadhur26/anaconda3/lib/python3.9/site-packages/sklearn/base.py:445: UserWarning: X does not have valid feature names, but MLPClassifier was fitted with feature names\n",
      "  warnings.warn(\n",
      "\n"
     ]
    },
    {
     "name": "stdout",
     "output_type": "stream",
     "text": [
      "Validation score: 0.814833                                                                                     \n",
      "Iteration 19, loss = 0.45136223                                                                                \n",
      "  3%|█                                  | 3/100 [59:38<23:21:52, 867.14s/trial, best loss: -0.8170460653427662]"
     ]
    },
    {
     "name": "stderr",
     "output_type": "stream",
     "text": [
      "/home/jindalmadhur26/anaconda3/lib/python3.9/site-packages/sklearn/base.py:445: UserWarning: X does not have valid feature names, but MLPClassifier was fitted with feature names\n",
      "  warnings.warn(\n",
      "\n"
     ]
    },
    {
     "name": "stdout",
     "output_type": "stream",
     "text": [
      "Validation score: 0.809860                                                                                     \n",
      "Iteration 20, loss = 0.45115175                                                                                \n",
      "  3%|▉                                | 3/100 [1:00:15<23:21:52, 867.14s/trial, best loss: -0.8170460653427662]"
     ]
    },
    {
     "name": "stderr",
     "output_type": "stream",
     "text": [
      "/home/jindalmadhur26/anaconda3/lib/python3.9/site-packages/sklearn/base.py:445: UserWarning: X does not have valid feature names, but MLPClassifier was fitted with feature names\n",
      "  warnings.warn(\n",
      "\n"
     ]
    },
    {
     "name": "stdout",
     "output_type": "stream",
     "text": [
      "Validation score: 0.813243                                                                                     \n",
      "Iteration 21, loss = 0.45078542                                                                                \n",
      "  3%|▉                                | 3/100 [1:00:55<23:21:52, 867.14s/trial, best loss: -0.8170460653427662]"
     ]
    },
    {
     "name": "stderr",
     "output_type": "stream",
     "text": [
      "/home/jindalmadhur26/anaconda3/lib/python3.9/site-packages/sklearn/base.py:445: UserWarning: X does not have valid feature names, but MLPClassifier was fitted with feature names\n",
      "  warnings.warn(\n",
      "\n"
     ]
    },
    {
     "name": "stdout",
     "output_type": "stream",
     "text": [
      "Validation score: 0.812936                                                                                     \n",
      "Iteration 22, loss = 0.45052795                                                                                \n",
      "  3%|▉                                | 3/100 [1:01:34<23:21:52, 867.14s/trial, best loss: -0.8170460653427662]"
     ]
    },
    {
     "name": "stderr",
     "output_type": "stream",
     "text": [
      "/home/jindalmadhur26/anaconda3/lib/python3.9/site-packages/sklearn/base.py:445: UserWarning: X does not have valid feature names, but MLPClassifier was fitted with feature names\n",
      "  warnings.warn(\n",
      "\n"
     ]
    },
    {
     "name": "stdout",
     "output_type": "stream",
     "text": [
      "Validation score: 0.813884                                                                                     \n",
      "Iteration 23, loss = 0.45009823                                                                                \n",
      "  3%|▉                                | 3/100 [1:02:11<23:21:52, 867.14s/trial, best loss: -0.8170460653427662]"
     ]
    },
    {
     "name": "stderr",
     "output_type": "stream",
     "text": [
      "/home/jindalmadhur26/anaconda3/lib/python3.9/site-packages/sklearn/base.py:445: UserWarning: X does not have valid feature names, but MLPClassifier was fitted with feature names\n",
      "  warnings.warn(\n",
      "\n"
     ]
    },
    {
     "name": "stdout",
     "output_type": "stream",
     "text": [
      "Validation score: 0.814397                                                                                     \n",
      "Iteration 24, loss = 0.44986708                                                                                \n",
      "  3%|▉                                | 3/100 [1:02:44<23:21:52, 867.14s/trial, best loss: -0.8170460653427662]"
     ]
    },
    {
     "name": "stderr",
     "output_type": "stream",
     "text": [
      "/home/jindalmadhur26/anaconda3/lib/python3.9/site-packages/sklearn/base.py:445: UserWarning: X does not have valid feature names, but MLPClassifier was fitted with feature names\n",
      "  warnings.warn(\n",
      "\n"
     ]
    },
    {
     "name": "stdout",
     "output_type": "stream",
     "text": [
      "Validation score: 0.813346                                                                                     \n",
      "Iteration 25, loss = 0.44939431                                                                                \n",
      "  3%|▉                                | 3/100 [1:03:15<23:21:52, 867.14s/trial, best loss: -0.8170460653427662]"
     ]
    },
    {
     "name": "stderr",
     "output_type": "stream",
     "text": [
      "/home/jindalmadhur26/anaconda3/lib/python3.9/site-packages/sklearn/base.py:445: UserWarning: X does not have valid feature names, but MLPClassifier was fitted with feature names\n",
      "  warnings.warn(\n",
      "\n"
     ]
    },
    {
     "name": "stdout",
     "output_type": "stream",
     "text": [
      "Validation score: 0.814089                                                                                     \n",
      "Iteration 26, loss = 0.44935849                                                                                \n",
      "  3%|▉                                | 3/100 [1:03:46<23:21:52, 867.14s/trial, best loss: -0.8170460653427662]"
     ]
    },
    {
     "name": "stderr",
     "output_type": "stream",
     "text": [
      "/home/jindalmadhur26/anaconda3/lib/python3.9/site-packages/sklearn/base.py:445: UserWarning: X does not have valid feature names, but MLPClassifier was fitted with feature names\n",
      "  warnings.warn(\n",
      "\n"
     ]
    },
    {
     "name": "stdout",
     "output_type": "stream",
     "text": [
      "Validation score: 0.814269                                                                                     \n",
      "Iteration 27, loss = 0.44901975                                                                                \n",
      "  3%|▉                                | 3/100 [1:04:18<23:21:52, 867.14s/trial, best loss: -0.8170460653427662]"
     ]
    },
    {
     "name": "stderr",
     "output_type": "stream",
     "text": [
      "/home/jindalmadhur26/anaconda3/lib/python3.9/site-packages/sklearn/base.py:445: UserWarning: X does not have valid feature names, but MLPClassifier was fitted with feature names\n",
      "  warnings.warn(\n",
      "\n"
     ]
    },
    {
     "name": "stdout",
     "output_type": "stream",
     "text": [
      "Validation score: 0.814346                                                                                     \n",
      "Iteration 28, loss = 0.44868473                                                                                \n",
      "  3%|▉                                | 3/100 [1:04:48<23:21:52, 867.14s/trial, best loss: -0.8170460653427662]"
     ]
    },
    {
     "name": "stderr",
     "output_type": "stream",
     "text": [
      "/home/jindalmadhur26/anaconda3/lib/python3.9/site-packages/sklearn/base.py:445: UserWarning: X does not have valid feature names, but MLPClassifier was fitted with feature names\n",
      "  warnings.warn(\n",
      "\n"
     ]
    },
    {
     "name": "stdout",
     "output_type": "stream",
     "text": [
      "Validation score: 0.813577                                                                                     \n",
      "Iteration 29, loss = 0.44828603                                                                                \n",
      "  3%|▉                                | 3/100 [1:05:20<23:21:52, 867.14s/trial, best loss: -0.8170460653427662]"
     ]
    },
    {
     "name": "stderr",
     "output_type": "stream",
     "text": [
      "/home/jindalmadhur26/anaconda3/lib/python3.9/site-packages/sklearn/base.py:445: UserWarning: X does not have valid feature names, but MLPClassifier was fitted with feature names\n",
      "  warnings.warn(\n",
      "\n"
     ]
    },
    {
     "name": "stdout",
     "output_type": "stream",
     "text": [
      "Validation score: 0.812936                                                                                     \n",
      "Validation score did not improve more than tol=0.000100 for 10 consecutive epochs. Stopping.                   \n",
      "0.816945928485731                                                                                              \n",
      "0.8149977483039644                                                                                             \n",
      "{'activation': 'tanh', 'alpha': 4.4405452778133624e-08, 'hidden_layer_sizes': 17}                              \n",
      "Iteration 1, loss = 0.99508913                                                                                 \n",
      "  4%|█▎                              | 4/100 [1:08:38<26:49:23, 1005.87s/trial, best loss: -0.8170460653427662]"
     ]
    },
    {
     "name": "stderr",
     "output_type": "stream",
     "text": [
      "/home/jindalmadhur26/anaconda3/lib/python3.9/site-packages/sklearn/base.py:445: UserWarning: X does not have valid feature names, but MLPClassifier was fitted with feature names\n",
      "  warnings.warn(\n",
      "\n"
     ]
    },
    {
     "name": "stdout",
     "output_type": "stream",
     "text": [
      "Validation score: 0.782788                                                                                     \n",
      "Iteration 2, loss = 0.67150313                                                                                 \n",
      "  4%|█▎                              | 4/100 [1:09:19<26:49:23, 1005.87s/trial, best loss: -0.8170460653427662]"
     ]
    },
    {
     "name": "stderr",
     "output_type": "stream",
     "text": [
      "/home/jindalmadhur26/anaconda3/lib/python3.9/site-packages/sklearn/base.py:445: UserWarning: X does not have valid feature names, but MLPClassifier was fitted with feature names\n",
      "  warnings.warn(\n",
      "\n"
     ]
    },
    {
     "name": "stdout",
     "output_type": "stream",
     "text": [
      "Validation score: 0.784967                                                                                     \n",
      "Iteration 3, loss = 0.66732193                                                                                 \n",
      "  4%|█▎                              | 4/100 [1:09:55<26:49:23, 1005.87s/trial, best loss: -0.8170460653427662]"
     ]
    },
    {
     "name": "stderr",
     "output_type": "stream",
     "text": [
      "/home/jindalmadhur26/anaconda3/lib/python3.9/site-packages/sklearn/base.py:445: UserWarning: X does not have valid feature names, but MLPClassifier was fitted with feature names\n",
      "  warnings.warn(\n",
      "\n"
     ]
    },
    {
     "name": "stdout",
     "output_type": "stream",
     "text": [
      "Validation score: 0.771842                                                                                     \n",
      "Iteration 4, loss = 0.66592564                                                                                 \n",
      "  4%|█▎                              | 4/100 [1:10:34<26:49:23, 1005.87s/trial, best loss: -0.8170460653427662]"
     ]
    },
    {
     "name": "stderr",
     "output_type": "stream",
     "text": [
      "/home/jindalmadhur26/anaconda3/lib/python3.9/site-packages/sklearn/base.py:445: UserWarning: X does not have valid feature names, but MLPClassifier was fitted with feature names\n",
      "  warnings.warn(\n",
      "\n"
     ]
    },
    {
     "name": "stdout",
     "output_type": "stream",
     "text": [
      "Validation score: 0.778404                                                                                     \n",
      "Iteration 5, loss = 0.66489790                                                                                 \n",
      "Validation score: 0.780917                                                                                     \n",
      "  4%|█▎                              | 4/100 [1:10:59<26:49:23, 1005.87s/trial, best loss: -0.8170460653427662]"
     ]
    },
    {
     "name": "stderr",
     "output_type": "stream",
     "text": [
      "/home/jindalmadhur26/anaconda3/lib/python3.9/site-packages/sklearn/base.py:445: UserWarning: X does not have valid feature names, but MLPClassifier was fitted with feature names\n",
      "  warnings.warn(\n",
      "\n"
     ]
    },
    {
     "name": "stdout",
     "output_type": "stream",
     "text": [
      "Iteration 6, loss = 0.66435399                                                                                 \n",
      "Validation score: 0.779199                                                                                     \n",
      "  4%|█▎                              | 4/100 [1:11:12<26:49:23, 1005.87s/trial, best loss: -0.8170460653427662]"
     ]
    },
    {
     "name": "stderr",
     "output_type": "stream",
     "text": [
      "/home/jindalmadhur26/anaconda3/lib/python3.9/site-packages/sklearn/base.py:445: UserWarning: X does not have valid feature names, but MLPClassifier was fitted with feature names\n",
      "  warnings.warn(\n",
      "\n"
     ]
    },
    {
     "name": "stdout",
     "output_type": "stream",
     "text": [
      "Iteration 7, loss = 0.66384615                                                                                 \n",
      "Validation score: 0.783814                                                                                     \n",
      "  4%|█▎                              | 4/100 [1:11:23<26:49:23, 1005.87s/trial, best loss: -0.8170460653427662]"
     ]
    },
    {
     "name": "stderr",
     "output_type": "stream",
     "text": [
      "/home/jindalmadhur26/anaconda3/lib/python3.9/site-packages/sklearn/base.py:445: UserWarning: X does not have valid feature names, but MLPClassifier was fitted with feature names\n",
      "  warnings.warn(\n",
      "\n"
     ]
    },
    {
     "name": "stdout",
     "output_type": "stream",
     "text": [
      "Iteration 8, loss = 0.66367363                                                                                 \n",
      "Validation score: 0.783121                                                                                     \n",
      "  4%|█▎                              | 4/100 [1:11:40<26:49:23, 1005.87s/trial, best loss: -0.8170460653427662]"
     ]
    },
    {
     "name": "stderr",
     "output_type": "stream",
     "text": [
      "/home/jindalmadhur26/anaconda3/lib/python3.9/site-packages/sklearn/base.py:445: UserWarning: X does not have valid feature names, but MLPClassifier was fitted with feature names\n",
      "  warnings.warn(\n",
      "\n"
     ]
    },
    {
     "name": "stdout",
     "output_type": "stream",
     "text": [
      "Iteration 9, loss = 0.66350682                                                                                 \n",
      "Validation score: 0.782686                                                                                     \n",
      "  4%|█▎                              | 4/100 [1:11:57<26:49:23, 1005.87s/trial, best loss: -0.8170460653427662]"
     ]
    },
    {
     "name": "stderr",
     "output_type": "stream",
     "text": [
      "/home/jindalmadhur26/anaconda3/lib/python3.9/site-packages/sklearn/base.py:445: UserWarning: X does not have valid feature names, but MLPClassifier was fitted with feature names\n",
      "  warnings.warn(\n",
      "\n"
     ]
    },
    {
     "name": "stdout",
     "output_type": "stream",
     "text": [
      "Iteration 10, loss = 0.66330482                                                                                \n",
      "Validation score: 0.778097                                                                                     \n",
      "  4%|█▎                              | 4/100 [1:12:07<26:49:23, 1005.87s/trial, best loss: -0.8170460653427662]"
     ]
    },
    {
     "name": "stderr",
     "output_type": "stream",
     "text": [
      "/home/jindalmadhur26/anaconda3/lib/python3.9/site-packages/sklearn/base.py:445: UserWarning: X does not have valid feature names, but MLPClassifier was fitted with feature names\n",
      "  warnings.warn(\n",
      "\n"
     ]
    },
    {
     "name": "stdout",
     "output_type": "stream",
     "text": [
      "Iteration 11, loss = 0.66310824                                                                                \n",
      "Validation score: 0.783532                                                                                     \n",
      "  4%|█▎                              | 4/100 [1:12:18<26:49:23, 1005.87s/trial, best loss: -0.8170460653427662]"
     ]
    },
    {
     "name": "stderr",
     "output_type": "stream",
     "text": [
      "/home/jindalmadhur26/anaconda3/lib/python3.9/site-packages/sklearn/base.py:445: UserWarning: X does not have valid feature names, but MLPClassifier was fitted with feature names\n",
      "  warnings.warn(\n",
      "\n"
     ]
    },
    {
     "name": "stdout",
     "output_type": "stream",
     "text": [
      "Iteration 12, loss = 0.66306375                                                                                \n",
      "Validation score: 0.783916                                                                                     \n",
      "  4%|█▎                              | 4/100 [1:12:30<26:49:23, 1005.87s/trial, best loss: -0.8170460653427662]"
     ]
    },
    {
     "name": "stderr",
     "output_type": "stream",
     "text": [
      "/home/jindalmadhur26/anaconda3/lib/python3.9/site-packages/sklearn/base.py:445: UserWarning: X does not have valid feature names, but MLPClassifier was fitted with feature names\n",
      "  warnings.warn(\n",
      "\n"
     ]
    },
    {
     "name": "stdout",
     "output_type": "stream",
     "text": [
      "Iteration 13, loss = 0.66278058                                                                                \n",
      "  4%|█▎                              | 4/100 [1:13:00<26:49:23, 1005.87s/trial, best loss: -0.8170460653427662]"
     ]
    },
    {
     "name": "stderr",
     "output_type": "stream",
     "text": [
      "/home/jindalmadhur26/anaconda3/lib/python3.9/site-packages/sklearn/base.py:445: UserWarning: X does not have valid feature names, but MLPClassifier was fitted with feature names\n",
      "  warnings.warn(\n",
      "\n"
     ]
    },
    {
     "name": "stdout",
     "output_type": "stream",
     "text": [
      "Validation score: 0.781891                                                                                     \n",
      "Validation score did not improve more than tol=0.000100 for 10 consecutive epochs. Stopping.                   \n",
      "0.7816835693557153                                                                                             \n",
      "0.7823554193239101                                                                                             \n",
      "{'activation': 'relu', 'alpha': 20.307785072675856, 'hidden_layer_sizes': 42}                                  \n",
      "Iteration 1, loss = 0.51352315                                                                                 \n",
      "  5%|█▋                               | 5/100 [1:16:45<21:16:56, 806.48s/trial, best loss: -0.8170460653427662]"
     ]
    },
    {
     "name": "stderr",
     "output_type": "stream",
     "text": [
      "/home/jindalmadhur26/anaconda3/lib/python3.9/site-packages/sklearn/base.py:445: UserWarning: X does not have valid feature names, but MLPClassifier was fitted with feature names\n",
      "  warnings.warn(\n",
      "\n"
     ]
    },
    {
     "name": "stdout",
     "output_type": "stream",
     "text": [
      "Validation score: 0.813167                                                                                     \n",
      "Iteration 2, loss = 0.46685181                                                                                 \n",
      "  5%|█▋                               | 5/100 [1:17:47<21:16:56, 806.48s/trial, best loss: -0.8170460653427662]"
     ]
    },
    {
     "name": "stderr",
     "output_type": "stream",
     "text": [
      "/home/jindalmadhur26/anaconda3/lib/python3.9/site-packages/sklearn/base.py:445: UserWarning: X does not have valid feature names, but MLPClassifier was fitted with feature names\n",
      "  warnings.warn(\n",
      "\n"
     ]
    },
    {
     "name": "stdout",
     "output_type": "stream",
     "text": [
      "Validation score: 0.809731                                                                                     \n",
      "Iteration 3, loss = 0.46319277                                                                                 \n",
      "  5%|█▋                               | 5/100 [1:18:55<21:16:56, 806.48s/trial, best loss: -0.8170460653427662]"
     ]
    },
    {
     "name": "stderr",
     "output_type": "stream",
     "text": [
      "/home/jindalmadhur26/anaconda3/lib/python3.9/site-packages/sklearn/base.py:445: UserWarning: X does not have valid feature names, but MLPClassifier was fitted with feature names\n",
      "  warnings.warn(\n",
      "\n"
     ]
    },
    {
     "name": "stdout",
     "output_type": "stream",
     "text": [
      "Validation score: 0.812731                                                                                     \n",
      "Iteration 4, loss = 0.46087413                                                                                 \n",
      "  5%|█▋                               | 5/100 [1:19:52<21:16:56, 806.48s/trial, best loss: -0.8170460653427662]"
     ]
    },
    {
     "name": "stderr",
     "output_type": "stream",
     "text": [
      "/home/jindalmadhur26/anaconda3/lib/python3.9/site-packages/sklearn/base.py:445: UserWarning: X does not have valid feature names, but MLPClassifier was fitted with feature names\n",
      "  warnings.warn(\n",
      "\n"
     ]
    },
    {
     "name": "stdout",
     "output_type": "stream",
     "text": [
      "Validation score: 0.815038                                                                                     \n",
      "Iteration 5, loss = 0.45896102                                                                                 \n",
      "  5%|█▋                               | 5/100 [1:20:50<21:16:56, 806.48s/trial, best loss: -0.8170460653427662]"
     ]
    },
    {
     "name": "stderr",
     "output_type": "stream",
     "text": [
      "/home/jindalmadhur26/anaconda3/lib/python3.9/site-packages/sklearn/base.py:445: UserWarning: X does not have valid feature names, but MLPClassifier was fitted with feature names\n",
      "  warnings.warn(\n",
      "\n"
     ]
    },
    {
     "name": "stdout",
     "output_type": "stream",
     "text": [
      "Validation score: 0.814192                                                                                     \n",
      "Iteration 6, loss = 0.45788350                                                                                 \n",
      "  5%|█▋                               | 5/100 [1:21:31<21:16:56, 806.48s/trial, best loss: -0.8170460653427662]"
     ]
    },
    {
     "name": "stderr",
     "output_type": "stream",
     "text": [
      "/home/jindalmadhur26/anaconda3/lib/python3.9/site-packages/sklearn/base.py:445: UserWarning: X does not have valid feature names, but MLPClassifier was fitted with feature names\n",
      "  warnings.warn(\n",
      "\n"
     ]
    },
    {
     "name": "stdout",
     "output_type": "stream",
     "text": [
      "Validation score: 0.816063                                                                                     \n",
      "Iteration 7, loss = 0.45651948                                                                                 \n",
      "  5%|█▋                               | 5/100 [1:22:13<21:16:56, 806.48s/trial, best loss: -0.8170460653427662]"
     ]
    },
    {
     "name": "stderr",
     "output_type": "stream",
     "text": [
      "/home/jindalmadhur26/anaconda3/lib/python3.9/site-packages/sklearn/base.py:445: UserWarning: X does not have valid feature names, but MLPClassifier was fitted with feature names\n",
      "  warnings.warn(\n",
      "\n"
     ]
    },
    {
     "name": "stdout",
     "output_type": "stream",
     "text": [
      "Validation score: 0.816166                                                                                     \n",
      "Iteration 8, loss = 0.45527968                                                                                 \n",
      "  5%|█▋                               | 5/100 [1:23:05<21:16:56, 806.48s/trial, best loss: -0.8170460653427662]"
     ]
    },
    {
     "name": "stderr",
     "output_type": "stream",
     "text": [
      "/home/jindalmadhur26/anaconda3/lib/python3.9/site-packages/sklearn/base.py:445: UserWarning: X does not have valid feature names, but MLPClassifier was fitted with feature names\n",
      "  warnings.warn(\n",
      "\n"
     ]
    },
    {
     "name": "stdout",
     "output_type": "stream",
     "text": [
      "Validation score: 0.815474                                                                                     \n",
      "Iteration 9, loss = 0.45428794                                                                                 \n",
      "  5%|█▋                               | 5/100 [1:23:45<21:16:56, 806.48s/trial, best loss: -0.8170460653427662]"
     ]
    },
    {
     "name": "stderr",
     "output_type": "stream",
     "text": [
      "/home/jindalmadhur26/anaconda3/lib/python3.9/site-packages/sklearn/base.py:445: UserWarning: X does not have valid feature names, but MLPClassifier was fitted with feature names\n",
      "  warnings.warn(\n",
      "\n"
     ]
    },
    {
     "name": "stdout",
     "output_type": "stream",
     "text": [
      "Validation score: 0.815602                                                                                     \n",
      "Iteration 10, loss = 0.45377212                                                                                \n",
      "  5%|█▋                               | 5/100 [1:24:27<21:16:56, 806.48s/trial, best loss: -0.8170460653427662]"
     ]
    },
    {
     "name": "stderr",
     "output_type": "stream",
     "text": [
      "/home/jindalmadhur26/anaconda3/lib/python3.9/site-packages/sklearn/base.py:445: UserWarning: X does not have valid feature names, but MLPClassifier was fitted with feature names\n",
      "  warnings.warn(\n",
      "\n"
     ]
    },
    {
     "name": "stdout",
     "output_type": "stream",
     "text": [
      "Validation score: 0.816192                                                                                     \n",
      "Iteration 11, loss = 0.45285155                                                                                \n",
      "  5%|█▋                               | 5/100 [1:25:06<21:16:56, 806.48s/trial, best loss: -0.8170460653427662]"
     ]
    },
    {
     "name": "stderr",
     "output_type": "stream",
     "text": [
      "/home/jindalmadhur26/anaconda3/lib/python3.9/site-packages/sklearn/base.py:445: UserWarning: X does not have valid feature names, but MLPClassifier was fitted with feature names\n",
      "  warnings.warn(\n",
      "\n"
     ]
    },
    {
     "name": "stdout",
     "output_type": "stream",
     "text": [
      "Validation score: 0.814987                                                                                     \n",
      "Iteration 12, loss = 0.45226471                                                                                \n",
      "  5%|█▋                               | 5/100 [1:25:31<21:16:56, 806.48s/trial, best loss: -0.8170460653427662]"
     ]
    },
    {
     "name": "stderr",
     "output_type": "stream",
     "text": [
      "/home/jindalmadhur26/anaconda3/lib/python3.9/site-packages/sklearn/base.py:445: UserWarning: X does not have valid feature names, but MLPClassifier was fitted with feature names\n",
      "  warnings.warn(\n",
      "\n"
     ]
    },
    {
     "name": "stdout",
     "output_type": "stream",
     "text": [
      "Validation score: 0.815115                                                                                     \n",
      "Iteration 13, loss = 0.45136513                                                                                \n",
      "  5%|█▋                               | 5/100 [1:26:01<21:16:56, 806.48s/trial, best loss: -0.8170460653427662]"
     ]
    },
    {
     "name": "stderr",
     "output_type": "stream",
     "text": [
      "/home/jindalmadhur26/anaconda3/lib/python3.9/site-packages/sklearn/base.py:445: UserWarning: X does not have valid feature names, but MLPClassifier was fitted with feature names\n",
      "  warnings.warn(\n",
      "\n"
     ]
    },
    {
     "name": "stdout",
     "output_type": "stream",
     "text": [
      "Validation score: 0.816115                                                                                     \n",
      "Iteration 14, loss = 0.45088322                                                                                \n",
      "  5%|█▋                               | 5/100 [1:26:25<21:16:56, 806.48s/trial, best loss: -0.8170460653427662]"
     ]
    },
    {
     "name": "stderr",
     "output_type": "stream",
     "text": [
      "/home/jindalmadhur26/anaconda3/lib/python3.9/site-packages/sklearn/base.py:445: UserWarning: X does not have valid feature names, but MLPClassifier was fitted with feature names\n",
      "  warnings.warn(\n",
      "\n"
     ]
    },
    {
     "name": "stdout",
     "output_type": "stream",
     "text": [
      "Validation score: 0.816422                                                                                     \n",
      "Iteration 15, loss = 0.45021001                                                                                \n",
      "  5%|█▋                               | 5/100 [1:26:58<21:16:56, 806.48s/trial, best loss: -0.8170460653427662]"
     ]
    },
    {
     "name": "stderr",
     "output_type": "stream",
     "text": [
      "/home/jindalmadhur26/anaconda3/lib/python3.9/site-packages/sklearn/base.py:445: UserWarning: X does not have valid feature names, but MLPClassifier was fitted with feature names\n",
      "  warnings.warn(\n",
      "\n"
     ]
    },
    {
     "name": "stdout",
     "output_type": "stream",
     "text": [
      "Validation score: 0.816140                                                                                     \n",
      "Iteration 16, loss = 0.44926438                                                                                \n",
      "  5%|█▋                               | 5/100 [1:27:48<21:16:56, 806.48s/trial, best loss: -0.8170460653427662]"
     ]
    },
    {
     "name": "stderr",
     "output_type": "stream",
     "text": [
      "/home/jindalmadhur26/anaconda3/lib/python3.9/site-packages/sklearn/base.py:445: UserWarning: X does not have valid feature names, but MLPClassifier was fitted with feature names\n",
      "  warnings.warn(\n",
      "\n"
     ]
    },
    {
     "name": "stdout",
     "output_type": "stream",
     "text": [
      "Validation score: 0.814987                                                                                     \n",
      "Iteration 17, loss = 0.44906440                                                                                \n",
      "  5%|█▋                               | 5/100 [1:28:44<21:16:56, 806.48s/trial, best loss: -0.8170460653427662]"
     ]
    },
    {
     "name": "stderr",
     "output_type": "stream",
     "text": [
      "/home/jindalmadhur26/anaconda3/lib/python3.9/site-packages/sklearn/base.py:445: UserWarning: X does not have valid feature names, but MLPClassifier was fitted with feature names\n",
      "  warnings.warn(\n",
      "\n"
     ]
    },
    {
     "name": "stdout",
     "output_type": "stream",
     "text": [
      "Validation score: 0.816217                                                                                     \n",
      "Iteration 18, loss = 0.44841285                                                                                \n",
      "  5%|█▋                               | 5/100 [1:29:30<21:16:56, 806.48s/trial, best loss: -0.8170460653427662]"
     ]
    },
    {
     "name": "stderr",
     "output_type": "stream",
     "text": [
      "/home/jindalmadhur26/anaconda3/lib/python3.9/site-packages/sklearn/base.py:445: UserWarning: X does not have valid feature names, but MLPClassifier was fitted with feature names\n",
      "  warnings.warn(\n",
      "\n"
     ]
    },
    {
     "name": "stdout",
     "output_type": "stream",
     "text": [
      "Validation score: 0.814884                                                                                     \n",
      "Iteration 19, loss = 0.44797646                                                                                \n",
      "  5%|█▋                               | 5/100 [1:30:19<21:16:56, 806.48s/trial, best loss: -0.8170460653427662]"
     ]
    },
    {
     "name": "stderr",
     "output_type": "stream",
     "text": [
      "/home/jindalmadhur26/anaconda3/lib/python3.9/site-packages/sklearn/base.py:445: UserWarning: X does not have valid feature names, but MLPClassifier was fitted with feature names\n",
      "  warnings.warn(\n",
      "\n"
     ]
    },
    {
     "name": "stdout",
     "output_type": "stream",
     "text": [
      "Validation score: 0.815474                                                                                     \n",
      "Iteration 20, loss = 0.44723300                                                                                \n",
      "  5%|█▋                               | 5/100 [1:31:14<21:16:56, 806.48s/trial, best loss: -0.8170460653427662]"
     ]
    },
    {
     "name": "stderr",
     "output_type": "stream",
     "text": [
      "/home/jindalmadhur26/anaconda3/lib/python3.9/site-packages/sklearn/base.py:445: UserWarning: X does not have valid feature names, but MLPClassifier was fitted with feature names\n",
      "  warnings.warn(\n",
      "\n"
     ]
    },
    {
     "name": "stdout",
     "output_type": "stream",
     "text": [
      "Validation score: 0.816320                                                                                     \n",
      "Iteration 21, loss = 0.44665022                                                                                \n",
      "  5%|█▋                               | 5/100 [1:31:58<21:16:56, 806.48s/trial, best loss: -0.8170460653427662]"
     ]
    },
    {
     "name": "stderr",
     "output_type": "stream",
     "text": [
      "/home/jindalmadhur26/anaconda3/lib/python3.9/site-packages/sklearn/base.py:445: UserWarning: X does not have valid feature names, but MLPClassifier was fitted with feature names\n",
      "  warnings.warn(\n",
      "\n"
     ]
    },
    {
     "name": "stdout",
     "output_type": "stream",
     "text": [
      "Validation score: 0.816909                                                                                     \n",
      "Iteration 22, loss = 0.44633967                                                                                \n",
      "  5%|█▋                               | 5/100 [1:32:40<21:16:56, 806.48s/trial, best loss: -0.8170460653427662]"
     ]
    },
    {
     "name": "stderr",
     "output_type": "stream",
     "text": [
      "/home/jindalmadhur26/anaconda3/lib/python3.9/site-packages/sklearn/base.py:445: UserWarning: X does not have valid feature names, but MLPClassifier was fitted with feature names\n",
      "  warnings.warn(\n",
      "\n"
     ]
    },
    {
     "name": "stdout",
     "output_type": "stream",
     "text": [
      "Validation score: 0.816807                                                                                     \n",
      "Iteration 23, loss = 0.44593256                                                                                \n",
      "  5%|█▋                               | 5/100 [1:33:19<21:16:56, 806.48s/trial, best loss: -0.8170460653427662]"
     ]
    },
    {
     "name": "stderr",
     "output_type": "stream",
     "text": [
      "/home/jindalmadhur26/anaconda3/lib/python3.9/site-packages/sklearn/base.py:445: UserWarning: X does not have valid feature names, but MLPClassifier was fitted with feature names\n",
      "  warnings.warn(\n",
      "\n"
     ]
    },
    {
     "name": "stdout",
     "output_type": "stream",
     "text": [
      "Validation score: 0.814295                                                                                     \n",
      "Iteration 24, loss = 0.44530008                                                                                \n",
      "  5%|█▋                               | 5/100 [1:33:57<21:16:56, 806.48s/trial, best loss: -0.8170460653427662]"
     ]
    },
    {
     "name": "stderr",
     "output_type": "stream",
     "text": [
      "/home/jindalmadhur26/anaconda3/lib/python3.9/site-packages/sklearn/base.py:445: UserWarning: X does not have valid feature names, but MLPClassifier was fitted with feature names\n",
      "  warnings.warn(\n",
      "\n"
     ]
    },
    {
     "name": "stdout",
     "output_type": "stream",
     "text": [
      "Validation score: 0.815525                                                                                     \n",
      "Iteration 25, loss = 0.44478515                                                                                \n",
      "  5%|█▋                               | 5/100 [1:34:45<21:16:56, 806.48s/trial, best loss: -0.8170460653427662]"
     ]
    },
    {
     "name": "stderr",
     "output_type": "stream",
     "text": [
      "/home/jindalmadhur26/anaconda3/lib/python3.9/site-packages/sklearn/base.py:445: UserWarning: X does not have valid feature names, but MLPClassifier was fitted with feature names\n",
      "  warnings.warn(\n",
      "\n"
     ]
    },
    {
     "name": "stdout",
     "output_type": "stream",
     "text": [
      "Validation score: 0.814295                                                                                     \n",
      "Iteration 26, loss = 0.44434222                                                                                \n",
      "  5%|█▋                               | 5/100 [1:35:24<21:16:56, 806.48s/trial, best loss: -0.8170460653427662]"
     ]
    },
    {
     "name": "stderr",
     "output_type": "stream",
     "text": [
      "/home/jindalmadhur26/anaconda3/lib/python3.9/site-packages/sklearn/base.py:445: UserWarning: X does not have valid feature names, but MLPClassifier was fitted with feature names\n",
      "  warnings.warn(\n",
      "\n"
     ]
    },
    {
     "name": "stdout",
     "output_type": "stream",
     "text": [
      "Validation score: 0.815038                                                                                     \n",
      "Iteration 27, loss = 0.44394262                                                                                \n",
      "  5%|█▋                               | 5/100 [1:35:59<21:16:56, 806.48s/trial, best loss: -0.8170460653427662]"
     ]
    },
    {
     "name": "stderr",
     "output_type": "stream",
     "text": [
      "/home/jindalmadhur26/anaconda3/lib/python3.9/site-packages/sklearn/base.py:445: UserWarning: X does not have valid feature names, but MLPClassifier was fitted with feature names\n",
      "  warnings.warn(\n",
      "\n"
     ]
    },
    {
     "name": "stdout",
     "output_type": "stream",
     "text": [
      "Validation score: 0.816345                                                                                     \n",
      "Iteration 28, loss = 0.44363538                                                                                \n",
      "  5%|█▋                               | 5/100 [1:36:39<21:16:56, 806.48s/trial, best loss: -0.8170460653427662]"
     ]
    },
    {
     "name": "stderr",
     "output_type": "stream",
     "text": [
      "/home/jindalmadhur26/anaconda3/lib/python3.9/site-packages/sklearn/base.py:445: UserWarning: X does not have valid feature names, but MLPClassifier was fitted with feature names\n",
      "  warnings.warn(\n",
      "\n"
     ]
    },
    {
     "name": "stdout",
     "output_type": "stream",
     "text": [
      "Validation score: 0.815038                                                                                     \n",
      "Iteration 29, loss = 0.44323611                                                                                \n",
      "  5%|█▋                               | 5/100 [1:37:25<21:16:56, 806.48s/trial, best loss: -0.8170460653427662]"
     ]
    },
    {
     "name": "stderr",
     "output_type": "stream",
     "text": [
      "/home/jindalmadhur26/anaconda3/lib/python3.9/site-packages/sklearn/base.py:445: UserWarning: X does not have valid feature names, but MLPClassifier was fitted with feature names\n",
      "  warnings.warn(\n",
      "\n"
     ]
    },
    {
     "name": "stdout",
     "output_type": "stream",
     "text": [
      "Validation score: 0.814833                                                                                     \n",
      "Iteration 30, loss = 0.44269169                                                                                \n",
      "  5%|█▋                               | 5/100 [1:38:11<21:16:56, 806.48s/trial, best loss: -0.8170460653427662]"
     ]
    },
    {
     "name": "stderr",
     "output_type": "stream",
     "text": [
      "/home/jindalmadhur26/anaconda3/lib/python3.9/site-packages/sklearn/base.py:445: UserWarning: X does not have valid feature names, but MLPClassifier was fitted with feature names\n",
      "  warnings.warn(\n",
      "\n"
     ]
    },
    {
     "name": "stdout",
     "output_type": "stream",
     "text": [
      "Validation score: 0.815679                                                                                     \n",
      "Iteration 31, loss = 0.44203848                                                                                \n",
      "  5%|█▋                               | 5/100 [1:38:56<21:16:56, 806.48s/trial, best loss: -0.8170460653427662]"
     ]
    },
    {
     "name": "stderr",
     "output_type": "stream",
     "text": [
      "/home/jindalmadhur26/anaconda3/lib/python3.9/site-packages/sklearn/base.py:445: UserWarning: X does not have valid feature names, but MLPClassifier was fitted with feature names\n",
      "  warnings.warn(\n",
      "\n"
     ]
    },
    {
     "name": "stdout",
     "output_type": "stream",
     "text": [
      "Validation score: 0.814628                                                                                     \n",
      "Iteration 32, loss = 0.44218324                                                                                \n",
      "  5%|█▋                               | 5/100 [1:39:39<21:16:56, 806.48s/trial, best loss: -0.8170460653427662]"
     ]
    },
    {
     "name": "stderr",
     "output_type": "stream",
     "text": [
      "/home/jindalmadhur26/anaconda3/lib/python3.9/site-packages/sklearn/base.py:445: UserWarning: X does not have valid feature names, but MLPClassifier was fitted with feature names\n",
      "  warnings.warn(\n",
      "\n"
     ]
    },
    {
     "name": "stdout",
     "output_type": "stream",
     "text": [
      "Validation score: 0.815217                                                                                     \n",
      "Validation score did not improve more than tol=0.000100 for 10 consecutive epochs. Stopping.                   \n",
      "0.8184379454260196                                                                                             \n",
      "0.8165957261356538                                                                                             \n",
      "{'activation': 'logistic', 'alpha': 2.7928703754994112e-06, 'hidden_layer_sizes': 57}                          \n",
      "Iteration 1, loss = 0.52213861                                                                                 \n",
      "  6%|█▉                              | 6/100 [1:42:01<28:08:33, 1077.80s/trial, best loss: -0.8170460653427662]"
     ]
    },
    {
     "name": "stderr",
     "output_type": "stream",
     "text": [
      "/home/jindalmadhur26/anaconda3/lib/python3.9/site-packages/sklearn/base.py:445: UserWarning: X does not have valid feature names, but MLPClassifier was fitted with feature names\n",
      "  warnings.warn(\n",
      "\n"
     ]
    },
    {
     "name": "stdout",
     "output_type": "stream",
     "text": [
      "Validation score: 0.809783                                                                                     \n",
      "Iteration 2, loss = 0.47930040                                                                                 \n",
      "  6%|█▉                              | 6/100 [1:42:19<28:08:33, 1077.80s/trial, best loss: -0.8170460653427662]"
     ]
    },
    {
     "name": "stderr",
     "output_type": "stream",
     "text": [
      "/home/jindalmadhur26/anaconda3/lib/python3.9/site-packages/sklearn/base.py:445: UserWarning: X does not have valid feature names, but MLPClassifier was fitted with feature names\n",
      "  warnings.warn(\n",
      "\n"
     ]
    },
    {
     "name": "stdout",
     "output_type": "stream",
     "text": [
      "Validation score: 0.809372                                                                                     \n",
      "Iteration 3, loss = 0.47656338                                                                                 \n",
      "  6%|█▉                              | 6/100 [1:42:45<28:08:33, 1077.80s/trial, best loss: -0.8170460653427662]"
     ]
    },
    {
     "name": "stderr",
     "output_type": "stream",
     "text": [
      "/home/jindalmadhur26/anaconda3/lib/python3.9/site-packages/sklearn/base.py:445: UserWarning: X does not have valid feature names, but MLPClassifier was fitted with feature names\n",
      "  warnings.warn(\n",
      "\n"
     ]
    },
    {
     "name": "stdout",
     "output_type": "stream",
     "text": [
      "Validation score: 0.810782                                                                                     \n",
      "Iteration 4, loss = 0.47478646                                                                                 \n",
      "  6%|█▉                              | 6/100 [1:43:29<28:08:33, 1077.80s/trial, best loss: -0.8170460653427662]"
     ]
    },
    {
     "name": "stderr",
     "output_type": "stream",
     "text": [
      "/home/jindalmadhur26/anaconda3/lib/python3.9/site-packages/sklearn/base.py:445: UserWarning: X does not have valid feature names, but MLPClassifier was fitted with feature names\n",
      "  warnings.warn(\n",
      "\n"
     ]
    },
    {
     "name": "stdout",
     "output_type": "stream",
     "text": [
      "Validation score: 0.808552                                                                                     \n",
      "Iteration 5, loss = 0.47425496                                                                                 \n",
      "  6%|█▉                              | 6/100 [1:44:09<28:08:33, 1077.80s/trial, best loss: -0.8170460653427662]"
     ]
    },
    {
     "name": "stderr",
     "output_type": "stream",
     "text": [
      "/home/jindalmadhur26/anaconda3/lib/python3.9/site-packages/sklearn/base.py:445: UserWarning: X does not have valid feature names, but MLPClassifier was fitted with feature names\n",
      "  warnings.warn(\n",
      "\n"
     ]
    },
    {
     "name": "stdout",
     "output_type": "stream",
     "text": [
      "Validation score: 0.812654                                                                                     \n",
      "Iteration 6, loss = 0.47323473                                                                                 \n",
      "  6%|█▉                              | 6/100 [1:44:49<28:08:33, 1077.80s/trial, best loss: -0.8170460653427662]"
     ]
    },
    {
     "name": "stderr",
     "output_type": "stream",
     "text": [
      "/home/jindalmadhur26/anaconda3/lib/python3.9/site-packages/sklearn/base.py:445: UserWarning: X does not have valid feature names, but MLPClassifier was fitted with feature names\n",
      "  warnings.warn(\n",
      "\n"
     ]
    },
    {
     "name": "stdout",
     "output_type": "stream",
     "text": [
      "Validation score: 0.811398                                                                                     \n",
      "Iteration 7, loss = 0.47293453                                                                                 \n",
      "  6%|█▉                              | 6/100 [1:45:29<28:08:33, 1077.80s/trial, best loss: -0.8170460653427662]"
     ]
    },
    {
     "name": "stderr",
     "output_type": "stream",
     "text": [
      "/home/jindalmadhur26/anaconda3/lib/python3.9/site-packages/sklearn/base.py:445: UserWarning: X does not have valid feature names, but MLPClassifier was fitted with feature names\n",
      "  warnings.warn(\n",
      "\n"
     ]
    },
    {
     "name": "stdout",
     "output_type": "stream",
     "text": [
      "Validation score: 0.812679                                                                                     \n",
      "Iteration 8, loss = 0.47272454                                                                                 \n",
      "  6%|█▉                              | 6/100 [1:46:11<28:08:33, 1077.80s/trial, best loss: -0.8170460653427662]"
     ]
    },
    {
     "name": "stderr",
     "output_type": "stream",
     "text": [
      "/home/jindalmadhur26/anaconda3/lib/python3.9/site-packages/sklearn/base.py:445: UserWarning: X does not have valid feature names, but MLPClassifier was fitted with feature names\n",
      "  warnings.warn(\n",
      "\n"
     ]
    },
    {
     "name": "stdout",
     "output_type": "stream",
     "text": [
      "Validation score: 0.810244                                                                                     \n",
      "Iteration 9, loss = 0.47222576                                                                                 \n",
      "  6%|█▉                              | 6/100 [1:46:55<28:08:33, 1077.80s/trial, best loss: -0.8170460653427662]"
     ]
    },
    {
     "name": "stderr",
     "output_type": "stream",
     "text": [
      "/home/jindalmadhur26/anaconda3/lib/python3.9/site-packages/sklearn/base.py:445: UserWarning: X does not have valid feature names, but MLPClassifier was fitted with feature names\n",
      "  warnings.warn(\n",
      "\n"
     ]
    },
    {
     "name": "stdout",
     "output_type": "stream",
     "text": [
      "Validation score: 0.813269                                                                                     \n",
      "Iteration 10, loss = 0.47257278                                                                                \n",
      "  6%|█▉                              | 6/100 [1:47:37<28:08:33, 1077.80s/trial, best loss: -0.8170460653427662]"
     ]
    },
    {
     "name": "stderr",
     "output_type": "stream",
     "text": [
      "/home/jindalmadhur26/anaconda3/lib/python3.9/site-packages/sklearn/base.py:445: UserWarning: X does not have valid feature names, but MLPClassifier was fitted with feature names\n",
      "  warnings.warn(\n",
      "\n"
     ]
    },
    {
     "name": "stdout",
     "output_type": "stream",
     "text": [
      "Validation score: 0.811833                                                                                     \n",
      "Iteration 11, loss = 0.47175481                                                                                \n",
      "  6%|█▉                              | 6/100 [1:48:21<28:08:33, 1077.80s/trial, best loss: -0.8170460653427662]"
     ]
    },
    {
     "name": "stderr",
     "output_type": "stream",
     "text": [
      "/home/jindalmadhur26/anaconda3/lib/python3.9/site-packages/sklearn/base.py:445: UserWarning: X does not have valid feature names, but MLPClassifier was fitted with feature names\n",
      "  warnings.warn(\n",
      "\n"
     ]
    },
    {
     "name": "stdout",
     "output_type": "stream",
     "text": [
      "Validation score: 0.811757                                                                                     \n",
      "Iteration 12, loss = 0.47177033                                                                                \n",
      "  6%|█▉                              | 6/100 [1:49:06<28:08:33, 1077.80s/trial, best loss: -0.8170460653427662]"
     ]
    },
    {
     "name": "stderr",
     "output_type": "stream",
     "text": [
      "/home/jindalmadhur26/anaconda3/lib/python3.9/site-packages/sklearn/base.py:445: UserWarning: X does not have valid feature names, but MLPClassifier was fitted with feature names\n",
      "  warnings.warn(\n",
      "\n"
     ]
    },
    {
     "name": "stdout",
     "output_type": "stream",
     "text": [
      "Validation score: 0.811654                                                                                     \n",
      "Iteration 13, loss = 0.47085931                                                                                \n",
      "  6%|█▉                              | 6/100 [1:49:50<28:08:33, 1077.80s/trial, best loss: -0.8170460653427662]"
     ]
    },
    {
     "name": "stderr",
     "output_type": "stream",
     "text": [
      "/home/jindalmadhur26/anaconda3/lib/python3.9/site-packages/sklearn/base.py:445: UserWarning: X does not have valid feature names, but MLPClassifier was fitted with feature names\n",
      "  warnings.warn(\n",
      "\n"
     ]
    },
    {
     "name": "stdout",
     "output_type": "stream",
     "text": [
      "Validation score: 0.812603                                                                                     \n",
      "Iteration 14, loss = 0.47103872                                                                                \n",
      "  6%|█▉                              | 6/100 [1:50:32<28:08:33, 1077.80s/trial, best loss: -0.8170460653427662]"
     ]
    },
    {
     "name": "stderr",
     "output_type": "stream",
     "text": [
      "/home/jindalmadhur26/anaconda3/lib/python3.9/site-packages/sklearn/base.py:445: UserWarning: X does not have valid feature names, but MLPClassifier was fitted with feature names\n",
      "  warnings.warn(\n",
      "\n"
     ]
    },
    {
     "name": "stdout",
     "output_type": "stream",
     "text": [
      "Validation score: 0.810629                                                                                     \n",
      "Iteration 15, loss = 0.47062366                                                                                \n",
      "  6%|█▉                              | 6/100 [1:51:12<28:08:33, 1077.80s/trial, best loss: -0.8170460653427662]"
     ]
    },
    {
     "name": "stderr",
     "output_type": "stream",
     "text": [
      "/home/jindalmadhur26/anaconda3/lib/python3.9/site-packages/sklearn/base.py:445: UserWarning: X does not have valid feature names, but MLPClassifier was fitted with feature names\n",
      "  warnings.warn(\n",
      "\n"
     ]
    },
    {
     "name": "stdout",
     "output_type": "stream",
     "text": [
      "Validation score: 0.812397                                                                                     \n",
      "Iteration 16, loss = 0.47063987                                                                                \n",
      "  6%|█▉                              | 6/100 [1:51:54<28:08:33, 1077.80s/trial, best loss: -0.8170460653427662]"
     ]
    },
    {
     "name": "stderr",
     "output_type": "stream",
     "text": [
      "/home/jindalmadhur26/anaconda3/lib/python3.9/site-packages/sklearn/base.py:445: UserWarning: X does not have valid feature names, but MLPClassifier was fitted with feature names\n",
      "  warnings.warn(\n",
      "\n"
     ]
    },
    {
     "name": "stdout",
     "output_type": "stream",
     "text": [
      "Validation score: 0.812372                                                                                     \n",
      "Iteration 17, loss = 0.47010691                                                                                \n",
      "  6%|█▉                              | 6/100 [1:52:37<28:08:33, 1077.80s/trial, best loss: -0.8170460653427662]"
     ]
    },
    {
     "name": "stderr",
     "output_type": "stream",
     "text": [
      "/home/jindalmadhur26/anaconda3/lib/python3.9/site-packages/sklearn/base.py:445: UserWarning: X does not have valid feature names, but MLPClassifier was fitted with feature names\n",
      "  warnings.warn(\n",
      "\n"
     ]
    },
    {
     "name": "stdout",
     "output_type": "stream",
     "text": [
      "Validation score: 0.809270                                                                                     \n",
      "Iteration 18, loss = 0.47132224                                                                                \n",
      "  6%|█▉                              | 6/100 [1:53:47<28:08:33, 1077.80s/trial, best loss: -0.8170460653427662]"
     ]
    },
    {
     "name": "stderr",
     "output_type": "stream",
     "text": [
      "/home/jindalmadhur26/anaconda3/lib/python3.9/site-packages/sklearn/base.py:445: UserWarning: X does not have valid feature names, but MLPClassifier was fitted with feature names\n",
      "  warnings.warn(\n",
      "\n"
     ]
    },
    {
     "name": "stdout",
     "output_type": "stream",
     "text": [
      "Validation score: 0.811551                                                                                     \n",
      "Iteration 19, loss = 0.47043945                                                                                \n",
      "  6%|█▉                              | 6/100 [1:54:54<28:08:33, 1077.80s/trial, best loss: -0.8170460653427662]"
     ]
    },
    {
     "name": "stderr",
     "output_type": "stream",
     "text": [
      "/home/jindalmadhur26/anaconda3/lib/python3.9/site-packages/sklearn/base.py:445: UserWarning: X does not have valid feature names, but MLPClassifier was fitted with feature names\n",
      "  warnings.warn(\n",
      "\n"
     ]
    },
    {
     "name": "stdout",
     "output_type": "stream",
     "text": [
      "Validation score: 0.812141                                                                                     \n",
      "Iteration 20, loss = 0.46982542                                                                                \n",
      "  6%|█▉                              | 6/100 [1:55:44<28:08:33, 1077.80s/trial, best loss: -0.8170460653427662]"
     ]
    },
    {
     "name": "stderr",
     "output_type": "stream",
     "text": [
      "/home/jindalmadhur26/anaconda3/lib/python3.9/site-packages/sklearn/base.py:445: UserWarning: X does not have valid feature names, but MLPClassifier was fitted with feature names\n",
      "  warnings.warn(\n",
      "\n"
     ]
    },
    {
     "name": "stdout",
     "output_type": "stream",
     "text": [
      "Validation score: 0.812705                                                                                     \n",
      "Validation score did not improve more than tol=0.000100 for 10 consecutive epochs. Stopping.                   \n",
      "0.8130671971615787                                                                                             \n",
      "0.8130801749059372                                                                                             \n",
      "{'activation': 'logistic', 'alpha': 0.027026415565235953, 'hidden_layer_sizes': 32}                            \n",
      "Iteration 1, loss = 0.56731090                                                                                 \n",
      "  7%|██▏                             | 7/100 [1:59:36<27:21:58, 1059.34s/trial, best loss: -0.8170460653427662]"
     ]
    },
    {
     "name": "stderr",
     "output_type": "stream",
     "text": [
      "/home/jindalmadhur26/anaconda3/lib/python3.9/site-packages/sklearn/base.py:445: UserWarning: X does not have valid feature names, but MLPClassifier was fitted with feature names\n",
      "  warnings.warn(\n",
      "\n"
     ]
    },
    {
     "name": "stdout",
     "output_type": "stream",
     "text": [
      "Validation score: 0.807475                                                                                     \n",
      "Iteration 2, loss = 0.47241167                                                                                 \n",
      "  7%|██▏                             | 7/100 [1:59:59<27:21:58, 1059.34s/trial, best loss: -0.8170460653427662]"
     ]
    },
    {
     "name": "stderr",
     "output_type": "stream",
     "text": [
      "/home/jindalmadhur26/anaconda3/lib/python3.9/site-packages/sklearn/base.py:445: UserWarning: X does not have valid feature names, but MLPClassifier was fitted with feature names\n",
      "  warnings.warn(\n",
      "\n"
     ]
    },
    {
     "name": "stdout",
     "output_type": "stream",
     "text": [
      "Validation score: 0.810167                                                                                     \n",
      "Iteration 3, loss = 0.46735802                                                                                 \n",
      "Validation score: 0.810449                                                                                     \n",
      "  7%|██▏                             | 7/100 [2:00:13<27:21:58, 1059.34s/trial, best loss: -0.8170460653427662]"
     ]
    },
    {
     "name": "stderr",
     "output_type": "stream",
     "text": [
      "/home/jindalmadhur26/anaconda3/lib/python3.9/site-packages/sklearn/base.py:445: UserWarning: X does not have valid feature names, but MLPClassifier was fitted with feature names\n",
      "  warnings.warn(\n",
      "\n"
     ]
    },
    {
     "name": "stdout",
     "output_type": "stream",
     "text": [
      "Iteration 4, loss = 0.46493084                                                                                 \n",
      "Validation score: 0.811064                                                                                     \n",
      "  7%|██▏                             | 7/100 [2:00:20<27:21:58, 1059.34s/trial, best loss: -0.8170460653427662]"
     ]
    },
    {
     "name": "stderr",
     "output_type": "stream",
     "text": [
      "/home/jindalmadhur26/anaconda3/lib/python3.9/site-packages/sklearn/base.py:445: UserWarning: X does not have valid feature names, but MLPClassifier was fitted with feature names\n",
      "  warnings.warn(\n",
      "\n"
     ]
    },
    {
     "name": "stdout",
     "output_type": "stream",
     "text": [
      "Iteration 5, loss = 0.46338669                                                                                 \n",
      "Validation score: 0.809449                                                                                     \n",
      "  7%|██▏                             | 7/100 [2:00:28<27:21:58, 1059.34s/trial, best loss: -0.8170460653427662]"
     ]
    },
    {
     "name": "stderr",
     "output_type": "stream",
     "text": [
      "/home/jindalmadhur26/anaconda3/lib/python3.9/site-packages/sklearn/base.py:445: UserWarning: X does not have valid feature names, but MLPClassifier was fitted with feature names\n",
      "  warnings.warn(\n",
      "\n"
     ]
    },
    {
     "name": "stdout",
     "output_type": "stream",
     "text": [
      "Iteration 6, loss = 0.46243982                                                                                 \n",
      "                                                                                                               \r"
     ]
    },
    {
     "name": "stderr",
     "output_type": "stream",
     "text": [
      "/home/jindalmadhur26/anaconda3/lib/python3.9/site-packages/sklearn/base.py:445: UserWarning: X does not have valid feature names, but MLPClassifier was fitted with feature names\n",
      "  warnings.warn(\n",
      "\n"
     ]
    },
    {
     "name": "stdout",
     "output_type": "stream",
     "text": [
      "Validation score: 0.811116\n",
      "Iteration 7, loss = 0.46152874                                                                                 \n",
      "  7%|██▏                             | 7/100 [2:00:54<27:21:58, 1059.34s/trial, best loss: -0.8170460653427662]"
     ]
    },
    {
     "name": "stderr",
     "output_type": "stream",
     "text": [
      "/home/jindalmadhur26/anaconda3/lib/python3.9/site-packages/sklearn/base.py:445: UserWarning: X does not have valid feature names, but MLPClassifier was fitted with feature names\n",
      "  warnings.warn(\n",
      "\n"
     ]
    },
    {
     "name": "stdout",
     "output_type": "stream",
     "text": [
      "Validation score: 0.809193                                                                                     \n",
      "Iteration 8, loss = 0.46116009                                                                                 \n",
      "  7%|██▏                             | 7/100 [2:01:09<27:21:58, 1059.34s/trial, best loss: -0.8170460653427662]"
     ]
    },
    {
     "name": "stderr",
     "output_type": "stream",
     "text": [
      "/home/jindalmadhur26/anaconda3/lib/python3.9/site-packages/sklearn/base.py:445: UserWarning: X does not have valid feature names, but MLPClassifier was fitted with feature names\n",
      "  warnings.warn(\n",
      "\n"
     ]
    },
    {
     "name": "stdout",
     "output_type": "stream",
     "text": [
      "Validation score: 0.811808                                                                                     \n",
      "Iteration 9, loss = 0.46056825                                                                                 \n",
      "Validation score: 0.811705                                                                                     \n",
      "  7%|██▏                             | 7/100 [2:01:22<27:21:58, 1059.34s/trial, best loss: -0.8170460653427662]"
     ]
    },
    {
     "name": "stderr",
     "output_type": "stream",
     "text": [
      "/home/jindalmadhur26/anaconda3/lib/python3.9/site-packages/sklearn/base.py:445: UserWarning: X does not have valid feature names, but MLPClassifier was fitted with feature names\n",
      "  warnings.warn(\n",
      "\n"
     ]
    },
    {
     "name": "stdout",
     "output_type": "stream",
     "text": [
      "Iteration 10, loss = 0.45994391                                                                                \n",
      "  7%|██▏                             | 7/100 [2:01:35<27:21:58, 1059.34s/trial, best loss: -0.8170460653427662]"
     ]
    },
    {
     "name": "stderr",
     "output_type": "stream",
     "text": [
      "/home/jindalmadhur26/anaconda3/lib/python3.9/site-packages/sklearn/base.py:445: UserWarning: X does not have valid feature names, but MLPClassifier was fitted with feature names\n",
      "  warnings.warn(\n",
      "\n"
     ]
    },
    {
     "name": "stdout",
     "output_type": "stream",
     "text": [
      "Validation score: 0.811577                                                                                     \n",
      "Iteration 11, loss = 0.45948908                                                                                \n",
      "  7%|██▏                             | 7/100 [2:01:51<27:21:58, 1059.34s/trial, best loss: -0.8170460653427662]"
     ]
    },
    {
     "name": "stderr",
     "output_type": "stream",
     "text": [
      "/home/jindalmadhur26/anaconda3/lib/python3.9/site-packages/sklearn/base.py:445: UserWarning: X does not have valid feature names, but MLPClassifier was fitted with feature names\n",
      "  warnings.warn(\n",
      "\n"
     ]
    },
    {
     "name": "stdout",
     "output_type": "stream",
     "text": [
      "Validation score: 0.811372                                                                                     \n",
      "Iteration 12, loss = 0.45921361                                                                                \n",
      "  7%|██▏                             | 7/100 [2:02:04<27:21:58, 1059.34s/trial, best loss: -0.8170460653427662]"
     ]
    },
    {
     "name": "stderr",
     "output_type": "stream",
     "text": [
      "/home/jindalmadhur26/anaconda3/lib/python3.9/site-packages/sklearn/base.py:445: UserWarning: X does not have valid feature names, but MLPClassifier was fitted with feature names\n",
      "  warnings.warn(\n",
      "\n"
     ]
    },
    {
     "name": "stdout",
     "output_type": "stream",
     "text": [
      "Validation score: 0.812526                                                                                     \n",
      "Iteration 13, loss = 0.45879121                                                                                \n",
      "Validation score: 0.812141                                                                                     \n",
      "  7%|██▏                             | 7/100 [2:02:28<27:21:58, 1059.34s/trial, best loss: -0.8170460653427662]"
     ]
    },
    {
     "name": "stderr",
     "output_type": "stream",
     "text": [
      "/home/jindalmadhur26/anaconda3/lib/python3.9/site-packages/sklearn/base.py:445: UserWarning: X does not have valid feature names, but MLPClassifier was fitted with feature names\n",
      "  warnings.warn(\n",
      "\n"
     ]
    },
    {
     "name": "stdout",
     "output_type": "stream",
     "text": [
      "Iteration 14, loss = 0.45842938                                                                                \n",
      "  7%|██▏                             | 7/100 [2:02:53<27:21:58, 1059.34s/trial, best loss: -0.8170460653427662]"
     ]
    },
    {
     "name": "stderr",
     "output_type": "stream",
     "text": [
      "/home/jindalmadhur26/anaconda3/lib/python3.9/site-packages/sklearn/base.py:445: UserWarning: X does not have valid feature names, but MLPClassifier was fitted with feature names\n",
      "  warnings.warn(\n",
      "\n"
     ]
    },
    {
     "name": "stdout",
     "output_type": "stream",
     "text": [
      "Validation score: 0.811962                                                                                     \n",
      "Iteration 15, loss = 0.45829956                                                                                \n",
      "  7%|██▏                             | 7/100 [2:03:21<27:21:58, 1059.34s/trial, best loss: -0.8170460653427662]"
     ]
    },
    {
     "name": "stderr",
     "output_type": "stream",
     "text": [
      "/home/jindalmadhur26/anaconda3/lib/python3.9/site-packages/sklearn/base.py:445: UserWarning: X does not have valid feature names, but MLPClassifier was fitted with feature names\n",
      "  warnings.warn(\n",
      "\n"
     ]
    },
    {
     "name": "stdout",
     "output_type": "stream",
     "text": [
      "Validation score: 0.810705                                                                                     \n",
      "Iteration 16, loss = 0.45809931                                                                                \n",
      "  7%|██▏                             | 7/100 [2:03:46<27:21:58, 1059.34s/trial, best loss: -0.8170460653427662]"
     ]
    },
    {
     "name": "stderr",
     "output_type": "stream",
     "text": [
      "/home/jindalmadhur26/anaconda3/lib/python3.9/site-packages/sklearn/base.py:445: UserWarning: X does not have valid feature names, but MLPClassifier was fitted with feature names\n",
      "  warnings.warn(\n",
      "\n"
     ]
    },
    {
     "name": "stdout",
     "output_type": "stream",
     "text": [
      "Validation score: 0.812654                                                                                     \n",
      "Iteration 17, loss = 0.45811247                                                                                \n",
      "  7%|██▏                             | 7/100 [2:04:18<27:21:58, 1059.34s/trial, best loss: -0.8170460653427662]"
     ]
    },
    {
     "name": "stderr",
     "output_type": "stream",
     "text": [
      "/home/jindalmadhur26/anaconda3/lib/python3.9/site-packages/sklearn/base.py:445: UserWarning: X does not have valid feature names, but MLPClassifier was fitted with feature names\n",
      "  warnings.warn(\n",
      "\n"
     ]
    },
    {
     "name": "stdout",
     "output_type": "stream",
     "text": [
      "Validation score: 0.810629                                                                                     \n",
      "Iteration 18, loss = 0.45763439                                                                                \n",
      "  7%|██▏                             | 7/100 [2:04:58<27:21:58, 1059.34s/trial, best loss: -0.8170460653427662]"
     ]
    },
    {
     "name": "stderr",
     "output_type": "stream",
     "text": [
      "/home/jindalmadhur26/anaconda3/lib/python3.9/site-packages/sklearn/base.py:445: UserWarning: X does not have valid feature names, but MLPClassifier was fitted with feature names\n",
      "  warnings.warn(\n",
      "\n"
     ]
    },
    {
     "name": "stdout",
     "output_type": "stream",
     "text": [
      "Validation score: 0.811987                                                                                     \n",
      "Iteration 19, loss = 0.45738706                                                                                \n",
      "  7%|██▏                             | 7/100 [2:05:33<27:21:58, 1059.34s/trial, best loss: -0.8170460653427662]"
     ]
    },
    {
     "name": "stderr",
     "output_type": "stream",
     "text": [
      "/home/jindalmadhur26/anaconda3/lib/python3.9/site-packages/sklearn/base.py:445: UserWarning: X does not have valid feature names, but MLPClassifier was fitted with feature names\n",
      "  warnings.warn(\n",
      "\n"
     ]
    },
    {
     "name": "stdout",
     "output_type": "stream",
     "text": [
      "Validation score: 0.812269                                                                                     \n",
      "Iteration 20, loss = 0.45739735                                                                                \n",
      "  7%|██▏                             | 7/100 [2:06:07<27:21:58, 1059.34s/trial, best loss: -0.8170460653427662]"
     ]
    },
    {
     "name": "stderr",
     "output_type": "stream",
     "text": [
      "/home/jindalmadhur26/anaconda3/lib/python3.9/site-packages/sklearn/base.py:445: UserWarning: X does not have valid feature names, but MLPClassifier was fitted with feature names\n",
      "  warnings.warn(\n",
      "\n"
     ]
    },
    {
     "name": "stdout",
     "output_type": "stream",
     "text": [
      "Validation score: 0.811987                                                                                     \n",
      "Iteration 21, loss = 0.45716854                                                                                \n",
      "  7%|██▏                             | 7/100 [2:06:40<27:21:58, 1059.34s/trial, best loss: -0.8170460653427662]"
     ]
    },
    {
     "name": "stderr",
     "output_type": "stream",
     "text": [
      "/home/jindalmadhur26/anaconda3/lib/python3.9/site-packages/sklearn/base.py:445: UserWarning: X does not have valid feature names, but MLPClassifier was fitted with feature names\n",
      "  warnings.warn(\n",
      "\n"
     ]
    },
    {
     "name": "stdout",
     "output_type": "stream",
     "text": [
      "Validation score: 0.811321                                                                                     \n",
      "Iteration 22, loss = 0.45702811                                                                                \n",
      "  7%|██▏                             | 7/100 [2:07:15<27:21:58, 1059.34s/trial, best loss: -0.8170460653427662]"
     ]
    },
    {
     "name": "stderr",
     "output_type": "stream",
     "text": [
      "/home/jindalmadhur26/anaconda3/lib/python3.9/site-packages/sklearn/base.py:445: UserWarning: X does not have valid feature names, but MLPClassifier was fitted with feature names\n",
      "  warnings.warn(\n",
      "\n"
     ]
    },
    {
     "name": "stdout",
     "output_type": "stream",
     "text": [
      "Validation score: 0.812705                                                                                     \n",
      "Iteration 23, loss = 0.45700987                                                                                \n",
      "  7%|██▏                             | 7/100 [2:07:49<27:21:58, 1059.34s/trial, best loss: -0.8170460653427662]"
     ]
    },
    {
     "name": "stderr",
     "output_type": "stream",
     "text": [
      "/home/jindalmadhur26/anaconda3/lib/python3.9/site-packages/sklearn/base.py:445: UserWarning: X does not have valid feature names, but MLPClassifier was fitted with feature names\n",
      "  warnings.warn(\n",
      "\n"
     ]
    },
    {
     "name": "stdout",
     "output_type": "stream",
     "text": [
      "Validation score: 0.812679                                                                                     \n",
      "Iteration 24, loss = 0.45681936                                                                                \n",
      "  7%|██▏                             | 7/100 [2:08:23<27:21:58, 1059.34s/trial, best loss: -0.8170460653427662]"
     ]
    },
    {
     "name": "stderr",
     "output_type": "stream",
     "text": [
      "/home/jindalmadhur26/anaconda3/lib/python3.9/site-packages/sklearn/base.py:445: UserWarning: X does not have valid feature names, but MLPClassifier was fitted with feature names\n",
      "  warnings.warn(\n",
      "\n"
     ]
    },
    {
     "name": "stdout",
     "output_type": "stream",
     "text": [
      "Validation score: 0.812321                                                                                     \n",
      "Iteration 25, loss = 0.45672996                                                                                \n",
      "  7%|██▏                             | 7/100 [2:08:57<27:21:58, 1059.34s/trial, best loss: -0.8170460653427662]"
     ]
    },
    {
     "name": "stderr",
     "output_type": "stream",
     "text": [
      "/home/jindalmadhur26/anaconda3/lib/python3.9/site-packages/sklearn/base.py:445: UserWarning: X does not have valid feature names, but MLPClassifier was fitted with feature names\n",
      "  warnings.warn(\n",
      "\n"
     ]
    },
    {
     "name": "stdout",
     "output_type": "stream",
     "text": [
      "Validation score: 0.811577                                                                                     \n",
      "Iteration 26, loss = 0.45651172                                                                                \n",
      "  7%|██▏                             | 7/100 [2:09:30<27:21:58, 1059.34s/trial, best loss: -0.8170460653427662]"
     ]
    },
    {
     "name": "stderr",
     "output_type": "stream",
     "text": [
      "/home/jindalmadhur26/anaconda3/lib/python3.9/site-packages/sklearn/base.py:445: UserWarning: X does not have valid feature names, but MLPClassifier was fitted with feature names\n",
      "  warnings.warn(\n",
      "\n"
     ]
    },
    {
     "name": "stdout",
     "output_type": "stream",
     "text": [
      "Validation score: 0.812987                                                                                     \n",
      "Iteration 27, loss = 0.45643023                                                                                \n",
      "  7%|██▏                             | 7/100 [2:10:01<27:21:58, 1059.34s/trial, best loss: -0.8170460653427662]"
     ]
    },
    {
     "name": "stderr",
     "output_type": "stream",
     "text": [
      "/home/jindalmadhur26/anaconda3/lib/python3.9/site-packages/sklearn/base.py:445: UserWarning: X does not have valid feature names, but MLPClassifier was fitted with feature names\n",
      "  warnings.warn(\n",
      "\n"
     ]
    },
    {
     "name": "stdout",
     "output_type": "stream",
     "text": [
      "Validation score: 0.811808                                                                                     \n",
      "Iteration 28, loss = 0.45638816                                                                                \n",
      "  7%|██▏                             | 7/100 [2:10:45<27:21:58, 1059.34s/trial, best loss: -0.8170460653427662]"
     ]
    },
    {
     "name": "stderr",
     "output_type": "stream",
     "text": [
      "/home/jindalmadhur26/anaconda3/lib/python3.9/site-packages/sklearn/base.py:445: UserWarning: X does not have valid feature names, but MLPClassifier was fitted with feature names\n",
      "  warnings.warn(\n",
      "\n"
     ]
    },
    {
     "name": "stdout",
     "output_type": "stream",
     "text": [
      "Validation score: 0.813167                                                                                     \n",
      "Iteration 29, loss = 0.45632515                                                                                \n",
      "  7%|██▏                             | 7/100 [2:11:30<27:21:58, 1059.34s/trial, best loss: -0.8170460653427662]"
     ]
    },
    {
     "name": "stderr",
     "output_type": "stream",
     "text": [
      "/home/jindalmadhur26/anaconda3/lib/python3.9/site-packages/sklearn/base.py:445: UserWarning: X does not have valid feature names, but MLPClassifier was fitted with feature names\n",
      "  warnings.warn(\n",
      "\n"
     ]
    },
    {
     "name": "stdout",
     "output_type": "stream",
     "text": [
      "Validation score: 0.811936                                                                                     \n",
      "Iteration 30, loss = 0.45636290                                                                                \n",
      "  7%|██▏                             | 7/100 [2:12:14<27:21:58, 1059.34s/trial, best loss: -0.8170460653427662]"
     ]
    },
    {
     "name": "stderr",
     "output_type": "stream",
     "text": [
      "/home/jindalmadhur26/anaconda3/lib/python3.9/site-packages/sklearn/base.py:445: UserWarning: X does not have valid feature names, but MLPClassifier was fitted with feature names\n",
      "  warnings.warn(\n",
      "\n"
     ]
    },
    {
     "name": "stdout",
     "output_type": "stream",
     "text": [
      "Validation score: 0.811987                                                                                     \n",
      "Iteration 31, loss = 0.45627571                                                                                \n",
      "  7%|██▏                             | 7/100 [2:12:53<27:21:58, 1059.34s/trial, best loss: -0.8170460653427662]"
     ]
    },
    {
     "name": "stderr",
     "output_type": "stream",
     "text": [
      "/home/jindalmadhur26/anaconda3/lib/python3.9/site-packages/sklearn/base.py:445: UserWarning: X does not have valid feature names, but MLPClassifier was fitted with feature names\n",
      "  warnings.warn(\n",
      "\n"
     ]
    },
    {
     "name": "stdout",
     "output_type": "stream",
     "text": [
      "Validation score: 0.811346                                                                                     \n",
      "Iteration 32, loss = 0.45612378                                                                                \n",
      "  7%|██▏                             | 7/100 [2:13:32<27:21:58, 1059.34s/trial, best loss: -0.8170460653427662]"
     ]
    },
    {
     "name": "stderr",
     "output_type": "stream",
     "text": [
      "/home/jindalmadhur26/anaconda3/lib/python3.9/site-packages/sklearn/base.py:445: UserWarning: X does not have valid feature names, but MLPClassifier was fitted with feature names\n",
      "  warnings.warn(\n",
      "\n"
     ]
    },
    {
     "name": "stdout",
     "output_type": "stream",
     "text": [
      "Validation score: 0.812756                                                                                     \n",
      "Iteration 33, loss = 0.45607186                                                                                \n",
      "  7%|██▏                             | 7/100 [2:14:07<27:21:58, 1059.34s/trial, best loss: -0.8170460653427662]"
     ]
    },
    {
     "name": "stderr",
     "output_type": "stream",
     "text": [
      "/home/jindalmadhur26/anaconda3/lib/python3.9/site-packages/sklearn/base.py:445: UserWarning: X does not have valid feature names, but MLPClassifier was fitted with feature names\n",
      "  warnings.warn(\n",
      "\n"
     ]
    },
    {
     "name": "stdout",
     "output_type": "stream",
     "text": [
      "Validation score: 0.810167                                                                                     \n",
      "Iteration 34, loss = 0.45605371                                                                                \n",
      "  7%|██▏                             | 7/100 [2:14:28<27:21:58, 1059.34s/trial, best loss: -0.8170460653427662]"
     ]
    },
    {
     "name": "stderr",
     "output_type": "stream",
     "text": [
      "/home/jindalmadhur26/anaconda3/lib/python3.9/site-packages/sklearn/base.py:445: UserWarning: X does not have valid feature names, but MLPClassifier was fitted with feature names\n",
      "  warnings.warn(\n",
      "\n"
     ]
    },
    {
     "name": "stdout",
     "output_type": "stream",
     "text": [
      "Validation score: 0.812756                                                                                     \n",
      "Iteration 35, loss = 0.45590572                                                                                \n",
      "  7%|██▏                             | 7/100 [2:14:47<27:21:58, 1059.34s/trial, best loss: -0.8170460653427662]"
     ]
    },
    {
     "name": "stderr",
     "output_type": "stream",
     "text": [
      "/home/jindalmadhur26/anaconda3/lib/python3.9/site-packages/sklearn/base.py:445: UserWarning: X does not have valid feature names, but MLPClassifier was fitted with feature names\n",
      "  warnings.warn(\n",
      "\n"
     ]
    },
    {
     "name": "stdout",
     "output_type": "stream",
     "text": [
      "Validation score: 0.811782                                                                                     \n",
      "Iteration 36, loss = 0.45607044                                                                                \n",
      "Validation score: 0.812885                                                                                     \n",
      "  7%|██▏                             | 7/100 [2:15:04<27:21:58, 1059.34s/trial, best loss: -0.8170460653427662]"
     ]
    },
    {
     "name": "stderr",
     "output_type": "stream",
     "text": [
      "/home/jindalmadhur26/anaconda3/lib/python3.9/site-packages/sklearn/base.py:445: UserWarning: X does not have valid feature names, but MLPClassifier was fitted with feature names\n",
      "  warnings.warn(\n",
      "\n"
     ]
    },
    {
     "name": "stdout",
     "output_type": "stream",
     "text": [
      "Iteration 37, loss = 0.45592152                                                                                \n",
      "  7%|██▏                             | 7/100 [2:15:31<27:21:58, 1059.34s/trial, best loss: -0.8170460653427662]"
     ]
    },
    {
     "name": "stderr",
     "output_type": "stream",
     "text": [
      "/home/jindalmadhur26/anaconda3/lib/python3.9/site-packages/sklearn/base.py:445: UserWarning: X does not have valid feature names, but MLPClassifier was fitted with feature names\n",
      "  warnings.warn(\n",
      "\n"
     ]
    },
    {
     "name": "stdout",
     "output_type": "stream",
     "text": [
      "Validation score: 0.812782                                                                                     \n",
      "Iteration 38, loss = 0.45598941                                                                                \n",
      "                                                                                                               \r"
     ]
    },
    {
     "name": "stderr",
     "output_type": "stream",
     "text": [
      "/home/jindalmadhur26/anaconda3/lib/python3.9/site-packages/sklearn/base.py:445: UserWarning: X does not have valid feature names, but MLPClassifier was fitted with feature names\n",
      "  warnings.warn(\n",
      "\n"
     ]
    },
    {
     "name": "stdout",
     "output_type": "stream",
     "text": [
      "Validation score: 0.813013\n",
      "Iteration 39, loss = 0.45560212                                                                                \n",
      "  7%|██▏                             | 7/100 [2:16:11<27:21:58, 1059.34s/trial, best loss: -0.8170460653427662]"
     ]
    },
    {
     "name": "stderr",
     "output_type": "stream",
     "text": [
      "/home/jindalmadhur26/anaconda3/lib/python3.9/site-packages/sklearn/base.py:445: UserWarning: X does not have valid feature names, but MLPClassifier was fitted with feature names\n",
      "  warnings.warn(\n",
      "\n"
     ]
    },
    {
     "name": "stdout",
     "output_type": "stream",
     "text": [
      "Validation score: 0.812039                                                                                     \n",
      "Validation score did not improve more than tol=0.000100 for 10 consecutive epochs. Stopping.                   \n",
      "0.8155692736800009                                                                                             \n",
      "0.8165666719932594                                                                                             \n",
      "{'activation': 'logistic', 'alpha': 0.0036472051855749883, 'hidden_layer_sizes': 3}                            \n",
      "Iteration 1, loss = 1.14429915                                                                                 \n",
      "Validation score: 0.756768                                                                                     \n",
      "  8%|██▌                             | 8/100 [2:18:39<27:54:18, 1091.94s/trial, best loss: -0.8170460653427662]"
     ]
    },
    {
     "name": "stderr",
     "output_type": "stream",
     "text": [
      "/home/jindalmadhur26/anaconda3/lib/python3.9/site-packages/sklearn/base.py:445: UserWarning: X does not have valid feature names, but MLPClassifier was fitted with feature names\n",
      "  warnings.warn(\n",
      "\n"
     ]
    },
    {
     "name": "stdout",
     "output_type": "stream",
     "text": [
      "Iteration 2, loss = 0.74154634                                                                                 \n",
      "Validation score: 0.754743                                                                                     \n",
      "  8%|██▌                             | 8/100 [2:19:00<27:54:18, 1091.94s/trial, best loss: -0.8170460653427662]"
     ]
    },
    {
     "name": "stderr",
     "output_type": "stream",
     "text": [
      "/home/jindalmadhur26/anaconda3/lib/python3.9/site-packages/sklearn/base.py:445: UserWarning: X does not have valid feature names, but MLPClassifier was fitted with feature names\n",
      "  warnings.warn(\n",
      "\n"
     ]
    },
    {
     "name": "stdout",
     "output_type": "stream",
     "text": [
      "Iteration 3, loss = 0.73865904                                                                                 \n",
      "Validation score: 0.760331                                                                                     \n",
      "  8%|██▌                             | 8/100 [2:19:23<27:54:18, 1091.94s/trial, best loss: -0.8170460653427662]"
     ]
    },
    {
     "name": "stderr",
     "output_type": "stream",
     "text": [
      "/home/jindalmadhur26/anaconda3/lib/python3.9/site-packages/sklearn/base.py:445: UserWarning: X does not have valid feature names, but MLPClassifier was fitted with feature names\n",
      "  warnings.warn(\n",
      "\n"
     ]
    },
    {
     "name": "stdout",
     "output_type": "stream",
     "text": [
      "Iteration 4, loss = 0.73731384                                                                                 \n",
      "Validation score: 0.760229                                                                                     \n",
      "  8%|██▌                             | 8/100 [2:19:38<27:54:18, 1091.94s/trial, best loss: -0.8170460653427662]"
     ]
    },
    {
     "name": "stderr",
     "output_type": "stream",
     "text": [
      "/home/jindalmadhur26/anaconda3/lib/python3.9/site-packages/sklearn/base.py:445: UserWarning: X does not have valid feature names, but MLPClassifier was fitted with feature names\n",
      "  warnings.warn(\n",
      "\n"
     ]
    },
    {
     "name": "stdout",
     "output_type": "stream",
     "text": [
      "Iteration 5, loss = 0.73691918                                                                                 \n",
      "Validation score: 0.758870                                                                                     \n",
      "  8%|██▌                             | 8/100 [2:19:52<27:54:18, 1091.94s/trial, best loss: -0.8170460653427662]"
     ]
    },
    {
     "name": "stderr",
     "output_type": "stream",
     "text": [
      "/home/jindalmadhur26/anaconda3/lib/python3.9/site-packages/sklearn/base.py:445: UserWarning: X does not have valid feature names, but MLPClassifier was fitted with feature names\n",
      "  warnings.warn(\n",
      "\n"
     ]
    },
    {
     "name": "stdout",
     "output_type": "stream",
     "text": [
      "Iteration 6, loss = 0.73628094                                                                                 \n",
      "Validation score: 0.767894                                                                                     \n",
      "  8%|██▌                             | 8/100 [2:20:04<27:54:18, 1091.94s/trial, best loss: -0.8170460653427662]"
     ]
    },
    {
     "name": "stderr",
     "output_type": "stream",
     "text": [
      "/home/jindalmadhur26/anaconda3/lib/python3.9/site-packages/sklearn/base.py:445: UserWarning: X does not have valid feature names, but MLPClassifier was fitted with feature names\n",
      "  warnings.warn(\n",
      "\n"
     ]
    },
    {
     "name": "stdout",
     "output_type": "stream",
     "text": [
      "Iteration 7, loss = 0.73587481                                                                                 \n",
      "Validation score: 0.755666                                                                                     \n",
      "  8%|██▌                             | 8/100 [2:20:35<27:54:18, 1091.94s/trial, best loss: -0.8170460653427662]"
     ]
    },
    {
     "name": "stderr",
     "output_type": "stream",
     "text": [
      "/home/jindalmadhur26/anaconda3/lib/python3.9/site-packages/sklearn/base.py:445: UserWarning: X does not have valid feature names, but MLPClassifier was fitted with feature names\n",
      "  warnings.warn(\n",
      "\n"
     ]
    },
    {
     "name": "stdout",
     "output_type": "stream",
     "text": [
      "Iteration 8, loss = 0.73569962                                                                                 \n",
      "Validation score: 0.757152                                                                                     \n",
      "  8%|██▌                             | 8/100 [2:20:52<27:54:18, 1091.94s/trial, best loss: -0.8170460653427662]"
     ]
    },
    {
     "name": "stderr",
     "output_type": "stream",
     "text": [
      "/home/jindalmadhur26/anaconda3/lib/python3.9/site-packages/sklearn/base.py:445: UserWarning: X does not have valid feature names, but MLPClassifier was fitted with feature names\n",
      "  warnings.warn(\n",
      "\n"
     ]
    },
    {
     "name": "stdout",
     "output_type": "stream",
     "text": [
      "Iteration 9, loss = 0.73556287                                                                                 \n",
      "Validation score: 0.759690                                                                                     \n",
      "  8%|██▌                             | 8/100 [2:21:07<27:54:18, 1091.94s/trial, best loss: -0.8170460653427662]"
     ]
    },
    {
     "name": "stderr",
     "output_type": "stream",
     "text": [
      "/home/jindalmadhur26/anaconda3/lib/python3.9/site-packages/sklearn/base.py:445: UserWarning: X does not have valid feature names, but MLPClassifier was fitted with feature names\n",
      "  warnings.warn(\n",
      "\n"
     ]
    },
    {
     "name": "stdout",
     "output_type": "stream",
     "text": [
      "Iteration 10, loss = 0.73539267                                                                                \n",
      "Validation score: 0.759306                                                                                     \n",
      "  8%|██▌                             | 8/100 [2:21:22<27:54:18, 1091.94s/trial, best loss: -0.8170460653427662]"
     ]
    },
    {
     "name": "stderr",
     "output_type": "stream",
     "text": [
      "/home/jindalmadhur26/anaconda3/lib/python3.9/site-packages/sklearn/base.py:445: UserWarning: X does not have valid feature names, but MLPClassifier was fitted with feature names\n",
      "  warnings.warn(\n",
      "\n"
     ]
    },
    {
     "name": "stdout",
     "output_type": "stream",
     "text": [
      "Iteration 11, loss = 0.73536725                                                                                \n",
      "Validation score: 0.760254                                                                                     \n",
      "  8%|██▌                             | 8/100 [2:21:43<27:54:18, 1091.94s/trial, best loss: -0.8170460653427662]"
     ]
    },
    {
     "name": "stderr",
     "output_type": "stream",
     "text": [
      "/home/jindalmadhur26/anaconda3/lib/python3.9/site-packages/sklearn/base.py:445: UserWarning: X does not have valid feature names, but MLPClassifier was fitted with feature names\n",
      "  warnings.warn(\n",
      "\n"
     ]
    },
    {
     "name": "stdout",
     "output_type": "stream",
     "text": [
      "Iteration 12, loss = 0.73495501                                                                                \n",
      "Validation score: 0.757024                                                                                     \n",
      "  8%|██▌                             | 8/100 [2:21:57<27:54:18, 1091.94s/trial, best loss: -0.8170460653427662]"
     ]
    },
    {
     "name": "stderr",
     "output_type": "stream",
     "text": [
      "/home/jindalmadhur26/anaconda3/lib/python3.9/site-packages/sklearn/base.py:445: UserWarning: X does not have valid feature names, but MLPClassifier was fitted with feature names\n",
      "  warnings.warn(\n",
      "\n"
     ]
    },
    {
     "name": "stdout",
     "output_type": "stream",
     "text": [
      "Iteration 13, loss = 0.73485623                                                                                \n",
      "Validation score: 0.756999                                                                                     \n",
      "  8%|██▌                             | 8/100 [2:22:09<27:54:18, 1091.94s/trial, best loss: -0.8170460653427662]"
     ]
    },
    {
     "name": "stderr",
     "output_type": "stream",
     "text": [
      "/home/jindalmadhur26/anaconda3/lib/python3.9/site-packages/sklearn/base.py:445: UserWarning: X does not have valid feature names, but MLPClassifier was fitted with feature names\n",
      "  warnings.warn(\n",
      "\n"
     ]
    },
    {
     "name": "stdout",
     "output_type": "stream",
     "text": [
      "Iteration 14, loss = 0.73461096                                                                                \n",
      "Validation score: 0.762254                                                                                     \n",
      "  8%|██▌                             | 8/100 [2:22:27<27:54:18, 1091.94s/trial, best loss: -0.8170460653427662]"
     ]
    },
    {
     "name": "stderr",
     "output_type": "stream",
     "text": [
      "/home/jindalmadhur26/anaconda3/lib/python3.9/site-packages/sklearn/base.py:445: UserWarning: X does not have valid feature names, but MLPClassifier was fitted with feature names\n",
      "  warnings.warn(\n",
      "\n"
     ]
    },
    {
     "name": "stdout",
     "output_type": "stream",
     "text": [
      "Iteration 15, loss = 0.73467809                                                                                \n",
      "Validation score: 0.769406                                                                                     \n",
      "  8%|██▌                             | 8/100 [2:22:48<27:54:18, 1091.94s/trial, best loss: -0.8170460653427662]"
     ]
    },
    {
     "name": "stderr",
     "output_type": "stream",
     "text": [
      "/home/jindalmadhur26/anaconda3/lib/python3.9/site-packages/sklearn/base.py:445: UserWarning: X does not have valid feature names, but MLPClassifier was fitted with feature names\n",
      "  warnings.warn(\n",
      "\n"
     ]
    },
    {
     "name": "stdout",
     "output_type": "stream",
     "text": [
      "Iteration 16, loss = 0.73452856                                                                                \n",
      "Validation score: 0.758844                                                                                     \n",
      "  8%|██▌                             | 8/100 [2:23:09<27:54:18, 1091.94s/trial, best loss: -0.8170460653427662]"
     ]
    },
    {
     "name": "stderr",
     "output_type": "stream",
     "text": [
      "/home/jindalmadhur26/anaconda3/lib/python3.9/site-packages/sklearn/base.py:445: UserWarning: X does not have valid feature names, but MLPClassifier was fitted with feature names\n",
      "  warnings.warn(\n",
      "\n"
     ]
    },
    {
     "name": "stdout",
     "output_type": "stream",
     "text": [
      "Iteration 17, loss = 0.73447592                                                                                \n",
      "Validation score: 0.757486                                                                                     \n",
      "  8%|██▌                             | 8/100 [2:23:29<27:54:18, 1091.94s/trial, best loss: -0.8170460653427662]"
     ]
    },
    {
     "name": "stderr",
     "output_type": "stream",
     "text": [
      "/home/jindalmadhur26/anaconda3/lib/python3.9/site-packages/sklearn/base.py:445: UserWarning: X does not have valid feature names, but MLPClassifier was fitted with feature names\n",
      "  warnings.warn(\n",
      "\n"
     ]
    },
    {
     "name": "stdout",
     "output_type": "stream",
     "text": [
      "Iteration 18, loss = 0.73425814                                                                                \n",
      "Validation score: 0.756332                                                                                     \n",
      "  8%|██▌                             | 8/100 [2:23:46<27:54:18, 1091.94s/trial, best loss: -0.8170460653427662]"
     ]
    },
    {
     "name": "stderr",
     "output_type": "stream",
     "text": [
      "/home/jindalmadhur26/anaconda3/lib/python3.9/site-packages/sklearn/base.py:445: UserWarning: X does not have valid feature names, but MLPClassifier was fitted with feature names\n",
      "  warnings.warn(\n",
      "\n"
     ]
    },
    {
     "name": "stdout",
     "output_type": "stream",
     "text": [
      "Iteration 19, loss = 0.73414167                                                                                \n",
      "Validation score: 0.763997                                                                                     \n",
      "  8%|██▌                             | 8/100 [2:24:05<27:54:18, 1091.94s/trial, best loss: -0.8170460653427662]"
     ]
    },
    {
     "name": "stderr",
     "output_type": "stream",
     "text": [
      "/home/jindalmadhur26/anaconda3/lib/python3.9/site-packages/sklearn/base.py:445: UserWarning: X does not have valid feature names, but MLPClassifier was fitted with feature names\n",
      "  warnings.warn(\n",
      "\n"
     ]
    },
    {
     "name": "stdout",
     "output_type": "stream",
     "text": [
      "Iteration 20, loss = 0.73427388                                                                                \n",
      "Validation score: 0.768817                                                                                     \n",
      "  8%|██▌                             | 8/100 [2:24:24<27:54:18, 1091.94s/trial, best loss: -0.8170460653427662]"
     ]
    },
    {
     "name": "stderr",
     "output_type": "stream",
     "text": [
      "/home/jindalmadhur26/anaconda3/lib/python3.9/site-packages/sklearn/base.py:445: UserWarning: X does not have valid feature names, but MLPClassifier was fitted with feature names\n",
      "  warnings.warn(\n",
      "\n"
     ]
    },
    {
     "name": "stdout",
     "output_type": "stream",
     "text": [
      "Iteration 21, loss = 0.73398061                                                                                \n",
      "Validation score: 0.757204                                                                                     \n",
      "  8%|██▌                             | 8/100 [2:24:43<27:54:18, 1091.94s/trial, best loss: -0.8170460653427662]"
     ]
    },
    {
     "name": "stderr",
     "output_type": "stream",
     "text": [
      "/home/jindalmadhur26/anaconda3/lib/python3.9/site-packages/sklearn/base.py:445: UserWarning: X does not have valid feature names, but MLPClassifier was fitted with feature names\n",
      "  warnings.warn(\n",
      "\n"
     ]
    },
    {
     "name": "stdout",
     "output_type": "stream",
     "text": [
      "Iteration 22, loss = 0.73421932                                                                                \n",
      "Validation score: 0.763023                                                                                     \n",
      "  8%|██▌                             | 8/100 [2:25:03<27:54:18, 1091.94s/trial, best loss: -0.8170460653427662]"
     ]
    },
    {
     "name": "stderr",
     "output_type": "stream",
     "text": [
      "/home/jindalmadhur26/anaconda3/lib/python3.9/site-packages/sklearn/base.py:445: UserWarning: X does not have valid feature names, but MLPClassifier was fitted with feature names\n",
      "  warnings.warn(\n",
      "\n"
     ]
    },
    {
     "name": "stdout",
     "output_type": "stream",
     "text": [
      "Iteration 23, loss = 0.73416375                                                                                \n",
      "Validation score: 0.763766                                                                                     \n",
      "  8%|██▌                             | 8/100 [2:25:22<27:54:18, 1091.94s/trial, best loss: -0.8170460653427662]"
     ]
    },
    {
     "name": "stderr",
     "output_type": "stream",
     "text": [
      "/home/jindalmadhur26/anaconda3/lib/python3.9/site-packages/sklearn/base.py:445: UserWarning: X does not have valid feature names, but MLPClassifier was fitted with feature names\n",
      "  warnings.warn(\n",
      "\n"
     ]
    },
    {
     "name": "stdout",
     "output_type": "stream",
     "text": [
      "Iteration 24, loss = 0.73387142                                                                                \n",
      "Validation score: 0.767227                                                                                     \n",
      "  8%|██▌                             | 8/100 [2:25:41<27:54:18, 1091.94s/trial, best loss: -0.8170460653427662]"
     ]
    },
    {
     "name": "stderr",
     "output_type": "stream",
     "text": [
      "/home/jindalmadhur26/anaconda3/lib/python3.9/site-packages/sklearn/base.py:445: UserWarning: X does not have valid feature names, but MLPClassifier was fitted with feature names\n",
      "  warnings.warn(\n",
      "\n"
     ]
    },
    {
     "name": "stdout",
     "output_type": "stream",
     "text": [
      "Iteration 25, loss = 0.73407528                                                                                \n",
      "Validation score: 0.767894                                                                                     \n",
      "  8%|██▌                             | 8/100 [2:26:01<27:54:18, 1091.94s/trial, best loss: -0.8170460653427662]"
     ]
    },
    {
     "name": "stderr",
     "output_type": "stream",
     "text": [
      "/home/jindalmadhur26/anaconda3/lib/python3.9/site-packages/sklearn/base.py:445: UserWarning: X does not have valid feature names, but MLPClassifier was fitted with feature names\n",
      "  warnings.warn(\n",
      "\n"
     ]
    },
    {
     "name": "stdout",
     "output_type": "stream",
     "text": [
      "Iteration 26, loss = 0.73374499                                                                                \n",
      "Validation score: 0.768304                                                                                     \n",
      "Validation score did not improve more than tol=0.000100 for 10 consecutive epochs. Stopping.                   \n",
      "  8%|██▌                             | 8/100 [2:26:20<27:54:18, 1091.94s/trial, best loss: -0.8170460653427662]"
     ]
    },
    {
     "name": "stderr",
     "output_type": "stream",
     "text": [
      "/home/jindalmadhur26/anaconda3/lib/python3.9/site-packages/sklearn/base.py:445: UserWarning: X does not have valid feature names, but MLPClassifier was fitted with feature names\n",
      "  warnings.warn(\n",
      "\n"
     ]
    },
    {
     "name": "stdout",
     "output_type": "stream",
     "text": [
      "0.7676709154113557                                                                                             \n",
      "0.7676540232723681                                                                                             \n",
      "{'activation': 'relu', 'alpha': 40.238536236613925, 'hidden_layer_sizes': 19}                                  \n",
      "Iteration 1, loss = 0.52920929                                                                                 \n",
      "Validation score: 0.809167                                                                                     \n",
      "  9%|██▉                              | 9/100 [2:28:45<23:46:26, 940.51s/trial, best loss: -0.8170460653427662]"
     ]
    },
    {
     "name": "stderr",
     "output_type": "stream",
     "text": [
      "/home/jindalmadhur26/anaconda3/lib/python3.9/site-packages/sklearn/base.py:445: UserWarning: X does not have valid feature names, but MLPClassifier was fitted with feature names\n",
      "  warnings.warn(\n",
      "\n"
     ]
    },
    {
     "name": "stdout",
     "output_type": "stream",
     "text": [
      "Iteration 2, loss = 0.46962060                                                                                 \n",
      "  9%|██▉                              | 9/100 [2:29:05<23:46:26, 940.51s/trial, best loss: -0.8170460653427662]"
     ]
    },
    {
     "name": "stderr",
     "output_type": "stream",
     "text": [
      "/home/jindalmadhur26/anaconda3/lib/python3.9/site-packages/sklearn/base.py:445: UserWarning: X does not have valid feature names, but MLPClassifier was fitted with feature names\n",
      "  warnings.warn(\n",
      "\n"
     ]
    },
    {
     "name": "stdout",
     "output_type": "stream",
     "text": [
      "Validation score: 0.813474                                                                                     \n",
      "Iteration 3, loss = 0.46503164                                                                                 \n",
      "  9%|██▉                              | 9/100 [2:29:28<23:46:26, 940.51s/trial, best loss: -0.8170460653427662]"
     ]
    },
    {
     "name": "stderr",
     "output_type": "stream",
     "text": [
      "/home/jindalmadhur26/anaconda3/lib/python3.9/site-packages/sklearn/base.py:445: UserWarning: X does not have valid feature names, but MLPClassifier was fitted with feature names\n",
      "  warnings.warn(\n",
      "\n"
     ]
    },
    {
     "name": "stdout",
     "output_type": "stream",
     "text": [
      "Validation score: 0.812500                                                                                     \n",
      "Iteration 4, loss = 0.46293676                                                                                 \n",
      "  9%|██▉                              | 9/100 [2:29:44<23:46:26, 940.51s/trial, best loss: -0.8170460653427662]"
     ]
    },
    {
     "name": "stderr",
     "output_type": "stream",
     "text": [
      "/home/jindalmadhur26/anaconda3/lib/python3.9/site-packages/sklearn/base.py:445: UserWarning: X does not have valid feature names, but MLPClassifier was fitted with feature names\n",
      "  warnings.warn(\n",
      "\n"
     ]
    },
    {
     "name": "stdout",
     "output_type": "stream",
     "text": [
      "Validation score: 0.810270                                                                                     \n",
      "Iteration 5, loss = 0.46105565                                                                                 \n",
      "  9%|██▉                              | 9/100 [2:30:00<23:46:26, 940.51s/trial, best loss: -0.8170460653427662]"
     ]
    },
    {
     "name": "stderr",
     "output_type": "stream",
     "text": [
      "/home/jindalmadhur26/anaconda3/lib/python3.9/site-packages/sklearn/base.py:445: UserWarning: X does not have valid feature names, but MLPClassifier was fitted with feature names\n",
      "  warnings.warn(\n",
      "\n"
     ]
    },
    {
     "name": "stdout",
     "output_type": "stream",
     "text": [
      "Validation score: 0.815346                                                                                     \n",
      "Iteration 6, loss = 0.45972100                                                                                 \n",
      "Validation score: 0.816115                                                                                     \n",
      "  9%|██▉                              | 9/100 [2:30:17<23:46:26, 940.51s/trial, best loss: -0.8170460653427662]"
     ]
    },
    {
     "name": "stderr",
     "output_type": "stream",
     "text": [
      "/home/jindalmadhur26/anaconda3/lib/python3.9/site-packages/sklearn/base.py:445: UserWarning: X does not have valid feature names, but MLPClassifier was fitted with feature names\n",
      "  warnings.warn(\n",
      "\n"
     ]
    },
    {
     "name": "stdout",
     "output_type": "stream",
     "text": [
      "Iteration 7, loss = 0.45884317                                                                                 \n",
      "Validation score: 0.814371                                                                                     \n",
      "  9%|██▉                              | 9/100 [2:30:41<23:46:26, 940.51s/trial, best loss: -0.8170460653427662]"
     ]
    },
    {
     "name": "stderr",
     "output_type": "stream",
     "text": [
      "/home/jindalmadhur26/anaconda3/lib/python3.9/site-packages/sklearn/base.py:445: UserWarning: X does not have valid feature names, but MLPClassifier was fitted with feature names\n",
      "  warnings.warn(\n",
      "\n"
     ]
    },
    {
     "name": "stdout",
     "output_type": "stream",
     "text": [
      "Iteration 8, loss = 0.45770509                                                                                 \n",
      "  9%|██▉                              | 9/100 [2:31:03<23:46:26, 940.51s/trial, best loss: -0.8170460653427662]"
     ]
    },
    {
     "name": "stderr",
     "output_type": "stream",
     "text": [
      "/home/jindalmadhur26/anaconda3/lib/python3.9/site-packages/sklearn/base.py:445: UserWarning: X does not have valid feature names, but MLPClassifier was fitted with feature names\n",
      "  warnings.warn(\n",
      "\n"
     ]
    },
    {
     "name": "stdout",
     "output_type": "stream",
     "text": [
      "Validation score: 0.816063                                                                                     \n",
      "Iteration 9, loss = 0.45715143                                                                                 \n",
      "Validation score: 0.815064                                                                                     \n",
      "  9%|██▉                              | 9/100 [2:31:25<23:46:26, 940.51s/trial, best loss: -0.8170460653427662]"
     ]
    },
    {
     "name": "stderr",
     "output_type": "stream",
     "text": [
      "/home/jindalmadhur26/anaconda3/lib/python3.9/site-packages/sklearn/base.py:445: UserWarning: X does not have valid feature names, but MLPClassifier was fitted with feature names\n",
      "  warnings.warn(\n",
      "\n"
     ]
    },
    {
     "name": "stdout",
     "output_type": "stream",
     "text": [
      "Iteration 10, loss = 0.45645553                                                                                \n",
      "  9%|██▉                              | 9/100 [2:31:44<23:46:26, 940.51s/trial, best loss: -0.8170460653427662]"
     ]
    },
    {
     "name": "stderr",
     "output_type": "stream",
     "text": [
      "/home/jindalmadhur26/anaconda3/lib/python3.9/site-packages/sklearn/base.py:445: UserWarning: X does not have valid feature names, but MLPClassifier was fitted with feature names\n",
      "  warnings.warn(\n",
      "\n"
     ]
    },
    {
     "name": "stdout",
     "output_type": "stream",
     "text": [
      "Validation score: 0.815192                                                                                     \n",
      "Iteration 11, loss = 0.45568163                                                                                \n",
      "  9%|██▉                              | 9/100 [2:32:04<23:46:26, 940.51s/trial, best loss: -0.8170460653427662]"
     ]
    },
    {
     "name": "stderr",
     "output_type": "stream",
     "text": [
      "/home/jindalmadhur26/anaconda3/lib/python3.9/site-packages/sklearn/base.py:445: UserWarning: X does not have valid feature names, but MLPClassifier was fitted with feature names\n",
      "  warnings.warn(\n",
      "\n"
     ]
    },
    {
     "name": "stdout",
     "output_type": "stream",
     "text": [
      "Validation score: 0.815961                                                                                     \n",
      "Iteration 12, loss = 0.45540761                                                                                \n",
      "  9%|██▉                              | 9/100 [2:32:21<23:46:26, 940.51s/trial, best loss: -0.8170460653427662]"
     ]
    },
    {
     "name": "stderr",
     "output_type": "stream",
     "text": [
      "/home/jindalmadhur26/anaconda3/lib/python3.9/site-packages/sklearn/base.py:445: UserWarning: X does not have valid feature names, but MLPClassifier was fitted with feature names\n",
      "  warnings.warn(\n",
      "\n"
     ]
    },
    {
     "name": "stdout",
     "output_type": "stream",
     "text": [
      "Validation score: 0.816756                                                                                     \n",
      "Iteration 13, loss = 0.45466765                                                                                \n",
      "Validation score: 0.815628                                                                                     \n",
      "  9%|██▉                              | 9/100 [2:32:37<23:46:26, 940.51s/trial, best loss: -0.8170460653427662]"
     ]
    },
    {
     "name": "stderr",
     "output_type": "stream",
     "text": [
      "/home/jindalmadhur26/anaconda3/lib/python3.9/site-packages/sklearn/base.py:445: UserWarning: X does not have valid feature names, but MLPClassifier was fitted with feature names\n",
      "  warnings.warn(\n",
      "\n"
     ]
    },
    {
     "name": "stdout",
     "output_type": "stream",
     "text": [
      "Iteration 14, loss = 0.45409768                                                                                \n",
      "Validation score: 0.817345                                                                                     \n",
      "  9%|██▉                              | 9/100 [2:32:49<23:46:26, 940.51s/trial, best loss: -0.8170460653427662]"
     ]
    },
    {
     "name": "stderr",
     "output_type": "stream",
     "text": [
      "/home/jindalmadhur26/anaconda3/lib/python3.9/site-packages/sklearn/base.py:445: UserWarning: X does not have valid feature names, but MLPClassifier was fitted with feature names\n",
      "  warnings.warn(\n",
      "\n"
     ]
    },
    {
     "name": "stdout",
     "output_type": "stream",
     "text": [
      "Iteration 15, loss = 0.45403038                                                                                \n",
      "Validation score: 0.817371                                                                                     \n",
      "  9%|██▉                              | 9/100 [2:33:01<23:46:26, 940.51s/trial, best loss: -0.8170460653427662]"
     ]
    },
    {
     "name": "stderr",
     "output_type": "stream",
     "text": [
      "/home/jindalmadhur26/anaconda3/lib/python3.9/site-packages/sklearn/base.py:445: UserWarning: X does not have valid feature names, but MLPClassifier was fitted with feature names\n",
      "  warnings.warn(\n",
      "\n"
     ]
    },
    {
     "name": "stdout",
     "output_type": "stream",
     "text": [
      "Iteration 16, loss = 0.45339118                                                                                \n",
      "                                                                                                               \r"
     ]
    },
    {
     "name": "stderr",
     "output_type": "stream",
     "text": [
      "/home/jindalmadhur26/anaconda3/lib/python3.9/site-packages/sklearn/base.py:445: UserWarning: X does not have valid feature names, but MLPClassifier was fitted with feature names\n",
      "  warnings.warn(\n",
      "\n"
     ]
    },
    {
     "name": "stdout",
     "output_type": "stream",
     "text": [
      "Validation score: 0.816884\n",
      "Iteration 17, loss = 0.45327636                                                                                \n",
      "Validation score: 0.816807                                                                                     \n",
      "  9%|██▉                              | 9/100 [2:33:30<23:46:26, 940.51s/trial, best loss: -0.8170460653427662]"
     ]
    },
    {
     "name": "stderr",
     "output_type": "stream",
     "text": [
      "/home/jindalmadhur26/anaconda3/lib/python3.9/site-packages/sklearn/base.py:445: UserWarning: X does not have valid feature names, but MLPClassifier was fitted with feature names\n",
      "  warnings.warn(\n",
      "\n"
     ]
    },
    {
     "name": "stdout",
     "output_type": "stream",
     "text": [
      "Iteration 18, loss = 0.45267349                                                                                \n",
      "Validation score: 0.816499                                                                                     \n",
      "  9%|██▉                              | 9/100 [2:33:43<23:46:26, 940.51s/trial, best loss: -0.8170460653427662]"
     ]
    },
    {
     "name": "stderr",
     "output_type": "stream",
     "text": [
      "/home/jindalmadhur26/anaconda3/lib/python3.9/site-packages/sklearn/base.py:445: UserWarning: X does not have valid feature names, but MLPClassifier was fitted with feature names\n",
      "  warnings.warn(\n",
      "\n"
     ]
    },
    {
     "name": "stdout",
     "output_type": "stream",
     "text": [
      "Iteration 19, loss = 0.45253894                                                                                \n",
      "Validation score: 0.816422                                                                                     \n",
      "  9%|██▉                              | 9/100 [2:33:57<23:46:26, 940.51s/trial, best loss: -0.8170460653427662]"
     ]
    },
    {
     "name": "stderr",
     "output_type": "stream",
     "text": [
      "/home/jindalmadhur26/anaconda3/lib/python3.9/site-packages/sklearn/base.py:445: UserWarning: X does not have valid feature names, but MLPClassifier was fitted with feature names\n",
      "  warnings.warn(\n",
      "\n"
     ]
    },
    {
     "name": "stdout",
     "output_type": "stream",
     "text": [
      "Iteration 20, loss = 0.45213466                                                                                \n",
      "Validation score: 0.816140                                                                                     \n",
      "  9%|██▉                              | 9/100 [2:34:09<23:46:26, 940.51s/trial, best loss: -0.8170460653427662]"
     ]
    },
    {
     "name": "stderr",
     "output_type": "stream",
     "text": [
      "/home/jindalmadhur26/anaconda3/lib/python3.9/site-packages/sklearn/base.py:445: UserWarning: X does not have valid feature names, but MLPClassifier was fitted with feature names\n",
      "  warnings.warn(\n",
      "\n"
     ]
    },
    {
     "name": "stdout",
     "output_type": "stream",
     "text": [
      "Iteration 21, loss = 0.45173583                                                                                \n",
      "  9%|██▉                              | 9/100 [2:34:23<23:46:26, 940.51s/trial, best loss: -0.8170460653427662]"
     ]
    },
    {
     "name": "stderr",
     "output_type": "stream",
     "text": [
      "/home/jindalmadhur26/anaconda3/lib/python3.9/site-packages/sklearn/base.py:445: UserWarning: X does not have valid feature names, but MLPClassifier was fitted with feature names\n",
      "  warnings.warn(\n",
      "\n"
     ]
    },
    {
     "name": "stdout",
     "output_type": "stream",
     "text": [
      "Validation score: 0.817114                                                                                     \n",
      "Iteration 22, loss = 0.45144003                                                                                \n",
      "Validation score: 0.817576                                                                                     \n",
      "  9%|██▉                              | 9/100 [2:34:37<23:46:26, 940.51s/trial, best loss: -0.8170460653427662]"
     ]
    },
    {
     "name": "stderr",
     "output_type": "stream",
     "text": [
      "/home/jindalmadhur26/anaconda3/lib/python3.9/site-packages/sklearn/base.py:445: UserWarning: X does not have valid feature names, but MLPClassifier was fitted with feature names\n",
      "  warnings.warn(\n",
      "\n"
     ]
    },
    {
     "name": "stdout",
     "output_type": "stream",
     "text": [
      "Iteration 23, loss = 0.45146405                                                                                \n",
      "Validation score: 0.816474                                                                                     \n",
      "  9%|██▉                              | 9/100 [2:34:47<23:46:26, 940.51s/trial, best loss: -0.8170460653427662]"
     ]
    },
    {
     "name": "stderr",
     "output_type": "stream",
     "text": [
      "/home/jindalmadhur26/anaconda3/lib/python3.9/site-packages/sklearn/base.py:445: UserWarning: X does not have valid feature names, but MLPClassifier was fitted with feature names\n",
      "  warnings.warn(\n",
      "\n"
     ]
    },
    {
     "name": "stdout",
     "output_type": "stream",
     "text": [
      "Iteration 24, loss = 0.45107488                                                                                \n",
      "Validation score: 0.816781                                                                                     \n",
      "  9%|██▉                              | 9/100 [2:34:58<23:46:26, 940.51s/trial, best loss: -0.8170460653427662]"
     ]
    },
    {
     "name": "stderr",
     "output_type": "stream",
     "text": [
      "/home/jindalmadhur26/anaconda3/lib/python3.9/site-packages/sklearn/base.py:445: UserWarning: X does not have valid feature names, but MLPClassifier was fitted with feature names\n",
      "  warnings.warn(\n",
      "\n"
     ]
    },
    {
     "name": "stdout",
     "output_type": "stream",
     "text": [
      "Iteration 25, loss = 0.45058400                                                                                \n",
      "  9%|██▉                              | 9/100 [2:35:10<23:46:26, 940.51s/trial, best loss: -0.8170460653427662]"
     ]
    },
    {
     "name": "stderr",
     "output_type": "stream",
     "text": [
      "/home/jindalmadhur26/anaconda3/lib/python3.9/site-packages/sklearn/base.py:445: UserWarning: X does not have valid feature names, but MLPClassifier was fitted with feature names\n",
      "  warnings.warn(\n",
      "\n"
     ]
    },
    {
     "name": "stdout",
     "output_type": "stream",
     "text": [
      "Validation score: 0.816858                                                                                     \n",
      "Iteration 26, loss = 0.45070339                                                                                \n",
      "  9%|██▉                              | 9/100 [2:35:28<23:46:26, 940.51s/trial, best loss: -0.8170460653427662]"
     ]
    },
    {
     "name": "stderr",
     "output_type": "stream",
     "text": [
      "/home/jindalmadhur26/anaconda3/lib/python3.9/site-packages/sklearn/base.py:445: UserWarning: X does not have valid feature names, but MLPClassifier was fitted with feature names\n",
      "  warnings.warn(\n",
      "\n"
     ]
    },
    {
     "name": "stdout",
     "output_type": "stream",
     "text": [
      "Validation score: 0.815961                                                                                     \n",
      "Iteration 27, loss = 0.45025986                                                                                \n",
      "Validation score: 0.816474                                                                                     \n",
      "  9%|██▉                              | 9/100 [2:35:44<23:46:26, 940.51s/trial, best loss: -0.8170460653427662]"
     ]
    },
    {
     "name": "stderr",
     "output_type": "stream",
     "text": [
      "/home/jindalmadhur26/anaconda3/lib/python3.9/site-packages/sklearn/base.py:445: UserWarning: X does not have valid feature names, but MLPClassifier was fitted with feature names\n",
      "  warnings.warn(\n",
      "\n"
     ]
    },
    {
     "name": "stdout",
     "output_type": "stream",
     "text": [
      "Iteration 28, loss = 0.45000647                                                                                \n",
      "  9%|██▉                              | 9/100 [2:35:58<23:46:26, 940.51s/trial, best loss: -0.8170460653427662]"
     ]
    },
    {
     "name": "stderr",
     "output_type": "stream",
     "text": [
      "/home/jindalmadhur26/anaconda3/lib/python3.9/site-packages/sklearn/base.py:445: UserWarning: X does not have valid feature names, but MLPClassifier was fitted with feature names\n",
      "  warnings.warn(\n",
      "\n"
     ]
    },
    {
     "name": "stdout",
     "output_type": "stream",
     "text": [
      "Validation score: 0.815986                                                                                     \n",
      "Iteration 29, loss = 0.44978930                                                                                \n",
      "Validation score: 0.817371                                                                                     \n",
      "  9%|██▉                              | 9/100 [2:36:14<23:46:26, 940.51s/trial, best loss: -0.8170460653427662]"
     ]
    },
    {
     "name": "stderr",
     "output_type": "stream",
     "text": [
      "/home/jindalmadhur26/anaconda3/lib/python3.9/site-packages/sklearn/base.py:445: UserWarning: X does not have valid feature names, but MLPClassifier was fitted with feature names\n",
      "  warnings.warn(\n",
      "\n"
     ]
    },
    {
     "name": "stdout",
     "output_type": "stream",
     "text": [
      "Iteration 30, loss = 0.44996244                                                                                \n",
      "Validation score: 0.815858                                                                                     \n",
      "  9%|██▉                              | 9/100 [2:36:29<23:46:26, 940.51s/trial, best loss: -0.8170460653427662]"
     ]
    },
    {
     "name": "stderr",
     "output_type": "stream",
     "text": [
      "/home/jindalmadhur26/anaconda3/lib/python3.9/site-packages/sklearn/base.py:445: UserWarning: X does not have valid feature names, but MLPClassifier was fitted with feature names\n",
      "  warnings.warn(\n",
      "\n"
     ]
    },
    {
     "name": "stdout",
     "output_type": "stream",
     "text": [
      "Iteration 31, loss = 0.44970012                                                                                \n",
      "                                                                                                               \r"
     ]
    },
    {
     "name": "stderr",
     "output_type": "stream",
     "text": [
      "/home/jindalmadhur26/anaconda3/lib/python3.9/site-packages/sklearn/base.py:445: UserWarning: X does not have valid feature names, but MLPClassifier was fitted with feature names\n",
      "  warnings.warn(\n",
      "\n"
     ]
    },
    {
     "name": "stdout",
     "output_type": "stream",
     "text": [
      "Validation score: 0.816961\n",
      "Iteration 32, loss = 0.44943888                                                                                \n",
      "  9%|██▉                              | 9/100 [2:36:55<23:46:26, 940.51s/trial, best loss: -0.8170460653427662]"
     ]
    },
    {
     "name": "stderr",
     "output_type": "stream",
     "text": [
      "/home/jindalmadhur26/anaconda3/lib/python3.9/site-packages/sklearn/base.py:445: UserWarning: X does not have valid feature names, but MLPClassifier was fitted with feature names\n",
      "  warnings.warn(\n",
      "\n"
     ]
    },
    {
     "name": "stdout",
     "output_type": "stream",
     "text": [
      "Validation score: 0.817371                                                                                     \n",
      "Iteration 33, loss = 0.44928808                                                                                \n",
      "  9%|██▉                              | 9/100 [2:37:08<23:46:26, 940.51s/trial, best loss: -0.8170460653427662]"
     ]
    },
    {
     "name": "stderr",
     "output_type": "stream",
     "text": [
      "/home/jindalmadhur26/anaconda3/lib/python3.9/site-packages/sklearn/base.py:445: UserWarning: X does not have valid feature names, but MLPClassifier was fitted with feature names\n",
      "  warnings.warn(\n",
      "\n"
     ]
    },
    {
     "name": "stdout",
     "output_type": "stream",
     "text": [
      "Validation score: 0.817038                                                                                     \n",
      "Validation score did not improve more than tol=0.000100 for 10 consecutive epochs. Stopping.                   \n",
      "0.8168972200289174                                                                                             \n",
      "0.8171041736275549                                                                                             \n",
      "{'activation': 'logistic', 'alpha': 3.3308411496223804e-06, 'hidden_layer_sizes': 6}                           \n",
      "Iteration 1, loss = 0.94446631                                                                                 \n",
      "Validation score: 0.785711                                                                                     \n",
      " 10%|███▏                            | 10/100 [2:39:07<21:15:51, 850.57s/trial, best loss: -0.8171041736275549]"
     ]
    },
    {
     "name": "stderr",
     "output_type": "stream",
     "text": [
      "/home/jindalmadhur26/anaconda3/lib/python3.9/site-packages/sklearn/base.py:445: UserWarning: X does not have valid feature names, but MLPClassifier was fitted with feature names\n",
      "  warnings.warn(\n",
      "\n"
     ]
    },
    {
     "name": "stdout",
     "output_type": "stream",
     "text": [
      "Iteration 2, loss = 0.64894797                                                                                 \n",
      "Validation score: 0.778840                                                                                     \n",
      " 10%|███▏                            | 10/100 [2:39:19<21:15:51, 850.57s/trial, best loss: -0.8171041736275549]"
     ]
    },
    {
     "name": "stderr",
     "output_type": "stream",
     "text": [
      "/home/jindalmadhur26/anaconda3/lib/python3.9/site-packages/sklearn/base.py:445: UserWarning: X does not have valid feature names, but MLPClassifier was fitted with feature names\n",
      "  warnings.warn(\n",
      "\n"
     ]
    },
    {
     "name": "stdout",
     "output_type": "stream",
     "text": [
      "Iteration 3, loss = 0.64522980                                                                                 \n",
      "Validation score: 0.783916                                                                                     \n",
      " 10%|███▏                            | 10/100 [2:39:29<21:15:51, 850.57s/trial, best loss: -0.8171041736275549]"
     ]
    },
    {
     "name": "stderr",
     "output_type": "stream",
     "text": [
      "/home/jindalmadhur26/anaconda3/lib/python3.9/site-packages/sklearn/base.py:445: UserWarning: X does not have valid feature names, but MLPClassifier was fitted with feature names\n",
      "  warnings.warn(\n",
      "\n"
     ]
    },
    {
     "name": "stdout",
     "output_type": "stream",
     "text": [
      "Iteration 4, loss = 0.64317685                                                                                 \n",
      "Validation score: 0.781558                                                                                     \n",
      " 10%|███▏                            | 10/100 [2:39:39<21:15:51, 850.57s/trial, best loss: -0.8171041736275549]"
     ]
    },
    {
     "name": "stderr",
     "output_type": "stream",
     "text": [
      "/home/jindalmadhur26/anaconda3/lib/python3.9/site-packages/sklearn/base.py:445: UserWarning: X does not have valid feature names, but MLPClassifier was fitted with feature names\n",
      "  warnings.warn(\n",
      "\n"
     ]
    },
    {
     "name": "stdout",
     "output_type": "stream",
     "text": [
      "Iteration 5, loss = 0.64191186                                                                                 \n",
      "Validation score: 0.781917                                                                                     \n",
      " 10%|███▏                            | 10/100 [2:39:48<21:15:51, 850.57s/trial, best loss: -0.8171041736275549]"
     ]
    },
    {
     "name": "stderr",
     "output_type": "stream",
     "text": [
      "/home/jindalmadhur26/anaconda3/lib/python3.9/site-packages/sklearn/base.py:445: UserWarning: X does not have valid feature names, but MLPClassifier was fitted with feature names\n",
      "  warnings.warn(\n",
      "\n"
     ]
    },
    {
     "name": "stdout",
     "output_type": "stream",
     "text": [
      "Iteration 6, loss = 0.64066281                                                                                 \n",
      "Validation score: 0.780558                                                                                     \n",
      " 10%|███▏                            | 10/100 [2:39:57<21:15:51, 850.57s/trial, best loss: -0.8171041736275549]"
     ]
    },
    {
     "name": "stderr",
     "output_type": "stream",
     "text": [
      "/home/jindalmadhur26/anaconda3/lib/python3.9/site-packages/sklearn/base.py:445: UserWarning: X does not have valid feature names, but MLPClassifier was fitted with feature names\n",
      "  warnings.warn(\n",
      "\n"
     ]
    },
    {
     "name": "stdout",
     "output_type": "stream",
     "text": [
      "Iteration 7, loss = 0.63981376                                                                                 \n",
      "Validation score: 0.782327                                                                                     \n",
      " 10%|███▏                            | 10/100 [2:40:06<21:15:51, 850.57s/trial, best loss: -0.8171041736275549]"
     ]
    },
    {
     "name": "stderr",
     "output_type": "stream",
     "text": [
      "/home/jindalmadhur26/anaconda3/lib/python3.9/site-packages/sklearn/base.py:445: UserWarning: X does not have valid feature names, but MLPClassifier was fitted with feature names\n",
      "  warnings.warn(\n",
      "\n"
     ]
    },
    {
     "name": "stdout",
     "output_type": "stream",
     "text": [
      "Iteration 8, loss = 0.63920395                                                                                 \n",
      "Validation score: 0.784172                                                                                     \n",
      " 10%|███▏                            | 10/100 [2:40:14<21:15:51, 850.57s/trial, best loss: -0.8171041736275549]"
     ]
    },
    {
     "name": "stderr",
     "output_type": "stream",
     "text": [
      "/home/jindalmadhur26/anaconda3/lib/python3.9/site-packages/sklearn/base.py:445: UserWarning: X does not have valid feature names, but MLPClassifier was fitted with feature names\n",
      "  warnings.warn(\n",
      "\n"
     ]
    },
    {
     "name": "stdout",
     "output_type": "stream",
     "text": [
      "Iteration 9, loss = 0.63930847                                                                                 \n",
      "Validation score: 0.784685                                                                                     \n",
      " 10%|███▏                            | 10/100 [2:40:24<21:15:51, 850.57s/trial, best loss: -0.8171041736275549]"
     ]
    },
    {
     "name": "stderr",
     "output_type": "stream",
     "text": [
      "/home/jindalmadhur26/anaconda3/lib/python3.9/site-packages/sklearn/base.py:445: UserWarning: X does not have valid feature names, but MLPClassifier was fitted with feature names\n",
      "  warnings.warn(\n",
      "\n"
     ]
    },
    {
     "name": "stdout",
     "output_type": "stream",
     "text": [
      "Iteration 10, loss = 0.63903695                                                                                \n",
      "Validation score: 0.783890                                                                                     \n",
      " 10%|███▏                            | 10/100 [2:40:34<21:15:51, 850.57s/trial, best loss: -0.8171041736275549]"
     ]
    },
    {
     "name": "stderr",
     "output_type": "stream",
     "text": [
      "/home/jindalmadhur26/anaconda3/lib/python3.9/site-packages/sklearn/base.py:445: UserWarning: X does not have valid feature names, but MLPClassifier was fitted with feature names\n",
      "  warnings.warn(\n",
      "\n"
     ]
    },
    {
     "name": "stdout",
     "output_type": "stream",
     "text": [
      "Iteration 11, loss = 0.63884094                                                                                \n",
      "Validation score: 0.782660                                                                                     \n",
      " 10%|███▏                            | 10/100 [2:40:46<21:15:51, 850.57s/trial, best loss: -0.8171041736275549]"
     ]
    },
    {
     "name": "stderr",
     "output_type": "stream",
     "text": [
      "/home/jindalmadhur26/anaconda3/lib/python3.9/site-packages/sklearn/base.py:445: UserWarning: X does not have valid feature names, but MLPClassifier was fitted with feature names\n",
      "  warnings.warn(\n",
      "\n"
     ]
    },
    {
     "name": "stdout",
     "output_type": "stream",
     "text": [
      "Iteration 12, loss = 0.63870526                                                                                \n",
      "Validation score: 0.780763                                                                                     \n",
      "Validation score did not improve more than tol=0.000100 for 10 consecutive epochs. Stopping.                   \n",
      " 10%|███▏                            | 10/100 [2:40:57<21:15:51, 850.57s/trial, best loss: -0.8171041736275549]"
     ]
    },
    {
     "name": "stderr",
     "output_type": "stream",
     "text": [
      "/home/jindalmadhur26/anaconda3/lib/python3.9/site-packages/sklearn/base.py:445: UserWarning: X does not have valid feature names, but MLPClassifier was fitted with feature names\n",
      "  warnings.warn(\n",
      "\n"
     ]
    },
    {
     "name": "stdout",
     "output_type": "stream",
     "text": [
      "0.7874644940985859                                                                                             \n",
      "0.7889942908610195                                                                                             \n",
      "{'activation': 'relu', 'alpha': 15.865304453203123, 'hidden_layer_sizes': 41}                                  \n",
      "Iteration 1, loss = 0.48677952                                                                                 \n",
      " 11%|███▌                            | 11/100 [2:43:30<16:18:46, 659.85s/trial, best loss: -0.8171041736275549]"
     ]
    },
    {
     "name": "stderr",
     "output_type": "stream",
     "text": [
      "/home/jindalmadhur26/anaconda3/lib/python3.9/site-packages/sklearn/base.py:445: UserWarning: X does not have valid feature names, but MLPClassifier was fitted with feature names\n",
      "  warnings.warn(\n",
      "\n"
     ]
    },
    {
     "name": "stdout",
     "output_type": "stream",
     "text": [
      "Validation score: 0.809988                                                                                     \n",
      "Iteration 2, loss = 0.46743791                                                                                 \n",
      " 11%|███▌                            | 11/100 [2:43:57<16:18:46, 659.85s/trial, best loss: -0.8171041736275549]"
     ]
    },
    {
     "name": "stderr",
     "output_type": "stream",
     "text": [
      "/home/jindalmadhur26/anaconda3/lib/python3.9/site-packages/sklearn/base.py:445: UserWarning: X does not have valid feature names, but MLPClassifier was fitted with feature names\n",
      "  warnings.warn(\n",
      "\n"
     ]
    },
    {
     "name": "stdout",
     "output_type": "stream",
     "text": [
      "Validation score: 0.814218                                                                                     \n",
      "Iteration 3, loss = 0.46407116                                                                                 \n",
      " 11%|███▌                            | 11/100 [2:44:22<16:18:46, 659.85s/trial, best loss: -0.8171041736275549]"
     ]
    },
    {
     "name": "stderr",
     "output_type": "stream",
     "text": [
      "/home/jindalmadhur26/anaconda3/lib/python3.9/site-packages/sklearn/base.py:445: UserWarning: X does not have valid feature names, but MLPClassifier was fitted with feature names\n",
      "  warnings.warn(\n",
      "\n"
     ]
    },
    {
     "name": "stdout",
     "output_type": "stream",
     "text": [
      "Validation score: 0.811013                                                                                     \n",
      "Iteration 4, loss = 0.46186001                                                                                 \n",
      " 11%|███▌                            | 11/100 [2:44:43<16:18:46, 659.85s/trial, best loss: -0.8171041736275549]"
     ]
    },
    {
     "name": "stderr",
     "output_type": "stream",
     "text": [
      "/home/jindalmadhur26/anaconda3/lib/python3.9/site-packages/sklearn/base.py:445: UserWarning: X does not have valid feature names, but MLPClassifier was fitted with feature names\n",
      "  warnings.warn(\n",
      "\n"
     ]
    },
    {
     "name": "stdout",
     "output_type": "stream",
     "text": [
      "Validation score: 0.814474                                                                                     \n",
      "Iteration 5, loss = 0.46043661                                                                                 \n",
      " 11%|███▌                            | 11/100 [2:45:06<16:18:46, 659.85s/trial, best loss: -0.8171041736275549]"
     ]
    },
    {
     "name": "stderr",
     "output_type": "stream",
     "text": [
      "/home/jindalmadhur26/anaconda3/lib/python3.9/site-packages/sklearn/base.py:445: UserWarning: X does not have valid feature names, but MLPClassifier was fitted with feature names\n",
      "  warnings.warn(\n",
      "\n"
     ]
    },
    {
     "name": "stdout",
     "output_type": "stream",
     "text": [
      "Validation score: 0.815064                                                                                     \n",
      "Iteration 6, loss = 0.45924244                                                                                 \n",
      " 11%|███▌                            | 11/100 [2:45:33<16:18:46, 659.85s/trial, best loss: -0.8171041736275549]"
     ]
    },
    {
     "name": "stderr",
     "output_type": "stream",
     "text": [
      "/home/jindalmadhur26/anaconda3/lib/python3.9/site-packages/sklearn/base.py:445: UserWarning: X does not have valid feature names, but MLPClassifier was fitted with feature names\n",
      "  warnings.warn(\n",
      "\n"
     ]
    },
    {
     "name": "stdout",
     "output_type": "stream",
     "text": [
      "Validation score: 0.815807                                                                                     \n",
      "Iteration 7, loss = 0.45835506                                                                                 \n",
      " 11%|███▌                            | 11/100 [2:46:01<16:18:46, 659.85s/trial, best loss: -0.8171041736275549]"
     ]
    },
    {
     "name": "stderr",
     "output_type": "stream",
     "text": [
      "/home/jindalmadhur26/anaconda3/lib/python3.9/site-packages/sklearn/base.py:445: UserWarning: X does not have valid feature names, but MLPClassifier was fitted with feature names\n",
      "  warnings.warn(\n",
      "\n"
     ]
    },
    {
     "name": "stdout",
     "output_type": "stream",
     "text": [
      "Validation score: 0.813731                                                                                     \n",
      "Iteration 8, loss = 0.45755619                                                                                 \n",
      " 11%|███▌                            | 11/100 [2:46:26<16:18:46, 659.85s/trial, best loss: -0.8171041736275549]"
     ]
    },
    {
     "name": "stderr",
     "output_type": "stream",
     "text": [
      "/home/jindalmadhur26/anaconda3/lib/python3.9/site-packages/sklearn/base.py:445: UserWarning: X does not have valid feature names, but MLPClassifier was fitted with feature names\n",
      "  warnings.warn(\n",
      "\n"
     ]
    },
    {
     "name": "stdout",
     "output_type": "stream",
     "text": [
      "Validation score: 0.815448                                                                                     \n",
      "Iteration 9, loss = 0.45648892                                                                                 \n",
      " 11%|███▌                            | 11/100 [2:46:50<16:18:46, 659.85s/trial, best loss: -0.8171041736275549]"
     ]
    },
    {
     "name": "stderr",
     "output_type": "stream",
     "text": [
      "/home/jindalmadhur26/anaconda3/lib/python3.9/site-packages/sklearn/base.py:445: UserWarning: X does not have valid feature names, but MLPClassifier was fitted with feature names\n",
      "  warnings.warn(\n",
      "\n"
     ]
    },
    {
     "name": "stdout",
     "output_type": "stream",
     "text": [
      "Validation score: 0.813654                                                                                     \n",
      "Iteration 10, loss = 0.45553292                                                                                \n",
      " 11%|███▌                            | 11/100 [2:47:15<16:18:46, 659.85s/trial, best loss: -0.8171041736275549]"
     ]
    },
    {
     "name": "stderr",
     "output_type": "stream",
     "text": [
      "/home/jindalmadhur26/anaconda3/lib/python3.9/site-packages/sklearn/base.py:445: UserWarning: X does not have valid feature names, but MLPClassifier was fitted with feature names\n",
      "  warnings.warn(\n",
      "\n"
     ]
    },
    {
     "name": "stdout",
     "output_type": "stream",
     "text": [
      "Validation score: 0.815704                                                                                     \n",
      "Iteration 11, loss = 0.45477420                                                                                \n",
      " 11%|███▌                            | 11/100 [2:47:46<16:18:46, 659.85s/trial, best loss: -0.8171041736275549]"
     ]
    },
    {
     "name": "stderr",
     "output_type": "stream",
     "text": [
      "/home/jindalmadhur26/anaconda3/lib/python3.9/site-packages/sklearn/base.py:445: UserWarning: X does not have valid feature names, but MLPClassifier was fitted with feature names\n",
      "  warnings.warn(\n",
      "\n"
     ]
    },
    {
     "name": "stdout",
     "output_type": "stream",
     "text": [
      "Validation score: 0.814551                                                                                     \n",
      "Iteration 12, loss = 0.45425324                                                                                \n",
      " 11%|███▌                            | 11/100 [2:48:12<16:18:46, 659.85s/trial, best loss: -0.8171041736275549]"
     ]
    },
    {
     "name": "stderr",
     "output_type": "stream",
     "text": [
      "/home/jindalmadhur26/anaconda3/lib/python3.9/site-packages/sklearn/base.py:445: UserWarning: X does not have valid feature names, but MLPClassifier was fitted with feature names\n",
      "  warnings.warn(\n",
      "\n"
     ]
    },
    {
     "name": "stdout",
     "output_type": "stream",
     "text": [
      "Validation score: 0.814884                                                                                     \n",
      "Iteration 13, loss = 0.45334576                                                                                \n",
      " 11%|███▌                            | 11/100 [2:48:35<16:18:46, 659.85s/trial, best loss: -0.8171041736275549]"
     ]
    },
    {
     "name": "stderr",
     "output_type": "stream",
     "text": [
      "/home/jindalmadhur26/anaconda3/lib/python3.9/site-packages/sklearn/base.py:445: UserWarning: X does not have valid feature names, but MLPClassifier was fitted with feature names\n",
      "  warnings.warn(\n",
      "\n"
     ]
    },
    {
     "name": "stdout",
     "output_type": "stream",
     "text": [
      "Validation score: 0.815115                                                                                     \n",
      "Iteration 14, loss = 0.45300050                                                                                \n",
      " 11%|███▌                            | 11/100 [2:48:57<16:18:46, 659.85s/trial, best loss: -0.8171041736275549]"
     ]
    },
    {
     "name": "stderr",
     "output_type": "stream",
     "text": [
      "/home/jindalmadhur26/anaconda3/lib/python3.9/site-packages/sklearn/base.py:445: UserWarning: X does not have valid feature names, but MLPClassifier was fitted with feature names\n",
      "  warnings.warn(\n",
      "\n"
     ]
    },
    {
     "name": "stdout",
     "output_type": "stream",
     "text": [
      "Validation score: 0.815884                                                                                     \n",
      "Iteration 15, loss = 0.45256201                                                                                \n",
      " 11%|███▌                            | 11/100 [2:49:32<16:18:46, 659.85s/trial, best loss: -0.8171041736275549]"
     ]
    },
    {
     "name": "stderr",
     "output_type": "stream",
     "text": [
      "/home/jindalmadhur26/anaconda3/lib/python3.9/site-packages/sklearn/base.py:445: UserWarning: X does not have valid feature names, but MLPClassifier was fitted with feature names\n",
      "  warnings.warn(\n",
      "\n"
     ]
    },
    {
     "name": "stdout",
     "output_type": "stream",
     "text": [
      "Validation score: 0.814089                                                                                     \n",
      "Iteration 16, loss = 0.45192056                                                                                \n",
      " 11%|███▌                            | 11/100 [2:49:57<16:18:46, 659.85s/trial, best loss: -0.8171041736275549]"
     ]
    },
    {
     "name": "stderr",
     "output_type": "stream",
     "text": [
      "/home/jindalmadhur26/anaconda3/lib/python3.9/site-packages/sklearn/base.py:445: UserWarning: X does not have valid feature names, but MLPClassifier was fitted with feature names\n",
      "  warnings.warn(\n",
      "\n"
     ]
    },
    {
     "name": "stdout",
     "output_type": "stream",
     "text": [
      "Validation score: 0.813782                                                                                     \n",
      "Iteration 17, loss = 0.45165363                                                                                \n",
      " 11%|███▌                            | 11/100 [2:50:22<16:18:46, 659.85s/trial, best loss: -0.8171041736275549]"
     ]
    },
    {
     "name": "stderr",
     "output_type": "stream",
     "text": [
      "/home/jindalmadhur26/anaconda3/lib/python3.9/site-packages/sklearn/base.py:445: UserWarning: X does not have valid feature names, but MLPClassifier was fitted with feature names\n",
      "  warnings.warn(\n",
      "\n"
     ]
    },
    {
     "name": "stdout",
     "output_type": "stream",
     "text": [
      "Validation score: 0.813628                                                                                     \n",
      "Validation score did not improve more than tol=0.000100 for 10 consecutive epochs. Stopping.                   \n",
      "0.8169100380438684                                                                                             \n",
      "0.8152447085143164                                                                                             \n",
      "{'activation': 'tanh', 'alpha': 2.4056878695415154e-05, 'hidden_layer_sizes': 39}                              \n",
      "Iteration 1, loss = 0.48676768                                                                                 \n",
      " 12%|███▊                            | 12/100 [2:52:42<15:18:00, 625.92s/trial, best loss: -0.8171041736275549]"
     ]
    },
    {
     "name": "stderr",
     "output_type": "stream",
     "text": [
      "/home/jindalmadhur26/anaconda3/lib/python3.9/site-packages/sklearn/base.py:445: UserWarning: X does not have valid feature names, but MLPClassifier was fitted with feature names\n",
      "  warnings.warn(\n",
      "\n"
     ]
    },
    {
     "name": "stdout",
     "output_type": "stream",
     "text": [
      "Validation score: 0.810449                                                                                     \n",
      "Iteration 2, loss = 0.46698226                                                                                 \n",
      " 12%|███▊                            | 12/100 [2:53:16<15:18:00, 625.92s/trial, best loss: -0.8171041736275549]"
     ]
    },
    {
     "name": "stderr",
     "output_type": "stream",
     "text": [
      "/home/jindalmadhur26/anaconda3/lib/python3.9/site-packages/sklearn/base.py:445: UserWarning: X does not have valid feature names, but MLPClassifier was fitted with feature names\n",
      "  warnings.warn(\n",
      "\n"
     ]
    },
    {
     "name": "stdout",
     "output_type": "stream",
     "text": [
      "Validation score: 0.812731                                                                                     \n",
      "Iteration 3, loss = 0.46417952                                                                                 \n",
      " 12%|███▊                            | 12/100 [2:53:50<15:18:00, 625.92s/trial, best loss: -0.8171041736275549]"
     ]
    },
    {
     "name": "stderr",
     "output_type": "stream",
     "text": [
      "/home/jindalmadhur26/anaconda3/lib/python3.9/site-packages/sklearn/base.py:445: UserWarning: X does not have valid feature names, but MLPClassifier was fitted with feature names\n",
      "  warnings.warn(\n",
      "\n"
     ]
    },
    {
     "name": "stdout",
     "output_type": "stream",
     "text": [
      "Validation score: 0.810475                                                                                     \n",
      "Iteration 4, loss = 0.46212800                                                                                 \n",
      " 12%|███▊                            | 12/100 [2:54:23<15:18:00, 625.92s/trial, best loss: -0.8171041736275549]"
     ]
    },
    {
     "name": "stderr",
     "output_type": "stream",
     "text": [
      "/home/jindalmadhur26/anaconda3/lib/python3.9/site-packages/sklearn/base.py:445: UserWarning: X does not have valid feature names, but MLPClassifier was fitted with feature names\n",
      "  warnings.warn(\n",
      "\n"
     ]
    },
    {
     "name": "stdout",
     "output_type": "stream",
     "text": [
      "Validation score: 0.813782                                                                                     \n",
      "Iteration 5, loss = 0.46021342                                                                                 \n",
      " 12%|███▊                            | 12/100 [2:54:57<15:18:00, 625.92s/trial, best loss: -0.8171041736275549]"
     ]
    },
    {
     "name": "stderr",
     "output_type": "stream",
     "text": [
      "/home/jindalmadhur26/anaconda3/lib/python3.9/site-packages/sklearn/base.py:445: UserWarning: X does not have valid feature names, but MLPClassifier was fitted with feature names\n",
      "  warnings.warn(\n",
      "\n"
     ]
    },
    {
     "name": "stdout",
     "output_type": "stream",
     "text": [
      "Validation score: 0.813961                                                                                     \n",
      "Iteration 6, loss = 0.45899135                                                                                 \n",
      " 12%|███▊                            | 12/100 [2:55:31<15:18:00, 625.92s/trial, best loss: -0.8171041736275549]"
     ]
    },
    {
     "name": "stderr",
     "output_type": "stream",
     "text": [
      "/home/jindalmadhur26/anaconda3/lib/python3.9/site-packages/sklearn/base.py:445: UserWarning: X does not have valid feature names, but MLPClassifier was fitted with feature names\n",
      "  warnings.warn(\n",
      "\n"
     ]
    },
    {
     "name": "stdout",
     "output_type": "stream",
     "text": [
      "Validation score: 0.814525                                                                                     \n",
      "Iteration 7, loss = 0.45814691                                                                                 \n",
      " 12%|███▊                            | 12/100 [2:56:05<15:18:00, 625.92s/trial, best loss: -0.8171041736275549]"
     ]
    },
    {
     "name": "stderr",
     "output_type": "stream",
     "text": [
      "/home/jindalmadhur26/anaconda3/lib/python3.9/site-packages/sklearn/base.py:445: UserWarning: X does not have valid feature names, but MLPClassifier was fitted with feature names\n",
      "  warnings.warn(\n",
      "\n"
     ]
    },
    {
     "name": "stdout",
     "output_type": "stream",
     "text": [
      "Validation score: 0.815448                                                                                     \n",
      "Iteration 8, loss = 0.45694904                                                                                 \n",
      " 12%|███▊                            | 12/100 [2:56:34<15:18:00, 625.92s/trial, best loss: -0.8171041736275549]"
     ]
    },
    {
     "name": "stderr",
     "output_type": "stream",
     "text": [
      "/home/jindalmadhur26/anaconda3/lib/python3.9/site-packages/sklearn/base.py:445: UserWarning: X does not have valid feature names, but MLPClassifier was fitted with feature names\n",
      "  warnings.warn(\n",
      "\n"
     ]
    },
    {
     "name": "stdout",
     "output_type": "stream",
     "text": [
      "Validation score: 0.812731                                                                                     \n",
      "Iteration 9, loss = 0.45627398                                                                                 \n",
      " 12%|███▊                            | 12/100 [2:57:08<15:18:00, 625.92s/trial, best loss: -0.8171041736275549]"
     ]
    },
    {
     "name": "stderr",
     "output_type": "stream",
     "text": [
      "/home/jindalmadhur26/anaconda3/lib/python3.9/site-packages/sklearn/base.py:445: UserWarning: X does not have valid feature names, but MLPClassifier was fitted with feature names\n",
      "  warnings.warn(\n",
      "\n"
     ]
    },
    {
     "name": "stdout",
     "output_type": "stream",
     "text": [
      "Validation score: 0.813167                                                                                     \n",
      "Iteration 10, loss = 0.45521519                                                                                \n",
      " 12%|███▊                            | 12/100 [2:57:40<15:18:00, 625.92s/trial, best loss: -0.8171041736275549]"
     ]
    },
    {
     "name": "stderr",
     "output_type": "stream",
     "text": [
      "/home/jindalmadhur26/anaconda3/lib/python3.9/site-packages/sklearn/base.py:445: UserWarning: X does not have valid feature names, but MLPClassifier was fitted with feature names\n",
      "  warnings.warn(\n",
      "\n"
     ]
    },
    {
     "name": "stdout",
     "output_type": "stream",
     "text": [
      "Validation score: 0.814115                                                                                     \n",
      "Iteration 11, loss = 0.45452029                                                                                \n",
      " 12%|███▊                            | 12/100 [2:58:17<15:18:00, 625.92s/trial, best loss: -0.8171041736275549]"
     ]
    },
    {
     "name": "stderr",
     "output_type": "stream",
     "text": [
      "/home/jindalmadhur26/anaconda3/lib/python3.9/site-packages/sklearn/base.py:445: UserWarning: X does not have valid feature names, but MLPClassifier was fitted with feature names\n",
      "  warnings.warn(\n",
      "\n"
     ]
    },
    {
     "name": "stdout",
     "output_type": "stream",
     "text": [
      "Validation score: 0.815243                                                                                     \n",
      "Iteration 12, loss = 0.45361761                                                                                \n",
      " 12%|███▊                            | 12/100 [2:58:53<15:18:00, 625.92s/trial, best loss: -0.8171041736275549]"
     ]
    },
    {
     "name": "stderr",
     "output_type": "stream",
     "text": [
      "/home/jindalmadhur26/anaconda3/lib/python3.9/site-packages/sklearn/base.py:445: UserWarning: X does not have valid feature names, but MLPClassifier was fitted with feature names\n",
      "  warnings.warn(\n",
      "\n"
     ]
    },
    {
     "name": "stdout",
     "output_type": "stream",
     "text": [
      "Validation score: 0.814500                                                                                     \n",
      "Iteration 13, loss = 0.45280814                                                                                \n",
      " 12%|███▊                            | 12/100 [2:59:21<15:18:00, 625.92s/trial, best loss: -0.8171041736275549]"
     ]
    },
    {
     "name": "stderr",
     "output_type": "stream",
     "text": [
      "/home/jindalmadhur26/anaconda3/lib/python3.9/site-packages/sklearn/base.py:445: UserWarning: X does not have valid feature names, but MLPClassifier was fitted with feature names\n",
      "  warnings.warn(\n",
      "\n"
     ]
    },
    {
     "name": "stdout",
     "output_type": "stream",
     "text": [
      "Validation score: 0.813141                                                                                     \n",
      "Iteration 14, loss = 0.45219008                                                                                \n",
      " 12%|███▊                            | 12/100 [2:59:44<15:18:00, 625.92s/trial, best loss: -0.8171041736275549]"
     ]
    },
    {
     "name": "stderr",
     "output_type": "stream",
     "text": [
      "/home/jindalmadhur26/anaconda3/lib/python3.9/site-packages/sklearn/base.py:445: UserWarning: X does not have valid feature names, but MLPClassifier was fitted with feature names\n",
      "  warnings.warn(\n",
      "\n"
     ]
    },
    {
     "name": "stdout",
     "output_type": "stream",
     "text": [
      "Validation score: 0.811910                                                                                     \n",
      "Iteration 15, loss = 0.45205570                                                                                \n",
      " 12%|███▊                            | 12/100 [3:00:23<15:18:00, 625.92s/trial, best loss: -0.8171041736275549]"
     ]
    },
    {
     "name": "stderr",
     "output_type": "stream",
     "text": [
      "/home/jindalmadhur26/anaconda3/lib/python3.9/site-packages/sklearn/base.py:445: UserWarning: X does not have valid feature names, but MLPClassifier was fitted with feature names\n",
      "  warnings.warn(\n",
      "\n"
     ]
    },
    {
     "name": "stdout",
     "output_type": "stream",
     "text": [
      "Validation score: 0.809116                                                                                     \n",
      "Iteration 16, loss = 0.45096716                                                                                \n",
      " 12%|███▊                            | 12/100 [3:00:47<15:18:00, 625.92s/trial, best loss: -0.8171041736275549]"
     ]
    },
    {
     "name": "stderr",
     "output_type": "stream",
     "text": [
      "/home/jindalmadhur26/anaconda3/lib/python3.9/site-packages/sklearn/base.py:445: UserWarning: X does not have valid feature names, but MLPClassifier was fitted with feature names\n",
      "  warnings.warn(\n",
      "\n"
     ]
    },
    {
     "name": "stdout",
     "output_type": "stream",
     "text": [
      "Validation score: 0.815525                                                                                     \n",
      "Iteration 17, loss = 0.45064990                                                                                \n",
      " 12%|███▊                            | 12/100 [3:01:14<15:18:00, 625.92s/trial, best loss: -0.8171041736275549]"
     ]
    },
    {
     "name": "stderr",
     "output_type": "stream",
     "text": [
      "/home/jindalmadhur26/anaconda3/lib/python3.9/site-packages/sklearn/base.py:445: UserWarning: X does not have valid feature names, but MLPClassifier was fitted with feature names\n",
      "  warnings.warn(\n",
      "\n"
     ]
    },
    {
     "name": "stdout",
     "output_type": "stream",
     "text": [
      "Validation score: 0.815474                                                                                     \n",
      "Iteration 18, loss = 0.44971455                                                                                \n",
      " 12%|███▊                            | 12/100 [3:01:38<15:18:00, 625.92s/trial, best loss: -0.8171041736275549]"
     ]
    },
    {
     "name": "stderr",
     "output_type": "stream",
     "text": [
      "/home/jindalmadhur26/anaconda3/lib/python3.9/site-packages/sklearn/base.py:445: UserWarning: X does not have valid feature names, but MLPClassifier was fitted with feature names\n",
      "  warnings.warn(\n",
      "\n"
     ]
    },
    {
     "name": "stdout",
     "output_type": "stream",
     "text": [
      "Validation score: 0.815833                                                                                     \n",
      "Iteration 19, loss = 0.44935172                                                                                \n",
      " 12%|███▊                            | 12/100 [3:02:06<15:18:00, 625.92s/trial, best loss: -0.8171041736275549]"
     ]
    },
    {
     "name": "stderr",
     "output_type": "stream",
     "text": [
      "/home/jindalmadhur26/anaconda3/lib/python3.9/site-packages/sklearn/base.py:445: UserWarning: X does not have valid feature names, but MLPClassifier was fitted with feature names\n",
      "  warnings.warn(\n",
      "\n"
     ]
    },
    {
     "name": "stdout",
     "output_type": "stream",
     "text": [
      "Validation score: 0.814500                                                                                     \n",
      "Iteration 20, loss = 0.44910258                                                                                \n",
      " 12%|███▊                            | 12/100 [3:02:38<15:18:00, 625.92s/trial, best loss: -0.8171041736275549]"
     ]
    },
    {
     "name": "stderr",
     "output_type": "stream",
     "text": [
      "/home/jindalmadhur26/anaconda3/lib/python3.9/site-packages/sklearn/base.py:445: UserWarning: X does not have valid feature names, but MLPClassifier was fitted with feature names\n",
      "  warnings.warn(\n",
      "\n"
     ]
    },
    {
     "name": "stdout",
     "output_type": "stream",
     "text": [
      "Validation score: 0.813910                                                                                     \n",
      "Iteration 21, loss = 0.44838222                                                                                \n",
      " 12%|███▊                            | 12/100 [3:03:09<15:18:00, 625.92s/trial, best loss: -0.8171041736275549]"
     ]
    },
    {
     "name": "stderr",
     "output_type": "stream",
     "text": [
      "/home/jindalmadhur26/anaconda3/lib/python3.9/site-packages/sklearn/base.py:445: UserWarning: X does not have valid feature names, but MLPClassifier was fitted with feature names\n",
      "  warnings.warn(\n",
      "\n"
     ]
    },
    {
     "name": "stdout",
     "output_type": "stream",
     "text": [
      "Validation score: 0.813859                                                                                     \n",
      "Iteration 22, loss = 0.44819885                                                                                \n",
      " 12%|███▊                            | 12/100 [3:03:41<15:18:00, 625.92s/trial, best loss: -0.8171041736275549]"
     ]
    },
    {
     "name": "stderr",
     "output_type": "stream",
     "text": [
      "/home/jindalmadhur26/anaconda3/lib/python3.9/site-packages/sklearn/base.py:445: UserWarning: X does not have valid feature names, but MLPClassifier was fitted with feature names\n",
      "  warnings.warn(\n",
      "\n"
     ]
    },
    {
     "name": "stdout",
     "output_type": "stream",
     "text": [
      "Validation score: 0.815012                                                                                     \n",
      "Iteration 23, loss = 0.44742822                                                                                \n",
      " 12%|███▊                            | 12/100 [3:04:17<15:18:00, 625.92s/trial, best loss: -0.8171041736275549]"
     ]
    },
    {
     "name": "stderr",
     "output_type": "stream",
     "text": [
      "/home/jindalmadhur26/anaconda3/lib/python3.9/site-packages/sklearn/base.py:445: UserWarning: X does not have valid feature names, but MLPClassifier was fitted with feature names\n",
      "  warnings.warn(\n",
      "\n"
     ]
    },
    {
     "name": "stdout",
     "output_type": "stream",
     "text": [
      "Validation score: 0.815679                                                                                     \n",
      "Iteration 24, loss = 0.44698255                                                                                \n",
      " 12%|███▊                            | 12/100 [3:04:45<15:18:00, 625.92s/trial, best loss: -0.8171041736275549]"
     ]
    },
    {
     "name": "stderr",
     "output_type": "stream",
     "text": [
      "/home/jindalmadhur26/anaconda3/lib/python3.9/site-packages/sklearn/base.py:445: UserWarning: X does not have valid feature names, but MLPClassifier was fitted with feature names\n",
      "  warnings.warn(\n",
      "\n"
     ]
    },
    {
     "name": "stdout",
     "output_type": "stream",
     "text": [
      "Validation score: 0.814628                                                                                     \n",
      "Iteration 25, loss = 0.44657591                                                                                \n",
      " 12%|███▊                            | 12/100 [3:05:38<15:18:00, 625.92s/trial, best loss: -0.8171041736275549]"
     ]
    },
    {
     "name": "stderr",
     "output_type": "stream",
     "text": [
      "/home/jindalmadhur26/anaconda3/lib/python3.9/site-packages/sklearn/base.py:445: UserWarning: X does not have valid feature names, but MLPClassifier was fitted with feature names\n",
      "  warnings.warn(\n",
      "\n"
     ]
    },
    {
     "name": "stdout",
     "output_type": "stream",
     "text": [
      "Validation score: 0.814474                                                                                     \n",
      "Iteration 26, loss = 0.44636495                                                                                \n",
      " 12%|███▊                            | 12/100 [3:06:42<15:18:00, 625.92s/trial, best loss: -0.8171041736275549]"
     ]
    },
    {
     "name": "stderr",
     "output_type": "stream",
     "text": [
      "/home/jindalmadhur26/anaconda3/lib/python3.9/site-packages/sklearn/base.py:445: UserWarning: X does not have valid feature names, but MLPClassifier was fitted with feature names\n",
      "  warnings.warn(\n",
      "\n"
     ]
    },
    {
     "name": "stdout",
     "output_type": "stream",
     "text": [
      "Validation score: 0.813551                                                                                     \n",
      "Iteration 27, loss = 0.44567137                                                                                \n",
      " 12%|███▊                            | 12/100 [3:07:43<15:18:00, 625.92s/trial, best loss: -0.8171041736275549]"
     ]
    },
    {
     "name": "stderr",
     "output_type": "stream",
     "text": [
      "/home/jindalmadhur26/anaconda3/lib/python3.9/site-packages/sklearn/base.py:445: UserWarning: X does not have valid feature names, but MLPClassifier was fitted with feature names\n",
      "  warnings.warn(\n",
      "\n"
     ]
    },
    {
     "name": "stdout",
     "output_type": "stream",
     "text": [
      "Validation score: 0.815576                                                                                     \n",
      "Iteration 28, loss = 0.44494918                                                                                \n",
      " 12%|███▊                            | 12/100 [3:08:53<15:18:00, 625.92s/trial, best loss: -0.8171041736275549]"
     ]
    },
    {
     "name": "stderr",
     "output_type": "stream",
     "text": [
      "/home/jindalmadhur26/anaconda3/lib/python3.9/site-packages/sklearn/base.py:445: UserWarning: X does not have valid feature names, but MLPClassifier was fitted with feature names\n",
      "  warnings.warn(\n",
      "\n"
     ]
    },
    {
     "name": "stdout",
     "output_type": "stream",
     "text": [
      "Validation score: 0.812756                                                                                     \n",
      "Iteration 29, loss = 0.44463081                                                                                \n",
      " 12%|███▊                            | 12/100 [3:09:55<15:18:00, 625.92s/trial, best loss: -0.8171041736275549]"
     ]
    },
    {
     "name": "stderr",
     "output_type": "stream",
     "text": [
      "/home/jindalmadhur26/anaconda3/lib/python3.9/site-packages/sklearn/base.py:445: UserWarning: X does not have valid feature names, but MLPClassifier was fitted with feature names\n",
      "  warnings.warn(\n",
      "\n"
     ]
    },
    {
     "name": "stdout",
     "output_type": "stream",
     "text": [
      "Validation score: 0.813551                                                                                     \n",
      "Validation score did not improve more than tol=0.000100 for 10 consecutive epochs. Stopping.                   \n",
      "0.8175304299674935                                                                                             \n",
      "0.8155061957958656                                                                                             \n",
      "{'activation': 'tanh', 'alpha': 2.3183893398005572e-07, 'hidden_layer_sizes': 54}                              \n",
      "Iteration 1, loss = 0.51443675                                                                                 \n",
      " 13%|████▏                           | 13/100 [3:12:44<19:20:34, 800.40s/trial, best loss: -0.8171041736275549]"
     ]
    },
    {
     "name": "stderr",
     "output_type": "stream",
     "text": [
      "/home/jindalmadhur26/anaconda3/lib/python3.9/site-packages/sklearn/base.py:445: UserWarning: X does not have valid feature names, but MLPClassifier was fitted with feature names\n",
      "  warnings.warn(\n",
      "\n"
     ]
    },
    {
     "name": "stdout",
     "output_type": "stream",
     "text": [
      "Validation score: 0.811654                                                                                     \n",
      "Iteration 2, loss = 0.46768293                                                                                 \n",
      " 13%|████▏                           | 13/100 [3:13:02<19:20:34, 800.40s/trial, best loss: -0.8171041736275549]"
     ]
    },
    {
     "name": "stderr",
     "output_type": "stream",
     "text": [
      "/home/jindalmadhur26/anaconda3/lib/python3.9/site-packages/sklearn/base.py:445: UserWarning: X does not have valid feature names, but MLPClassifier was fitted with feature names\n",
      "  warnings.warn(\n",
      "\n"
     ]
    },
    {
     "name": "stdout",
     "output_type": "stream",
     "text": [
      "Validation score: 0.814192                                                                                     \n",
      "Iteration 3, loss = 0.46394820                                                                                 \n",
      "Validation score: 0.815192                                                                                     \n",
      " 13%|████▏                           | 13/100 [3:13:24<19:20:34, 800.40s/trial, best loss: -0.8171041736275549]"
     ]
    },
    {
     "name": "stderr",
     "output_type": "stream",
     "text": [
      "/home/jindalmadhur26/anaconda3/lib/python3.9/site-packages/sklearn/base.py:445: UserWarning: X does not have valid feature names, but MLPClassifier was fitted with feature names\n",
      "  warnings.warn(\n",
      "\n"
     ]
    },
    {
     "name": "stdout",
     "output_type": "stream",
     "text": [
      "Iteration 4, loss = 0.46155627                                                                                 \n",
      " 13%|████▏                           | 13/100 [3:13:48<19:20:34, 800.40s/trial, best loss: -0.8171041736275549]"
     ]
    },
    {
     "name": "stderr",
     "output_type": "stream",
     "text": [
      "/home/jindalmadhur26/anaconda3/lib/python3.9/site-packages/sklearn/base.py:445: UserWarning: X does not have valid feature names, but MLPClassifier was fitted with feature names\n",
      "  warnings.warn(\n",
      "\n"
     ]
    },
    {
     "name": "stdout",
     "output_type": "stream",
     "text": [
      "Validation score: 0.815243                                                                                     \n",
      "Iteration 5, loss = 0.46022474                                                                                 \n",
      " 13%|████▏                           | 13/100 [3:14:02<19:20:34, 800.40s/trial, best loss: -0.8171041736275549]"
     ]
    },
    {
     "name": "stderr",
     "output_type": "stream",
     "text": [
      "/home/jindalmadhur26/anaconda3/lib/python3.9/site-packages/sklearn/base.py:445: UserWarning: X does not have valid feature names, but MLPClassifier was fitted with feature names\n",
      "  warnings.warn(\n",
      "\n"
     ]
    },
    {
     "name": "stdout",
     "output_type": "stream",
     "text": [
      "Validation score: 0.814474                                                                                     \n",
      "Iteration 6, loss = 0.45905885                                                                                 \n",
      "Validation score: 0.816525                                                                                     \n",
      " 13%|████▏                           | 13/100 [3:14:09<19:20:34, 800.40s/trial, best loss: -0.8171041736275549]"
     ]
    },
    {
     "name": "stderr",
     "output_type": "stream",
     "text": [
      "/home/jindalmadhur26/anaconda3/lib/python3.9/site-packages/sklearn/base.py:445: UserWarning: X does not have valid feature names, but MLPClassifier was fitted with feature names\n",
      "  warnings.warn(\n",
      "\n"
     ]
    },
    {
     "name": "stdout",
     "output_type": "stream",
     "text": [
      "Iteration 7, loss = 0.45749004                                                                                 \n",
      "Validation score: 0.815166                                                                                     \n",
      " 13%|████▏                           | 13/100 [3:14:16<19:20:34, 800.40s/trial, best loss: -0.8171041736275549]"
     ]
    },
    {
     "name": "stderr",
     "output_type": "stream",
     "text": [
      "/home/jindalmadhur26/anaconda3/lib/python3.9/site-packages/sklearn/base.py:445: UserWarning: X does not have valid feature names, but MLPClassifier was fitted with feature names\n",
      "  warnings.warn(\n",
      "\n"
     ]
    },
    {
     "name": "stdout",
     "output_type": "stream",
     "text": [
      "Iteration 8, loss = 0.45640908                                                                                 \n",
      " 13%|████▏                           | 13/100 [3:14:31<19:20:34, 800.40s/trial, best loss: -0.8171041736275549]"
     ]
    },
    {
     "name": "stderr",
     "output_type": "stream",
     "text": [
      "/home/jindalmadhur26/anaconda3/lib/python3.9/site-packages/sklearn/base.py:445: UserWarning: X does not have valid feature names, but MLPClassifier was fitted with feature names\n",
      "  warnings.warn(\n",
      "\n"
     ]
    },
    {
     "name": "stdout",
     "output_type": "stream",
     "text": [
      "Validation score: 0.816602                                                                                     \n",
      "Iteration 9, loss = 0.45576028                                                                                 \n",
      " 13%|████▏                           | 13/100 [3:15:00<19:20:34, 800.40s/trial, best loss: -0.8171041736275549]"
     ]
    },
    {
     "name": "stderr",
     "output_type": "stream",
     "text": [
      "/home/jindalmadhur26/anaconda3/lib/python3.9/site-packages/sklearn/base.py:445: UserWarning: X does not have valid feature names, but MLPClassifier was fitted with feature names\n",
      "  warnings.warn(\n",
      "\n"
     ]
    },
    {
     "name": "stdout",
     "output_type": "stream",
     "text": [
      "Validation score: 0.816397                                                                                     \n",
      "Iteration 10, loss = 0.45506833                                                                                \n",
      " 13%|████▏                           | 13/100 [3:15:28<19:20:34, 800.40s/trial, best loss: -0.8171041736275549]"
     ]
    },
    {
     "name": "stderr",
     "output_type": "stream",
     "text": [
      "/home/jindalmadhur26/anaconda3/lib/python3.9/site-packages/sklearn/base.py:445: UserWarning: X does not have valid feature names, but MLPClassifier was fitted with feature names\n",
      "  warnings.warn(\n",
      "\n"
     ]
    },
    {
     "name": "stdout",
     "output_type": "stream",
     "text": [
      "Validation score: 0.814628                                                                                     \n",
      "Iteration 11, loss = 0.45445125                                                                                \n",
      " 13%|████▏                           | 13/100 [3:15:50<19:20:34, 800.40s/trial, best loss: -0.8171041736275549]"
     ]
    },
    {
     "name": "stderr",
     "output_type": "stream",
     "text": [
      "/home/jindalmadhur26/anaconda3/lib/python3.9/site-packages/sklearn/base.py:445: UserWarning: X does not have valid feature names, but MLPClassifier was fitted with feature names\n",
      "  warnings.warn(\n",
      "\n"
     ]
    },
    {
     "name": "stdout",
     "output_type": "stream",
     "text": [
      "Validation score: 0.814500                                                                                     \n",
      "Iteration 12, loss = 0.45385218                                                                                \n",
      " 13%|████▏                           | 13/100 [3:16:18<19:20:34, 800.40s/trial, best loss: -0.8171041736275549]"
     ]
    },
    {
     "name": "stderr",
     "output_type": "stream",
     "text": [
      "/home/jindalmadhur26/anaconda3/lib/python3.9/site-packages/sklearn/base.py:445: UserWarning: X does not have valid feature names, but MLPClassifier was fitted with feature names\n",
      "  warnings.warn(\n",
      "\n"
     ]
    },
    {
     "name": "stdout",
     "output_type": "stream",
     "text": [
      "Validation score: 0.816217                                                                                     \n",
      "Iteration 13, loss = 0.45333654                                                                                \n",
      " 13%|████▏                           | 13/100 [3:16:46<19:20:34, 800.40s/trial, best loss: -0.8171041736275549]"
     ]
    },
    {
     "name": "stderr",
     "output_type": "stream",
     "text": [
      "/home/jindalmadhur26/anaconda3/lib/python3.9/site-packages/sklearn/base.py:445: UserWarning: X does not have valid feature names, but MLPClassifier was fitted with feature names\n",
      "  warnings.warn(\n",
      "\n"
     ]
    },
    {
     "name": "stdout",
     "output_type": "stream",
     "text": [
      "Validation score: 0.815858                                                                                     \n",
      "Iteration 14, loss = 0.45280608                                                                                \n",
      " 13%|████▏                           | 13/100 [3:17:09<19:20:34, 800.40s/trial, best loss: -0.8171041736275549]"
     ]
    },
    {
     "name": "stderr",
     "output_type": "stream",
     "text": [
      "/home/jindalmadhur26/anaconda3/lib/python3.9/site-packages/sklearn/base.py:445: UserWarning: X does not have valid feature names, but MLPClassifier was fitted with feature names\n",
      "  warnings.warn(\n",
      "\n"
     ]
    },
    {
     "name": "stdout",
     "output_type": "stream",
     "text": [
      "Validation score: 0.816986                                                                                     \n",
      "Iteration 15, loss = 0.45201926                                                                                \n",
      " 13%|████▏                           | 13/100 [3:17:32<19:20:34, 800.40s/trial, best loss: -0.8171041736275549]"
     ]
    },
    {
     "name": "stderr",
     "output_type": "stream",
     "text": [
      "/home/jindalmadhur26/anaconda3/lib/python3.9/site-packages/sklearn/base.py:445: UserWarning: X does not have valid feature names, but MLPClassifier was fitted with feature names\n",
      "  warnings.warn(\n",
      "\n"
     ]
    },
    {
     "name": "stdout",
     "output_type": "stream",
     "text": [
      "Validation score: 0.815884                                                                                     \n",
      "Iteration 16, loss = 0.45205122                                                                                \n",
      " 13%|████▏                           | 13/100 [3:18:03<19:20:34, 800.40s/trial, best loss: -0.8171041736275549]"
     ]
    },
    {
     "name": "stderr",
     "output_type": "stream",
     "text": [
      "/home/jindalmadhur26/anaconda3/lib/python3.9/site-packages/sklearn/base.py:445: UserWarning: X does not have valid feature names, but MLPClassifier was fitted with feature names\n",
      "  warnings.warn(\n",
      "\n"
     ]
    },
    {
     "name": "stdout",
     "output_type": "stream",
     "text": [
      "Validation score: 0.816781                                                                                     \n",
      "Iteration 17, loss = 0.45140063                                                                                \n",
      " 13%|████▏                           | 13/100 [3:18:39<19:20:34, 800.40s/trial, best loss: -0.8171041736275549]"
     ]
    },
    {
     "name": "stderr",
     "output_type": "stream",
     "text": [
      "/home/jindalmadhur26/anaconda3/lib/python3.9/site-packages/sklearn/base.py:445: UserWarning: X does not have valid feature names, but MLPClassifier was fitted with feature names\n",
      "  warnings.warn(\n",
      "\n"
     ]
    },
    {
     "name": "stdout",
     "output_type": "stream",
     "text": [
      "Validation score: 0.817012                                                                                     \n",
      "Iteration 18, loss = 0.45102802                                                                                \n",
      " 13%|████▏                           | 13/100 [3:19:16<19:20:34, 800.40s/trial, best loss: -0.8171041736275549]"
     ]
    },
    {
     "name": "stderr",
     "output_type": "stream",
     "text": [
      "/home/jindalmadhur26/anaconda3/lib/python3.9/site-packages/sklearn/base.py:445: UserWarning: X does not have valid feature names, but MLPClassifier was fitted with feature names\n",
      "  warnings.warn(\n",
      "\n"
     ]
    },
    {
     "name": "stdout",
     "output_type": "stream",
     "text": [
      "Validation score: 0.818140                                                                                     \n",
      "Iteration 19, loss = 0.45064372                                                                                \n",
      " 13%|████▏                           | 13/100 [3:19:54<19:20:34, 800.40s/trial, best loss: -0.8171041736275549]"
     ]
    },
    {
     "name": "stderr",
     "output_type": "stream",
     "text": [
      "/home/jindalmadhur26/anaconda3/lib/python3.9/site-packages/sklearn/base.py:445: UserWarning: X does not have valid feature names, but MLPClassifier was fitted with feature names\n",
      "  warnings.warn(\n",
      "\n"
     ]
    },
    {
     "name": "stdout",
     "output_type": "stream",
     "text": [
      "Validation score: 0.816550                                                                                     \n",
      "Iteration 20, loss = 0.45027844                                                                                \n",
      " 13%|████▏                           | 13/100 [3:20:19<19:20:34, 800.40s/trial, best loss: -0.8171041736275549]"
     ]
    },
    {
     "name": "stderr",
     "output_type": "stream",
     "text": [
      "/home/jindalmadhur26/anaconda3/lib/python3.9/site-packages/sklearn/base.py:445: UserWarning: X does not have valid feature names, but MLPClassifier was fitted with feature names\n",
      "  warnings.warn(\n",
      "\n"
     ]
    },
    {
     "name": "stdout",
     "output_type": "stream",
     "text": [
      "Validation score: 0.815730                                                                                     \n",
      "Iteration 21, loss = 0.44977981                                                                                \n",
      " 13%|████▏                           | 13/100 [3:20:36<19:20:34, 800.40s/trial, best loss: -0.8171041736275549]"
     ]
    },
    {
     "name": "stderr",
     "output_type": "stream",
     "text": [
      "/home/jindalmadhur26/anaconda3/lib/python3.9/site-packages/sklearn/base.py:445: UserWarning: X does not have valid feature names, but MLPClassifier was fitted with feature names\n",
      "  warnings.warn(\n",
      "\n"
     ]
    },
    {
     "name": "stdout",
     "output_type": "stream",
     "text": [
      "Validation score: 0.816448                                                                                     \n",
      "Iteration 22, loss = 0.44966897                                                                                \n",
      " 13%|████▏                           | 13/100 [3:20:55<19:20:34, 800.40s/trial, best loss: -0.8171041736275549]"
     ]
    },
    {
     "name": "stderr",
     "output_type": "stream",
     "text": [
      "/home/jindalmadhur26/anaconda3/lib/python3.9/site-packages/sklearn/base.py:445: UserWarning: X does not have valid feature names, but MLPClassifier was fitted with feature names\n",
      "  warnings.warn(\n",
      "\n"
     ]
    },
    {
     "name": "stdout",
     "output_type": "stream",
     "text": [
      "Validation score: 0.815217                                                                                     \n",
      "Iteration 23, loss = 0.44916724                                                                                \n",
      " 13%|████▏                           | 13/100 [3:21:14<19:20:34, 800.40s/trial, best loss: -0.8171041736275549]"
     ]
    },
    {
     "name": "stderr",
     "output_type": "stream",
     "text": [
      "/home/jindalmadhur26/anaconda3/lib/python3.9/site-packages/sklearn/base.py:445: UserWarning: X does not have valid feature names, but MLPClassifier was fitted with feature names\n",
      "  warnings.warn(\n",
      "\n"
     ]
    },
    {
     "name": "stdout",
     "output_type": "stream",
     "text": [
      "Validation score: 0.816832                                                                                     \n",
      "Iteration 24, loss = 0.44894319                                                                                \n",
      " 13%|████▏                           | 13/100 [3:21:38<19:20:34, 800.40s/trial, best loss: -0.8171041736275549]"
     ]
    },
    {
     "name": "stderr",
     "output_type": "stream",
     "text": [
      "/home/jindalmadhur26/anaconda3/lib/python3.9/site-packages/sklearn/base.py:445: UserWarning: X does not have valid feature names, but MLPClassifier was fitted with feature names\n",
      "  warnings.warn(\n",
      "\n"
     ]
    },
    {
     "name": "stdout",
     "output_type": "stream",
     "text": [
      "Validation score: 0.813807                                                                                     \n",
      "Iteration 25, loss = 0.44848956                                                                                \n",
      " 13%|████▏                           | 13/100 [3:22:07<19:20:34, 800.40s/trial, best loss: -0.8171041736275549]"
     ]
    },
    {
     "name": "stderr",
     "output_type": "stream",
     "text": [
      "/home/jindalmadhur26/anaconda3/lib/python3.9/site-packages/sklearn/base.py:445: UserWarning: X does not have valid feature names, but MLPClassifier was fitted with feature names\n",
      "  warnings.warn(\n",
      "\n"
     ]
    },
    {
     "name": "stdout",
     "output_type": "stream",
     "text": [
      "Validation score: 0.814166                                                                                     \n",
      "Iteration 26, loss = 0.44846420                                                                                \n",
      " 13%|████▏                           | 13/100 [3:22:35<19:20:34, 800.40s/trial, best loss: -0.8171041736275549]"
     ]
    },
    {
     "name": "stderr",
     "output_type": "stream",
     "text": [
      "/home/jindalmadhur26/anaconda3/lib/python3.9/site-packages/sklearn/base.py:445: UserWarning: X does not have valid feature names, but MLPClassifier was fitted with feature names\n",
      "  warnings.warn(\n",
      "\n"
     ]
    },
    {
     "name": "stdout",
     "output_type": "stream",
     "text": [
      "Validation score: 0.817678                                                                                     \n",
      "Iteration 27, loss = 0.44802796                                                                                \n",
      " 13%|████▏                           | 13/100 [3:23:10<19:20:34, 800.40s/trial, best loss: -0.8171041736275549]"
     ]
    },
    {
     "name": "stderr",
     "output_type": "stream",
     "text": [
      "/home/jindalmadhur26/anaconda3/lib/python3.9/site-packages/sklearn/base.py:445: UserWarning: X does not have valid feature names, but MLPClassifier was fitted with feature names\n",
      "  warnings.warn(\n",
      "\n"
     ]
    },
    {
     "name": "stdout",
     "output_type": "stream",
     "text": [
      "Validation score: 0.816653                                                                                     \n",
      "Iteration 28, loss = 0.44771569                                                                                \n",
      " 13%|████▏                           | 13/100 [3:23:36<19:20:34, 800.40s/trial, best loss: -0.8171041736275549]"
     ]
    },
    {
     "name": "stderr",
     "output_type": "stream",
     "text": [
      "/home/jindalmadhur26/anaconda3/lib/python3.9/site-packages/sklearn/base.py:445: UserWarning: X does not have valid feature names, but MLPClassifier was fitted with feature names\n",
      "  warnings.warn(\n",
      "\n"
     ]
    },
    {
     "name": "stdout",
     "output_type": "stream",
     "text": [
      "Validation score: 0.816474                                                                                     \n",
      "Iteration 29, loss = 0.44737852                                                                                \n",
      " 13%|████▏                           | 13/100 [3:24:09<19:20:34, 800.40s/trial, best loss: -0.8171041736275549]"
     ]
    },
    {
     "name": "stderr",
     "output_type": "stream",
     "text": [
      "/home/jindalmadhur26/anaconda3/lib/python3.9/site-packages/sklearn/base.py:445: UserWarning: X does not have valid feature names, but MLPClassifier was fitted with feature names\n",
      "  warnings.warn(\n",
      "\n"
     ]
    },
    {
     "name": "stdout",
     "output_type": "stream",
     "text": [
      "Validation score: 0.815602                                                                                     \n",
      "Validation score did not improve more than tol=0.000100 for 10 consecutive epochs. Stopping.                   \n",
      "0.8173484141551902                                                                                             \n",
      "0.8166393073492453                                                                                             \n",
      "{'activation': 'logistic', 'alpha': 2.7211366384609772e-05, 'hidden_layer_sizes': 23}                          \n",
      "Iteration 1, loss = 0.57264866                                                                                 \n",
      "Validation score: 0.804297                                                                                     \n",
      " 14%|████▍                           | 14/100 [3:27:05<19:27:24, 814.47s/trial, best loss: -0.8171041736275549]"
     ]
    },
    {
     "name": "stderr",
     "output_type": "stream",
     "text": [
      "/home/jindalmadhur26/anaconda3/lib/python3.9/site-packages/sklearn/base.py:445: UserWarning: X does not have valid feature names, but MLPClassifier was fitted with feature names\n",
      "  warnings.warn(\n",
      "\n"
     ]
    },
    {
     "name": "stdout",
     "output_type": "stream",
     "text": [
      "Iteration 2, loss = 0.51597266                                                                                 \n",
      " 14%|████▍                           | 14/100 [3:27:39<19:27:24, 814.47s/trial, best loss: -0.8171041736275549]"
     ]
    },
    {
     "name": "stderr",
     "output_type": "stream",
     "text": [
      "/home/jindalmadhur26/anaconda3/lib/python3.9/site-packages/sklearn/base.py:445: UserWarning: X does not have valid feature names, but MLPClassifier was fitted with feature names\n",
      "  warnings.warn(\n",
      "\n"
     ]
    },
    {
     "name": "stdout",
     "output_type": "stream",
     "text": [
      "Validation score: 0.808783                                                                                     \n",
      "Iteration 3, loss = 0.51191094                                                                                 \n",
      " 14%|████▍                           | 14/100 [3:28:14<19:27:24, 814.47s/trial, best loss: -0.8171041736275549]"
     ]
    },
    {
     "name": "stderr",
     "output_type": "stream",
     "text": [
      "/home/jindalmadhur26/anaconda3/lib/python3.9/site-packages/sklearn/base.py:445: UserWarning: X does not have valid feature names, but MLPClassifier was fitted with feature names\n",
      "  warnings.warn(\n",
      "\n"
     ]
    },
    {
     "name": "stdout",
     "output_type": "stream",
     "text": [
      "Validation score: 0.809552                                                                                     \n",
      "Iteration 4, loss = 0.51081703                                                                                 \n",
      " 14%|████▍                           | 14/100 [3:28:39<19:27:24, 814.47s/trial, best loss: -0.8171041736275549]"
     ]
    },
    {
     "name": "stderr",
     "output_type": "stream",
     "text": [
      "/home/jindalmadhur26/anaconda3/lib/python3.9/site-packages/sklearn/base.py:445: UserWarning: X does not have valid feature names, but MLPClassifier was fitted with feature names\n",
      "  warnings.warn(\n",
      "\n"
     ]
    },
    {
     "name": "stdout",
     "output_type": "stream",
     "text": [
      "Validation score: 0.808860                                                                                     \n",
      "Iteration 5, loss = 0.51030649                                                                                 \n",
      "Validation score: 0.810013                                                                                     \n",
      " 14%|████▍                           | 14/100 [3:28:59<19:27:24, 814.47s/trial, best loss: -0.8171041736275549]"
     ]
    },
    {
     "name": "stderr",
     "output_type": "stream",
     "text": [
      "/home/jindalmadhur26/anaconda3/lib/python3.9/site-packages/sklearn/base.py:445: UserWarning: X does not have valid feature names, but MLPClassifier was fitted with feature names\n",
      "  warnings.warn(\n",
      "\n"
     ]
    },
    {
     "name": "stdout",
     "output_type": "stream",
     "text": [
      "Iteration 6, loss = 0.51009000                                                                                 \n",
      "Validation score: 0.807911                                                                                     \n",
      " 14%|████▍                           | 14/100 [3:29:15<19:27:24, 814.47s/trial, best loss: -0.8171041736275549]"
     ]
    },
    {
     "name": "stderr",
     "output_type": "stream",
     "text": [
      "/home/jindalmadhur26/anaconda3/lib/python3.9/site-packages/sklearn/base.py:445: UserWarning: X does not have valid feature names, but MLPClassifier was fitted with feature names\n",
      "  warnings.warn(\n",
      "\n"
     ]
    },
    {
     "name": "stdout",
     "output_type": "stream",
     "text": [
      "Iteration 7, loss = 0.50968310                                                                                 \n",
      "Validation score: 0.809603                                                                                     \n"
     ]
    },
    {
     "name": "stderr",
     "output_type": "stream",
     "text": [
      "/home/jindalmadhur26/anaconda3/lib/python3.9/site-packages/sklearn/base.py:445: UserWarning: X does not have valid feature names, but MLPClassifier was fitted with feature names\n",
      "  warnings.warn(\n",
      "\n"
     ]
    },
    {
     "name": "stdout",
     "output_type": "stream",
     "text": [
      "Iteration 8, loss = 0.50968346                                                                                 \n",
      "Validation score: 0.809629                                                                                     \n",
      " 14%|████▍                           | 14/100 [3:29:53<19:27:24, 814.47s/trial, best loss: -0.8171041736275549]"
     ]
    },
    {
     "name": "stderr",
     "output_type": "stream",
     "text": [
      "/home/jindalmadhur26/anaconda3/lib/python3.9/site-packages/sklearn/base.py:445: UserWarning: X does not have valid feature names, but MLPClassifier was fitted with feature names\n",
      "  warnings.warn(\n",
      "\n"
     ]
    },
    {
     "name": "stdout",
     "output_type": "stream",
     "text": [
      "Iteration 9, loss = 0.50963600                                                                                 \n",
      "Validation score: 0.809449                                                                                     \n",
      " 14%|████▍                           | 14/100 [3:30:16<19:27:24, 814.47s/trial, best loss: -0.8171041736275549]"
     ]
    },
    {
     "name": "stderr",
     "output_type": "stream",
     "text": [
      "/home/jindalmadhur26/anaconda3/lib/python3.9/site-packages/sklearn/base.py:445: UserWarning: X does not have valid feature names, but MLPClassifier was fitted with feature names\n",
      "  warnings.warn(\n",
      "\n"
     ]
    },
    {
     "name": "stdout",
     "output_type": "stream",
     "text": [
      "Iteration 10, loss = 0.50935420                                                                                \n",
      "Validation score: 0.808142                                                                                     \n",
      " 14%|████▍                           | 14/100 [3:30:38<19:27:24, 814.47s/trial, best loss: -0.8171041736275549]"
     ]
    },
    {
     "name": "stderr",
     "output_type": "stream",
     "text": [
      "/home/jindalmadhur26/anaconda3/lib/python3.9/site-packages/sklearn/base.py:445: UserWarning: X does not have valid feature names, but MLPClassifier was fitted with feature names\n",
      "  warnings.warn(\n",
      "\n"
     ]
    },
    {
     "name": "stdout",
     "output_type": "stream",
     "text": [
      "Iteration 11, loss = 0.50961726                                                                                \n",
      "Validation score: 0.808655                                                                                     \n",
      " 14%|████▍                           | 14/100 [3:30:54<19:27:24, 814.47s/trial, best loss: -0.8171041736275549]"
     ]
    },
    {
     "name": "stderr",
     "output_type": "stream",
     "text": [
      "/home/jindalmadhur26/anaconda3/lib/python3.9/site-packages/sklearn/base.py:445: UserWarning: X does not have valid feature names, but MLPClassifier was fitted with feature names\n",
      "  warnings.warn(\n",
      "\n"
     ]
    },
    {
     "name": "stdout",
     "output_type": "stream",
     "text": [
      "Iteration 12, loss = 0.50952800                                                                                \n",
      " 14%|████▍                           | 14/100 [3:31:16<19:27:24, 814.47s/trial, best loss: -0.8171041736275549]"
     ]
    },
    {
     "name": "stderr",
     "output_type": "stream",
     "text": [
      "/home/jindalmadhur26/anaconda3/lib/python3.9/site-packages/sklearn/base.py:445: UserWarning: X does not have valid feature names, but MLPClassifier was fitted with feature names\n",
      "  warnings.warn(\n",
      "\n"
     ]
    },
    {
     "name": "stdout",
     "output_type": "stream",
     "text": [
      "Validation score: 0.806860                                                                                     \n",
      "Iteration 13, loss = 0.50965255                                                                                \n",
      " 14%|████▍                           | 14/100 [3:31:55<19:27:24, 814.47s/trial, best loss: -0.8171041736275549]"
     ]
    },
    {
     "name": "stderr",
     "output_type": "stream",
     "text": [
      "/home/jindalmadhur26/anaconda3/lib/python3.9/site-packages/sklearn/base.py:445: UserWarning: X does not have valid feature names, but MLPClassifier was fitted with feature names\n",
      "  warnings.warn(\n",
      "\n"
     ]
    },
    {
     "name": "stdout",
     "output_type": "stream",
     "text": [
      "Validation score: 0.809552                                                                                     \n",
      "Iteration 14, loss = 0.50945615                                                                                \n",
      " 14%|████▍                           | 14/100 [3:32:22<19:27:24, 814.47s/trial, best loss: -0.8171041736275549]"
     ]
    },
    {
     "name": "stderr",
     "output_type": "stream",
     "text": [
      "/home/jindalmadhur26/anaconda3/lib/python3.9/site-packages/sklearn/base.py:445: UserWarning: X does not have valid feature names, but MLPClassifier was fitted with feature names\n",
      "  warnings.warn(\n",
      "\n"
     ]
    },
    {
     "name": "stdout",
     "output_type": "stream",
     "text": [
      "Validation score: 0.808116                                                                                     \n",
      "Iteration 15, loss = 0.50948039                                                                                \n",
      " 14%|████▍                           | 14/100 [3:32:48<19:27:24, 814.47s/trial, best loss: -0.8171041736275549]"
     ]
    },
    {
     "name": "stderr",
     "output_type": "stream",
     "text": [
      "/home/jindalmadhur26/anaconda3/lib/python3.9/site-packages/sklearn/base.py:445: UserWarning: X does not have valid feature names, but MLPClassifier was fitted with feature names\n",
      "  warnings.warn(\n",
      "\n"
     ]
    },
    {
     "name": "stdout",
     "output_type": "stream",
     "text": [
      "Validation score: 0.806553                                                                                     \n",
      "Iteration 16, loss = 0.50965579                                                                                \n",
      " 14%|████▍                           | 14/100 [3:33:12<19:27:24, 814.47s/trial, best loss: -0.8171041736275549]"
     ]
    },
    {
     "name": "stderr",
     "output_type": "stream",
     "text": [
      "/home/jindalmadhur26/anaconda3/lib/python3.9/site-packages/sklearn/base.py:445: UserWarning: X does not have valid feature names, but MLPClassifier was fitted with feature names\n",
      "  warnings.warn(\n",
      "\n"
     ]
    },
    {
     "name": "stdout",
     "output_type": "stream",
     "text": [
      "Validation score: 0.809783                                                                                     \n",
      "Validation score did not improve more than tol=0.000100 for 10 consecutive epochs. Stopping.                   \n",
      "0.8099396015135512                                                                                             \n",
      "0.8109737495823467                                                                                             \n",
      "{'activation': 'logistic', 'alpha': 0.23194832612239666, 'hidden_layer_sizes': 0}                              \n",
      "Iteration 1, loss = 0.52657671                                                                                 \n",
      " 15%|████▊                           | 15/100 [3:36:16<17:27:42, 739.56s/trial, best loss: -0.8171041736275549]"
     ]
    },
    {
     "name": "stderr",
     "output_type": "stream",
     "text": [
      "/home/jindalmadhur26/anaconda3/lib/python3.9/site-packages/sklearn/base.py:445: UserWarning: X does not have valid feature names, but MLPClassifier was fitted with feature names\n",
      "  warnings.warn(\n",
      "\n"
     ]
    },
    {
     "name": "stdout",
     "output_type": "stream",
     "text": [
      "Validation score: 0.807475                                                                                     \n",
      "Iteration 2, loss = 0.46728031                                                                                 \n",
      " 15%|████▊                           | 15/100 [3:36:33<17:27:42, 739.56s/trial, best loss: -0.8171041736275549]"
     ]
    },
    {
     "name": "stderr",
     "output_type": "stream",
     "text": [
      "/home/jindalmadhur26/anaconda3/lib/python3.9/site-packages/sklearn/base.py:445: UserWarning: X does not have valid feature names, but MLPClassifier was fitted with feature names\n",
      "  warnings.warn(\n",
      "\n"
     ]
    },
    {
     "name": "stdout",
     "output_type": "stream",
     "text": [
      "Validation score: 0.812679                                                                                     \n",
      "Iteration 3, loss = 0.46302716                                                                                 \n",
      " 15%|████▊                           | 15/100 [3:36:57<17:27:42, 739.56s/trial, best loss: -0.8171041736275549]"
     ]
    },
    {
     "name": "stderr",
     "output_type": "stream",
     "text": [
      "/home/jindalmadhur26/anaconda3/lib/python3.9/site-packages/sklearn/base.py:445: UserWarning: X does not have valid feature names, but MLPClassifier was fitted with feature names\n",
      "  warnings.warn(\n",
      "\n"
     ]
    },
    {
     "name": "stdout",
     "output_type": "stream",
     "text": [
      "Validation score: 0.813192                                                                                     \n",
      "Iteration 4, loss = 0.46101455                                                                                 \n",
      " 15%|████▊                           | 15/100 [3:37:24<17:27:42, 739.56s/trial, best loss: -0.8171041736275549]"
     ]
    },
    {
     "name": "stderr",
     "output_type": "stream",
     "text": [
      "/home/jindalmadhur26/anaconda3/lib/python3.9/site-packages/sklearn/base.py:445: UserWarning: X does not have valid feature names, but MLPClassifier was fitted with feature names\n",
      "  warnings.warn(\n",
      "\n"
     ]
    },
    {
     "name": "stdout",
     "output_type": "stream",
     "text": [
      "Validation score: 0.813449                                                                                     \n",
      "Iteration 5, loss = 0.45921238                                                                                 \n",
      " 15%|████▊                           | 15/100 [3:38:01<17:27:42, 739.56s/trial, best loss: -0.8171041736275549]"
     ]
    },
    {
     "name": "stderr",
     "output_type": "stream",
     "text": [
      "/home/jindalmadhur26/anaconda3/lib/python3.9/site-packages/sklearn/base.py:445: UserWarning: X does not have valid feature names, but MLPClassifier was fitted with feature names\n",
      "  warnings.warn(\n",
      "\n"
     ]
    },
    {
     "name": "stdout",
     "output_type": "stream",
     "text": [
      "Validation score: 0.813602                                                                                     \n",
      "Iteration 6, loss = 0.45809301                                                                                 \n",
      " 15%|████▊                           | 15/100 [3:38:40<17:27:42, 739.56s/trial, best loss: -0.8171041736275549]"
     ]
    },
    {
     "name": "stderr",
     "output_type": "stream",
     "text": [
      "/home/jindalmadhur26/anaconda3/lib/python3.9/site-packages/sklearn/base.py:445: UserWarning: X does not have valid feature names, but MLPClassifier was fitted with feature names\n",
      "  warnings.warn(\n",
      "\n"
     ]
    },
    {
     "name": "stdout",
     "output_type": "stream",
     "text": [
      "Validation score: 0.812628                                                                                     \n",
      "Iteration 7, loss = 0.45707636                                                                                 \n",
      " 15%|████▊                           | 15/100 [3:39:30<17:27:42, 739.56s/trial, best loss: -0.8171041736275549]"
     ]
    },
    {
     "name": "stderr",
     "output_type": "stream",
     "text": [
      "/home/jindalmadhur26/anaconda3/lib/python3.9/site-packages/sklearn/base.py:445: UserWarning: X does not have valid feature names, but MLPClassifier was fitted with feature names\n",
      "  warnings.warn(\n",
      "\n"
     ]
    },
    {
     "name": "stdout",
     "output_type": "stream",
     "text": [
      "Validation score: 0.813782                                                                                     \n",
      "Iteration 8, loss = 0.45602571                                                                                 \n",
      " 15%|████▊                           | 15/100 [3:40:23<17:27:42, 739.56s/trial, best loss: -0.8171041736275549]"
     ]
    },
    {
     "name": "stderr",
     "output_type": "stream",
     "text": [
      "/home/jindalmadhur26/anaconda3/lib/python3.9/site-packages/sklearn/base.py:445: UserWarning: X does not have valid feature names, but MLPClassifier was fitted with feature names\n",
      "  warnings.warn(\n",
      "\n"
     ]
    },
    {
     "name": "stdout",
     "output_type": "stream",
     "text": [
      "Validation score: 0.814371                                                                                     \n",
      "Iteration 9, loss = 0.45519993                                                                                 \n",
      " 15%|████▊                           | 15/100 [3:41:11<17:27:42, 739.56s/trial, best loss: -0.8171041736275549]"
     ]
    },
    {
     "name": "stderr",
     "output_type": "stream",
     "text": [
      "/home/jindalmadhur26/anaconda3/lib/python3.9/site-packages/sklearn/base.py:445: UserWarning: X does not have valid feature names, but MLPClassifier was fitted with feature names\n",
      "  warnings.warn(\n",
      "\n"
     ]
    },
    {
     "name": "stdout",
     "output_type": "stream",
     "text": [
      "Validation score: 0.814628                                                                                     \n",
      "Iteration 10, loss = 0.45451966                                                                                \n",
      " 15%|████▊                           | 15/100 [3:42:02<17:27:42, 739.56s/trial, best loss: -0.8171041736275549]"
     ]
    },
    {
     "name": "stderr",
     "output_type": "stream",
     "text": [
      "/home/jindalmadhur26/anaconda3/lib/python3.9/site-packages/sklearn/base.py:445: UserWarning: X does not have valid feature names, but MLPClassifier was fitted with feature names\n",
      "  warnings.warn(\n",
      "\n"
     ]
    },
    {
     "name": "stdout",
     "output_type": "stream",
     "text": [
      "Validation score: 0.813910                                                                                     \n",
      "Iteration 11, loss = 0.45378060                                                                                \n",
      " 15%|████▊                           | 15/100 [3:42:50<17:27:42, 739.56s/trial, best loss: -0.8171041736275549]"
     ]
    },
    {
     "name": "stderr",
     "output_type": "stream",
     "text": [
      "/home/jindalmadhur26/anaconda3/lib/python3.9/site-packages/sklearn/base.py:445: UserWarning: X does not have valid feature names, but MLPClassifier was fitted with feature names\n",
      "  warnings.warn(\n",
      "\n"
     ]
    },
    {
     "name": "stdout",
     "output_type": "stream",
     "text": [
      "Validation score: 0.813987                                                                                     \n",
      "Iteration 12, loss = 0.45302491                                                                                \n",
      " 15%|████▊                           | 15/100 [3:43:30<17:27:42, 739.56s/trial, best loss: -0.8171041736275549]"
     ]
    },
    {
     "name": "stderr",
     "output_type": "stream",
     "text": [
      "/home/jindalmadhur26/anaconda3/lib/python3.9/site-packages/sklearn/base.py:445: UserWarning: X does not have valid feature names, but MLPClassifier was fitted with feature names\n",
      "  warnings.warn(\n",
      "\n"
     ]
    },
    {
     "name": "stdout",
     "output_type": "stream",
     "text": [
      "Validation score: 0.814807                                                                                     \n",
      "Iteration 13, loss = 0.45234868                                                                                \n",
      " 15%|████▊                           | 15/100 [3:44:08<17:27:42, 739.56s/trial, best loss: -0.8171041736275549]"
     ]
    },
    {
     "name": "stderr",
     "output_type": "stream",
     "text": [
      "/home/jindalmadhur26/anaconda3/lib/python3.9/site-packages/sklearn/base.py:445: UserWarning: X does not have valid feature names, but MLPClassifier was fitted with feature names\n",
      "  warnings.warn(\n",
      "\n"
     ]
    },
    {
     "name": "stdout",
     "output_type": "stream",
     "text": [
      "Validation score: 0.815166                                                                                     \n",
      "Iteration 14, loss = 0.45185805                                                                                \n",
      " 15%|████▊                           | 15/100 [3:44:45<17:27:42, 739.56s/trial, best loss: -0.8171041736275549]"
     ]
    },
    {
     "name": "stderr",
     "output_type": "stream",
     "text": [
      "/home/jindalmadhur26/anaconda3/lib/python3.9/site-packages/sklearn/base.py:445: UserWarning: X does not have valid feature names, but MLPClassifier was fitted with feature names\n",
      "  warnings.warn(\n",
      "\n"
     ]
    },
    {
     "name": "stdout",
     "output_type": "stream",
     "text": [
      "Validation score: 0.814115                                                                                     \n",
      "Iteration 15, loss = 0.45130586                                                                                \n",
      " 15%|████▊                           | 15/100 [3:45:20<17:27:42, 739.56s/trial, best loss: -0.8171041736275549]"
     ]
    },
    {
     "name": "stderr",
     "output_type": "stream",
     "text": [
      "/home/jindalmadhur26/anaconda3/lib/python3.9/site-packages/sklearn/base.py:445: UserWarning: X does not have valid feature names, but MLPClassifier was fitted with feature names\n",
      "  warnings.warn(\n",
      "\n"
     ]
    },
    {
     "name": "stdout",
     "output_type": "stream",
     "text": [
      "Validation score: 0.813192                                                                                     \n",
      "Iteration 16, loss = 0.45105474                                                                                \n",
      " 15%|████▊                           | 15/100 [3:45:58<17:27:42, 739.56s/trial, best loss: -0.8171041736275549]"
     ]
    },
    {
     "name": "stderr",
     "output_type": "stream",
     "text": [
      "/home/jindalmadhur26/anaconda3/lib/python3.9/site-packages/sklearn/base.py:445: UserWarning: X does not have valid feature names, but MLPClassifier was fitted with feature names\n",
      "  warnings.warn(\n",
      "\n"
     ]
    },
    {
     "name": "stdout",
     "output_type": "stream",
     "text": [
      "Validation score: 0.814448                                                                                     \n",
      "Iteration 17, loss = 0.45019601                                                                                \n",
      " 15%|████▊                           | 15/100 [3:46:34<17:27:42, 739.56s/trial, best loss: -0.8171041736275549]"
     ]
    },
    {
     "name": "stderr",
     "output_type": "stream",
     "text": [
      "/home/jindalmadhur26/anaconda3/lib/python3.9/site-packages/sklearn/base.py:445: UserWarning: X does not have valid feature names, but MLPClassifier was fitted with feature names\n",
      "  warnings.warn(\n",
      "\n"
     ]
    },
    {
     "name": "stdout",
     "output_type": "stream",
     "text": [
      "Validation score: 0.815346                                                                                     \n",
      "Iteration 18, loss = 0.44982335                                                                                \n",
      " 15%|████▊                           | 15/100 [3:47:09<17:27:42, 739.56s/trial, best loss: -0.8171041736275549]"
     ]
    },
    {
     "name": "stderr",
     "output_type": "stream",
     "text": [
      "/home/jindalmadhur26/anaconda3/lib/python3.9/site-packages/sklearn/base.py:445: UserWarning: X does not have valid feature names, but MLPClassifier was fitted with feature names\n",
      "  warnings.warn(\n",
      "\n"
     ]
    },
    {
     "name": "stdout",
     "output_type": "stream",
     "text": [
      "Validation score: 0.814653                                                                                     \n",
      "Iteration 19, loss = 0.44935117                                                                                \n",
      " 15%|████▊                           | 15/100 [3:47:46<17:27:42, 739.56s/trial, best loss: -0.8171041736275549]"
     ]
    },
    {
     "name": "stderr",
     "output_type": "stream",
     "text": [
      "/home/jindalmadhur26/anaconda3/lib/python3.9/site-packages/sklearn/base.py:445: UserWarning: X does not have valid feature names, but MLPClassifier was fitted with feature names\n",
      "  warnings.warn(\n",
      "\n"
     ]
    },
    {
     "name": "stdout",
     "output_type": "stream",
     "text": [
      "Validation score: 0.814346                                                                                     \n",
      "Iteration 20, loss = 0.44933829                                                                                \n",
      " 15%|████▊                           | 15/100 [3:48:19<17:27:42, 739.56s/trial, best loss: -0.8171041736275549]"
     ]
    },
    {
     "name": "stderr",
     "output_type": "stream",
     "text": [
      "/home/jindalmadhur26/anaconda3/lib/python3.9/site-packages/sklearn/base.py:445: UserWarning: X does not have valid feature names, but MLPClassifier was fitted with feature names\n",
      "  warnings.warn(\n",
      "\n"
     ]
    },
    {
     "name": "stdout",
     "output_type": "stream",
     "text": [
      "Validation score: 0.813859                                                                                     \n",
      "Iteration 21, loss = 0.44844351                                                                                \n",
      " 15%|████▊                           | 15/100 [3:48:51<17:27:42, 739.56s/trial, best loss: -0.8171041736275549]"
     ]
    },
    {
     "name": "stderr",
     "output_type": "stream",
     "text": [
      "/home/jindalmadhur26/anaconda3/lib/python3.9/site-packages/sklearn/base.py:445: UserWarning: X does not have valid feature names, but MLPClassifier was fitted with feature names\n",
      "  warnings.warn(\n",
      "\n"
     ]
    },
    {
     "name": "stdout",
     "output_type": "stream",
     "text": [
      "Validation score: 0.813192                                                                                     \n",
      "Iteration 22, loss = 0.44825792                                                                                \n",
      " 15%|████▊                           | 15/100 [3:49:18<17:27:42, 739.56s/trial, best loss: -0.8171041736275549]"
     ]
    },
    {
     "name": "stderr",
     "output_type": "stream",
     "text": [
      "/home/jindalmadhur26/anaconda3/lib/python3.9/site-packages/sklearn/base.py:445: UserWarning: X does not have valid feature names, but MLPClassifier was fitted with feature names\n",
      "  warnings.warn(\n",
      "\n"
     ]
    },
    {
     "name": "stdout",
     "output_type": "stream",
     "text": [
      "Validation score: 0.814935                                                                                     \n",
      "Iteration 23, loss = 0.44772277                                                                                \n",
      " 15%|████▊                           | 15/100 [3:49:44<17:27:42, 739.56s/trial, best loss: -0.8171041736275549]"
     ]
    },
    {
     "name": "stderr",
     "output_type": "stream",
     "text": [
      "/home/jindalmadhur26/anaconda3/lib/python3.9/site-packages/sklearn/base.py:445: UserWarning: X does not have valid feature names, but MLPClassifier was fitted with feature names\n",
      "  warnings.warn(\n",
      "\n"
     ]
    },
    {
     "name": "stdout",
     "output_type": "stream",
     "text": [
      "Validation score: 0.814628                                                                                     \n",
      "Iteration 24, loss = 0.44728476                                                                                \n",
      " 15%|████▊                           | 15/100 [3:50:11<17:27:42, 739.56s/trial, best loss: -0.8171041736275549]"
     ]
    },
    {
     "name": "stderr",
     "output_type": "stream",
     "text": [
      "/home/jindalmadhur26/anaconda3/lib/python3.9/site-packages/sklearn/base.py:445: UserWarning: X does not have valid feature names, but MLPClassifier was fitted with feature names\n",
      "  warnings.warn(\n",
      "\n"
     ]
    },
    {
     "name": "stdout",
     "output_type": "stream",
     "text": [
      "Validation score: 0.814423                                                                                     \n",
      "Iteration 25, loss = 0.44703849                                                                                \n",
      " 15%|████▊                           | 15/100 [3:50:41<17:27:42, 739.56s/trial, best loss: -0.8171041736275549]"
     ]
    },
    {
     "name": "stderr",
     "output_type": "stream",
     "text": [
      "/home/jindalmadhur26/anaconda3/lib/python3.9/site-packages/sklearn/base.py:445: UserWarning: X does not have valid feature names, but MLPClassifier was fitted with feature names\n",
      "  warnings.warn(\n",
      "\n"
     ]
    },
    {
     "name": "stdout",
     "output_type": "stream",
     "text": [
      "Validation score: 0.815833                                                                                     \n",
      "Iteration 26, loss = 0.44655098                                                                                \n",
      " 15%|████▊                           | 15/100 [3:51:10<17:27:42, 739.56s/trial, best loss: -0.8171041736275549]"
     ]
    },
    {
     "name": "stderr",
     "output_type": "stream",
     "text": [
      "/home/jindalmadhur26/anaconda3/lib/python3.9/site-packages/sklearn/base.py:445: UserWarning: X does not have valid feature names, but MLPClassifier was fitted with feature names\n",
      "  warnings.warn(\n",
      "\n"
     ]
    },
    {
     "name": "stdout",
     "output_type": "stream",
     "text": [
      "Validation score: 0.815192                                                                                     \n",
      "Iteration 27, loss = 0.44636009                                                                                \n",
      " 15%|████▊                           | 15/100 [3:51:43<17:27:42, 739.56s/trial, best loss: -0.8171041736275549]"
     ]
    },
    {
     "name": "stderr",
     "output_type": "stream",
     "text": [
      "/home/jindalmadhur26/anaconda3/lib/python3.9/site-packages/sklearn/base.py:445: UserWarning: X does not have valid feature names, but MLPClassifier was fitted with feature names\n",
      "  warnings.warn(\n",
      "\n"
     ]
    },
    {
     "name": "stdout",
     "output_type": "stream",
     "text": [
      "Validation score: 0.813423                                                                                     \n",
      "Iteration 28, loss = 0.44580605                                                                                \n",
      " 15%|████▊                           | 15/100 [3:52:22<17:27:42, 739.56s/trial, best loss: -0.8171041736275549]"
     ]
    },
    {
     "name": "stderr",
     "output_type": "stream",
     "text": [
      "/home/jindalmadhur26/anaconda3/lib/python3.9/site-packages/sklearn/base.py:445: UserWarning: X does not have valid feature names, but MLPClassifier was fitted with feature names\n",
      "  warnings.warn(\n",
      "\n"
     ]
    },
    {
     "name": "stdout",
     "output_type": "stream",
     "text": [
      "Validation score: 0.814551                                                                                     \n",
      "Iteration 29, loss = 0.44563692                                                                                \n",
      " 15%|████▊                           | 15/100 [3:53:04<17:27:42, 739.56s/trial, best loss: -0.8171041736275549]"
     ]
    },
    {
     "name": "stderr",
     "output_type": "stream",
     "text": [
      "/home/jindalmadhur26/anaconda3/lib/python3.9/site-packages/sklearn/base.py:445: UserWarning: X does not have valid feature names, but MLPClassifier was fitted with feature names\n",
      "  warnings.warn(\n",
      "\n"
     ]
    },
    {
     "name": "stdout",
     "output_type": "stream",
     "text": [
      "Validation score: 0.814884                                                                                     \n",
      "Iteration 30, loss = 0.44504241                                                                                \n",
      " 15%|████▊                           | 15/100 [3:53:41<17:27:42, 739.56s/trial, best loss: -0.8171041736275549]"
     ]
    },
    {
     "name": "stderr",
     "output_type": "stream",
     "text": [
      "/home/jindalmadhur26/anaconda3/lib/python3.9/site-packages/sklearn/base.py:445: UserWarning: X does not have valid feature names, but MLPClassifier was fitted with feature names\n",
      "  warnings.warn(\n",
      "\n"
     ]
    },
    {
     "name": "stdout",
     "output_type": "stream",
     "text": [
      "Validation score: 0.813782                                                                                     \n",
      "Iteration 31, loss = 0.44476052                                                                                \n",
      " 15%|████▊                           | 15/100 [3:54:19<17:27:42, 739.56s/trial, best loss: -0.8171041736275549]"
     ]
    },
    {
     "name": "stderr",
     "output_type": "stream",
     "text": [
      "/home/jindalmadhur26/anaconda3/lib/python3.9/site-packages/sklearn/base.py:445: UserWarning: X does not have valid feature names, but MLPClassifier was fitted with feature names\n",
      "  warnings.warn(\n",
      "\n"
     ]
    },
    {
     "name": "stdout",
     "output_type": "stream",
     "text": [
      "Validation score: 0.813602                                                                                     \n",
      "Iteration 32, loss = 0.44460366                                                                                \n",
      " 15%|████▊                           | 15/100 [3:54:58<17:27:42, 739.56s/trial, best loss: -0.8171041736275549]"
     ]
    },
    {
     "name": "stderr",
     "output_type": "stream",
     "text": [
      "/home/jindalmadhur26/anaconda3/lib/python3.9/site-packages/sklearn/base.py:445: UserWarning: X does not have valid feature names, but MLPClassifier was fitted with feature names\n",
      "  warnings.warn(\n",
      "\n"
     ]
    },
    {
     "name": "stdout",
     "output_type": "stream",
     "text": [
      "Validation score: 0.814807                                                                                     \n",
      "Iteration 33, loss = 0.44409548                                                                                \n",
      " 15%|████▊                           | 15/100 [3:55:37<17:27:42, 739.56s/trial, best loss: -0.8171041736275549]"
     ]
    },
    {
     "name": "stderr",
     "output_type": "stream",
     "text": [
      "/home/jindalmadhur26/anaconda3/lib/python3.9/site-packages/sklearn/base.py:445: UserWarning: X does not have valid feature names, but MLPClassifier was fitted with feature names\n",
      "  warnings.warn(\n",
      "\n"
     ]
    },
    {
     "name": "stdout",
     "output_type": "stream",
     "text": [
      "Validation score: 0.815166                                                                                     \n",
      "Iteration 34, loss = 0.44378498                                                                                \n",
      " 15%|████▊                           | 15/100 [3:56:16<17:27:42, 739.56s/trial, best loss: -0.8171041736275549]"
     ]
    },
    {
     "name": "stderr",
     "output_type": "stream",
     "text": [
      "/home/jindalmadhur26/anaconda3/lib/python3.9/site-packages/sklearn/base.py:445: UserWarning: X does not have valid feature names, but MLPClassifier was fitted with feature names\n",
      "  warnings.warn(\n",
      "\n"
     ]
    },
    {
     "name": "stdout",
     "output_type": "stream",
     "text": [
      "Validation score: 0.815551                                                                                     \n",
      "Iteration 35, loss = 0.44344292                                                                                \n",
      " 15%|████▊                           | 15/100 [3:56:53<17:27:42, 739.56s/trial, best loss: -0.8171041736275549]"
     ]
    },
    {
     "name": "stderr",
     "output_type": "stream",
     "text": [
      "/home/jindalmadhur26/anaconda3/lib/python3.9/site-packages/sklearn/base.py:445: UserWarning: X does not have valid feature names, but MLPClassifier was fitted with feature names\n",
      "  warnings.warn(\n",
      "\n"
     ]
    },
    {
     "name": "stdout",
     "output_type": "stream",
     "text": [
      "Validation score: 0.814961                                                                                     \n",
      "Iteration 36, loss = 0.44300216                                                                                \n",
      " 15%|████▊                           | 15/100 [3:57:32<17:27:42, 739.56s/trial, best loss: -0.8171041736275549]"
     ]
    },
    {
     "name": "stderr",
     "output_type": "stream",
     "text": [
      "/home/jindalmadhur26/anaconda3/lib/python3.9/site-packages/sklearn/base.py:445: UserWarning: X does not have valid feature names, but MLPClassifier was fitted with feature names\n",
      "  warnings.warn(\n",
      "\n"
     ]
    },
    {
     "name": "stdout",
     "output_type": "stream",
     "text": [
      "Validation score: 0.814756                                                                                     \n",
      "Validation score did not improve more than tol=0.000100 for 10 consecutive epochs. Stopping.                   \n",
      "0.818512289912735                                                                                              \n",
      "0.8170896465563577                                                                                             \n",
      "{'activation': 'logistic', 'alpha': 9.437216056678646e-06, 'hidden_layer_sizes': 37}                           \n",
      "Iteration 1, loss = 0.52426093                                                                                 \n",
      " 16%|█████                           | 16/100 [4:01:16<22:20:36, 957.58s/trial, best loss: -0.8171041736275549]"
     ]
    },
    {
     "name": "stderr",
     "output_type": "stream",
     "text": [
      "/home/jindalmadhur26/anaconda3/lib/python3.9/site-packages/sklearn/base.py:445: UserWarning: X does not have valid feature names, but MLPClassifier was fitted with feature names\n",
      "  warnings.warn(\n",
      "\n"
     ]
    },
    {
     "name": "stdout",
     "output_type": "stream",
     "text": [
      "Validation score: 0.808552                                                                                     \n",
      "Iteration 2, loss = 0.49091492                                                                                 \n",
      "Validation score: 0.813192                                                                                     \n",
      " 16%|█████                           | 16/100 [4:01:43<22:20:36, 957.58s/trial, best loss: -0.8171041736275549]"
     ]
    },
    {
     "name": "stderr",
     "output_type": "stream",
     "text": [
      "/home/jindalmadhur26/anaconda3/lib/python3.9/site-packages/sklearn/base.py:445: UserWarning: X does not have valid feature names, but MLPClassifier was fitted with feature names\n",
      "  warnings.warn(\n",
      "\n"
     ]
    },
    {
     "name": "stdout",
     "output_type": "stream",
     "text": [
      "Iteration 3, loss = 0.48462753                                                                                 \n",
      "Validation score: 0.811859                                                                                     \n",
      " 16%|█████                           | 16/100 [4:01:57<22:20:36, 957.58s/trial, best loss: -0.8171041736275549]"
     ]
    },
    {
     "name": "stderr",
     "output_type": "stream",
     "text": [
      "/home/jindalmadhur26/anaconda3/lib/python3.9/site-packages/sklearn/base.py:445: UserWarning: X does not have valid feature names, but MLPClassifier was fitted with feature names\n",
      "  warnings.warn(\n",
      "\n"
     ]
    },
    {
     "name": "stdout",
     "output_type": "stream",
     "text": [
      "Iteration 4, loss = 0.48221630                                                                                 \n",
      "Validation score: 0.809039                                                                                     \n",
      " 16%|█████                           | 16/100 [4:02:05<22:20:36, 957.58s/trial, best loss: -0.8171041736275549]"
     ]
    },
    {
     "name": "stderr",
     "output_type": "stream",
     "text": [
      "/home/jindalmadhur26/anaconda3/lib/python3.9/site-packages/sklearn/base.py:445: UserWarning: X does not have valid feature names, but MLPClassifier was fitted with feature names\n",
      "  warnings.warn(\n",
      "\n"
     ]
    },
    {
     "name": "stdout",
     "output_type": "stream",
     "text": [
      "Iteration 5, loss = 0.48043884                                                                                 \n",
      "Validation score: 0.811808                                                                                     \n",
      " 16%|█████                           | 16/100 [4:02:13<22:20:36, 957.58s/trial, best loss: -0.8171041736275549]"
     ]
    },
    {
     "name": "stderr",
     "output_type": "stream",
     "text": [
      "/home/jindalmadhur26/anaconda3/lib/python3.9/site-packages/sklearn/base.py:445: UserWarning: X does not have valid feature names, but MLPClassifier was fitted with feature names\n",
      "  warnings.warn(\n",
      "\n"
     ]
    },
    {
     "name": "stdout",
     "output_type": "stream",
     "text": [
      "Iteration 6, loss = 0.47930180                                                                                 \n",
      "Validation score: 0.812449                                                                                     \n",
      " 16%|█████                           | 16/100 [4:02:21<22:20:36, 957.58s/trial, best loss: -0.8171041736275549]"
     ]
    },
    {
     "name": "stderr",
     "output_type": "stream",
     "text": [
      "/home/jindalmadhur26/anaconda3/lib/python3.9/site-packages/sklearn/base.py:445: UserWarning: X does not have valid feature names, but MLPClassifier was fitted with feature names\n",
      "  warnings.warn(\n",
      "\n"
     ]
    },
    {
     "name": "stdout",
     "output_type": "stream",
     "text": [
      "Iteration 7, loss = 0.47867830                                                                                 \n",
      "Validation score: 0.812551                                                                                     \n",
      " 16%|█████                           | 16/100 [4:02:33<22:20:36, 957.58s/trial, best loss: -0.8171041736275549]"
     ]
    },
    {
     "name": "stderr",
     "output_type": "stream",
     "text": [
      "/home/jindalmadhur26/anaconda3/lib/python3.9/site-packages/sklearn/base.py:445: UserWarning: X does not have valid feature names, but MLPClassifier was fitted with feature names\n",
      "  warnings.warn(\n",
      "\n"
     ]
    },
    {
     "name": "stdout",
     "output_type": "stream",
     "text": [
      "Iteration 8, loss = 0.47832425                                                                                 \n",
      "Validation score: 0.815012                                                                                     \n",
      " 16%|█████                           | 16/100 [4:02:43<22:20:36, 957.58s/trial, best loss: -0.8171041736275549]"
     ]
    },
    {
     "name": "stderr",
     "output_type": "stream",
     "text": [
      "/home/jindalmadhur26/anaconda3/lib/python3.9/site-packages/sklearn/base.py:445: UserWarning: X does not have valid feature names, but MLPClassifier was fitted with feature names\n",
      "  warnings.warn(\n",
      "\n"
     ]
    },
    {
     "name": "stdout",
     "output_type": "stream",
     "text": [
      "Iteration 9, loss = 0.47720798                                                                                 \n",
      "Validation score: 0.814397                                                                                     \n",
      " 16%|█████                           | 16/100 [4:02:51<22:20:36, 957.58s/trial, best loss: -0.8171041736275549]"
     ]
    },
    {
     "name": "stderr",
     "output_type": "stream",
     "text": [
      "/home/jindalmadhur26/anaconda3/lib/python3.9/site-packages/sklearn/base.py:445: UserWarning: X does not have valid feature names, but MLPClassifier was fitted with feature names\n",
      "  warnings.warn(\n",
      "\n"
     ]
    },
    {
     "name": "stdout",
     "output_type": "stream",
     "text": [
      "Iteration 10, loss = 0.47694112                                                                                \n",
      "Validation score: 0.811654                                                                                     \n",
      " 16%|█████                           | 16/100 [4:03:00<22:20:36, 957.58s/trial, best loss: -0.8171041736275549]"
     ]
    },
    {
     "name": "stderr",
     "output_type": "stream",
     "text": [
      "/home/jindalmadhur26/anaconda3/lib/python3.9/site-packages/sklearn/base.py:445: UserWarning: X does not have valid feature names, but MLPClassifier was fitted with feature names\n",
      "  warnings.warn(\n",
      "\n"
     ]
    },
    {
     "name": "stdout",
     "output_type": "stream",
     "text": [
      "Iteration 11, loss = 0.47644776                                                                                \n",
      "Validation score: 0.815140                                                                                     \n",
      " 16%|█████                           | 16/100 [4:03:08<22:20:36, 957.58s/trial, best loss: -0.8171041736275549]"
     ]
    },
    {
     "name": "stderr",
     "output_type": "stream",
     "text": [
      "/home/jindalmadhur26/anaconda3/lib/python3.9/site-packages/sklearn/base.py:445: UserWarning: X does not have valid feature names, but MLPClassifier was fitted with feature names\n",
      "  warnings.warn(\n",
      "\n"
     ]
    },
    {
     "name": "stdout",
     "output_type": "stream",
     "text": [
      "Iteration 12, loss = 0.47651785                                                                                \n",
      "Validation score: 0.814576                                                                                     \n",
      " 16%|█████                           | 16/100 [4:03:15<22:20:36, 957.58s/trial, best loss: -0.8171041736275549]"
     ]
    },
    {
     "name": "stderr",
     "output_type": "stream",
     "text": [
      "/home/jindalmadhur26/anaconda3/lib/python3.9/site-packages/sklearn/base.py:445: UserWarning: X does not have valid feature names, but MLPClassifier was fitted with feature names\n",
      "  warnings.warn(\n",
      "\n"
     ]
    },
    {
     "name": "stdout",
     "output_type": "stream",
     "text": [
      "Iteration 13, loss = 0.47656093                                                                                \n",
      " 16%|█████                           | 16/100 [4:03:28<22:20:36, 957.58s/trial, best loss: -0.8171041736275549]"
     ]
    },
    {
     "name": "stderr",
     "output_type": "stream",
     "text": [
      "/home/jindalmadhur26/anaconda3/lib/python3.9/site-packages/sklearn/base.py:445: UserWarning: X does not have valid feature names, but MLPClassifier was fitted with feature names\n",
      "  warnings.warn(\n",
      "\n"
     ]
    },
    {
     "name": "stdout",
     "output_type": "stream",
     "text": [
      "Validation score: 0.811731                                                                                     \n",
      "Iteration 14, loss = 0.47606576                                                                                \n",
      " 16%|█████                           | 16/100 [4:03:52<22:20:36, 957.58s/trial, best loss: -0.8171041736275549]"
     ]
    },
    {
     "name": "stderr",
     "output_type": "stream",
     "text": [
      "/home/jindalmadhur26/anaconda3/lib/python3.9/site-packages/sklearn/base.py:445: UserWarning: X does not have valid feature names, but MLPClassifier was fitted with feature names\n",
      "  warnings.warn(\n",
      "\n"
     ]
    },
    {
     "name": "stdout",
     "output_type": "stream",
     "text": [
      "Validation score: 0.816320                                                                                     \n",
      "Iteration 15, loss = 0.47637795                                                                                \n",
      " 16%|█████                           | 16/100 [4:04:33<22:20:36, 957.58s/trial, best loss: -0.8171041736275549]"
     ]
    },
    {
     "name": "stderr",
     "output_type": "stream",
     "text": [
      "/home/jindalmadhur26/anaconda3/lib/python3.9/site-packages/sklearn/base.py:445: UserWarning: X does not have valid feature names, but MLPClassifier was fitted with feature names\n",
      "  warnings.warn(\n",
      "\n"
     ]
    },
    {
     "name": "stdout",
     "output_type": "stream",
     "text": [
      "Validation score: 0.811346                                                                                     \n",
      "Iteration 16, loss = 0.47616897                                                                                \n",
      " 16%|█████                           | 16/100 [4:05:20<22:20:36, 957.58s/trial, best loss: -0.8171041736275549]"
     ]
    },
    {
     "name": "stderr",
     "output_type": "stream",
     "text": [
      "/home/jindalmadhur26/anaconda3/lib/python3.9/site-packages/sklearn/base.py:445: UserWarning: X does not have valid feature names, but MLPClassifier was fitted with feature names\n",
      "  warnings.warn(\n",
      "\n"
     ]
    },
    {
     "name": "stdout",
     "output_type": "stream",
     "text": [
      "Validation score: 0.814218                                                                                     \n",
      "Iteration 17, loss = 0.47627209                                                                                \n",
      " 16%|█████                           | 16/100 [4:06:11<22:20:36, 957.58s/trial, best loss: -0.8171041736275549]"
     ]
    },
    {
     "name": "stderr",
     "output_type": "stream",
     "text": [
      "/home/jindalmadhur26/anaconda3/lib/python3.9/site-packages/sklearn/base.py:445: UserWarning: X does not have valid feature names, but MLPClassifier was fitted with feature names\n",
      "  warnings.warn(\n",
      "\n"
     ]
    },
    {
     "name": "stdout",
     "output_type": "stream",
     "text": [
      "Validation score: 0.814192                                                                                     \n",
      "Iteration 18, loss = 0.47551310                                                                                \n",
      " 16%|█████                           | 16/100 [4:07:00<22:20:36, 957.58s/trial, best loss: -0.8171041736275549]"
     ]
    },
    {
     "name": "stderr",
     "output_type": "stream",
     "text": [
      "/home/jindalmadhur26/anaconda3/lib/python3.9/site-packages/sklearn/base.py:445: UserWarning: X does not have valid feature names, but MLPClassifier was fitted with feature names\n",
      "  warnings.warn(\n",
      "\n"
     ]
    },
    {
     "name": "stdout",
     "output_type": "stream",
     "text": [
      "Validation score: 0.815730                                                                                     \n",
      "Iteration 19, loss = 0.47583643                                                                                \n",
      " 16%|█████                           | 16/100 [4:07:45<22:20:36, 957.58s/trial, best loss: -0.8171041736275549]"
     ]
    },
    {
     "name": "stderr",
     "output_type": "stream",
     "text": [
      "/home/jindalmadhur26/anaconda3/lib/python3.9/site-packages/sklearn/base.py:445: UserWarning: X does not have valid feature names, but MLPClassifier was fitted with feature names\n",
      "  warnings.warn(\n",
      "\n"
     ]
    },
    {
     "name": "stdout",
     "output_type": "stream",
     "text": [
      "Validation score: 0.815653                                                                                     \n",
      "Iteration 20, loss = 0.47580617                                                                                \n",
      " 16%|█████                           | 16/100 [4:08:23<22:20:36, 957.58s/trial, best loss: -0.8171041736275549]"
     ]
    },
    {
     "name": "stderr",
     "output_type": "stream",
     "text": [
      "/home/jindalmadhur26/anaconda3/lib/python3.9/site-packages/sklearn/base.py:445: UserWarning: X does not have valid feature names, but MLPClassifier was fitted with feature names\n",
      "  warnings.warn(\n",
      "\n"
     ]
    },
    {
     "name": "stdout",
     "output_type": "stream",
     "text": [
      "Validation score: 0.813679                                                                                     \n",
      "Iteration 21, loss = 0.47532148                                                                                \n",
      " 16%|█████                           | 16/100 [4:09:07<22:20:36, 957.58s/trial, best loss: -0.8171041736275549]"
     ]
    },
    {
     "name": "stderr",
     "output_type": "stream",
     "text": [
      "/home/jindalmadhur26/anaconda3/lib/python3.9/site-packages/sklearn/base.py:445: UserWarning: X does not have valid feature names, but MLPClassifier was fitted with feature names\n",
      "  warnings.warn(\n",
      "\n"
     ]
    },
    {
     "name": "stdout",
     "output_type": "stream",
     "text": [
      "Validation score: 0.813961                                                                                     \n",
      "Iteration 22, loss = 0.47567603                                                                                \n",
      " 16%|█████                           | 16/100 [4:09:48<22:20:36, 957.58s/trial, best loss: -0.8171041736275549]"
     ]
    },
    {
     "name": "stderr",
     "output_type": "stream",
     "text": [
      "/home/jindalmadhur26/anaconda3/lib/python3.9/site-packages/sklearn/base.py:445: UserWarning: X does not have valid feature names, but MLPClassifier was fitted with feature names\n",
      "  warnings.warn(\n",
      "\n"
     ]
    },
    {
     "name": "stdout",
     "output_type": "stream",
     "text": [
      "Validation score: 0.814166                                                                                     \n",
      "Iteration 23, loss = 0.47547467                                                                                \n",
      " 16%|█████                           | 16/100 [4:10:35<22:20:36, 957.58s/trial, best loss: -0.8171041736275549]"
     ]
    },
    {
     "name": "stderr",
     "output_type": "stream",
     "text": [
      "/home/jindalmadhur26/anaconda3/lib/python3.9/site-packages/sklearn/base.py:445: UserWarning: X does not have valid feature names, but MLPClassifier was fitted with feature names\n",
      "  warnings.warn(\n",
      "\n"
     ]
    },
    {
     "name": "stdout",
     "output_type": "stream",
     "text": [
      "Validation score: 0.814243                                                                                     \n",
      "Iteration 24, loss = 0.47542353                                                                                \n",
      " 16%|█████                           | 16/100 [4:10:56<22:20:36, 957.58s/trial, best loss: -0.8171041736275549]"
     ]
    },
    {
     "name": "stderr",
     "output_type": "stream",
     "text": [
      "/home/jindalmadhur26/anaconda3/lib/python3.9/site-packages/sklearn/base.py:445: UserWarning: X does not have valid feature names, but MLPClassifier was fitted with feature names\n",
      "  warnings.warn(\n",
      "\n"
     ]
    },
    {
     "name": "stdout",
     "output_type": "stream",
     "text": [
      "Validation score: 0.814961                                                                                     \n",
      "Iteration 25, loss = 0.47583043                                                                                \n",
      " 16%|█████                           | 16/100 [4:11:20<22:20:36, 957.58s/trial, best loss: -0.8171041736275549]"
     ]
    },
    {
     "name": "stderr",
     "output_type": "stream",
     "text": [
      "/home/jindalmadhur26/anaconda3/lib/python3.9/site-packages/sklearn/base.py:445: UserWarning: X does not have valid feature names, but MLPClassifier was fitted with feature names\n",
      "  warnings.warn(\n",
      "\n"
     ]
    },
    {
     "name": "stdout",
     "output_type": "stream",
     "text": [
      "Validation score: 0.814269                                                                                     \n",
      "Validation score did not improve more than tol=0.000100 for 10 consecutive epochs. Stopping.                   \n",
      "0.8131312872363334                                                                                             \n",
      "0.8134142975434723                                                                                             \n",
      "{'activation': 'relu', 'alpha': 0.20248174635135646, 'hidden_layer_sizes': 12}                                 \n",
      "Iteration 1, loss = 0.55128473                                                                                 \n",
      " 17%|█████▍                          | 17/100 [4:14:15<20:54:29, 906.87s/trial, best loss: -0.8171041736275549]"
     ]
    },
    {
     "name": "stderr",
     "output_type": "stream",
     "text": [
      "/home/jindalmadhur26/anaconda3/lib/python3.9/site-packages/sklearn/base.py:445: UserWarning: X does not have valid feature names, but MLPClassifier was fitted with feature names\n",
      "  warnings.warn(\n",
      "\n"
     ]
    },
    {
     "name": "stdout",
     "output_type": "stream",
     "text": [
      "Validation score: 0.807809                                                                                     \n",
      "Iteration 2, loss = 0.47040831                                                                                 \n",
      " 17%|█████▍                          | 17/100 [4:14:46<20:54:29, 906.87s/trial, best loss: -0.8171041736275549]"
     ]
    },
    {
     "name": "stderr",
     "output_type": "stream",
     "text": [
      "/home/jindalmadhur26/anaconda3/lib/python3.9/site-packages/sklearn/base.py:445: UserWarning: X does not have valid feature names, but MLPClassifier was fitted with feature names\n",
      "  warnings.warn(\n",
      "\n"
     ]
    },
    {
     "name": "stdout",
     "output_type": "stream",
     "text": [
      "Validation score: 0.809834                                                                                     \n",
      "Iteration 3, loss = 0.46524027                                                                                 \n",
      " 17%|█████▍                          | 17/100 [4:15:18<20:54:29, 906.87s/trial, best loss: -0.8171041736275549]"
     ]
    },
    {
     "name": "stderr",
     "output_type": "stream",
     "text": [
      "/home/jindalmadhur26/anaconda3/lib/python3.9/site-packages/sklearn/base.py:445: UserWarning: X does not have valid feature names, but MLPClassifier was fitted with feature names\n",
      "  warnings.warn(\n",
      "\n"
     ]
    },
    {
     "name": "stdout",
     "output_type": "stream",
     "text": [
      "Validation score: 0.811064                                                                                     \n",
      "Iteration 4, loss = 0.46267491                                                                                 \n",
      " 17%|█████▍                          | 17/100 [4:15:48<20:54:29, 906.87s/trial, best loss: -0.8171041736275549]"
     ]
    },
    {
     "name": "stderr",
     "output_type": "stream",
     "text": [
      "/home/jindalmadhur26/anaconda3/lib/python3.9/site-packages/sklearn/base.py:445: UserWarning: X does not have valid feature names, but MLPClassifier was fitted with feature names\n",
      "  warnings.warn(\n",
      "\n"
     ]
    },
    {
     "name": "stdout",
     "output_type": "stream",
     "text": [
      "Validation score: 0.810936                                                                                     \n",
      "Iteration 5, loss = 0.46106306                                                                                 \n",
      " 17%|█████▍                          | 17/100 [4:16:19<20:54:29, 906.87s/trial, best loss: -0.8171041736275549]"
     ]
    },
    {
     "name": "stderr",
     "output_type": "stream",
     "text": [
      "/home/jindalmadhur26/anaconda3/lib/python3.9/site-packages/sklearn/base.py:445: UserWarning: X does not have valid feature names, but MLPClassifier was fitted with feature names\n",
      "  warnings.warn(\n",
      "\n"
     ]
    },
    {
     "name": "stdout",
     "output_type": "stream",
     "text": [
      "Validation score: 0.811577                                                                                     \n",
      "Iteration 6, loss = 0.45977834                                                                                 \n",
      " 17%|█████▍                          | 17/100 [4:16:49<20:54:29, 906.87s/trial, best loss: -0.8171041736275549]"
     ]
    },
    {
     "name": "stderr",
     "output_type": "stream",
     "text": [
      "/home/jindalmadhur26/anaconda3/lib/python3.9/site-packages/sklearn/base.py:445: UserWarning: X does not have valid feature names, but MLPClassifier was fitted with feature names\n",
      "  warnings.warn(\n",
      "\n"
     ]
    },
    {
     "name": "stdout",
     "output_type": "stream",
     "text": [
      "Validation score: 0.810347                                                                                     \n",
      "Iteration 7, loss = 0.45875016                                                                                 \n",
      " 17%|█████▍                          | 17/100 [4:17:13<20:54:29, 906.87s/trial, best loss: -0.8171041736275549]"
     ]
    },
    {
     "name": "stderr",
     "output_type": "stream",
     "text": [
      "/home/jindalmadhur26/anaconda3/lib/python3.9/site-packages/sklearn/base.py:445: UserWarning: X does not have valid feature names, but MLPClassifier was fitted with feature names\n",
      "  warnings.warn(\n",
      "\n"
     ]
    },
    {
     "name": "stdout",
     "output_type": "stream",
     "text": [
      "Validation score: 0.812115                                                                                     \n",
      "Iteration 8, loss = 0.45796532                                                                                 \n",
      " 17%|█████▍                          | 17/100 [4:17:32<20:54:29, 906.87s/trial, best loss: -0.8171041736275549]"
     ]
    },
    {
     "name": "stderr",
     "output_type": "stream",
     "text": [
      "/home/jindalmadhur26/anaconda3/lib/python3.9/site-packages/sklearn/base.py:445: UserWarning: X does not have valid feature names, but MLPClassifier was fitted with feature names\n",
      "  warnings.warn(\n",
      "\n"
     ]
    },
    {
     "name": "stdout",
     "output_type": "stream",
     "text": [
      "Validation score: 0.811193                                                                                     \n",
      "Iteration 9, loss = 0.45709748                                                                                 \n",
      "Validation score: 0.809834                                                                                     \n",
      " 17%|█████▍                          | 17/100 [4:17:49<20:54:29, 906.87s/trial, best loss: -0.8171041736275549]"
     ]
    },
    {
     "name": "stderr",
     "output_type": "stream",
     "text": [
      "/home/jindalmadhur26/anaconda3/lib/python3.9/site-packages/sklearn/base.py:445: UserWarning: X does not have valid feature names, but MLPClassifier was fitted with feature names\n",
      "  warnings.warn(\n",
      "\n"
     ]
    },
    {
     "name": "stdout",
     "output_type": "stream",
     "text": [
      "Iteration 10, loss = 0.45665341                                                                                \n",
      "Validation score: 0.811885                                                                                     \n",
      " 17%|█████▍                          | 17/100 [4:18:13<20:54:29, 906.87s/trial, best loss: -0.8171041736275549]"
     ]
    },
    {
     "name": "stderr",
     "output_type": "stream",
     "text": [
      "/home/jindalmadhur26/anaconda3/lib/python3.9/site-packages/sklearn/base.py:445: UserWarning: X does not have valid feature names, but MLPClassifier was fitted with feature names\n",
      "  warnings.warn(\n",
      "\n"
     ]
    },
    {
     "name": "stdout",
     "output_type": "stream",
     "text": [
      "Iteration 11, loss = 0.45602261                                                                                \n",
      "Validation score: 0.812526                                                                                     \n",
      " 17%|█████▍                          | 17/100 [4:18:40<20:54:29, 906.87s/trial, best loss: -0.8171041736275549]"
     ]
    },
    {
     "name": "stderr",
     "output_type": "stream",
     "text": [
      "/home/jindalmadhur26/anaconda3/lib/python3.9/site-packages/sklearn/base.py:445: UserWarning: X does not have valid feature names, but MLPClassifier was fitted with feature names\n",
      "  warnings.warn(\n",
      "\n"
     ]
    },
    {
     "name": "stdout",
     "output_type": "stream",
     "text": [
      "Iteration 12, loss = 0.45525143                                                                                \n",
      " 17%|█████▍                          | 17/100 [4:19:05<20:54:29, 906.87s/trial, best loss: -0.8171041736275549]"
     ]
    },
    {
     "name": "stderr",
     "output_type": "stream",
     "text": [
      "/home/jindalmadhur26/anaconda3/lib/python3.9/site-packages/sklearn/base.py:445: UserWarning: X does not have valid feature names, but MLPClassifier was fitted with feature names\n",
      "  warnings.warn(\n",
      "\n"
     ]
    },
    {
     "name": "stdout",
     "output_type": "stream",
     "text": [
      "Validation score: 0.810808                                                                                     \n",
      "Iteration 13, loss = 0.45486879                                                                                \n",
      " 17%|█████▍                          | 17/100 [4:19:22<20:54:29, 906.87s/trial, best loss: -0.8171041736275549]"
     ]
    },
    {
     "name": "stderr",
     "output_type": "stream",
     "text": [
      "/home/jindalmadhur26/anaconda3/lib/python3.9/site-packages/sklearn/base.py:445: UserWarning: X does not have valid feature names, but MLPClassifier was fitted with feature names\n",
      "  warnings.warn(\n",
      "\n"
     ]
    },
    {
     "name": "stdout",
     "output_type": "stream",
     "text": [
      "Validation score: 0.811526                                                                                     \n",
      "Iteration 14, loss = 0.45481662                                                                                \n",
      " 17%|█████▍                          | 17/100 [4:19:37<20:54:29, 906.87s/trial, best loss: -0.8171041736275549]"
     ]
    },
    {
     "name": "stderr",
     "output_type": "stream",
     "text": [
      "/home/jindalmadhur26/anaconda3/lib/python3.9/site-packages/sklearn/base.py:445: UserWarning: X does not have valid feature names, but MLPClassifier was fitted with feature names\n",
      "  warnings.warn(\n",
      "\n"
     ]
    },
    {
     "name": "stdout",
     "output_type": "stream",
     "text": [
      "Validation score: 0.811910                                                                                     \n",
      "Iteration 15, loss = 0.45416271                                                                                \n",
      " 17%|█████▍                          | 17/100 [4:19:55<20:54:29, 906.87s/trial, best loss: -0.8171041736275549]"
     ]
    },
    {
     "name": "stderr",
     "output_type": "stream",
     "text": [
      "/home/jindalmadhur26/anaconda3/lib/python3.9/site-packages/sklearn/base.py:445: UserWarning: X does not have valid feature names, but MLPClassifier was fitted with feature names\n",
      "  warnings.warn(\n",
      "\n"
     ]
    },
    {
     "name": "stdout",
     "output_type": "stream",
     "text": [
      "Validation score: 0.811731                                                                                     \n",
      "Iteration 16, loss = 0.45359272                                                                                \n",
      " 17%|█████▍                          | 17/100 [4:20:16<20:54:29, 906.87s/trial, best loss: -0.8171041736275549]"
     ]
    },
    {
     "name": "stderr",
     "output_type": "stream",
     "text": [
      "/home/jindalmadhur26/anaconda3/lib/python3.9/site-packages/sklearn/base.py:445: UserWarning: X does not have valid feature names, but MLPClassifier was fitted with feature names\n",
      "  warnings.warn(\n",
      "\n"
     ]
    },
    {
     "name": "stdout",
     "output_type": "stream",
     "text": [
      "Validation score: 0.811551                                                                                     \n",
      "Iteration 17, loss = 0.45316806                                                                                \n",
      " 17%|█████▍                          | 17/100 [4:20:34<20:54:29, 906.87s/trial, best loss: -0.8171041736275549]"
     ]
    },
    {
     "name": "stderr",
     "output_type": "stream",
     "text": [
      "/home/jindalmadhur26/anaconda3/lib/python3.9/site-packages/sklearn/base.py:445: UserWarning: X does not have valid feature names, but MLPClassifier was fitted with feature names\n",
      "  warnings.warn(\n",
      "\n"
     ]
    },
    {
     "name": "stdout",
     "output_type": "stream",
     "text": [
      "Validation score: 0.812654                                                                                     \n",
      "Iteration 18, loss = 0.45282347                                                                                \n",
      " 17%|█████▍                          | 17/100 [4:20:52<20:54:29, 906.87s/trial, best loss: -0.8171041736275549]"
     ]
    },
    {
     "name": "stderr",
     "output_type": "stream",
     "text": [
      "/home/jindalmadhur26/anaconda3/lib/python3.9/site-packages/sklearn/base.py:445: UserWarning: X does not have valid feature names, but MLPClassifier was fitted with feature names\n",
      "  warnings.warn(\n",
      "\n"
     ]
    },
    {
     "name": "stdout",
     "output_type": "stream",
     "text": [
      "Validation score: 0.811885                                                                                     \n",
      "Iteration 19, loss = 0.45267638                                                                                \n",
      " 17%|█████▍                          | 17/100 [4:21:10<20:54:29, 906.87s/trial, best loss: -0.8171041736275549]"
     ]
    },
    {
     "name": "stderr",
     "output_type": "stream",
     "text": [
      "/home/jindalmadhur26/anaconda3/lib/python3.9/site-packages/sklearn/base.py:445: UserWarning: X does not have valid feature names, but MLPClassifier was fitted with feature names\n",
      "  warnings.warn(\n",
      "\n"
     ]
    },
    {
     "name": "stdout",
     "output_type": "stream",
     "text": [
      "Validation score: 0.812039                                                                                     \n",
      "Iteration 20, loss = 0.45242511                                                                                \n",
      " 17%|█████▍                          | 17/100 [4:21:28<20:54:29, 906.87s/trial, best loss: -0.8171041736275549]"
     ]
    },
    {
     "name": "stderr",
     "output_type": "stream",
     "text": [
      "/home/jindalmadhur26/anaconda3/lib/python3.9/site-packages/sklearn/base.py:445: UserWarning: X does not have valid feature names, but MLPClassifier was fitted with feature names\n",
      "  warnings.warn(\n",
      "\n"
     ]
    },
    {
     "name": "stdout",
     "output_type": "stream",
     "text": [
      "Validation score: 0.812039                                                                                     \n",
      "Iteration 21, loss = 0.45205370                                                                                \n",
      " 17%|█████▍                          | 17/100 [4:21:54<20:54:29, 906.87s/trial, best loss: -0.8171041736275549]"
     ]
    },
    {
     "name": "stderr",
     "output_type": "stream",
     "text": [
      "/home/jindalmadhur26/anaconda3/lib/python3.9/site-packages/sklearn/base.py:445: UserWarning: X does not have valid feature names, but MLPClassifier was fitted with feature names\n",
      "  warnings.warn(\n",
      "\n"
     ]
    },
    {
     "name": "stdout",
     "output_type": "stream",
     "text": [
      "Validation score: 0.812269                                                                                     \n",
      "Iteration 22, loss = 0.45173902                                                                                \n",
      " 17%|█████▍                          | 17/100 [4:22:31<20:54:29, 906.87s/trial, best loss: -0.8171041736275549]"
     ]
    },
    {
     "name": "stderr",
     "output_type": "stream",
     "text": [
      "/home/jindalmadhur26/anaconda3/lib/python3.9/site-packages/sklearn/base.py:445: UserWarning: X does not have valid feature names, but MLPClassifier was fitted with feature names\n",
      "  warnings.warn(\n",
      "\n"
     ]
    },
    {
     "name": "stdout",
     "output_type": "stream",
     "text": [
      "Validation score: 0.811757                                                                                     \n",
      "Iteration 23, loss = 0.45157131                                                                                \n",
      " 17%|█████▍                          | 17/100 [4:23:08<20:54:29, 906.87s/trial, best loss: -0.8171041736275549]"
     ]
    },
    {
     "name": "stderr",
     "output_type": "stream",
     "text": [
      "/home/jindalmadhur26/anaconda3/lib/python3.9/site-packages/sklearn/base.py:445: UserWarning: X does not have valid feature names, but MLPClassifier was fitted with feature names\n",
      "  warnings.warn(\n",
      "\n"
     ]
    },
    {
     "name": "stdout",
     "output_type": "stream",
     "text": [
      "Validation score: 0.812628                                                                                     \n",
      "Iteration 24, loss = 0.45147627                                                                                \n",
      " 17%|█████▍                          | 17/100 [4:23:40<20:54:29, 906.87s/trial, best loss: -0.8171041736275549]"
     ]
    },
    {
     "name": "stderr",
     "output_type": "stream",
     "text": [
      "/home/jindalmadhur26/anaconda3/lib/python3.9/site-packages/sklearn/base.py:445: UserWarning: X does not have valid feature names, but MLPClassifier was fitted with feature names\n",
      "  warnings.warn(\n",
      "\n"
     ]
    },
    {
     "name": "stdout",
     "output_type": "stream",
     "text": [
      "Validation score: 0.811859                                                                                     \n",
      "Iteration 25, loss = 0.45098848                                                                                \n",
      " 17%|█████▍                          | 17/100 [4:24:17<20:54:29, 906.87s/trial, best loss: -0.8171041736275549]"
     ]
    },
    {
     "name": "stderr",
     "output_type": "stream",
     "text": [
      "/home/jindalmadhur26/anaconda3/lib/python3.9/site-packages/sklearn/base.py:445: UserWarning: X does not have valid feature names, but MLPClassifier was fitted with feature names\n",
      "  warnings.warn(\n",
      "\n"
     ]
    },
    {
     "name": "stdout",
     "output_type": "stream",
     "text": [
      "Validation score: 0.811859                                                                                     \n",
      "Iteration 26, loss = 0.45085987                                                                                \n",
      " 17%|█████▍                          | 17/100 [4:24:46<20:54:29, 906.87s/trial, best loss: -0.8171041736275549]"
     ]
    },
    {
     "name": "stderr",
     "output_type": "stream",
     "text": [
      "/home/jindalmadhur26/anaconda3/lib/python3.9/site-packages/sklearn/base.py:445: UserWarning: X does not have valid feature names, but MLPClassifier was fitted with feature names\n",
      "  warnings.warn(\n",
      "\n"
     ]
    },
    {
     "name": "stdout",
     "output_type": "stream",
     "text": [
      "Validation score: 0.811910                                                                                     \n",
      "Iteration 27, loss = 0.45079899                                                                                \n",
      " 17%|█████▍                          | 17/100 [4:25:13<20:54:29, 906.87s/trial, best loss: -0.8171041736275549]"
     ]
    },
    {
     "name": "stderr",
     "output_type": "stream",
     "text": [
      "/home/jindalmadhur26/anaconda3/lib/python3.9/site-packages/sklearn/base.py:445: UserWarning: X does not have valid feature names, but MLPClassifier was fitted with feature names\n",
      "  warnings.warn(\n",
      "\n"
     ]
    },
    {
     "name": "stdout",
     "output_type": "stream",
     "text": [
      "Validation score: 0.812295                                                                                     \n",
      "Iteration 28, loss = 0.45037873                                                                                \n",
      " 17%|█████▍                          | 17/100 [4:25:41<20:54:29, 906.87s/trial, best loss: -0.8171041736275549]"
     ]
    },
    {
     "name": "stderr",
     "output_type": "stream",
     "text": [
      "/home/jindalmadhur26/anaconda3/lib/python3.9/site-packages/sklearn/base.py:445: UserWarning: X does not have valid feature names, but MLPClassifier was fitted with feature names\n",
      "  warnings.warn(\n",
      "\n"
     ]
    },
    {
     "name": "stdout",
     "output_type": "stream",
     "text": [
      "Validation score: 0.811551                                                                                     \n",
      "Validation score did not improve more than tol=0.000100 for 10 consecutive epochs. Stopping.                   \n",
      "0.8160435402331854                                                                                             \n",
      "0.8160727515725554                                                                                             \n",
      "{'activation': 'logistic', 'alpha': 3.057828785313225e-07, 'hidden_layer_sizes': 1}                            \n",
      "Iteration 1, loss = 0.49078290                                                                                 \n",
      "Validation score: 0.810039                                                                                     \n",
      " 18%|█████▊                          | 18/100 [4:28:47<20:36:03, 904.44s/trial, best loss: -0.8171041736275549]"
     ]
    },
    {
     "name": "stderr",
     "output_type": "stream",
     "text": [
      "/home/jindalmadhur26/anaconda3/lib/python3.9/site-packages/sklearn/base.py:445: UserWarning: X does not have valid feature names, but MLPClassifier was fitted with feature names\n",
      "  warnings.warn(\n",
      "\n"
     ]
    },
    {
     "name": "stdout",
     "output_type": "stream",
     "text": [
      "Iteration 2, loss = 0.47191786                                                                                 \n",
      "Validation score: 0.813961                                                                                     \n",
      " 18%|█████▊                          | 18/100 [4:29:07<20:36:03, 904.44s/trial, best loss: -0.8171041736275549]"
     ]
    },
    {
     "name": "stderr",
     "output_type": "stream",
     "text": [
      "/home/jindalmadhur26/anaconda3/lib/python3.9/site-packages/sklearn/base.py:445: UserWarning: X does not have valid feature names, but MLPClassifier was fitted with feature names\n",
      "  warnings.warn(\n",
      "\n"
     ]
    },
    {
     "name": "stdout",
     "output_type": "stream",
     "text": [
      "Iteration 3, loss = 0.46858698                                                                                 \n",
      "Validation score: 0.812295                                                                                     \n",
      " 18%|█████▊                          | 18/100 [4:29:24<20:36:03, 904.44s/trial, best loss: -0.8171041736275549]"
     ]
    },
    {
     "name": "stderr",
     "output_type": "stream",
     "text": [
      "/home/jindalmadhur26/anaconda3/lib/python3.9/site-packages/sklearn/base.py:445: UserWarning: X does not have valid feature names, but MLPClassifier was fitted with feature names\n",
      "  warnings.warn(\n",
      "\n"
     ]
    },
    {
     "name": "stdout",
     "output_type": "stream",
     "text": [
      "Iteration 4, loss = 0.46612833                                                                                 \n",
      "Validation score: 0.814192                                                                                     \n",
      " 18%|█████▊                          | 18/100 [4:29:58<20:36:03, 904.44s/trial, best loss: -0.8171041736275549]"
     ]
    },
    {
     "name": "stderr",
     "output_type": "stream",
     "text": [
      "/home/jindalmadhur26/anaconda3/lib/python3.9/site-packages/sklearn/base.py:445: UserWarning: X does not have valid feature names, but MLPClassifier was fitted with feature names\n",
      "  warnings.warn(\n",
      "\n"
     ]
    },
    {
     "name": "stdout",
     "output_type": "stream",
     "text": [
      "Iteration 5, loss = 0.46440397                                                                                 \n",
      "Validation score: 0.814884                                                                                     \n",
      " 18%|█████▊                          | 18/100 [4:30:14<20:36:03, 904.44s/trial, best loss: -0.8171041736275549]"
     ]
    },
    {
     "name": "stderr",
     "output_type": "stream",
     "text": [
      "/home/jindalmadhur26/anaconda3/lib/python3.9/site-packages/sklearn/base.py:445: UserWarning: X does not have valid feature names, but MLPClassifier was fitted with feature names\n",
      "  warnings.warn(\n",
      "\n"
     ]
    },
    {
     "name": "stdout",
     "output_type": "stream",
     "text": [
      "Iteration 6, loss = 0.46315241                                                                                 \n",
      "Validation score: 0.812705                                                                                     \n",
      " 18%|█████▊                          | 18/100 [4:30:47<20:36:03, 904.44s/trial, best loss: -0.8171041736275549]"
     ]
    },
    {
     "name": "stderr",
     "output_type": "stream",
     "text": [
      "/home/jindalmadhur26/anaconda3/lib/python3.9/site-packages/sklearn/base.py:445: UserWarning: X does not have valid feature names, but MLPClassifier was fitted with feature names\n",
      "  warnings.warn(\n",
      "\n"
     ]
    },
    {
     "name": "stdout",
     "output_type": "stream",
     "text": [
      "Iteration 7, loss = 0.46213866                                                                                 \n",
      " 18%|█████▊                          | 18/100 [4:31:33<20:36:03, 904.44s/trial, best loss: -0.8171041736275549]"
     ]
    },
    {
     "name": "stderr",
     "output_type": "stream",
     "text": [
      "/home/jindalmadhur26/anaconda3/lib/python3.9/site-packages/sklearn/base.py:445: UserWarning: X does not have valid feature names, but MLPClassifier was fitted with feature names\n",
      "  warnings.warn(\n",
      "\n"
     ]
    },
    {
     "name": "stdout",
     "output_type": "stream",
     "text": [
      "Validation score: 0.814166                                                                                     \n",
      "Iteration 8, loss = 0.46173267                                                                                 \n",
      "Validation score: 0.814628                                                                                     \n",
      " 18%|█████▊                          | 18/100 [4:32:16<20:36:03, 904.44s/trial, best loss: -0.8171041736275549]"
     ]
    },
    {
     "name": "stderr",
     "output_type": "stream",
     "text": [
      "/home/jindalmadhur26/anaconda3/lib/python3.9/site-packages/sklearn/base.py:445: UserWarning: X does not have valid feature names, but MLPClassifier was fitted with feature names\n",
      "  warnings.warn(\n",
      "\n"
     ]
    },
    {
     "name": "stdout",
     "output_type": "stream",
     "text": [
      "Iteration 9, loss = 0.46114319                                                                                 \n",
      "Validation score: 0.815294                                                                                     \n",
      " 18%|█████▊                          | 18/100 [4:32:57<20:36:03, 904.44s/trial, best loss: -0.8171041736275549]"
     ]
    },
    {
     "name": "stderr",
     "output_type": "stream",
     "text": [
      "/home/jindalmadhur26/anaconda3/lib/python3.9/site-packages/sklearn/base.py:445: UserWarning: X does not have valid feature names, but MLPClassifier was fitted with feature names\n",
      "  warnings.warn(\n",
      "\n"
     ]
    },
    {
     "name": "stdout",
     "output_type": "stream",
     "text": [
      "Iteration 10, loss = 0.46002188                                                                                \n",
      "Validation score: 0.815679                                                                                     \n",
      " 18%|█████▊                          | 18/100 [4:33:30<20:36:03, 904.44s/trial, best loss: -0.8171041736275549]"
     ]
    },
    {
     "name": "stderr",
     "output_type": "stream",
     "text": [
      "/home/jindalmadhur26/anaconda3/lib/python3.9/site-packages/sklearn/base.py:445: UserWarning: X does not have valid feature names, but MLPClassifier was fitted with feature names\n",
      "  warnings.warn(\n",
      "\n"
     ]
    },
    {
     "name": "stdout",
     "output_type": "stream",
     "text": [
      "Iteration 11, loss = 0.45986980                                                                                \n",
      "Validation score: 0.816243                                                                                     \n",
      " 18%|█████▊                          | 18/100 [4:33:47<20:36:03, 904.44s/trial, best loss: -0.8171041736275549]"
     ]
    },
    {
     "name": "stderr",
     "output_type": "stream",
     "text": [
      "/home/jindalmadhur26/anaconda3/lib/python3.9/site-packages/sklearn/base.py:445: UserWarning: X does not have valid feature names, but MLPClassifier was fitted with feature names\n",
      "  warnings.warn(\n",
      "\n"
     ]
    },
    {
     "name": "stdout",
     "output_type": "stream",
     "text": [
      "Iteration 12, loss = 0.45964306                                                                                \n",
      "Validation score: 0.810577                                                                                     \n",
      " 18%|█████▊                          | 18/100 [4:34:00<20:36:03, 904.44s/trial, best loss: -0.8171041736275549]"
     ]
    },
    {
     "name": "stderr",
     "output_type": "stream",
     "text": [
      "/home/jindalmadhur26/anaconda3/lib/python3.9/site-packages/sklearn/base.py:445: UserWarning: X does not have valid feature names, but MLPClassifier was fitted with feature names\n",
      "  warnings.warn(\n",
      "\n"
     ]
    },
    {
     "name": "stdout",
     "output_type": "stream",
     "text": [
      "Iteration 13, loss = 0.45948686                                                                                \n",
      "Validation score: 0.814807                                                                                     \n",
      " 18%|█████▊                          | 18/100 [4:34:25<20:36:03, 904.44s/trial, best loss: -0.8171041736275549]"
     ]
    },
    {
     "name": "stderr",
     "output_type": "stream",
     "text": [
      "/home/jindalmadhur26/anaconda3/lib/python3.9/site-packages/sklearn/base.py:445: UserWarning: X does not have valid feature names, but MLPClassifier was fitted with feature names\n",
      "  warnings.warn(\n",
      "\n"
     ]
    },
    {
     "name": "stdout",
     "output_type": "stream",
     "text": [
      "Iteration 14, loss = 0.45881825                                                                                \n",
      "Validation score: 0.815653                                                                                     \n",
      " 18%|█████▊                          | 18/100 [4:34:43<20:36:03, 904.44s/trial, best loss: -0.8171041736275549]"
     ]
    },
    {
     "name": "stderr",
     "output_type": "stream",
     "text": [
      "/home/jindalmadhur26/anaconda3/lib/python3.9/site-packages/sklearn/base.py:445: UserWarning: X does not have valid feature names, but MLPClassifier was fitted with feature names\n",
      "  warnings.warn(\n",
      "\n"
     ]
    },
    {
     "name": "stdout",
     "output_type": "stream",
     "text": [
      "Iteration 15, loss = 0.45865347                                                                                \n",
      "Validation score: 0.814705                                                                                     \n",
      " 18%|█████▊                          | 18/100 [4:35:03<20:36:03, 904.44s/trial, best loss: -0.8171041736275549]"
     ]
    },
    {
     "name": "stderr",
     "output_type": "stream",
     "text": [
      "/home/jindalmadhur26/anaconda3/lib/python3.9/site-packages/sklearn/base.py:445: UserWarning: X does not have valid feature names, but MLPClassifier was fitted with feature names\n",
      "  warnings.warn(\n",
      "\n"
     ]
    },
    {
     "name": "stdout",
     "output_type": "stream",
     "text": [
      "Iteration 16, loss = 0.45823445                                                                                \n",
      " 18%|█████▊                          | 18/100 [4:35:52<20:36:03, 904.44s/trial, best loss: -0.8171041736275549]"
     ]
    },
    {
     "name": "stderr",
     "output_type": "stream",
     "text": [
      "/home/jindalmadhur26/anaconda3/lib/python3.9/site-packages/sklearn/base.py:445: UserWarning: X does not have valid feature names, but MLPClassifier was fitted with feature names\n",
      "  warnings.warn(\n",
      "\n"
     ]
    },
    {
     "name": "stdout",
     "output_type": "stream",
     "text": [
      "Validation score: 0.812628                                                                                     \n",
      "Iteration 17, loss = 0.45874505                                                                                \n",
      " 18%|█████▊                          | 18/100 [4:36:41<20:36:03, 904.44s/trial, best loss: -0.8171041736275549]"
     ]
    },
    {
     "name": "stderr",
     "output_type": "stream",
     "text": [
      "/home/jindalmadhur26/anaconda3/lib/python3.9/site-packages/sklearn/base.py:445: UserWarning: X does not have valid feature names, but MLPClassifier was fitted with feature names\n",
      "  warnings.warn(\n",
      "\n"
     ]
    },
    {
     "name": "stdout",
     "output_type": "stream",
     "text": [
      "Validation score: 0.815781                                                                                     \n",
      "Iteration 18, loss = 0.45828484                                                                                \n",
      " 18%|█████▊                          | 18/100 [4:37:23<20:36:03, 904.44s/trial, best loss: -0.8171041736275549]"
     ]
    },
    {
     "name": "stderr",
     "output_type": "stream",
     "text": [
      "/home/jindalmadhur26/anaconda3/lib/python3.9/site-packages/sklearn/base.py:445: UserWarning: X does not have valid feature names, but MLPClassifier was fitted with feature names\n",
      "  warnings.warn(\n",
      "\n"
     ]
    },
    {
     "name": "stdout",
     "output_type": "stream",
     "text": [
      "Validation score: 0.815525                                                                                     \n",
      "Iteration 19, loss = 0.45771581                                                                                \n",
      " 18%|█████▊                          | 18/100 [4:38:04<20:36:03, 904.44s/trial, best loss: -0.8171041736275549]"
     ]
    },
    {
     "name": "stderr",
     "output_type": "stream",
     "text": [
      "/home/jindalmadhur26/anaconda3/lib/python3.9/site-packages/sklearn/base.py:445: UserWarning: X does not have valid feature names, but MLPClassifier was fitted with feature names\n",
      "  warnings.warn(\n",
      "\n"
     ]
    },
    {
     "name": "stdout",
     "output_type": "stream",
     "text": [
      "Validation score: 0.814371                                                                                     \n",
      "Iteration 20, loss = 0.45769313                                                                                \n",
      " 18%|█████▊                          | 18/100 [4:39:07<20:36:03, 904.44s/trial, best loss: -0.8171041736275549]"
     ]
    },
    {
     "name": "stderr",
     "output_type": "stream",
     "text": [
      "/home/jindalmadhur26/anaconda3/lib/python3.9/site-packages/sklearn/base.py:445: UserWarning: X does not have valid feature names, but MLPClassifier was fitted with feature names\n",
      "  warnings.warn(\n",
      "\n"
     ]
    },
    {
     "name": "stdout",
     "output_type": "stream",
     "text": [
      "Validation score: 0.812526                                                                                     \n",
      "Iteration 21, loss = 0.45795336                                                                                \n",
      " 18%|█████▊                          | 18/100 [4:40:16<20:36:03, 904.44s/trial, best loss: -0.8171041736275549]"
     ]
    },
    {
     "name": "stderr",
     "output_type": "stream",
     "text": [
      "/home/jindalmadhur26/anaconda3/lib/python3.9/site-packages/sklearn/base.py:445: UserWarning: X does not have valid feature names, but MLPClassifier was fitted with feature names\n",
      "  warnings.warn(\n",
      "\n"
     ]
    },
    {
     "name": "stdout",
     "output_type": "stream",
     "text": [
      "Validation score: 0.815294                                                                                     \n",
      "Iteration 22, loss = 0.45768875                                                                                \n",
      " 18%|█████▊                          | 18/100 [4:41:12<20:36:03, 904.44s/trial, best loss: -0.8171041736275549]"
     ]
    },
    {
     "name": "stderr",
     "output_type": "stream",
     "text": [
      "/home/jindalmadhur26/anaconda3/lib/python3.9/site-packages/sklearn/base.py:445: UserWarning: X does not have valid feature names, but MLPClassifier was fitted with feature names\n",
      "  warnings.warn(\n",
      "\n"
     ]
    },
    {
     "name": "stdout",
     "output_type": "stream",
     "text": [
      "Validation score: 0.814602                                                                                     \n",
      "Validation score did not improve more than tol=0.000100 for 10 consecutive epochs. Stopping.                   \n",
      "0.8158871604507839                                                                                             \n",
      "0.8156369394366402                                                                                             \n",
      "{'activation': 'relu', 'alpha': 0.004420058714195921, 'hidden_layer_sizes': 16}                                \n",
      "Iteration 1, loss = 0.71612836                                                                                 \n",
      " 19%|██████                          | 19/100 [4:44:06<20:22:24, 905.49s/trial, best loss: -0.8171041736275549]"
     ]
    },
    {
     "name": "stderr",
     "output_type": "stream",
     "text": [
      "/home/jindalmadhur26/anaconda3/lib/python3.9/site-packages/sklearn/base.py:445: UserWarning: X does not have valid feature names, but MLPClassifier was fitted with feature names\n",
      "  warnings.warn(\n",
      "\n"
     ]
    },
    {
     "name": "stdout",
     "output_type": "stream",
     "text": [
      "Validation score: 0.771252                                                                                     \n",
      "Iteration 2, loss = 0.65941803                                                                                 \n",
      " 19%|██████                          | 19/100 [4:44:42<20:22:24, 905.49s/trial, best loss: -0.8171041736275549]"
     ]
    },
    {
     "name": "stderr",
     "output_type": "stream",
     "text": [
      "/home/jindalmadhur26/anaconda3/lib/python3.9/site-packages/sklearn/base.py:445: UserWarning: X does not have valid feature names, but MLPClassifier was fitted with feature names\n",
      "  warnings.warn(\n",
      "\n"
     ]
    },
    {
     "name": "stdout",
     "output_type": "stream",
     "text": [
      "Validation score: 0.784429                                                                                     \n",
      "Iteration 3, loss = 0.65864482                                                                                 \n",
      " 19%|██████                          | 19/100 [4:45:19<20:22:24, 905.49s/trial, best loss: -0.8171041736275549]"
     ]
    },
    {
     "name": "stderr",
     "output_type": "stream",
     "text": [
      "/home/jindalmadhur26/anaconda3/lib/python3.9/site-packages/sklearn/base.py:445: UserWarning: X does not have valid feature names, but MLPClassifier was fitted with feature names\n",
      "  warnings.warn(\n",
      "\n"
     ]
    },
    {
     "name": "stdout",
     "output_type": "stream",
     "text": [
      "Validation score: 0.777046                                                                                     \n",
      "Iteration 4, loss = 0.65819216                                                                                 \n",
      " 19%|██████                          | 19/100 [4:45:54<20:22:24, 905.49s/trial, best loss: -0.8171041736275549]"
     ]
    },
    {
     "name": "stderr",
     "output_type": "stream",
     "text": [
      "/home/jindalmadhur26/anaconda3/lib/python3.9/site-packages/sklearn/base.py:445: UserWarning: X does not have valid feature names, but MLPClassifier was fitted with feature names\n",
      "  warnings.warn(\n",
      "\n"
     ]
    },
    {
     "name": "stdout",
     "output_type": "stream",
     "text": [
      "Validation score: 0.777071                                                                                     \n",
      "Iteration 5, loss = 0.65819051                                                                                 \n",
      " 19%|██████                          | 19/100 [4:46:28<20:22:24, 905.49s/trial, best loss: -0.8171041736275549]"
     ]
    },
    {
     "name": "stderr",
     "output_type": "stream",
     "text": [
      "/home/jindalmadhur26/anaconda3/lib/python3.9/site-packages/sklearn/base.py:445: UserWarning: X does not have valid feature names, but MLPClassifier was fitted with feature names\n",
      "  warnings.warn(\n",
      "\n"
     ]
    },
    {
     "name": "stdout",
     "output_type": "stream",
     "text": [
      "Validation score: 0.784506                                                                                     \n",
      "Iteration 6, loss = 0.65759515                                                                                 \n",
      " 19%|██████                          | 19/100 [4:46:45<20:22:24, 905.49s/trial, best loss: -0.8171041736275549]"
     ]
    },
    {
     "name": "stderr",
     "output_type": "stream",
     "text": [
      "/home/jindalmadhur26/anaconda3/lib/python3.9/site-packages/sklearn/base.py:445: UserWarning: X does not have valid feature names, but MLPClassifier was fitted with feature names\n",
      "  warnings.warn(\n",
      "\n"
     ]
    },
    {
     "name": "stdout",
     "output_type": "stream",
     "text": [
      "Validation score: 0.782327                                                                                     \n",
      "Iteration 7, loss = 0.65825001                                                                                 \n",
      "Validation score: 0.776072                                                                                     \n",
      " 19%|██████                          | 19/100 [4:46:56<20:22:24, 905.49s/trial, best loss: -0.8171041736275549]"
     ]
    },
    {
     "name": "stderr",
     "output_type": "stream",
     "text": [
      "/home/jindalmadhur26/anaconda3/lib/python3.9/site-packages/sklearn/base.py:445: UserWarning: X does not have valid feature names, but MLPClassifier was fitted with feature names\n",
      "  warnings.warn(\n",
      "\n"
     ]
    },
    {
     "name": "stdout",
     "output_type": "stream",
     "text": [
      "Iteration 8, loss = 0.65781079                                                                                 \n",
      " 19%|██████                          | 19/100 [4:47:15<20:22:24, 905.49s/trial, best loss: -0.8171041736275549]"
     ]
    },
    {
     "name": "stderr",
     "output_type": "stream",
     "text": [
      "/home/jindalmadhur26/anaconda3/lib/python3.9/site-packages/sklearn/base.py:445: UserWarning: X does not have valid feature names, but MLPClassifier was fitted with feature names\n",
      "  warnings.warn(\n",
      "\n"
     ]
    },
    {
     "name": "stdout",
     "output_type": "stream",
     "text": [
      "Validation score: 0.773431                                                                                     \n",
      "Iteration 9, loss = 0.65806738                                                                                 \n",
      " 19%|██████                          | 19/100 [4:47:29<20:22:24, 905.49s/trial, best loss: -0.8171041736275549]"
     ]
    },
    {
     "name": "stderr",
     "output_type": "stream",
     "text": [
      "/home/jindalmadhur26/anaconda3/lib/python3.9/site-packages/sklearn/base.py:445: UserWarning: X does not have valid feature names, but MLPClassifier was fitted with feature names\n",
      "  warnings.warn(\n",
      "\n"
     ]
    },
    {
     "name": "stdout",
     "output_type": "stream",
     "text": [
      "Validation score: 0.772277                                                                                     \n",
      "Iteration 10, loss = 0.65768054                                                                                \n",
      " 19%|██████                          | 19/100 [4:47:41<20:22:24, 905.49s/trial, best loss: -0.8171041736275549]"
     ]
    },
    {
     "name": "stderr",
     "output_type": "stream",
     "text": [
      "/home/jindalmadhur26/anaconda3/lib/python3.9/site-packages/sklearn/base.py:445: UserWarning: X does not have valid feature names, but MLPClassifier was fitted with feature names\n",
      "  warnings.warn(\n",
      "\n"
     ]
    },
    {
     "name": "stdout",
     "output_type": "stream",
     "text": [
      "Validation score: 0.782045                                                                                     \n",
      "Iteration 11, loss = 0.65757441                                                                                \n",
      " 19%|██████                          | 19/100 [4:47:52<20:22:24, 905.49s/trial, best loss: -0.8171041736275549]"
     ]
    },
    {
     "name": "stderr",
     "output_type": "stream",
     "text": [
      "/home/jindalmadhur26/anaconda3/lib/python3.9/site-packages/sklearn/base.py:445: UserWarning: X does not have valid feature names, but MLPClassifier was fitted with feature names\n",
      "  warnings.warn(\n",
      "\n"
     ]
    },
    {
     "name": "stdout",
     "output_type": "stream",
     "text": [
      "Validation score: 0.782763                                                                                     \n",
      "Iteration 12, loss = 0.65755843                                                                                \n",
      "Validation score: 0.778404                                                                                     \n",
      " 19%|██████                          | 19/100 [4:48:03<20:22:24, 905.49s/trial, best loss: -0.8171041736275549]"
     ]
    },
    {
     "name": "stderr",
     "output_type": "stream",
     "text": [
      "/home/jindalmadhur26/anaconda3/lib/python3.9/site-packages/sklearn/base.py:445: UserWarning: X does not have valid feature names, but MLPClassifier was fitted with feature names\n",
      "  warnings.warn(\n",
      "\n"
     ]
    },
    {
     "name": "stdout",
     "output_type": "stream",
     "text": [
      "Iteration 13, loss = 0.65757609                                                                                \n",
      " 19%|██████                          | 19/100 [4:48:36<20:22:24, 905.49s/trial, best loss: -0.8171041736275549]"
     ]
    },
    {
     "name": "stderr",
     "output_type": "stream",
     "text": [
      "/home/jindalmadhur26/anaconda3/lib/python3.9/site-packages/sklearn/base.py:445: UserWarning: X does not have valid feature names, but MLPClassifier was fitted with feature names\n",
      "  warnings.warn(\n",
      "\n"
     ]
    },
    {
     "name": "stdout",
     "output_type": "stream",
     "text": [
      "Validation score: 0.780250                                                                                     \n",
      "Validation score did not improve more than tol=0.000100 for 10 consecutive epochs. Stopping.                   \n",
      "0.7832268583558076                                                                                             \n",
      "0.7839679242267966                                                                                             \n",
      "{'activation': 'logistic', 'alpha': 2.8465978301630086, 'hidden_layer_sizes': 39}                              \n",
      "Iteration 1, loss = 0.52921854                                                                                 \n",
      " 20%|██████▍                         | 20/100 [4:51:54<17:01:50, 766.38s/trial, best loss: -0.8171041736275549]"
     ]
    },
    {
     "name": "stderr",
     "output_type": "stream",
     "text": [
      "/home/jindalmadhur26/anaconda3/lib/python3.9/site-packages/sklearn/base.py:445: UserWarning: X does not have valid feature names, but MLPClassifier was fitted with feature names\n",
      "  warnings.warn(\n",
      "\n"
     ]
    },
    {
     "name": "stdout",
     "output_type": "stream",
     "text": [
      "Validation score: 0.808937                                                                                     \n",
      "Iteration 2, loss = 0.46972075                                                                                 \n",
      " 20%|██████▍                         | 20/100 [4:52:39<17:01:50, 766.38s/trial, best loss: -0.8171041736275549]"
     ]
    },
    {
     "name": "stderr",
     "output_type": "stream",
     "text": [
      "/home/jindalmadhur26/anaconda3/lib/python3.9/site-packages/sklearn/base.py:445: UserWarning: X does not have valid feature names, but MLPClassifier was fitted with feature names\n",
      "  warnings.warn(\n",
      "\n"
     ]
    },
    {
     "name": "stdout",
     "output_type": "stream",
     "text": [
      "Validation score: 0.813654                                                                                     \n",
      "Iteration 3, loss = 0.46515167                                                                                 \n",
      " 20%|██████▍                         | 20/100 [4:53:18<17:01:50, 766.38s/trial, best loss: -0.8171041736275549]"
     ]
    },
    {
     "name": "stderr",
     "output_type": "stream",
     "text": [
      "/home/jindalmadhur26/anaconda3/lib/python3.9/site-packages/sklearn/base.py:445: UserWarning: X does not have valid feature names, but MLPClassifier was fitted with feature names\n",
      "  warnings.warn(\n",
      "\n"
     ]
    },
    {
     "name": "stdout",
     "output_type": "stream",
     "text": [
      "Validation score: 0.812449                                                                                     \n",
      "Iteration 4, loss = 0.46292442                                                                                 \n",
      " 20%|██████▍                         | 20/100 [4:53:54<17:01:50, 766.38s/trial, best loss: -0.8171041736275549]"
     ]
    },
    {
     "name": "stderr",
     "output_type": "stream",
     "text": [
      "/home/jindalmadhur26/anaconda3/lib/python3.9/site-packages/sklearn/base.py:445: UserWarning: X does not have valid feature names, but MLPClassifier was fitted with feature names\n",
      "  warnings.warn(\n",
      "\n"
     ]
    },
    {
     "name": "stdout",
     "output_type": "stream",
     "text": [
      "Validation score: 0.810065                                                                                     \n",
      "Iteration 5, loss = 0.46107630                                                                                 \n",
      "Validation score: 0.815269                                                                                     \n",
      " 20%|██████▍                         | 20/100 [4:54:32<17:01:50, 766.38s/trial, best loss: -0.8171041736275549]"
     ]
    },
    {
     "name": "stderr",
     "output_type": "stream",
     "text": [
      "/home/jindalmadhur26/anaconda3/lib/python3.9/site-packages/sklearn/base.py:445: UserWarning: X does not have valid feature names, but MLPClassifier was fitted with feature names\n",
      "  warnings.warn(\n",
      "\n"
     ]
    },
    {
     "name": "stdout",
     "output_type": "stream",
     "text": [
      "Iteration 6, loss = 0.45974641                                                                                 \n",
      "Validation score: 0.816192                                                                                     \n",
      " 20%|██████▍                         | 20/100 [4:54:43<17:01:50, 766.38s/trial, best loss: -0.8171041736275549]"
     ]
    },
    {
     "name": "stderr",
     "output_type": "stream",
     "text": [
      "/home/jindalmadhur26/anaconda3/lib/python3.9/site-packages/sklearn/base.py:445: UserWarning: X does not have valid feature names, but MLPClassifier was fitted with feature names\n",
      "  warnings.warn(\n",
      "\n"
     ]
    },
    {
     "name": "stdout",
     "output_type": "stream",
     "text": [
      "Iteration 7, loss = 0.45890544                                                                                 \n",
      "Validation score: 0.814448                                                                                     \n",
      " 20%|██████▍                         | 20/100 [4:54:55<17:01:50, 766.38s/trial, best loss: -0.8171041736275549]"
     ]
    },
    {
     "name": "stderr",
     "output_type": "stream",
     "text": [
      "/home/jindalmadhur26/anaconda3/lib/python3.9/site-packages/sklearn/base.py:445: UserWarning: X does not have valid feature names, but MLPClassifier was fitted with feature names\n",
      "  warnings.warn(\n",
      "\n"
     ]
    },
    {
     "name": "stdout",
     "output_type": "stream",
     "text": [
      "Iteration 8, loss = 0.45773438                                                                                 \n",
      " 20%|██████▍                         | 20/100 [4:55:14<17:01:50, 766.38s/trial, best loss: -0.8171041736275549]"
     ]
    },
    {
     "name": "stderr",
     "output_type": "stream",
     "text": [
      "/home/jindalmadhur26/anaconda3/lib/python3.9/site-packages/sklearn/base.py:445: UserWarning: X does not have valid feature names, but MLPClassifier was fitted with feature names\n",
      "  warnings.warn(\n",
      "\n"
     ]
    },
    {
     "name": "stdout",
     "output_type": "stream",
     "text": [
      "Validation score: 0.815166                                                                                     \n",
      "Iteration 9, loss = 0.45723220                                                                                 \n",
      "Validation score: 0.814653                                                                                     \n",
      " 20%|██████▍                         | 20/100 [4:55:40<17:01:50, 766.38s/trial, best loss: -0.8171041736275549]"
     ]
    },
    {
     "name": "stderr",
     "output_type": "stream",
     "text": [
      "/home/jindalmadhur26/anaconda3/lib/python3.9/site-packages/sklearn/base.py:445: UserWarning: X does not have valid feature names, but MLPClassifier was fitted with feature names\n",
      "  warnings.warn(\n",
      "\n"
     ]
    },
    {
     "name": "stdout",
     "output_type": "stream",
     "text": [
      "Iteration 10, loss = 0.45662459                                                                                \n",
      " 20%|██████▍                         | 20/100 [4:56:00<17:01:50, 766.38s/trial, best loss: -0.8171041736275549]"
     ]
    },
    {
     "name": "stderr",
     "output_type": "stream",
     "text": [
      "/home/jindalmadhur26/anaconda3/lib/python3.9/site-packages/sklearn/base.py:445: UserWarning: X does not have valid feature names, but MLPClassifier was fitted with feature names\n",
      "  warnings.warn(\n",
      "\n"
     ]
    },
    {
     "name": "stdout",
     "output_type": "stream",
     "text": [
      "Validation score: 0.815474                                                                                     \n",
      "Iteration 11, loss = 0.45568475                                                                                \n",
      " 20%|██████▍                         | 20/100 [4:56:21<17:01:50, 766.38s/trial, best loss: -0.8171041736275549]"
     ]
    },
    {
     "name": "stderr",
     "output_type": "stream",
     "text": [
      "/home/jindalmadhur26/anaconda3/lib/python3.9/site-packages/sklearn/base.py:445: UserWarning: X does not have valid feature names, but MLPClassifier was fitted with feature names\n",
      "  warnings.warn(\n",
      "\n"
     ]
    },
    {
     "name": "stdout",
     "output_type": "stream",
     "text": [
      "Validation score: 0.815910                                                                                     \n",
      "Iteration 12, loss = 0.45550121                                                                                \n",
      " 20%|██████▍                         | 20/100 [4:56:38<17:01:50, 766.38s/trial, best loss: -0.8171041736275549]"
     ]
    },
    {
     "name": "stderr",
     "output_type": "stream",
     "text": [
      "/home/jindalmadhur26/anaconda3/lib/python3.9/site-packages/sklearn/base.py:445: UserWarning: X does not have valid feature names, but MLPClassifier was fitted with feature names\n",
      "  warnings.warn(\n",
      "\n"
     ]
    },
    {
     "name": "stdout",
     "output_type": "stream",
     "text": [
      "Validation score: 0.816807                                                                                     \n",
      "Iteration 13, loss = 0.45473363                                                                                \n",
      " 20%|██████▍                         | 20/100 [4:57:10<17:01:50, 766.38s/trial, best loss: -0.8171041736275549]"
     ]
    },
    {
     "name": "stderr",
     "output_type": "stream",
     "text": [
      "/home/jindalmadhur26/anaconda3/lib/python3.9/site-packages/sklearn/base.py:445: UserWarning: X does not have valid feature names, but MLPClassifier was fitted with feature names\n",
      "  warnings.warn(\n",
      "\n"
     ]
    },
    {
     "name": "stdout",
     "output_type": "stream",
     "text": [
      "Validation score: 0.815525                                                                                     \n",
      "Iteration 14, loss = 0.45412981                                                                                \n",
      " 20%|██████▍                         | 20/100 [4:57:43<17:01:50, 766.38s/trial, best loss: -0.8171041736275549]"
     ]
    },
    {
     "name": "stderr",
     "output_type": "stream",
     "text": [
      "/home/jindalmadhur26/anaconda3/lib/python3.9/site-packages/sklearn/base.py:445: UserWarning: X does not have valid feature names, but MLPClassifier was fitted with feature names\n",
      "  warnings.warn(\n",
      "\n"
     ]
    },
    {
     "name": "stdout",
     "output_type": "stream",
     "text": [
      "Validation score: 0.816935                                                                                     \n",
      "Iteration 15, loss = 0.45409210                                                                                \n",
      " 20%|██████▍                         | 20/100 [4:58:24<17:01:50, 766.38s/trial, best loss: -0.8171041736275549]"
     ]
    },
    {
     "name": "stderr",
     "output_type": "stream",
     "text": [
      "/home/jindalmadhur26/anaconda3/lib/python3.9/site-packages/sklearn/base.py:445: UserWarning: X does not have valid feature names, but MLPClassifier was fitted with feature names\n",
      "  warnings.warn(\n",
      "\n"
     ]
    },
    {
     "name": "stdout",
     "output_type": "stream",
     "text": [
      "Validation score: 0.816807                                                                                     \n",
      "Iteration 16, loss = 0.45332765                                                                                \n",
      " 20%|██████▍                         | 20/100 [4:59:03<17:01:50, 766.38s/trial, best loss: -0.8171041736275549]"
     ]
    },
    {
     "name": "stderr",
     "output_type": "stream",
     "text": [
      "/home/jindalmadhur26/anaconda3/lib/python3.9/site-packages/sklearn/base.py:445: UserWarning: X does not have valid feature names, but MLPClassifier was fitted with feature names\n",
      "  warnings.warn(\n",
      "\n"
     ]
    },
    {
     "name": "stdout",
     "output_type": "stream",
     "text": [
      "Validation score: 0.816832                                                                                     \n",
      "Iteration 17, loss = 0.45323916                                                                                \n",
      " 20%|██████▍                         | 20/100 [4:59:39<17:01:50, 766.38s/trial, best loss: -0.8171041736275549]"
     ]
    },
    {
     "name": "stderr",
     "output_type": "stream",
     "text": [
      "/home/jindalmadhur26/anaconda3/lib/python3.9/site-packages/sklearn/base.py:445: UserWarning: X does not have valid feature names, but MLPClassifier was fitted with feature names\n",
      "  warnings.warn(\n",
      "\n"
     ]
    },
    {
     "name": "stdout",
     "output_type": "stream",
     "text": [
      "Validation score: 0.816679                                                                                     \n",
      "Iteration 18, loss = 0.45261988                                                                                \n",
      " 20%|██████▍                         | 20/100 [5:00:19<17:01:50, 766.38s/trial, best loss: -0.8171041736275549]"
     ]
    },
    {
     "name": "stderr",
     "output_type": "stream",
     "text": [
      "/home/jindalmadhur26/anaconda3/lib/python3.9/site-packages/sklearn/base.py:445: UserWarning: X does not have valid feature names, but MLPClassifier was fitted with feature names\n",
      "  warnings.warn(\n",
      "\n"
     ]
    },
    {
     "name": "stdout",
     "output_type": "stream",
     "text": [
      "Validation score: 0.816192                                                                                     \n",
      "Iteration 19, loss = 0.45249457                                                                                \n",
      " 20%|██████▍                         | 20/100 [5:00:55<17:01:50, 766.38s/trial, best loss: -0.8171041736275549]"
     ]
    },
    {
     "name": "stderr",
     "output_type": "stream",
     "text": [
      "/home/jindalmadhur26/anaconda3/lib/python3.9/site-packages/sklearn/base.py:445: UserWarning: X does not have valid feature names, but MLPClassifier was fitted with feature names\n",
      "  warnings.warn(\n",
      "\n"
     ]
    },
    {
     "name": "stdout",
     "output_type": "stream",
     "text": [
      "Validation score: 0.816961                                                                                     \n",
      "Iteration 20, loss = 0.45209693                                                                                \n",
      " 20%|██████▍                         | 20/100 [5:01:33<17:01:50, 766.38s/trial, best loss: -0.8171041736275549]"
     ]
    },
    {
     "name": "stderr",
     "output_type": "stream",
     "text": [
      "/home/jindalmadhur26/anaconda3/lib/python3.9/site-packages/sklearn/base.py:445: UserWarning: X does not have valid feature names, but MLPClassifier was fitted with feature names\n",
      "  warnings.warn(\n",
      "\n"
     ]
    },
    {
     "name": "stdout",
     "output_type": "stream",
     "text": [
      "Validation score: 0.816422                                                                                     \n",
      "Iteration 21, loss = 0.45162930                                                                                \n",
      " 20%|██████▍                         | 20/100 [5:02:09<17:01:50, 766.38s/trial, best loss: -0.8171041736275549]"
     ]
    },
    {
     "name": "stderr",
     "output_type": "stream",
     "text": [
      "/home/jindalmadhur26/anaconda3/lib/python3.9/site-packages/sklearn/base.py:445: UserWarning: X does not have valid feature names, but MLPClassifier was fitted with feature names\n",
      "  warnings.warn(\n",
      "\n"
     ]
    },
    {
     "name": "stdout",
     "output_type": "stream",
     "text": [
      "Validation score: 0.816012                                                                                     \n",
      "Iteration 22, loss = 0.45136583                                                                                \n",
      " 20%|██████▍                         | 20/100 [5:02:49<17:01:50, 766.38s/trial, best loss: -0.8171041736275549]"
     ]
    },
    {
     "name": "stderr",
     "output_type": "stream",
     "text": [
      "/home/jindalmadhur26/anaconda3/lib/python3.9/site-packages/sklearn/base.py:445: UserWarning: X does not have valid feature names, but MLPClassifier was fitted with feature names\n",
      "  warnings.warn(\n",
      "\n"
     ]
    },
    {
     "name": "stdout",
     "output_type": "stream",
     "text": [
      "Validation score: 0.817550                                                                                     \n",
      "Iteration 23, loss = 0.45134674                                                                                \n",
      " 20%|██████▍                         | 20/100 [5:03:25<17:01:50, 766.38s/trial, best loss: -0.8171041736275549]"
     ]
    },
    {
     "name": "stderr",
     "output_type": "stream",
     "text": [
      "/home/jindalmadhur26/anaconda3/lib/python3.9/site-packages/sklearn/base.py:445: UserWarning: X does not have valid feature names, but MLPClassifier was fitted with feature names\n",
      "  warnings.warn(\n",
      "\n"
     ]
    },
    {
     "name": "stdout",
     "output_type": "stream",
     "text": [
      "Validation score: 0.816371                                                                                     \n",
      "Iteration 24, loss = 0.45091309                                                                                \n",
      " 20%|██████▍                         | 20/100 [5:04:05<17:01:50, 766.38s/trial, best loss: -0.8171041736275549]"
     ]
    },
    {
     "name": "stderr",
     "output_type": "stream",
     "text": [
      "/home/jindalmadhur26/anaconda3/lib/python3.9/site-packages/sklearn/base.py:445: UserWarning: X does not have valid feature names, but MLPClassifier was fitted with feature names\n",
      "  warnings.warn(\n",
      "\n"
     ]
    },
    {
     "name": "stdout",
     "output_type": "stream",
     "text": [
      "Validation score: 0.816756                                                                                     \n",
      "Iteration 25, loss = 0.45055532                                                                                \n",
      " 20%|██████▍                         | 20/100 [5:04:45<17:01:50, 766.38s/trial, best loss: -0.8171041736275549]"
     ]
    },
    {
     "name": "stderr",
     "output_type": "stream",
     "text": [
      "/home/jindalmadhur26/anaconda3/lib/python3.9/site-packages/sklearn/base.py:445: UserWarning: X does not have valid feature names, but MLPClassifier was fitted with feature names\n",
      "  warnings.warn(\n",
      "\n"
     ]
    },
    {
     "name": "stdout",
     "output_type": "stream",
     "text": [
      "Validation score: 0.817371                                                                                     \n",
      "Iteration 26, loss = 0.45057196                                                                                \n",
      " 20%|██████▍                         | 20/100 [5:05:21<17:01:50, 766.38s/trial, best loss: -0.8171041736275549]"
     ]
    },
    {
     "name": "stderr",
     "output_type": "stream",
     "text": [
      "/home/jindalmadhur26/anaconda3/lib/python3.9/site-packages/sklearn/base.py:445: UserWarning: X does not have valid feature names, but MLPClassifier was fitted with feature names\n",
      "  warnings.warn(\n",
      "\n"
     ]
    },
    {
     "name": "stdout",
     "output_type": "stream",
     "text": [
      "Validation score: 0.816909                                                                                     \n",
      "Iteration 27, loss = 0.45018156                                                                                \n",
      " 20%|██████▍                         | 20/100 [5:05:51<17:01:50, 766.38s/trial, best loss: -0.8171041736275549]"
     ]
    },
    {
     "name": "stderr",
     "output_type": "stream",
     "text": [
      "/home/jindalmadhur26/anaconda3/lib/python3.9/site-packages/sklearn/base.py:445: UserWarning: X does not have valid feature names, but MLPClassifier was fitted with feature names\n",
      "  warnings.warn(\n",
      "\n"
     ]
    },
    {
     "name": "stdout",
     "output_type": "stream",
     "text": [
      "Validation score: 0.817140                                                                                     \n",
      "Iteration 28, loss = 0.44979505                                                                                \n",
      "Validation score: 0.816217                                                                                     \n",
      " 20%|██████▍                         | 20/100 [5:06:11<17:01:50, 766.38s/trial, best loss: -0.8171041736275549]"
     ]
    },
    {
     "name": "stderr",
     "output_type": "stream",
     "text": [
      "/home/jindalmadhur26/anaconda3/lib/python3.9/site-packages/sklearn/base.py:445: UserWarning: X does not have valid feature names, but MLPClassifier was fitted with feature names\n",
      "  warnings.warn(\n",
      "\n"
     ]
    },
    {
     "name": "stdout",
     "output_type": "stream",
     "text": [
      "Iteration 29, loss = 0.44982488                                                                                \n",
      " 20%|██████▍                         | 20/100 [5:06:34<17:01:50, 766.38s/trial, best loss: -0.8171041736275549]"
     ]
    },
    {
     "name": "stderr",
     "output_type": "stream",
     "text": [
      "/home/jindalmadhur26/anaconda3/lib/python3.9/site-packages/sklearn/base.py:445: UserWarning: X does not have valid feature names, but MLPClassifier was fitted with feature names\n",
      "  warnings.warn(\n",
      "\n"
     ]
    },
    {
     "name": "stdout",
     "output_type": "stream",
     "text": [
      "Validation score: 0.816807                                                                                     \n",
      "Iteration 30, loss = 0.44985450                                                                                \n",
      " 20%|██████▍                         | 20/100 [5:06:54<17:01:50, 766.38s/trial, best loss: -0.8171041736275549]"
     ]
    },
    {
     "name": "stderr",
     "output_type": "stream",
     "text": [
      "/home/jindalmadhur26/anaconda3/lib/python3.9/site-packages/sklearn/base.py:445: UserWarning: X does not have valid feature names, but MLPClassifier was fitted with feature names\n",
      "  warnings.warn(\n",
      "\n"
     ]
    },
    {
     "name": "stdout",
     "output_type": "stream",
     "text": [
      "Validation score: 0.816832                                                                                     \n",
      "Iteration 31, loss = 0.44947177                                                                                \n",
      "                                                                                                               "
     ]
    },
    {
     "name": "stderr",
     "output_type": "stream",
     "text": [
      "/home/jindalmadhur26/anaconda3/lib/python3.9/site-packages/sklearn/base.py:445: UserWarning: X does not have valid feature names, but MLPClassifier was fitted with feature names\n",
      "  warnings.warn(\n",
      "\n"
     ]
    },
    {
     "name": "stdout",
     "output_type": "stream",
     "text": [
      "Validation score: 0.816422\n",
      "Iteration 32, loss = 0.44931468                                                                                \n",
      " 20%|██████▍                         | 20/100 [5:07:37<17:01:50, 766.38s/trial, best loss: -0.8171041736275549]"
     ]
    },
    {
     "name": "stderr",
     "output_type": "stream",
     "text": [
      "/home/jindalmadhur26/anaconda3/lib/python3.9/site-packages/sklearn/base.py:445: UserWarning: X does not have valid feature names, but MLPClassifier was fitted with feature names\n",
      "  warnings.warn(\n",
      "\n"
     ]
    },
    {
     "name": "stdout",
     "output_type": "stream",
     "text": [
      "Validation score: 0.817422                                                                                     \n",
      "Iteration 33, loss = 0.44925789                                                                                \n",
      " 20%|██████▍                         | 20/100 [5:08:01<17:01:50, 766.38s/trial, best loss: -0.8171041736275549]"
     ]
    },
    {
     "name": "stderr",
     "output_type": "stream",
     "text": [
      "/home/jindalmadhur26/anaconda3/lib/python3.9/site-packages/sklearn/base.py:445: UserWarning: X does not have valid feature names, but MLPClassifier was fitted with feature names\n",
      "  warnings.warn(\n",
      "\n"
     ]
    },
    {
     "name": "stdout",
     "output_type": "stream",
     "text": [
      "Validation score: 0.817781                                                                                     \n",
      "Iteration 34, loss = 0.44884406                                                                                \n",
      "Validation score: 0.815192                                                                                     \n",
      " 20%|██████▍                         | 20/100 [5:08:17<17:01:50, 766.38s/trial, best loss: -0.8171041736275549]"
     ]
    },
    {
     "name": "stderr",
     "output_type": "stream",
     "text": [
      "/home/jindalmadhur26/anaconda3/lib/python3.9/site-packages/sklearn/base.py:445: UserWarning: X does not have valid feature names, but MLPClassifier was fitted with feature names\n",
      "  warnings.warn(\n",
      "\n"
     ]
    },
    {
     "name": "stdout",
     "output_type": "stream",
     "text": [
      "Iteration 35, loss = 0.44881015                                                                                \n",
      " 20%|██████▍                         | 20/100 [5:08:42<17:01:50, 766.38s/trial, best loss: -0.8171041736275549]"
     ]
    },
    {
     "name": "stderr",
     "output_type": "stream",
     "text": [
      "/home/jindalmadhur26/anaconda3/lib/python3.9/site-packages/sklearn/base.py:445: UserWarning: X does not have valid feature names, but MLPClassifier was fitted with feature names\n",
      "  warnings.warn(\n",
      "\n"
     ]
    },
    {
     "name": "stdout",
     "output_type": "stream",
     "text": [
      "Validation score: 0.817166                                                                                     \n",
      "Iteration 36, loss = 0.44858882                                                                                \n",
      " 20%|██████▍                         | 20/100 [5:09:08<17:01:50, 766.38s/trial, best loss: -0.8171041736275549]"
     ]
    },
    {
     "name": "stderr",
     "output_type": "stream",
     "text": [
      "/home/jindalmadhur26/anaconda3/lib/python3.9/site-packages/sklearn/base.py:445: UserWarning: X does not have valid feature names, but MLPClassifier was fitted with feature names\n",
      "  warnings.warn(\n",
      "\n"
     ]
    },
    {
     "name": "stdout",
     "output_type": "stream",
     "text": [
      "Validation score: 0.816986                                                                                     \n",
      "Iteration 37, loss = 0.44846211                                                                                \n",
      " 20%|██████▍                         | 20/100 [5:09:33<17:01:50, 766.38s/trial, best loss: -0.8171041736275549]"
     ]
    },
    {
     "name": "stderr",
     "output_type": "stream",
     "text": [
      "/home/jindalmadhur26/anaconda3/lib/python3.9/site-packages/sklearn/base.py:445: UserWarning: X does not have valid feature names, but MLPClassifier was fitted with feature names\n",
      "  warnings.warn(\n",
      "\n"
     ]
    },
    {
     "name": "stdout",
     "output_type": "stream",
     "text": [
      "Validation score: 0.815910                                                                                     \n",
      "Iteration 38, loss = 0.44832832                                                                                \n",
      " 20%|██████▍                         | 20/100 [5:09:58<17:01:50, 766.38s/trial, best loss: -0.8171041736275549]"
     ]
    },
    {
     "name": "stderr",
     "output_type": "stream",
     "text": [
      "/home/jindalmadhur26/anaconda3/lib/python3.9/site-packages/sklearn/base.py:445: UserWarning: X does not have valid feature names, but MLPClassifier was fitted with feature names\n",
      "  warnings.warn(\n",
      "\n"
     ]
    },
    {
     "name": "stdout",
     "output_type": "stream",
     "text": [
      "Validation score: 0.816397                                                                                     \n",
      "Iteration 39, loss = 0.44800650                                                                                \n",
      " 20%|██████▍                         | 20/100 [5:10:32<17:01:50, 766.38s/trial, best loss: -0.8171041736275549]"
     ]
    },
    {
     "name": "stderr",
     "output_type": "stream",
     "text": [
      "/home/jindalmadhur26/anaconda3/lib/python3.9/site-packages/sklearn/base.py:445: UserWarning: X does not have valid feature names, but MLPClassifier was fitted with feature names\n",
      "  warnings.warn(\n",
      "\n"
     ]
    },
    {
     "name": "stdout",
     "output_type": "stream",
     "text": [
      "Validation score: 0.817089                                                                                     \n",
      "Iteration 40, loss = 0.44787217                                                                                \n",
      " 20%|██████▍                         | 20/100 [5:11:05<17:01:50, 766.38s/trial, best loss: -0.8171041736275549]"
     ]
    },
    {
     "name": "stderr",
     "output_type": "stream",
     "text": [
      "/home/jindalmadhur26/anaconda3/lib/python3.9/site-packages/sklearn/base.py:445: UserWarning: X does not have valid feature names, but MLPClassifier was fitted with feature names\n",
      "  warnings.warn(\n",
      "\n"
     ]
    },
    {
     "name": "stdout",
     "output_type": "stream",
     "text": [
      "Validation score: 0.816089                                                                                     \n",
      "Iteration 41, loss = 0.44783225                                                                                \n",
      " 20%|██████▍                         | 20/100 [5:11:44<17:01:50, 766.38s/trial, best loss: -0.8171041736275549]"
     ]
    },
    {
     "name": "stderr",
     "output_type": "stream",
     "text": [
      "/home/jindalmadhur26/anaconda3/lib/python3.9/site-packages/sklearn/base.py:445: UserWarning: X does not have valid feature names, but MLPClassifier was fitted with feature names\n",
      "  warnings.warn(\n",
      "\n"
     ]
    },
    {
     "name": "stdout",
     "output_type": "stream",
     "text": [
      "Validation score: 0.816474                                                                                     \n",
      "Iteration 42, loss = 0.44779733                                                                                \n",
      " 20%|██████▍                         | 20/100 [5:12:21<17:01:50, 766.38s/trial, best loss: -0.8171041736275549]"
     ]
    },
    {
     "name": "stderr",
     "output_type": "stream",
     "text": [
      "/home/jindalmadhur26/anaconda3/lib/python3.9/site-packages/sklearn/base.py:445: UserWarning: X does not have valid feature names, but MLPClassifier was fitted with feature names\n",
      "  warnings.warn(\n",
      "\n"
     ]
    },
    {
     "name": "stdout",
     "output_type": "stream",
     "text": [
      "Validation score: 0.817294                                                                                     \n",
      "Iteration 43, loss = 0.44752254                                                                                \n",
      " 20%|██████▍                         | 20/100 [5:12:59<17:01:50, 766.38s/trial, best loss: -0.8171041736275549]"
     ]
    },
    {
     "name": "stderr",
     "output_type": "stream",
     "text": [
      "/home/jindalmadhur26/anaconda3/lib/python3.9/site-packages/sklearn/base.py:445: UserWarning: X does not have valid feature names, but MLPClassifier was fitted with feature names\n",
      "  warnings.warn(\n",
      "\n"
     ]
    },
    {
     "name": "stdout",
     "output_type": "stream",
     "text": [
      "Validation score: 0.816858                                                                                     \n",
      "Iteration 44, loss = 0.44749434                                                                                \n",
      " 20%|██████▍                         | 20/100 [5:13:36<17:01:50, 766.38s/trial, best loss: -0.8171041736275549]"
     ]
    },
    {
     "name": "stderr",
     "output_type": "stream",
     "text": [
      "/home/jindalmadhur26/anaconda3/lib/python3.9/site-packages/sklearn/base.py:445: UserWarning: X does not have valid feature names, but MLPClassifier was fitted with feature names\n",
      "  warnings.warn(\n",
      "\n"
     ]
    },
    {
     "name": "stdout",
     "output_type": "stream",
     "text": [
      "Validation score: 0.816781                                                                                     \n",
      "Validation score did not improve more than tol=0.000100 for 10 consecutive epochs. Stopping.                   \n",
      "0.8174330130538664                                                                                             \n",
      "0.8163342388541046                                                                                             \n",
      "{'activation': 'logistic', 'alpha': 1.3341756026833237e-08, 'hidden_layer_sizes': 6}                           \n",
      "Iteration 1, loss = 0.52675352                                                                                 \n",
      " 21%|██████▋                         | 21/100 [5:16:32<21:46:28, 992.26s/trial, best loss: -0.8171041736275549]"
     ]
    },
    {
     "name": "stderr",
     "output_type": "stream",
     "text": [
      "/home/jindalmadhur26/anaconda3/lib/python3.9/site-packages/sklearn/base.py:445: UserWarning: X does not have valid feature names, but MLPClassifier was fitted with feature names\n",
      "  warnings.warn(\n",
      "\n"
     ]
    },
    {
     "name": "stdout",
     "output_type": "stream",
     "text": [
      "Validation score: 0.807116                                                                                     \n",
      "Iteration 2, loss = 0.46759885                                                                                 \n",
      " 21%|██████▋                         | 21/100 [5:16:57<21:46:28, 992.26s/trial, best loss: -0.8171041736275549]"
     ]
    },
    {
     "name": "stderr",
     "output_type": "stream",
     "text": [
      "/home/jindalmadhur26/anaconda3/lib/python3.9/site-packages/sklearn/base.py:445: UserWarning: X does not have valid feature names, but MLPClassifier was fitted with feature names\n",
      "  warnings.warn(\n",
      "\n"
     ]
    },
    {
     "name": "stdout",
     "output_type": "stream",
     "text": [
      "Validation score: 0.812295                                                                                     \n",
      "Iteration 3, loss = 0.46346175                                                                                 \n",
      " 21%|██████▋                         | 21/100 [5:17:30<21:46:28, 992.26s/trial, best loss: -0.8171041736275549]"
     ]
    },
    {
     "name": "stderr",
     "output_type": "stream",
     "text": [
      "/home/jindalmadhur26/anaconda3/lib/python3.9/site-packages/sklearn/base.py:445: UserWarning: X does not have valid feature names, but MLPClassifier was fitted with feature names\n",
      "  warnings.warn(\n",
      "\n"
     ]
    },
    {
     "name": "stdout",
     "output_type": "stream",
     "text": [
      "Validation score: 0.813090                                                                                     \n",
      "Iteration 4, loss = 0.46154180                                                                                 \n",
      " 21%|██████▋                         | 21/100 [5:18:06<21:46:28, 992.26s/trial, best loss: -0.8171041736275549]"
     ]
    },
    {
     "name": "stderr",
     "output_type": "stream",
     "text": [
      "/home/jindalmadhur26/anaconda3/lib/python3.9/site-packages/sklearn/base.py:445: UserWarning: X does not have valid feature names, but MLPClassifier was fitted with feature names\n",
      "  warnings.warn(\n",
      "\n"
     ]
    },
    {
     "name": "stdout",
     "output_type": "stream",
     "text": [
      "Validation score: 0.813167                                                                                     \n",
      "Iteration 5, loss = 0.45985462                                                                                 \n",
      " 21%|██████▋                         | 21/100 [5:18:45<21:46:28, 992.26s/trial, best loss: -0.8171041736275549]"
     ]
    },
    {
     "name": "stderr",
     "output_type": "stream",
     "text": [
      "/home/jindalmadhur26/anaconda3/lib/python3.9/site-packages/sklearn/base.py:445: UserWarning: X does not have valid feature names, but MLPClassifier was fitted with feature names\n",
      "  warnings.warn(\n",
      "\n"
     ]
    },
    {
     "name": "stdout",
     "output_type": "stream",
     "text": [
      "Validation score: 0.813833                                                                                     \n",
      "Iteration 6, loss = 0.45876253                                                                                 \n",
      " 21%|██████▋                         | 21/100 [5:19:33<21:46:28, 992.26s/trial, best loss: -0.8171041736275549]"
     ]
    },
    {
     "name": "stderr",
     "output_type": "stream",
     "text": [
      "/home/jindalmadhur26/anaconda3/lib/python3.9/site-packages/sklearn/base.py:445: UserWarning: X does not have valid feature names, but MLPClassifier was fitted with feature names\n",
      "  warnings.warn(\n",
      "\n"
     ]
    },
    {
     "name": "stdout",
     "output_type": "stream",
     "text": [
      "Validation score: 0.812372                                                                                     \n",
      "Iteration 7, loss = 0.45786737                                                                                 \n",
      " 21%|██████▋                         | 21/100 [5:20:22<21:46:28, 992.26s/trial, best loss: -0.8171041736275549]"
     ]
    },
    {
     "name": "stderr",
     "output_type": "stream",
     "text": [
      "/home/jindalmadhur26/anaconda3/lib/python3.9/site-packages/sklearn/base.py:445: UserWarning: X does not have valid feature names, but MLPClassifier was fitted with feature names\n",
      "  warnings.warn(\n",
      "\n"
     ]
    },
    {
     "name": "stdout",
     "output_type": "stream",
     "text": [
      "Validation score: 0.814218                                                                                     \n",
      "Iteration 8, loss = 0.45695644                                                                                 \n",
      " 21%|██████▋                         | 21/100 [5:21:18<21:46:28, 992.26s/trial, best loss: -0.8171041736275549]"
     ]
    },
    {
     "name": "stderr",
     "output_type": "stream",
     "text": [
      "/home/jindalmadhur26/anaconda3/lib/python3.9/site-packages/sklearn/base.py:445: UserWarning: X does not have valid feature names, but MLPClassifier was fitted with feature names\n",
      "  warnings.warn(\n",
      "\n"
     ]
    },
    {
     "name": "stdout",
     "output_type": "stream",
     "text": [
      "Validation score: 0.814013                                                                                     \n",
      "Iteration 9, loss = 0.45627322                                                                                 \n",
      " 21%|██████▋                         | 21/100 [5:21:51<21:46:28, 992.26s/trial, best loss: -0.8171041736275549]"
     ]
    },
    {
     "name": "stderr",
     "output_type": "stream",
     "text": [
      "/home/jindalmadhur26/anaconda3/lib/python3.9/site-packages/sklearn/base.py:445: UserWarning: X does not have valid feature names, but MLPClassifier was fitted with feature names\n",
      "  warnings.warn(\n",
      "\n"
     ]
    },
    {
     "name": "stdout",
     "output_type": "stream",
     "text": [
      "Validation score: 0.814346                                                                                     \n",
      "Iteration 10, loss = 0.45556623                                                                                \n",
      " 21%|██████▋                         | 21/100 [5:22:13<21:46:28, 992.26s/trial, best loss: -0.8171041736275549]"
     ]
    },
    {
     "name": "stderr",
     "output_type": "stream",
     "text": [
      "/home/jindalmadhur26/anaconda3/lib/python3.9/site-packages/sklearn/base.py:445: UserWarning: X does not have valid feature names, but MLPClassifier was fitted with feature names\n",
      "  warnings.warn(\n",
      "\n"
     ]
    },
    {
     "name": "stdout",
     "output_type": "stream",
     "text": [
      "Validation score: 0.814243                                                                                     \n",
      "Iteration 11, loss = 0.45494855                                                                                \n",
      " 21%|██████▋                         | 21/100 [5:22:41<21:46:28, 992.26s/trial, best loss: -0.8171041736275549]"
     ]
    },
    {
     "name": "stderr",
     "output_type": "stream",
     "text": [
      "/home/jindalmadhur26/anaconda3/lib/python3.9/site-packages/sklearn/base.py:445: UserWarning: X does not have valid feature names, but MLPClassifier was fitted with feature names\n",
      "  warnings.warn(\n",
      "\n"
     ]
    },
    {
     "name": "stdout",
     "output_type": "stream",
     "text": [
      "Validation score: 0.813243                                                                                     \n",
      "Iteration 12, loss = 0.45430418                                                                                \n",
      " 21%|██████▋                         | 21/100 [5:22:59<21:46:28, 992.26s/trial, best loss: -0.8171041736275549]"
     ]
    },
    {
     "name": "stderr",
     "output_type": "stream",
     "text": [
      "/home/jindalmadhur26/anaconda3/lib/python3.9/site-packages/sklearn/base.py:445: UserWarning: X does not have valid feature names, but MLPClassifier was fitted with feature names\n",
      "  warnings.warn(\n",
      "\n"
     ]
    },
    {
     "name": "stdout",
     "output_type": "stream",
     "text": [
      "Validation score: 0.814653                                                                                     \n",
      "Iteration 13, loss = 0.45360563                                                                                \n",
      " 21%|██████▋                         | 21/100 [5:23:17<21:46:28, 992.26s/trial, best loss: -0.8171041736275549]"
     ]
    },
    {
     "name": "stderr",
     "output_type": "stream",
     "text": [
      "/home/jindalmadhur26/anaconda3/lib/python3.9/site-packages/sklearn/base.py:445: UserWarning: X does not have valid feature names, but MLPClassifier was fitted with feature names\n",
      "  warnings.warn(\n",
      "\n"
     ]
    },
    {
     "name": "stdout",
     "output_type": "stream",
     "text": [
      "Validation score: 0.815474                                                                                     \n",
      "Iteration 14, loss = 0.45331995                                                                                \n",
      " 21%|██████▋                         | 21/100 [5:24:02<21:46:28, 992.26s/trial, best loss: -0.8171041736275549]"
     ]
    },
    {
     "name": "stderr",
     "output_type": "stream",
     "text": [
      "/home/jindalmadhur26/anaconda3/lib/python3.9/site-packages/sklearn/base.py:445: UserWarning: X does not have valid feature names, but MLPClassifier was fitted with feature names\n",
      "  warnings.warn(\n",
      "\n"
     ]
    },
    {
     "name": "stdout",
     "output_type": "stream",
     "text": [
      "Validation score: 0.813628                                                                                     \n",
      "Iteration 15, loss = 0.45280647                                                                                \n",
      " 21%|██████▋                         | 21/100 [5:24:45<21:46:28, 992.26s/trial, best loss: -0.8171041736275549]"
     ]
    },
    {
     "name": "stderr",
     "output_type": "stream",
     "text": [
      "/home/jindalmadhur26/anaconda3/lib/python3.9/site-packages/sklearn/base.py:445: UserWarning: X does not have valid feature names, but MLPClassifier was fitted with feature names\n",
      "  warnings.warn(\n",
      "\n"
     ]
    },
    {
     "name": "stdout",
     "output_type": "stream",
     "text": [
      "Validation score: 0.813397                                                                                     \n",
      "Iteration 16, loss = 0.45262913                                                                                \n",
      " 21%|██████▋                         | 21/100 [5:25:29<21:46:28, 992.26s/trial, best loss: -0.8171041736275549]"
     ]
    },
    {
     "name": "stderr",
     "output_type": "stream",
     "text": [
      "/home/jindalmadhur26/anaconda3/lib/python3.9/site-packages/sklearn/base.py:445: UserWarning: X does not have valid feature names, but MLPClassifier was fitted with feature names\n",
      "  warnings.warn(\n",
      "\n"
     ]
    },
    {
     "name": "stdout",
     "output_type": "stream",
     "text": [
      "Validation score: 0.814602                                                                                     \n",
      "Iteration 17, loss = 0.45182820                                                                                \n",
      " 21%|██████▋                         | 21/100 [5:26:11<21:46:28, 992.26s/trial, best loss: -0.8171041736275549]"
     ]
    },
    {
     "name": "stderr",
     "output_type": "stream",
     "text": [
      "/home/jindalmadhur26/anaconda3/lib/python3.9/site-packages/sklearn/base.py:445: UserWarning: X does not have valid feature names, but MLPClassifier was fitted with feature names\n",
      "  warnings.warn(\n",
      "\n"
     ]
    },
    {
     "name": "stdout",
     "output_type": "stream",
     "text": [
      "Validation score: 0.814679                                                                                     \n",
      "Iteration 18, loss = 0.45157256                                                                                \n",
      " 21%|██████▋                         | 21/100 [5:26:54<21:46:28, 992.26s/trial, best loss: -0.8171041736275549]"
     ]
    },
    {
     "name": "stderr",
     "output_type": "stream",
     "text": [
      "/home/jindalmadhur26/anaconda3/lib/python3.9/site-packages/sklearn/base.py:445: UserWarning: X does not have valid feature names, but MLPClassifier was fitted with feature names\n",
      "  warnings.warn(\n",
      "\n"
     ]
    },
    {
     "name": "stdout",
     "output_type": "stream",
     "text": [
      "Validation score: 0.814602                                                                                     \n",
      "Iteration 19, loss = 0.45117272                                                                                \n",
      " 21%|██████▋                         | 21/100 [5:27:41<21:46:28, 992.26s/trial, best loss: -0.8171041736275549]"
     ]
    },
    {
     "name": "stderr",
     "output_type": "stream",
     "text": [
      "/home/jindalmadhur26/anaconda3/lib/python3.9/site-packages/sklearn/base.py:445: UserWarning: X does not have valid feature names, but MLPClassifier was fitted with feature names\n",
      "  warnings.warn(\n",
      "\n"
     ]
    },
    {
     "name": "stdout",
     "output_type": "stream",
     "text": [
      "Validation score: 0.814807                                                                                     \n",
      "Iteration 20, loss = 0.45123998                                                                                \n",
      " 21%|██████▋                         | 21/100 [5:28:30<21:46:28, 992.26s/trial, best loss: -0.8171041736275549]"
     ]
    },
    {
     "name": "stderr",
     "output_type": "stream",
     "text": [
      "/home/jindalmadhur26/anaconda3/lib/python3.9/site-packages/sklearn/base.py:445: UserWarning: X does not have valid feature names, but MLPClassifier was fitted with feature names\n",
      "  warnings.warn(\n",
      "\n"
     ]
    },
    {
     "name": "stdout",
     "output_type": "stream",
     "text": [
      "Validation score: 0.814346                                                                                     \n",
      "Iteration 21, loss = 0.45046434                                                                                \n",
      " 21%|██████▋                         | 21/100 [5:29:22<21:46:28, 992.26s/trial, best loss: -0.8171041736275549]"
     ]
    },
    {
     "name": "stderr",
     "output_type": "stream",
     "text": [
      "/home/jindalmadhur26/anaconda3/lib/python3.9/site-packages/sklearn/base.py:445: UserWarning: X does not have valid feature names, but MLPClassifier was fitted with feature names\n",
      "  warnings.warn(\n",
      "\n"
     ]
    },
    {
     "name": "stdout",
     "output_type": "stream",
     "text": [
      "Validation score: 0.813654                                                                                     \n",
      "Iteration 22, loss = 0.45037410                                                                                \n",
      " 21%|██████▋                         | 21/100 [5:30:06<21:46:28, 992.26s/trial, best loss: -0.8171041736275549]"
     ]
    },
    {
     "name": "stderr",
     "output_type": "stream",
     "text": [
      "/home/jindalmadhur26/anaconda3/lib/python3.9/site-packages/sklearn/base.py:445: UserWarning: X does not have valid feature names, but MLPClassifier was fitted with feature names\n",
      "  warnings.warn(\n",
      "\n"
     ]
    },
    {
     "name": "stdout",
     "output_type": "stream",
     "text": [
      "Validation score: 0.815525                                                                                     \n",
      "Iteration 23, loss = 0.45008171                                                                                \n",
      " 21%|██████▋                         | 21/100 [5:30:53<21:46:28, 992.26s/trial, best loss: -0.8171041736275549]"
     ]
    },
    {
     "name": "stderr",
     "output_type": "stream",
     "text": [
      "/home/jindalmadhur26/anaconda3/lib/python3.9/site-packages/sklearn/base.py:445: UserWarning: X does not have valid feature names, but MLPClassifier was fitted with feature names\n",
      "  warnings.warn(\n",
      "\n"
     ]
    },
    {
     "name": "stdout",
     "output_type": "stream",
     "text": [
      "Validation score: 0.814961                                                                                     \n",
      "Iteration 24, loss = 0.44955660                                                                                \n",
      " 21%|██████▋                         | 21/100 [5:31:32<21:46:28, 992.26s/trial, best loss: -0.8171041736275549]"
     ]
    },
    {
     "name": "stderr",
     "output_type": "stream",
     "text": [
      "/home/jindalmadhur26/anaconda3/lib/python3.9/site-packages/sklearn/base.py:445: UserWarning: X does not have valid feature names, but MLPClassifier was fitted with feature names\n",
      "  warnings.warn(\n",
      "\n"
     ]
    },
    {
     "name": "stdout",
     "output_type": "stream",
     "text": [
      "Validation score: 0.814423                                                                                     \n",
      "Validation score did not improve more than tol=0.000100 for 10 consecutive epochs. Stopping.                   \n",
      "0.8182020939509224                                                                                             \n",
      "0.8172639714107239                                                                                             \n",
      "{'activation': 'logistic', 'alpha': 0.00033817727171933074, 'hidden_layer_sizes': 37}                          \n",
      "Iteration 1, loss = 0.52941666                                                                                 \n",
      " 22%|██████▊                        | 22/100 [5:34:09<21:56:59, 1013.06s/trial, best loss: -0.8172639714107239]"
     ]
    },
    {
     "name": "stderr",
     "output_type": "stream",
     "text": [
      "/home/jindalmadhur26/anaconda3/lib/python3.9/site-packages/sklearn/base.py:445: UserWarning: X does not have valid feature names, but MLPClassifier was fitted with feature names\n",
      "  warnings.warn(\n",
      "\n"
     ]
    },
    {
     "name": "stdout",
     "output_type": "stream",
     "text": [
      "Validation score: 0.808911                                                                                     \n",
      "Iteration 2, loss = 0.47000132                                                                                 \n",
      " 22%|██████▊                        | 22/100 [5:34:34<21:56:59, 1013.06s/trial, best loss: -0.8172639714107239]"
     ]
    },
    {
     "name": "stderr",
     "output_type": "stream",
     "text": [
      "/home/jindalmadhur26/anaconda3/lib/python3.9/site-packages/sklearn/base.py:445: UserWarning: X does not have valid feature names, but MLPClassifier was fitted with feature names\n",
      "  warnings.warn(\n",
      "\n"
     ]
    },
    {
     "name": "stdout",
     "output_type": "stream",
     "text": [
      "Validation score: 0.813628                                                                                     \n",
      "Iteration 3, loss = 0.46535173                                                                                 \n",
      " 22%|██████▊                        | 22/100 [5:34:53<21:56:59, 1013.06s/trial, best loss: -0.8172639714107239]"
     ]
    },
    {
     "name": "stderr",
     "output_type": "stream",
     "text": [
      "/home/jindalmadhur26/anaconda3/lib/python3.9/site-packages/sklearn/base.py:445: UserWarning: X does not have valid feature names, but MLPClassifier was fitted with feature names\n",
      "  warnings.warn(\n",
      "\n"
     ]
    },
    {
     "name": "stdout",
     "output_type": "stream",
     "text": [
      "Validation score: 0.812090                                                                                     \n",
      "Iteration 4, loss = 0.46329624                                                                                 \n",
      " 22%|██████▊                        | 22/100 [5:35:15<21:56:59, 1013.06s/trial, best loss: -0.8172639714107239]"
     ]
    },
    {
     "name": "stderr",
     "output_type": "stream",
     "text": [
      "/home/jindalmadhur26/anaconda3/lib/python3.9/site-packages/sklearn/base.py:445: UserWarning: X does not have valid feature names, but MLPClassifier was fitted with feature names\n",
      "  warnings.warn(\n",
      "\n"
     ]
    },
    {
     "name": "stdout",
     "output_type": "stream",
     "text": [
      "Validation score: 0.810603                                                                                     \n",
      "Iteration 5, loss = 0.46154050                                                                                 \n",
      " 22%|██████▊                        | 22/100 [5:35:35<21:56:59, 1013.06s/trial, best loss: -0.8172639714107239]"
     ]
    },
    {
     "name": "stderr",
     "output_type": "stream",
     "text": [
      "/home/jindalmadhur26/anaconda3/lib/python3.9/site-packages/sklearn/base.py:445: UserWarning: X does not have valid feature names, but MLPClassifier was fitted with feature names\n",
      "  warnings.warn(\n",
      "\n"
     ]
    },
    {
     "name": "stdout",
     "output_type": "stream",
     "text": [
      "Validation score: 0.815730                                                                                     \n",
      "Iteration 6, loss = 0.46016417                                                                                 \n",
      " 22%|██████▊                        | 22/100 [5:35:57<21:56:59, 1013.06s/trial, best loss: -0.8172639714107239]"
     ]
    },
    {
     "name": "stderr",
     "output_type": "stream",
     "text": [
      "/home/jindalmadhur26/anaconda3/lib/python3.9/site-packages/sklearn/base.py:445: UserWarning: X does not have valid feature names, but MLPClassifier was fitted with feature names\n",
      "  warnings.warn(\n",
      "\n"
     ]
    },
    {
     "name": "stdout",
     "output_type": "stream",
     "text": [
      "Validation score: 0.815499                                                                                     \n",
      "Iteration 7, loss = 0.45954464                                                                                 \n",
      "Validation score: 0.814910                                                                                     \n",
      " 22%|██████▊                        | 22/100 [5:36:18<21:56:59, 1013.06s/trial, best loss: -0.8172639714107239]"
     ]
    },
    {
     "name": "stderr",
     "output_type": "stream",
     "text": [
      "/home/jindalmadhur26/anaconda3/lib/python3.9/site-packages/sklearn/base.py:445: UserWarning: X does not have valid feature names, but MLPClassifier was fitted with feature names\n",
      "  warnings.warn(\n",
      "\n"
     ]
    },
    {
     "name": "stdout",
     "output_type": "stream",
     "text": [
      "Iteration 8, loss = 0.45844056                                                                                 \n",
      " 22%|██████▊                        | 22/100 [5:36:40<21:56:59, 1013.06s/trial, best loss: -0.8172639714107239]"
     ]
    },
    {
     "name": "stderr",
     "output_type": "stream",
     "text": [
      "/home/jindalmadhur26/anaconda3/lib/python3.9/site-packages/sklearn/base.py:445: UserWarning: X does not have valid feature names, but MLPClassifier was fitted with feature names\n",
      "  warnings.warn(\n",
      "\n"
     ]
    },
    {
     "name": "stdout",
     "output_type": "stream",
     "text": [
      "Validation score: 0.815397                                                                                     \n",
      "Iteration 9, loss = 0.45791515                                                                                 \n",
      " 22%|██████▊                        | 22/100 [5:37:08<21:56:59, 1013.06s/trial, best loss: -0.8172639714107239]"
     ]
    },
    {
     "name": "stderr",
     "output_type": "stream",
     "text": [
      "/home/jindalmadhur26/anaconda3/lib/python3.9/site-packages/sklearn/base.py:445: UserWarning: X does not have valid feature names, but MLPClassifier was fitted with feature names\n",
      "  warnings.warn(\n",
      "\n"
     ]
    },
    {
     "name": "stdout",
     "output_type": "stream",
     "text": [
      "Validation score: 0.814576                                                                                     \n",
      "Iteration 10, loss = 0.45739915                                                                                \n",
      " 22%|██████▊                        | 22/100 [5:37:40<21:56:59, 1013.06s/trial, best loss: -0.8172639714107239]"
     ]
    },
    {
     "name": "stderr",
     "output_type": "stream",
     "text": [
      "/home/jindalmadhur26/anaconda3/lib/python3.9/site-packages/sklearn/base.py:445: UserWarning: X does not have valid feature names, but MLPClassifier was fitted with feature names\n",
      "  warnings.warn(\n",
      "\n"
     ]
    },
    {
     "name": "stdout",
     "output_type": "stream",
     "text": [
      "Validation score: 0.814935                                                                                     \n",
      "Iteration 11, loss = 0.45652616                                                                                \n",
      "Validation score: 0.815192                                                                                     \n",
      " 22%|██████▊                        | 22/100 [5:38:22<21:56:59, 1013.06s/trial, best loss: -0.8172639714107239]"
     ]
    },
    {
     "name": "stderr",
     "output_type": "stream",
     "text": [
      "/home/jindalmadhur26/anaconda3/lib/python3.9/site-packages/sklearn/base.py:445: UserWarning: X does not have valid feature names, but MLPClassifier was fitted with feature names\n",
      "  warnings.warn(\n",
      "\n"
     ]
    },
    {
     "name": "stdout",
     "output_type": "stream",
     "text": [
      "Iteration 12, loss = 0.45637416                                                                                \n",
      "Validation score: 0.815320                                                                                     \n",
      " 22%|██████▊                        | 22/100 [5:38:41<21:56:59, 1013.06s/trial, best loss: -0.8172639714107239]"
     ]
    },
    {
     "name": "stderr",
     "output_type": "stream",
     "text": [
      "/home/jindalmadhur26/anaconda3/lib/python3.9/site-packages/sklearn/base.py:445: UserWarning: X does not have valid feature names, but MLPClassifier was fitted with feature names\n",
      "  warnings.warn(\n",
      "\n"
     ]
    },
    {
     "name": "stdout",
     "output_type": "stream",
     "text": [
      "Iteration 13, loss = 0.45576234                                                                                \n",
      "Validation score: 0.815448                                                                                     \n",
      " 22%|██████▊                        | 22/100 [5:39:05<21:56:59, 1013.06s/trial, best loss: -0.8172639714107239]"
     ]
    },
    {
     "name": "stderr",
     "output_type": "stream",
     "text": [
      "/home/jindalmadhur26/anaconda3/lib/python3.9/site-packages/sklearn/base.py:445: UserWarning: X does not have valid feature names, but MLPClassifier was fitted with feature names\n",
      "  warnings.warn(\n",
      "\n"
     ]
    },
    {
     "name": "stdout",
     "output_type": "stream",
     "text": [
      "Iteration 14, loss = 0.45519301                                                                                \n",
      "Validation score: 0.816807                                                                                     \n",
      " 22%|██████▊                        | 22/100 [5:39:27<21:56:59, 1013.06s/trial, best loss: -0.8172639714107239]"
     ]
    },
    {
     "name": "stderr",
     "output_type": "stream",
     "text": [
      "/home/jindalmadhur26/anaconda3/lib/python3.9/site-packages/sklearn/base.py:445: UserWarning: X does not have valid feature names, but MLPClassifier was fitted with feature names\n",
      "  warnings.warn(\n",
      "\n"
     ]
    },
    {
     "name": "stdout",
     "output_type": "stream",
     "text": [
      "Iteration 15, loss = 0.45517213                                                                                \n",
      "Validation score: 0.816550                                                                                     \n",
      " 22%|██████▊                        | 22/100 [5:39:43<21:56:59, 1013.06s/trial, best loss: -0.8172639714107239]"
     ]
    },
    {
     "name": "stderr",
     "output_type": "stream",
     "text": [
      "/home/jindalmadhur26/anaconda3/lib/python3.9/site-packages/sklearn/base.py:445: UserWarning: X does not have valid feature names, but MLPClassifier was fitted with feature names\n",
      "  warnings.warn(\n",
      "\n"
     ]
    },
    {
     "name": "stdout",
     "output_type": "stream",
     "text": [
      "Iteration 16, loss = 0.45465428                                                                                \n",
      "Validation score: 0.817294                                                                                     \n",
      " 22%|██████▊                        | 22/100 [5:39:59<21:56:59, 1013.06s/trial, best loss: -0.8172639714107239]"
     ]
    },
    {
     "name": "stderr",
     "output_type": "stream",
     "text": [
      "/home/jindalmadhur26/anaconda3/lib/python3.9/site-packages/sklearn/base.py:445: UserWarning: X does not have valid feature names, but MLPClassifier was fitted with feature names\n",
      "  warnings.warn(\n",
      "\n"
     ]
    },
    {
     "name": "stdout",
     "output_type": "stream",
     "text": [
      "Iteration 17, loss = 0.45447580                                                                                \n",
      "Validation score: 0.816243                                                                                     \n",
      " 22%|██████▊                        | 22/100 [5:40:23<21:56:59, 1013.06s/trial, best loss: -0.8172639714107239]"
     ]
    },
    {
     "name": "stderr",
     "output_type": "stream",
     "text": [
      "/home/jindalmadhur26/anaconda3/lib/python3.9/site-packages/sklearn/base.py:445: UserWarning: X does not have valid feature names, but MLPClassifier was fitted with feature names\n",
      "  warnings.warn(\n",
      "\n"
     ]
    },
    {
     "name": "stdout",
     "output_type": "stream",
     "text": [
      "Iteration 18, loss = 0.45391392                                                                                \n",
      " 22%|██████▊                        | 22/100 [5:41:03<21:56:59, 1013.06s/trial, best loss: -0.8172639714107239]"
     ]
    },
    {
     "name": "stderr",
     "output_type": "stream",
     "text": [
      "/home/jindalmadhur26/anaconda3/lib/python3.9/site-packages/sklearn/base.py:445: UserWarning: X does not have valid feature names, but MLPClassifier was fitted with feature names\n",
      "  warnings.warn(\n",
      "\n"
     ]
    },
    {
     "name": "stdout",
     "output_type": "stream",
     "text": [
      "Validation score: 0.815551                                                                                     \n",
      "Iteration 19, loss = 0.45382863                                                                                \n",
      " 22%|██████▊                        | 22/100 [5:41:42<21:56:59, 1013.06s/trial, best loss: -0.8172639714107239]"
     ]
    },
    {
     "name": "stderr",
     "output_type": "stream",
     "text": [
      "/home/jindalmadhur26/anaconda3/lib/python3.9/site-packages/sklearn/base.py:445: UserWarning: X does not have valid feature names, but MLPClassifier was fitted with feature names\n",
      "  warnings.warn(\n",
      "\n"
     ]
    },
    {
     "name": "stdout",
     "output_type": "stream",
     "text": [
      "Validation score: 0.815704                                                                                     \n",
      "Iteration 20, loss = 0.45346529                                                                                \n",
      " 22%|██████▊                        | 22/100 [5:42:18<21:56:59, 1013.06s/trial, best loss: -0.8172639714107239]"
     ]
    },
    {
     "name": "stderr",
     "output_type": "stream",
     "text": [
      "/home/jindalmadhur26/anaconda3/lib/python3.9/site-packages/sklearn/base.py:445: UserWarning: X does not have valid feature names, but MLPClassifier was fitted with feature names\n",
      "  warnings.warn(\n",
      "\n"
     ]
    },
    {
     "name": "stdout",
     "output_type": "stream",
     "text": [
      "Validation score: 0.815884                                                                                     \n",
      "Iteration 21, loss = 0.45303893                                                                                \n",
      " 22%|██████▊                        | 22/100 [5:42:58<21:56:59, 1013.06s/trial, best loss: -0.8172639714107239]"
     ]
    },
    {
     "name": "stderr",
     "output_type": "stream",
     "text": [
      "/home/jindalmadhur26/anaconda3/lib/python3.9/site-packages/sklearn/base.py:445: UserWarning: X does not have valid feature names, but MLPClassifier was fitted with feature names\n",
      "  warnings.warn(\n",
      "\n"
     ]
    },
    {
     "name": "stdout",
     "output_type": "stream",
     "text": [
      "Validation score: 0.816884                                                                                     \n",
      "Iteration 22, loss = 0.45280540                                                                                \n",
      " 22%|██████▊                        | 22/100 [5:43:29<21:56:59, 1013.06s/trial, best loss: -0.8172639714107239]"
     ]
    },
    {
     "name": "stderr",
     "output_type": "stream",
     "text": [
      "/home/jindalmadhur26/anaconda3/lib/python3.9/site-packages/sklearn/base.py:445: UserWarning: X does not have valid feature names, but MLPClassifier was fitted with feature names\n",
      "  warnings.warn(\n",
      "\n"
     ]
    },
    {
     "name": "stdout",
     "output_type": "stream",
     "text": [
      "Validation score: 0.817448                                                                                     \n",
      "Iteration 23, loss = 0.45278630                                                                                \n",
      " 22%|██████▊                        | 22/100 [5:43:57<21:56:59, 1013.06s/trial, best loss: -0.8172639714107239]"
     ]
    },
    {
     "name": "stderr",
     "output_type": "stream",
     "text": [
      "/home/jindalmadhur26/anaconda3/lib/python3.9/site-packages/sklearn/base.py:445: UserWarning: X does not have valid feature names, but MLPClassifier was fitted with feature names\n",
      "  warnings.warn(\n",
      "\n"
     ]
    },
    {
     "name": "stdout",
     "output_type": "stream",
     "text": [
      "Validation score: 0.816063                                                                                     \n",
      "Iteration 24, loss = 0.45243399                                                                                \n",
      "                                                                                                               \r"
     ]
    },
    {
     "name": "stderr",
     "output_type": "stream",
     "text": [
      "/home/jindalmadhur26/anaconda3/lib/python3.9/site-packages/sklearn/base.py:445: UserWarning: X does not have valid feature names, but MLPClassifier was fitted with feature names\n",
      "  warnings.warn(\n",
      "\n"
     ]
    },
    {
     "name": "stdout",
     "output_type": "stream",
     "text": [
      "Validation score: 0.816166\n",
      "Iteration 25, loss = 0.45198456                                                                                \n",
      " 22%|██████▊                        | 22/100 [5:44:42<21:56:59, 1013.06s/trial, best loss: -0.8172639714107239]"
     ]
    },
    {
     "name": "stderr",
     "output_type": "stream",
     "text": [
      "/home/jindalmadhur26/anaconda3/lib/python3.9/site-packages/sklearn/base.py:445: UserWarning: X does not have valid feature names, but MLPClassifier was fitted with feature names\n",
      "  warnings.warn(\n",
      "\n"
     ]
    },
    {
     "name": "stdout",
     "output_type": "stream",
     "text": [
      "Validation score: 0.816397                                                                                     \n",
      "Iteration 26, loss = 0.45225193                                                                                \n",
      " 22%|██████▊                        | 22/100 [5:45:04<21:56:59, 1013.06s/trial, best loss: -0.8172639714107239]"
     ]
    },
    {
     "name": "stderr",
     "output_type": "stream",
     "text": [
      "/home/jindalmadhur26/anaconda3/lib/python3.9/site-packages/sklearn/base.py:445: UserWarning: X does not have valid feature names, but MLPClassifier was fitted with feature names\n",
      "  warnings.warn(\n",
      "\n"
     ]
    },
    {
     "name": "stdout",
     "output_type": "stream",
     "text": [
      "Validation score: 0.815807                                                                                     \n",
      "Iteration 27, loss = 0.45170987                                                                                \n",
      " 22%|██████▊                        | 22/100 [5:45:36<21:56:59, 1013.06s/trial, best loss: -0.8172639714107239]"
     ]
    },
    {
     "name": "stderr",
     "output_type": "stream",
     "text": [
      "/home/jindalmadhur26/anaconda3/lib/python3.9/site-packages/sklearn/base.py:445: UserWarning: X does not have valid feature names, but MLPClassifier was fitted with feature names\n",
      "  warnings.warn(\n",
      "\n"
     ]
    },
    {
     "name": "stdout",
     "output_type": "stream",
     "text": [
      "Validation score: 0.816294                                                                                     \n",
      "Iteration 28, loss = 0.45152093                                                                                \n",
      " 22%|██████▊                        | 22/100 [5:45:58<21:56:59, 1013.06s/trial, best loss: -0.8172639714107239]"
     ]
    },
    {
     "name": "stderr",
     "output_type": "stream",
     "text": [
      "/home/jindalmadhur26/anaconda3/lib/python3.9/site-packages/sklearn/base.py:445: UserWarning: X does not have valid feature names, but MLPClassifier was fitted with feature names\n",
      "  warnings.warn(\n",
      "\n"
     ]
    },
    {
     "name": "stdout",
     "output_type": "stream",
     "text": [
      "Validation score: 0.816448                                                                                     \n",
      "Iteration 29, loss = 0.45148781                                                                                \n",
      " 22%|██████▊                        | 22/100 [5:46:30<21:56:59, 1013.06s/trial, best loss: -0.8172639714107239]"
     ]
    },
    {
     "name": "stderr",
     "output_type": "stream",
     "text": [
      "/home/jindalmadhur26/anaconda3/lib/python3.9/site-packages/sklearn/base.py:445: UserWarning: X does not have valid feature names, but MLPClassifier was fitted with feature names\n",
      "  warnings.warn(\n",
      "\n"
     ]
    },
    {
     "name": "stdout",
     "output_type": "stream",
     "text": [
      "Validation score: 0.816397                                                                                     \n",
      "Iteration 30, loss = 0.45160251                                                                                \n",
      " 22%|██████▊                        | 22/100 [5:47:00<21:56:59, 1013.06s/trial, best loss: -0.8172639714107239]"
     ]
    },
    {
     "name": "stderr",
     "output_type": "stream",
     "text": [
      "/home/jindalmadhur26/anaconda3/lib/python3.9/site-packages/sklearn/base.py:445: UserWarning: X does not have valid feature names, but MLPClassifier was fitted with feature names\n",
      "  warnings.warn(\n",
      "\n"
     ]
    },
    {
     "name": "stdout",
     "output_type": "stream",
     "text": [
      "Validation score: 0.814756                                                                                     \n",
      "Iteration 31, loss = 0.45141290                                                                                \n",
      " 22%|██████▊                        | 22/100 [5:47:29<21:56:59, 1013.06s/trial, best loss: -0.8172639714107239]"
     ]
    },
    {
     "name": "stderr",
     "output_type": "stream",
     "text": [
      "/home/jindalmadhur26/anaconda3/lib/python3.9/site-packages/sklearn/base.py:445: UserWarning: X does not have valid feature names, but MLPClassifier was fitted with feature names\n",
      "  warnings.warn(\n",
      "\n"
     ]
    },
    {
     "name": "stdout",
     "output_type": "stream",
     "text": [
      "Validation score: 0.816807                                                                                     \n",
      "Iteration 32, loss = 0.45119883                                                                                \n",
      " 22%|██████▊                        | 22/100 [5:47:59<21:56:59, 1013.06s/trial, best loss: -0.8172639714107239]"
     ]
    },
    {
     "name": "stderr",
     "output_type": "stream",
     "text": [
      "/home/jindalmadhur26/anaconda3/lib/python3.9/site-packages/sklearn/base.py:445: UserWarning: X does not have valid feature names, but MLPClassifier was fitted with feature names\n",
      "  warnings.warn(\n",
      "\n"
     ]
    },
    {
     "name": "stdout",
     "output_type": "stream",
     "text": [
      "Validation score: 0.816448                                                                                     \n",
      "Iteration 33, loss = 0.45111757                                                                                \n",
      " 22%|██████▊                        | 22/100 [5:48:19<21:56:59, 1013.06s/trial, best loss: -0.8172639714107239]"
     ]
    },
    {
     "name": "stderr",
     "output_type": "stream",
     "text": [
      "/home/jindalmadhur26/anaconda3/lib/python3.9/site-packages/sklearn/base.py:445: UserWarning: X does not have valid feature names, but MLPClassifier was fitted with feature names\n",
      "  warnings.warn(\n",
      "\n"
     ]
    },
    {
     "name": "stdout",
     "output_type": "stream",
     "text": [
      "Validation score: 0.816909                                                                                     \n",
      "Validation score did not improve more than tol=0.000100 for 10 consecutive epochs. Stopping.                   \n",
      "0.8167792942913689                                                                                             \n",
      "0.8166538344204425                                                                                             \n",
      "{'activation': 'logistic', 'alpha': 0.00044927312253485616, 'hidden_layer_sizes': 6}                           \n",
      "Iteration 1, loss = 2.65029533                                                                                 \n",
      " 23%|███████▏                       | 23/100 [5:52:11<21:46:34, 1018.11s/trial, best loss: -0.8172639714107239]"
     ]
    },
    {
     "name": "stderr",
     "output_type": "stream",
     "text": [
      "/home/jindalmadhur26/anaconda3/lib/python3.9/site-packages/sklearn/base.py:445: UserWarning: X does not have valid feature names, but MLPClassifier was fitted with feature names\n",
      "  warnings.warn(\n",
      "\n"
     ]
    },
    {
     "name": "stdout",
     "output_type": "stream",
     "text": [
      "Validation score: 0.737797                                                                                     \n",
      "Iteration 2, loss = 0.85608580                                                                                 \n",
      " 23%|███████▏                       | 23/100 [5:52:31<21:46:34, 1018.11s/trial, best loss: -0.8172639714107239]"
     ]
    },
    {
     "name": "stderr",
     "output_type": "stream",
     "text": [
      "/home/jindalmadhur26/anaconda3/lib/python3.9/site-packages/sklearn/base.py:445: UserWarning: X does not have valid feature names, but MLPClassifier was fitted with feature names\n",
      "  warnings.warn(\n",
      "\n"
     ]
    },
    {
     "name": "stdout",
     "output_type": "stream",
     "text": [
      "Validation score: 0.737797                                                                                     \n",
      "Iteration 3, loss = 0.85413604                                                                                 \n",
      " 23%|███████▏                       | 23/100 [5:52:48<21:46:34, 1018.11s/trial, best loss: -0.8172639714107239]"
     ]
    },
    {
     "name": "stderr",
     "output_type": "stream",
     "text": [
      "/home/jindalmadhur26/anaconda3/lib/python3.9/site-packages/sklearn/base.py:445: UserWarning: X does not have valid feature names, but MLPClassifier was fitted with feature names\n",
      "  warnings.warn(\n",
      "\n"
     ]
    },
    {
     "name": "stdout",
     "output_type": "stream",
     "text": [
      "Validation score: 0.737797                                                                                     \n",
      "Iteration 4, loss = 0.85421617                                                                                 \n",
      " 23%|███████▏                       | 23/100 [5:53:08<21:46:34, 1018.11s/trial, best loss: -0.8172639714107239]"
     ]
    },
    {
     "name": "stderr",
     "output_type": "stream",
     "text": [
      "/home/jindalmadhur26/anaconda3/lib/python3.9/site-packages/sklearn/base.py:445: UserWarning: X does not have valid feature names, but MLPClassifier was fitted with feature names\n",
      "  warnings.warn(\n",
      "\n"
     ]
    },
    {
     "name": "stdout",
     "output_type": "stream",
     "text": [
      "Validation score: 0.737797                                                                                     \n",
      "Iteration 5, loss = 0.85417274                                                                                 \n",
      " 23%|███████▏                       | 23/100 [5:53:34<21:46:34, 1018.11s/trial, best loss: -0.8172639714107239]"
     ]
    },
    {
     "name": "stderr",
     "output_type": "stream",
     "text": [
      "/home/jindalmadhur26/anaconda3/lib/python3.9/site-packages/sklearn/base.py:445: UserWarning: X does not have valid feature names, but MLPClassifier was fitted with feature names\n",
      "  warnings.warn(\n",
      "\n"
     ]
    },
    {
     "name": "stdout",
     "output_type": "stream",
     "text": [
      "Validation score: 0.737797                                                                                     \n",
      "Iteration 6, loss = 0.85414074                                                                                 \n",
      " 23%|███████▏                       | 23/100 [5:54:11<21:46:34, 1018.11s/trial, best loss: -0.8172639714107239]"
     ]
    },
    {
     "name": "stderr",
     "output_type": "stream",
     "text": [
      "/home/jindalmadhur26/anaconda3/lib/python3.9/site-packages/sklearn/base.py:445: UserWarning: X does not have valid feature names, but MLPClassifier was fitted with feature names\n",
      "  warnings.warn(\n",
      "\n"
     ]
    },
    {
     "name": "stdout",
     "output_type": "stream",
     "text": [
      "Validation score: 0.737797                                                                                     \n",
      "Iteration 7, loss = 0.85410975                                                                                 \n",
      " 23%|███████▏                       | 23/100 [5:54:42<21:46:34, 1018.11s/trial, best loss: -0.8172639714107239]"
     ]
    },
    {
     "name": "stderr",
     "output_type": "stream",
     "text": [
      "/home/jindalmadhur26/anaconda3/lib/python3.9/site-packages/sklearn/base.py:445: UserWarning: X does not have valid feature names, but MLPClassifier was fitted with feature names\n",
      "  warnings.warn(\n",
      "\n"
     ]
    },
    {
     "name": "stdout",
     "output_type": "stream",
     "text": [
      "Validation score: 0.737797                                                                                     \n",
      "Iteration 8, loss = 0.85402511                                                                                 \n",
      " 23%|███████▏                       | 23/100 [5:55:29<21:46:34, 1018.11s/trial, best loss: -0.8172639714107239]"
     ]
    },
    {
     "name": "stderr",
     "output_type": "stream",
     "text": [
      "/home/jindalmadhur26/anaconda3/lib/python3.9/site-packages/sklearn/base.py:445: UserWarning: X does not have valid feature names, but MLPClassifier was fitted with feature names\n",
      "  warnings.warn(\n",
      "\n"
     ]
    },
    {
     "name": "stdout",
     "output_type": "stream",
     "text": [
      "Validation score: 0.737797                                                                                     \n",
      "Iteration 9, loss = 0.85393762                                                                                 \n",
      " 23%|███████▏                       | 23/100 [5:56:24<21:46:34, 1018.11s/trial, best loss: -0.8172639714107239]"
     ]
    },
    {
     "name": "stderr",
     "output_type": "stream",
     "text": [
      "/home/jindalmadhur26/anaconda3/lib/python3.9/site-packages/sklearn/base.py:445: UserWarning: X does not have valid feature names, but MLPClassifier was fitted with feature names\n",
      "  warnings.warn(\n",
      "\n"
     ]
    },
    {
     "name": "stdout",
     "output_type": "stream",
     "text": [
      "Validation score: 0.737797                                                                                     \n",
      "Iteration 10, loss = 0.85393356                                                                                \n",
      " 23%|███████▏                       | 23/100 [5:57:30<21:46:34, 1018.11s/trial, best loss: -0.8172639714107239]"
     ]
    },
    {
     "name": "stderr",
     "output_type": "stream",
     "text": [
      "/home/jindalmadhur26/anaconda3/lib/python3.9/site-packages/sklearn/base.py:445: UserWarning: X does not have valid feature names, but MLPClassifier was fitted with feature names\n",
      "  warnings.warn(\n",
      "\n"
     ]
    },
    {
     "name": "stdout",
     "output_type": "stream",
     "text": [
      "Validation score: 0.737797                                                                                     \n",
      "Iteration 11, loss = 0.85389797                                                                                \n",
      " 23%|███████▏                       | 23/100 [5:58:27<21:46:34, 1018.11s/trial, best loss: -0.8172639714107239]"
     ]
    },
    {
     "name": "stderr",
     "output_type": "stream",
     "text": [
      "/home/jindalmadhur26/anaconda3/lib/python3.9/site-packages/sklearn/base.py:445: UserWarning: X does not have valid feature names, but MLPClassifier was fitted with feature names\n",
      "  warnings.warn(\n",
      "\n"
     ]
    },
    {
     "name": "stdout",
     "output_type": "stream",
     "text": [
      "Validation score: 0.737797                                                                                     \n",
      "Iteration 12, loss = 0.85383078                                                                                \n",
      " 23%|███████▏                       | 23/100 [5:59:26<21:46:34, 1018.11s/trial, best loss: -0.8172639714107239]"
     ]
    },
    {
     "name": "stderr",
     "output_type": "stream",
     "text": [
      "/home/jindalmadhur26/anaconda3/lib/python3.9/site-packages/sklearn/base.py:445: UserWarning: X does not have valid feature names, but MLPClassifier was fitted with feature names\n",
      "  warnings.warn(\n",
      "\n"
     ]
    },
    {
     "name": "stdout",
     "output_type": "stream",
     "text": [
      "Validation score: 0.737797                                                                                     \n",
      "Validation score did not improve more than tol=0.000100 for 10 consecutive epochs. Stopping.                   \n",
      "0.7410658435791999                                                                                             \n",
      "0.7410694829815361                                                                                             \n",
      "{'activation': 'logistic', 'alpha': 714.4898587992967, 'hidden_layer_sizes': 56}                               \n",
      "Iteration 1, loss = 0.51772146                                                                                 \n",
      " 24%|███████▋                        | 24/100 [6:02:52<19:10:10, 908.04s/trial, best loss: -0.8172639714107239]"
     ]
    },
    {
     "name": "stderr",
     "output_type": "stream",
     "text": [
      "/home/jindalmadhur26/anaconda3/lib/python3.9/site-packages/sklearn/base.py:445: UserWarning: X does not have valid feature names, but MLPClassifier was fitted with feature names\n",
      "  warnings.warn(\n",
      "\n"
     ]
    },
    {
     "name": "stdout",
     "output_type": "stream",
     "text": [
      "Validation score: 0.811039                                                                                     \n",
      "Iteration 2, loss = 0.46956118                                                                                 \n",
      " 24%|███████▋                        | 24/100 [6:03:20<19:10:10, 908.04s/trial, best loss: -0.8172639714107239]"
     ]
    },
    {
     "name": "stderr",
     "output_type": "stream",
     "text": [
      "/home/jindalmadhur26/anaconda3/lib/python3.9/site-packages/sklearn/base.py:445: UserWarning: X does not have valid feature names, but MLPClassifier was fitted with feature names\n",
      "  warnings.warn(\n",
      "\n"
     ]
    },
    {
     "name": "stdout",
     "output_type": "stream",
     "text": [
      "Validation score: 0.813679                                                                                     \n",
      "Iteration 3, loss = 0.46519144                                                                                 \n",
      " 24%|███████▋                        | 24/100 [6:03:51<19:10:10, 908.04s/trial, best loss: -0.8172639714107239]"
     ]
    },
    {
     "name": "stderr",
     "output_type": "stream",
     "text": [
      "/home/jindalmadhur26/anaconda3/lib/python3.9/site-packages/sklearn/base.py:445: UserWarning: X does not have valid feature names, but MLPClassifier was fitted with feature names\n",
      "  warnings.warn(\n",
      "\n"
     ]
    },
    {
     "name": "stdout",
     "output_type": "stream",
     "text": [
      "Validation score: 0.814448                                                                                     \n",
      "Iteration 4, loss = 0.46312989                                                                                 \n",
      " 24%|███████▋                        | 24/100 [6:04:17<19:10:10, 908.04s/trial, best loss: -0.8172639714107239]"
     ]
    },
    {
     "name": "stderr",
     "output_type": "stream",
     "text": [
      "/home/jindalmadhur26/anaconda3/lib/python3.9/site-packages/sklearn/base.py:445: UserWarning: X does not have valid feature names, but MLPClassifier was fitted with feature names\n",
      "  warnings.warn(\n",
      "\n"
     ]
    },
    {
     "name": "stdout",
     "output_type": "stream",
     "text": [
      "Validation score: 0.814320                                                                                     \n",
      "Iteration 5, loss = 0.46121901                                                                                 \n",
      " 24%|███████▋                        | 24/100 [6:04:40<19:10:10, 908.04s/trial, best loss: -0.8172639714107239]"
     ]
    },
    {
     "name": "stderr",
     "output_type": "stream",
     "text": [
      "/home/jindalmadhur26/anaconda3/lib/python3.9/site-packages/sklearn/base.py:445: UserWarning: X does not have valid feature names, but MLPClassifier was fitted with feature names\n",
      "  warnings.warn(\n",
      "\n"
     ]
    },
    {
     "name": "stdout",
     "output_type": "stream",
     "text": [
      "Validation score: 0.814910                                                                                     \n",
      "Iteration 6, loss = 0.46006961                                                                                 \n",
      " 24%|███████▋                        | 24/100 [6:05:07<19:10:10, 908.04s/trial, best loss: -0.8172639714107239]"
     ]
    },
    {
     "name": "stderr",
     "output_type": "stream",
     "text": [
      "/home/jindalmadhur26/anaconda3/lib/python3.9/site-packages/sklearn/base.py:445: UserWarning: X does not have valid feature names, but MLPClassifier was fitted with feature names\n",
      "  warnings.warn(\n",
      "\n"
     ]
    },
    {
     "name": "stdout",
     "output_type": "stream",
     "text": [
      "Validation score: 0.816038                                                                                     \n",
      "Iteration 7, loss = 0.45926311                                                                                 \n",
      " 24%|███████▋                        | 24/100 [6:05:42<19:10:10, 908.04s/trial, best loss: -0.8172639714107239]"
     ]
    },
    {
     "name": "stderr",
     "output_type": "stream",
     "text": [
      "/home/jindalmadhur26/anaconda3/lib/python3.9/site-packages/sklearn/base.py:445: UserWarning: X does not have valid feature names, but MLPClassifier was fitted with feature names\n",
      "  warnings.warn(\n",
      "\n"
     ]
    },
    {
     "name": "stdout",
     "output_type": "stream",
     "text": [
      "Validation score: 0.816012                                                                                     \n",
      "Iteration 8, loss = 0.45835080                                                                                 \n",
      " 24%|███████▋                        | 24/100 [6:06:17<19:10:10, 908.04s/trial, best loss: -0.8172639714107239]"
     ]
    },
    {
     "name": "stderr",
     "output_type": "stream",
     "text": [
      "/home/jindalmadhur26/anaconda3/lib/python3.9/site-packages/sklearn/base.py:445: UserWarning: X does not have valid feature names, but MLPClassifier was fitted with feature names\n",
      "  warnings.warn(\n",
      "\n"
     ]
    },
    {
     "name": "stdout",
     "output_type": "stream",
     "text": [
      "Validation score: 0.815499                                                                                     \n",
      "Iteration 9, loss = 0.45754872                                                                                 \n",
      " 24%|███████▋                        | 24/100 [6:06:46<19:10:10, 908.04s/trial, best loss: -0.8172639714107239]"
     ]
    },
    {
     "name": "stderr",
     "output_type": "stream",
     "text": [
      "/home/jindalmadhur26/anaconda3/lib/python3.9/site-packages/sklearn/base.py:445: UserWarning: X does not have valid feature names, but MLPClassifier was fitted with feature names\n",
      "  warnings.warn(\n",
      "\n"
     ]
    },
    {
     "name": "stdout",
     "output_type": "stream",
     "text": [
      "Validation score: 0.815602                                                                                     \n",
      "Iteration 10, loss = 0.45717204                                                                                \n",
      " 24%|███████▋                        | 24/100 [6:07:10<19:10:10, 908.04s/trial, best loss: -0.8172639714107239]"
     ]
    },
    {
     "name": "stderr",
     "output_type": "stream",
     "text": [
      "/home/jindalmadhur26/anaconda3/lib/python3.9/site-packages/sklearn/base.py:445: UserWarning: X does not have valid feature names, but MLPClassifier was fitted with feature names\n",
      "  warnings.warn(\n",
      "\n"
     ]
    },
    {
     "name": "stdout",
     "output_type": "stream",
     "text": [
      "Validation score: 0.815089                                                                                     \n",
      "Iteration 11, loss = 0.45641504                                                                                \n",
      " 24%|███████▋                        | 24/100 [6:07:33<19:10:10, 908.04s/trial, best loss: -0.8172639714107239]"
     ]
    },
    {
     "name": "stderr",
     "output_type": "stream",
     "text": [
      "/home/jindalmadhur26/anaconda3/lib/python3.9/site-packages/sklearn/base.py:445: UserWarning: X does not have valid feature names, but MLPClassifier was fitted with feature names\n",
      "  warnings.warn(\n",
      "\n"
     ]
    },
    {
     "name": "stdout",
     "output_type": "stream",
     "text": [
      "Validation score: 0.815192                                                                                     \n",
      "Iteration 12, loss = 0.45571806                                                                                \n",
      " 24%|███████▋                        | 24/100 [6:08:11<19:10:10, 908.04s/trial, best loss: -0.8172639714107239]"
     ]
    },
    {
     "name": "stderr",
     "output_type": "stream",
     "text": [
      "/home/jindalmadhur26/anaconda3/lib/python3.9/site-packages/sklearn/base.py:445: UserWarning: X does not have valid feature names, but MLPClassifier was fitted with feature names\n",
      "  warnings.warn(\n",
      "\n"
     ]
    },
    {
     "name": "stdout",
     "output_type": "stream",
     "text": [
      "Validation score: 0.815371                                                                                     \n",
      "Iteration 13, loss = 0.45530217                                                                                \n",
      " 24%|███████▋                        | 24/100 [6:08:45<19:10:10, 908.04s/trial, best loss: -0.8172639714107239]"
     ]
    },
    {
     "name": "stderr",
     "output_type": "stream",
     "text": [
      "/home/jindalmadhur26/anaconda3/lib/python3.9/site-packages/sklearn/base.py:445: UserWarning: X does not have valid feature names, but MLPClassifier was fitted with feature names\n",
      "  warnings.warn(\n",
      "\n"
     ]
    },
    {
     "name": "stdout",
     "output_type": "stream",
     "text": [
      "Validation score: 0.814884                                                                                     \n",
      "Iteration 14, loss = 0.45498638                                                                                \n",
      " 24%|███████▋                        | 24/100 [6:09:23<19:10:10, 908.04s/trial, best loss: -0.8172639714107239]"
     ]
    },
    {
     "name": "stderr",
     "output_type": "stream",
     "text": [
      "/home/jindalmadhur26/anaconda3/lib/python3.9/site-packages/sklearn/base.py:445: UserWarning: X does not have valid feature names, but MLPClassifier was fitted with feature names\n",
      "  warnings.warn(\n",
      "\n"
     ]
    },
    {
     "name": "stdout",
     "output_type": "stream",
     "text": [
      "Validation score: 0.816627                                                                                     \n",
      "Iteration 15, loss = 0.45436948                                                                                \n",
      " 24%|███████▋                        | 24/100 [6:10:04<19:10:10, 908.04s/trial, best loss: -0.8172639714107239]"
     ]
    },
    {
     "name": "stderr",
     "output_type": "stream",
     "text": [
      "/home/jindalmadhur26/anaconda3/lib/python3.9/site-packages/sklearn/base.py:445: UserWarning: X does not have valid feature names, but MLPClassifier was fitted with feature names\n",
      "  warnings.warn(\n",
      "\n"
     ]
    },
    {
     "name": "stdout",
     "output_type": "stream",
     "text": [
      "Validation score: 0.815602                                                                                     \n",
      "Iteration 16, loss = 0.45395696                                                                                \n",
      " 24%|███████▋                        | 24/100 [6:10:38<19:10:10, 908.04s/trial, best loss: -0.8172639714107239]"
     ]
    },
    {
     "name": "stderr",
     "output_type": "stream",
     "text": [
      "/home/jindalmadhur26/anaconda3/lib/python3.9/site-packages/sklearn/base.py:445: UserWarning: X does not have valid feature names, but MLPClassifier was fitted with feature names\n",
      "  warnings.warn(\n",
      "\n"
     ]
    },
    {
     "name": "stdout",
     "output_type": "stream",
     "text": [
      "Validation score: 0.817730                                                                                     \n",
      "Iteration 17, loss = 0.45377736                                                                                \n",
      " 24%|███████▋                        | 24/100 [6:11:14<19:10:10, 908.04s/trial, best loss: -0.8172639714107239]"
     ]
    },
    {
     "name": "stderr",
     "output_type": "stream",
     "text": [
      "/home/jindalmadhur26/anaconda3/lib/python3.9/site-packages/sklearn/base.py:445: UserWarning: X does not have valid feature names, but MLPClassifier was fitted with feature names\n",
      "  warnings.warn(\n",
      "\n"
     ]
    },
    {
     "name": "stdout",
     "output_type": "stream",
     "text": [
      "Validation score: 0.817089                                                                                     \n",
      "Iteration 18, loss = 0.45364576                                                                                \n",
      " 24%|███████▋                        | 24/100 [6:11:52<19:10:10, 908.04s/trial, best loss: -0.8172639714107239]"
     ]
    },
    {
     "name": "stderr",
     "output_type": "stream",
     "text": [
      "/home/jindalmadhur26/anaconda3/lib/python3.9/site-packages/sklearn/base.py:445: UserWarning: X does not have valid feature names, but MLPClassifier was fitted with feature names\n",
      "  warnings.warn(\n",
      "\n"
     ]
    },
    {
     "name": "stdout",
     "output_type": "stream",
     "text": [
      "Validation score: 0.813884                                                                                     \n",
      "Iteration 19, loss = 0.45323051                                                                                \n",
      " 24%|███████▋                        | 24/100 [6:12:28<19:10:10, 908.04s/trial, best loss: -0.8172639714107239]"
     ]
    },
    {
     "name": "stderr",
     "output_type": "stream",
     "text": [
      "/home/jindalmadhur26/anaconda3/lib/python3.9/site-packages/sklearn/base.py:445: UserWarning: X does not have valid feature names, but MLPClassifier was fitted with feature names\n",
      "  warnings.warn(\n",
      "\n"
     ]
    },
    {
     "name": "stdout",
     "output_type": "stream",
     "text": [
      "Validation score: 0.815012                                                                                     \n",
      "Iteration 20, loss = 0.45312316                                                                                \n",
      " 24%|███████▋                        | 24/100 [6:12:58<19:10:10, 908.04s/trial, best loss: -0.8172639714107239]"
     ]
    },
    {
     "name": "stderr",
     "output_type": "stream",
     "text": [
      "/home/jindalmadhur26/anaconda3/lib/python3.9/site-packages/sklearn/base.py:445: UserWarning: X does not have valid feature names, but MLPClassifier was fitted with feature names\n",
      "  warnings.warn(\n",
      "\n"
     ]
    },
    {
     "name": "stdout",
     "output_type": "stream",
     "text": [
      "Validation score: 0.815807                                                                                     \n",
      "Iteration 21, loss = 0.45274238                                                                                \n",
      " 24%|███████▋                        | 24/100 [6:13:16<19:10:10, 908.04s/trial, best loss: -0.8172639714107239]"
     ]
    },
    {
     "name": "stderr",
     "output_type": "stream",
     "text": [
      "/home/jindalmadhur26/anaconda3/lib/python3.9/site-packages/sklearn/base.py:445: UserWarning: X does not have valid feature names, but MLPClassifier was fitted with feature names\n",
      "  warnings.warn(\n",
      "\n"
     ]
    },
    {
     "name": "stdout",
     "output_type": "stream",
     "text": [
      "Validation score: 0.814884                                                                                     \n",
      "Iteration 22, loss = 0.45271106                                                                                \n",
      " 24%|███████▋                        | 24/100 [6:13:34<19:10:10, 908.04s/trial, best loss: -0.8172639714107239]"
     ]
    },
    {
     "name": "stderr",
     "output_type": "stream",
     "text": [
      "/home/jindalmadhur26/anaconda3/lib/python3.9/site-packages/sklearn/base.py:445: UserWarning: X does not have valid feature names, but MLPClassifier was fitted with feature names\n",
      "  warnings.warn(\n",
      "\n"
     ]
    },
    {
     "name": "stdout",
     "output_type": "stream",
     "text": [
      "Validation score: 0.817217                                                                                     \n",
      "Iteration 23, loss = 0.45222009                                                                                \n",
      " 24%|███████▋                        | 24/100 [6:13:56<19:10:10, 908.04s/trial, best loss: -0.8172639714107239]"
     ]
    },
    {
     "name": "stderr",
     "output_type": "stream",
     "text": [
      "/home/jindalmadhur26/anaconda3/lib/python3.9/site-packages/sklearn/base.py:445: UserWarning: X does not have valid feature names, but MLPClassifier was fitted with feature names\n",
      "  warnings.warn(\n",
      "\n"
     ]
    },
    {
     "name": "stdout",
     "output_type": "stream",
     "text": [
      "Validation score: 0.815756                                                                                     \n",
      "Iteration 24, loss = 0.45183817                                                                                \n",
      " 24%|███████▋                        | 24/100 [6:14:16<19:10:10, 908.04s/trial, best loss: -0.8172639714107239]"
     ]
    },
    {
     "name": "stderr",
     "output_type": "stream",
     "text": [
      "/home/jindalmadhur26/anaconda3/lib/python3.9/site-packages/sklearn/base.py:445: UserWarning: X does not have valid feature names, but MLPClassifier was fitted with feature names\n",
      "  warnings.warn(\n",
      "\n"
     ]
    },
    {
     "name": "stdout",
     "output_type": "stream",
     "text": [
      "Validation score: 0.815935                                                                                     \n",
      "Iteration 25, loss = 0.45183707                                                                                \n",
      " 24%|███████▋                        | 24/100 [6:14:40<19:10:10, 908.04s/trial, best loss: -0.8172639714107239]"
     ]
    },
    {
     "name": "stderr",
     "output_type": "stream",
     "text": [
      "/home/jindalmadhur26/anaconda3/lib/python3.9/site-packages/sklearn/base.py:445: UserWarning: X does not have valid feature names, but MLPClassifier was fitted with feature names\n",
      "  warnings.warn(\n",
      "\n"
     ]
    },
    {
     "name": "stdout",
     "output_type": "stream",
     "text": [
      "Validation score: 0.816525                                                                                     \n",
      "Iteration 26, loss = 0.45142794                                                                                \n",
      " 24%|███████▋                        | 24/100 [6:15:08<19:10:10, 908.04s/trial, best loss: -0.8172639714107239]"
     ]
    },
    {
     "name": "stderr",
     "output_type": "stream",
     "text": [
      "/home/jindalmadhur26/anaconda3/lib/python3.9/site-packages/sklearn/base.py:445: UserWarning: X does not have valid feature names, but MLPClassifier was fitted with feature names\n",
      "  warnings.warn(\n",
      "\n"
     ]
    },
    {
     "name": "stdout",
     "output_type": "stream",
     "text": [
      "Validation score: 0.817448                                                                                     \n",
      "Iteration 27, loss = 0.45140406                                                                                \n",
      " 24%|███████▋                        | 24/100 [6:15:48<19:10:10, 908.04s/trial, best loss: -0.8172639714107239]"
     ]
    },
    {
     "name": "stderr",
     "output_type": "stream",
     "text": [
      "/home/jindalmadhur26/anaconda3/lib/python3.9/site-packages/sklearn/base.py:445: UserWarning: X does not have valid feature names, but MLPClassifier was fitted with feature names\n",
      "  warnings.warn(\n",
      "\n"
     ]
    },
    {
     "name": "stdout",
     "output_type": "stream",
     "text": [
      "Validation score: 0.816063                                                                                     \n",
      "Validation score did not improve more than tol=0.000100 for 10 consecutive epochs. Stopping.                   \n",
      "0.8164203898727428                                                                                             \n",
      "0.8160872786437526                                                                                             \n",
      "{'activation': 'logistic', 'alpha': 0.0001956746217398256, 'hidden_layer_sizes': 7}                            \n",
      "Iteration 1, loss = 0.50376494                                                                                 \n",
      " 25%|████████                        | 25/100 [6:19:51<19:28:19, 934.66s/trial, best loss: -0.8172639714107239]"
     ]
    },
    {
     "name": "stderr",
     "output_type": "stream",
     "text": [
      "/home/jindalmadhur26/anaconda3/lib/python3.9/site-packages/sklearn/base.py:445: UserWarning: X does not have valid feature names, but MLPClassifier was fitted with feature names\n",
      "  warnings.warn(\n",
      "\n"
     ]
    },
    {
     "name": "stdout",
     "output_type": "stream",
     "text": [
      "Validation score: 0.814038                                                                                     \n",
      "Iteration 2, loss = 0.46786515                                                                                 \n",
      " 25%|████████                        | 25/100 [6:20:52<19:28:19, 934.66s/trial, best loss: -0.8172639714107239]"
     ]
    },
    {
     "name": "stderr",
     "output_type": "stream",
     "text": [
      "/home/jindalmadhur26/anaconda3/lib/python3.9/site-packages/sklearn/base.py:445: UserWarning: X does not have valid feature names, but MLPClassifier was fitted with feature names\n",
      "  warnings.warn(\n",
      "\n"
     ]
    },
    {
     "name": "stdout",
     "output_type": "stream",
     "text": [
      "Validation score: 0.814858                                                                                     \n",
      "Iteration 3, loss = 0.46437257                                                                                 \n",
      " 25%|████████                        | 25/100 [6:21:32<19:28:19, 934.66s/trial, best loss: -0.8172639714107239]"
     ]
    },
    {
     "name": "stderr",
     "output_type": "stream",
     "text": [
      "/home/jindalmadhur26/anaconda3/lib/python3.9/site-packages/sklearn/base.py:445: UserWarning: X does not have valid feature names, but MLPClassifier was fitted with feature names\n",
      "  warnings.warn(\n",
      "\n"
     ]
    },
    {
     "name": "stdout",
     "output_type": "stream",
     "text": [
      "Validation score: 0.815653                                                                                     \n",
      "Iteration 4, loss = 0.46160715                                                                                 \n",
      " 25%|████████                        | 25/100 [6:22:12<19:28:19, 934.66s/trial, best loss: -0.8172639714107239]"
     ]
    },
    {
     "name": "stderr",
     "output_type": "stream",
     "text": [
      "/home/jindalmadhur26/anaconda3/lib/python3.9/site-packages/sklearn/base.py:445: UserWarning: X does not have valid feature names, but MLPClassifier was fitted with feature names\n",
      "  warnings.warn(\n",
      "\n"
     ]
    },
    {
     "name": "stdout",
     "output_type": "stream",
     "text": [
      "Validation score: 0.815551                                                                                     \n",
      "Iteration 5, loss = 0.46033557                                                                                 \n",
      " 25%|████████                        | 25/100 [6:22:44<19:28:19, 934.66s/trial, best loss: -0.8172639714107239]"
     ]
    },
    {
     "name": "stderr",
     "output_type": "stream",
     "text": [
      "/home/jindalmadhur26/anaconda3/lib/python3.9/site-packages/sklearn/base.py:445: UserWarning: X does not have valid feature names, but MLPClassifier was fitted with feature names\n",
      "  warnings.warn(\n",
      "\n"
     ]
    },
    {
     "name": "stdout",
     "output_type": "stream",
     "text": [
      "Validation score: 0.814602                                                                                     \n",
      "Iteration 6, loss = 0.45865567                                                                                 \n",
      " 25%|████████                        | 25/100 [6:23:05<19:28:19, 934.66s/trial, best loss: -0.8172639714107239]"
     ]
    },
    {
     "name": "stderr",
     "output_type": "stream",
     "text": [
      "/home/jindalmadhur26/anaconda3/lib/python3.9/site-packages/sklearn/base.py:445: UserWarning: X does not have valid feature names, but MLPClassifier was fitted with feature names\n",
      "  warnings.warn(\n",
      "\n"
     ]
    },
    {
     "name": "stdout",
     "output_type": "stream",
     "text": [
      "Validation score: 0.815704                                                                                     \n",
      "Iteration 7, loss = 0.45742431                                                                                 \n",
      " 25%|████████                        | 25/100 [6:23:17<19:28:19, 934.66s/trial, best loss: -0.8172639714107239]"
     ]
    },
    {
     "name": "stderr",
     "output_type": "stream",
     "text": [
      "/home/jindalmadhur26/anaconda3/lib/python3.9/site-packages/sklearn/base.py:445: UserWarning: X does not have valid feature names, but MLPClassifier was fitted with feature names\n",
      "  warnings.warn(\n",
      "\n"
     ]
    },
    {
     "name": "stdout",
     "output_type": "stream",
     "text": [
      "Validation score: 0.816012                                                                                     \n",
      "Iteration 8, loss = 0.45623628                                                                                 \n",
      " 25%|████████                        | 25/100 [6:23:31<19:28:19, 934.66s/trial, best loss: -0.8172639714107239]"
     ]
    },
    {
     "name": "stderr",
     "output_type": "stream",
     "text": [
      "/home/jindalmadhur26/anaconda3/lib/python3.9/site-packages/sklearn/base.py:445: UserWarning: X does not have valid feature names, but MLPClassifier was fitted with feature names\n",
      "  warnings.warn(\n",
      "\n"
     ]
    },
    {
     "name": "stdout",
     "output_type": "stream",
     "text": [
      "Validation score: 0.814551                                                                                     \n",
      "Iteration 9, loss = 0.45572592                                                                                 \n",
      " 25%|████████                        | 25/100 [6:23:52<19:28:19, 934.66s/trial, best loss: -0.8172639714107239]"
     ]
    },
    {
     "name": "stderr",
     "output_type": "stream",
     "text": [
      "/home/jindalmadhur26/anaconda3/lib/python3.9/site-packages/sklearn/base.py:445: UserWarning: X does not have valid feature names, but MLPClassifier was fitted with feature names\n",
      "  warnings.warn(\n",
      "\n"
     ]
    },
    {
     "name": "stdout",
     "output_type": "stream",
     "text": [
      "Validation score: 0.816602                                                                                     \n",
      "Iteration 10, loss = 0.45480006                                                                                \n",
      " 25%|████████                        | 25/100 [6:24:10<19:28:19, 934.66s/trial, best loss: -0.8172639714107239]"
     ]
    },
    {
     "name": "stderr",
     "output_type": "stream",
     "text": [
      "/home/jindalmadhur26/anaconda3/lib/python3.9/site-packages/sklearn/base.py:445: UserWarning: X does not have valid feature names, but MLPClassifier was fitted with feature names\n",
      "  warnings.warn(\n",
      "\n"
     ]
    },
    {
     "name": "stdout",
     "output_type": "stream",
     "text": [
      "Validation score: 0.815602                                                                                     \n",
      "Iteration 11, loss = 0.45402674                                                                                \n",
      " 25%|████████                        | 25/100 [6:24:39<19:28:19, 934.66s/trial, best loss: -0.8172639714107239]"
     ]
    },
    {
     "name": "stderr",
     "output_type": "stream",
     "text": [
      "/home/jindalmadhur26/anaconda3/lib/python3.9/site-packages/sklearn/base.py:445: UserWarning: X does not have valid feature names, but MLPClassifier was fitted with feature names\n",
      "  warnings.warn(\n",
      "\n"
     ]
    },
    {
     "name": "stdout",
     "output_type": "stream",
     "text": [
      "Validation score: 0.817704                                                                                     \n",
      "Iteration 12, loss = 0.45326462                                                                                \n",
      " 25%|████████                        | 25/100 [6:25:10<19:28:19, 934.66s/trial, best loss: -0.8172639714107239]"
     ]
    },
    {
     "name": "stderr",
     "output_type": "stream",
     "text": [
      "/home/jindalmadhur26/anaconda3/lib/python3.9/site-packages/sklearn/base.py:445: UserWarning: X does not have valid feature names, but MLPClassifier was fitted with feature names\n",
      "  warnings.warn(\n",
      "\n"
     ]
    },
    {
     "name": "stdout",
     "output_type": "stream",
     "text": [
      "Validation score: 0.816371                                                                                     \n",
      "Iteration 13, loss = 0.45254259                                                                                \n",
      " 25%|████████                        | 25/100 [6:25:54<19:28:19, 934.66s/trial, best loss: -0.8172639714107239]"
     ]
    },
    {
     "name": "stderr",
     "output_type": "stream",
     "text": [
      "/home/jindalmadhur26/anaconda3/lib/python3.9/site-packages/sklearn/base.py:445: UserWarning: X does not have valid feature names, but MLPClassifier was fitted with feature names\n",
      "  warnings.warn(\n",
      "\n"
     ]
    },
    {
     "name": "stdout",
     "output_type": "stream",
     "text": [
      "Validation score: 0.816217                                                                                     \n",
      "Iteration 14, loss = 0.45181581                                                                                \n",
      " 25%|████████                        | 25/100 [6:26:45<19:28:19, 934.66s/trial, best loss: -0.8172639714107239]"
     ]
    },
    {
     "name": "stderr",
     "output_type": "stream",
     "text": [
      "/home/jindalmadhur26/anaconda3/lib/python3.9/site-packages/sklearn/base.py:445: UserWarning: X does not have valid feature names, but MLPClassifier was fitted with feature names\n",
      "  warnings.warn(\n",
      "\n"
     ]
    },
    {
     "name": "stdout",
     "output_type": "stream",
     "text": [
      "Validation score: 0.816781                                                                                     \n",
      "Iteration 15, loss = 0.45143976                                                                                \n",
      " 25%|████████                        | 25/100 [6:27:38<19:28:19, 934.66s/trial, best loss: -0.8172639714107239]"
     ]
    },
    {
     "name": "stderr",
     "output_type": "stream",
     "text": [
      "/home/jindalmadhur26/anaconda3/lib/python3.9/site-packages/sklearn/base.py:445: UserWarning: X does not have valid feature names, but MLPClassifier was fitted with feature names\n",
      "  warnings.warn(\n",
      "\n"
     ]
    },
    {
     "name": "stdout",
     "output_type": "stream",
     "text": [
      "Validation score: 0.816115                                                                                     \n",
      "Iteration 16, loss = 0.45078771                                                                                \n",
      " 25%|████████                        | 25/100 [6:28:33<19:28:19, 934.66s/trial, best loss: -0.8172639714107239]"
     ]
    },
    {
     "name": "stderr",
     "output_type": "stream",
     "text": [
      "/home/jindalmadhur26/anaconda3/lib/python3.9/site-packages/sklearn/base.py:445: UserWarning: X does not have valid feature names, but MLPClassifier was fitted with feature names\n",
      "  warnings.warn(\n",
      "\n"
     ]
    },
    {
     "name": "stdout",
     "output_type": "stream",
     "text": [
      "Validation score: 0.817678                                                                                     \n",
      "Iteration 17, loss = 0.44979005                                                                                \n",
      " 25%|████████                        | 25/100 [6:29:17<19:28:19, 934.66s/trial, best loss: -0.8172639714107239]"
     ]
    },
    {
     "name": "stderr",
     "output_type": "stream",
     "text": [
      "/home/jindalmadhur26/anaconda3/lib/python3.9/site-packages/sklearn/base.py:445: UserWarning: X does not have valid feature names, but MLPClassifier was fitted with feature names\n",
      "  warnings.warn(\n",
      "\n"
     ]
    },
    {
     "name": "stdout",
     "output_type": "stream",
     "text": [
      "Validation score: 0.816858                                                                                     \n",
      "Iteration 18, loss = 0.44935034                                                                                \n",
      " 25%|████████                        | 25/100 [6:29:58<19:28:19, 934.66s/trial, best loss: -0.8172639714107239]"
     ]
    },
    {
     "name": "stderr",
     "output_type": "stream",
     "text": [
      "/home/jindalmadhur26/anaconda3/lib/python3.9/site-packages/sklearn/base.py:445: UserWarning: X does not have valid feature names, but MLPClassifier was fitted with feature names\n",
      "  warnings.warn(\n",
      "\n"
     ]
    },
    {
     "name": "stdout",
     "output_type": "stream",
     "text": [
      "Validation score: 0.814705                                                                                     \n",
      "Iteration 19, loss = 0.44883779                                                                                \n",
      " 25%|████████                        | 25/100 [6:30:38<19:28:19, 934.66s/trial, best loss: -0.8172639714107239]"
     ]
    },
    {
     "name": "stderr",
     "output_type": "stream",
     "text": [
      "/home/jindalmadhur26/anaconda3/lib/python3.9/site-packages/sklearn/base.py:445: UserWarning: X does not have valid feature names, but MLPClassifier was fitted with feature names\n",
      "  warnings.warn(\n",
      "\n"
     ]
    },
    {
     "name": "stdout",
     "output_type": "stream",
     "text": [
      "Validation score: 0.815602                                                                                     \n",
      "Iteration 20, loss = 0.44838917                                                                                \n",
      " 25%|████████                        | 25/100 [6:31:15<19:28:19, 934.66s/trial, best loss: -0.8172639714107239]"
     ]
    },
    {
     "name": "stderr",
     "output_type": "stream",
     "text": [
      "/home/jindalmadhur26/anaconda3/lib/python3.9/site-packages/sklearn/base.py:445: UserWarning: X does not have valid feature names, but MLPClassifier was fitted with feature names\n",
      "  warnings.warn(\n",
      "\n"
     ]
    },
    {
     "name": "stdout",
     "output_type": "stream",
     "text": [
      "Validation score: 0.816320                                                                                     \n",
      "Iteration 21, loss = 0.44778523                                                                                \n",
      " 25%|████████                        | 25/100 [6:31:55<19:28:19, 934.66s/trial, best loss: -0.8172639714107239]"
     ]
    },
    {
     "name": "stderr",
     "output_type": "stream",
     "text": [
      "/home/jindalmadhur26/anaconda3/lib/python3.9/site-packages/sklearn/base.py:445: UserWarning: X does not have valid feature names, but MLPClassifier was fitted with feature names\n",
      "  warnings.warn(\n",
      "\n"
     ]
    },
    {
     "name": "stdout",
     "output_type": "stream",
     "text": [
      "Validation score: 0.816679                                                                                     \n",
      "Iteration 22, loss = 0.44701307                                                                                \n",
      " 25%|████████                        | 25/100 [6:32:48<19:28:19, 934.66s/trial, best loss: -0.8172639714107239]"
     ]
    },
    {
     "name": "stderr",
     "output_type": "stream",
     "text": [
      "/home/jindalmadhur26/anaconda3/lib/python3.9/site-packages/sklearn/base.py:445: UserWarning: X does not have valid feature names, but MLPClassifier was fitted with feature names\n",
      "  warnings.warn(\n",
      "\n"
     ]
    },
    {
     "name": "stdout",
     "output_type": "stream",
     "text": [
      "Validation score: 0.817627                                                                                     \n",
      "Validation score did not improve more than tol=0.000100 for 10 consecutive epochs. Stopping.                   \n",
      "0.8169613101036721                                                                                             \n",
      "0.8166683614916397                                                                                             \n",
      "{'activation': 'logistic', 'alpha': 5.456223363766783e-07, 'hidden_layer_sizes': 59}                           \n",
      "Iteration 1, loss = 0.49030360                                                                                 \n",
      " 26%|████████▎                       | 26/100 [6:36:34<19:45:42, 961.39s/trial, best loss: -0.8172639714107239]"
     ]
    },
    {
     "name": "stderr",
     "output_type": "stream",
     "text": [
      "/home/jindalmadhur26/anaconda3/lib/python3.9/site-packages/sklearn/base.py:445: UserWarning: X does not have valid feature names, but MLPClassifier was fitted with feature names\n",
      "  warnings.warn(\n",
      "\n"
     ]
    },
    {
     "name": "stdout",
     "output_type": "stream",
     "text": [
      "Validation score: 0.810295                                                                                     \n",
      "Iteration 2, loss = 0.46796859                                                                                 \n",
      " 26%|████████▎                       | 26/100 [6:36:57<19:45:42, 961.39s/trial, best loss: -0.8172639714107239]"
     ]
    },
    {
     "name": "stderr",
     "output_type": "stream",
     "text": [
      "/home/jindalmadhur26/anaconda3/lib/python3.9/site-packages/sklearn/base.py:445: UserWarning: X does not have valid feature names, but MLPClassifier was fitted with feature names\n",
      "  warnings.warn(\n",
      "\n"
     ]
    },
    {
     "name": "stdout",
     "output_type": "stream",
     "text": [
      "Validation score: 0.812551                                                                                     \n",
      "Iteration 3, loss = 0.46420006                                                                                 \n",
      " 26%|████████▎                       | 26/100 [6:37:25<19:45:42, 961.39s/trial, best loss: -0.8172639714107239]"
     ]
    },
    {
     "name": "stderr",
     "output_type": "stream",
     "text": [
      "/home/jindalmadhur26/anaconda3/lib/python3.9/site-packages/sklearn/base.py:445: UserWarning: X does not have valid feature names, but MLPClassifier was fitted with feature names\n",
      "  warnings.warn(\n",
      "\n"
     ]
    },
    {
     "name": "stdout",
     "output_type": "stream",
     "text": [
      "Validation score: 0.811757                                                                                     \n",
      "Iteration 4, loss = 0.46244554                                                                                 \n",
      " 26%|████████▎                       | 26/100 [6:37:58<19:45:42, 961.39s/trial, best loss: -0.8172639714107239]"
     ]
    },
    {
     "name": "stderr",
     "output_type": "stream",
     "text": [
      "/home/jindalmadhur26/anaconda3/lib/python3.9/site-packages/sklearn/base.py:445: UserWarning: X does not have valid feature names, but MLPClassifier was fitted with feature names\n",
      "  warnings.warn(\n",
      "\n"
     ]
    },
    {
     "name": "stdout",
     "output_type": "stream",
     "text": [
      "Validation score: 0.812397                                                                                     \n",
      "Iteration 5, loss = 0.46087740                                                                                 \n",
      " 26%|████████▎                       | 26/100 [6:38:23<19:45:42, 961.39s/trial, best loss: -0.8172639714107239]"
     ]
    },
    {
     "name": "stderr",
     "output_type": "stream",
     "text": [
      "/home/jindalmadhur26/anaconda3/lib/python3.9/site-packages/sklearn/base.py:445: UserWarning: X does not have valid feature names, but MLPClassifier was fitted with feature names\n",
      "  warnings.warn(\n",
      "\n"
     ]
    },
    {
     "name": "stdout",
     "output_type": "stream",
     "text": [
      "Validation score: 0.811423                                                                                     \n",
      "Iteration 6, loss = 0.45984037                                                                                 \n",
      " 26%|████████▎                       | 26/100 [6:39:00<19:45:42, 961.39s/trial, best loss: -0.8172639714107239]"
     ]
    },
    {
     "name": "stderr",
     "output_type": "stream",
     "text": [
      "/home/jindalmadhur26/anaconda3/lib/python3.9/site-packages/sklearn/base.py:445: UserWarning: X does not have valid feature names, but MLPClassifier was fitted with feature names\n",
      "  warnings.warn(\n",
      "\n"
     ]
    },
    {
     "name": "stdout",
     "output_type": "stream",
     "text": [
      "Validation score: 0.813449                                                                                     \n",
      "Iteration 7, loss = 0.45903410                                                                                 \n",
      " 26%|████████▎                       | 26/100 [6:39:44<19:45:42, 961.39s/trial, best loss: -0.8172639714107239]"
     ]
    },
    {
     "name": "stderr",
     "output_type": "stream",
     "text": [
      "/home/jindalmadhur26/anaconda3/lib/python3.9/site-packages/sklearn/base.py:445: UserWarning: X does not have valid feature names, but MLPClassifier was fitted with feature names\n",
      "  warnings.warn(\n",
      "\n"
     ]
    },
    {
     "name": "stdout",
     "output_type": "stream",
     "text": [
      "Validation score: 0.814166                                                                                     \n",
      "Iteration 8, loss = 0.45798638                                                                                 \n",
      " 26%|████████▎                       | 26/100 [6:40:37<19:45:42, 961.39s/trial, best loss: -0.8172639714107239]"
     ]
    },
    {
     "name": "stderr",
     "output_type": "stream",
     "text": [
      "/home/jindalmadhur26/anaconda3/lib/python3.9/site-packages/sklearn/base.py:445: UserWarning: X does not have valid feature names, but MLPClassifier was fitted with feature names\n",
      "  warnings.warn(\n",
      "\n"
     ]
    },
    {
     "name": "stdout",
     "output_type": "stream",
     "text": [
      "Validation score: 0.812603                                                                                     \n",
      "Iteration 9, loss = 0.45736133                                                                                 \n",
      " 26%|████████▎                       | 26/100 [6:41:29<19:45:42, 961.39s/trial, best loss: -0.8172639714107239]"
     ]
    },
    {
     "name": "stderr",
     "output_type": "stream",
     "text": [
      "/home/jindalmadhur26/anaconda3/lib/python3.9/site-packages/sklearn/base.py:445: UserWarning: X does not have valid feature names, but MLPClassifier was fitted with feature names\n",
      "  warnings.warn(\n",
      "\n"
     ]
    },
    {
     "name": "stdout",
     "output_type": "stream",
     "text": [
      "Validation score: 0.814961                                                                                     \n",
      "Iteration 10, loss = 0.45673681                                                                                \n",
      " 26%|████████▎                       | 26/100 [6:42:27<19:45:42, 961.39s/trial, best loss: -0.8172639714107239]"
     ]
    },
    {
     "name": "stderr",
     "output_type": "stream",
     "text": [
      "/home/jindalmadhur26/anaconda3/lib/python3.9/site-packages/sklearn/base.py:445: UserWarning: X does not have valid feature names, but MLPClassifier was fitted with feature names\n",
      "  warnings.warn(\n",
      "\n"
     ]
    },
    {
     "name": "stdout",
     "output_type": "stream",
     "text": [
      "Validation score: 0.814371                                                                                     \n",
      "Iteration 11, loss = 0.45619133                                                                                \n",
      " 26%|████████▎                       | 26/100 [6:43:22<19:45:42, 961.39s/trial, best loss: -0.8172639714107239]"
     ]
    },
    {
     "name": "stderr",
     "output_type": "stream",
     "text": [
      "/home/jindalmadhur26/anaconda3/lib/python3.9/site-packages/sklearn/base.py:445: UserWarning: X does not have valid feature names, but MLPClassifier was fitted with feature names\n",
      "  warnings.warn(\n",
      "\n"
     ]
    },
    {
     "name": "stdout",
     "output_type": "stream",
     "text": [
      "Validation score: 0.812167                                                                                     \n",
      "Iteration 12, loss = 0.45534728                                                                                \n",
      " 26%|████████▎                       | 26/100 [6:44:10<19:45:42, 961.39s/trial, best loss: -0.8172639714107239]"
     ]
    },
    {
     "name": "stderr",
     "output_type": "stream",
     "text": [
      "/home/jindalmadhur26/anaconda3/lib/python3.9/site-packages/sklearn/base.py:445: UserWarning: X does not have valid feature names, but MLPClassifier was fitted with feature names\n",
      "  warnings.warn(\n",
      "\n"
     ]
    },
    {
     "name": "stdout",
     "output_type": "stream",
     "text": [
      "Validation score: 0.814243                                                                                     \n",
      "Iteration 13, loss = 0.45461484                                                                                \n",
      " 26%|████████▎                       | 26/100 [6:44:59<19:45:42, 961.39s/trial, best loss: -0.8172639714107239]"
     ]
    },
    {
     "name": "stderr",
     "output_type": "stream",
     "text": [
      "/home/jindalmadhur26/anaconda3/lib/python3.9/site-packages/sklearn/base.py:445: UserWarning: X does not have valid feature names, but MLPClassifier was fitted with feature names\n",
      "  warnings.warn(\n",
      "\n"
     ]
    },
    {
     "name": "stdout",
     "output_type": "stream",
     "text": [
      "Validation score: 0.814346                                                                                     \n",
      "Iteration 14, loss = 0.45458169                                                                                \n",
      " 26%|████████▎                       | 26/100 [6:45:53<19:45:42, 961.39s/trial, best loss: -0.8172639714107239]"
     ]
    },
    {
     "name": "stderr",
     "output_type": "stream",
     "text": [
      "/home/jindalmadhur26/anaconda3/lib/python3.9/site-packages/sklearn/base.py:445: UserWarning: X does not have valid feature names, but MLPClassifier was fitted with feature names\n",
      "  warnings.warn(\n",
      "\n"
     ]
    },
    {
     "name": "stdout",
     "output_type": "stream",
     "text": [
      "Validation score: 0.813167                                                                                     \n",
      "Iteration 15, loss = 0.45403298                                                                                \n",
      " 26%|████████▎                       | 26/100 [6:46:40<19:45:42, 961.39s/trial, best loss: -0.8172639714107239]"
     ]
    },
    {
     "name": "stderr",
     "output_type": "stream",
     "text": [
      "/home/jindalmadhur26/anaconda3/lib/python3.9/site-packages/sklearn/base.py:445: UserWarning: X does not have valid feature names, but MLPClassifier was fitted with feature names\n",
      "  warnings.warn(\n",
      "\n"
     ]
    },
    {
     "name": "stdout",
     "output_type": "stream",
     "text": [
      "Validation score: 0.813141                                                                                     \n",
      "Iteration 16, loss = 0.45381881                                                                                \n",
      " 26%|████████▎                       | 26/100 [6:47:33<19:45:42, 961.39s/trial, best loss: -0.8172639714107239]"
     ]
    },
    {
     "name": "stderr",
     "output_type": "stream",
     "text": [
      "/home/jindalmadhur26/anaconda3/lib/python3.9/site-packages/sklearn/base.py:445: UserWarning: X does not have valid feature names, but MLPClassifier was fitted with feature names\n",
      "  warnings.warn(\n",
      "\n"
     ]
    },
    {
     "name": "stdout",
     "output_type": "stream",
     "text": [
      "Validation score: 0.814935                                                                                     \n",
      "Iteration 17, loss = 0.45308905                                                                                \n",
      " 26%|████████▎                       | 26/100 [6:48:38<19:45:42, 961.39s/trial, best loss: -0.8172639714107239]"
     ]
    },
    {
     "name": "stderr",
     "output_type": "stream",
     "text": [
      "/home/jindalmadhur26/anaconda3/lib/python3.9/site-packages/sklearn/base.py:445: UserWarning: X does not have valid feature names, but MLPClassifier was fitted with feature names\n",
      "  warnings.warn(\n",
      "\n"
     ]
    },
    {
     "name": "stdout",
     "output_type": "stream",
     "text": [
      "Validation score: 0.814397                                                                                     \n",
      "Iteration 18, loss = 0.45259258                                                                                \n",
      " 26%|████████▎                       | 26/100 [6:49:41<19:45:42, 961.39s/trial, best loss: -0.8172639714107239]"
     ]
    },
    {
     "name": "stderr",
     "output_type": "stream",
     "text": [
      "/home/jindalmadhur26/anaconda3/lib/python3.9/site-packages/sklearn/base.py:445: UserWarning: X does not have valid feature names, but MLPClassifier was fitted with feature names\n",
      "  warnings.warn(\n",
      "\n"
     ]
    },
    {
     "name": "stdout",
     "output_type": "stream",
     "text": [
      "Validation score: 0.814089                                                                                     \n",
      "Iteration 19, loss = 0.45234180                                                                                \n",
      " 26%|████████▎                       | 26/100 [6:50:40<19:45:42, 961.39s/trial, best loss: -0.8172639714107239]"
     ]
    },
    {
     "name": "stderr",
     "output_type": "stream",
     "text": [
      "/home/jindalmadhur26/anaconda3/lib/python3.9/site-packages/sklearn/base.py:445: UserWarning: X does not have valid feature names, but MLPClassifier was fitted with feature names\n",
      "  warnings.warn(\n",
      "\n"
     ]
    },
    {
     "name": "stdout",
     "output_type": "stream",
     "text": [
      "Validation score: 0.814653                                                                                     \n",
      "Iteration 20, loss = 0.45245305                                                                                \n",
      " 26%|████████▎                       | 26/100 [6:51:34<19:45:42, 961.39s/trial, best loss: -0.8172639714107239]"
     ]
    },
    {
     "name": "stderr",
     "output_type": "stream",
     "text": [
      "/home/jindalmadhur26/anaconda3/lib/python3.9/site-packages/sklearn/base.py:445: UserWarning: X does not have valid feature names, but MLPClassifier was fitted with feature names\n",
      "  warnings.warn(\n",
      "\n"
     ]
    },
    {
     "name": "stdout",
     "output_type": "stream",
     "text": [
      "Validation score: 0.815576                                                                                     \n",
      "Iteration 21, loss = 0.45167562                                                                                \n",
      " 26%|████████▎                       | 26/100 [6:52:09<19:45:42, 961.39s/trial, best loss: -0.8172639714107239]"
     ]
    },
    {
     "name": "stderr",
     "output_type": "stream",
     "text": [
      "/home/jindalmadhur26/anaconda3/lib/python3.9/site-packages/sklearn/base.py:445: UserWarning: X does not have valid feature names, but MLPClassifier was fitted with feature names\n",
      "  warnings.warn(\n",
      "\n"
     ]
    },
    {
     "name": "stdout",
     "output_type": "stream",
     "text": [
      "Validation score: 0.812705                                                                                     \n",
      "Iteration 22, loss = 0.45151349                                                                                \n",
      " 26%|████████▎                       | 26/100 [6:52:40<19:45:42, 961.39s/trial, best loss: -0.8172639714107239]"
     ]
    },
    {
     "name": "stderr",
     "output_type": "stream",
     "text": [
      "/home/jindalmadhur26/anaconda3/lib/python3.9/site-packages/sklearn/base.py:445: UserWarning: X does not have valid feature names, but MLPClassifier was fitted with feature names\n",
      "  warnings.warn(\n",
      "\n"
     ]
    },
    {
     "name": "stdout",
     "output_type": "stream",
     "text": [
      "Validation score: 0.815397                                                                                     \n",
      "Iteration 23, loss = 0.45117306                                                                                \n",
      " 26%|████████▎                       | 26/100 [6:53:21<19:45:42, 961.39s/trial, best loss: -0.8172639714107239]"
     ]
    },
    {
     "name": "stderr",
     "output_type": "stream",
     "text": [
      "/home/jindalmadhur26/anaconda3/lib/python3.9/site-packages/sklearn/base.py:445: UserWarning: X does not have valid feature names, but MLPClassifier was fitted with feature names\n",
      "  warnings.warn(\n",
      "\n"
     ]
    },
    {
     "name": "stdout",
     "output_type": "stream",
     "text": [
      "Validation score: 0.815576                                                                                     \n",
      "Iteration 24, loss = 0.45075087                                                                                \n",
      " 26%|████████▎                       | 26/100 [6:53:57<19:45:42, 961.39s/trial, best loss: -0.8172639714107239]"
     ]
    },
    {
     "name": "stderr",
     "output_type": "stream",
     "text": [
      "/home/jindalmadhur26/anaconda3/lib/python3.9/site-packages/sklearn/base.py:445: UserWarning: X does not have valid feature names, but MLPClassifier was fitted with feature names\n",
      "  warnings.warn(\n",
      "\n"
     ]
    },
    {
     "name": "stdout",
     "output_type": "stream",
     "text": [
      "Validation score: 0.815448                                                                                     \n",
      "Iteration 25, loss = 0.45072989                                                                                \n",
      " 26%|████████▎                       | 26/100 [6:54:34<19:45:42, 961.39s/trial, best loss: -0.8172639714107239]"
     ]
    },
    {
     "name": "stderr",
     "output_type": "stream",
     "text": [
      "/home/jindalmadhur26/anaconda3/lib/python3.9/site-packages/sklearn/base.py:445: UserWarning: X does not have valid feature names, but MLPClassifier was fitted with feature names\n",
      "  warnings.warn(\n",
      "\n"
     ]
    },
    {
     "name": "stdout",
     "output_type": "stream",
     "text": [
      "Validation score: 0.814371                                                                                     \n",
      "Iteration 26, loss = 0.45029498                                                                                \n",
      " 26%|████████▎                       | 26/100 [6:55:25<19:45:42, 961.39s/trial, best loss: -0.8172639714107239]"
     ]
    },
    {
     "name": "stderr",
     "output_type": "stream",
     "text": [
      "/home/jindalmadhur26/anaconda3/lib/python3.9/site-packages/sklearn/base.py:445: UserWarning: X does not have valid feature names, but MLPClassifier was fitted with feature names\n",
      "  warnings.warn(\n",
      "\n"
     ]
    },
    {
     "name": "stdout",
     "output_type": "stream",
     "text": [
      "Validation score: 0.814397                                                                                     \n",
      "Iteration 27, loss = 0.45013028                                                                                \n",
      " 26%|████████▎                       | 26/100 [6:56:13<19:45:42, 961.39s/trial, best loss: -0.8172639714107239]"
     ]
    },
    {
     "name": "stderr",
     "output_type": "stream",
     "text": [
      "/home/jindalmadhur26/anaconda3/lib/python3.9/site-packages/sklearn/base.py:445: UserWarning: X does not have valid feature names, but MLPClassifier was fitted with feature names\n",
      "  warnings.warn(\n",
      "\n"
     ]
    },
    {
     "name": "stdout",
     "output_type": "stream",
     "text": [
      "Validation score: 0.813269                                                                                     \n",
      "Iteration 28, loss = 0.44958697                                                                                \n",
      " 26%|████████▎                       | 26/100 [6:57:04<19:45:42, 961.39s/trial, best loss: -0.8172639714107239]"
     ]
    },
    {
     "name": "stderr",
     "output_type": "stream",
     "text": [
      "/home/jindalmadhur26/anaconda3/lib/python3.9/site-packages/sklearn/base.py:445: UserWarning: X does not have valid feature names, but MLPClassifier was fitted with feature names\n",
      "  warnings.warn(\n",
      "\n"
     ]
    },
    {
     "name": "stdout",
     "output_type": "stream",
     "text": [
      "Validation score: 0.814141                                                                                     \n",
      "Iteration 29, loss = 0.44984429                                                                                \n",
      " 26%|████████▎                       | 26/100 [6:57:51<19:45:42, 961.39s/trial, best loss: -0.8172639714107239]"
     ]
    },
    {
     "name": "stderr",
     "output_type": "stream",
     "text": [
      "/home/jindalmadhur26/anaconda3/lib/python3.9/site-packages/sklearn/base.py:445: UserWarning: X does not have valid feature names, but MLPClassifier was fitted with feature names\n",
      "  warnings.warn(\n",
      "\n"
     ]
    },
    {
     "name": "stdout",
     "output_type": "stream",
     "text": [
      "Validation score: 0.813397                                                                                     \n",
      "Iteration 30, loss = 0.44914432                                                                                \n",
      " 26%|████████▎                       | 26/100 [6:58:41<19:45:42, 961.39s/trial, best loss: -0.8172639714107239]"
     ]
    },
    {
     "name": "stderr",
     "output_type": "stream",
     "text": [
      "/home/jindalmadhur26/anaconda3/lib/python3.9/site-packages/sklearn/base.py:445: UserWarning: X does not have valid feature names, but MLPClassifier was fitted with feature names\n",
      "  warnings.warn(\n",
      "\n"
     ]
    },
    {
     "name": "stdout",
     "output_type": "stream",
     "text": [
      "Validation score: 0.812346                                                                                     \n",
      "Iteration 31, loss = 0.44890217                                                                                \n",
      " 26%|████████▎                       | 26/100 [6:59:25<19:45:42, 961.39s/trial, best loss: -0.8172639714107239]"
     ]
    },
    {
     "name": "stderr",
     "output_type": "stream",
     "text": [
      "/home/jindalmadhur26/anaconda3/lib/python3.9/site-packages/sklearn/base.py:445: UserWarning: X does not have valid feature names, but MLPClassifier was fitted with feature names\n",
      "  warnings.warn(\n",
      "\n"
     ]
    },
    {
     "name": "stdout",
     "output_type": "stream",
     "text": [
      "Validation score: 0.812782                                                                                     \n",
      "Validation score did not improve more than tol=0.000100 for 10 consecutive epochs. Stopping.                   \n",
      "0.8176868097498949                                                                                             \n",
      "0.8160727515725554                                                                                             \n",
      "{'activation': 'tanh', 'alpha': 0.0007800270411783365, 'hidden_layer_sizes': 37}                               \n",
      "Iteration 1, loss = 0.53695806                                                                                 \n",
      " 27%|████████▎                      | 27/100 [7:03:06<23:22:41, 1152.90s/trial, best loss: -0.8172639714107239]"
     ]
    },
    {
     "name": "stderr",
     "output_type": "stream",
     "text": [
      "/home/jindalmadhur26/anaconda3/lib/python3.9/site-packages/sklearn/base.py:445: UserWarning: X does not have valid feature names, but MLPClassifier was fitted with feature names\n",
      "  warnings.warn(\n",
      "\n"
     ]
    },
    {
     "name": "stdout",
     "output_type": "stream",
     "text": [
      "Validation score: 0.811705                                                                                     \n",
      "Iteration 2, loss = 0.47875414                                                                                 \n",
      " 27%|████████▎                      | 27/100 [7:03:29<23:22:41, 1152.90s/trial, best loss: -0.8172639714107239]"
     ]
    },
    {
     "name": "stderr",
     "output_type": "stream",
     "text": [
      "/home/jindalmadhur26/anaconda3/lib/python3.9/site-packages/sklearn/base.py:445: UserWarning: X does not have valid feature names, but MLPClassifier was fitted with feature names\n",
      "  warnings.warn(\n",
      "\n"
     ]
    },
    {
     "name": "stdout",
     "output_type": "stream",
     "text": [
      "Validation score: 0.813551                                                                                     \n",
      "Iteration 3, loss = 0.47613571                                                                                 \n",
      " 27%|████████▎                      | 27/100 [7:03:57<23:22:41, 1152.90s/trial, best loss: -0.8172639714107239]"
     ]
    },
    {
     "name": "stderr",
     "output_type": "stream",
     "text": [
      "/home/jindalmadhur26/anaconda3/lib/python3.9/site-packages/sklearn/base.py:445: UserWarning: X does not have valid feature names, but MLPClassifier was fitted with feature names\n",
      "  warnings.warn(\n",
      "\n"
     ]
    },
    {
     "name": "stdout",
     "output_type": "stream",
     "text": [
      "Validation score: 0.813269                                                                                     \n",
      "Iteration 4, loss = 0.47459284                                                                                 \n",
      " 27%|████████▎                      | 27/100 [7:04:27<23:22:41, 1152.90s/trial, best loss: -0.8172639714107239]"
     ]
    },
    {
     "name": "stderr",
     "output_type": "stream",
     "text": [
      "/home/jindalmadhur26/anaconda3/lib/python3.9/site-packages/sklearn/base.py:445: UserWarning: X does not have valid feature names, but MLPClassifier was fitted with feature names\n",
      "  warnings.warn(\n",
      "\n"
     ]
    },
    {
     "name": "stdout",
     "output_type": "stream",
     "text": [
      "Validation score: 0.813167                                                                                     \n",
      "Iteration 5, loss = 0.47312724                                                                                 \n",
      " 27%|████████▎                      | 27/100 [7:05:01<23:22:41, 1152.90s/trial, best loss: -0.8172639714107239]"
     ]
    },
    {
     "name": "stderr",
     "output_type": "stream",
     "text": [
      "/home/jindalmadhur26/anaconda3/lib/python3.9/site-packages/sklearn/base.py:445: UserWarning: X does not have valid feature names, but MLPClassifier was fitted with feature names\n",
      "  warnings.warn(\n",
      "\n"
     ]
    },
    {
     "name": "stdout",
     "output_type": "stream",
     "text": [
      "Validation score: 0.812782                                                                                     \n",
      "Iteration 6, loss = 0.47261275                                                                                 \n",
      " 27%|████████▎                      | 27/100 [7:05:54<23:22:41, 1152.90s/trial, best loss: -0.8172639714107239]"
     ]
    },
    {
     "name": "stderr",
     "output_type": "stream",
     "text": [
      "/home/jindalmadhur26/anaconda3/lib/python3.9/site-packages/sklearn/base.py:445: UserWarning: X does not have valid feature names, but MLPClassifier was fitted with feature names\n",
      "  warnings.warn(\n",
      "\n"
     ]
    },
    {
     "name": "stdout",
     "output_type": "stream",
     "text": [
      "Validation score: 0.812295                                                                                     \n",
      "Iteration 7, loss = 0.47197752                                                                                 \n",
      " 27%|████████▎                      | 27/100 [7:06:39<23:22:41, 1152.90s/trial, best loss: -0.8172639714107239]"
     ]
    },
    {
     "name": "stderr",
     "output_type": "stream",
     "text": [
      "/home/jindalmadhur26/anaconda3/lib/python3.9/site-packages/sklearn/base.py:445: UserWarning: X does not have valid feature names, but MLPClassifier was fitted with feature names\n",
      "  warnings.warn(\n",
      "\n"
     ]
    },
    {
     "name": "stdout",
     "output_type": "stream",
     "text": [
      "Validation score: 0.813551                                                                                     \n",
      "Iteration 8, loss = 0.47135374                                                                                 \n",
      " 27%|████████▎                      | 27/100 [7:07:24<23:22:41, 1152.90s/trial, best loss: -0.8172639714107239]"
     ]
    },
    {
     "name": "stderr",
     "output_type": "stream",
     "text": [
      "/home/jindalmadhur26/anaconda3/lib/python3.9/site-packages/sklearn/base.py:445: UserWarning: X does not have valid feature names, but MLPClassifier was fitted with feature names\n",
      "  warnings.warn(\n",
      "\n"
     ]
    },
    {
     "name": "stdout",
     "output_type": "stream",
     "text": [
      "Validation score: 0.813525                                                                                     \n",
      "Iteration 9, loss = 0.47077250                                                                                 \n",
      " 27%|████████▎                      | 27/100 [7:08:15<23:22:41, 1152.90s/trial, best loss: -0.8172639714107239]"
     ]
    },
    {
     "name": "stderr",
     "output_type": "stream",
     "text": [
      "/home/jindalmadhur26/anaconda3/lib/python3.9/site-packages/sklearn/base.py:445: UserWarning: X does not have valid feature names, but MLPClassifier was fitted with feature names\n",
      "  warnings.warn(\n",
      "\n"
     ]
    },
    {
     "name": "stdout",
     "output_type": "stream",
     "text": [
      "Validation score: 0.813884                                                                                     \n",
      "Iteration 10, loss = 0.47034110                                                                                \n",
      " 27%|████████▎                      | 27/100 [7:09:07<23:22:41, 1152.90s/trial, best loss: -0.8172639714107239]"
     ]
    },
    {
     "name": "stderr",
     "output_type": "stream",
     "text": [
      "/home/jindalmadhur26/anaconda3/lib/python3.9/site-packages/sklearn/base.py:445: UserWarning: X does not have valid feature names, but MLPClassifier was fitted with feature names\n",
      "  warnings.warn(\n",
      "\n"
     ]
    },
    {
     "name": "stdout",
     "output_type": "stream",
     "text": [
      "Validation score: 0.813961                                                                                     \n",
      "Iteration 11, loss = 0.47034022                                                                                \n",
      " 27%|████████▎                      | 27/100 [7:09:50<23:22:41, 1152.90s/trial, best loss: -0.8172639714107239]"
     ]
    },
    {
     "name": "stderr",
     "output_type": "stream",
     "text": [
      "/home/jindalmadhur26/anaconda3/lib/python3.9/site-packages/sklearn/base.py:445: UserWarning: X does not have valid feature names, but MLPClassifier was fitted with feature names\n",
      "  warnings.warn(\n",
      "\n"
     ]
    },
    {
     "name": "stdout",
     "output_type": "stream",
     "text": [
      "Validation score: 0.814064                                                                                     \n",
      "Iteration 12, loss = 0.46946946                                                                                \n",
      " 27%|████████▎                      | 27/100 [7:10:22<23:22:41, 1152.90s/trial, best loss: -0.8172639714107239]"
     ]
    },
    {
     "name": "stderr",
     "output_type": "stream",
     "text": [
      "/home/jindalmadhur26/anaconda3/lib/python3.9/site-packages/sklearn/base.py:445: UserWarning: X does not have valid feature names, but MLPClassifier was fitted with feature names\n",
      "  warnings.warn(\n",
      "\n"
     ]
    },
    {
     "name": "stdout",
     "output_type": "stream",
     "text": [
      "Validation score: 0.815371                                                                                     \n",
      "Iteration 13, loss = 0.46957662                                                                                \n",
      " 27%|████████▎                      | 27/100 [7:11:05<23:22:41, 1152.90s/trial, best loss: -0.8172639714107239]"
     ]
    },
    {
     "name": "stderr",
     "output_type": "stream",
     "text": [
      "/home/jindalmadhur26/anaconda3/lib/python3.9/site-packages/sklearn/base.py:445: UserWarning: X does not have valid feature names, but MLPClassifier was fitted with feature names\n",
      "  warnings.warn(\n",
      "\n"
     ]
    },
    {
     "name": "stdout",
     "output_type": "stream",
     "text": [
      "Validation score: 0.814807                                                                                     \n",
      "Iteration 14, loss = 0.46915699                                                                                \n",
      " 27%|████████▎                      | 27/100 [7:11:43<23:22:41, 1152.90s/trial, best loss: -0.8172639714107239]"
     ]
    },
    {
     "name": "stderr",
     "output_type": "stream",
     "text": [
      "/home/jindalmadhur26/anaconda3/lib/python3.9/site-packages/sklearn/base.py:445: UserWarning: X does not have valid feature names, but MLPClassifier was fitted with feature names\n",
      "  warnings.warn(\n",
      "\n"
     ]
    },
    {
     "name": "stdout",
     "output_type": "stream",
     "text": [
      "Validation score: 0.814397                                                                                     \n",
      "Iteration 15, loss = 0.46904013                                                                                \n",
      " 27%|████████▎                      | 27/100 [7:12:24<23:22:41, 1152.90s/trial, best loss: -0.8172639714107239]"
     ]
    },
    {
     "name": "stderr",
     "output_type": "stream",
     "text": [
      "/home/jindalmadhur26/anaconda3/lib/python3.9/site-packages/sklearn/base.py:445: UserWarning: X does not have valid feature names, but MLPClassifier was fitted with feature names\n",
      "  warnings.warn(\n",
      "\n"
     ]
    },
    {
     "name": "stdout",
     "output_type": "stream",
     "text": [
      "Validation score: 0.814346                                                                                     \n",
      "Iteration 16, loss = 0.46852175                                                                                \n",
      "                                                                                                               \r"
     ]
    },
    {
     "name": "stderr",
     "output_type": "stream",
     "text": [
      "/home/jindalmadhur26/anaconda3/lib/python3.9/site-packages/sklearn/base.py:445: UserWarning: X does not have valid feature names, but MLPClassifier was fitted with feature names\n",
      "  warnings.warn(\n",
      "\n"
     ]
    },
    {
     "name": "stdout",
     "output_type": "stream",
     "text": [
      "Validation score: 0.814423\n",
      "Iteration 17, loss = 0.46873790                                                                                \n",
      " 27%|████████▎                      | 27/100 [7:13:35<23:22:41, 1152.90s/trial, best loss: -0.8172639714107239]"
     ]
    },
    {
     "name": "stderr",
     "output_type": "stream",
     "text": [
      "/home/jindalmadhur26/anaconda3/lib/python3.9/site-packages/sklearn/base.py:445: UserWarning: X does not have valid feature names, but MLPClassifier was fitted with feature names\n",
      "  warnings.warn(\n",
      "\n"
     ]
    },
    {
     "name": "stdout",
     "output_type": "stream",
     "text": [
      "Validation score: 0.814269                                                                                     \n",
      "Iteration 18, loss = 0.46845624                                                                                \n",
      " 27%|████████▎                      | 27/100 [7:14:47<23:22:41, 1152.90s/trial, best loss: -0.8172639714107239]"
     ]
    },
    {
     "name": "stderr",
     "output_type": "stream",
     "text": [
      "/home/jindalmadhur26/anaconda3/lib/python3.9/site-packages/sklearn/base.py:445: UserWarning: X does not have valid feature names, but MLPClassifier was fitted with feature names\n",
      "  warnings.warn(\n",
      "\n"
     ]
    },
    {
     "name": "stdout",
     "output_type": "stream",
     "text": [
      "Validation score: 0.813807                                                                                     \n",
      "Iteration 19, loss = 0.46851793                                                                                \n",
      " 27%|████████▎                      | 27/100 [7:15:31<23:22:41, 1152.90s/trial, best loss: -0.8172639714107239]"
     ]
    },
    {
     "name": "stderr",
     "output_type": "stream",
     "text": [
      "/home/jindalmadhur26/anaconda3/lib/python3.9/site-packages/sklearn/base.py:445: UserWarning: X does not have valid feature names, but MLPClassifier was fitted with feature names\n",
      "  warnings.warn(\n",
      "\n"
     ]
    },
    {
     "name": "stdout",
     "output_type": "stream",
     "text": [
      "Validation score: 0.813679                                                                                     \n",
      "Iteration 20, loss = 0.46815003                                                                                \n",
      " 27%|████████▎                      | 27/100 [7:16:29<23:22:41, 1152.90s/trial, best loss: -0.8172639714107239]"
     ]
    },
    {
     "name": "stderr",
     "output_type": "stream",
     "text": [
      "/home/jindalmadhur26/anaconda3/lib/python3.9/site-packages/sklearn/base.py:445: UserWarning: X does not have valid feature names, but MLPClassifier was fitted with feature names\n",
      "  warnings.warn(\n",
      "\n"
     ]
    },
    {
     "name": "stdout",
     "output_type": "stream",
     "text": [
      "Validation score: 0.814218                                                                                     \n",
      "Iteration 21, loss = 0.46836046                                                                                \n",
      " 27%|████████▎                      | 27/100 [7:17:18<23:22:41, 1152.90s/trial, best loss: -0.8172639714107239]"
     ]
    },
    {
     "name": "stderr",
     "output_type": "stream",
     "text": [
      "/home/jindalmadhur26/anaconda3/lib/python3.9/site-packages/sklearn/base.py:445: UserWarning: X does not have valid feature names, but MLPClassifier was fitted with feature names\n",
      "  warnings.warn(\n",
      "\n"
     ]
    },
    {
     "name": "stdout",
     "output_type": "stream",
     "text": [
      "Validation score: 0.814269                                                                                     \n",
      "Iteration 22, loss = 0.46819472                                                                                \n",
      " 27%|████████▎                      | 27/100 [7:17:55<23:22:41, 1152.90s/trial, best loss: -0.8172639714107239]"
     ]
    },
    {
     "name": "stderr",
     "output_type": "stream",
     "text": [
      "/home/jindalmadhur26/anaconda3/lib/python3.9/site-packages/sklearn/base.py:445: UserWarning: X does not have valid feature names, but MLPClassifier was fitted with feature names\n",
      "  warnings.warn(\n",
      "\n"
     ]
    },
    {
     "name": "stdout",
     "output_type": "stream",
     "text": [
      "Validation score: 0.814192                                                                                     \n",
      "Iteration 23, loss = 0.46804284                                                                                \n",
      " 27%|████████▎                      | 27/100 [7:18:29<23:22:41, 1152.90s/trial, best loss: -0.8172639714107239]"
     ]
    },
    {
     "name": "stderr",
     "output_type": "stream",
     "text": [
      "/home/jindalmadhur26/anaconda3/lib/python3.9/site-packages/sklearn/base.py:445: UserWarning: X does not have valid feature names, but MLPClassifier was fitted with feature names\n",
      "  warnings.warn(\n",
      "\n"
     ]
    },
    {
     "name": "stdout",
     "output_type": "stream",
     "text": [
      "Validation score: 0.814653                                                                                     \n",
      "Validation score did not improve more than tol=0.000100 for 10 consecutive epochs. Stopping.                   \n",
      "0.8143079810088291                                                                                             \n",
      "0.8153463980126967                                                                                             \n",
      "{'activation': 'logistic', 'alpha': 0.019582278228746943, 'hidden_layer_sizes': 49}                            \n",
      "Iteration 1, loss = 0.54697650                                                                                 \n",
      " 28%|████████▋                      | 28/100 [7:21:50<22:51:08, 1142.62s/trial, best loss: -0.8172639714107239]"
     ]
    },
    {
     "name": "stderr",
     "output_type": "stream",
     "text": [
      "/home/jindalmadhur26/anaconda3/lib/python3.9/site-packages/sklearn/base.py:445: UserWarning: X does not have valid feature names, but MLPClassifier was fitted with feature names\n",
      "  warnings.warn(\n",
      "\n"
     ]
    },
    {
     "name": "stdout",
     "output_type": "stream",
     "text": [
      "Validation score: 0.809167                                                                                     \n",
      "Iteration 2, loss = 0.46889232                                                                                 \n",
      " 28%|████████▋                      | 28/100 [7:22:26<22:51:08, 1142.62s/trial, best loss: -0.8172639714107239]"
     ]
    },
    {
     "name": "stderr",
     "output_type": "stream",
     "text": [
      "/home/jindalmadhur26/anaconda3/lib/python3.9/site-packages/sklearn/base.py:445: UserWarning: X does not have valid feature names, but MLPClassifier was fitted with feature names\n",
      "  warnings.warn(\n",
      "\n"
     ]
    },
    {
     "name": "stdout",
     "output_type": "stream",
     "text": [
      "Validation score: 0.810577                                                                                     \n",
      "Iteration 3, loss = 0.46438136                                                                                 \n",
      " 28%|████████▋                      | 28/100 [7:23:02<22:51:08, 1142.62s/trial, best loss: -0.8172639714107239]"
     ]
    },
    {
     "name": "stderr",
     "output_type": "stream",
     "text": [
      "/home/jindalmadhur26/anaconda3/lib/python3.9/site-packages/sklearn/base.py:445: UserWarning: X does not have valid feature names, but MLPClassifier was fitted with feature names\n",
      "  warnings.warn(\n",
      "\n"
     ]
    },
    {
     "name": "stdout",
     "output_type": "stream",
     "text": [
      "Validation score: 0.812731                                                                                     \n",
      "Iteration 4, loss = 0.46227805                                                                                 \n",
      " 28%|████████▋                      | 28/100 [7:23:39<22:51:08, 1142.62s/trial, best loss: -0.8172639714107239]"
     ]
    },
    {
     "name": "stderr",
     "output_type": "stream",
     "text": [
      "/home/jindalmadhur26/anaconda3/lib/python3.9/site-packages/sklearn/base.py:445: UserWarning: X does not have valid feature names, but MLPClassifier was fitted with feature names\n",
      "  warnings.warn(\n",
      "\n"
     ]
    },
    {
     "name": "stdout",
     "output_type": "stream",
     "text": [
      "Validation score: 0.812269                                                                                     \n",
      "Iteration 5, loss = 0.46050836                                                                                 \n",
      " 28%|████████▋                      | 28/100 [7:24:21<22:51:08, 1142.62s/trial, best loss: -0.8172639714107239]"
     ]
    },
    {
     "name": "stderr",
     "output_type": "stream",
     "text": [
      "/home/jindalmadhur26/anaconda3/lib/python3.9/site-packages/sklearn/base.py:445: UserWarning: X does not have valid feature names, but MLPClassifier was fitted with feature names\n",
      "  warnings.warn(\n",
      "\n"
     ]
    },
    {
     "name": "stdout",
     "output_type": "stream",
     "text": [
      "Validation score: 0.811372                                                                                     \n",
      "Iteration 6, loss = 0.45921412                                                                                 \n",
      " 28%|████████▋                      | 28/100 [7:25:00<22:51:08, 1142.62s/trial, best loss: -0.8172639714107239]"
     ]
    },
    {
     "name": "stderr",
     "output_type": "stream",
     "text": [
      "/home/jindalmadhur26/anaconda3/lib/python3.9/site-packages/sklearn/base.py:445: UserWarning: X does not have valid feature names, but MLPClassifier was fitted with feature names\n",
      "  warnings.warn(\n",
      "\n"
     ]
    },
    {
     "name": "stdout",
     "output_type": "stream",
     "text": [
      "Validation score: 0.814346                                                                                     \n",
      "Iteration 7, loss = 0.45830578                                                                                 \n",
      " 28%|████████▋                      | 28/100 [7:25:40<22:51:08, 1142.62s/trial, best loss: -0.8172639714107239]"
     ]
    },
    {
     "name": "stderr",
     "output_type": "stream",
     "text": [
      "/home/jindalmadhur26/anaconda3/lib/python3.9/site-packages/sklearn/base.py:445: UserWarning: X does not have valid feature names, but MLPClassifier was fitted with feature names\n",
      "  warnings.warn(\n",
      "\n"
     ]
    },
    {
     "name": "stdout",
     "output_type": "stream",
     "text": [
      "Validation score: 0.814064                                                                                     \n",
      "Iteration 8, loss = 0.45736914                                                                                 \n",
      " 28%|████████▋                      | 28/100 [7:26:05<22:51:08, 1142.62s/trial, best loss: -0.8172639714107239]"
     ]
    },
    {
     "name": "stderr",
     "output_type": "stream",
     "text": [
      "/home/jindalmadhur26/anaconda3/lib/python3.9/site-packages/sklearn/base.py:445: UserWarning: X does not have valid feature names, but MLPClassifier was fitted with feature names\n",
      "  warnings.warn(\n",
      "\n"
     ]
    },
    {
     "name": "stdout",
     "output_type": "stream",
     "text": [
      "Validation score: 0.814192                                                                                     \n",
      "Iteration 9, loss = 0.45668263                                                                                 \n",
      " 28%|████████▋                      | 28/100 [7:26:20<22:51:08, 1142.62s/trial, best loss: -0.8172639714107239]"
     ]
    },
    {
     "name": "stderr",
     "output_type": "stream",
     "text": [
      "/home/jindalmadhur26/anaconda3/lib/python3.9/site-packages/sklearn/base.py:445: UserWarning: X does not have valid feature names, but MLPClassifier was fitted with feature names\n",
      "  warnings.warn(\n",
      "\n"
     ]
    },
    {
     "name": "stdout",
     "output_type": "stream",
     "text": [
      "Validation score: 0.813500                                                                                     \n",
      "Iteration 10, loss = 0.45576367                                                                                \n",
      " 28%|████████▋                      | 28/100 [7:26:41<22:51:08, 1142.62s/trial, best loss: -0.8172639714107239]"
     ]
    },
    {
     "name": "stderr",
     "output_type": "stream",
     "text": [
      "/home/jindalmadhur26/anaconda3/lib/python3.9/site-packages/sklearn/base.py:445: UserWarning: X does not have valid feature names, but MLPClassifier was fitted with feature names\n",
      "  warnings.warn(\n",
      "\n"
     ]
    },
    {
     "name": "stdout",
     "output_type": "stream",
     "text": [
      "Validation score: 0.813756                                                                                     \n",
      "Iteration 11, loss = 0.45520020                                                                                \n",
      " 28%|████████▋                      | 28/100 [7:27:02<22:51:08, 1142.62s/trial, best loss: -0.8172639714107239]"
     ]
    },
    {
     "name": "stderr",
     "output_type": "stream",
     "text": [
      "/home/jindalmadhur26/anaconda3/lib/python3.9/site-packages/sklearn/base.py:445: UserWarning: X does not have valid feature names, but MLPClassifier was fitted with feature names\n",
      "  warnings.warn(\n",
      "\n"
     ]
    },
    {
     "name": "stdout",
     "output_type": "stream",
     "text": [
      "Validation score: 0.812859                                                                                     \n",
      "Iteration 12, loss = 0.45503298                                                                                \n",
      " 28%|████████▋                      | 28/100 [7:27:30<22:51:08, 1142.62s/trial, best loss: -0.8172639714107239]"
     ]
    },
    {
     "name": "stderr",
     "output_type": "stream",
     "text": [
      "/home/jindalmadhur26/anaconda3/lib/python3.9/site-packages/sklearn/base.py:445: UserWarning: X does not have valid feature names, but MLPClassifier was fitted with feature names\n",
      "  warnings.warn(\n",
      "\n"
     ]
    },
    {
     "name": "stdout",
     "output_type": "stream",
     "text": [
      "Validation score: 0.814218                                                                                     \n",
      "Iteration 13, loss = 0.45422641                                                                                \n",
      " 28%|████████▋                      | 28/100 [7:27:56<22:51:08, 1142.62s/trial, best loss: -0.8172639714107239]"
     ]
    },
    {
     "name": "stderr",
     "output_type": "stream",
     "text": [
      "/home/jindalmadhur26/anaconda3/lib/python3.9/site-packages/sklearn/base.py:445: UserWarning: X does not have valid feature names, but MLPClassifier was fitted with feature names\n",
      "  warnings.warn(\n",
      "\n"
     ]
    },
    {
     "name": "stdout",
     "output_type": "stream",
     "text": [
      "Validation score: 0.813320                                                                                     \n",
      "Iteration 14, loss = 0.45365712                                                                                \n",
      " 28%|████████▋                      | 28/100 [7:28:26<22:51:08, 1142.62s/trial, best loss: -0.8172639714107239]"
     ]
    },
    {
     "name": "stderr",
     "output_type": "stream",
     "text": [
      "/home/jindalmadhur26/anaconda3/lib/python3.9/site-packages/sklearn/base.py:445: UserWarning: X does not have valid feature names, but MLPClassifier was fitted with feature names\n",
      "  warnings.warn(\n",
      "\n"
     ]
    },
    {
     "name": "stdout",
     "output_type": "stream",
     "text": [
      "Validation score: 0.814474                                                                                     \n",
      "Iteration 15, loss = 0.45343234                                                                                \n",
      " 28%|████████▋                      | 28/100 [7:29:03<22:51:08, 1142.62s/trial, best loss: -0.8172639714107239]"
     ]
    },
    {
     "name": "stderr",
     "output_type": "stream",
     "text": [
      "/home/jindalmadhur26/anaconda3/lib/python3.9/site-packages/sklearn/base.py:445: UserWarning: X does not have valid feature names, but MLPClassifier was fitted with feature names\n",
      "  warnings.warn(\n",
      "\n"
     ]
    },
    {
     "name": "stdout",
     "output_type": "stream",
     "text": [
      "Validation score: 0.814576                                                                                     \n",
      "Iteration 16, loss = 0.45288224                                                                                \n",
      " 28%|████████▋                      | 28/100 [7:29:35<22:51:08, 1142.62s/trial, best loss: -0.8172639714107239]"
     ]
    },
    {
     "name": "stderr",
     "output_type": "stream",
     "text": [
      "/home/jindalmadhur26/anaconda3/lib/python3.9/site-packages/sklearn/base.py:445: UserWarning: X does not have valid feature names, but MLPClassifier was fitted with feature names\n",
      "  warnings.warn(\n",
      "\n"
     ]
    },
    {
     "name": "stdout",
     "output_type": "stream",
     "text": [
      "Validation score: 0.815422                                                                                     \n",
      "Iteration 17, loss = 0.45254667                                                                                \n",
      " 28%|████████▋                      | 28/100 [7:30:04<22:51:08, 1142.62s/trial, best loss: -0.8172639714107239]"
     ]
    },
    {
     "name": "stderr",
     "output_type": "stream",
     "text": [
      "/home/jindalmadhur26/anaconda3/lib/python3.9/site-packages/sklearn/base.py:445: UserWarning: X does not have valid feature names, but MLPClassifier was fitted with feature names\n",
      "  warnings.warn(\n",
      "\n"
     ]
    },
    {
     "name": "stdout",
     "output_type": "stream",
     "text": [
      "Validation score: 0.814551                                                                                     \n",
      "Iteration 18, loss = 0.45218602                                                                                \n",
      " 28%|████████▋                      | 28/100 [7:30:28<22:51:08, 1142.62s/trial, best loss: -0.8172639714107239]"
     ]
    },
    {
     "name": "stderr",
     "output_type": "stream",
     "text": [
      "/home/jindalmadhur26/anaconda3/lib/python3.9/site-packages/sklearn/base.py:445: UserWarning: X does not have valid feature names, but MLPClassifier was fitted with feature names\n",
      "  warnings.warn(\n",
      "\n"
     ]
    },
    {
     "name": "stdout",
     "output_type": "stream",
     "text": [
      "Validation score: 0.814141                                                                                     \n",
      "Iteration 19, loss = 0.45195283                                                                                \n",
      " 28%|████████▋                      | 28/100 [7:31:01<22:51:08, 1142.62s/trial, best loss: -0.8172639714107239]"
     ]
    },
    {
     "name": "stderr",
     "output_type": "stream",
     "text": [
      "/home/jindalmadhur26/anaconda3/lib/python3.9/site-packages/sklearn/base.py:445: UserWarning: X does not have valid feature names, but MLPClassifier was fitted with feature names\n",
      "  warnings.warn(\n",
      "\n"
     ]
    },
    {
     "name": "stdout",
     "output_type": "stream",
     "text": [
      "Validation score: 0.812936                                                                                     \n",
      "Iteration 20, loss = 0.45168134                                                                                \n",
      " 28%|████████▋                      | 28/100 [7:31:36<22:51:08, 1142.62s/trial, best loss: -0.8172639714107239]"
     ]
    },
    {
     "name": "stderr",
     "output_type": "stream",
     "text": [
      "/home/jindalmadhur26/anaconda3/lib/python3.9/site-packages/sklearn/base.py:445: UserWarning: X does not have valid feature names, but MLPClassifier was fitted with feature names\n",
      "  warnings.warn(\n",
      "\n"
     ]
    },
    {
     "name": "stdout",
     "output_type": "stream",
     "text": [
      "Validation score: 0.814705                                                                                     \n",
      "Iteration 21, loss = 0.45130571                                                                                \n",
      " 28%|████████▋                      | 28/100 [7:32:09<22:51:08, 1142.62s/trial, best loss: -0.8172639714107239]"
     ]
    },
    {
     "name": "stderr",
     "output_type": "stream",
     "text": [
      "/home/jindalmadhur26/anaconda3/lib/python3.9/site-packages/sklearn/base.py:445: UserWarning: X does not have valid feature names, but MLPClassifier was fitted with feature names\n",
      "  warnings.warn(\n",
      "\n"
     ]
    },
    {
     "name": "stdout",
     "output_type": "stream",
     "text": [
      "Validation score: 0.814910                                                                                     \n",
      "Iteration 22, loss = 0.45110368                                                                                \n",
      " 28%|████████▋                      | 28/100 [7:32:42<22:51:08, 1142.62s/trial, best loss: -0.8172639714107239]"
     ]
    },
    {
     "name": "stderr",
     "output_type": "stream",
     "text": [
      "/home/jindalmadhur26/anaconda3/lib/python3.9/site-packages/sklearn/base.py:445: UserWarning: X does not have valid feature names, but MLPClassifier was fitted with feature names\n",
      "  warnings.warn(\n",
      "\n"
     ]
    },
    {
     "name": "stdout",
     "output_type": "stream",
     "text": [
      "Validation score: 0.813602                                                                                     \n",
      "Iteration 23, loss = 0.45076066                                                                                \n",
      " 28%|████████▋                      | 28/100 [7:33:25<22:51:08, 1142.62s/trial, best loss: -0.8172639714107239]"
     ]
    },
    {
     "name": "stderr",
     "output_type": "stream",
     "text": [
      "/home/jindalmadhur26/anaconda3/lib/python3.9/site-packages/sklearn/base.py:445: UserWarning: X does not have valid feature names, but MLPClassifier was fitted with feature names\n",
      "  warnings.warn(\n",
      "\n"
     ]
    },
    {
     "name": "stdout",
     "output_type": "stream",
     "text": [
      "Validation score: 0.816038                                                                                     \n",
      "Iteration 24, loss = 0.45089208                                                                                \n",
      " 28%|████████▋                      | 28/100 [7:34:00<22:51:08, 1142.62s/trial, best loss: -0.8172639714107239]"
     ]
    },
    {
     "name": "stderr",
     "output_type": "stream",
     "text": [
      "/home/jindalmadhur26/anaconda3/lib/python3.9/site-packages/sklearn/base.py:445: UserWarning: X does not have valid feature names, but MLPClassifier was fitted with feature names\n",
      "  warnings.warn(\n",
      "\n"
     ]
    },
    {
     "name": "stdout",
     "output_type": "stream",
     "text": [
      "Validation score: 0.815525                                                                                     \n",
      "Iteration 25, loss = 0.45044219                                                                                \n",
      " 28%|████████▋                      | 28/100 [7:34:41<22:51:08, 1142.62s/trial, best loss: -0.8172639714107239]"
     ]
    },
    {
     "name": "stderr",
     "output_type": "stream",
     "text": [
      "/home/jindalmadhur26/anaconda3/lib/python3.9/site-packages/sklearn/base.py:445: UserWarning: X does not have valid feature names, but MLPClassifier was fitted with feature names\n",
      "  warnings.warn(\n",
      "\n"
     ]
    },
    {
     "name": "stdout",
     "output_type": "stream",
     "text": [
      "Validation score: 0.814500                                                                                     \n",
      "Iteration 26, loss = 0.45009575                                                                                \n",
      " 28%|████████▋                      | 28/100 [7:35:17<22:51:08, 1142.62s/trial, best loss: -0.8172639714107239]"
     ]
    },
    {
     "name": "stderr",
     "output_type": "stream",
     "text": [
      "/home/jindalmadhur26/anaconda3/lib/python3.9/site-packages/sklearn/base.py:445: UserWarning: X does not have valid feature names, but MLPClassifier was fitted with feature names\n",
      "  warnings.warn(\n",
      "\n"
     ]
    },
    {
     "name": "stdout",
     "output_type": "stream",
     "text": [
      "Validation score: 0.815397                                                                                     \n",
      "Iteration 27, loss = 0.44986862                                                                                \n",
      " 28%|████████▋                      | 28/100 [7:35:48<22:51:08, 1142.62s/trial, best loss: -0.8172639714107239]"
     ]
    },
    {
     "name": "stderr",
     "output_type": "stream",
     "text": [
      "/home/jindalmadhur26/anaconda3/lib/python3.9/site-packages/sklearn/base.py:445: UserWarning: X does not have valid feature names, but MLPClassifier was fitted with feature names\n",
      "  warnings.warn(\n",
      "\n"
     ]
    },
    {
     "name": "stdout",
     "output_type": "stream",
     "text": [
      "Validation score: 0.815884                                                                                     \n",
      "Iteration 28, loss = 0.44952419                                                                                \n",
      " 28%|████████▋                      | 28/100 [7:36:23<22:51:08, 1142.62s/trial, best loss: -0.8172639714107239]"
     ]
    },
    {
     "name": "stderr",
     "output_type": "stream",
     "text": [
      "/home/jindalmadhur26/anaconda3/lib/python3.9/site-packages/sklearn/base.py:445: UserWarning: X does not have valid feature names, but MLPClassifier was fitted with feature names\n",
      "  warnings.warn(\n",
      "\n"
     ]
    },
    {
     "name": "stdout",
     "output_type": "stream",
     "text": [
      "Validation score: 0.814423                                                                                     \n",
      "Iteration 29, loss = 0.44942677                                                                                \n",
      " 28%|████████▋                      | 28/100 [7:36:58<22:51:08, 1142.62s/trial, best loss: -0.8172639714107239]"
     ]
    },
    {
     "name": "stderr",
     "output_type": "stream",
     "text": [
      "/home/jindalmadhur26/anaconda3/lib/python3.9/site-packages/sklearn/base.py:445: UserWarning: X does not have valid feature names, but MLPClassifier was fitted with feature names\n",
      "  warnings.warn(\n",
      "\n"
     ]
    },
    {
     "name": "stdout",
     "output_type": "stream",
     "text": [
      "Validation score: 0.814782                                                                                     \n",
      "Iteration 30, loss = 0.44943461                                                                                \n",
      " 28%|████████▋                      | 28/100 [7:37:32<22:51:08, 1142.62s/trial, best loss: -0.8172639714107239]"
     ]
    },
    {
     "name": "stderr",
     "output_type": "stream",
     "text": [
      "/home/jindalmadhur26/anaconda3/lib/python3.9/site-packages/sklearn/base.py:445: UserWarning: X does not have valid feature names, but MLPClassifier was fitted with feature names\n",
      "  warnings.warn(\n",
      "\n"
     ]
    },
    {
     "name": "stdout",
     "output_type": "stream",
     "text": [
      "Validation score: 0.814705                                                                                     \n",
      "Iteration 31, loss = 0.44928567                                                                                \n",
      " 28%|████████▋                      | 28/100 [7:38:04<22:51:08, 1142.62s/trial, best loss: -0.8172639714107239]"
     ]
    },
    {
     "name": "stderr",
     "output_type": "stream",
     "text": [
      "/home/jindalmadhur26/anaconda3/lib/python3.9/site-packages/sklearn/base.py:445: UserWarning: X does not have valid feature names, but MLPClassifier was fitted with feature names\n",
      "  warnings.warn(\n",
      "\n"
     ]
    },
    {
     "name": "stdout",
     "output_type": "stream",
     "text": [
      "Validation score: 0.815166                                                                                     \n",
      "Iteration 32, loss = 0.44894951                                                                                \n",
      " 28%|████████▋                      | 28/100 [7:38:40<22:51:08, 1142.62s/trial, best loss: -0.8172639714107239]"
     ]
    },
    {
     "name": "stderr",
     "output_type": "stream",
     "text": [
      "/home/jindalmadhur26/anaconda3/lib/python3.9/site-packages/sklearn/base.py:445: UserWarning: X does not have valid feature names, but MLPClassifier was fitted with feature names\n",
      "  warnings.warn(\n",
      "\n"
     ]
    },
    {
     "name": "stdout",
     "output_type": "stream",
     "text": [
      "Validation score: 0.815474                                                                                     \n",
      "Iteration 33, loss = 0.44888459                                                                                \n",
      " 28%|████████▋                      | 28/100 [7:39:13<22:51:08, 1142.62s/trial, best loss: -0.8172639714107239]"
     ]
    },
    {
     "name": "stderr",
     "output_type": "stream",
     "text": [
      "/home/jindalmadhur26/anaconda3/lib/python3.9/site-packages/sklearn/base.py:445: UserWarning: X does not have valid feature names, but MLPClassifier was fitted with feature names\n",
      "  warnings.warn(\n",
      "\n"
     ]
    },
    {
     "name": "stdout",
     "output_type": "stream",
     "text": [
      "Validation score: 0.814064                                                                                     \n",
      "Iteration 34, loss = 0.44887708                                                                                \n",
      " 28%|████████▋                      | 28/100 [7:39:42<22:51:08, 1142.62s/trial, best loss: -0.8172639714107239]"
     ]
    },
    {
     "name": "stderr",
     "output_type": "stream",
     "text": [
      "/home/jindalmadhur26/anaconda3/lib/python3.9/site-packages/sklearn/base.py:445: UserWarning: X does not have valid feature names, but MLPClassifier was fitted with feature names\n",
      "  warnings.warn(\n",
      "\n"
     ]
    },
    {
     "name": "stdout",
     "output_type": "stream",
     "text": [
      "Validation score: 0.814089                                                                                     \n",
      "Validation score did not improve more than tol=0.000100 for 10 consecutive epochs. Stopping.                   \n",
      "0.8173253417282786                                                                                             \n",
      "0.8165085637084707                                                                                             \n",
      "{'activation': 'logistic', 'alpha': 6.596692382240281e-05, 'hidden_layer_sizes': 10}                           \n",
      "Iteration 1, loss = 0.55202031                                                                                 \n",
      " 29%|████████▉                      | 29/100 [7:42:32<23:16:52, 1180.45s/trial, best loss: -0.8172639714107239]"
     ]
    },
    {
     "name": "stderr",
     "output_type": "stream",
     "text": [
      "/home/jindalmadhur26/anaconda3/lib/python3.9/site-packages/sklearn/base.py:445: UserWarning: X does not have valid feature names, but MLPClassifier was fitted with feature names\n",
      "  warnings.warn(\n",
      "\n"
     ]
    },
    {
     "name": "stdout",
     "output_type": "stream",
     "text": [
      "Validation score: 0.810834                                                                                     \n",
      "Iteration 2, loss = 0.47000842                                                                                 \n",
      " 29%|████████▉                      | 29/100 [7:43:08<23:16:52, 1180.45s/trial, best loss: -0.8172639714107239]"
     ]
    },
    {
     "name": "stderr",
     "output_type": "stream",
     "text": [
      "/home/jindalmadhur26/anaconda3/lib/python3.9/site-packages/sklearn/base.py:445: UserWarning: X does not have valid feature names, but MLPClassifier was fitted with feature names\n",
      "  warnings.warn(\n",
      "\n"
     ]
    },
    {
     "name": "stdout",
     "output_type": "stream",
     "text": [
      "Validation score: 0.812833                                                                                     \n",
      "Iteration 3, loss = 0.46554156                                                                                 \n",
      " 29%|████████▉                      | 29/100 [7:43:46<23:16:52, 1180.45s/trial, best loss: -0.8172639714107239]"
     ]
    },
    {
     "name": "stderr",
     "output_type": "stream",
     "text": [
      "/home/jindalmadhur26/anaconda3/lib/python3.9/site-packages/sklearn/base.py:445: UserWarning: X does not have valid feature names, but MLPClassifier was fitted with feature names\n",
      "  warnings.warn(\n",
      "\n"
     ]
    },
    {
     "name": "stdout",
     "output_type": "stream",
     "text": [
      "Validation score: 0.814064                                                                                     \n",
      "Iteration 4, loss = 0.46277528                                                                                 \n",
      " 29%|████████▉                      | 29/100 [7:44:26<23:16:52, 1180.45s/trial, best loss: -0.8172639714107239]"
     ]
    },
    {
     "name": "stderr",
     "output_type": "stream",
     "text": [
      "/home/jindalmadhur26/anaconda3/lib/python3.9/site-packages/sklearn/base.py:445: UserWarning: X does not have valid feature names, but MLPClassifier was fitted with feature names\n",
      "  warnings.warn(\n",
      "\n"
     ]
    },
    {
     "name": "stdout",
     "output_type": "stream",
     "text": [
      "Validation score: 0.814551                                                                                     \n",
      "Iteration 5, loss = 0.46093612                                                                                 \n",
      " 29%|████████▉                      | 29/100 [7:45:04<23:16:52, 1180.45s/trial, best loss: -0.8172639714107239]"
     ]
    },
    {
     "name": "stderr",
     "output_type": "stream",
     "text": [
      "/home/jindalmadhur26/anaconda3/lib/python3.9/site-packages/sklearn/base.py:445: UserWarning: X does not have valid feature names, but MLPClassifier was fitted with feature names\n",
      "  warnings.warn(\n",
      "\n"
     ]
    },
    {
     "name": "stdout",
     "output_type": "stream",
     "text": [
      "Validation score: 0.814628                                                                                     \n",
      "Iteration 6, loss = 0.45973290                                                                                 \n",
      " 29%|████████▉                      | 29/100 [7:45:42<23:16:52, 1180.45s/trial, best loss: -0.8172639714107239]"
     ]
    },
    {
     "name": "stderr",
     "output_type": "stream",
     "text": [
      "/home/jindalmadhur26/anaconda3/lib/python3.9/site-packages/sklearn/base.py:445: UserWarning: X does not have valid feature names, but MLPClassifier was fitted with feature names\n",
      "  warnings.warn(\n",
      "\n"
     ]
    },
    {
     "name": "stdout",
     "output_type": "stream",
     "text": [
      "Validation score: 0.815653                                                                                     \n",
      "Iteration 7, loss = 0.45853751                                                                                 \n",
      " 29%|████████▉                      | 29/100 [7:46:13<23:16:52, 1180.45s/trial, best loss: -0.8172639714107239]"
     ]
    },
    {
     "name": "stderr",
     "output_type": "stream",
     "text": [
      "/home/jindalmadhur26/anaconda3/lib/python3.9/site-packages/sklearn/base.py:445: UserWarning: X does not have valid feature names, but MLPClassifier was fitted with feature names\n",
      "  warnings.warn(\n",
      "\n"
     ]
    },
    {
     "name": "stdout",
     "output_type": "stream",
     "text": [
      "Validation score: 0.814961                                                                                     \n",
      "Iteration 8, loss = 0.45766906                                                                                 \n",
      " 29%|████████▉                      | 29/100 [7:46:41<23:16:52, 1180.45s/trial, best loss: -0.8172639714107239]"
     ]
    },
    {
     "name": "stderr",
     "output_type": "stream",
     "text": [
      "/home/jindalmadhur26/anaconda3/lib/python3.9/site-packages/sklearn/base.py:445: UserWarning: X does not have valid feature names, but MLPClassifier was fitted with feature names\n",
      "  warnings.warn(\n",
      "\n"
     ]
    },
    {
     "name": "stdout",
     "output_type": "stream",
     "text": [
      "Validation score: 0.816243                                                                                     \n",
      "Iteration 9, loss = 0.45661268                                                                                 \n",
      " 29%|████████▉                      | 29/100 [7:47:13<23:16:52, 1180.45s/trial, best loss: -0.8172639714107239]"
     ]
    },
    {
     "name": "stderr",
     "output_type": "stream",
     "text": [
      "/home/jindalmadhur26/anaconda3/lib/python3.9/site-packages/sklearn/base.py:445: UserWarning: X does not have valid feature names, but MLPClassifier was fitted with feature names\n",
      "  warnings.warn(\n",
      "\n"
     ]
    },
    {
     "name": "stdout",
     "output_type": "stream",
     "text": [
      "Validation score: 0.815012                                                                                     \n",
      "Iteration 10, loss = 0.45571572                                                                                \n",
      " 29%|████████▉                      | 29/100 [7:47:44<23:16:52, 1180.45s/trial, best loss: -0.8172639714107239]"
     ]
    },
    {
     "name": "stderr",
     "output_type": "stream",
     "text": [
      "/home/jindalmadhur26/anaconda3/lib/python3.9/site-packages/sklearn/base.py:445: UserWarning: X does not have valid feature names, but MLPClassifier was fitted with feature names\n",
      "  warnings.warn(\n",
      "\n"
     ]
    },
    {
     "name": "stdout",
     "output_type": "stream",
     "text": [
      "Validation score: 0.815576                                                                                     \n",
      "Iteration 11, loss = 0.45503105                                                                                \n",
      " 29%|████████▉                      | 29/100 [7:48:14<23:16:52, 1180.45s/trial, best loss: -0.8172639714107239]"
     ]
    },
    {
     "name": "stderr",
     "output_type": "stream",
     "text": [
      "/home/jindalmadhur26/anaconda3/lib/python3.9/site-packages/sklearn/base.py:445: UserWarning: X does not have valid feature names, but MLPClassifier was fitted with feature names\n",
      "  warnings.warn(\n",
      "\n"
     ]
    },
    {
     "name": "stdout",
     "output_type": "stream",
     "text": [
      "Validation score: 0.815192                                                                                     \n",
      "Iteration 12, loss = 0.45458752                                                                                \n",
      " 29%|████████▉                      | 29/100 [7:48:39<23:16:52, 1180.45s/trial, best loss: -0.8172639714107239]"
     ]
    },
    {
     "name": "stderr",
     "output_type": "stream",
     "text": [
      "/home/jindalmadhur26/anaconda3/lib/python3.9/site-packages/sklearn/base.py:445: UserWarning: X does not have valid feature names, but MLPClassifier was fitted with feature names\n",
      "  warnings.warn(\n",
      "\n"
     ]
    },
    {
     "name": "stdout",
     "output_type": "stream",
     "text": [
      "Validation score: 0.816397                                                                                     \n",
      "Iteration 13, loss = 0.45389703                                                                                \n",
      " 29%|████████▉                      | 29/100 [7:49:08<23:16:52, 1180.45s/trial, best loss: -0.8172639714107239]"
     ]
    },
    {
     "name": "stderr",
     "output_type": "stream",
     "text": [
      "/home/jindalmadhur26/anaconda3/lib/python3.9/site-packages/sklearn/base.py:445: UserWarning: X does not have valid feature names, but MLPClassifier was fitted with feature names\n",
      "  warnings.warn(\n",
      "\n"
     ]
    },
    {
     "name": "stdout",
     "output_type": "stream",
     "text": [
      "Validation score: 0.816807                                                                                     \n",
      "Iteration 14, loss = 0.45372307                                                                                \n",
      " 29%|████████▉                      | 29/100 [7:49:36<23:16:52, 1180.45s/trial, best loss: -0.8172639714107239]"
     ]
    },
    {
     "name": "stderr",
     "output_type": "stream",
     "text": [
      "/home/jindalmadhur26/anaconda3/lib/python3.9/site-packages/sklearn/base.py:445: UserWarning: X does not have valid feature names, but MLPClassifier was fitted with feature names\n",
      "  warnings.warn(\n",
      "\n"
     ]
    },
    {
     "name": "stdout",
     "output_type": "stream",
     "text": [
      "Validation score: 0.815858                                                                                     \n",
      "Iteration 15, loss = 0.45308061                                                                                \n",
      " 29%|████████▉                      | 29/100 [7:50:06<23:16:52, 1180.45s/trial, best loss: -0.8172639714107239]"
     ]
    },
    {
     "name": "stderr",
     "output_type": "stream",
     "text": [
      "/home/jindalmadhur26/anaconda3/lib/python3.9/site-packages/sklearn/base.py:445: UserWarning: X does not have valid feature names, but MLPClassifier was fitted with feature names\n",
      "  warnings.warn(\n",
      "\n"
     ]
    },
    {
     "name": "stdout",
     "output_type": "stream",
     "text": [
      "Validation score: 0.816063                                                                                     \n",
      "Iteration 16, loss = 0.45260386                                                                                \n",
      " 29%|████████▉                      | 29/100 [7:50:35<23:16:52, 1180.45s/trial, best loss: -0.8172639714107239]"
     ]
    },
    {
     "name": "stderr",
     "output_type": "stream",
     "text": [
      "/home/jindalmadhur26/anaconda3/lib/python3.9/site-packages/sklearn/base.py:445: UserWarning: X does not have valid feature names, but MLPClassifier was fitted with feature names\n",
      "  warnings.warn(\n",
      "\n"
     ]
    },
    {
     "name": "stdout",
     "output_type": "stream",
     "text": [
      "Validation score: 0.816294                                                                                     \n",
      "Iteration 17, loss = 0.45193505                                                                                \n",
      "                                                                                                               "
     ]
    },
    {
     "name": "stderr",
     "output_type": "stream",
     "text": [
      "/home/jindalmadhur26/anaconda3/lib/python3.9/site-packages/sklearn/base.py:445: UserWarning: X does not have valid feature names, but MLPClassifier was fitted with feature names\n",
      "  warnings.warn(\n",
      "\n"
     ]
    },
    {
     "name": "stdout",
     "output_type": "stream",
     "text": [
      "Validation score: 0.817320\n",
      "Iteration 18, loss = 0.45201478                                                                                \n",
      " 29%|████████▉                      | 29/100 [7:51:29<23:16:52, 1180.45s/trial, best loss: -0.8172639714107239]"
     ]
    },
    {
     "name": "stderr",
     "output_type": "stream",
     "text": [
      "/home/jindalmadhur26/anaconda3/lib/python3.9/site-packages/sklearn/base.py:445: UserWarning: X does not have valid feature names, but MLPClassifier was fitted with feature names\n",
      "  warnings.warn(\n",
      "\n"
     ]
    },
    {
     "name": "stdout",
     "output_type": "stream",
     "text": [
      "Validation score: 0.816192                                                                                     \n",
      "Iteration 19, loss = 0.45153942                                                                                \n",
      " 29%|████████▉                      | 29/100 [7:51:48<23:16:52, 1180.45s/trial, best loss: -0.8172639714107239]"
     ]
    },
    {
     "name": "stderr",
     "output_type": "stream",
     "text": [
      "/home/jindalmadhur26/anaconda3/lib/python3.9/site-packages/sklearn/base.py:445: UserWarning: X does not have valid feature names, but MLPClassifier was fitted with feature names\n",
      "  warnings.warn(\n",
      "\n"
     ]
    },
    {
     "name": "stdout",
     "output_type": "stream",
     "text": [
      "Validation score: 0.816525                                                                                     \n",
      "Iteration 20, loss = 0.45140895                                                                                \n",
      "Validation score: 0.817089                                                                                     \n",
      " 29%|████████▉                      | 29/100 [7:52:08<23:16:52, 1180.45s/trial, best loss: -0.8172639714107239]"
     ]
    },
    {
     "name": "stderr",
     "output_type": "stream",
     "text": [
      "/home/jindalmadhur26/anaconda3/lib/python3.9/site-packages/sklearn/base.py:445: UserWarning: X does not have valid feature names, but MLPClassifier was fitted with feature names\n",
      "  warnings.warn(\n",
      "\n"
     ]
    },
    {
     "name": "stdout",
     "output_type": "stream",
     "text": [
      "Iteration 21, loss = 0.45136160                                                                                \n",
      " 29%|████████▉                      | 29/100 [7:52:29<23:16:52, 1180.45s/trial, best loss: -0.8172639714107239]"
     ]
    },
    {
     "name": "stderr",
     "output_type": "stream",
     "text": [
      "/home/jindalmadhur26/anaconda3/lib/python3.9/site-packages/sklearn/base.py:445: UserWarning: X does not have valid feature names, but MLPClassifier was fitted with feature names\n",
      "  warnings.warn(\n",
      "\n"
     ]
    },
    {
     "name": "stdout",
     "output_type": "stream",
     "text": [
      "Validation score: 0.817217                                                                                     \n",
      "Iteration 22, loss = 0.45073975                                                                                \n",
      " 29%|████████▉                      | 29/100 [7:52:50<23:16:52, 1180.45s/trial, best loss: -0.8172639714107239]"
     ]
    },
    {
     "name": "stderr",
     "output_type": "stream",
     "text": [
      "/home/jindalmadhur26/anaconda3/lib/python3.9/site-packages/sklearn/base.py:445: UserWarning: X does not have valid feature names, but MLPClassifier was fitted with feature names\n",
      "  warnings.warn(\n",
      "\n"
     ]
    },
    {
     "name": "stdout",
     "output_type": "stream",
     "text": [
      "Validation score: 0.817140                                                                                     \n",
      "Iteration 23, loss = 0.45036266                                                                                \n",
      " 29%|████████▉                      | 29/100 [7:53:09<23:16:52, 1180.45s/trial, best loss: -0.8172639714107239]"
     ]
    },
    {
     "name": "stderr",
     "output_type": "stream",
     "text": [
      "/home/jindalmadhur26/anaconda3/lib/python3.9/site-packages/sklearn/base.py:445: UserWarning: X does not have valid feature names, but MLPClassifier was fitted with feature names\n",
      "  warnings.warn(\n",
      "\n"
     ]
    },
    {
     "name": "stdout",
     "output_type": "stream",
     "text": [
      "Validation score: 0.817986                                                                                     \n",
      "Iteration 24, loss = 0.45022971                                                                                \n",
      "Validation score: 0.816550                                                                                     \n",
      " 29%|████████▉                      | 29/100 [7:53:23<23:16:52, 1180.45s/trial, best loss: -0.8172639714107239]"
     ]
    },
    {
     "name": "stderr",
     "output_type": "stream",
     "text": [
      "/home/jindalmadhur26/anaconda3/lib/python3.9/site-packages/sklearn/base.py:445: UserWarning: X does not have valid feature names, but MLPClassifier was fitted with feature names\n",
      "  warnings.warn(\n",
      "\n"
     ]
    },
    {
     "name": "stdout",
     "output_type": "stream",
     "text": [
      "Iteration 25, loss = 0.45000779                                                                                \n",
      " 29%|████████▉                      | 29/100 [7:53:39<23:16:52, 1180.45s/trial, best loss: -0.8172639714107239]"
     ]
    },
    {
     "name": "stderr",
     "output_type": "stream",
     "text": [
      "/home/jindalmadhur26/anaconda3/lib/python3.9/site-packages/sklearn/base.py:445: UserWarning: X does not have valid feature names, but MLPClassifier was fitted with feature names\n",
      "  warnings.warn(\n",
      "\n"
     ]
    },
    {
     "name": "stdout",
     "output_type": "stream",
     "text": [
      "Validation score: 0.816807                                                                                     \n",
      "Iteration 26, loss = 0.44977744                                                                                \n",
      " 29%|████████▉                      | 29/100 [7:54:08<23:16:52, 1180.45s/trial, best loss: -0.8172639714107239]"
     ]
    },
    {
     "name": "stderr",
     "output_type": "stream",
     "text": [
      "/home/jindalmadhur26/anaconda3/lib/python3.9/site-packages/sklearn/base.py:445: UserWarning: X does not have valid feature names, but MLPClassifier was fitted with feature names\n",
      "  warnings.warn(\n",
      "\n"
     ]
    },
    {
     "name": "stdout",
     "output_type": "stream",
     "text": [
      "Validation score: 0.814371                                                                                     \n",
      "Iteration 27, loss = 0.44949088                                                                                \n",
      " 29%|████████▉                      | 29/100 [7:54:53<23:16:52, 1180.45s/trial, best loss: -0.8172639714107239]"
     ]
    },
    {
     "name": "stderr",
     "output_type": "stream",
     "text": [
      "/home/jindalmadhur26/anaconda3/lib/python3.9/site-packages/sklearn/base.py:445: UserWarning: X does not have valid feature names, but MLPClassifier was fitted with feature names\n",
      "  warnings.warn(\n",
      "\n"
     ]
    },
    {
     "name": "stdout",
     "output_type": "stream",
     "text": [
      "Validation score: 0.816884                                                                                     \n",
      "Iteration 28, loss = 0.44931020                                                                                \n",
      " 29%|████████▉                      | 29/100 [7:55:35<23:16:52, 1180.45s/trial, best loss: -0.8172639714107239]"
     ]
    },
    {
     "name": "stderr",
     "output_type": "stream",
     "text": [
      "/home/jindalmadhur26/anaconda3/lib/python3.9/site-packages/sklearn/base.py:445: UserWarning: X does not have valid feature names, but MLPClassifier was fitted with feature names\n",
      "  warnings.warn(\n",
      "\n"
     ]
    },
    {
     "name": "stdout",
     "output_type": "stream",
     "text": [
      "Validation score: 0.816602                                                                                     \n",
      "Iteration 29, loss = 0.44915302                                                                                \n",
      " 29%|████████▉                      | 29/100 [7:56:06<23:16:52, 1180.45s/trial, best loss: -0.8172639714107239]"
     ]
    },
    {
     "name": "stderr",
     "output_type": "stream",
     "text": [
      "/home/jindalmadhur26/anaconda3/lib/python3.9/site-packages/sklearn/base.py:445: UserWarning: X does not have valid feature names, but MLPClassifier was fitted with feature names\n",
      "  warnings.warn(\n",
      "\n"
     ]
    },
    {
     "name": "stdout",
     "output_type": "stream",
     "text": [
      "Validation score: 0.816140                                                                                     \n",
      "Iteration 30, loss = 0.44909677                                                                                \n",
      "Validation score: 0.816320                                                                                     \n"
     ]
    },
    {
     "name": "stderr",
     "output_type": "stream",
     "text": [
      "/home/jindalmadhur26/anaconda3/lib/python3.9/site-packages/sklearn/base.py:445: UserWarning: X does not have valid feature names, but MLPClassifier was fitted with feature names\n",
      "  warnings.warn(\n",
      "\n"
     ]
    },
    {
     "name": "stdout",
     "output_type": "stream",
     "text": [
      "Iteration 31, loss = 0.44863997                                                                                \n",
      "Validation score: 0.816243                                                                                     \n",
      " 29%|████████▉                      | 29/100 [7:57:23<23:16:52, 1180.45s/trial, best loss: -0.8172639714107239]"
     ]
    },
    {
     "name": "stderr",
     "output_type": "stream",
     "text": [
      "/home/jindalmadhur26/anaconda3/lib/python3.9/site-packages/sklearn/base.py:445: UserWarning: X does not have valid feature names, but MLPClassifier was fitted with feature names\n",
      "  warnings.warn(\n",
      "\n"
     ]
    },
    {
     "name": "stdout",
     "output_type": "stream",
     "text": [
      "Iteration 32, loss = 0.44847732                                                                                \n",
      " 29%|████████▉                      | 29/100 [7:58:07<23:16:52, 1180.45s/trial, best loss: -0.8172639714107239]"
     ]
    },
    {
     "name": "stderr",
     "output_type": "stream",
     "text": [
      "/home/jindalmadhur26/anaconda3/lib/python3.9/site-packages/sklearn/base.py:445: UserWarning: X does not have valid feature names, but MLPClassifier was fitted with feature names\n",
      "  warnings.warn(\n",
      "\n"
     ]
    },
    {
     "name": "stdout",
     "output_type": "stream",
     "text": [
      "Validation score: 0.816140                                                                                     \n",
      "Iteration 33, loss = 0.44850322                                                                                \n",
      "Validation score: 0.817473                                                                                     \n",
      " 29%|████████▉                      | 29/100 [7:58:30<23:16:52, 1180.45s/trial, best loss: -0.8172639714107239]"
     ]
    },
    {
     "name": "stderr",
     "output_type": "stream",
     "text": [
      "/home/jindalmadhur26/anaconda3/lib/python3.9/site-packages/sklearn/base.py:445: UserWarning: X does not have valid feature names, but MLPClassifier was fitted with feature names\n",
      "  warnings.warn(\n",
      "\n"
     ]
    },
    {
     "name": "stdout",
     "output_type": "stream",
     "text": [
      "Iteration 34, loss = 0.44829881                                                                                \n",
      "Validation score: 0.817422                                                                                     \n",
      "Validation score did not improve more than tol=0.000100 for 10 consecutive epochs. Stopping.                   \n",
      " 29%|████████▉                      | 29/100 [7:58:47<23:16:52, 1180.45s/trial, best loss: -0.8172639714107239]"
     ]
    },
    {
     "name": "stderr",
     "output_type": "stream",
     "text": [
      "/home/jindalmadhur26/anaconda3/lib/python3.9/site-packages/sklearn/base.py:445: UserWarning: X does not have valid feature names, but MLPClassifier was fitted with feature names\n",
      "  warnings.warn(\n",
      "\n"
     ]
    },
    {
     "name": "stdout",
     "output_type": "stream",
     "text": [
      "0.8176227196751402                                                                                             \n",
      "0.8170024841291748                                                                                             \n",
      "{'activation': 'logistic', 'alpha': 1.4003914234755966e-06, 'hidden_layer_sizes': 8}                           \n",
      "Iteration 1, loss = 0.51762007                                                                                 \n",
      " 30%|█████████▎                     | 30/100 [8:00:16<22:38:04, 1164.06s/trial, best loss: -0.8172639714107239]"
     ]
    },
    {
     "name": "stderr",
     "output_type": "stream",
     "text": [
      "/home/jindalmadhur26/anaconda3/lib/python3.9/site-packages/sklearn/base.py:445: UserWarning: X does not have valid feature names, but MLPClassifier was fitted with feature names\n",
      "  warnings.warn(\n",
      "\n"
     ]
    },
    {
     "name": "stdout",
     "output_type": "stream",
     "text": [
      "Validation score: 0.813320                                                                                     \n",
      "Iteration 2, loss = 0.46843279                                                                                 \n",
      " 30%|█████████▎                     | 30/100 [8:00:25<22:38:04, 1164.06s/trial, best loss: -0.8172639714107239]"
     ]
    },
    {
     "name": "stderr",
     "output_type": "stream",
     "text": [
      "/home/jindalmadhur26/anaconda3/lib/python3.9/site-packages/sklearn/base.py:445: UserWarning: X does not have valid feature names, but MLPClassifier was fitted with feature names\n",
      "  warnings.warn(\n",
      "\n"
     ]
    },
    {
     "name": "stdout",
     "output_type": "stream",
     "text": [
      "Validation score: 0.815064                                                                                     \n",
      "Iteration 3, loss = 0.46381563                                                                                 \n",
      " 30%|█████████▎                     | 30/100 [8:00:53<22:38:04, 1164.06s/trial, best loss: -0.8172639714107239]"
     ]
    },
    {
     "name": "stderr",
     "output_type": "stream",
     "text": [
      "/home/jindalmadhur26/anaconda3/lib/python3.9/site-packages/sklearn/base.py:445: UserWarning: X does not have valid feature names, but MLPClassifier was fitted with feature names\n",
      "  warnings.warn(\n",
      "\n"
     ]
    },
    {
     "name": "stdout",
     "output_type": "stream",
     "text": [
      "Validation score: 0.815781                                                                                     \n",
      "Iteration 4, loss = 0.46149598                                                                                 \n",
      " 30%|█████████▎                     | 30/100 [8:01:34<22:38:04, 1164.06s/trial, best loss: -0.8172639714107239]"
     ]
    },
    {
     "name": "stderr",
     "output_type": "stream",
     "text": [
      "/home/jindalmadhur26/anaconda3/lib/python3.9/site-packages/sklearn/base.py:445: UserWarning: X does not have valid feature names, but MLPClassifier was fitted with feature names\n",
      "  warnings.warn(\n",
      "\n"
     ]
    },
    {
     "name": "stdout",
     "output_type": "stream",
     "text": [
      "Validation score: 0.815628                                                                                     \n",
      "Iteration 5, loss = 0.45997423                                                                                 \n",
      " 30%|█████████▎                     | 30/100 [8:02:14<22:38:04, 1164.06s/trial, best loss: -0.8172639714107239]"
     ]
    },
    {
     "name": "stderr",
     "output_type": "stream",
     "text": [
      "/home/jindalmadhur26/anaconda3/lib/python3.9/site-packages/sklearn/base.py:445: UserWarning: X does not have valid feature names, but MLPClassifier was fitted with feature names\n",
      "  warnings.warn(\n",
      "\n"
     ]
    },
    {
     "name": "stdout",
     "output_type": "stream",
     "text": [
      "Validation score: 0.817294                                                                                     \n",
      "Iteration 6, loss = 0.45864093                                                                                 \n",
      " 30%|█████████▎                     | 30/100 [8:02:56<22:38:04, 1164.06s/trial, best loss: -0.8172639714107239]"
     ]
    },
    {
     "name": "stderr",
     "output_type": "stream",
     "text": [
      "/home/jindalmadhur26/anaconda3/lib/python3.9/site-packages/sklearn/base.py:445: UserWarning: X does not have valid feature names, but MLPClassifier was fitted with feature names\n",
      "  warnings.warn(\n",
      "\n"
     ]
    },
    {
     "name": "stdout",
     "output_type": "stream",
     "text": [
      "Validation score: 0.816192                                                                                     \n",
      "Iteration 7, loss = 0.45738487                                                                                 \n",
      " 30%|█████████▎                     | 30/100 [8:03:38<22:38:04, 1164.06s/trial, best loss: -0.8172639714107239]"
     ]
    },
    {
     "name": "stderr",
     "output_type": "stream",
     "text": [
      "/home/jindalmadhur26/anaconda3/lib/python3.9/site-packages/sklearn/base.py:445: UserWarning: X does not have valid feature names, but MLPClassifier was fitted with feature names\n",
      "  warnings.warn(\n",
      "\n"
     ]
    },
    {
     "name": "stdout",
     "output_type": "stream",
     "text": [
      "Validation score: 0.816012                                                                                     \n",
      "Iteration 8, loss = 0.45683296                                                                                 \n",
      " 30%|█████████▎                     | 30/100 [8:04:18<22:38:04, 1164.06s/trial, best loss: -0.8172639714107239]"
     ]
    },
    {
     "name": "stderr",
     "output_type": "stream",
     "text": [
      "/home/jindalmadhur26/anaconda3/lib/python3.9/site-packages/sklearn/base.py:445: UserWarning: X does not have valid feature names, but MLPClassifier was fitted with feature names\n",
      "  warnings.warn(\n",
      "\n"
     ]
    },
    {
     "name": "stdout",
     "output_type": "stream",
     "text": [
      "Validation score: 0.818114                                                                                     \n",
      "Iteration 9, loss = 0.45557623                                                                                 \n",
      " 30%|█████████▎                     | 30/100 [8:04:48<22:38:04, 1164.06s/trial, best loss: -0.8172639714107239]"
     ]
    },
    {
     "name": "stderr",
     "output_type": "stream",
     "text": [
      "/home/jindalmadhur26/anaconda3/lib/python3.9/site-packages/sklearn/base.py:445: UserWarning: X does not have valid feature names, but MLPClassifier was fitted with feature names\n",
      "  warnings.warn(\n",
      "\n"
     ]
    },
    {
     "name": "stdout",
     "output_type": "stream",
     "text": [
      "Validation score: 0.816909                                                                                     \n",
      "Iteration 10, loss = 0.45519886                                                                                \n",
      " 30%|█████████▎                     | 30/100 [8:05:18<22:38:04, 1164.06s/trial, best loss: -0.8172639714107239]"
     ]
    },
    {
     "name": "stderr",
     "output_type": "stream",
     "text": [
      "/home/jindalmadhur26/anaconda3/lib/python3.9/site-packages/sklearn/base.py:445: UserWarning: X does not have valid feature names, but MLPClassifier was fitted with feature names\n",
      "  warnings.warn(\n",
      "\n"
     ]
    },
    {
     "name": "stdout",
     "output_type": "stream",
     "text": [
      "Validation score: 0.816192                                                                                     \n",
      "Iteration 11, loss = 0.45430915                                                                                \n",
      " 30%|█████████▎                     | 30/100 [8:05:46<22:38:04, 1164.06s/trial, best loss: -0.8172639714107239]"
     ]
    },
    {
     "name": "stderr",
     "output_type": "stream",
     "text": [
      "/home/jindalmadhur26/anaconda3/lib/python3.9/site-packages/sklearn/base.py:445: UserWarning: X does not have valid feature names, but MLPClassifier was fitted with feature names\n",
      "  warnings.warn(\n",
      "\n"
     ]
    },
    {
     "name": "stdout",
     "output_type": "stream",
     "text": [
      "Validation score: 0.817755                                                                                     \n",
      "Iteration 12, loss = 0.45374252                                                                                \n",
      " 30%|█████████▎                     | 30/100 [8:06:15<22:38:04, 1164.06s/trial, best loss: -0.8172639714107239]"
     ]
    },
    {
     "name": "stderr",
     "output_type": "stream",
     "text": [
      "/home/jindalmadhur26/anaconda3/lib/python3.9/site-packages/sklearn/base.py:445: UserWarning: X does not have valid feature names, but MLPClassifier was fitted with feature names\n",
      "  warnings.warn(\n",
      "\n"
     ]
    },
    {
     "name": "stdout",
     "output_type": "stream",
     "text": [
      "Validation score: 0.818012                                                                                     \n",
      "Iteration 13, loss = 0.45338636                                                                                \n",
      " 30%|█████████▎                     | 30/100 [8:06:43<22:38:04, 1164.06s/trial, best loss: -0.8172639714107239]"
     ]
    },
    {
     "name": "stderr",
     "output_type": "stream",
     "text": [
      "/home/jindalmadhur26/anaconda3/lib/python3.9/site-packages/sklearn/base.py:445: UserWarning: X does not have valid feature names, but MLPClassifier was fitted with feature names\n",
      "  warnings.warn(\n",
      "\n"
     ]
    },
    {
     "name": "stdout",
     "output_type": "stream",
     "text": [
      "Validation score: 0.816730                                                                                     \n",
      "Iteration 14, loss = 0.45245322                                                                                \n",
      " 30%|█████████▎                     | 30/100 [8:07:10<22:38:04, 1164.06s/trial, best loss: -0.8172639714107239]"
     ]
    },
    {
     "name": "stderr",
     "output_type": "stream",
     "text": [
      "/home/jindalmadhur26/anaconda3/lib/python3.9/site-packages/sklearn/base.py:445: UserWarning: X does not have valid feature names, but MLPClassifier was fitted with feature names\n",
      "  warnings.warn(\n",
      "\n"
     ]
    },
    {
     "name": "stdout",
     "output_type": "stream",
     "text": [
      "Validation score: 0.818294                                                                                     \n",
      "Iteration 15, loss = 0.45203269                                                                                \n",
      " 30%|█████████▎                     | 30/100 [8:07:52<22:38:04, 1164.06s/trial, best loss: -0.8172639714107239]"
     ]
    },
    {
     "name": "stderr",
     "output_type": "stream",
     "text": [
      "/home/jindalmadhur26/anaconda3/lib/python3.9/site-packages/sklearn/base.py:445: UserWarning: X does not have valid feature names, but MLPClassifier was fitted with feature names\n",
      "  warnings.warn(\n",
      "\n"
     ]
    },
    {
     "name": "stdout",
     "output_type": "stream",
     "text": [
      "Validation score: 0.818268                                                                                     \n",
      "Iteration 16, loss = 0.45175822                                                                                \n",
      " 30%|█████████▎                     | 30/100 [8:08:24<22:38:04, 1164.06s/trial, best loss: -0.8172639714107239]"
     ]
    },
    {
     "name": "stderr",
     "output_type": "stream",
     "text": [
      "/home/jindalmadhur26/anaconda3/lib/python3.9/site-packages/sklearn/base.py:445: UserWarning: X does not have valid feature names, but MLPClassifier was fitted with feature names\n",
      "  warnings.warn(\n",
      "\n"
     ]
    },
    {
     "name": "stdout",
     "output_type": "stream",
     "text": [
      "Validation score: 0.818268                                                                                     \n",
      "Iteration 17, loss = 0.45133113                                                                                \n",
      " 30%|█████████▎                     | 30/100 [8:08:53<22:38:04, 1164.06s/trial, best loss: -0.8172639714107239]"
     ]
    },
    {
     "name": "stderr",
     "output_type": "stream",
     "text": [
      "/home/jindalmadhur26/anaconda3/lib/python3.9/site-packages/sklearn/base.py:445: UserWarning: X does not have valid feature names, but MLPClassifier was fitted with feature names\n",
      "  warnings.warn(\n",
      "\n"
     ]
    },
    {
     "name": "stdout",
     "output_type": "stream",
     "text": [
      "Validation score: 0.818242                                                                                     \n",
      "Iteration 18, loss = 0.45080925                                                                                \n",
      " 30%|█████████▎                     | 30/100 [8:09:24<22:38:04, 1164.06s/trial, best loss: -0.8172639714107239]"
     ]
    },
    {
     "name": "stderr",
     "output_type": "stream",
     "text": [
      "/home/jindalmadhur26/anaconda3/lib/python3.9/site-packages/sklearn/base.py:445: UserWarning: X does not have valid feature names, but MLPClassifier was fitted with feature names\n",
      "  warnings.warn(\n",
      "\n"
     ]
    },
    {
     "name": "stdout",
     "output_type": "stream",
     "text": [
      "Validation score: 0.817063                                                                                     \n",
      "Iteration 19, loss = 0.45038183                                                                                \n",
      " 30%|█████████▎                     | 30/100 [8:09:57<22:38:04, 1164.06s/trial, best loss: -0.8172639714107239]"
     ]
    },
    {
     "name": "stderr",
     "output_type": "stream",
     "text": [
      "/home/jindalmadhur26/anaconda3/lib/python3.9/site-packages/sklearn/base.py:445: UserWarning: X does not have valid feature names, but MLPClassifier was fitted with feature names\n",
      "  warnings.warn(\n",
      "\n"
     ]
    },
    {
     "name": "stdout",
     "output_type": "stream",
     "text": [
      "Validation score: 0.818909                                                                                     \n",
      "Iteration 20, loss = 0.45012665                                                                                \n",
      " 30%|█████████▎                     | 30/100 [8:10:27<22:38:04, 1164.06s/trial, best loss: -0.8172639714107239]"
     ]
    },
    {
     "name": "stderr",
     "output_type": "stream",
     "text": [
      "/home/jindalmadhur26/anaconda3/lib/python3.9/site-packages/sklearn/base.py:445: UserWarning: X does not have valid feature names, but MLPClassifier was fitted with feature names\n",
      "  warnings.warn(\n",
      "\n"
     ]
    },
    {
     "name": "stdout",
     "output_type": "stream",
     "text": [
      "Validation score: 0.816884                                                                                     \n",
      "Iteration 21, loss = 0.44949959                                                                                \n",
      " 30%|█████████▎                     | 30/100 [8:11:28<22:38:04, 1164.06s/trial, best loss: -0.8172639714107239]"
     ]
    },
    {
     "name": "stderr",
     "output_type": "stream",
     "text": [
      "/home/jindalmadhur26/anaconda3/lib/python3.9/site-packages/sklearn/base.py:445: UserWarning: X does not have valid feature names, but MLPClassifier was fitted with feature names\n",
      "  warnings.warn(\n",
      "\n"
     ]
    },
    {
     "name": "stdout",
     "output_type": "stream",
     "text": [
      "Validation score: 0.818473                                                                                     \n",
      "Iteration 22, loss = 0.44919533                                                                                \n",
      " 30%|█████████▎                     | 30/100 [8:12:27<22:38:04, 1164.06s/trial, best loss: -0.8172639714107239]"
     ]
    },
    {
     "name": "stderr",
     "output_type": "stream",
     "text": [
      "/home/jindalmadhur26/anaconda3/lib/python3.9/site-packages/sklearn/base.py:445: UserWarning: X does not have valid feature names, but MLPClassifier was fitted with feature names\n",
      "  warnings.warn(\n",
      "\n"
     ]
    },
    {
     "name": "stdout",
     "output_type": "stream",
     "text": [
      "Validation score: 0.818601                                                                                     \n",
      "Iteration 23, loss = 0.44905731                                                                                \n",
      " 30%|█████████▎                     | 30/100 [8:13:15<22:38:04, 1164.06s/trial, best loss: -0.8172639714107239]"
     ]
    },
    {
     "name": "stderr",
     "output_type": "stream",
     "text": [
      "/home/jindalmadhur26/anaconda3/lib/python3.9/site-packages/sklearn/base.py:445: UserWarning: X does not have valid feature names, but MLPClassifier was fitted with feature names\n",
      "  warnings.warn(\n",
      "\n"
     ]
    },
    {
     "name": "stdout",
     "output_type": "stream",
     "text": [
      "Validation score: 0.818217                                                                                     \n",
      "Iteration 24, loss = 0.44837223                                                                                \n",
      " 30%|█████████▎                     | 30/100 [8:13:40<22:38:04, 1164.06s/trial, best loss: -0.8172639714107239]"
     ]
    },
    {
     "name": "stderr",
     "output_type": "stream",
     "text": [
      "/home/jindalmadhur26/anaconda3/lib/python3.9/site-packages/sklearn/base.py:445: UserWarning: X does not have valid feature names, but MLPClassifier was fitted with feature names\n",
      "  warnings.warn(\n",
      "\n"
     ]
    },
    {
     "name": "stdout",
     "output_type": "stream",
     "text": [
      "Validation score: 0.815217                                                                                     \n",
      "Iteration 25, loss = 0.44825318                                                                                \n",
      " 30%|█████████▎                     | 30/100 [8:14:07<22:38:04, 1164.06s/trial, best loss: -0.8172639714107239]"
     ]
    },
    {
     "name": "stderr",
     "output_type": "stream",
     "text": [
      "/home/jindalmadhur26/anaconda3/lib/python3.9/site-packages/sklearn/base.py:445: UserWarning: X does not have valid feature names, but MLPClassifier was fitted with feature names\n",
      "  warnings.warn(\n",
      "\n"
     ]
    },
    {
     "name": "stdout",
     "output_type": "stream",
     "text": [
      "Validation score: 0.817525                                                                                     \n",
      "Iteration 26, loss = 0.44789675                                                                                \n",
      " 30%|█████████▎                     | 30/100 [8:14:29<22:38:04, 1164.06s/trial, best loss: -0.8172639714107239]"
     ]
    },
    {
     "name": "stderr",
     "output_type": "stream",
     "text": [
      "/home/jindalmadhur26/anaconda3/lib/python3.9/site-packages/sklearn/base.py:445: UserWarning: X does not have valid feature names, but MLPClassifier was fitted with feature names\n",
      "  warnings.warn(\n",
      "\n"
     ]
    },
    {
     "name": "stdout",
     "output_type": "stream",
     "text": [
      "Validation score: 0.816909                                                                                     \n",
      "Iteration 27, loss = 0.44741705                                                                                \n",
      " 30%|█████████▎                     | 30/100 [8:14:50<22:38:04, 1164.06s/trial, best loss: -0.8172639714107239]"
     ]
    },
    {
     "name": "stderr",
     "output_type": "stream",
     "text": [
      "/home/jindalmadhur26/anaconda3/lib/python3.9/site-packages/sklearn/base.py:445: UserWarning: X does not have valid feature names, but MLPClassifier was fitted with feature names\n",
      "  warnings.warn(\n",
      "\n"
     ]
    },
    {
     "name": "stdout",
     "output_type": "stream",
     "text": [
      "Validation score: 0.818217                                                                                     \n",
      "Iteration 28, loss = 0.44731655                                                                                \n",
      " 30%|█████████▎                     | 30/100 [8:15:16<22:38:04, 1164.06s/trial, best loss: -0.8172639714107239]"
     ]
    },
    {
     "name": "stderr",
     "output_type": "stream",
     "text": [
      "/home/jindalmadhur26/anaconda3/lib/python3.9/site-packages/sklearn/base.py:445: UserWarning: X does not have valid feature names, but MLPClassifier was fitted with feature names\n",
      "  warnings.warn(\n",
      "\n"
     ]
    },
    {
     "name": "stdout",
     "output_type": "stream",
     "text": [
      "Validation score: 0.817012                                                                                     \n",
      "Iteration 29, loss = 0.44708067                                                                                \n",
      " 30%|█████████▎                     | 30/100 [8:15:38<22:38:04, 1164.06s/trial, best loss: -0.8172639714107239]"
     ]
    },
    {
     "name": "stderr",
     "output_type": "stream",
     "text": [
      "/home/jindalmadhur26/anaconda3/lib/python3.9/site-packages/sklearn/base.py:445: UserWarning: X does not have valid feature names, but MLPClassifier was fitted with feature names\n",
      "  warnings.warn(\n",
      "\n"
     ]
    },
    {
     "name": "stdout",
     "output_type": "stream",
     "text": [
      "Validation score: 0.817960                                                                                     \n",
      "Iteration 30, loss = 0.44668522                                                                                \n",
      " 30%|█████████▎                     | 30/100 [8:16:01<22:38:04, 1164.06s/trial, best loss: -0.8172639714107239]"
     ]
    },
    {
     "name": "stderr",
     "output_type": "stream",
     "text": [
      "/home/jindalmadhur26/anaconda3/lib/python3.9/site-packages/sklearn/base.py:445: UserWarning: X does not have valid feature names, but MLPClassifier was fitted with feature names\n",
      "  warnings.warn(\n",
      "\n"
     ]
    },
    {
     "name": "stdout",
     "output_type": "stream",
     "text": [
      "Validation score: 0.818191                                                                                     \n",
      "Validation score did not improve more than tol=0.000100 for 10 consecutive epochs. Stopping.                   \n",
      "0.8174945395256309                                                                                             \n",
      "0.8172349172683295                                                                                             \n",
      "{'activation': 'logistic', 'alpha': 3.0941279878786557e-08, 'hidden_layer_sizes': 25}                          \n",
      "Iteration 1, loss = 0.48807694                                                                                 \n",
      " 31%|█████████▌                     | 31/100 [8:19:32<21:48:55, 1138.19s/trial, best loss: -0.8172639714107239]"
     ]
    },
    {
     "name": "stderr",
     "output_type": "stream",
     "text": [
      "/home/jindalmadhur26/anaconda3/lib/python3.9/site-packages/sklearn/base.py:445: UserWarning: X does not have valid feature names, but MLPClassifier was fitted with feature names\n",
      "  warnings.warn(\n",
      "\n"
     ]
    },
    {
     "name": "stdout",
     "output_type": "stream",
     "text": [
      "Validation score: 0.811885                                                                                     \n",
      "Iteration 2, loss = 0.46703959                                                                                 \n",
      " 31%|█████████▌                     | 31/100 [8:20:04<21:48:55, 1138.19s/trial, best loss: -0.8172639714107239]"
     ]
    },
    {
     "name": "stderr",
     "output_type": "stream",
     "text": [
      "/home/jindalmadhur26/anaconda3/lib/python3.9/site-packages/sklearn/base.py:445: UserWarning: X does not have valid feature names, but MLPClassifier was fitted with feature names\n",
      "  warnings.warn(\n",
      "\n"
     ]
    },
    {
     "name": "stdout",
     "output_type": "stream",
     "text": [
      "Validation score: 0.812013                                                                                     \n",
      "Iteration 3, loss = 0.46365814                                                                                 \n",
      " 31%|█████████▌                     | 31/100 [8:20:35<21:48:55, 1138.19s/trial, best loss: -0.8172639714107239]"
     ]
    },
    {
     "name": "stderr",
     "output_type": "stream",
     "text": [
      "/home/jindalmadhur26/anaconda3/lib/python3.9/site-packages/sklearn/base.py:445: UserWarning: X does not have valid feature names, but MLPClassifier was fitted with feature names\n",
      "  warnings.warn(\n",
      "\n"
     ]
    },
    {
     "name": "stdout",
     "output_type": "stream",
     "text": [
      "Validation score: 0.814448                                                                                     \n",
      "Iteration 4, loss = 0.46238398                                                                                 \n",
      " 31%|█████████▌                     | 31/100 [8:21:05<21:48:55, 1138.19s/trial, best loss: -0.8172639714107239]"
     ]
    },
    {
     "name": "stderr",
     "output_type": "stream",
     "text": [
      "/home/jindalmadhur26/anaconda3/lib/python3.9/site-packages/sklearn/base.py:445: UserWarning: X does not have valid feature names, but MLPClassifier was fitted with feature names\n",
      "  warnings.warn(\n",
      "\n"
     ]
    },
    {
     "name": "stdout",
     "output_type": "stream",
     "text": [
      "Validation score: 0.813090                                                                                     \n",
      "Iteration 5, loss = 0.46090466                                                                                 \n",
      " 31%|█████████▌                     | 31/100 [8:21:41<21:48:55, 1138.19s/trial, best loss: -0.8172639714107239]"
     ]
    },
    {
     "name": "stderr",
     "output_type": "stream",
     "text": [
      "/home/jindalmadhur26/anaconda3/lib/python3.9/site-packages/sklearn/base.py:445: UserWarning: X does not have valid feature names, but MLPClassifier was fitted with feature names\n",
      "  warnings.warn(\n",
      "\n"
     ]
    },
    {
     "name": "stdout",
     "output_type": "stream",
     "text": [
      "Validation score: 0.813192                                                                                     \n",
      "Iteration 6, loss = 0.45962088                                                                                 \n",
      " 31%|█████████▌                     | 31/100 [8:22:26<21:48:55, 1138.19s/trial, best loss: -0.8172639714107239]"
     ]
    },
    {
     "name": "stderr",
     "output_type": "stream",
     "text": [
      "/home/jindalmadhur26/anaconda3/lib/python3.9/site-packages/sklearn/base.py:445: UserWarning: X does not have valid feature names, but MLPClassifier was fitted with feature names\n",
      "  warnings.warn(\n",
      "\n"
     ]
    },
    {
     "name": "stdout",
     "output_type": "stream",
     "text": [
      "Validation score: 0.815628                                                                                     \n",
      "Iteration 7, loss = 0.45836871                                                                                 \n",
      " 31%|█████████▌                     | 31/100 [8:23:12<21:48:55, 1138.19s/trial, best loss: -0.8172639714107239]"
     ]
    },
    {
     "name": "stderr",
     "output_type": "stream",
     "text": [
      "/home/jindalmadhur26/anaconda3/lib/python3.9/site-packages/sklearn/base.py:445: UserWarning: X does not have valid feature names, but MLPClassifier was fitted with feature names\n",
      "  warnings.warn(\n",
      "\n"
     ]
    },
    {
     "name": "stdout",
     "output_type": "stream",
     "text": [
      "Validation score: 0.813679                                                                                     \n",
      "Iteration 8, loss = 0.45738748                                                                                 \n",
      " 31%|█████████▌                     | 31/100 [8:23:58<21:48:55, 1138.19s/trial, best loss: -0.8172639714107239]"
     ]
    },
    {
     "name": "stderr",
     "output_type": "stream",
     "text": [
      "/home/jindalmadhur26/anaconda3/lib/python3.9/site-packages/sklearn/base.py:445: UserWarning: X does not have valid feature names, but MLPClassifier was fitted with feature names\n",
      "  warnings.warn(\n",
      "\n"
     ]
    },
    {
     "name": "stdout",
     "output_type": "stream",
     "text": [
      "Validation score: 0.814346                                                                                     \n",
      "Iteration 9, loss = 0.45671913                                                                                 \n",
      " 31%|█████████▌                     | 31/100 [8:24:44<21:48:55, 1138.19s/trial, best loss: -0.8172639714107239]"
     ]
    },
    {
     "name": "stderr",
     "output_type": "stream",
     "text": [
      "/home/jindalmadhur26/anaconda3/lib/python3.9/site-packages/sklearn/base.py:445: UserWarning: X does not have valid feature names, but MLPClassifier was fitted with feature names\n",
      "  warnings.warn(\n",
      "\n"
     ]
    },
    {
     "name": "stdout",
     "output_type": "stream",
     "text": [
      "Validation score: 0.813372                                                                                     \n",
      " 31%|█████████▌                     | 31/100 [8:24:44<21:48:55, 1138.19s/trial, best loss: -0.8172639714107239]"
     ]
    }
   ],
   "source": [
    "\n",
    "def objective(params):\n",
    "\n",
    "    model=MLPClassifier(random_state=59,\n",
    "                     verbose=True,\n",
    "                      max_iter=100,\n",
    "                      learning_rate_init=0.001,\n",
    "                      learning_rate='adaptive',\n",
    "                      hidden_layer_sizes=(20 + params['hidden_layer_sizes'], 20 + params['hidden_layer_sizes']//2),\n",
    "                      alpha=float(params['alpha']),\n",
    "                        early_stopping=True,\n",
    "                        activation=params['activation'],\n",
    "                 )\n",
    "    model.fit(x_train_1, y_train_1.values.reshape(-1))\n",
    "    preds_tr = model.predict(x_train_1,)\n",
    "    preds_val = model.predict(x_val)\n",
    "    val_score = accuracy_score(y_val, preds_val)\n",
    "    tr_score = accuracy_score(y_train_1, preds_tr)\n",
    "    print(tr_score, val_score, params)\n",
    "    return -1.0*val_score\n",
    "\n",
    "def optimize(trial):\n",
    "    space_mlp = {}\n",
    "    space_mlp['hidden_layer_sizes'] = hp.randint('hidden_layer_sizes0', 60)\n",
    "#     space_mlp['hidden_layer_sizes'] = (20 + hp.randint('hidden_layer_sizes0', 60), 20 + hp.randint('hidden_layer_sizes', 60)//2)\n",
    "    space_mlp['alpha'] = hp.loguniform('alpha', -8*np.log(10), 3*np.log(10))\n",
    "    space_mlp['activation'] = hp.choice('activation', ['relu', 'logistic', 'tanh'])\n",
    "    best=fmin(fn=objective,space=space_mlp,algo=tpe.suggest,trials=trial,max_evals=100,rstate=np.random.default_rng(59))\n",
    "    return best\n",
    "\n",
    "trial=Trials()\n",
    "best=optimize(trial)"
   ]
  },
  {
   "cell_type": "markdown",
   "id": "79759d5b",
   "metadata": {},
   "source": [
    "{'activation': 'logistic', 'alpha': 0.00033817727171933074, 'hidden_layer_sizes': 37}  "
   ]
  },
  {
   "cell_type": "code",
   "execution_count": null,
   "id": "1edb6d6d",
   "metadata": {},
   "outputs": [],
   "source": []
  }
 ],
 "metadata": {
  "kernelspec": {
   "display_name": "Python 3 (ipykernel)",
   "language": "python",
   "name": "python3"
  },
  "language_info": {
   "codemirror_mode": {
    "name": "ipython",
    "version": 3
   },
   "file_extension": ".py",
   "mimetype": "text/x-python",
   "name": "python",
   "nbconvert_exporter": "python",
   "pygments_lexer": "ipython3",
   "version": "3.9.12"
  }
 },
 "nbformat": 4,
 "nbformat_minor": 5
}
