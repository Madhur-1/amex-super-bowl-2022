{
 "cells": [
  {
   "cell_type": "code",
   "execution_count": 2,
   "id": "e57076a7",
   "metadata": {},
   "outputs": [],
   "source": [
    "import numpy as np\n",
    "import pandas as pd\n",
    "# library for splitting training-testing\n",
    "from sklearn.model_selection import train_test_split\n",
    "# library for classification\n",
    "from sklearn.metrics import accuracy_score\n",
    "\n",
    "from sklearn.discriminant_analysis import QuadraticDiscriminantAnalysis\n",
    "from sklearn.decomposition import PCA\n",
    "\n",
    "from sklearn.model_selection import GridSearchCV, PredefinedSplit\n",
    "from sklearn.preprocessing import StandardScaler\n",
    "from sklearn import pipeline\n",
    "from lightgbm import LGBMClassifier\n",
    "\n",
    "from hyperopt import tpe,hp,Trials\n",
    "from hyperopt.fmin import fmin\n",
    "import warnings"
   ]
  },
  {
   "cell_type": "code",
   "execution_count": 3,
   "id": "6be1d608",
   "metadata": {},
   "outputs": [],
   "source": [
    "x_train = pd.read_feather(\"Data/x_train__IterativeImputer_genFeats.ftr\")\n",
    "x_test = pd.read_feather(\"Data/x_test__IterativeImputer_genFeats.ftr\")\n",
    "\n",
    "x_tr = pd.read_csv(\"Preds/preds_train.csv\")\n",
    "x_val_1 = pd.read_csv(\"Preds/preds_val.csv\")\n",
    "x_test_1 = pd.read_csv(\"Preds/preds_test.csv\")\n",
    "\n",
    "y_train = pd.read_csv(\"Data/train_y.csv\")\n",
    "y_test = pd.read_csv(\"Data/Sample_Output.csv\", names = ['ID', 'Target'], header=None)"
   ]
  },
  {
   "cell_type": "code",
   "execution_count": 4,
   "id": "bfe67874",
   "metadata": {},
   "outputs": [],
   "source": [
    "x_train_1, x_val, y_train_1, y_val = train_test_split(x_train, y_train, test_size=0.15, random_state=59, stratify=y_train)"
   ]
  },
  {
   "cell_type": "code",
   "execution_count": 5,
   "id": "a8b96fdf",
   "metadata": {},
   "outputs": [],
   "source": [
    "x_train_1 = pd.concat([x_train_1.reset_index(drop=True), x_tr], axis=1)\n",
    "x_val = pd.concat([x_val.reset_index(drop=True), x_val_1], axis=1)\n",
    "x_test = pd.concat([x_test.reset_index(drop=True), x_test_1], axis=1)"
   ]
  },
  {
   "cell_type": "code",
   "execution_count": 8,
   "id": "901f3e5b",
   "metadata": {},
   "outputs": [],
   "source": [
    "pipe = pipeline.Pipeline([('scl', StandardScaler()), \n",
    "                         ('qda', QuadraticDiscriminantAnalysis())],\n",
    "                       verbose=True,\n",
    "                       )"
   ]
  },
  {
   "cell_type": "code",
   "execution_count": 9,
   "id": "759d9f9f",
   "metadata": {},
   "outputs": [
    {
     "name": "stdout",
     "output_type": "stream",
     "text": [
      "[Pipeline] ............... (step 1 of 2) Processing scl, total=   0.3s\n"
     ]
    },
    {
     "name": "stderr",
     "output_type": "stream",
     "text": [
      "/home/jindalmadhur26/anaconda3/lib/python3.9/site-packages/sklearn/discriminant_analysis.py:878: UserWarning: Variables are collinear\n",
      "  warnings.warn(\"Variables are collinear\")\n"
     ]
    },
    {
     "name": "stdout",
     "output_type": "stream",
     "text": [
      "[Pipeline] ............... (step 2 of 2) Processing qda, total=   1.1s\n"
     ]
    },
    {
     "data": {
      "text/plain": [
       "Pipeline(steps=[('scl', StandardScaler()),\n",
       "                ('qda', QuadraticDiscriminantAnalysis())],\n",
       "         verbose=True)"
      ]
     },
     "execution_count": 9,
     "metadata": {},
     "output_type": "execute_result"
    }
   ],
   "source": [
    "pipe.fit(x_tr,y_train_1.values.reshape(-1))"
   ]
  },
  {
   "cell_type": "code",
   "execution_count": 11,
   "id": "839f8e9e",
   "metadata": {},
   "outputs": [],
   "source": [
    "preds_tr = pipe.predict(x_tr,)\n",
    "preds_val = pipe.predict(x_val_1)"
   ]
  },
  {
   "cell_type": "code",
   "execution_count": 12,
   "id": "4b82c0d2",
   "metadata": {},
   "outputs": [
    {
     "data": {
      "text/plain": [
       "0.2074723899957957"
      ]
     },
     "execution_count": 12,
     "metadata": {},
     "output_type": "execute_result"
    }
   ],
   "source": [
    "accuracy_score(y_train_1, preds_tr)"
   ]
  },
  {
   "cell_type": "code",
   "execution_count": 13,
   "id": "e1c1b777",
   "metadata": {
    "scrolled": true
   },
   "outputs": [
    {
     "data": {
      "text/plain": [
       "0.21170300855644494"
      ]
     },
     "execution_count": 13,
     "metadata": {},
     "output_type": "execute_result"
    }
   ],
   "source": [
    "accuracy_score(y_val, preds_val)"
   ]
  },
  {
   "cell_type": "code",
   "execution_count": null,
   "id": "85a45278",
   "metadata": {},
   "outputs": [],
   "source": [
    "pipe.predict()"
   ]
  },
  {
   "cell_type": "code",
   "execution_count": 14,
   "id": "060e3ed9",
   "metadata": {},
   "outputs": [
    {
     "name": "stderr",
     "output_type": "stream",
     "text": [
      "/home/jindalmadhur26/anaconda3/lib/python3.9/site-packages/lightgbm/sklearn.py:726: UserWarning: 'early_stopping_rounds' argument is deprecated and will be removed in a future release of LightGBM. Pass 'early_stopping()' callback via 'callbacks' argument instead.\n",
      "  _log_warning(\"'early_stopping_rounds' argument is deprecated and will be removed in a future release of LightGBM. \"\n",
      "/home/jindalmadhur26/anaconda3/lib/python3.9/site-packages/lightgbm/sklearn.py:736: UserWarning: 'verbose' argument is deprecated and will be removed in a future release of LightGBM. Pass 'log_evaluation()' callback via 'callbacks' argument instead.\n",
      "  _log_warning(\"'verbose' argument is deprecated and will be removed in a future release of LightGBM. \"\n"
     ]
    },
    {
     "name": "stdout",
     "output_type": "stream",
     "text": [
      "[1]\tvalid_0's multi_logloss: 0.809338\tvalid_1's multi_logloss: 0.809506\n",
      "[2]\tvalid_0's multi_logloss: 0.773751\tvalid_1's multi_logloss: 0.774106\n",
      "[3]\tvalid_0's multi_logloss: 0.744055\tvalid_1's multi_logloss: 0.744591\n",
      "[4]\tvalid_0's multi_logloss: 0.718559\tvalid_1's multi_logloss: 0.71929\n",
      "[5]\tvalid_0's multi_logloss: 0.696536\tvalid_1's multi_logloss: 0.697507\n",
      "[6]\tvalid_0's multi_logloss: 0.677077\tvalid_1's multi_logloss: 0.678234\n",
      "[7]\tvalid_0's multi_logloss: 0.659963\tvalid_1's multi_logloss: 0.661316\n",
      "[8]\tvalid_0's multi_logloss: 0.644045\tvalid_1's multi_logloss: 0.645566\n",
      "[9]\tvalid_0's multi_logloss: 0.629871\tvalid_1's multi_logloss: 0.631601\n",
      "[10]\tvalid_0's multi_logloss: 0.617197\tvalid_1's multi_logloss: 0.619105\n",
      "[11]\tvalid_0's multi_logloss: 0.60545\tvalid_1's multi_logloss: 0.60754\n",
      "[12]\tvalid_0's multi_logloss: 0.594796\tvalid_1's multi_logloss: 0.597066\n",
      "[13]\tvalid_0's multi_logloss: 0.584992\tvalid_1's multi_logloss: 0.587412\n",
      "[14]\tvalid_0's multi_logloss: 0.575775\tvalid_1's multi_logloss: 0.578385\n",
      "[15]\tvalid_0's multi_logloss: 0.567373\tvalid_1's multi_logloss: 0.570171\n",
      "[16]\tvalid_0's multi_logloss: 0.559636\tvalid_1's multi_logloss: 0.562556\n",
      "[17]\tvalid_0's multi_logloss: 0.552516\tvalid_1's multi_logloss: 0.555646\n",
      "[18]\tvalid_0's multi_logloss: 0.545982\tvalid_1's multi_logloss: 0.549297\n",
      "[19]\tvalid_0's multi_logloss: 0.53996\tvalid_1's multi_logloss: 0.543444\n",
      "[20]\tvalid_0's multi_logloss: 0.534365\tvalid_1's multi_logloss: 0.538002\n",
      "[21]\tvalid_0's multi_logloss: 0.52911\tvalid_1's multi_logloss: 0.532945\n",
      "[22]\tvalid_0's multi_logloss: 0.524258\tvalid_1's multi_logloss: 0.528307\n",
      "[23]\tvalid_0's multi_logloss: 0.519683\tvalid_1's multi_logloss: 0.523953\n",
      "[24]\tvalid_0's multi_logloss: 0.515376\tvalid_1's multi_logloss: 0.519856\n",
      "[25]\tvalid_0's multi_logloss: 0.511404\tvalid_1's multi_logloss: 0.516104\n",
      "[26]\tvalid_0's multi_logloss: 0.507672\tvalid_1's multi_logloss: 0.512547\n",
      "[27]\tvalid_0's multi_logloss: 0.504192\tvalid_1's multi_logloss: 0.509223\n",
      "[28]\tvalid_0's multi_logloss: 0.500911\tvalid_1's multi_logloss: 0.506151\n",
      "[29]\tvalid_0's multi_logloss: 0.49782\tvalid_1's multi_logloss: 0.50324\n",
      "[30]\tvalid_0's multi_logloss: 0.494896\tvalid_1's multi_logloss: 0.500565\n",
      "[31]\tvalid_0's multi_logloss: 0.492156\tvalid_1's multi_logloss: 0.498042\n",
      "[32]\tvalid_0's multi_logloss: 0.4896\tvalid_1's multi_logloss: 0.495663\n",
      "[33]\tvalid_0's multi_logloss: 0.487162\tvalid_1's multi_logloss: 0.493439\n",
      "[34]\tvalid_0's multi_logloss: 0.484881\tvalid_1's multi_logloss: 0.491363\n",
      "[35]\tvalid_0's multi_logloss: 0.482751\tvalid_1's multi_logloss: 0.489443\n",
      "[36]\tvalid_0's multi_logloss: 0.48073\tvalid_1's multi_logloss: 0.487647\n",
      "[37]\tvalid_0's multi_logloss: 0.478802\tvalid_1's multi_logloss: 0.485919\n",
      "[38]\tvalid_0's multi_logloss: 0.476965\tvalid_1's multi_logloss: 0.484295\n",
      "[39]\tvalid_0's multi_logloss: 0.475237\tvalid_1's multi_logloss: 0.482771\n",
      "[40]\tvalid_0's multi_logloss: 0.473568\tvalid_1's multi_logloss: 0.481357\n",
      "[41]\tvalid_0's multi_logloss: 0.471982\tvalid_1's multi_logloss: 0.480009\n",
      "[42]\tvalid_0's multi_logloss: 0.470457\tvalid_1's multi_logloss: 0.478691\n",
      "[43]\tvalid_0's multi_logloss: 0.469009\tvalid_1's multi_logloss: 0.477467\n",
      "[44]\tvalid_0's multi_logloss: 0.467637\tvalid_1's multi_logloss: 0.476328\n",
      "[45]\tvalid_0's multi_logloss: 0.466309\tvalid_1's multi_logloss: 0.475247\n",
      "[46]\tvalid_0's multi_logloss: 0.465054\tvalid_1's multi_logloss: 0.474236\n",
      "[47]\tvalid_0's multi_logloss: 0.463855\tvalid_1's multi_logloss: 0.473288\n",
      "[48]\tvalid_0's multi_logloss: 0.462724\tvalid_1's multi_logloss: 0.472371\n",
      "[49]\tvalid_0's multi_logloss: 0.46159\tvalid_1's multi_logloss: 0.47148\n",
      "[50]\tvalid_0's multi_logloss: 0.46054\tvalid_1's multi_logloss: 0.470702\n",
      "[51]\tvalid_0's multi_logloss: 0.45952\tvalid_1's multi_logloss: 0.469914\n",
      "[52]\tvalid_0's multi_logloss: 0.45853\tvalid_1's multi_logloss: 0.469161\n",
      "[53]\tvalid_0's multi_logloss: 0.457567\tvalid_1's multi_logloss: 0.468433\n",
      "[54]\tvalid_0's multi_logloss: 0.456675\tvalid_1's multi_logloss: 0.467779\n",
      "[55]\tvalid_0's multi_logloss: 0.45581\tvalid_1's multi_logloss: 0.467145\n",
      "[56]\tvalid_0's multi_logloss: 0.454924\tvalid_1's multi_logloss: 0.466536\n",
      "[57]\tvalid_0's multi_logloss: 0.454082\tvalid_1's multi_logloss: 0.465939\n",
      "[58]\tvalid_0's multi_logloss: 0.453284\tvalid_1's multi_logloss: 0.465388\n",
      "[59]\tvalid_0's multi_logloss: 0.452493\tvalid_1's multi_logloss: 0.464845\n",
      "[60]\tvalid_0's multi_logloss: 0.451731\tvalid_1's multi_logloss: 0.464305\n",
      "[61]\tvalid_0's multi_logloss: 0.450971\tvalid_1's multi_logloss: 0.463803\n",
      "[62]\tvalid_0's multi_logloss: 0.450248\tvalid_1's multi_logloss: 0.46333\n",
      "[63]\tvalid_0's multi_logloss: 0.449566\tvalid_1's multi_logloss: 0.462892\n",
      "[64]\tvalid_0's multi_logloss: 0.448902\tvalid_1's multi_logloss: 0.462492\n",
      "[65]\tvalid_0's multi_logloss: 0.448228\tvalid_1's multi_logloss: 0.462064\n",
      "[66]\tvalid_0's multi_logloss: 0.447585\tvalid_1's multi_logloss: 0.461673\n",
      "[67]\tvalid_0's multi_logloss: 0.446949\tvalid_1's multi_logloss: 0.461301\n",
      "[68]\tvalid_0's multi_logloss: 0.44635\tvalid_1's multi_logloss: 0.460964\n",
      "[69]\tvalid_0's multi_logloss: 0.445753\tvalid_1's multi_logloss: 0.460633\n",
      "[70]\tvalid_0's multi_logloss: 0.445157\tvalid_1's multi_logloss: 0.460324\n",
      "[71]\tvalid_0's multi_logloss: 0.444573\tvalid_1's multi_logloss: 0.459998\n",
      "[72]\tvalid_0's multi_logloss: 0.444018\tvalid_1's multi_logloss: 0.459707\n",
      "[73]\tvalid_0's multi_logloss: 0.443458\tvalid_1's multi_logloss: 0.459418\n",
      "[74]\tvalid_0's multi_logloss: 0.442908\tvalid_1's multi_logloss: 0.459141\n",
      "[75]\tvalid_0's multi_logloss: 0.442373\tvalid_1's multi_logloss: 0.458848\n",
      "[76]\tvalid_0's multi_logloss: 0.441814\tvalid_1's multi_logloss: 0.458567\n",
      "[77]\tvalid_0's multi_logloss: 0.44129\tvalid_1's multi_logloss: 0.458315\n",
      "[78]\tvalid_0's multi_logloss: 0.440773\tvalid_1's multi_logloss: 0.45804\n",
      "[79]\tvalid_0's multi_logloss: 0.440274\tvalid_1's multi_logloss: 0.457797\n",
      "[80]\tvalid_0's multi_logloss: 0.439767\tvalid_1's multi_logloss: 0.457518\n",
      "[81]\tvalid_0's multi_logloss: 0.439283\tvalid_1's multi_logloss: 0.457284\n",
      "[82]\tvalid_0's multi_logloss: 0.438781\tvalid_1's multi_logloss: 0.457069\n",
      "[83]\tvalid_0's multi_logloss: 0.438298\tvalid_1's multi_logloss: 0.456804\n",
      "[84]\tvalid_0's multi_logloss: 0.43781\tvalid_1's multi_logloss: 0.456568\n",
      "[85]\tvalid_0's multi_logloss: 0.437332\tvalid_1's multi_logloss: 0.456349\n",
      "[86]\tvalid_0's multi_logloss: 0.436867\tvalid_1's multi_logloss: 0.456171\n",
      "[87]\tvalid_0's multi_logloss: 0.43639\tvalid_1's multi_logloss: 0.455978\n",
      "[88]\tvalid_0's multi_logloss: 0.435932\tvalid_1's multi_logloss: 0.455804\n",
      "[89]\tvalid_0's multi_logloss: 0.435502\tvalid_1's multi_logloss: 0.455664\n",
      "[90]\tvalid_0's multi_logloss: 0.435054\tvalid_1's multi_logloss: 0.455488\n",
      "[91]\tvalid_0's multi_logloss: 0.434617\tvalid_1's multi_logloss: 0.455342\n",
      "[92]\tvalid_0's multi_logloss: 0.434196\tvalid_1's multi_logloss: 0.455192\n",
      "[93]\tvalid_0's multi_logloss: 0.433765\tvalid_1's multi_logloss: 0.455046\n",
      "[94]\tvalid_0's multi_logloss: 0.433354\tvalid_1's multi_logloss: 0.454896\n",
      "[95]\tvalid_0's multi_logloss: 0.43294\tvalid_1's multi_logloss: 0.454767\n",
      "[96]\tvalid_0's multi_logloss: 0.432512\tvalid_1's multi_logloss: 0.454639\n",
      "[97]\tvalid_0's multi_logloss: 0.432099\tvalid_1's multi_logloss: 0.454521\n",
      "[98]\tvalid_0's multi_logloss: 0.431698\tvalid_1's multi_logloss: 0.454387\n",
      "[99]\tvalid_0's multi_logloss: 0.431271\tvalid_1's multi_logloss: 0.454251\n",
      "[100]\tvalid_0's multi_logloss: 0.430872\tvalid_1's multi_logloss: 0.454118\n",
      "[101]\tvalid_0's multi_logloss: 0.430465\tvalid_1's multi_logloss: 0.453977\n",
      "[102]\tvalid_0's multi_logloss: 0.43005\tvalid_1's multi_logloss: 0.453857\n",
      "[103]\tvalid_0's multi_logloss: 0.429663\tvalid_1's multi_logloss: 0.453751\n",
      "[104]\tvalid_0's multi_logloss: 0.429282\tvalid_1's multi_logloss: 0.453654\n",
      "[105]\tvalid_0's multi_logloss: 0.428876\tvalid_1's multi_logloss: 0.45354\n",
      "[106]\tvalid_0's multi_logloss: 0.428477\tvalid_1's multi_logloss: 0.453416\n",
      "[107]\tvalid_0's multi_logloss: 0.428097\tvalid_1's multi_logloss: 0.453318\n",
      "[108]\tvalid_0's multi_logloss: 0.427726\tvalid_1's multi_logloss: 0.453212\n",
      "[109]\tvalid_0's multi_logloss: 0.427354\tvalid_1's multi_logloss: 0.453122\n",
      "[110]\tvalid_0's multi_logloss: 0.426982\tvalid_1's multi_logloss: 0.453041\n",
      "[111]\tvalid_0's multi_logloss: 0.42662\tvalid_1's multi_logloss: 0.45297\n",
      "[112]\tvalid_0's multi_logloss: 0.426265\tvalid_1's multi_logloss: 0.452868\n",
      "[113]\tvalid_0's multi_logloss: 0.425889\tvalid_1's multi_logloss: 0.452787\n"
     ]
    },
    {
     "name": "stdout",
     "output_type": "stream",
     "text": [
      "[114]\tvalid_0's multi_logloss: 0.425519\tvalid_1's multi_logloss: 0.45266\n",
      "[115]\tvalid_0's multi_logloss: 0.425133\tvalid_1's multi_logloss: 0.452572\n",
      "[116]\tvalid_0's multi_logloss: 0.424785\tvalid_1's multi_logloss: 0.452483\n",
      "[117]\tvalid_0's multi_logloss: 0.424411\tvalid_1's multi_logloss: 0.452387\n",
      "[118]\tvalid_0's multi_logloss: 0.424037\tvalid_1's multi_logloss: 0.452296\n",
      "[119]\tvalid_0's multi_logloss: 0.42368\tvalid_1's multi_logloss: 0.452195\n",
      "[120]\tvalid_0's multi_logloss: 0.423339\tvalid_1's multi_logloss: 0.452136\n",
      "[121]\tvalid_0's multi_logloss: 0.422981\tvalid_1's multi_logloss: 0.452047\n",
      "[122]\tvalid_0's multi_logloss: 0.422626\tvalid_1's multi_logloss: 0.451973\n",
      "[123]\tvalid_0's multi_logloss: 0.422282\tvalid_1's multi_logloss: 0.45189\n",
      "[124]\tvalid_0's multi_logloss: 0.421934\tvalid_1's multi_logloss: 0.451832\n",
      "[125]\tvalid_0's multi_logloss: 0.421609\tvalid_1's multi_logloss: 0.451761\n",
      "[126]\tvalid_0's multi_logloss: 0.421243\tvalid_1's multi_logloss: 0.451692\n",
      "[127]\tvalid_0's multi_logloss: 0.420899\tvalid_1's multi_logloss: 0.451609\n",
      "[128]\tvalid_0's multi_logloss: 0.42057\tvalid_1's multi_logloss: 0.451531\n",
      "[129]\tvalid_0's multi_logloss: 0.420248\tvalid_1's multi_logloss: 0.451467\n",
      "[130]\tvalid_0's multi_logloss: 0.419892\tvalid_1's multi_logloss: 0.451379\n",
      "[131]\tvalid_0's multi_logloss: 0.41957\tvalid_1's multi_logloss: 0.451339\n",
      "[132]\tvalid_0's multi_logloss: 0.419218\tvalid_1's multi_logloss: 0.451241\n",
      "[133]\tvalid_0's multi_logloss: 0.418896\tvalid_1's multi_logloss: 0.451183\n",
      "[134]\tvalid_0's multi_logloss: 0.418557\tvalid_1's multi_logloss: 0.451105\n",
      "[135]\tvalid_0's multi_logloss: 0.41822\tvalid_1's multi_logloss: 0.451043\n",
      "[136]\tvalid_0's multi_logloss: 0.417899\tvalid_1's multi_logloss: 0.450975\n",
      "[137]\tvalid_0's multi_logloss: 0.417595\tvalid_1's multi_logloss: 0.450919\n",
      "[138]\tvalid_0's multi_logloss: 0.417282\tvalid_1's multi_logloss: 0.450862\n",
      "[139]\tvalid_0's multi_logloss: 0.416966\tvalid_1's multi_logloss: 0.450791\n",
      "[140]\tvalid_0's multi_logloss: 0.41664\tvalid_1's multi_logloss: 0.450741\n",
      "[141]\tvalid_0's multi_logloss: 0.416337\tvalid_1's multi_logloss: 0.450682\n",
      "[142]\tvalid_0's multi_logloss: 0.416019\tvalid_1's multi_logloss: 0.450638\n",
      "[143]\tvalid_0's multi_logloss: 0.415703\tvalid_1's multi_logloss: 0.450581\n",
      "[144]\tvalid_0's multi_logloss: 0.415413\tvalid_1's multi_logloss: 0.450545\n",
      "[145]\tvalid_0's multi_logloss: 0.41512\tvalid_1's multi_logloss: 0.450502\n",
      "[146]\tvalid_0's multi_logloss: 0.414817\tvalid_1's multi_logloss: 0.45048\n",
      "[147]\tvalid_0's multi_logloss: 0.414502\tvalid_1's multi_logloss: 0.450433\n",
      "[148]\tvalid_0's multi_logloss: 0.414189\tvalid_1's multi_logloss: 0.450376\n",
      "[149]\tvalid_0's multi_logloss: 0.413863\tvalid_1's multi_logloss: 0.450317\n",
      "[150]\tvalid_0's multi_logloss: 0.413573\tvalid_1's multi_logloss: 0.450302\n",
      "[151]\tvalid_0's multi_logloss: 0.413276\tvalid_1's multi_logloss: 0.450256\n",
      "[152]\tvalid_0's multi_logloss: 0.41296\tvalid_1's multi_logloss: 0.450219\n",
      "[153]\tvalid_0's multi_logloss: 0.412665\tvalid_1's multi_logloss: 0.450184\n",
      "[154]\tvalid_0's multi_logloss: 0.41235\tvalid_1's multi_logloss: 0.450135\n",
      "[155]\tvalid_0's multi_logloss: 0.41206\tvalid_1's multi_logloss: 0.450101\n",
      "[156]\tvalid_0's multi_logloss: 0.411771\tvalid_1's multi_logloss: 0.450072\n",
      "[157]\tvalid_0's multi_logloss: 0.411493\tvalid_1's multi_logloss: 0.45005\n",
      "[158]\tvalid_0's multi_logloss: 0.411206\tvalid_1's multi_logloss: 0.450022\n",
      "[159]\tvalid_0's multi_logloss: 0.410916\tvalid_1's multi_logloss: 0.449996\n",
      "[160]\tvalid_0's multi_logloss: 0.410613\tvalid_1's multi_logloss: 0.449951\n",
      "[161]\tvalid_0's multi_logloss: 0.410317\tvalid_1's multi_logloss: 0.449905\n",
      "[162]\tvalid_0's multi_logloss: 0.410036\tvalid_1's multi_logloss: 0.449863\n",
      "[163]\tvalid_0's multi_logloss: 0.409743\tvalid_1's multi_logloss: 0.449843\n",
      "[164]\tvalid_0's multi_logloss: 0.409454\tvalid_1's multi_logloss: 0.449805\n",
      "[165]\tvalid_0's multi_logloss: 0.409174\tvalid_1's multi_logloss: 0.449769\n",
      "[166]\tvalid_0's multi_logloss: 0.408889\tvalid_1's multi_logloss: 0.449736\n",
      "[167]\tvalid_0's multi_logloss: 0.408588\tvalid_1's multi_logloss: 0.449693\n",
      "[168]\tvalid_0's multi_logloss: 0.408301\tvalid_1's multi_logloss: 0.449658\n",
      "[169]\tvalid_0's multi_logloss: 0.408025\tvalid_1's multi_logloss: 0.449637\n",
      "[170]\tvalid_0's multi_logloss: 0.407745\tvalid_1's multi_logloss: 0.449605\n",
      "[171]\tvalid_0's multi_logloss: 0.407464\tvalid_1's multi_logloss: 0.449586\n",
      "[172]\tvalid_0's multi_logloss: 0.407178\tvalid_1's multi_logloss: 0.449577\n",
      "[173]\tvalid_0's multi_logloss: 0.406909\tvalid_1's multi_logloss: 0.449564\n",
      "[174]\tvalid_0's multi_logloss: 0.406631\tvalid_1's multi_logloss: 0.449536\n",
      "[175]\tvalid_0's multi_logloss: 0.406352\tvalid_1's multi_logloss: 0.449516\n",
      "[176]\tvalid_0's multi_logloss: 0.406076\tvalid_1's multi_logloss: 0.449492\n",
      "[177]\tvalid_0's multi_logloss: 0.405806\tvalid_1's multi_logloss: 0.449483\n",
      "[178]\tvalid_0's multi_logloss: 0.405533\tvalid_1's multi_logloss: 0.449452\n",
      "[179]\tvalid_0's multi_logloss: 0.405259\tvalid_1's multi_logloss: 0.44943\n",
      "[180]\tvalid_0's multi_logloss: 0.405\tvalid_1's multi_logloss: 0.449398\n",
      "[181]\tvalid_0's multi_logloss: 0.404727\tvalid_1's multi_logloss: 0.449377\n",
      "[182]\tvalid_0's multi_logloss: 0.40445\tvalid_1's multi_logloss: 0.449339\n",
      "[183]\tvalid_0's multi_logloss: 0.404165\tvalid_1's multi_logloss: 0.449312\n",
      "[184]\tvalid_0's multi_logloss: 0.403871\tvalid_1's multi_logloss: 0.449284\n",
      "[185]\tvalid_0's multi_logloss: 0.4036\tvalid_1's multi_logloss: 0.449245\n",
      "[186]\tvalid_0's multi_logloss: 0.40334\tvalid_1's multi_logloss: 0.449218\n",
      "[187]\tvalid_0's multi_logloss: 0.403055\tvalid_1's multi_logloss: 0.449182\n",
      "[188]\tvalid_0's multi_logloss: 0.402801\tvalid_1's multi_logloss: 0.449172\n",
      "[189]\tvalid_0's multi_logloss: 0.40253\tvalid_1's multi_logloss: 0.449171\n",
      "[190]\tvalid_0's multi_logloss: 0.402266\tvalid_1's multi_logloss: 0.449139\n",
      "[191]\tvalid_0's multi_logloss: 0.402001\tvalid_1's multi_logloss: 0.449075\n",
      "[192]\tvalid_0's multi_logloss: 0.401744\tvalid_1's multi_logloss: 0.449061\n",
      "[193]\tvalid_0's multi_logloss: 0.401487\tvalid_1's multi_logloss: 0.449063\n",
      "[194]\tvalid_0's multi_logloss: 0.401206\tvalid_1's multi_logloss: 0.449033\n",
      "[195]\tvalid_0's multi_logloss: 0.400935\tvalid_1's multi_logloss: 0.44903\n",
      "[196]\tvalid_0's multi_logloss: 0.400675\tvalid_1's multi_logloss: 0.449005\n",
      "[197]\tvalid_0's multi_logloss: 0.400396\tvalid_1's multi_logloss: 0.448956\n",
      "[198]\tvalid_0's multi_logloss: 0.400125\tvalid_1's multi_logloss: 0.448959\n",
      "[199]\tvalid_0's multi_logloss: 0.399858\tvalid_1's multi_logloss: 0.448949\n",
      "[200]\tvalid_0's multi_logloss: 0.399586\tvalid_1's multi_logloss: 0.448954\n",
      "0.8418282591084815 0.8184406641776951\n"
     ]
    }
   ],
   "source": [
    "model = LGBMClassifier(**bestParams)\n",
    "    \n",
    "model.fit(x_train_1, \n",
    "          y_train_1.values.reshape(-1), \n",
    "          eval_set=[(x_train_1, y_train_1.values.reshape(-1)), (x_val, y_val.values.reshape(-1))], \n",
    "          verbose=1, early_stopping_rounds=10)\n",
    "\n",
    "preds_tr = model.predict(x_train_1,)\n",
    "preds_val = model.predict(x_val)\n",
    "val_score = accuracy_score(y_val, preds_val)\n",
    "tr_score = accuracy_score(y_train_1, preds_tr)\n",
    "print(tr_score, val_score)"
   ]
  },
  {
   "cell_type": "code",
   "execution_count": 10,
   "id": "b7ae3231",
   "metadata": {},
   "outputs": [],
   "source": [
    "probs_tr = model.predict_proba(x_train_1)\n",
    "probs_val = model.predict_proba(x_val)"
   ]
  },
  {
   "cell_type": "code",
   "execution_count": 11,
   "id": "9ae5d6b5",
   "metadata": {},
   "outputs": [],
   "source": [
    "np.save(\"Preds/LGB_val\", probs_val)\n",
    "np.save(\"Preds/LGB_tr\", probs_tr)\n",
    "\n",
    "probs_test = model.predict_proba(x_test)\n",
    "np.save(\"Preds/LGB_test\", probs_test)"
   ]
  },
  {
   "cell_type": "code",
   "execution_count": null,
   "id": "588cb982",
   "metadata": {},
   "outputs": [],
   "source": []
  }
 ],
 "metadata": {
  "kernelspec": {
   "display_name": "Python 3 (ipykernel)",
   "language": "python",
   "name": "python3"
  },
  "language_info": {
   "codemirror_mode": {
    "name": "ipython",
    "version": 3
   },
   "file_extension": ".py",
   "mimetype": "text/x-python",
   "name": "python",
   "nbconvert_exporter": "python",
   "pygments_lexer": "ipython3",
   "version": "3.9.12"
  }
 },
 "nbformat": 4,
 "nbformat_minor": 5
}
