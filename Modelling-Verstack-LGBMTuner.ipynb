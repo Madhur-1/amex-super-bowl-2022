{
 "cells": [
  {
   "cell_type": "code",
   "execution_count": 1,
   "id": "031ee3bf",
   "metadata": {},
   "outputs": [
    {
     "name": "stderr",
     "output_type": "stream",
     "text": [
      "/home/jindalmadhur26/anaconda3/lib/python3.9/site-packages/xgboost/compat.py:36: FutureWarning: pandas.Int64Index is deprecated and will be removed from pandas in a future version. Use pandas.Index with the appropriate dtype instead.\n",
      "  from pandas import MultiIndex, Int64Index\n",
      "2022-10-11 08:56:34.747767: W tensorflow/stream_executor/platform/default/dso_loader.cc:64] Could not load dynamic library 'libcudart.so.11.0'; dlerror: libcudart.so.11.0: cannot open shared object file: No such file or directory\n",
      "2022-10-11 08:56:34.747828: I tensorflow/stream_executor/cuda/cudart_stub.cc:29] Ignore above cudart dlerror if you do not have a GPU set up on your machine.\n"
     ]
    }
   ],
   "source": [
    "import numpy as np\n",
    "import pandas as pd\n",
    "# library for splitting training-testing\n",
    "from sklearn.model_selection import train_test_split\n",
    "# library for classification\n",
    "from sklearn.metrics import accuracy_score\n",
    "\n",
    "import os\n",
    "os.environ['KMP_DUPLICATE_LIB_OK']='True'\n",
    "\n",
    "from verstack import LGBMTuner"
   ]
  },
  {
   "cell_type": "code",
   "execution_count": 2,
   "id": "46e886ae",
   "metadata": {},
   "outputs": [],
   "source": [
    "# x_train = pd.read_csv(\"Data/train_allx.csv\")\n",
    "# x_test = pd.read_csv(\"Data/val_allx.csv\")\n",
    "# x_train.drop('ID', axis=1 , inplace=True)\n",
    "# x_test.drop('ID', axis=1 , inplace=True)\n",
    "\n",
    "# x_train = pd.read_csv(\"Data/train_x_null<50_notImputed.csv\")\n",
    "# x_test = pd.read_csv(\"Data/test_x_null<50_notImputed.csv\")\n",
    "\n",
    "# x_train = pd.read_csv(\"Data/train__mean_mode_Imputed.csv\")\n",
    "# x_test = pd.read_csv(\"Data/test__mean_mode_Imputed.csv\")\n",
    "\n",
    "# x_train = pd.read_csv(\"Data/train__Mean_MissingIndicator_Imputed.csv\")\n",
    "# x_test = pd.read_csv(\"Data/test__Mean_MissingIndicator_Imputed.csv\")\n",
    "\n",
    "x_train = pd.read_feather(\"Data/x_train__IterativeImputer_genFeats.ftr\")\n",
    "x_test = pd.read_feather(\"Data/x_test__IterativeImputer_genFeats.ftr\")\n",
    "\n",
    "# x_train = pd.read_feather(\"Data/x_train__groupbyInputed.ftr\")\n",
    "# x_test = pd.read_feather(\"Data/x_test__groupbyInputed.ftr\")\n",
    "\n",
    "y_train = pd.read_csv(\"Data/train_y.csv\")\n",
    "y_test = pd.read_csv(\"Data/Sample_Output.csv\", names = ['ID', 'Target'], header=None)"
   ]
  },
  {
   "cell_type": "code",
   "execution_count": 3,
   "id": "a16f88b6",
   "metadata": {},
   "outputs": [],
   "source": [
    "# x_train = pd.get_dummies(x_train, columns=[\"D_36\", \"D_44\"], prefix=[\"D_36\", \"D_44\"], \n",
    "#                drop_first=True, dummy_na=True)\n",
    "\n",
    "# x_test = pd.get_dummies(x_test, columns=[\"D_36\", \"D_44\"], prefix=[\"D_36\", \"D_44\"], \n",
    "#                drop_first=True, dummy_na=True)"
   ]
  },
  {
   "cell_type": "markdown",
   "id": "787af36a",
   "metadata": {},
   "source": [
    "# LightGBM"
   ]
  },
  {
   "cell_type": "code",
   "execution_count": 4,
   "id": "096388d0",
   "metadata": {},
   "outputs": [],
   "source": [
    "categorical_feats = x_train.select_dtypes('object').columns.tolist()\n",
    "for c in categorical_feats:\n",
    "    x_train[c] = x_train[c].astype('category')\n",
    "#     x_val[c] = x_val[c].astype('category')\n",
    "    x_test[c] = x_test[c].astype('category')"
   ]
  },
  {
   "cell_type": "code",
   "execution_count": 5,
   "id": "64d1946d",
   "metadata": {},
   "outputs": [
    {
     "name": "stdout",
     "output_type": "stream",
     "text": [
      "Training lightgbm\n"
     ]
    }
   ],
   "source": [
    "import lightgbm as lgb\n",
    "print ('Training lightgbm')\n",
    "\n",
    "# money\n",
    "params = {\n",
    "          \"objective\" : \"multiclass\",\n",
    "          \"num_class\" : 4,\n",
    "          \"num_leaves\" : 100,\n",
    "          \"max_depth\": 8,\n",
    "          \"learning_rate\" : 0.01,\n",
    "          \"bagging_fraction\" : 0.9,  # subsample\n",
    "          \"feature_fraction\" : 0.9,  # colsample_bytree\n",
    "          \"bagging_freq\" : 5,        # subsample_freq\n",
    "          \"bagging_seed\" : 2018,\n",
    "          \"verbosity\" : -1,\n",
    "          \"metric\" : ['auc_mu', 'multi_logloss'],\n",
    "          \"min_data_in_leaf\" : 5000,\n",
    "#           'categorical_feature' : x_train.select_dtypes('object').columns.tolist(),\n",
    "#             'boosting' : 'dart',\n",
    "            'num_threads' : 8,\n",
    "#             'xgboost_dart_mode' : True,\n",
    "            'is_unbalance' : True,\n",
    "#             'class_weight' : 'balanced',\n",
    "            'n_estimators' : 500\n",
    "}"
   ]
  },
  {
   "cell_type": "code",
   "execution_count": null,
   "id": "98d1b996",
   "metadata": {},
   "outputs": [
    {
     "name": "stdout",
     "output_type": "stream",
     "text": [
      "\n",
      " * Initiating LGBMTuner.fit\n",
      "     . Settings:\n",
      "     .. Trying 100 trials\n",
      "     .. Evaluation metric: accuracy \n",
      "     .. Study direction: minimize log_loss\n",
      "\n",
      "     . Trial number: 0 finished\n",
      "     .. Optimization score (lower-better): log_loss: 0.45087629180330663\n",
      "     .. Evaluation score (greater-better): accuracy: 0.8168117912646323\n",
      " ...........................................................................\n",
      "     . Trial number: 1 finished\n",
      "     .. Optimization score (lower-better): log_loss: 0.4507632636836059\n",
      "     .. Evaluation score (greater-better): accuracy: 0.8169163855694724\n",
      " ...........................................................................\n",
      "     . Trial number: 2 finished\n",
      "     .. Optimization score (lower-better): log_loss: 0.4543454486854394\n",
      "     .. Evaluation score (greater-better): accuracy: 0.8162626711642218\n",
      " ...........................................................................\n",
      "     . Trial number: 3 finished\n",
      "     .. Optimization score (lower-better): log_loss: 0.4521429962779109\n",
      "     .. Evaluation score (greater-better): accuracy: 0.8171168579870826\n",
      " ...........................................................................\n",
      "     . Trial number: 4 finished\n",
      "     .. Optimization score (lower-better): log_loss: 0.4578495643408114\n",
      "     .. Evaluation score (greater-better): accuracy: 0.813438624933539\n",
      " ...........................................................................\n",
      "     . Trial number: 13 finished\n",
      "     .. Optimization score (lower-better): log_loss: 0.45179031717908646\n",
      "     .. Evaluation score (greater-better): accuracy: 0.8173609113650429\n",
      " ...........................................................................\n",
      "     . Trial number: 22 finished\n",
      "     .. Optimization score (lower-better): log_loss: 0.4518075604712468\n",
      "     .. Evaluation score (greater-better): accuracy: 0.8162016578197318\n",
      " ...........................................................................\n",
      "     . Trial number: 28 finished\n",
      "     .. Optimization score (lower-better): log_loss: 0.45151935324170467\n",
      "     .. Evaluation score (greater-better): accuracy: 0.8163498330849218\n",
      " ...........................................................................\n",
      "     . Trial number: 56 finished\n",
      "     .. Optimization score (lower-better): log_loss: 0.4517177527602754\n",
      "     .. Evaluation score (greater-better): accuracy: 0.8158094291765813\n",
      " ...........................................................................\n",
      "     . Trial number: 69 finished\n",
      "     .. Optimization score (lower-better): log_loss: 0.45162443689727744\n",
      "     .. Evaluation score (greater-better): accuracy: 0.8157745644083013\n",
      " ...........................................................................\n",
      "     . Trial number: 70 finished\n",
      "     .. Optimization score (lower-better): log_loss: 0.4517559935588034\n",
      "     .. Evaluation score (greater-better): accuracy: 0.8160534825545416\n",
      " ...........................................................................\n"
     ]
    }
   ],
   "source": [
    "tuner = LGBMTuner(metric='accuracy', trials=100, )\n",
    "tuner.fit(x_train, y_train['Default_Flag'])"
   ]
  },
  {
   "cell_type": "code",
   "execution_count": null,
   "id": "72d4ba5b",
   "metadata": {},
   "outputs": [],
   "source": [
    "tuner.plot_importances()"
   ]
  },
  {
   "cell_type": "code",
   "execution_count": null,
   "id": "999e296d",
   "metadata": {},
   "outputs": [],
   "source": [
    "tuner.plot_intermediate_values()"
   ]
  },
  {
   "cell_type": "code",
   "execution_count": null,
   "id": "e3bc22e6",
   "metadata": {},
   "outputs": [],
   "source": [
    "tuner.plot_optimization_history()"
   ]
  },
  {
   "cell_type": "code",
   "execution_count": null,
   "id": "947b8460",
   "metadata": {},
   "outputs": [],
   "source": [
    "tuner.plot_param_importances()"
   ]
  },
  {
   "cell_type": "code",
   "execution_count": null,
   "id": "6181ed2b",
   "metadata": {},
   "outputs": [],
   "source": [
    "tuner.init_params"
   ]
  },
  {
   "cell_type": "code",
   "execution_count": null,
   "id": "dceb51f1",
   "metadata": {},
   "outputs": [],
   "source": [
    "tuner.best_params"
   ]
  },
  {
   "cell_type": "code",
   "execution_count": null,
   "id": "d0309c0a",
   "metadata": {},
   "outputs": [],
   "source": []
  }
 ],
 "metadata": {
  "kernelspec": {
   "display_name": "Python 3 (ipykernel)",
   "language": "python",
   "name": "python3"
  },
  "language_info": {
   "codemirror_mode": {
    "name": "ipython",
    "version": 3
   },
   "file_extension": ".py",
   "mimetype": "text/x-python",
   "name": "python",
   "nbconvert_exporter": "python",
   "pygments_lexer": "ipython3",
   "version": "3.9.12"
  }
 },
 "nbformat": 4,
 "nbformat_minor": 5
}
